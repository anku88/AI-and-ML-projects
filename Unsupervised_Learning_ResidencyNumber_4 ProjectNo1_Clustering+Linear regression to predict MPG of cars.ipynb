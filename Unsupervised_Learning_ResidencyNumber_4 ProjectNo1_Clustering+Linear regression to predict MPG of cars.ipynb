{
 "cells": [
  {
   "cell_type": "markdown",
   "metadata": {},
   "source": [
    "# Clustering & Linear regression for MPG on clusters thus formed."
   ]
  },
  {
   "cell_type": "markdown",
   "metadata": {},
   "source": [
    "#### Importing neccesary libraries."
   ]
  },
  {
   "cell_type": "code",
   "execution_count": 1,
   "metadata": {},
   "outputs": [],
   "source": [
    "import warnings\n",
    "warnings.filterwarnings('ignore')"
   ]
  },
  {
   "cell_type": "code",
   "execution_count": 2,
   "metadata": {},
   "outputs": [],
   "source": [
    "import pandas as pd\n",
    "import numpy as np\n",
    "import matplotlib.pyplot as plt\n",
    "%matplotlib inline\n",
    "import seaborn as sns"
   ]
  },
  {
   "cell_type": "markdown",
   "metadata": {},
   "source": [
    "## Reading & Cleaning of Data"
   ]
  },
  {
   "cell_type": "code",
   "execution_count": 3,
   "metadata": {},
   "outputs": [
    {
     "data": {
      "text/html": [
       "<div>\n",
       "<style scoped>\n",
       "    .dataframe tbody tr th:only-of-type {\n",
       "        vertical-align: middle;\n",
       "    }\n",
       "\n",
       "    .dataframe tbody tr th {\n",
       "        vertical-align: top;\n",
       "    }\n",
       "\n",
       "    .dataframe thead th {\n",
       "        text-align: right;\n",
       "    }\n",
       "</style>\n",
       "<table border=\"1\" class=\"dataframe\">\n",
       "  <thead>\n",
       "    <tr style=\"text-align: right;\">\n",
       "      <th></th>\n",
       "      <th>car name</th>\n",
       "      <th>cyl</th>\n",
       "      <th>disp</th>\n",
       "      <th>hp</th>\n",
       "      <th>wt</th>\n",
       "      <th>acc</th>\n",
       "      <th>yr</th>\n",
       "      <th>mpg</th>\n",
       "    </tr>\n",
       "  </thead>\n",
       "  <tbody>\n",
       "    <tr>\n",
       "      <td>369</td>\n",
       "      <td>chevrolet cavalier 2-door</td>\n",
       "      <td>4</td>\n",
       "      <td>112.0</td>\n",
       "      <td>88</td>\n",
       "      <td>2395</td>\n",
       "      <td>18.0</td>\n",
       "      <td>82</td>\n",
       "      <td>34.0</td>\n",
       "    </tr>\n",
       "    <tr>\n",
       "      <td>226</td>\n",
       "      <td>buick skylark</td>\n",
       "      <td>6</td>\n",
       "      <td>231.0</td>\n",
       "      <td>105</td>\n",
       "      <td>3425</td>\n",
       "      <td>16.9</td>\n",
       "      <td>77</td>\n",
       "      <td>20.5</td>\n",
       "    </tr>\n",
       "    <tr>\n",
       "      <td>96</td>\n",
       "      <td>amc ambassador brougham</td>\n",
       "      <td>8</td>\n",
       "      <td>360.0</td>\n",
       "      <td>175</td>\n",
       "      <td>3821</td>\n",
       "      <td>11.0</td>\n",
       "      <td>73</td>\n",
       "      <td>13.0</td>\n",
       "    </tr>\n",
       "    <tr>\n",
       "      <td>252</td>\n",
       "      <td>pontiac phoenix lj</td>\n",
       "      <td>6</td>\n",
       "      <td>231.0</td>\n",
       "      <td>105</td>\n",
       "      <td>3535</td>\n",
       "      <td>19.2</td>\n",
       "      <td>78</td>\n",
       "      <td>19.2</td>\n",
       "    </tr>\n",
       "    <tr>\n",
       "      <td>316</td>\n",
       "      <td>dodge aspen</td>\n",
       "      <td>6</td>\n",
       "      <td>225.0</td>\n",
       "      <td>90</td>\n",
       "      <td>3381</td>\n",
       "      <td>18.7</td>\n",
       "      <td>80</td>\n",
       "      <td>19.1</td>\n",
       "    </tr>\n",
       "    <tr>\n",
       "      <td>227</td>\n",
       "      <td>plymouth volare custom</td>\n",
       "      <td>6</td>\n",
       "      <td>225.0</td>\n",
       "      <td>100</td>\n",
       "      <td>3630</td>\n",
       "      <td>17.7</td>\n",
       "      <td>77</td>\n",
       "      <td>19.0</td>\n",
       "    </tr>\n",
       "    <tr>\n",
       "      <td>164</td>\n",
       "      <td>buick skyhawk</td>\n",
       "      <td>6</td>\n",
       "      <td>231.0</td>\n",
       "      <td>110</td>\n",
       "      <td>3039</td>\n",
       "      <td>15.0</td>\n",
       "      <td>75</td>\n",
       "      <td>21.0</td>\n",
       "    </tr>\n",
       "    <tr>\n",
       "      <td>324</td>\n",
       "      <td>datsun 210</td>\n",
       "      <td>4</td>\n",
       "      <td>85.0</td>\n",
       "      <td>65</td>\n",
       "      <td>2110</td>\n",
       "      <td>19.2</td>\n",
       "      <td>80</td>\n",
       "      <td>40.8</td>\n",
       "    </tr>\n",
       "    <tr>\n",
       "      <td>108</td>\n",
       "      <td>toyota carina</td>\n",
       "      <td>4</td>\n",
       "      <td>97.0</td>\n",
       "      <td>88</td>\n",
       "      <td>2279</td>\n",
       "      <td>19.0</td>\n",
       "      <td>73</td>\n",
       "      <td>20.0</td>\n",
       "    </tr>\n",
       "    <tr>\n",
       "      <td>145</td>\n",
       "      <td>datsun 710</td>\n",
       "      <td>4</td>\n",
       "      <td>83.0</td>\n",
       "      <td>61</td>\n",
       "      <td>2003</td>\n",
       "      <td>19.0</td>\n",
       "      <td>74</td>\n",
       "      <td>32.0</td>\n",
       "    </tr>\n",
       "  </tbody>\n",
       "</table>\n",
       "</div>"
      ],
      "text/plain": [
       "                      car name  cyl   disp   hp    wt   acc  yr   mpg\n",
       "369  chevrolet cavalier 2-door    4  112.0   88  2395  18.0  82  34.0\n",
       "226              buick skylark    6  231.0  105  3425  16.9  77  20.5\n",
       "96     amc ambassador brougham    8  360.0  175  3821  11.0  73  13.0\n",
       "252         pontiac phoenix lj    6  231.0  105  3535  19.2  78  19.2\n",
       "316                dodge aspen    6  225.0   90  3381  18.7  80  19.1\n",
       "227     plymouth volare custom    6  225.0  100  3630  17.7  77  19.0\n",
       "164              buick skyhawk    6  231.0  110  3039  15.0  75  21.0\n",
       "324                 datsun 210    4   85.0   65  2110  19.2  80  40.8\n",
       "108              toyota carina    4   97.0   88  2279  19.0  73  20.0\n",
       "145                 datsun 710    4   83.0   61  2003  19.0  74  32.0"
      ]
     },
     "execution_count": 3,
     "metadata": {},
     "output_type": "execute_result"
    }
   ],
   "source": [
    "df = pd.read_csv('cars-dataset.csv')\n",
    "df.sample(10)"
   ]
  },
  {
   "cell_type": "markdown",
   "metadata": {},
   "source": [
    "#### Checking shape,data type and missing values as well as special characters."
   ]
  },
  {
   "cell_type": "code",
   "execution_count": 4,
   "metadata": {},
   "outputs": [
    {
     "name": "stdout",
     "output_type": "stream",
     "text": [
      "<class 'pandas.core.frame.DataFrame'>\n",
      "RangeIndex: 398 entries, 0 to 397\n",
      "Data columns (total 8 columns):\n",
      "car name    398 non-null object\n",
      "cyl         398 non-null int64\n",
      "disp        398 non-null float64\n",
      "hp          398 non-null object\n",
      "wt          398 non-null int64\n",
      "acc         398 non-null float64\n",
      "yr          398 non-null int64\n",
      "mpg         398 non-null float64\n",
      "dtypes: float64(3), int64(3), object(2)\n",
      "memory usage: 25.0+ KB\n"
     ]
    }
   ],
   "source": [
    "df.info()"
   ]
  },
  {
   "cell_type": "markdown",
   "metadata": {},
   "source": [
    "\n",
    "I have tried to change the object type of hp to int,but it has thrown error which means there are special charatcers in this specific column which needed to be impute/drop first before converting the column to int type.\n",
    "#### Treating special characters & other issues and changing 'HP' column to int type\n"
   ]
  },
  {
   "cell_type": "code",
   "execution_count": 5,
   "metadata": {},
   "outputs": [
    {
     "data": {
      "text/plain": [
       "dtype('O')"
      ]
     },
     "execution_count": 5,
     "metadata": {},
     "output_type": "execute_result"
    }
   ],
   "source": [
    "df['hp'].dtypes"
   ]
  },
  {
   "cell_type": "markdown",
   "metadata": {},
   "source": [
    "Checking special characters"
   ]
  },
  {
   "cell_type": "code",
   "execution_count": 6,
   "metadata": {},
   "outputs": [
    {
     "data": {
      "text/plain": [
       "array(['130', '165', '150', '140', '198', '220', '215', '225', '190',\n",
       "       '170', '160', '95', '97', '85', '88', '46', '87', '90', '113',\n",
       "       '200', '210', '193', '?', '100', '105', '175', '153', '180', '110',\n",
       "       '72', '86', '70', '76', '65', '69', '60', '80', '54', '208', '155',\n",
       "       '112', '92', '145', '137', '158', '167', '94', '107', '230', '49',\n",
       "       '75', '91', '122', '67', '83', '78', '52', '61', '93', '148',\n",
       "       '129', '96', '71', '98', '115', '53', '81', '79', '120', '152',\n",
       "       '102', '108', '68', '58', '149', '89', '63', '48', '66', '139',\n",
       "       '103', '125', '133', '138', '135', '142', '77', '62', '132', '84',\n",
       "       '64', '74', '116', '82'], dtype=object)"
      ]
     },
     "execution_count": 6,
     "metadata": {},
     "output_type": "execute_result"
    }
   ],
   "source": [
    "df['hp'].unique()"
   ]
  },
  {
   "cell_type": "code",
   "execution_count": 7,
   "metadata": {},
   "outputs": [
    {
     "data": {
      "text/plain": [
       "Index(['car name', 'cyl', 'disp', 'hp', 'wt', 'acc', 'yr', 'mpg'], dtype='object')"
      ]
     },
     "execution_count": 7,
     "metadata": {},
     "output_type": "execute_result"
    }
   ],
   "source": [
    "df.columns"
   ]
  },
  {
   "cell_type": "markdown",
   "metadata": {},
   "source": [
    "#### checking no. of special characters and corrosponding rows."
   ]
  },
  {
   "cell_type": "code",
   "execution_count": 8,
   "metadata": {},
   "outputs": [
    {
     "data": {
      "text/html": [
       "<div>\n",
       "<style scoped>\n",
       "    .dataframe tbody tr th:only-of-type {\n",
       "        vertical-align: middle;\n",
       "    }\n",
       "\n",
       "    .dataframe tbody tr th {\n",
       "        vertical-align: top;\n",
       "    }\n",
       "\n",
       "    .dataframe thead th {\n",
       "        text-align: right;\n",
       "    }\n",
       "</style>\n",
       "<table border=\"1\" class=\"dataframe\">\n",
       "  <thead>\n",
       "    <tr style=\"text-align: right;\">\n",
       "      <th></th>\n",
       "      <th>hp</th>\n",
       "      <th>car name</th>\n",
       "      <th>cyl</th>\n",
       "      <th>wt</th>\n",
       "      <th>mpg</th>\n",
       "      <th>disp</th>\n",
       "      <th>acc</th>\n",
       "    </tr>\n",
       "  </thead>\n",
       "  <tbody>\n",
       "    <tr>\n",
       "      <td>32</td>\n",
       "      <td>?</td>\n",
       "      <td>ford pinto</td>\n",
       "      <td>4</td>\n",
       "      <td>2046</td>\n",
       "      <td>25.0</td>\n",
       "      <td>98.0</td>\n",
       "      <td>19.0</td>\n",
       "    </tr>\n",
       "    <tr>\n",
       "      <td>126</td>\n",
       "      <td>?</td>\n",
       "      <td>ford maverick</td>\n",
       "      <td>6</td>\n",
       "      <td>2875</td>\n",
       "      <td>21.0</td>\n",
       "      <td>200.0</td>\n",
       "      <td>17.0</td>\n",
       "    </tr>\n",
       "    <tr>\n",
       "      <td>330</td>\n",
       "      <td>?</td>\n",
       "      <td>renault lecar deluxe</td>\n",
       "      <td>4</td>\n",
       "      <td>1835</td>\n",
       "      <td>40.9</td>\n",
       "      <td>85.0</td>\n",
       "      <td>17.3</td>\n",
       "    </tr>\n",
       "    <tr>\n",
       "      <td>336</td>\n",
       "      <td>?</td>\n",
       "      <td>ford mustang cobra</td>\n",
       "      <td>4</td>\n",
       "      <td>2905</td>\n",
       "      <td>23.6</td>\n",
       "      <td>140.0</td>\n",
       "      <td>14.3</td>\n",
       "    </tr>\n",
       "    <tr>\n",
       "      <td>354</td>\n",
       "      <td>?</td>\n",
       "      <td>renault 18i</td>\n",
       "      <td>4</td>\n",
       "      <td>2320</td>\n",
       "      <td>34.5</td>\n",
       "      <td>100.0</td>\n",
       "      <td>15.8</td>\n",
       "    </tr>\n",
       "    <tr>\n",
       "      <td>374</td>\n",
       "      <td>?</td>\n",
       "      <td>amc concord dl</td>\n",
       "      <td>4</td>\n",
       "      <td>3035</td>\n",
       "      <td>23.0</td>\n",
       "      <td>151.0</td>\n",
       "      <td>20.5</td>\n",
       "    </tr>\n",
       "  </tbody>\n",
       "</table>\n",
       "</div>"
      ],
      "text/plain": [
       "    hp              car name  cyl    wt   mpg   disp   acc\n",
       "32   ?            ford pinto    4  2046  25.0   98.0  19.0\n",
       "126  ?         ford maverick    6  2875  21.0  200.0  17.0\n",
       "330  ?  renault lecar deluxe    4  1835  40.9   85.0  17.3\n",
       "336  ?    ford mustang cobra    4  2905  23.6  140.0  14.3\n",
       "354  ?           renault 18i    4  2320  34.5  100.0  15.8\n",
       "374  ?        amc concord dl    4  3035  23.0  151.0  20.5"
      ]
     },
     "execution_count": 8,
     "metadata": {},
     "output_type": "execute_result"
    }
   ],
   "source": [
    "df[df['hp']=='?'][['hp','car name', 'cyl','wt','mpg','disp','acc']]"
   ]
  },
  {
   "cell_type": "markdown",
   "metadata": {},
   "source": [
    "#### Imputation/Dropping"
   ]
  },
  {
   "cell_type": "code",
   "execution_count": 9,
   "metadata": {},
   "outputs": [
    {
     "data": {
      "text/html": [
       "<div>\n",
       "<style scoped>\n",
       "    .dataframe tbody tr th:only-of-type {\n",
       "        vertical-align: middle;\n",
       "    }\n",
       "\n",
       "    .dataframe tbody tr th {\n",
       "        vertical-align: top;\n",
       "    }\n",
       "\n",
       "    .dataframe thead th {\n",
       "        text-align: right;\n",
       "    }\n",
       "</style>\n",
       "<table border=\"1\" class=\"dataframe\">\n",
       "  <thead>\n",
       "    <tr style=\"text-align: right;\">\n",
       "      <th></th>\n",
       "      <th>hp</th>\n",
       "      <th>car name</th>\n",
       "      <th>cyl</th>\n",
       "      <th>wt</th>\n",
       "      <th>mpg</th>\n",
       "      <th>disp</th>\n",
       "      <th>acc</th>\n",
       "    </tr>\n",
       "  </thead>\n",
       "  <tbody>\n",
       "    <tr>\n",
       "      <td>32</td>\n",
       "      <td>?</td>\n",
       "      <td>ford pinto</td>\n",
       "      <td>4</td>\n",
       "      <td>2046</td>\n",
       "      <td>25.0</td>\n",
       "      <td>98.0</td>\n",
       "      <td>19.0</td>\n",
       "    </tr>\n",
       "    <tr>\n",
       "      <td>112</td>\n",
       "      <td>85</td>\n",
       "      <td>ford pinto</td>\n",
       "      <td>4</td>\n",
       "      <td>2310</td>\n",
       "      <td>19.0</td>\n",
       "      <td>122.0</td>\n",
       "      <td>18.5</td>\n",
       "    </tr>\n",
       "    <tr>\n",
       "      <td>130</td>\n",
       "      <td>80</td>\n",
       "      <td>ford pinto</td>\n",
       "      <td>4</td>\n",
       "      <td>2451</td>\n",
       "      <td>26.0</td>\n",
       "      <td>122.0</td>\n",
       "      <td>16.5</td>\n",
       "    </tr>\n",
       "    <tr>\n",
       "      <td>168</td>\n",
       "      <td>83</td>\n",
       "      <td>ford pinto</td>\n",
       "      <td>4</td>\n",
       "      <td>2639</td>\n",
       "      <td>23.0</td>\n",
       "      <td>140.0</td>\n",
       "      <td>17.0</td>\n",
       "    </tr>\n",
       "    <tr>\n",
       "      <td>174</td>\n",
       "      <td>97</td>\n",
       "      <td>ford pinto</td>\n",
       "      <td>6</td>\n",
       "      <td>2984</td>\n",
       "      <td>18.0</td>\n",
       "      <td>171.0</td>\n",
       "      <td>14.5</td>\n",
       "    </tr>\n",
       "    <tr>\n",
       "      <td>206</td>\n",
       "      <td>72</td>\n",
       "      <td>ford pinto</td>\n",
       "      <td>4</td>\n",
       "      <td>2565</td>\n",
       "      <td>26.5</td>\n",
       "      <td>140.0</td>\n",
       "      <td>13.6</td>\n",
       "    </tr>\n",
       "  </tbody>\n",
       "</table>\n",
       "</div>"
      ],
      "text/plain": [
       "     hp    car name  cyl    wt   mpg   disp   acc\n",
       "32    ?  ford pinto    4  2046  25.0   98.0  19.0\n",
       "112  85  ford pinto    4  2310  19.0  122.0  18.5\n",
       "130  80  ford pinto    4  2451  26.0  122.0  16.5\n",
       "168  83  ford pinto    4  2639  23.0  140.0  17.0\n",
       "174  97  ford pinto    6  2984  18.0  171.0  14.5\n",
       "206  72  ford pinto    4  2565  26.5  140.0  13.6"
      ]
     },
     "execution_count": 9,
     "metadata": {},
     "output_type": "execute_result"
    }
   ],
   "source": [
    "df[df['car name']=='ford pinto'][['hp','car name', 'cyl','wt','mpg','disp','acc']]"
   ]
  },
  {
   "cell_type": "markdown",
   "metadata": {},
   "source": [
    "Since the values for this particular instance is high mpg ,lower weight and 4 cylinders ,the most appropriate imputing value as per given data for the missing value should be min of ford pinto cars i.e. 72.The resason for the same is, lower weight ,high mpg and low count of cylinders is characterstic for small cars with small HP usually."
   ]
  },
  {
   "cell_type": "code",
   "execution_count": 10,
   "metadata": {},
   "outputs": [
    {
     "name": "stdout",
     "output_type": "stream",
     "text": [
      "?\n"
     ]
    },
    {
     "data": {
      "text/plain": [
       "72"
      ]
     },
     "execution_count": 10,
     "metadata": {},
     "output_type": "execute_result"
    }
   ],
   "source": [
    "print(df.loc[32,'hp'])\n",
    "df.loc[32,'hp']=72 \n",
    "df.loc[32,'hp']"
   ]
  },
  {
   "cell_type": "code",
   "execution_count": 11,
   "metadata": {},
   "outputs": [
    {
     "data": {
      "text/html": [
       "<div>\n",
       "<style scoped>\n",
       "    .dataframe tbody tr th:only-of-type {\n",
       "        vertical-align: middle;\n",
       "    }\n",
       "\n",
       "    .dataframe tbody tr th {\n",
       "        vertical-align: top;\n",
       "    }\n",
       "\n",
       "    .dataframe thead th {\n",
       "        text-align: right;\n",
       "    }\n",
       "</style>\n",
       "<table border=\"1\" class=\"dataframe\">\n",
       "  <thead>\n",
       "    <tr style=\"text-align: right;\">\n",
       "      <th></th>\n",
       "      <th>hp</th>\n",
       "      <th>car name</th>\n",
       "      <th>cyl</th>\n",
       "      <th>wt</th>\n",
       "      <th>mpg</th>\n",
       "      <th>disp</th>\n",
       "      <th>acc</th>\n",
       "    </tr>\n",
       "  </thead>\n",
       "  <tbody>\n",
       "    <tr>\n",
       "      <td>17</td>\n",
       "      <td>85</td>\n",
       "      <td>ford maverick</td>\n",
       "      <td>6</td>\n",
       "      <td>2587</td>\n",
       "      <td>21.0</td>\n",
       "      <td>200.0</td>\n",
       "      <td>16.0</td>\n",
       "    </tr>\n",
       "    <tr>\n",
       "      <td>100</td>\n",
       "      <td>88</td>\n",
       "      <td>ford maverick</td>\n",
       "      <td>6</td>\n",
       "      <td>3021</td>\n",
       "      <td>18.0</td>\n",
       "      <td>250.0</td>\n",
       "      <td>16.5</td>\n",
       "    </tr>\n",
       "    <tr>\n",
       "      <td>126</td>\n",
       "      <td>?</td>\n",
       "      <td>ford maverick</td>\n",
       "      <td>6</td>\n",
       "      <td>2875</td>\n",
       "      <td>21.0</td>\n",
       "      <td>200.0</td>\n",
       "      <td>17.0</td>\n",
       "    </tr>\n",
       "    <tr>\n",
       "      <td>155</td>\n",
       "      <td>72</td>\n",
       "      <td>ford maverick</td>\n",
       "      <td>6</td>\n",
       "      <td>3158</td>\n",
       "      <td>15.0</td>\n",
       "      <td>250.0</td>\n",
       "      <td>19.5</td>\n",
       "    </tr>\n",
       "    <tr>\n",
       "      <td>193</td>\n",
       "      <td>81</td>\n",
       "      <td>ford maverick</td>\n",
       "      <td>6</td>\n",
       "      <td>3012</td>\n",
       "      <td>24.0</td>\n",
       "      <td>200.0</td>\n",
       "      <td>17.6</td>\n",
       "    </tr>\n",
       "  </tbody>\n",
       "</table>\n",
       "</div>"
      ],
      "text/plain": [
       "     hp       car name  cyl    wt   mpg   disp   acc\n",
       "17   85  ford maverick    6  2587  21.0  200.0  16.0\n",
       "100  88  ford maverick    6  3021  18.0  250.0  16.5\n",
       "126   ?  ford maverick    6  2875  21.0  200.0  17.0\n",
       "155  72  ford maverick    6  3158  15.0  250.0  19.5\n",
       "193  81  ford maverick    6  3012  24.0  200.0  17.6"
      ]
     },
     "execution_count": 11,
     "metadata": {},
     "output_type": "execute_result"
    }
   ],
   "source": [
    "df[df['car name']=='ford maverick'][['hp','car name', 'cyl','wt','mpg','disp','acc']]"
   ]
  },
  {
   "cell_type": "markdown",
   "metadata": {},
   "source": [
    "Since the values for this particular instance is high mpg medium weight and 6 cylinders ,the most appropriate imputing value as per given data for the missing value should be median of ford pinto cars i.e. 83.The resason for the same is, medium weight ,high mpg and low count of cylinders are characterstics of medium cars with medium HP usually.Moreover comparing with other values mentioned in data for this specific brand and cylinder numbers as well as weight median seem to be appropriate."
   ]
  },
  {
   "cell_type": "code",
   "execution_count": 12,
   "metadata": {},
   "outputs": [
    {
     "name": "stdout",
     "output_type": "stream",
     "text": [
      "?\n"
     ]
    },
    {
     "data": {
      "text/plain": [
       "83"
      ]
     },
     "execution_count": 12,
     "metadata": {},
     "output_type": "execute_result"
    }
   ],
   "source": [
    "print(df.loc[126,'hp'])\n",
    "df.loc[126,'hp']=83 \n",
    "df.loc[126,'hp']"
   ]
  },
  {
   "cell_type": "code",
   "execution_count": 13,
   "metadata": {},
   "outputs": [
    {
     "data": {
      "text/html": [
       "<div>\n",
       "<style scoped>\n",
       "    .dataframe tbody tr th:only-of-type {\n",
       "        vertical-align: middle;\n",
       "    }\n",
       "\n",
       "    .dataframe tbody tr th {\n",
       "        vertical-align: top;\n",
       "    }\n",
       "\n",
       "    .dataframe thead th {\n",
       "        text-align: right;\n",
       "    }\n",
       "</style>\n",
       "<table border=\"1\" class=\"dataframe\">\n",
       "  <thead>\n",
       "    <tr style=\"text-align: right;\">\n",
       "      <th></th>\n",
       "      <th>hp</th>\n",
       "      <th>car name</th>\n",
       "      <th>cyl</th>\n",
       "      <th>wt</th>\n",
       "      <th>mpg</th>\n",
       "      <th>disp</th>\n",
       "      <th>acc</th>\n",
       "    </tr>\n",
       "  </thead>\n",
       "  <tbody>\n",
       "    <tr>\n",
       "      <td>330</td>\n",
       "      <td>?</td>\n",
       "      <td>renault lecar deluxe</td>\n",
       "      <td>4</td>\n",
       "      <td>1835</td>\n",
       "      <td>40.9</td>\n",
       "      <td>85.0</td>\n",
       "      <td>17.3</td>\n",
       "    </tr>\n",
       "  </tbody>\n",
       "</table>\n",
       "</div>"
      ],
      "text/plain": [
       "    hp              car name  cyl    wt   mpg  disp   acc\n",
       "330  ?  renault lecar deluxe    4  1835  40.9  85.0  17.3"
      ]
     },
     "execution_count": 13,
     "metadata": {},
     "output_type": "execute_result"
    }
   ],
   "source": [
    "df[df['car name']=='renault lecar deluxe'][['hp','car name', 'cyl','wt','mpg','disp','acc']]"
   ]
  },
  {
   "cell_type": "code",
   "execution_count": 14,
   "metadata": {},
   "outputs": [
    {
     "data": {
      "text/html": [
       "<div>\n",
       "<style scoped>\n",
       "    .dataframe tbody tr th:only-of-type {\n",
       "        vertical-align: middle;\n",
       "    }\n",
       "\n",
       "    .dataframe tbody tr th {\n",
       "        vertical-align: top;\n",
       "    }\n",
       "\n",
       "    .dataframe thead th {\n",
       "        text-align: right;\n",
       "    }\n",
       "</style>\n",
       "<table border=\"1\" class=\"dataframe\">\n",
       "  <thead>\n",
       "    <tr style=\"text-align: right;\">\n",
       "      <th></th>\n",
       "      <th>hp</th>\n",
       "      <th>car name</th>\n",
       "      <th>cyl</th>\n",
       "      <th>wt</th>\n",
       "      <th>mpg</th>\n",
       "      <th>disp</th>\n",
       "      <th>acc</th>\n",
       "    </tr>\n",
       "  </thead>\n",
       "  <tbody>\n",
       "    <tr>\n",
       "      <td>244</td>\n",
       "      <td>48</td>\n",
       "      <td>volkswagen rabbit custom diesel</td>\n",
       "      <td>4</td>\n",
       "      <td>1985</td>\n",
       "      <td>43.1</td>\n",
       "      <td>90.0</td>\n",
       "      <td>21.5</td>\n",
       "    </tr>\n",
       "    <tr>\n",
       "      <td>322</td>\n",
       "      <td>65</td>\n",
       "      <td>mazda glc</td>\n",
       "      <td>4</td>\n",
       "      <td>2110</td>\n",
       "      <td>46.6</td>\n",
       "      <td>86.0</td>\n",
       "      <td>17.9</td>\n",
       "    </tr>\n",
       "    <tr>\n",
       "      <td>324</td>\n",
       "      <td>65</td>\n",
       "      <td>datsun 210</td>\n",
       "      <td>4</td>\n",
       "      <td>2110</td>\n",
       "      <td>40.8</td>\n",
       "      <td>85.0</td>\n",
       "      <td>19.2</td>\n",
       "    </tr>\n",
       "    <tr>\n",
       "      <td>325</td>\n",
       "      <td>48</td>\n",
       "      <td>vw rabbit c (diesel)</td>\n",
       "      <td>4</td>\n",
       "      <td>2085</td>\n",
       "      <td>44.3</td>\n",
       "      <td>90.0</td>\n",
       "      <td>21.7</td>\n",
       "    </tr>\n",
       "    <tr>\n",
       "      <td>326</td>\n",
       "      <td>48</td>\n",
       "      <td>vw dasher (diesel)</td>\n",
       "      <td>4</td>\n",
       "      <td>2335</td>\n",
       "      <td>43.4</td>\n",
       "      <td>90.0</td>\n",
       "      <td>23.7</td>\n",
       "    </tr>\n",
       "    <tr>\n",
       "      <td>330</td>\n",
       "      <td>?</td>\n",
       "      <td>renault lecar deluxe</td>\n",
       "      <td>4</td>\n",
       "      <td>1835</td>\n",
       "      <td>40.9</td>\n",
       "      <td>85.0</td>\n",
       "      <td>17.3</td>\n",
       "    </tr>\n",
       "    <tr>\n",
       "      <td>394</td>\n",
       "      <td>52</td>\n",
       "      <td>vw pickup</td>\n",
       "      <td>4</td>\n",
       "      <td>2130</td>\n",
       "      <td>44.0</td>\n",
       "      <td>97.0</td>\n",
       "      <td>24.6</td>\n",
       "    </tr>\n",
       "  </tbody>\n",
       "</table>\n",
       "</div>"
      ],
      "text/plain": [
       "     hp                         car name  cyl    wt   mpg  disp   acc\n",
       "244  48  volkswagen rabbit custom diesel    4  1985  43.1  90.0  21.5\n",
       "322  65                        mazda glc    4  2110  46.6  86.0  17.9\n",
       "324  65                       datsun 210    4  2110  40.8  85.0  19.2\n",
       "325  48             vw rabbit c (diesel)    4  2085  44.3  90.0  21.7\n",
       "326  48               vw dasher (diesel)    4  2335  43.4  90.0  23.7\n",
       "330   ?             renault lecar deluxe    4  1835  40.9  85.0  17.3\n",
       "394  52                        vw pickup    4  2130  44.0  97.0  24.6"
      ]
     },
     "execution_count": 14,
     "metadata": {},
     "output_type": "execute_result"
    }
   ],
   "source": [
    "df[(df['cyl'] == 4) & (df['wt']>=1800)& (df['mpg']>=40)&(df['disp']>=84)&(df['acc']>=17)][['hp','car name', 'cyl','wt','mpg','disp','acc']]"
   ]
  },
  {
   "cell_type": "markdown",
   "metadata": {},
   "source": [
    "Going by the weight more than 1800,mpg greater than 40 and 4 cylinders ,disp of 85, and acceleration about 17,the nearest value is 65."
   ]
  },
  {
   "cell_type": "code",
   "execution_count": 15,
   "metadata": {},
   "outputs": [
    {
     "name": "stdout",
     "output_type": "stream",
     "text": [
      "?\n"
     ]
    },
    {
     "data": {
      "text/plain": [
       "65"
      ]
     },
     "execution_count": 15,
     "metadata": {},
     "output_type": "execute_result"
    }
   ],
   "source": [
    "print(df.loc[330,'hp'])\n",
    "df.loc[330,'hp']=65 \n",
    "df.loc[330,'hp']"
   ]
  },
  {
   "cell_type": "code",
   "execution_count": 16,
   "metadata": {},
   "outputs": [
    {
     "data": {
      "text/html": [
       "<div>\n",
       "<style scoped>\n",
       "    .dataframe tbody tr th:only-of-type {\n",
       "        vertical-align: middle;\n",
       "    }\n",
       "\n",
       "    .dataframe tbody tr th {\n",
       "        vertical-align: top;\n",
       "    }\n",
       "\n",
       "    .dataframe thead th {\n",
       "        text-align: right;\n",
       "    }\n",
       "</style>\n",
       "<table border=\"1\" class=\"dataframe\">\n",
       "  <thead>\n",
       "    <tr style=\"text-align: right;\">\n",
       "      <th></th>\n",
       "      <th>hp</th>\n",
       "      <th>car name</th>\n",
       "      <th>cyl</th>\n",
       "      <th>wt</th>\n",
       "      <th>mpg</th>\n",
       "      <th>disp</th>\n",
       "      <th>acc</th>\n",
       "    </tr>\n",
       "  </thead>\n",
       "  <tbody>\n",
       "    <tr>\n",
       "      <td>336</td>\n",
       "      <td>?</td>\n",
       "      <td>ford mustang cobra</td>\n",
       "      <td>4</td>\n",
       "      <td>2905</td>\n",
       "      <td>23.6</td>\n",
       "      <td>140.0</td>\n",
       "      <td>14.3</td>\n",
       "    </tr>\n",
       "  </tbody>\n",
       "</table>\n",
       "</div>"
      ],
      "text/plain": [
       "    hp            car name  cyl    wt   mpg   disp   acc\n",
       "336  ?  ford mustang cobra    4  2905  23.6  140.0  14.3"
      ]
     },
     "execution_count": 16,
     "metadata": {},
     "output_type": "execute_result"
    }
   ],
   "source": [
    "df[df['car name']=='ford mustang cobra'][['hp','car name', 'cyl','wt','mpg','disp','acc']]"
   ]
  },
  {
   "cell_type": "code",
   "execution_count": 17,
   "metadata": {},
   "outputs": [
    {
     "data": {
      "text/html": [
       "<div>\n",
       "<style scoped>\n",
       "    .dataframe tbody tr th:only-of-type {\n",
       "        vertical-align: middle;\n",
       "    }\n",
       "\n",
       "    .dataframe tbody tr th {\n",
       "        vertical-align: top;\n",
       "    }\n",
       "\n",
       "    .dataframe thead th {\n",
       "        text-align: right;\n",
       "    }\n",
       "</style>\n",
       "<table border=\"1\" class=\"dataframe\">\n",
       "  <thead>\n",
       "    <tr style=\"text-align: right;\">\n",
       "      <th></th>\n",
       "      <th>hp</th>\n",
       "      <th>car name</th>\n",
       "      <th>cyl</th>\n",
       "      <th>wt</th>\n",
       "      <th>mpg</th>\n",
       "      <th>disp</th>\n",
       "      <th>acc</th>\n",
       "    </tr>\n",
       "  </thead>\n",
       "  <tbody>\n",
       "    <tr>\n",
       "      <td>299</td>\n",
       "      <td>71</td>\n",
       "      <td>peugeot 504</td>\n",
       "      <td>4</td>\n",
       "      <td>3190</td>\n",
       "      <td>27.2</td>\n",
       "      <td>141.0</td>\n",
       "      <td>24.8</td>\n",
       "    </tr>\n",
       "    <tr>\n",
       "      <td>315</td>\n",
       "      <td>90</td>\n",
       "      <td>amc concord</td>\n",
       "      <td>4</td>\n",
       "      <td>3003</td>\n",
       "      <td>24.3</td>\n",
       "      <td>151.0</td>\n",
       "      <td>20.1</td>\n",
       "    </tr>\n",
       "    <tr>\n",
       "      <td>328</td>\n",
       "      <td>67</td>\n",
       "      <td>mercedes-benz 240d</td>\n",
       "      <td>4</td>\n",
       "      <td>3250</td>\n",
       "      <td>30.0</td>\n",
       "      <td>146.0</td>\n",
       "      <td>21.8</td>\n",
       "    </tr>\n",
       "    <tr>\n",
       "      <td>336</td>\n",
       "      <td>?</td>\n",
       "      <td>ford mustang cobra</td>\n",
       "      <td>4</td>\n",
       "      <td>2905</td>\n",
       "      <td>23.6</td>\n",
       "      <td>140.0</td>\n",
       "      <td>14.3</td>\n",
       "    </tr>\n",
       "    <tr>\n",
       "      <td>359</td>\n",
       "      <td>80</td>\n",
       "      <td>peugeot 505s turbo diesel</td>\n",
       "      <td>4</td>\n",
       "      <td>3230</td>\n",
       "      <td>28.1</td>\n",
       "      <td>141.0</td>\n",
       "      <td>20.4</td>\n",
       "    </tr>\n",
       "    <tr>\n",
       "      <td>374</td>\n",
       "      <td>?</td>\n",
       "      <td>amc concord dl</td>\n",
       "      <td>4</td>\n",
       "      <td>3035</td>\n",
       "      <td>23.0</td>\n",
       "      <td>151.0</td>\n",
       "      <td>20.5</td>\n",
       "    </tr>\n",
       "    <tr>\n",
       "      <td>392</td>\n",
       "      <td>90</td>\n",
       "      <td>chevrolet camaro</td>\n",
       "      <td>4</td>\n",
       "      <td>2950</td>\n",
       "      <td>27.0</td>\n",
       "      <td>151.0</td>\n",
       "      <td>17.3</td>\n",
       "    </tr>\n",
       "  </tbody>\n",
       "</table>\n",
       "</div>"
      ],
      "text/plain": [
       "     hp                   car name  cyl    wt   mpg   disp   acc\n",
       "299  71                peugeot 504    4  3190  27.2  141.0  24.8\n",
       "315  90                amc concord    4  3003  24.3  151.0  20.1\n",
       "328  67         mercedes-benz 240d    4  3250  30.0  146.0  21.8\n",
       "336   ?         ford mustang cobra    4  2905  23.6  140.0  14.3\n",
       "359  80  peugeot 505s turbo diesel    4  3230  28.1  141.0  20.4\n",
       "374   ?             amc concord dl    4  3035  23.0  151.0  20.5\n",
       "392  90           chevrolet camaro    4  2950  27.0  151.0  17.3"
      ]
     },
     "execution_count": 17,
     "metadata": {},
     "output_type": "execute_result"
    }
   ],
   "source": [
    "df[(df['cyl'] == 4) & (df['wt']>=2900)& (df['mpg']>=23)&(df['disp']>=130)&(df['acc']>=14)][['hp','car name', 'cyl','wt','mpg','disp','acc']]"
   ]
  },
  {
   "cell_type": "markdown",
   "metadata": {},
   "source": [
    "Going by the weight more than 2900,mpg greater than 23 and 4 cylinders ,disp of 140, and acceleration about 14,the nearest value as per data is median 75."
   ]
  },
  {
   "cell_type": "code",
   "execution_count": 18,
   "metadata": {},
   "outputs": [
    {
     "name": "stdout",
     "output_type": "stream",
     "text": [
      "?\n"
     ]
    },
    {
     "data": {
      "text/plain": [
       "75"
      ]
     },
     "execution_count": 18,
     "metadata": {},
     "output_type": "execute_result"
    }
   ],
   "source": [
    "print(df.loc[336,'hp'])\n",
    "df.loc[336,'hp']=75 \n",
    "df.loc[336,'hp']"
   ]
  },
  {
   "cell_type": "code",
   "execution_count": 19,
   "metadata": {},
   "outputs": [
    {
     "data": {
      "text/html": [
       "<div>\n",
       "<style scoped>\n",
       "    .dataframe tbody tr th:only-of-type {\n",
       "        vertical-align: middle;\n",
       "    }\n",
       "\n",
       "    .dataframe tbody tr th {\n",
       "        vertical-align: top;\n",
       "    }\n",
       "\n",
       "    .dataframe thead th {\n",
       "        text-align: right;\n",
       "    }\n",
       "</style>\n",
       "<table border=\"1\" class=\"dataframe\">\n",
       "  <thead>\n",
       "    <tr style=\"text-align: right;\">\n",
       "      <th></th>\n",
       "      <th>hp</th>\n",
       "      <th>car name</th>\n",
       "      <th>cyl</th>\n",
       "      <th>wt</th>\n",
       "      <th>mpg</th>\n",
       "      <th>disp</th>\n",
       "      <th>acc</th>\n",
       "    </tr>\n",
       "  </thead>\n",
       "  <tbody>\n",
       "    <tr>\n",
       "      <td>354</td>\n",
       "      <td>?</td>\n",
       "      <td>renault 18i</td>\n",
       "      <td>4</td>\n",
       "      <td>2320</td>\n",
       "      <td>34.5</td>\n",
       "      <td>100.0</td>\n",
       "      <td>15.8</td>\n",
       "    </tr>\n",
       "  </tbody>\n",
       "</table>\n",
       "</div>"
      ],
      "text/plain": [
       "    hp     car name  cyl    wt   mpg   disp   acc\n",
       "354  ?  renault 18i    4  2320  34.5  100.0  15.8"
      ]
     },
     "execution_count": 19,
     "metadata": {},
     "output_type": "execute_result"
    }
   ],
   "source": [
    "df[df['car name']=='renault 18i'][['hp','car name', 'cyl','wt','mpg','disp','acc']]"
   ]
  },
  {
   "cell_type": "code",
   "execution_count": 20,
   "metadata": {},
   "outputs": [
    {
     "data": {
      "text/html": [
       "<div>\n",
       "<style scoped>\n",
       "    .dataframe tbody tr th:only-of-type {\n",
       "        vertical-align: middle;\n",
       "    }\n",
       "\n",
       "    .dataframe tbody tr th {\n",
       "        vertical-align: top;\n",
       "    }\n",
       "\n",
       "    .dataframe thead th {\n",
       "        text-align: right;\n",
       "    }\n",
       "</style>\n",
       "<table border=\"1\" class=\"dataframe\">\n",
       "  <thead>\n",
       "    <tr style=\"text-align: right;\">\n",
       "      <th></th>\n",
       "      <th>hp</th>\n",
       "      <th>car name</th>\n",
       "      <th>cyl</th>\n",
       "      <th>wt</th>\n",
       "      <th>mpg</th>\n",
       "      <th>disp</th>\n",
       "      <th>acc</th>\n",
       "    </tr>\n",
       "  </thead>\n",
       "  <tbody>\n",
       "    <tr>\n",
       "      <td>320</td>\n",
       "      <td>92</td>\n",
       "      <td>datsun 510 hatchback</td>\n",
       "      <td>4</td>\n",
       "      <td>2434</td>\n",
       "      <td>37.0</td>\n",
       "      <td>119.0</td>\n",
       "      <td>15.0</td>\n",
       "    </tr>\n",
       "    <tr>\n",
       "      <td>326</td>\n",
       "      <td>48</td>\n",
       "      <td>vw dasher (diesel)</td>\n",
       "      <td>4</td>\n",
       "      <td>2335</td>\n",
       "      <td>43.4</td>\n",
       "      <td>90.0</td>\n",
       "      <td>23.7</td>\n",
       "    </tr>\n",
       "    <tr>\n",
       "      <td>335</td>\n",
       "      <td>88</td>\n",
       "      <td>triumph tr7 coupe</td>\n",
       "      <td>4</td>\n",
       "      <td>2500</td>\n",
       "      <td>35.0</td>\n",
       "      <td>122.0</td>\n",
       "      <td>15.1</td>\n",
       "    </tr>\n",
       "    <tr>\n",
       "      <td>354</td>\n",
       "      <td>?</td>\n",
       "      <td>renault 18i</td>\n",
       "      <td>4</td>\n",
       "      <td>2320</td>\n",
       "      <td>34.5</td>\n",
       "      <td>100.0</td>\n",
       "      <td>15.8</td>\n",
       "    </tr>\n",
       "    <tr>\n",
       "      <td>356</td>\n",
       "      <td>75</td>\n",
       "      <td>toyota corolla</td>\n",
       "      <td>4</td>\n",
       "      <td>2350</td>\n",
       "      <td>32.4</td>\n",
       "      <td>108.0</td>\n",
       "      <td>16.8</td>\n",
       "    </tr>\n",
       "    <tr>\n",
       "      <td>357</td>\n",
       "      <td>100</td>\n",
       "      <td>datsun 200sx</td>\n",
       "      <td>4</td>\n",
       "      <td>2615</td>\n",
       "      <td>32.9</td>\n",
       "      <td>119.0</td>\n",
       "      <td>14.8</td>\n",
       "    </tr>\n",
       "    <tr>\n",
       "      <td>369</td>\n",
       "      <td>88</td>\n",
       "      <td>chevrolet cavalier 2-door</td>\n",
       "      <td>4</td>\n",
       "      <td>2395</td>\n",
       "      <td>34.0</td>\n",
       "      <td>112.0</td>\n",
       "      <td>18.0</td>\n",
       "    </tr>\n",
       "  </tbody>\n",
       "</table>\n",
       "</div>"
      ],
      "text/plain": [
       "      hp                   car name  cyl    wt   mpg   disp   acc\n",
       "320   92       datsun 510 hatchback    4  2434  37.0  119.0  15.0\n",
       "326   48         vw dasher (diesel)    4  2335  43.4   90.0  23.7\n",
       "335   88          triumph tr7 coupe    4  2500  35.0  122.0  15.1\n",
       "354    ?                renault 18i    4  2320  34.5  100.0  15.8\n",
       "356   75             toyota corolla    4  2350  32.4  108.0  16.8\n",
       "357  100               datsun 200sx    4  2615  32.9  119.0  14.8\n",
       "369   88  chevrolet cavalier 2-door    4  2395  34.0  112.0  18.0"
      ]
     },
     "execution_count": 20,
     "metadata": {},
     "output_type": "execute_result"
    }
   ],
   "source": [
    "df[(df['cyl'] == 4) & (df['wt']>=2300)& (df['mpg']>=32)&(df['disp']>=90)&(df['acc']>=14)][['hp','car name', 'cyl','wt','mpg','disp','acc']]"
   ]
  },
  {
   "cell_type": "markdown",
   "metadata": {},
   "source": [
    "Going by the weight more than 2300,mpg greater than 32 and 4 cylinders ,disp of 100, and acceleration about 15,the nearest value as per data is median 88 of this set of data."
   ]
  },
  {
   "cell_type": "code",
   "execution_count": 21,
   "metadata": {},
   "outputs": [
    {
     "name": "stdout",
     "output_type": "stream",
     "text": [
      "?\n"
     ]
    },
    {
     "data": {
      "text/plain": [
       "88"
      ]
     },
     "execution_count": 21,
     "metadata": {},
     "output_type": "execute_result"
    }
   ],
   "source": [
    "print(df.loc[354,'hp'])\n",
    "df.loc[354,'hp']=88\n",
    "df.loc[354,'hp']"
   ]
  },
  {
   "cell_type": "code",
   "execution_count": 22,
   "metadata": {},
   "outputs": [
    {
     "data": {
      "text/html": [
       "<div>\n",
       "<style scoped>\n",
       "    .dataframe tbody tr th:only-of-type {\n",
       "        vertical-align: middle;\n",
       "    }\n",
       "\n",
       "    .dataframe tbody tr th {\n",
       "        vertical-align: top;\n",
       "    }\n",
       "\n",
       "    .dataframe thead th {\n",
       "        text-align: right;\n",
       "    }\n",
       "</style>\n",
       "<table border=\"1\" class=\"dataframe\">\n",
       "  <thead>\n",
       "    <tr style=\"text-align: right;\">\n",
       "      <th></th>\n",
       "      <th>hp</th>\n",
       "      <th>car name</th>\n",
       "      <th>cyl</th>\n",
       "      <th>wt</th>\n",
       "      <th>mpg</th>\n",
       "      <th>disp</th>\n",
       "      <th>acc</th>\n",
       "    </tr>\n",
       "  </thead>\n",
       "  <tbody>\n",
       "    <tr>\n",
       "      <td>374</td>\n",
       "      <td>?</td>\n",
       "      <td>amc concord dl</td>\n",
       "      <td>4</td>\n",
       "      <td>3035</td>\n",
       "      <td>23.0</td>\n",
       "      <td>151.0</td>\n",
       "      <td>20.5</td>\n",
       "    </tr>\n",
       "  </tbody>\n",
       "</table>\n",
       "</div>"
      ],
      "text/plain": [
       "    hp        car name  cyl    wt   mpg   disp   acc\n",
       "374  ?  amc concord dl    4  3035  23.0  151.0  20.5"
      ]
     },
     "execution_count": 22,
     "metadata": {},
     "output_type": "execute_result"
    }
   ],
   "source": [
    "df[df['car name']=='amc concord dl'][['hp','car name', 'cyl','wt','mpg','disp','acc']]"
   ]
  },
  {
   "cell_type": "code",
   "execution_count": 23,
   "metadata": {},
   "outputs": [
    {
     "data": {
      "text/html": [
       "<div>\n",
       "<style scoped>\n",
       "    .dataframe tbody tr th:only-of-type {\n",
       "        vertical-align: middle;\n",
       "    }\n",
       "\n",
       "    .dataframe tbody tr th {\n",
       "        vertical-align: top;\n",
       "    }\n",
       "\n",
       "    .dataframe thead th {\n",
       "        text-align: right;\n",
       "    }\n",
       "</style>\n",
       "<table border=\"1\" class=\"dataframe\">\n",
       "  <thead>\n",
       "    <tr style=\"text-align: right;\">\n",
       "      <th></th>\n",
       "      <th>hp</th>\n",
       "      <th>car name</th>\n",
       "      <th>cyl</th>\n",
       "      <th>wt</th>\n",
       "      <th>mpg</th>\n",
       "      <th>disp</th>\n",
       "      <th>acc</th>\n",
       "    </tr>\n",
       "  </thead>\n",
       "  <tbody>\n",
       "    <tr>\n",
       "      <td>315</td>\n",
       "      <td>90</td>\n",
       "      <td>amc concord</td>\n",
       "      <td>4</td>\n",
       "      <td>3003</td>\n",
       "      <td>24.3</td>\n",
       "      <td>151.0</td>\n",
       "      <td>20.1</td>\n",
       "    </tr>\n",
       "    <tr>\n",
       "      <td>374</td>\n",
       "      <td>?</td>\n",
       "      <td>amc concord dl</td>\n",
       "      <td>4</td>\n",
       "      <td>3035</td>\n",
       "      <td>23.0</td>\n",
       "      <td>151.0</td>\n",
       "      <td>20.5</td>\n",
       "    </tr>\n",
       "  </tbody>\n",
       "</table>\n",
       "</div>"
      ],
      "text/plain": [
       "     hp        car name  cyl    wt   mpg   disp   acc\n",
       "315  90     amc concord    4  3003  24.3  151.0  20.1\n",
       "374   ?  amc concord dl    4  3035  23.0  151.0  20.5"
      ]
     },
     "execution_count": 23,
     "metadata": {},
     "output_type": "execute_result"
    }
   ],
   "source": [
    "df[(df['cyl'] == 4) & (df['wt']>=3000)& (df['mpg']>=23)&(df['disp']>=151)&(df['acc']>=20)][['hp','car name', 'cyl','wt','mpg','disp','acc']]"
   ]
  },
  {
   "cell_type": "markdown",
   "metadata": {},
   "source": [
    "Going by the weight more than 3000,mpg greater than 23 and 4 cylinders ,disp of 151, and acceleration about 20,the nearest value as per data is about 90."
   ]
  },
  {
   "cell_type": "code",
   "execution_count": 24,
   "metadata": {},
   "outputs": [
    {
     "name": "stdout",
     "output_type": "stream",
     "text": [
      "?\n"
     ]
    },
    {
     "data": {
      "text/plain": [
       "90"
      ]
     },
     "execution_count": 24,
     "metadata": {},
     "output_type": "execute_result"
    }
   ],
   "source": [
    "print(df.loc[374,'hp'])\n",
    "df.loc[374,'hp']=90\n",
    "df.loc[374,'hp']"
   ]
  },
  {
   "cell_type": "code",
   "execution_count": 25,
   "metadata": {},
   "outputs": [
    {
     "data": {
      "text/plain": [
       "count     398\n",
       "unique     99\n",
       "top       150\n",
       "freq       22\n",
       "Name: hp, dtype: object"
      ]
     },
     "execution_count": 25,
     "metadata": {},
     "output_type": "execute_result"
    }
   ],
   "source": [
    "df['hp'].describe(include='all')"
   ]
  },
  {
   "cell_type": "code",
   "execution_count": 26,
   "metadata": {},
   "outputs": [],
   "source": [
    "df['hp']=df['hp'].astype(int)"
   ]
  },
  {
   "cell_type": "code",
   "execution_count": 27,
   "metadata": {},
   "outputs": [
    {
     "data": {
      "text/plain": [
       "array([130, 165, 150, 140, 198, 220, 215, 225, 190, 170, 160,  95,  97,\n",
       "        85,  88,  46,  87,  90, 113, 200, 210, 193,  72, 100, 105, 175,\n",
       "       153, 180, 110,  86,  70,  76,  65,  69,  60,  80,  54, 208, 155,\n",
       "       112,  92, 145, 137, 158, 167,  94, 107, 230,  49,  75,  91, 122,\n",
       "        83,  67,  78,  52,  61,  93, 148, 129,  96,  71,  98, 115,  53,\n",
       "        81,  79, 120, 152, 102, 108,  68,  58, 149,  89,  63,  48,  66,\n",
       "       139, 103, 125, 133, 138, 135, 142,  77,  62, 132,  84,  64,  74,\n",
       "       116,  82], dtype=int64)"
      ]
     },
     "execution_count": 27,
     "metadata": {},
     "output_type": "execute_result"
    }
   ],
   "source": [
    "df['hp'].unique()"
   ]
  },
  {
   "cell_type": "markdown",
   "metadata": {},
   "source": [
    "#### Checking the data after treating missing or special character values."
   ]
  },
  {
   "cell_type": "code",
   "execution_count": 28,
   "metadata": {},
   "outputs": [
    {
     "data": {
      "text/html": [
       "<div>\n",
       "<style scoped>\n",
       "    .dataframe tbody tr th:only-of-type {\n",
       "        vertical-align: middle;\n",
       "    }\n",
       "\n",
       "    .dataframe tbody tr th {\n",
       "        vertical-align: top;\n",
       "    }\n",
       "\n",
       "    .dataframe thead th {\n",
       "        text-align: right;\n",
       "    }\n",
       "</style>\n",
       "<table border=\"1\" class=\"dataframe\">\n",
       "  <thead>\n",
       "    <tr style=\"text-align: right;\">\n",
       "      <th></th>\n",
       "      <th>car name</th>\n",
       "      <th>cyl</th>\n",
       "      <th>disp</th>\n",
       "      <th>hp</th>\n",
       "      <th>wt</th>\n",
       "      <th>acc</th>\n",
       "      <th>yr</th>\n",
       "      <th>mpg</th>\n",
       "    </tr>\n",
       "  </thead>\n",
       "  <tbody>\n",
       "    <tr>\n",
       "      <td>0</td>\n",
       "      <td>chevrolet chevelle malibu</td>\n",
       "      <td>8</td>\n",
       "      <td>307.0</td>\n",
       "      <td>130</td>\n",
       "      <td>3504</td>\n",
       "      <td>12.0</td>\n",
       "      <td>70</td>\n",
       "      <td>18.0</td>\n",
       "    </tr>\n",
       "    <tr>\n",
       "      <td>1</td>\n",
       "      <td>buick skylark 320</td>\n",
       "      <td>8</td>\n",
       "      <td>350.0</td>\n",
       "      <td>165</td>\n",
       "      <td>3693</td>\n",
       "      <td>11.5</td>\n",
       "      <td>70</td>\n",
       "      <td>15.0</td>\n",
       "    </tr>\n",
       "    <tr>\n",
       "      <td>2</td>\n",
       "      <td>plymouth satellite</td>\n",
       "      <td>8</td>\n",
       "      <td>318.0</td>\n",
       "      <td>150</td>\n",
       "      <td>3436</td>\n",
       "      <td>11.0</td>\n",
       "      <td>70</td>\n",
       "      <td>18.0</td>\n",
       "    </tr>\n",
       "    <tr>\n",
       "      <td>3</td>\n",
       "      <td>amc rebel sst</td>\n",
       "      <td>8</td>\n",
       "      <td>304.0</td>\n",
       "      <td>150</td>\n",
       "      <td>3433</td>\n",
       "      <td>12.0</td>\n",
       "      <td>70</td>\n",
       "      <td>16.0</td>\n",
       "    </tr>\n",
       "    <tr>\n",
       "      <td>4</td>\n",
       "      <td>ford torino</td>\n",
       "      <td>8</td>\n",
       "      <td>302.0</td>\n",
       "      <td>140</td>\n",
       "      <td>3449</td>\n",
       "      <td>10.5</td>\n",
       "      <td>70</td>\n",
       "      <td>17.0</td>\n",
       "    </tr>\n",
       "  </tbody>\n",
       "</table>\n",
       "</div>"
      ],
      "text/plain": [
       "                    car name  cyl   disp   hp    wt   acc  yr   mpg\n",
       "0  chevrolet chevelle malibu    8  307.0  130  3504  12.0  70  18.0\n",
       "1          buick skylark 320    8  350.0  165  3693  11.5  70  15.0\n",
       "2         plymouth satellite    8  318.0  150  3436  11.0  70  18.0\n",
       "3              amc rebel sst    8  304.0  150  3433  12.0  70  16.0\n",
       "4                ford torino    8  302.0  140  3449  10.5  70  17.0"
      ]
     },
     "execution_count": 28,
     "metadata": {},
     "output_type": "execute_result"
    }
   ],
   "source": [
    "df.head()"
   ]
  },
  {
   "cell_type": "code",
   "execution_count": 29,
   "metadata": {},
   "outputs": [
    {
     "name": "stdout",
     "output_type": "stream",
     "text": [
      "<class 'pandas.core.frame.DataFrame'>\n",
      "RangeIndex: 398 entries, 0 to 397\n",
      "Data columns (total 8 columns):\n",
      "car name    398 non-null object\n",
      "cyl         398 non-null int64\n",
      "disp        398 non-null float64\n",
      "hp          398 non-null int32\n",
      "wt          398 non-null int64\n",
      "acc         398 non-null float64\n",
      "yr          398 non-null int64\n",
      "mpg         398 non-null float64\n",
      "dtypes: float64(3), int32(1), int64(3), object(1)\n",
      "memory usage: 23.4+ KB\n"
     ]
    }
   ],
   "source": [
    "df.info()"
   ]
  },
  {
   "cell_type": "code",
   "execution_count": 30,
   "metadata": {},
   "outputs": [
    {
     "data": {
      "text/html": [
       "<div>\n",
       "<style scoped>\n",
       "    .dataframe tbody tr th:only-of-type {\n",
       "        vertical-align: middle;\n",
       "    }\n",
       "\n",
       "    .dataframe tbody tr th {\n",
       "        vertical-align: top;\n",
       "    }\n",
       "\n",
       "    .dataframe thead th {\n",
       "        text-align: right;\n",
       "    }\n",
       "</style>\n",
       "<table border=\"1\" class=\"dataframe\">\n",
       "  <thead>\n",
       "    <tr style=\"text-align: right;\">\n",
       "      <th></th>\n",
       "      <th>count</th>\n",
       "      <th>unique</th>\n",
       "      <th>top</th>\n",
       "      <th>freq</th>\n",
       "      <th>mean</th>\n",
       "      <th>std</th>\n",
       "      <th>min</th>\n",
       "      <th>25%</th>\n",
       "      <th>50%</th>\n",
       "      <th>75%</th>\n",
       "      <th>max</th>\n",
       "    </tr>\n",
       "  </thead>\n",
       "  <tbody>\n",
       "    <tr>\n",
       "      <td>car name</td>\n",
       "      <td>398</td>\n",
       "      <td>305</td>\n",
       "      <td>ford pinto</td>\n",
       "      <td>6</td>\n",
       "      <td>NaN</td>\n",
       "      <td>NaN</td>\n",
       "      <td>NaN</td>\n",
       "      <td>NaN</td>\n",
       "      <td>NaN</td>\n",
       "      <td>NaN</td>\n",
       "      <td>NaN</td>\n",
       "    </tr>\n",
       "    <tr>\n",
       "      <td>cyl</td>\n",
       "      <td>398</td>\n",
       "      <td>NaN</td>\n",
       "      <td>NaN</td>\n",
       "      <td>NaN</td>\n",
       "      <td>5.45477</td>\n",
       "      <td>1.701</td>\n",
       "      <td>3</td>\n",
       "      <td>4</td>\n",
       "      <td>4</td>\n",
       "      <td>8</td>\n",
       "      <td>8</td>\n",
       "    </tr>\n",
       "    <tr>\n",
       "      <td>disp</td>\n",
       "      <td>398</td>\n",
       "      <td>NaN</td>\n",
       "      <td>NaN</td>\n",
       "      <td>NaN</td>\n",
       "      <td>193.426</td>\n",
       "      <td>104.27</td>\n",
       "      <td>68</td>\n",
       "      <td>104.25</td>\n",
       "      <td>148.5</td>\n",
       "      <td>262</td>\n",
       "      <td>455</td>\n",
       "    </tr>\n",
       "    <tr>\n",
       "      <td>hp</td>\n",
       "      <td>398</td>\n",
       "      <td>NaN</td>\n",
       "      <td>NaN</td>\n",
       "      <td>NaN</td>\n",
       "      <td>104.083</td>\n",
       "      <td>38.3428</td>\n",
       "      <td>46</td>\n",
       "      <td>75</td>\n",
       "      <td>92</td>\n",
       "      <td>125</td>\n",
       "      <td>230</td>\n",
       "    </tr>\n",
       "    <tr>\n",
       "      <td>wt</td>\n",
       "      <td>398</td>\n",
       "      <td>NaN</td>\n",
       "      <td>NaN</td>\n",
       "      <td>NaN</td>\n",
       "      <td>2970.42</td>\n",
       "      <td>846.842</td>\n",
       "      <td>1613</td>\n",
       "      <td>2223.75</td>\n",
       "      <td>2803.5</td>\n",
       "      <td>3608</td>\n",
       "      <td>5140</td>\n",
       "    </tr>\n",
       "    <tr>\n",
       "      <td>acc</td>\n",
       "      <td>398</td>\n",
       "      <td>NaN</td>\n",
       "      <td>NaN</td>\n",
       "      <td>NaN</td>\n",
       "      <td>15.5681</td>\n",
       "      <td>2.75769</td>\n",
       "      <td>8</td>\n",
       "      <td>13.825</td>\n",
       "      <td>15.5</td>\n",
       "      <td>17.175</td>\n",
       "      <td>24.8</td>\n",
       "    </tr>\n",
       "    <tr>\n",
       "      <td>yr</td>\n",
       "      <td>398</td>\n",
       "      <td>NaN</td>\n",
       "      <td>NaN</td>\n",
       "      <td>NaN</td>\n",
       "      <td>76.0101</td>\n",
       "      <td>3.69763</td>\n",
       "      <td>70</td>\n",
       "      <td>73</td>\n",
       "      <td>76</td>\n",
       "      <td>79</td>\n",
       "      <td>82</td>\n",
       "    </tr>\n",
       "    <tr>\n",
       "      <td>mpg</td>\n",
       "      <td>398</td>\n",
       "      <td>NaN</td>\n",
       "      <td>NaN</td>\n",
       "      <td>NaN</td>\n",
       "      <td>23.5146</td>\n",
       "      <td>7.81598</td>\n",
       "      <td>9</td>\n",
       "      <td>17.5</td>\n",
       "      <td>23</td>\n",
       "      <td>29</td>\n",
       "      <td>46.6</td>\n",
       "    </tr>\n",
       "  </tbody>\n",
       "</table>\n",
       "</div>"
      ],
      "text/plain": [
       "         count unique         top freq     mean      std   min      25%  \\\n",
       "car name   398    305  ford pinto    6      NaN      NaN   NaN      NaN   \n",
       "cyl        398    NaN         NaN  NaN  5.45477    1.701     3        4   \n",
       "disp       398    NaN         NaN  NaN  193.426   104.27    68   104.25   \n",
       "hp         398    NaN         NaN  NaN  104.083  38.3428    46       75   \n",
       "wt         398    NaN         NaN  NaN  2970.42  846.842  1613  2223.75   \n",
       "acc        398    NaN         NaN  NaN  15.5681  2.75769     8   13.825   \n",
       "yr         398    NaN         NaN  NaN  76.0101  3.69763    70       73   \n",
       "mpg        398    NaN         NaN  NaN  23.5146  7.81598     9     17.5   \n",
       "\n",
       "             50%     75%   max  \n",
       "car name     NaN     NaN   NaN  \n",
       "cyl            4       8     8  \n",
       "disp       148.5     262   455  \n",
       "hp            92     125   230  \n",
       "wt        2803.5    3608  5140  \n",
       "acc         15.5  17.175  24.8  \n",
       "yr            76      79    82  \n",
       "mpg           23      29  46.6  "
      ]
     },
     "execution_count": 30,
     "metadata": {},
     "output_type": "execute_result"
    }
   ],
   "source": [
    "df.describe(include='all').T"
   ]
  },
  {
   "cell_type": "code",
   "execution_count": 31,
   "metadata": {},
   "outputs": [
    {
     "data": {
      "text/plain": [
       "car name    0\n",
       "cyl         0\n",
       "disp        0\n",
       "hp          0\n",
       "wt          0\n",
       "acc         0\n",
       "yr          0\n",
       "mpg         0\n",
       "dtype: int64"
      ]
     },
     "execution_count": 31,
     "metadata": {},
     "output_type": "execute_result"
    }
   ],
   "source": [
    "df.isnull().sum()"
   ]
  },
  {
   "cell_type": "code",
   "execution_count": 32,
   "metadata": {},
   "outputs": [
    {
     "data": {
      "text/plain": [
       "<seaborn.axisgrid.PairGrid at 0x16001577948>"
      ]
     },
     "execution_count": 32,
     "metadata": {},
     "output_type": "execute_result"
    },
    {
     "data": {
      "image/png": "[encoded data removed]",
      "text/plain": [
       "<Figure size 1260x1260 with 56 Axes>"
      ]
     },
     "metadata": {
      "needs_background": "light"
     },
     "output_type": "display_data"
    }
   ],
   "source": [
    "sns.pairplot(df, diag_kind ='kde')"
   ]
  },
  {
   "cell_type": "markdown",
   "metadata": {},
   "source": [
    "Pair plot shows that with increase in the features like number of cylinders ,weight of car,horse power and displacement,Miles per gallon or fuel average decreases, where as with increase in acceleration and newer the model or lesser the age of model, the MPG increases."
   ]
  },
  {
   "cell_type": "code",
   "execution_count": 33,
   "metadata": {},
   "outputs": [
    {
     "data": {
      "text/html": [
       "<div>\n",
       "<style scoped>\n",
       "    .dataframe tbody tr th:only-of-type {\n",
       "        vertical-align: middle;\n",
       "    }\n",
       "\n",
       "    .dataframe tbody tr th {\n",
       "        vertical-align: top;\n",
       "    }\n",
       "\n",
       "    .dataframe thead th {\n",
       "        text-align: right;\n",
       "    }\n",
       "</style>\n",
       "<table border=\"1\" class=\"dataframe\">\n",
       "  <thead>\n",
       "    <tr style=\"text-align: right;\">\n",
       "      <th></th>\n",
       "      <th>cyl</th>\n",
       "      <th>disp</th>\n",
       "      <th>hp</th>\n",
       "      <th>wt</th>\n",
       "      <th>acc</th>\n",
       "      <th>yr</th>\n",
       "      <th>mpg</th>\n",
       "    </tr>\n",
       "  </thead>\n",
       "  <tbody>\n",
       "    <tr>\n",
       "      <td>cyl</td>\n",
       "      <td>1.000000</td>\n",
       "      <td>0.950721</td>\n",
       "      <td>0.842782</td>\n",
       "      <td>0.896017</td>\n",
       "      <td>-0.505419</td>\n",
       "      <td>-0.348746</td>\n",
       "      <td>-0.775396</td>\n",
       "    </tr>\n",
       "    <tr>\n",
       "      <td>disp</td>\n",
       "      <td>0.950721</td>\n",
       "      <td>1.000000</td>\n",
       "      <td>0.897208</td>\n",
       "      <td>0.932824</td>\n",
       "      <td>-0.543684</td>\n",
       "      <td>-0.370164</td>\n",
       "      <td>-0.804203</td>\n",
       "    </tr>\n",
       "    <tr>\n",
       "      <td>hp</td>\n",
       "      <td>0.842782</td>\n",
       "      <td>0.897208</td>\n",
       "      <td>1.000000</td>\n",
       "      <td>0.864224</td>\n",
       "      <td>-0.687613</td>\n",
       "      <td>-0.414340</td>\n",
       "      <td>-0.775747</td>\n",
       "    </tr>\n",
       "    <tr>\n",
       "      <td>wt</td>\n",
       "      <td>0.896017</td>\n",
       "      <td>0.932824</td>\n",
       "      <td>0.864224</td>\n",
       "      <td>1.000000</td>\n",
       "      <td>-0.417457</td>\n",
       "      <td>-0.306564</td>\n",
       "      <td>-0.831741</td>\n",
       "    </tr>\n",
       "    <tr>\n",
       "      <td>acc</td>\n",
       "      <td>-0.505419</td>\n",
       "      <td>-0.543684</td>\n",
       "      <td>-0.687613</td>\n",
       "      <td>-0.417457</td>\n",
       "      <td>1.000000</td>\n",
       "      <td>0.288137</td>\n",
       "      <td>0.420289</td>\n",
       "    </tr>\n",
       "    <tr>\n",
       "      <td>yr</td>\n",
       "      <td>-0.348746</td>\n",
       "      <td>-0.370164</td>\n",
       "      <td>-0.414340</td>\n",
       "      <td>-0.306564</td>\n",
       "      <td>0.288137</td>\n",
       "      <td>1.000000</td>\n",
       "      <td>0.579267</td>\n",
       "    </tr>\n",
       "    <tr>\n",
       "      <td>mpg</td>\n",
       "      <td>-0.775396</td>\n",
       "      <td>-0.804203</td>\n",
       "      <td>-0.775747</td>\n",
       "      <td>-0.831741</td>\n",
       "      <td>0.420289</td>\n",
       "      <td>0.579267</td>\n",
       "      <td>1.000000</td>\n",
       "    </tr>\n",
       "  </tbody>\n",
       "</table>\n",
       "</div>"
      ],
      "text/plain": [
       "           cyl      disp        hp        wt       acc        yr       mpg\n",
       "cyl   1.000000  0.950721  0.842782  0.896017 -0.505419 -0.348746 -0.775396\n",
       "disp  0.950721  1.000000  0.897208  0.932824 -0.543684 -0.370164 -0.804203\n",
       "hp    0.842782  0.897208  1.000000  0.864224 -0.687613 -0.414340 -0.775747\n",
       "wt    0.896017  0.932824  0.864224  1.000000 -0.417457 -0.306564 -0.831741\n",
       "acc  -0.505419 -0.543684 -0.687613 -0.417457  1.000000  0.288137  0.420289\n",
       "yr   -0.348746 -0.370164 -0.414340 -0.306564  0.288137  1.000000  0.579267\n",
       "mpg  -0.775396 -0.804203 -0.775747 -0.831741  0.420289  0.579267  1.000000"
      ]
     },
     "execution_count": 33,
     "metadata": {},
     "output_type": "execute_result"
    }
   ],
   "source": [
    "df.corr()"
   ]
  },
  {
   "cell_type": "markdown",
   "metadata": {},
   "source": [
    "### Scaling Data"
   ]
  },
  {
   "cell_type": "code",
   "execution_count": 34,
   "metadata": {},
   "outputs": [],
   "source": [
    "from sklearn.preprocessing import MinMaxScaler"
   ]
  },
  {
   "cell_type": "code",
   "execution_count": 35,
   "metadata": {},
   "outputs": [],
   "source": [
    "scaled_df= df.drop(['car name'],axis=1)"
   ]
  },
  {
   "cell_type": "code",
   "execution_count": 36,
   "metadata": {},
   "outputs": [
    {
     "data": {
      "text/html": [
       "<div>\n",
       "<style scoped>\n",
       "    .dataframe tbody tr th:only-of-type {\n",
       "        vertical-align: middle;\n",
       "    }\n",
       "\n",
       "    .dataframe tbody tr th {\n",
       "        vertical-align: top;\n",
       "    }\n",
       "\n",
       "    .dataframe thead th {\n",
       "        text-align: right;\n",
       "    }\n",
       "</style>\n",
       "<table border=\"1\" class=\"dataframe\">\n",
       "  <thead>\n",
       "    <tr style=\"text-align: right;\">\n",
       "      <th></th>\n",
       "      <th>cyl</th>\n",
       "      <th>disp</th>\n",
       "      <th>hp</th>\n",
       "      <th>wt</th>\n",
       "      <th>acc</th>\n",
       "      <th>yr</th>\n",
       "      <th>mpg</th>\n",
       "    </tr>\n",
       "  </thead>\n",
       "  <tbody>\n",
       "    <tr>\n",
       "      <td>0</td>\n",
       "      <td>8</td>\n",
       "      <td>307.0</td>\n",
       "      <td>130</td>\n",
       "      <td>3504</td>\n",
       "      <td>12.0</td>\n",
       "      <td>70</td>\n",
       "      <td>18.0</td>\n",
       "    </tr>\n",
       "    <tr>\n",
       "      <td>1</td>\n",
       "      <td>8</td>\n",
       "      <td>350.0</td>\n",
       "      <td>165</td>\n",
       "      <td>3693</td>\n",
       "      <td>11.5</td>\n",
       "      <td>70</td>\n",
       "      <td>15.0</td>\n",
       "    </tr>\n",
       "    <tr>\n",
       "      <td>2</td>\n",
       "      <td>8</td>\n",
       "      <td>318.0</td>\n",
       "      <td>150</td>\n",
       "      <td>3436</td>\n",
       "      <td>11.0</td>\n",
       "      <td>70</td>\n",
       "      <td>18.0</td>\n",
       "    </tr>\n",
       "    <tr>\n",
       "      <td>3</td>\n",
       "      <td>8</td>\n",
       "      <td>304.0</td>\n",
       "      <td>150</td>\n",
       "      <td>3433</td>\n",
       "      <td>12.0</td>\n",
       "      <td>70</td>\n",
       "      <td>16.0</td>\n",
       "    </tr>\n",
       "    <tr>\n",
       "      <td>4</td>\n",
       "      <td>8</td>\n",
       "      <td>302.0</td>\n",
       "      <td>140</td>\n",
       "      <td>3449</td>\n",
       "      <td>10.5</td>\n",
       "      <td>70</td>\n",
       "      <td>17.0</td>\n",
       "    </tr>\n",
       "  </tbody>\n",
       "</table>\n",
       "</div>"
      ],
      "text/plain": [
       "   cyl   disp   hp    wt   acc  yr   mpg\n",
       "0    8  307.0  130  3504  12.0  70  18.0\n",
       "1    8  350.0  165  3693  11.5  70  15.0\n",
       "2    8  318.0  150  3436  11.0  70  18.0\n",
       "3    8  304.0  150  3433  12.0  70  16.0\n",
       "4    8  302.0  140  3449  10.5  70  17.0"
      ]
     },
     "execution_count": 36,
     "metadata": {},
     "output_type": "execute_result"
    }
   ],
   "source": [
    "scaled_df.head()"
   ]
  },
  {
   "cell_type": "code",
   "execution_count": 37,
   "metadata": {},
   "outputs": [],
   "source": [
    "mm = MinMaxScaler()\n",
    "scaled_df = mm.fit_transform(scaled_df)"
   ]
  },
  {
   "cell_type": "code",
   "execution_count": 38,
   "metadata": {},
   "outputs": [
    {
     "data": {
      "text/plain": [
       "array([[1.        , 0.61757106, 0.45652174, ..., 0.23809524, 0.        ,\n",
       "        0.2393617 ],\n",
       "       [1.        , 0.72868217, 0.64673913, ..., 0.20833333, 0.        ,\n",
       "        0.15957447],\n",
       "       [1.        , 0.64599483, 0.56521739, ..., 0.17857143, 0.        ,\n",
       "        0.2393617 ],\n",
       "       ...,\n",
       "       [0.2       , 0.17312661, 0.20652174, ..., 0.21428571, 1.        ,\n",
       "        0.61170213],\n",
       "       [0.2       , 0.13436693, 0.17934783, ..., 0.63095238, 1.        ,\n",
       "        0.50531915],\n",
       "       [0.2       , 0.13178295, 0.19565217, ..., 0.67857143, 1.        ,\n",
       "        0.58510638]])"
      ]
     },
     "execution_count": 38,
     "metadata": {},
     "output_type": "execute_result"
    }
   ],
   "source": [
    "scaled_df"
   ]
  },
  {
   "cell_type": "markdown",
   "metadata": {},
   "source": [
    "## Clustering"
   ]
  },
  {
   "cell_type": "code",
   "execution_count": 39,
   "metadata": {},
   "outputs": [],
   "source": [
    "from sklearn.cluster import KMeans, AgglomerativeClustering\n",
    "from sklearn.mixture import GaussianMixture\n",
    "from matplotlib import cm\n",
    "from sklearn.metrics import silhouette_samples, silhouette_score"
   ]
  },
  {
   "cell_type": "code",
   "execution_count": 40,
   "metadata": {},
   "outputs": [
    {
     "data": {
      "image/png": "[encoded data removed]",
      "text/plain": [
       "<Figure size 864x432 with 1 Axes>"
      ]
     },
     "metadata": {
      "needs_background": "light"
     },
     "output_type": "display_data"
    },
    {
     "name": "stdout",
     "output_type": "stream",
     "text": [
      "Silhouette-Score for 2 Clusters:  0.4656419720406889\n",
      "Silhouette-Score for 3 Clusters:  0.3792359137197659\n",
      "Silhouette-Score for 4 Clusters:  0.4041335103774468\n",
      "Silhouette-Score for 5 Clusters:  0.3798000613698973\n",
      "Silhouette-Score for 6 Clusters:  0.36992859239894077\n",
      "Silhouette-Score for 7 Clusters:  0.3170051585118558\n",
      "Silhouette-Score for 8 Clusters:  0.3032100097497801\n",
      "Silhouette-Score for 9 Clusters:  0.2867622351731182\n",
      "Silhouette-Score for 10 Clusters:  0.28211075733244856\n",
      "Silhouette-Score for 11 Clusters:  0.2911145738735493\n",
      "Silhouette-Score for 12 Clusters:  0.2762753530360712\n",
      "Silhouette-Score for 13 Clusters:  0.2772001341733344\n",
      "Silhouette-Score for 14 Clusters:  0.2780198833241653\n",
      "Silhouette-Score for 15 Clusters:  0.24307167715483258\n",
      "Silhouette-Score for 16 Clusters:  0.2680780916037463\n",
      "Silhouette-Score for 17 Clusters:  0.2569055620896573\n",
      "Silhouette-Score for 18 Clusters:  0.2518576312988495\n",
      "Silhouette-Score for 19 Clusters:  0.2544832898081818\n",
      "Silhouette-Score for 20 Clusters:  0.24470252617099852\n"
     ]
    }
   ],
   "source": [
    "def inertia_plot(clust, X, start = 2, stop = 21):\n",
    "    inertia = []\n",
    "    for x in range(start,stop):\n",
    "        k_means = clust(n_clusters = x)\n",
    "        labels = k_means.fit_predict(X)\n",
    "        inertia.append(k_means.inertia_)\n",
    "    plt.figure(figsize = (12,6))\n",
    "    plt.plot(range(start,stop), inertia, marker = 'o')\n",
    "    plt.xlabel('Number of Clusters')\n",
    "    plt.ylabel('Inertia/wss')\n",
    "    plt.title('Inertia/wss plot with K')\n",
    "    plt.xticks(list(range(start, stop)))\n",
    "    plt.show()\n",
    "inertia_plot(KMeans,scaled_df)\n",
    "for x in range(2, 21):\n",
    "    alg = KMeans(n_clusters = x, )\n",
    "    label = alg.fit_predict(scaled_df)\n",
    "    print('Silhouette-Score for', x,  'Clusters: ', silhouette_score(scaled_df, label))\n"
   ]
  },
  {
   "cell_type": "markdown",
   "metadata": {},
   "source": [
    "Using the elbow method, we pick a good number of clusters to be 4."
   ]
  },
  {
   "cell_type": "code",
   "execution_count": 41,
   "metadata": {},
   "outputs": [],
   "source": [
    "def silh_samp_cluster(clust,  X, start=2, stop=21, metric = 'euclidean'):\n",
    "    # taken from sebastian Raschkas book Python Machine Learning second edition\n",
    "    for x in range(start, stop):\n",
    "        k_means = clust(n_clusters = x)\n",
    "        y_k_means = k_means.fit_predict(X)\n",
    "        cluster_labels = np.unique(y_k_means)\n",
    "        n_clusters = cluster_labels.shape[0]\n",
    "        silhouette_vals = silhouette_samples(X, y_k_means, metric = metric)\n",
    "        y_ax_lower, y_ax_upper =0,0\n",
    "        yticks = []\n",
    "        for i, c in enumerate(cluster_labels):\n",
    "            c_silhouette_vals = silhouette_vals[y_k_means == c]\n",
    "            c_silhouette_vals.sort()\n",
    "            y_ax_upper += len(c_silhouette_vals)\n",
    "            color = cm.jet(float(i)/n_clusters)\n",
    "            plt.barh(range(y_ax_lower, y_ax_upper),\n",
    "                    c_silhouette_vals,\n",
    "                    height=1.0,\n",
    "                    edgecolor='none',\n",
    "                    color = color)\n",
    "            yticks.append((y_ax_lower + y_ax_upper)/2.)\n",
    "            y_ax_lower+= len(c_silhouette_vals)\n",
    "\n",
    "        silhouette_avg = np.mean(silhouette_vals)\n",
    "        plt.axvline(silhouette_avg,\n",
    "                   color = 'red',\n",
    "                   linestyle = \"--\")\n",
    "        plt.yticks(yticks, cluster_labels+1)\n",
    "        plt.ylabel(\"cluster\")\n",
    "        plt.xlabel('Silhouette Coefficient')\n",
    "        plt.title('Silhouette for ' + str(x) + \" Clusters\")\n",
    "        plt.show()"
   ]
  },
  {
   "cell_type": "code",
   "execution_count": 42,
   "metadata": {},
   "outputs": [
    {
     "data": {
      "image/png": "[encoded data removed]",
      "text/plain": [
       "<Figure size 432x288 with 1 Axes>"
      ]
     },
     "metadata": {
      "needs_background": "light"
     },
     "output_type": "display_data"
    },
    {
     "data": {
      "image/png": "[encoded data removed]",
      "text/plain": [
       "<Figure size 432x288 with 1 Axes>"
      ]
     },
     "metadata": {
      "needs_background": "light"
     },
     "output_type": "display_data"
    },
    {
     "data": {
      "image/png": "[encoded data removed]",
      "text/plain": [
       "<Figure size 432x288 with 1 Axes>"
      ]
     },
     "metadata": {
      "needs_background": "light"
     },
     "output_type": "display_data"
    },
    {
     "data": {
      "image/png": "[encoded data removed]",
      "text/plain": [
       "<Figure size 432x288 with 1 Axes>"
      ]
     },
     "metadata": {
      "needs_background": "light"
     },
     "output_type": "display_data"
    }
   ],
   "source": [
    "silh_samp_cluster(KMeans, scaled_df, stop=6)"
   ]
  },
  {
   "cell_type": "markdown",
   "metadata": {},
   "source": [
    "The silhouette plot shows that the n_clusters value of 3, 5 and 6 are a bad pick for the given data due to the presence of clusters with below average silhouette scores and also due to more diverse fluctuations in the size of the silhouette plots. However when comparing between thickness of plots for 2 and 4 clusters , all the plots are more or less of similar thickness and hence are of similar sizes with 4 cluster with  more uniformity in plots .All these reasons make 4 clusters a better choice."
   ]
  },
  {
   "cell_type": "code",
   "execution_count": 43,
   "metadata": {},
   "outputs": [
    {
     "name": "stdout",
     "output_type": "stream",
     "text": [
      "Centroid values [[0.20689655 0.11627907 0.16482384 0.2054007  0.51231527 0.83836207\n",
      "  0.61968085]\n",
      " [1.         0.72671727 0.62918931 0.7196626  0.27579365 0.29861111\n",
      "  0.14616578]\n",
      " [0.62637363 0.39901184 0.30554228 0.45909265 0.49653323 0.503663\n",
      "  0.28828618]\n",
      " [0.19368421 0.09923841 0.19273455 0.19458314 0.50739348 0.29035088\n",
      "  0.43673012]]\n"
     ]
    }
   ],
   "source": [
    "kmeans4= KMeans(n_clusters=4,random_state=90)\n",
    "kmeans4 = kmeans4.fit(scaled_df)\n",
    "labels4 = kmeans4.predict(scaled_df)\n",
    "centroids4 = kmeans4.cluster_centers_\n",
    "print(\"Centroid values\",centroids4)"
   ]
  },
  {
   "cell_type": "markdown",
   "metadata": {},
   "source": [
    "#### Silhouette score "
   ]
  },
  {
   "cell_type": "code",
   "execution_count": 44,
   "metadata": {},
   "outputs": [
    {
     "name": "stdout",
     "output_type": "stream",
     "text": [
      "For n_clusters = 4 The average silhouette_score is : 0.4041335103774468\n"
     ]
    }
   ],
   "source": [
    "silhouette_avg = silhouette_score(scaled_df,labels4)\n",
    "print(\"For n_clusters = 4\",\"The average silhouette_score is :\", silhouette_avg)"
   ]
  },
  {
   "cell_type": "markdown",
   "metadata": {},
   "source": [
    "#### Within Cluster Sum of Squares"
   ]
  },
  {
   "cell_type": "code",
   "execution_count": 45,
   "metadata": {},
   "outputs": [
    {
     "data": {
      "text/plain": [
       "40.10035033673914"
      ]
     },
     "execution_count": 45,
     "metadata": {},
     "output_type": "execute_result"
    }
   ],
   "source": [
    "wcss4 = kmeans4.inertia_\n",
    "wcss4"
   ]
  },
  {
   "cell_type": "markdown",
   "metadata": {},
   "source": [
    "## Cluster Profiling"
   ]
  },
  {
   "cell_type": "code",
   "execution_count": 46,
   "metadata": {},
   "outputs": [],
   "source": [
    "df['labels'] = pd.DataFrame(kmeans4.labels_ , columns = list(['labels']))"
   ]
  },
  {
   "cell_type": "code",
   "execution_count": 47,
   "metadata": {},
   "outputs": [
    {
     "data": {
      "text/plain": [
       "0    116\n",
       "1     96\n",
       "2     91\n",
       "3     95\n",
       "Name: labels, dtype: int64"
      ]
     },
     "execution_count": 47,
     "metadata": {},
     "output_type": "execute_result"
    }
   ],
   "source": [
    "pd.value_counts(df['labels']).sort_index()"
   ]
  },
  {
   "cell_type": "code",
   "execution_count": 48,
   "metadata": {},
   "outputs": [
    {
     "data": {
      "text/html": [
       "<div>\n",
       "<style scoped>\n",
       "    .dataframe tbody tr th:only-of-type {\n",
       "        vertical-align: middle;\n",
       "    }\n",
       "\n",
       "    .dataframe tbody tr th {\n",
       "        vertical-align: top;\n",
       "    }\n",
       "\n",
       "    .dataframe thead th {\n",
       "        text-align: right;\n",
       "    }\n",
       "</style>\n",
       "<table border=\"1\" class=\"dataframe\">\n",
       "  <thead>\n",
       "    <tr style=\"text-align: right;\">\n",
       "      <th></th>\n",
       "      <th>cyl</th>\n",
       "      <th>disp</th>\n",
       "      <th>hp</th>\n",
       "      <th>wt</th>\n",
       "      <th>acc</th>\n",
       "      <th>yr</th>\n",
       "      <th>mpg</th>\n",
       "      <th>freq</th>\n",
       "    </tr>\n",
       "    <tr>\n",
       "      <th>labels</th>\n",
       "      <th></th>\n",
       "      <th></th>\n",
       "      <th></th>\n",
       "      <th></th>\n",
       "      <th></th>\n",
       "      <th></th>\n",
       "      <th></th>\n",
       "      <th></th>\n",
       "    </tr>\n",
       "  </thead>\n",
       "  <tbody>\n",
       "    <tr>\n",
       "      <td>0</td>\n",
       "      <td>4.0</td>\n",
       "      <td>105.0</td>\n",
       "      <td>75</td>\n",
       "      <td>2222.5</td>\n",
       "      <td>16.2</td>\n",
       "      <td>80.0</td>\n",
       "      <td>32.05</td>\n",
       "      <td>116</td>\n",
       "    </tr>\n",
       "    <tr>\n",
       "      <td>1</td>\n",
       "      <td>8.0</td>\n",
       "      <td>350.0</td>\n",
       "      <td>150</td>\n",
       "      <td>4177.5</td>\n",
       "      <td>12.9</td>\n",
       "      <td>73.0</td>\n",
       "      <td>14.00</td>\n",
       "      <td>96</td>\n",
       "    </tr>\n",
       "    <tr>\n",
       "      <td>2</td>\n",
       "      <td>6.0</td>\n",
       "      <td>231.0</td>\n",
       "      <td>100</td>\n",
       "      <td>3245.0</td>\n",
       "      <td>16.0</td>\n",
       "      <td>76.0</td>\n",
       "      <td>19.20</td>\n",
       "      <td>91</td>\n",
       "    </tr>\n",
       "    <tr>\n",
       "      <td>3</td>\n",
       "      <td>4.0</td>\n",
       "      <td>104.0</td>\n",
       "      <td>83</td>\n",
       "      <td>2255.0</td>\n",
       "      <td>16.0</td>\n",
       "      <td>74.0</td>\n",
       "      <td>25.00</td>\n",
       "      <td>95</td>\n",
       "    </tr>\n",
       "  </tbody>\n",
       "</table>\n",
       "</div>"
      ],
      "text/plain": [
       "        cyl   disp   hp      wt   acc    yr    mpg  freq\n",
       "labels                                                  \n",
       "0       4.0  105.0   75  2222.5  16.2  80.0  32.05   116\n",
       "1       8.0  350.0  150  4177.5  12.9  73.0  14.00    96\n",
       "2       6.0  231.0  100  3245.0  16.0  76.0  19.20    91\n",
       "3       4.0  104.0   83  2255.0  16.0  74.0  25.00    95"
      ]
     },
     "execution_count": 48,
     "metadata": {},
     "output_type": "execute_result"
    }
   ],
   "source": [
    "clust_profile=df\n",
    "clust_profile=clust_profile.groupby('labels').median()\n",
    "clust_profile['freq']=pd.value_counts(df['labels']).sort_index()\n",
    "clust_profile"
   ]
  },
  {
   "cell_type": "markdown",
   "metadata": {},
   "source": [
    "### Seperating different data frames on the basis of their specific cluster "
   ]
  },
  {
   "cell_type": "code",
   "execution_count": 49,
   "metadata": {},
   "outputs": [
    {
     "data": {
      "text/plain": [
       "Index(['car name', 'cyl', 'disp', 'hp', 'wt', 'acc', 'yr', 'mpg', 'labels'], dtype='object')"
      ]
     },
     "execution_count": 49,
     "metadata": {},
     "output_type": "execute_result"
    }
   ],
   "source": [
    "df.columns"
   ]
  },
  {
   "cell_type": "markdown",
   "metadata": {},
   "source": [
    "## Data frame cluster 1 "
   ]
  },
  {
   "cell_type": "code",
   "execution_count": 50,
   "metadata": {},
   "outputs": [
    {
     "name": "stdout",
     "output_type": "stream",
     "text": [
      "<class 'pandas.core.frame.DataFrame'>\n",
      "Shape of DF1 : (116, 8)\n"
     ]
    },
    {
     "data": {
      "text/html": [
       "<div>\n",
       "<style scoped>\n",
       "    .dataframe tbody tr th:only-of-type {\n",
       "        vertical-align: middle;\n",
       "    }\n",
       "\n",
       "    .dataframe tbody tr th {\n",
       "        vertical-align: top;\n",
       "    }\n",
       "\n",
       "    .dataframe thead th {\n",
       "        text-align: right;\n",
       "    }\n",
       "</style>\n",
       "<table border=\"1\" class=\"dataframe\">\n",
       "  <thead>\n",
       "    <tr style=\"text-align: right;\">\n",
       "      <th></th>\n",
       "      <th>car name</th>\n",
       "      <th>cyl</th>\n",
       "      <th>disp</th>\n",
       "      <th>hp</th>\n",
       "      <th>wt</th>\n",
       "      <th>acc</th>\n",
       "      <th>yr</th>\n",
       "      <th>mpg</th>\n",
       "    </tr>\n",
       "  </thead>\n",
       "  <tbody>\n",
       "    <tr>\n",
       "      <td>216</td>\n",
       "      <td>honda accord cvcc</td>\n",
       "      <td>4</td>\n",
       "      <td>98.0</td>\n",
       "      <td>68</td>\n",
       "      <td>2045</td>\n",
       "      <td>18.5</td>\n",
       "      <td>77</td>\n",
       "      <td>31.5</td>\n",
       "    </tr>\n",
       "    <tr>\n",
       "      <td>217</td>\n",
       "      <td>buick opel isuzu deluxe</td>\n",
       "      <td>4</td>\n",
       "      <td>111.0</td>\n",
       "      <td>80</td>\n",
       "      <td>2155</td>\n",
       "      <td>14.8</td>\n",
       "      <td>77</td>\n",
       "      <td>30.0</td>\n",
       "    </tr>\n",
       "    <tr>\n",
       "      <td>218</td>\n",
       "      <td>renault 5 gtl</td>\n",
       "      <td>4</td>\n",
       "      <td>79.0</td>\n",
       "      <td>58</td>\n",
       "      <td>1825</td>\n",
       "      <td>18.6</td>\n",
       "      <td>77</td>\n",
       "      <td>36.0</td>\n",
       "    </tr>\n",
       "    <tr>\n",
       "      <td>220</td>\n",
       "      <td>datsun f-10 hatchback</td>\n",
       "      <td>4</td>\n",
       "      <td>85.0</td>\n",
       "      <td>70</td>\n",
       "      <td>1945</td>\n",
       "      <td>16.8</td>\n",
       "      <td>77</td>\n",
       "      <td>33.5</td>\n",
       "    </tr>\n",
       "    <tr>\n",
       "      <td>233</td>\n",
       "      <td>volkswagen rabbit custom</td>\n",
       "      <td>4</td>\n",
       "      <td>97.0</td>\n",
       "      <td>78</td>\n",
       "      <td>1940</td>\n",
       "      <td>14.5</td>\n",
       "      <td>77</td>\n",
       "      <td>29.0</td>\n",
       "    </tr>\n",
       "    <tr>\n",
       "      <td>...</td>\n",
       "      <td>...</td>\n",
       "      <td>...</td>\n",
       "      <td>...</td>\n",
       "      <td>...</td>\n",
       "      <td>...</td>\n",
       "      <td>...</td>\n",
       "      <td>...</td>\n",
       "      <td>...</td>\n",
       "    </tr>\n",
       "    <tr>\n",
       "      <td>393</td>\n",
       "      <td>ford mustang gl</td>\n",
       "      <td>4</td>\n",
       "      <td>140.0</td>\n",
       "      <td>86</td>\n",
       "      <td>2790</td>\n",
       "      <td>15.6</td>\n",
       "      <td>82</td>\n",
       "      <td>27.0</td>\n",
       "    </tr>\n",
       "    <tr>\n",
       "      <td>394</td>\n",
       "      <td>vw pickup</td>\n",
       "      <td>4</td>\n",
       "      <td>97.0</td>\n",
       "      <td>52</td>\n",
       "      <td>2130</td>\n",
       "      <td>24.6</td>\n",
       "      <td>82</td>\n",
       "      <td>44.0</td>\n",
       "    </tr>\n",
       "    <tr>\n",
       "      <td>395</td>\n",
       "      <td>dodge rampage</td>\n",
       "      <td>4</td>\n",
       "      <td>135.0</td>\n",
       "      <td>84</td>\n",
       "      <td>2295</td>\n",
       "      <td>11.6</td>\n",
       "      <td>82</td>\n",
       "      <td>32.0</td>\n",
       "    </tr>\n",
       "    <tr>\n",
       "      <td>396</td>\n",
       "      <td>ford ranger</td>\n",
       "      <td>4</td>\n",
       "      <td>120.0</td>\n",
       "      <td>79</td>\n",
       "      <td>2625</td>\n",
       "      <td>18.6</td>\n",
       "      <td>82</td>\n",
       "      <td>28.0</td>\n",
       "    </tr>\n",
       "    <tr>\n",
       "      <td>397</td>\n",
       "      <td>chevy s-10</td>\n",
       "      <td>4</td>\n",
       "      <td>119.0</td>\n",
       "      <td>82</td>\n",
       "      <td>2720</td>\n",
       "      <td>19.4</td>\n",
       "      <td>82</td>\n",
       "      <td>31.0</td>\n",
       "    </tr>\n",
       "  </tbody>\n",
       "</table>\n",
       "<p>116 rows × 8 columns</p>\n",
       "</div>"
      ],
      "text/plain": [
       "                     car name  cyl   disp  hp    wt   acc  yr   mpg\n",
       "216         honda accord cvcc    4   98.0  68  2045  18.5  77  31.5\n",
       "217   buick opel isuzu deluxe    4  111.0  80  2155  14.8  77  30.0\n",
       "218             renault 5 gtl    4   79.0  58  1825  18.6  77  36.0\n",
       "220     datsun f-10 hatchback    4   85.0  70  1945  16.8  77  33.5\n",
       "233  volkswagen rabbit custom    4   97.0  78  1940  14.5  77  29.0\n",
       "..                        ...  ...    ...  ..   ...   ...  ..   ...\n",
       "393           ford mustang gl    4  140.0  86  2790  15.6  82  27.0\n",
       "394                 vw pickup    4   97.0  52  2130  24.6  82  44.0\n",
       "395             dodge rampage    4  135.0  84  2295  11.6  82  32.0\n",
       "396               ford ranger    4  120.0  79  2625  18.6  82  28.0\n",
       "397                chevy s-10    4  119.0  82  2720  19.4  82  31.0\n",
       "\n",
       "[116 rows x 8 columns]"
      ]
     },
     "execution_count": 50,
     "metadata": {},
     "output_type": "execute_result"
    }
   ],
   "source": [
    "DF1=df[df['labels']==0][['car name', 'cyl', 'disp', 'hp', 'wt', 'acc', 'yr', 'mpg']]\n",
    "print(type(DF1))\n",
    "print('Shape of DF1 :',DF1.shape)\n",
    "DF1"
   ]
  },
  {
   "cell_type": "markdown",
   "metadata": {},
   "source": [
    "## Data frame cluster 2"
   ]
  },
  {
   "cell_type": "code",
   "execution_count": 51,
   "metadata": {},
   "outputs": [
    {
     "name": "stdout",
     "output_type": "stream",
     "text": [
      "<class 'pandas.core.frame.DataFrame'>\n",
      "Shape of DF2 : (96, 8)\n"
     ]
    },
    {
     "data": {
      "text/html": [
       "<div>\n",
       "<style scoped>\n",
       "    .dataframe tbody tr th:only-of-type {\n",
       "        vertical-align: middle;\n",
       "    }\n",
       "\n",
       "    .dataframe tbody tr th {\n",
       "        vertical-align: top;\n",
       "    }\n",
       "\n",
       "    .dataframe thead th {\n",
       "        text-align: right;\n",
       "    }\n",
       "</style>\n",
       "<table border=\"1\" class=\"dataframe\">\n",
       "  <thead>\n",
       "    <tr style=\"text-align: right;\">\n",
       "      <th></th>\n",
       "      <th>car name</th>\n",
       "      <th>cyl</th>\n",
       "      <th>disp</th>\n",
       "      <th>hp</th>\n",
       "      <th>wt</th>\n",
       "      <th>acc</th>\n",
       "      <th>yr</th>\n",
       "      <th>mpg</th>\n",
       "    </tr>\n",
       "  </thead>\n",
       "  <tbody>\n",
       "    <tr>\n",
       "      <td>0</td>\n",
       "      <td>chevrolet chevelle malibu</td>\n",
       "      <td>8</td>\n",
       "      <td>307.0</td>\n",
       "      <td>130</td>\n",
       "      <td>3504</td>\n",
       "      <td>12.0</td>\n",
       "      <td>70</td>\n",
       "      <td>18.0</td>\n",
       "    </tr>\n",
       "    <tr>\n",
       "      <td>1</td>\n",
       "      <td>buick skylark 320</td>\n",
       "      <td>8</td>\n",
       "      <td>350.0</td>\n",
       "      <td>165</td>\n",
       "      <td>3693</td>\n",
       "      <td>11.5</td>\n",
       "      <td>70</td>\n",
       "      <td>15.0</td>\n",
       "    </tr>\n",
       "    <tr>\n",
       "      <td>2</td>\n",
       "      <td>plymouth satellite</td>\n",
       "      <td>8</td>\n",
       "      <td>318.0</td>\n",
       "      <td>150</td>\n",
       "      <td>3436</td>\n",
       "      <td>11.0</td>\n",
       "      <td>70</td>\n",
       "      <td>18.0</td>\n",
       "    </tr>\n",
       "    <tr>\n",
       "      <td>3</td>\n",
       "      <td>amc rebel sst</td>\n",
       "      <td>8</td>\n",
       "      <td>304.0</td>\n",
       "      <td>150</td>\n",
       "      <td>3433</td>\n",
       "      <td>12.0</td>\n",
       "      <td>70</td>\n",
       "      <td>16.0</td>\n",
       "    </tr>\n",
       "    <tr>\n",
       "      <td>4</td>\n",
       "      <td>ford torino</td>\n",
       "      <td>8</td>\n",
       "      <td>302.0</td>\n",
       "      <td>140</td>\n",
       "      <td>3449</td>\n",
       "      <td>10.5</td>\n",
       "      <td>70</td>\n",
       "      <td>17.0</td>\n",
       "    </tr>\n",
       "    <tr>\n",
       "      <td>...</td>\n",
       "      <td>...</td>\n",
       "      <td>...</td>\n",
       "      <td>...</td>\n",
       "      <td>...</td>\n",
       "      <td>...</td>\n",
       "      <td>...</td>\n",
       "      <td>...</td>\n",
       "      <td>...</td>\n",
       "    </tr>\n",
       "    <tr>\n",
       "      <td>287</td>\n",
       "      <td>mercury grand marquis</td>\n",
       "      <td>8</td>\n",
       "      <td>351.0</td>\n",
       "      <td>138</td>\n",
       "      <td>3955</td>\n",
       "      <td>13.2</td>\n",
       "      <td>79</td>\n",
       "      <td>16.5</td>\n",
       "    </tr>\n",
       "    <tr>\n",
       "      <td>288</td>\n",
       "      <td>dodge st. regis</td>\n",
       "      <td>8</td>\n",
       "      <td>318.0</td>\n",
       "      <td>135</td>\n",
       "      <td>3830</td>\n",
       "      <td>15.2</td>\n",
       "      <td>79</td>\n",
       "      <td>18.2</td>\n",
       "    </tr>\n",
       "    <tr>\n",
       "      <td>289</td>\n",
       "      <td>buick estate wagon (sw)</td>\n",
       "      <td>8</td>\n",
       "      <td>350.0</td>\n",
       "      <td>155</td>\n",
       "      <td>4360</td>\n",
       "      <td>14.9</td>\n",
       "      <td>79</td>\n",
       "      <td>16.9</td>\n",
       "    </tr>\n",
       "    <tr>\n",
       "      <td>290</td>\n",
       "      <td>ford country squire (sw)</td>\n",
       "      <td>8</td>\n",
       "      <td>351.0</td>\n",
       "      <td>142</td>\n",
       "      <td>4054</td>\n",
       "      <td>14.3</td>\n",
       "      <td>79</td>\n",
       "      <td>15.5</td>\n",
       "    </tr>\n",
       "    <tr>\n",
       "      <td>292</td>\n",
       "      <td>chrysler lebaron town @ country (sw)</td>\n",
       "      <td>8</td>\n",
       "      <td>360.0</td>\n",
       "      <td>150</td>\n",
       "      <td>3940</td>\n",
       "      <td>13.0</td>\n",
       "      <td>79</td>\n",
       "      <td>18.5</td>\n",
       "    </tr>\n",
       "  </tbody>\n",
       "</table>\n",
       "<p>96 rows × 8 columns</p>\n",
       "</div>"
      ],
      "text/plain": [
       "                                 car name  cyl   disp   hp    wt   acc  yr  \\\n",
       "0               chevrolet chevelle malibu    8  307.0  130  3504  12.0  70   \n",
       "1                       buick skylark 320    8  350.0  165  3693  11.5  70   \n",
       "2                      plymouth satellite    8  318.0  150  3436  11.0  70   \n",
       "3                           amc rebel sst    8  304.0  150  3433  12.0  70   \n",
       "4                             ford torino    8  302.0  140  3449  10.5  70   \n",
       "..                                    ...  ...    ...  ...   ...   ...  ..   \n",
       "287                 mercury grand marquis    8  351.0  138  3955  13.2  79   \n",
       "288                       dodge st. regis    8  318.0  135  3830  15.2  79   \n",
       "289               buick estate wagon (sw)    8  350.0  155  4360  14.9  79   \n",
       "290              ford country squire (sw)    8  351.0  142  4054  14.3  79   \n",
       "292  chrysler lebaron town @ country (sw)    8  360.0  150  3940  13.0  79   \n",
       "\n",
       "      mpg  \n",
       "0    18.0  \n",
       "1    15.0  \n",
       "2    18.0  \n",
       "3    16.0  \n",
       "4    17.0  \n",
       "..    ...  \n",
       "287  16.5  \n",
       "288  18.2  \n",
       "289  16.9  \n",
       "290  15.5  \n",
       "292  18.5  \n",
       "\n",
       "[96 rows x 8 columns]"
      ]
     },
     "execution_count": 51,
     "metadata": {},
     "output_type": "execute_result"
    }
   ],
   "source": [
    "DF2=df[df['labels']==1][['car name', 'cyl', 'disp', 'hp', 'wt', 'acc', 'yr', 'mpg']]\n",
    "print(type(DF2))\n",
    "print('Shape of DF2 :' , DF2.shape)\n",
    "DF2"
   ]
  },
  {
   "cell_type": "markdown",
   "metadata": {},
   "source": [
    "## Data frame cluster 3"
   ]
  },
  {
   "cell_type": "code",
   "execution_count": 52,
   "metadata": {},
   "outputs": [
    {
     "name": "stdout",
     "output_type": "stream",
     "text": [
      "<class 'pandas.core.frame.DataFrame'>\n",
      "Shape of DF3 : (91, 8)\n"
     ]
    },
    {
     "data": {
      "text/html": [
       "<div>\n",
       "<style scoped>\n",
       "    .dataframe tbody tr th:only-of-type {\n",
       "        vertical-align: middle;\n",
       "    }\n",
       "\n",
       "    .dataframe tbody tr th {\n",
       "        vertical-align: top;\n",
       "    }\n",
       "\n",
       "    .dataframe thead th {\n",
       "        text-align: right;\n",
       "    }\n",
       "</style>\n",
       "<table border=\"1\" class=\"dataframe\">\n",
       "  <thead>\n",
       "    <tr style=\"text-align: right;\">\n",
       "      <th></th>\n",
       "      <th>car name</th>\n",
       "      <th>cyl</th>\n",
       "      <th>disp</th>\n",
       "      <th>hp</th>\n",
       "      <th>wt</th>\n",
       "      <th>acc</th>\n",
       "      <th>yr</th>\n",
       "      <th>mpg</th>\n",
       "    </tr>\n",
       "  </thead>\n",
       "  <tbody>\n",
       "    <tr>\n",
       "      <td>15</td>\n",
       "      <td>plymouth duster</td>\n",
       "      <td>6</td>\n",
       "      <td>198.0</td>\n",
       "      <td>95</td>\n",
       "      <td>2833</td>\n",
       "      <td>15.5</td>\n",
       "      <td>70</td>\n",
       "      <td>22.0</td>\n",
       "    </tr>\n",
       "    <tr>\n",
       "      <td>16</td>\n",
       "      <td>amc hornet</td>\n",
       "      <td>6</td>\n",
       "      <td>199.0</td>\n",
       "      <td>97</td>\n",
       "      <td>2774</td>\n",
       "      <td>15.5</td>\n",
       "      <td>70</td>\n",
       "      <td>18.0</td>\n",
       "    </tr>\n",
       "    <tr>\n",
       "      <td>17</td>\n",
       "      <td>ford maverick</td>\n",
       "      <td>6</td>\n",
       "      <td>200.0</td>\n",
       "      <td>85</td>\n",
       "      <td>2587</td>\n",
       "      <td>16.0</td>\n",
       "      <td>70</td>\n",
       "      <td>21.0</td>\n",
       "    </tr>\n",
       "    <tr>\n",
       "      <td>24</td>\n",
       "      <td>amc gremlin</td>\n",
       "      <td>6</td>\n",
       "      <td>199.0</td>\n",
       "      <td>90</td>\n",
       "      <td>2648</td>\n",
       "      <td>15.0</td>\n",
       "      <td>70</td>\n",
       "      <td>21.0</td>\n",
       "    </tr>\n",
       "    <tr>\n",
       "      <td>33</td>\n",
       "      <td>amc gremlin</td>\n",
       "      <td>6</td>\n",
       "      <td>232.0</td>\n",
       "      <td>100</td>\n",
       "      <td>2634</td>\n",
       "      <td>13.0</td>\n",
       "      <td>71</td>\n",
       "      <td>19.0</td>\n",
       "    </tr>\n",
       "    <tr>\n",
       "      <td>...</td>\n",
       "      <td>...</td>\n",
       "      <td>...</td>\n",
       "      <td>...</td>\n",
       "      <td>...</td>\n",
       "      <td>...</td>\n",
       "      <td>...</td>\n",
       "      <td>...</td>\n",
       "      <td>...</td>\n",
       "    </tr>\n",
       "    <tr>\n",
       "      <td>364</td>\n",
       "      <td>oldsmobile cutlass ls</td>\n",
       "      <td>8</td>\n",
       "      <td>350.0</td>\n",
       "      <td>105</td>\n",
       "      <td>3725</td>\n",
       "      <td>19.0</td>\n",
       "      <td>81</td>\n",
       "      <td>26.6</td>\n",
       "    </tr>\n",
       "    <tr>\n",
       "      <td>365</td>\n",
       "      <td>ford granada gl</td>\n",
       "      <td>6</td>\n",
       "      <td>200.0</td>\n",
       "      <td>88</td>\n",
       "      <td>3060</td>\n",
       "      <td>17.1</td>\n",
       "      <td>81</td>\n",
       "      <td>20.2</td>\n",
       "    </tr>\n",
       "    <tr>\n",
       "      <td>366</td>\n",
       "      <td>chrysler lebaron salon</td>\n",
       "      <td>6</td>\n",
       "      <td>225.0</td>\n",
       "      <td>85</td>\n",
       "      <td>3465</td>\n",
       "      <td>16.6</td>\n",
       "      <td>81</td>\n",
       "      <td>17.6</td>\n",
       "    </tr>\n",
       "    <tr>\n",
       "      <td>386</td>\n",
       "      <td>buick century limited</td>\n",
       "      <td>6</td>\n",
       "      <td>181.0</td>\n",
       "      <td>110</td>\n",
       "      <td>2945</td>\n",
       "      <td>16.4</td>\n",
       "      <td>82</td>\n",
       "      <td>25.0</td>\n",
       "    </tr>\n",
       "    <tr>\n",
       "      <td>389</td>\n",
       "      <td>ford granada l</td>\n",
       "      <td>6</td>\n",
       "      <td>232.0</td>\n",
       "      <td>112</td>\n",
       "      <td>2835</td>\n",
       "      <td>14.7</td>\n",
       "      <td>82</td>\n",
       "      <td>22.0</td>\n",
       "    </tr>\n",
       "  </tbody>\n",
       "</table>\n",
       "<p>91 rows × 8 columns</p>\n",
       "</div>"
      ],
      "text/plain": [
       "                   car name  cyl   disp   hp    wt   acc  yr   mpg\n",
       "15          plymouth duster    6  198.0   95  2833  15.5  70  22.0\n",
       "16               amc hornet    6  199.0   97  2774  15.5  70  18.0\n",
       "17            ford maverick    6  200.0   85  2587  16.0  70  21.0\n",
       "24              amc gremlin    6  199.0   90  2648  15.0  70  21.0\n",
       "33              amc gremlin    6  232.0  100  2634  13.0  71  19.0\n",
       "..                      ...  ...    ...  ...   ...   ...  ..   ...\n",
       "364   oldsmobile cutlass ls    8  350.0  105  3725  19.0  81  26.6\n",
       "365         ford granada gl    6  200.0   88  3060  17.1  81  20.2\n",
       "366  chrysler lebaron salon    6  225.0   85  3465  16.6  81  17.6\n",
       "386   buick century limited    6  181.0  110  2945  16.4  82  25.0\n",
       "389          ford granada l    6  232.0  112  2835  14.7  82  22.0\n",
       "\n",
       "[91 rows x 8 columns]"
      ]
     },
     "execution_count": 52,
     "metadata": {},
     "output_type": "execute_result"
    }
   ],
   "source": [
    "DF3=df[df['labels']==2][['car name','cyl', 'disp', 'hp', 'wt', 'acc', 'yr', 'mpg']]\n",
    "print(type(DF3))\n",
    "print('Shape of DF3 :', DF3.shape)\n",
    "DF3"
   ]
  },
  {
   "cell_type": "markdown",
   "metadata": {},
   "source": [
    "## Data frame cluster 4"
   ]
  },
  {
   "cell_type": "code",
   "execution_count": 53,
   "metadata": {},
   "outputs": [
    {
     "name": "stdout",
     "output_type": "stream",
     "text": [
      "<class 'pandas.core.frame.DataFrame'>\n",
      "Shape of DF4 : (95, 8)\n"
     ]
    },
    {
     "data": {
      "text/html": [
       "<div>\n",
       "<style scoped>\n",
       "    .dataframe tbody tr th:only-of-type {\n",
       "        vertical-align: middle;\n",
       "    }\n",
       "\n",
       "    .dataframe tbody tr th {\n",
       "        vertical-align: top;\n",
       "    }\n",
       "\n",
       "    .dataframe thead th {\n",
       "        text-align: right;\n",
       "    }\n",
       "</style>\n",
       "<table border=\"1\" class=\"dataframe\">\n",
       "  <thead>\n",
       "    <tr style=\"text-align: right;\">\n",
       "      <th></th>\n",
       "      <th>car name</th>\n",
       "      <th>cyl</th>\n",
       "      <th>disp</th>\n",
       "      <th>hp</th>\n",
       "      <th>wt</th>\n",
       "      <th>acc</th>\n",
       "      <th>yr</th>\n",
       "      <th>mpg</th>\n",
       "    </tr>\n",
       "  </thead>\n",
       "  <tbody>\n",
       "    <tr>\n",
       "      <td>14</td>\n",
       "      <td>toyota corona mark ii</td>\n",
       "      <td>4</td>\n",
       "      <td>113.0</td>\n",
       "      <td>95</td>\n",
       "      <td>2372</td>\n",
       "      <td>15.0</td>\n",
       "      <td>70</td>\n",
       "      <td>24.0</td>\n",
       "    </tr>\n",
       "    <tr>\n",
       "      <td>18</td>\n",
       "      <td>datsun pl510</td>\n",
       "      <td>4</td>\n",
       "      <td>97.0</td>\n",
       "      <td>88</td>\n",
       "      <td>2130</td>\n",
       "      <td>14.5</td>\n",
       "      <td>70</td>\n",
       "      <td>27.0</td>\n",
       "    </tr>\n",
       "    <tr>\n",
       "      <td>19</td>\n",
       "      <td>volkswagen 1131 deluxe sedan</td>\n",
       "      <td>4</td>\n",
       "      <td>97.0</td>\n",
       "      <td>46</td>\n",
       "      <td>1835</td>\n",
       "      <td>20.5</td>\n",
       "      <td>70</td>\n",
       "      <td>26.0</td>\n",
       "    </tr>\n",
       "    <tr>\n",
       "      <td>20</td>\n",
       "      <td>peugeot 504</td>\n",
       "      <td>4</td>\n",
       "      <td>110.0</td>\n",
       "      <td>87</td>\n",
       "      <td>2672</td>\n",
       "      <td>17.5</td>\n",
       "      <td>70</td>\n",
       "      <td>25.0</td>\n",
       "    </tr>\n",
       "    <tr>\n",
       "      <td>21</td>\n",
       "      <td>audi 100 ls</td>\n",
       "      <td>4</td>\n",
       "      <td>107.0</td>\n",
       "      <td>90</td>\n",
       "      <td>2430</td>\n",
       "      <td>14.5</td>\n",
       "      <td>70</td>\n",
       "      <td>24.0</td>\n",
       "    </tr>\n",
       "    <tr>\n",
       "      <td>...</td>\n",
       "      <td>...</td>\n",
       "      <td>...</td>\n",
       "      <td>...</td>\n",
       "      <td>...</td>\n",
       "      <td>...</td>\n",
       "      <td>...</td>\n",
       "      <td>...</td>\n",
       "      <td>...</td>\n",
       "    </tr>\n",
       "    <tr>\n",
       "      <td>234</td>\n",
       "      <td>pontiac sunbird coupe</td>\n",
       "      <td>4</td>\n",
       "      <td>151.0</td>\n",
       "      <td>88</td>\n",
       "      <td>2740</td>\n",
       "      <td>16.0</td>\n",
       "      <td>77</td>\n",
       "      <td>24.5</td>\n",
       "    </tr>\n",
       "    <tr>\n",
       "      <td>235</td>\n",
       "      <td>toyota corolla liftback</td>\n",
       "      <td>4</td>\n",
       "      <td>97.0</td>\n",
       "      <td>75</td>\n",
       "      <td>2265</td>\n",
       "      <td>18.2</td>\n",
       "      <td>77</td>\n",
       "      <td>26.0</td>\n",
       "    </tr>\n",
       "    <tr>\n",
       "      <td>236</td>\n",
       "      <td>ford mustang ii 2+2</td>\n",
       "      <td>4</td>\n",
       "      <td>140.0</td>\n",
       "      <td>89</td>\n",
       "      <td>2755</td>\n",
       "      <td>15.8</td>\n",
       "      <td>77</td>\n",
       "      <td>25.5</td>\n",
       "    </tr>\n",
       "    <tr>\n",
       "      <td>242</td>\n",
       "      <td>bmw 320i</td>\n",
       "      <td>4</td>\n",
       "      <td>121.0</td>\n",
       "      <td>110</td>\n",
       "      <td>2600</td>\n",
       "      <td>12.8</td>\n",
       "      <td>77</td>\n",
       "      <td>21.5</td>\n",
       "    </tr>\n",
       "    <tr>\n",
       "      <td>243</td>\n",
       "      <td>mazda rx-4</td>\n",
       "      <td>3</td>\n",
       "      <td>80.0</td>\n",
       "      <td>110</td>\n",
       "      <td>2720</td>\n",
       "      <td>13.5</td>\n",
       "      <td>77</td>\n",
       "      <td>21.5</td>\n",
       "    </tr>\n",
       "  </tbody>\n",
       "</table>\n",
       "<p>95 rows × 8 columns</p>\n",
       "</div>"
      ],
      "text/plain": [
       "                         car name  cyl   disp   hp    wt   acc  yr   mpg\n",
       "14          toyota corona mark ii    4  113.0   95  2372  15.0  70  24.0\n",
       "18                   datsun pl510    4   97.0   88  2130  14.5  70  27.0\n",
       "19   volkswagen 1131 deluxe sedan    4   97.0   46  1835  20.5  70  26.0\n",
       "20                    peugeot 504    4  110.0   87  2672  17.5  70  25.0\n",
       "21                    audi 100 ls    4  107.0   90  2430  14.5  70  24.0\n",
       "..                            ...  ...    ...  ...   ...   ...  ..   ...\n",
       "234         pontiac sunbird coupe    4  151.0   88  2740  16.0  77  24.5\n",
       "235       toyota corolla liftback    4   97.0   75  2265  18.2  77  26.0\n",
       "236           ford mustang ii 2+2    4  140.0   89  2755  15.8  77  25.5\n",
       "242                      bmw 320i    4  121.0  110  2600  12.8  77  21.5\n",
       "243                    mazda rx-4    3   80.0  110  2720  13.5  77  21.5\n",
       "\n",
       "[95 rows x 8 columns]"
      ]
     },
     "execution_count": 53,
     "metadata": {},
     "output_type": "execute_result"
    }
   ],
   "source": [
    "DF4=df[df['labels']==3][['car name', 'cyl', 'disp', 'hp', 'wt', 'acc', 'yr', 'mpg']]\n",
    "print(type(DF4))\n",
    "print('Shape of DF4 :', DF4.shape)\n",
    "DF4"
   ]
  },
  {
   "cell_type": "markdown",
   "metadata": {},
   "source": [
    "## LinearRegression models for different data frames with mpg as target variable"
   ]
  },
  {
   "cell_type": "code",
   "execution_count": 54,
   "metadata": {},
   "outputs": [],
   "source": [
    "from sklearn.model_selection import train_test_split\n",
    "from sklearn.linear_model import LinearRegression\n",
    "from sklearn.ensemble import RandomForestRegressor\n",
    "from sklearn.metrics import mean_squared_error\n",
    "from sklearn import preprocessing"
   ]
  },
  {
   "cell_type": "markdown",
   "metadata": {},
   "source": [
    "# DF1"
   ]
  },
  {
   "cell_type": "code",
   "execution_count": 55,
   "metadata": {},
   "outputs": [
    {
     "name": "stdout",
     "output_type": "stream",
     "text": [
      "(116, 7) (116,)\n"
     ]
    }
   ],
   "source": [
    "DF1['car name']=preprocessing.LabelEncoder().fit_transform(DF1['car name'])\n",
    "X = DF1.drop(['mpg'],axis='columns',inplace=False)\n",
    "Y = DF1['mpg']\n",
    "print(X.shape,Y.shape)"
   ]
  },
  {
   "cell_type": "code",
   "execution_count": 56,
   "metadata": {},
   "outputs": [
    {
     "name": "stdout",
     "output_type": "stream",
     "text": [
      "     1,Before   2,After\n",
      "216      31.5  3.449988\n",
      "217      30.0  3.401197\n",
      "218      36.0  3.583519\n",
      "220      33.5  3.511545\n",
      "233      29.0  3.367296\n",
      "..        ...       ...\n",
      "393      27.0  3.295837\n",
      "394      44.0  3.784190\n",
      "395      32.0  3.465736\n",
      "396      28.0  3.332205\n",
      "397      31.0  3.433987\n",
      "\n",
      "[116 rows x 2 columns]\n"
     ]
    },
    {
     "data": {
      "text/plain": [
       "array([[<matplotlib.axes._subplots.AxesSubplot object at 0x0000016007062A48>,\n",
       "        <matplotlib.axes._subplots.AxesSubplot object at 0x00000160058F76C8>]],\n",
       "      dtype=object)"
      ]
     },
     "execution_count": 56,
     "metadata": {},
     "output_type": "execute_result"
    },
    {
     "data": {
      "image/png": "[encoded data removed]",
      "text/plain": [
       "<Figure size 432x288 with 2 Axes>"
      ]
     },
     "metadata": {
      "needs_background": "light"
     },
     "output_type": "display_data"
    }
   ],
   "source": [
    "mpg = pd.DataFrame({\"1,Before\":Y,\"2,After\":np.log(Y)})\n",
    "print(mpg)\n",
    "mpg.hist()"
   ]
  },
  {
   "cell_type": "code",
   "execution_count": 57,
   "metadata": {},
   "outputs": [],
   "source": [
    "Y=np.log(Y)"
   ]
  },
  {
   "cell_type": "code",
   "execution_count": 58,
   "metadata": {},
   "outputs": [
    {
     "data": {
      "text/plain": [
       "(35, 7)"
      ]
     },
     "execution_count": 58,
     "metadata": {},
     "output_type": "execute_result"
    }
   ],
   "source": [
    "X_train, X_test, Y_train, Y_test = train_test_split(X, Y, test_size=0.30, random_state=6)\n",
    "X_test.shape"
   ]
  },
  {
   "cell_type": "code",
   "execution_count": 59,
   "metadata": {},
   "outputs": [],
   "source": [
    "lgr = LinearRegression(fit_intercept=True)\n",
    "modellin1 = lgr.fit(X_train,Y_train)\n",
    "predicitonlin1= lgr.predict(X_test)"
   ]
  },
  {
   "cell_type": "code",
   "execution_count": 60,
   "metadata": {},
   "outputs": [
    {
     "name": "stdout",
     "output_type": "stream",
     "text": [
      "MSE : 0.010869678593046151\n",
      "RMSE : 0.10425775075765903\n",
      "Test R^2: 0.7098058576852785\n",
      "Train R^2 : 0.5765663350946348\n"
     ]
    }
   ],
   "source": [
    "print('MSE :',mean_squared_error(Y_test,predicitonlin1))# MSE\n",
    "print('RMSE :',  np.sqrt(mean_squared_error(Y_test,predicitonlin1)))#RMSE\n",
    "print('Test R^2:' ,modellin1.score(X_test,Y_test)) # Test R^2\n",
    "print('Train R^2 :',modellin1.score(X_train,Y_train))# Train R^2"
   ]
  },
  {
   "cell_type": "code",
   "execution_count": 61,
   "metadata": {},
   "outputs": [
    {
     "name": "stdout",
     "output_type": "stream",
     "text": [
      "The coefficient for car name is 0.00022337497817825466\n",
      "The coefficient for cyl is 0.1149391212946237\n",
      "The coefficient for disp is 0.0005441728937041557\n",
      "The coefficient for hp is -0.0023993591674846557\n",
      "The coefficient for wt is -0.0003295528270050704\n",
      "The coefficient for acc is 0.009086058530025755\n",
      "The coefficient for yr is 0.024935746714547177\n"
     ]
    }
   ],
   "source": [
    "for x, col_name in enumerate(X_train.columns):\n",
    "    print(\"The coefficient for {} is {}\".format(col_name, lgr.coef_[x]))"
   ]
  },
  {
   "cell_type": "markdown",
   "metadata": {},
   "source": [
    "# DF 2"
   ]
  },
  {
   "cell_type": "code",
   "execution_count": 62,
   "metadata": {},
   "outputs": [
    {
     "name": "stdout",
     "output_type": "stream",
     "text": [
      "(96, 7) (96,)\n"
     ]
    }
   ],
   "source": [
    "DF2['car name']=preprocessing.LabelEncoder().fit_transform(DF2['car name'])\n",
    "X = DF2.drop(['mpg'],axis='columns',inplace=False)\n",
    "Y = DF2['mpg']\n",
    "print(X.shape,Y.shape)"
   ]
  },
  {
   "cell_type": "code",
   "execution_count": 63,
   "metadata": {},
   "outputs": [
    {
     "name": "stdout",
     "output_type": "stream",
     "text": [
      "     1,Before   2,After\n",
      "0        18.0  2.890372\n",
      "1        15.0  2.708050\n",
      "2        18.0  2.890372\n",
      "3        16.0  2.772589\n",
      "4        17.0  2.833213\n",
      "..        ...       ...\n",
      "287      16.5  2.803360\n",
      "288      18.2  2.901422\n",
      "289      16.9  2.827314\n",
      "290      15.5  2.740840\n",
      "292      18.5  2.917771\n",
      "\n",
      "[96 rows x 2 columns]\n"
     ]
    },
    {
     "data": {
      "text/plain": [
       "array([[<matplotlib.axes._subplots.AxesSubplot object at 0x00000160068A9488>,\n",
       "        <matplotlib.axes._subplots.AxesSubplot object at 0x0000016006A958C8>]],\n",
       "      dtype=object)"
      ]
     },
     "execution_count": 63,
     "metadata": {},
     "output_type": "execute_result"
    },
    {
     "data": {
      "image/png": "[encoded data removed]",
      "text/plain": [
       "<Figure size 432x288 with 2 Axes>"
      ]
     },
     "metadata": {
      "needs_background": "light"
     },
     "output_type": "display_data"
    }
   ],
   "source": [
    "mpg = pd.DataFrame({\"1,Before\":Y,\"2,After\":np.log(Y)})\n",
    "print(mpg)\n",
    "mpg.hist()"
   ]
  },
  {
   "cell_type": "code",
   "execution_count": 64,
   "metadata": {},
   "outputs": [],
   "source": [
    "Y=np.log(Y)"
   ]
  },
  {
   "cell_type": "code",
   "execution_count": 65,
   "metadata": {},
   "outputs": [
    {
     "data": {
      "text/plain": [
       "(29, 7)"
      ]
     },
     "execution_count": 65,
     "metadata": {},
     "output_type": "execute_result"
    }
   ],
   "source": [
    "X_train, X_test, Y_train, Y_test = train_test_split(X, Y, test_size=0.30, random_state=6)\n",
    "X_test.shape"
   ]
  },
  {
   "cell_type": "code",
   "execution_count": 66,
   "metadata": {},
   "outputs": [],
   "source": [
    "lgr = LinearRegression(fit_intercept=True)\n",
    "modellin1 = lgr.fit(X_train,Y_train)\n",
    "predicitonlin1= lgr.predict(X_test)"
   ]
  },
  {
   "cell_type": "code",
   "execution_count": 67,
   "metadata": {},
   "outputs": [
    {
     "name": "stdout",
     "output_type": "stream",
     "text": [
      "MSE : 0.0073692743162056045\n",
      "RMSE : 0.08584447749392854\n",
      "Test R^2: 0.7072361010396551\n",
      "Train R^2 : 0.5060086028257346\n"
     ]
    }
   ],
   "source": [
    "print('MSE :',mean_squared_error(Y_test,predicitonlin1))# MSE\n",
    "print('RMSE :',  np.sqrt(mean_squared_error(Y_test,predicitonlin1)))#RMSE\n",
    "print('Test R^2:' ,modellin1.score(X_test,Y_test)) # Test R^2\n",
    "print('Train R^2 :',modellin1.score(X_train,Y_train))# Train R^2"
   ]
  },
  {
   "cell_type": "code",
   "execution_count": 68,
   "metadata": {},
   "outputs": [
    {
     "name": "stdout",
     "output_type": "stream",
     "text": [
      "The coefficient for car name is -2.4248830956875596e-05\n",
      "The coefficient for cyl is -2.168404344971009e-18\n",
      "The coefficient for disp is -0.00023527575004035324\n",
      "The coefficient for hp is -0.0019940198619323637\n",
      "The coefficient for wt is -3.6119730453639474e-05\n",
      "The coefficient for acc is -0.042578497769980087\n",
      "The coefficient for yr is 0.02649284330996426\n"
     ]
    }
   ],
   "source": [
    "for x, col_name in enumerate(X_train.columns):\n",
    "    print(\"The coefficient for {} is {}\".format(col_name, lgr.coef_[x]))"
   ]
  },
  {
   "cell_type": "markdown",
   "metadata": {},
   "source": [
    "# DF 3"
   ]
  },
  {
   "cell_type": "code",
   "execution_count": 69,
   "metadata": {},
   "outputs": [
    {
     "name": "stdout",
     "output_type": "stream",
     "text": [
      "(91, 7) (91,)\n"
     ]
    }
   ],
   "source": [
    "DF3['car name']=preprocessing.LabelEncoder().fit_transform(DF3['car name'])\n",
    "X = DF3.drop(['mpg'],axis='columns',inplace=False)\n",
    "Y = DF3['mpg']\n",
    "print(X.shape,Y.shape)"
   ]
  },
  {
   "cell_type": "code",
   "execution_count": 70,
   "metadata": {},
   "outputs": [
    {
     "name": "stdout",
     "output_type": "stream",
     "text": [
      "     1,Before   2,After\n",
      "15       22.0  3.091042\n",
      "16       18.0  2.890372\n",
      "17       21.0  3.044522\n",
      "24       21.0  3.044522\n",
      "33       19.0  2.944439\n",
      "..        ...       ...\n",
      "364      26.6  3.280911\n",
      "365      20.2  3.005683\n",
      "366      17.6  2.867899\n",
      "386      25.0  3.218876\n",
      "389      22.0  3.091042\n",
      "\n",
      "[91 rows x 2 columns]\n"
     ]
    },
    {
     "data": {
      "text/plain": [
       "array([[<matplotlib.axes._subplots.AxesSubplot object at 0x0000016006A52CC8>,\n",
       "        <matplotlib.axes._subplots.AxesSubplot object at 0x0000016006980148>]],\n",
       "      dtype=object)"
      ]
     },
     "execution_count": 70,
     "metadata": {},
     "output_type": "execute_result"
    },
    {
     "data": {
      "image/png": "[encoded data removed]",
      "text/plain": [
       "<Figure size 432x288 with 2 Axes>"
      ]
     },
     "metadata": {
      "needs_background": "light"
     },
     "output_type": "display_data"
    }
   ],
   "source": [
    "mpg = pd.DataFrame({\"1,Before\":Y,\"2,After\":np.log(Y)})\n",
    "print(mpg)\n",
    "mpg.hist()"
   ]
  },
  {
   "cell_type": "code",
   "execution_count": 71,
   "metadata": {},
   "outputs": [],
   "source": [
    "Y=np.log(Y)"
   ]
  },
  {
   "cell_type": "code",
   "execution_count": 72,
   "metadata": {},
   "outputs": [
    {
     "data": {
      "text/plain": [
       "(28, 7)"
      ]
     },
     "execution_count": 72,
     "metadata": {},
     "output_type": "execute_result"
    }
   ],
   "source": [
    "X_train, X_test, Y_train, Y_test = train_test_split(X, Y, test_size=0.30, random_state=5)\n",
    "X_test.shape"
   ]
  },
  {
   "cell_type": "code",
   "execution_count": 73,
   "metadata": {},
   "outputs": [],
   "source": [
    "lgr = LinearRegression(fit_intercept=True)\n",
    "modellin1 = lgr.fit(X_train,Y_train)\n",
    "predicitonlin1= lgr.predict(X_test)"
   ]
  },
  {
   "cell_type": "code",
   "execution_count": 74,
   "metadata": {},
   "outputs": [
    {
     "name": "stdout",
     "output_type": "stream",
     "text": [
      "MSE : 0.008281062220397399\n",
      "RMSE : 0.0910003418696732\n",
      "Test R^2: 0.5764581022048569\n",
      "Train R^2 : 0.453179059538736\n"
     ]
    }
   ],
   "source": [
    "print('MSE :',mean_squared_error(Y_test,predicitonlin1))# MSE\n",
    "print('RMSE :',  np.sqrt(mean_squared_error(Y_test,predicitonlin1)))#RMSE\n",
    "print('Test R^2:' ,modellin1.score(X_test,Y_test)) # Test R^2\n",
    "print('Train R^2 :',modellin1.score(X_train,Y_train))# Train R^2"
   ]
  },
  {
   "cell_type": "code",
   "execution_count": 75,
   "metadata": {},
   "outputs": [
    {
     "name": "stdout",
     "output_type": "stream",
     "text": [
      "The coefficient for car name is -7.598338718749788e-05\n",
      "The coefficient for cyl is 0.05298749832775059\n",
      "The coefficient for disp is -0.0004637071708127849\n",
      "The coefficient for hp is -0.0010805989366605825\n",
      "The coefficient for wt is -0.0001576263554791837\n",
      "The coefficient for acc is -0.01428231234461125\n",
      "The coefficient for yr is 0.02186116713305833\n"
     ]
    }
   ],
   "source": [
    "for x, col_name in enumerate(X_train.columns):\n",
    "    print(\"The coefficient for {} is {}\".format(col_name, lgr.coef_[x]))"
   ]
  },
  {
   "cell_type": "markdown",
   "metadata": {},
   "source": [
    "# DF 4"
   ]
  },
  {
   "cell_type": "code",
   "execution_count": 76,
   "metadata": {},
   "outputs": [
    {
     "name": "stdout",
     "output_type": "stream",
     "text": [
      "(95, 7) (95,)\n"
     ]
    }
   ],
   "source": [
    "DF4['car name']=preprocessing.LabelEncoder().fit_transform(DF4['car name'])\n",
    "X = DF4.drop(['mpg'],axis='columns',inplace=False)\n",
    "Y = DF4['mpg']\n",
    "print(X.shape,Y.shape)"
   ]
  },
  {
   "cell_type": "code",
   "execution_count": 77,
   "metadata": {},
   "outputs": [
    {
     "name": "stdout",
     "output_type": "stream",
     "text": [
      "     1,Before   2,After\n",
      "14       24.0  3.178054\n",
      "18       27.0  3.295837\n",
      "19       26.0  3.258097\n",
      "20       25.0  3.218876\n",
      "21       24.0  3.178054\n",
      "..        ...       ...\n",
      "234      24.5  3.198673\n",
      "235      26.0  3.258097\n",
      "236      25.5  3.238678\n",
      "242      21.5  3.068053\n",
      "243      21.5  3.068053\n",
      "\n",
      "[95 rows x 2 columns]\n"
     ]
    },
    {
     "data": {
      "text/plain": [
       "array([[<matplotlib.axes._subplots.AxesSubplot object at 0x0000016006B57C48>,\n",
       "        <matplotlib.axes._subplots.AxesSubplot object at 0x0000016006B6B088>]],\n",
       "      dtype=object)"
      ]
     },
     "execution_count": 77,
     "metadata": {},
     "output_type": "execute_result"
    },
    {
     "data": {
      "image/png": "[encoded data removed]",
      "text/plain": [
       "<Figure size 432x288 with 2 Axes>"
      ]
     },
     "metadata": {
      "needs_background": "light"
     },
     "output_type": "display_data"
    }
   ],
   "source": [
    "mpg = pd.DataFrame({\"1,Before\":Y,\"2,After\":np.log(Y)})\n",
    "print(mpg)\n",
    "mpg.hist()"
   ]
  },
  {
   "cell_type": "code",
   "execution_count": 78,
   "metadata": {},
   "outputs": [],
   "source": [
    "Y=np.log(Y)"
   ]
  },
  {
   "cell_type": "code",
   "execution_count": 79,
   "metadata": {},
   "outputs": [
    {
     "data": {
      "text/plain": [
       "(29, 7)"
      ]
     },
     "execution_count": 79,
     "metadata": {},
     "output_type": "execute_result"
    }
   ],
   "source": [
    "X_train, X_test, Y_train, Y_test = train_test_split(X, Y, test_size=0.30, random_state=45)\n",
    "X_test.shape"
   ]
  },
  {
   "cell_type": "code",
   "execution_count": 80,
   "metadata": {},
   "outputs": [],
   "source": [
    "lgr = LinearRegression(fit_intercept=True)\n",
    "modellin1 = lgr.fit(X_train,Y_train)\n",
    "predicitonlin1= lgr.predict(X_test)"
   ]
  },
  {
   "cell_type": "code",
   "execution_count": 81,
   "metadata": {},
   "outputs": [
    {
     "name": "stdout",
     "output_type": "stream",
     "text": [
      "MSE : 0.0043996258416260006\n",
      "RMSE : 0.06632967542228743\n",
      "Test R^2: 0.7421018022296217\n",
      "Train R^2 : 0.6296310759554571\n"
     ]
    }
   ],
   "source": [
    "print('MSE :',mean_squared_error(Y_test,predicitonlin1))# MSE\n",
    "print('RMSE :',  np.sqrt(mean_squared_error(Y_test,predicitonlin1)))#RMSE\n",
    "print('Test R^2:' ,modellin1.score(X_test,Y_test)) # Test R^2\n",
    "print('Train R^2 :',modellin1.score(X_train,Y_train))# Train R^2"
   ]
  },
  {
   "cell_type": "code",
   "execution_count": 82,
   "metadata": {},
   "outputs": [
    {
     "name": "stdout",
     "output_type": "stream",
     "text": [
      "The coefficient for car name is -0.0008673865847774396\n",
      "The coefficient for cyl is 0.3261030726649689\n",
      "The coefficient for disp is -0.002040024367003555\n",
      "The coefficient for hp is -0.0013899802244353404\n",
      "The coefficient for wt is -0.00019553856302661574\n",
      "The coefficient for acc is -0.009841314942021477\n",
      "The coefficient for yr is 0.010771531773004866\n"
     ]
    }
   ],
   "source": [
    "for x, col_name in enumerate(X_train.columns):\n",
    "    print(\"The coefficient for {} is {}\".format(col_name, lgr.coef_[x]))"
   ]
  }
 ],
 "metadata": {
  "kernelspec": {
   "display_name": "Python 3",
   "language": "python",
   "name": "python3"
  },
  "language_info": {
   "codemirror_mode": {
    "name": "ipython",
    "version": 3
   },
   "file_extension": ".py",
   "mimetype": "text/x-python",
   "name": "python",
   "nbconvert_exporter": "python",
   "pygments_lexer": "ipython3",
   "version": "3.7.4"
  }
 },
 "nbformat": 4,
 "nbformat_minor": 2
}
