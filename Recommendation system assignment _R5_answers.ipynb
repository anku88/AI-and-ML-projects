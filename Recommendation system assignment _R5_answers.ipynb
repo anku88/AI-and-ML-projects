{
 "cells": [
  {
   "cell_type": "markdown",
   "metadata": {},
   "source": [
    "##### 1. Read and explore the given dataset. ( Rename column/add headers, plot\n",
    "##### histograms, find data characteristics) ( 3 Marks)\n",
    "##### 2. Build Popularity Recommender model. ( 10 marks)\n",
    "#####  3. Split the data randomly into a train and test dataset. ( For example, split it in\n",
    "##### 70/30 ratio) ( 2 marks)\n",
    "##### 4. Build Collaborative Filtering model. ( 10 marks)\n",
    "#####  5. Evaluate the above model. ( Once the model is trained on the training data, it\n",
    "#####  can be used to compute the error (like RMSE) on predictions made on the test\n",
    "#####  data.) You can also use a different method to evaluate the models. ( 5 marks)\n",
    "##### 6. Get top - K ( K = 5) recommendations. Since our goal is to recommend new\n",
    "#####  products to each user based on his/her habits, we will recommend 5 new\n",
    "##### products. ( 10 marks)\n",
    "##### 7. Summarise your insights. ( 10 marks)"
   ]
  },
  {
   "cell_type": "markdown",
   "metadata": {},
   "source": [
    "#### Importing libraries"
   ]
  },
  {
   "cell_type": "code",
   "execution_count": 1,
   "metadata": {},
   "outputs": [],
   "source": [
    "import pandas as pd \n",
    "import numpy as np \n",
    "import seaborn as sns\n",
    "import matplotlib.pyplot as plt \n",
    "from sklearn.model_selection import train_test_split"
   ]
  },
  {
   "cell_type": "markdown",
   "metadata": {},
   "source": [
    "##### Reading ,changing columns name and exploring Data along with histograms or countplots"
   ]
  },
  {
   "cell_type": "code",
   "execution_count": 2,
   "metadata": {},
   "outputs": [],
   "source": [
    "df = pd.read_csv('Electronic_dataset.csv')"
   ]
  },
  {
   "cell_type": "code",
   "execution_count": 3,
   "metadata": {},
   "outputs": [
    {
     "name": "stdout",
     "output_type": "stream",
     "text": [
      "<class 'pandas.core.frame.DataFrame'>\n",
      "RangeIndex: 500000 entries, 0 to 499999\n",
      "Data columns (total 4 columns):\n",
      " #   Column     Non-Null Count   Dtype  \n",
      "---  ------     --------------   -----  \n",
      " 0   user_id    500000 non-null  object \n",
      " 1   prod_id    500000 non-null  object \n",
      " 2   ratings    500000 non-null  float64\n",
      " 3   timestamp  500000 non-null  int64  \n",
      "dtypes: float64(1), int64(1), object(2)\n",
      "memory usage: 15.3+ MB\n"
     ]
    }
   ],
   "source": [
    "df.info()"
   ]
  },
  {
   "cell_type": "code",
   "execution_count": 4,
   "metadata": {},
   "outputs": [
    {
     "data": {
      "text/html": [
       "<div>\n",
       "<style scoped>\n",
       "    .dataframe tbody tr th:only-of-type {\n",
       "        vertical-align: middle;\n",
       "    }\n",
       "\n",
       "    .dataframe tbody tr th {\n",
       "        vertical-align: top;\n",
       "    }\n",
       "\n",
       "    .dataframe thead th {\n",
       "        text-align: right;\n",
       "    }\n",
       "</style>\n",
       "<table border=\"1\" class=\"dataframe\">\n",
       "  <thead>\n",
       "    <tr style=\"text-align: right;\">\n",
       "      <th></th>\n",
       "      <th>user_id</th>\n",
       "      <th>prod_id</th>\n",
       "      <th>ratings</th>\n",
       "      <th>timestamp</th>\n",
       "    </tr>\n",
       "  </thead>\n",
       "  <tbody>\n",
       "    <tr>\n",
       "      <th>0</th>\n",
       "      <td>A3L1GVWVJKWZZS</td>\n",
       "      <td>B0058UUR6E</td>\n",
       "      <td>5.0</td>\n",
       "      <td>1364774400</td>\n",
       "    </tr>\n",
       "    <tr>\n",
       "      <th>1</th>\n",
       "      <td>A08831071BVKZMKNCPI5S</td>\n",
       "      <td>B009ID0VVS</td>\n",
       "      <td>5.0</td>\n",
       "      <td>1357257600</td>\n",
       "    </tr>\n",
       "    <tr>\n",
       "      <th>2</th>\n",
       "      <td>A1SINU2I4IOPNU</td>\n",
       "      <td>B000GBO9IM</td>\n",
       "      <td>4.0</td>\n",
       "      <td>1358121600</td>\n",
       "    </tr>\n",
       "    <tr>\n",
       "      <th>3</th>\n",
       "      <td>A3P3P31EEOX2BD</td>\n",
       "      <td>B00CDCIOHO</td>\n",
       "      <td>3.0</td>\n",
       "      <td>1404950400</td>\n",
       "    </tr>\n",
       "    <tr>\n",
       "      <th>4</th>\n",
       "      <td>A3DBLJ3MPBJQMN</td>\n",
       "      <td>B000MS3VGA</td>\n",
       "      <td>5.0</td>\n",
       "      <td>1294444800</td>\n",
       "    </tr>\n",
       "  </tbody>\n",
       "</table>\n",
       "</div>"
      ],
      "text/plain": [
       "                 user_id     prod_id  ratings   timestamp\n",
       "0         A3L1GVWVJKWZZS  B0058UUR6E      5.0  1364774400\n",
       "1  A08831071BVKZMKNCPI5S  B009ID0VVS      5.0  1357257600\n",
       "2         A1SINU2I4IOPNU  B000GBO9IM      4.0  1358121600\n",
       "3         A3P3P31EEOX2BD  B00CDCIOHO      3.0  1404950400\n",
       "4         A3DBLJ3MPBJQMN  B000MS3VGA      5.0  1294444800"
      ]
     },
     "execution_count": 4,
     "metadata": {},
     "output_type": "execute_result"
    }
   ],
   "source": [
    "df.head()"
   ]
  },
  {
   "cell_type": "code",
   "execution_count": 5,
   "metadata": {},
   "outputs": [
    {
     "data": {
      "text/plain": [
       "(500000, 4)"
      ]
     },
     "execution_count": 5,
     "metadata": {},
     "output_type": "execute_result"
    }
   ],
   "source": [
    "df.shape"
   ]
  },
  {
   "cell_type": "code",
   "execution_count": 6,
   "metadata": {},
   "outputs": [
    {
     "data": {
      "text/plain": [
       "<matplotlib.axes._subplots.AxesSubplot at 0x2a02ebd3dc8>"
      ]
     },
     "execution_count": 6,
     "metadata": {},
     "output_type": "execute_result"
    },
    {
     "data": {
      "image/png": "[encoded data removed]",
      "text/plain": [
       "<Figure size 432x288 with 1 Axes>"
      ]
     },
     "metadata": {
      "needs_background": "light"
     },
     "output_type": "display_data"
    }
   ],
   "source": [
    "sns.countplot(df['ratings'])"
   ]
  },
  {
   "cell_type": "code",
   "execution_count": 7,
   "metadata": {},
   "outputs": [
    {
     "data": {
      "text/plain": [
       "0"
      ]
     },
     "execution_count": 7,
     "metadata": {},
     "output_type": "execute_result"
    }
   ],
   "source": [
    "df.isnull().any().sum()"
   ]
  },
  {
   "cell_type": "code",
   "execution_count": 8,
   "metadata": {},
   "outputs": [],
   "source": [
    "user_counts=df['user_id'].value_counts()"
   ]
  },
  {
   "cell_type": "code",
   "execution_count": 9,
   "metadata": {},
   "outputs": [
    {
     "data": {
      "text/plain": [
       "A680RUE1FDO8B     36\n",
       "A3OXHLG6DIBRW8    34\n",
       "ADLVFFE4VBT8      30\n",
       "A5JLAU2ARJ0BO     29\n",
       "A2NOW4U7W3F7RI    28\n",
       "                  ..\n",
       "A9TQ8FBRNQDBH      1\n",
       "A1417SB1XZSYDH     1\n",
       "A3CKST1Q8O0O9Z     1\n",
       "A3KGBRH8Z94AA0     1\n",
       "AADHDMFHH5JWY      1\n",
       "Name: user_id, Length: 448368, dtype: int64"
      ]
     },
     "execution_count": 9,
     "metadata": {},
     "output_type": "execute_result"
    }
   ],
   "source": [
    "user_counts"
   ]
  },
  {
   "cell_type": "code",
   "execution_count": 10,
   "metadata": {},
   "outputs": [],
   "source": [
    "df.drop('timestamp',axis=1,inplace=True)"
   ]
  },
  {
   "cell_type": "code",
   "execution_count": 11,
   "metadata": {},
   "outputs": [
    {
     "data": {
      "text/plain": [
       "user_id     object\n",
       "prod_id     object\n",
       "ratings    float64\n",
       "dtype: object"
      ]
     },
     "execution_count": 11,
     "metadata": {},
     "output_type": "execute_result"
    }
   ],
   "source": [
    "df.dtypes"
   ]
  },
  {
   "cell_type": "code",
   "execution_count": 12,
   "metadata": {},
   "outputs": [
    {
     "data": {
      "text/plain": [
       "count    500000.000000\n",
       "mean          4.013172\n",
       "std           1.379996\n",
       "min           1.000000\n",
       "25%           3.000000\n",
       "50%           5.000000\n",
       "75%           5.000000\n",
       "max           5.000000\n",
       "Name: ratings, dtype: float64"
      ]
     },
     "execution_count": 12,
     "metadata": {},
     "output_type": "execute_result"
    }
   ],
   "source": [
    "df['ratings'].describe()"
   ]
  },
  {
   "cell_type": "code",
   "execution_count": 13,
   "metadata": {},
   "outputs": [
    {
     "data": {
      "text/plain": [
       "448368"
      ]
     },
     "execution_count": 13,
     "metadata": {},
     "output_type": "execute_result"
    }
   ],
   "source": [
    "df['user_id'].nunique()"
   ]
  },
  {
   "cell_type": "code",
   "execution_count": 14,
   "metadata": {},
   "outputs": [
    {
     "data": {
      "text/plain": [
       "130138"
      ]
     },
     "execution_count": 14,
     "metadata": {},
     "output_type": "execute_result"
    }
   ],
   "source": [
    "df['prod_id'].nunique()"
   ]
  },
  {
   "cell_type": "code",
   "execution_count": 15,
   "metadata": {},
   "outputs": [],
   "source": [
    "# Top 10 users with most ratings\n",
    "\n",
    "top_10 = df.groupby('user_id').size().sort_values(ascending=False)[0:10]"
   ]
  },
  {
   "cell_type": "code",
   "execution_count": 16,
   "metadata": {},
   "outputs": [],
   "source": [
    "counts=df.user_id.value_counts()\n",
    "df_datatrim=df[df.user_id.isin(counts[counts>=15].index)]"
   ]
  },
  {
   "cell_type": "code",
   "execution_count": 17,
   "metadata": {},
   "outputs": [
    {
     "name": "stdout",
     "output_type": "stream",
     "text": [
      "Number of users who have rated 15 or more items = 757\n",
      "Number of unique users  =  39\n",
      "Number of unique products  =  725\n"
     ]
    }
   ],
   "source": [
    "print('Number of users who have rated 15 or more items =', len(df_datatrim))\n",
    "print('Number of unique users  = ', df_datatrim['user_id'].nunique())\n",
    "print('Number of unique products  = ', df_datatrim['prod_id'].nunique())"
   ]
  },
  {
   "cell_type": "code",
   "execution_count": 18,
   "metadata": {},
   "outputs": [
    {
     "name": "stdout",
     "output_type": "stream",
     "text": [
      "<class 'pandas.core.frame.DataFrame'>\n",
      "Int64Index: 757 entries, 413 to 499916\n",
      "Data columns (total 3 columns):\n",
      " #   Column   Non-Null Count  Dtype  \n",
      "---  ------   --------------  -----  \n",
      " 0   user_id  757 non-null    object \n",
      " 1   prod_id  757 non-null    object \n",
      " 2   ratings  757 non-null    float64\n",
      "dtypes: float64(1), object(2)\n",
      "memory usage: 23.7+ KB\n"
     ]
    }
   ],
   "source": [
    "df_datatrim.info()"
   ]
  },
  {
   "cell_type": "markdown",
   "metadata": {},
   "source": [
    "#####  Popularity based Recommendation model"
   ]
  },
  {
   "cell_type": "code",
   "execution_count": 19,
   "metadata": {},
   "outputs": [],
   "source": [
    "# Lets device a score column i.e. Count of user_id for each unique product \n",
    "df_datatrim_grp = df_datatrim.groupby('prod_id').agg({'user_id': 'count'}).reset_index()\n",
    "df_datatrim_grp.rename(columns = {'user_id': 'score'},inplace=True)"
   ]
  },
  {
   "cell_type": "code",
   "execution_count": 20,
   "metadata": {},
   "outputs": [
    {
     "data": {
      "text/html": [
       "<div>\n",
       "<style scoped>\n",
       "    .dataframe tbody tr th:only-of-type {\n",
       "        vertical-align: middle;\n",
       "    }\n",
       "\n",
       "    .dataframe tbody tr th {\n",
       "        vertical-align: top;\n",
       "    }\n",
       "\n",
       "    .dataframe thead th {\n",
       "        text-align: right;\n",
       "    }\n",
       "</style>\n",
       "<table border=\"1\" class=\"dataframe\">\n",
       "  <thead>\n",
       "    <tr style=\"text-align: right;\">\n",
       "      <th></th>\n",
       "      <th>prod_id</th>\n",
       "      <th>score</th>\n",
       "      <th>rank</th>\n",
       "    </tr>\n",
       "  </thead>\n",
       "  <tbody>\n",
       "    <tr>\n",
       "      <th>67</th>\n",
       "      <td>B0000AAAPF</td>\n",
       "      <td>3</td>\n",
       "      <td>1.0</td>\n",
       "    </tr>\n",
       "    <tr>\n",
       "      <th>341</th>\n",
       "      <td>B003ES5ZSW</td>\n",
       "      <td>3</td>\n",
       "      <td>2.0</td>\n",
       "    </tr>\n",
       "    <tr>\n",
       "      <th>414</th>\n",
       "      <td>B004T9RR6I</td>\n",
       "      <td>3</td>\n",
       "      <td>3.0</td>\n",
       "    </tr>\n",
       "    <tr>\n",
       "      <th>513</th>\n",
       "      <td>B007WTAJTO</td>\n",
       "      <td>3</td>\n",
       "      <td>4.0</td>\n",
       "    </tr>\n",
       "    <tr>\n",
       "      <th>691</th>\n",
       "      <td>B00HHRP11C</td>\n",
       "      <td>3</td>\n",
       "      <td>5.0</td>\n",
       "    </tr>\n",
       "  </tbody>\n",
       "</table>\n",
       "</div>"
      ],
      "text/plain": [
       "        prod_id  score  rank\n",
       "67   B0000AAAPF      3   1.0\n",
       "341  B003ES5ZSW      3   2.0\n",
       "414  B004T9RR6I      3   3.0\n",
       "513  B007WTAJTO      3   4.0\n",
       "691  B00HHRP11C      3   5.0"
      ]
     },
     "execution_count": 20,
     "metadata": {},
     "output_type": "execute_result"
    }
   ],
   "source": [
    "#Sort the products on recommendation score \n",
    "final_pop = df_datatrim_grp.sort_values(['score', 'prod_id'], ascending = [0,1]) \n",
    "      \n",
    "#Generate a recommendation rank based upon score \n",
    "final_pop['rank'] = final_pop['score'].rank(ascending=0, method='first') \n",
    "          \n",
    "#Get the top 5 recommendations \n",
    "pop_reco = final_pop.head(5) \n",
    "pop_reco"
   ]
  },
  {
   "cell_type": "markdown",
   "metadata": {},
   "source": [
    "#### Splitting  the data randomly into train and test dataset."
   ]
  },
  {
   "cell_type": "code",
   "execution_count": 21,
   "metadata": {},
   "outputs": [
    {
     "data": {
      "text/html": [
       "<div>\n",
       "<style scoped>\n",
       "    .dataframe tbody tr th:only-of-type {\n",
       "        vertical-align: middle;\n",
       "    }\n",
       "\n",
       "    .dataframe tbody tr th {\n",
       "        vertical-align: top;\n",
       "    }\n",
       "\n",
       "    .dataframe thead th {\n",
       "        text-align: right;\n",
       "    }\n",
       "</style>\n",
       "<table border=\"1\" class=\"dataframe\">\n",
       "  <thead>\n",
       "    <tr style=\"text-align: right;\">\n",
       "      <th></th>\n",
       "      <th>user_id</th>\n",
       "      <th>prod_id</th>\n",
       "      <th>ratings</th>\n",
       "    </tr>\n",
       "  </thead>\n",
       "  <tbody>\n",
       "    <tr>\n",
       "      <th>444282</th>\n",
       "      <td>A5JLAU2ARJ0BO</td>\n",
       "      <td>B000083K9F</td>\n",
       "      <td>5.0</td>\n",
       "    </tr>\n",
       "    <tr>\n",
       "      <th>216624</th>\n",
       "      <td>A3T7V207KRDE2O</td>\n",
       "      <td>B001G9WAF2</td>\n",
       "      <td>5.0</td>\n",
       "    </tr>\n",
       "    <tr>\n",
       "      <th>130269</th>\n",
       "      <td>A1ODOGXEYECQQ8</td>\n",
       "      <td>B00JGGUBPI</td>\n",
       "      <td>4.0</td>\n",
       "    </tr>\n",
       "    <tr>\n",
       "      <th>219081</th>\n",
       "      <td>A231WM2Z2JL0U3</td>\n",
       "      <td>B00006SG3W</td>\n",
       "      <td>5.0</td>\n",
       "    </tr>\n",
       "    <tr>\n",
       "      <th>368225</th>\n",
       "      <td>A2AY4YUOX2N1BQ</td>\n",
       "      <td>B003TO51LC</td>\n",
       "      <td>4.0</td>\n",
       "    </tr>\n",
       "  </tbody>\n",
       "</table>\n",
       "</div>"
      ],
      "text/plain": [
       "               user_id     prod_id  ratings\n",
       "444282   A5JLAU2ARJ0BO  B000083K9F      5.0\n",
       "216624  A3T7V207KRDE2O  B001G9WAF2      5.0\n",
       "130269  A1ODOGXEYECQQ8  B00JGGUBPI      4.0\n",
       "219081  A231WM2Z2JL0U3  B00006SG3W      5.0\n",
       "368225  A2AY4YUOX2N1BQ  B003TO51LC      4.0"
      ]
     },
     "execution_count": 21,
     "metadata": {},
     "output_type": "execute_result"
    }
   ],
   "source": [
    "#Split the data randomnly into train and test datasets into 70:30 ratio\n",
    "train_data, test_data = train_test_split(df_datatrim, test_size = 0.3, random_state=0)\n",
    "train_data.head()"
   ]
  },
  {
   "cell_type": "markdown",
   "metadata": {},
   "source": [
    "#### User Based Collaborative Filtering model"
   ]
  },
  {
   "cell_type": "code",
   "execution_count": 22,
   "metadata": {},
   "outputs": [],
   "source": [
    "# Transforming  data to surprise format\n",
    "from surprise import Dataset,Reader\n",
    "from surprise.model_selection import cross_validate\n",
    "from surprise import NormalPredictor\n",
    "\n",
    "\n",
    "reader = Reader(rating_scale=(1, 5))"
   ]
  },
  {
   "cell_type": "code",
   "execution_count": 23,
   "metadata": {},
   "outputs": [],
   "source": [
    "temp=df_datatrim.groupby('user_id').agg({'prod_id':'count'}).reset_index()\n",
    "user_l=temp[temp['prod_id']>=10]['user_id'].unique()\n",
    "df_datatrim_new=df_datatrim[df_datatrim['user_id'].isin(user_l)]"
   ]
  },
  {
   "cell_type": "code",
   "execution_count": 24,
   "metadata": {},
   "outputs": [
    {
     "data": {
      "text/html": [
       "<div>\n",
       "<style scoped>\n",
       "    .dataframe tbody tr th:only-of-type {\n",
       "        vertical-align: middle;\n",
       "    }\n",
       "\n",
       "    .dataframe tbody tr th {\n",
       "        vertical-align: top;\n",
       "    }\n",
       "\n",
       "    .dataframe thead th {\n",
       "        text-align: right;\n",
       "    }\n",
       "</style>\n",
       "<table border=\"1\" class=\"dataframe\">\n",
       "  <thead>\n",
       "    <tr style=\"text-align: right;\">\n",
       "      <th></th>\n",
       "      <th>user_id</th>\n",
       "      <th>prod_id</th>\n",
       "      <th>ratings</th>\n",
       "    </tr>\n",
       "  </thead>\n",
       "  <tbody>\n",
       "    <tr>\n",
       "      <th>413</th>\n",
       "      <td>A10Y058K7B96C6</td>\n",
       "      <td>B005HSG3VK</td>\n",
       "      <td>5.0</td>\n",
       "    </tr>\n",
       "    <tr>\n",
       "      <th>983</th>\n",
       "      <td>A680RUE1FDO8B</td>\n",
       "      <td>B004URTJ6U</td>\n",
       "      <td>4.0</td>\n",
       "    </tr>\n",
       "    <tr>\n",
       "      <th>2726</th>\n",
       "      <td>A6FIAB28IS79</td>\n",
       "      <td>B004J3ZV62</td>\n",
       "      <td>5.0</td>\n",
       "    </tr>\n",
       "    <tr>\n",
       "      <th>2740</th>\n",
       "      <td>A6FIAB28IS79</td>\n",
       "      <td>B0012UKOV2</td>\n",
       "      <td>5.0</td>\n",
       "    </tr>\n",
       "    <tr>\n",
       "      <th>2808</th>\n",
       "      <td>A2NYK9KWFMJV4Y</td>\n",
       "      <td>B00ISFNSBW</td>\n",
       "      <td>5.0</td>\n",
       "    </tr>\n",
       "  </tbody>\n",
       "</table>\n",
       "</div>"
      ],
      "text/plain": [
       "             user_id     prod_id  ratings\n",
       "413   A10Y058K7B96C6  B005HSG3VK      5.0\n",
       "983    A680RUE1FDO8B  B004URTJ6U      4.0\n",
       "2726    A6FIAB28IS79  B004J3ZV62      5.0\n",
       "2740    A6FIAB28IS79  B0012UKOV2      5.0\n",
       "2808  A2NYK9KWFMJV4Y  B00ISFNSBW      5.0"
      ]
     },
     "execution_count": 24,
     "metadata": {},
     "output_type": "execute_result"
    }
   ],
   "source": [
    "df_datatrim.head()\n"
   ]
  },
  {
   "cell_type": "code",
   "execution_count": 25,
   "metadata": {},
   "outputs": [],
   "source": [
    "new_data = Dataset.load_from_df(df_datatrim, reader)"
   ]
  },
  {
   "cell_type": "code",
   "execution_count": 26,
   "metadata": {},
   "outputs": [
    {
     "data": {
      "text/html": [
       "<div>\n",
       "<style scoped>\n",
       "    .dataframe tbody tr th:only-of-type {\n",
       "        vertical-align: middle;\n",
       "    }\n",
       "\n",
       "    .dataframe tbody tr th {\n",
       "        vertical-align: top;\n",
       "    }\n",
       "\n",
       "    .dataframe thead th {\n",
       "        text-align: right;\n",
       "    }\n",
       "</style>\n",
       "<table border=\"1\" class=\"dataframe\">\n",
       "  <thead>\n",
       "    <tr style=\"text-align: right;\">\n",
       "      <th></th>\n",
       "      <th>user_id</th>\n",
       "      <th>prod_id</th>\n",
       "      <th>ratings</th>\n",
       "    </tr>\n",
       "  </thead>\n",
       "  <tbody>\n",
       "    <tr>\n",
       "      <th>413</th>\n",
       "      <td>A10Y058K7B96C6</td>\n",
       "      <td>B005HSG3VK</td>\n",
       "      <td>5.0</td>\n",
       "    </tr>\n",
       "    <tr>\n",
       "      <th>983</th>\n",
       "      <td>A680RUE1FDO8B</td>\n",
       "      <td>B004URTJ6U</td>\n",
       "      <td>4.0</td>\n",
       "    </tr>\n",
       "    <tr>\n",
       "      <th>2726</th>\n",
       "      <td>A6FIAB28IS79</td>\n",
       "      <td>B004J3ZV62</td>\n",
       "      <td>5.0</td>\n",
       "    </tr>\n",
       "    <tr>\n",
       "      <th>2740</th>\n",
       "      <td>A6FIAB28IS79</td>\n",
       "      <td>B0012UKOV2</td>\n",
       "      <td>5.0</td>\n",
       "    </tr>\n",
       "    <tr>\n",
       "      <th>2808</th>\n",
       "      <td>A2NYK9KWFMJV4Y</td>\n",
       "      <td>B00ISFNSBW</td>\n",
       "      <td>5.0</td>\n",
       "    </tr>\n",
       "  </tbody>\n",
       "</table>\n",
       "</div>"
      ],
      "text/plain": [
       "             user_id     prod_id  ratings\n",
       "413   A10Y058K7B96C6  B005HSG3VK      5.0\n",
       "983    A680RUE1FDO8B  B004URTJ6U      4.0\n",
       "2726    A6FIAB28IS79  B004J3ZV62      5.0\n",
       "2740    A6FIAB28IS79  B0012UKOV2      5.0\n",
       "2808  A2NYK9KWFMJV4Y  B00ISFNSBW      5.0"
      ]
     },
     "execution_count": 26,
     "metadata": {},
     "output_type": "execute_result"
    }
   ],
   "source": [
    "new_data.df.head()"
   ]
  },
  {
   "cell_type": "code",
   "execution_count": 27,
   "metadata": {},
   "outputs": [],
   "source": [
    "from surprise.model_selection import train_test_split\n",
    "from surprise import accuracy\n",
    "trainset, testset = train_test_split(new_data, test_size = .3)"
   ]
  },
  {
   "cell_type": "code",
   "execution_count": 28,
   "metadata": {},
   "outputs": [
    {
     "data": {
      "text/plain": [
       "<surprise.prediction_algorithms.matrix_factorization.SVD at 0x2a03172f508>"
      ]
     },
     "execution_count": 28,
     "metadata": {},
     "output_type": "execute_result"
    }
   ],
   "source": [
    "from surprise import SVD\n",
    "algo = SVD()\n",
    "algo.fit(trainset)"
   ]
  },
  {
   "cell_type": "code",
   "execution_count": 29,
   "metadata": {},
   "outputs": [],
   "source": [
    "test_prediction = algo.test(testset)"
   ]
  },
  {
   "cell_type": "code",
   "execution_count": 30,
   "metadata": {},
   "outputs": [
    {
     "data": {
      "text/plain": [
       "[Prediction(uid='A4WEZJOIZIV4U', iid='B00DDK1QUC', r_ui=4.0, est=4.191474383463822, details={'was_impossible': False}),\n",
       " Prediction(uid='ARBKYIVNYWK3C', iid='B009F1I1C4', r_ui=4.0, est=4.273220500540541, details={'was_impossible': False}),\n",
       " Prediction(uid='A3OA4DV4L81N1D', iid='B0014E9A2K', r_ui=5.0, est=4.36444986253731, details={'was_impossible': False}),\n",
       " Prediction(uid='A3LGT6UZL99IW1', iid='B001EYTPO8', r_ui=2.0, est=4.303926170761923, details={'was_impossible': False}),\n",
       " Prediction(uid='A3T7V207KRDE2O', iid='B0081FLFQE', r_ui=5.0, est=4.409120275608143, details={'was_impossible': False}),\n",
       " Prediction(uid='A680RUE1FDO8B', iid='B001BWLA8W', r_ui=5.0, est=4.4336302967511285, details={'was_impossible': False}),\n",
       " Prediction(uid='A1F9Z42CFF9IAY', iid='B0033A7JG2', r_ui=5.0, est=3.942725084909474, details={'was_impossible': False}),\n",
       " Prediction(uid='A23GFTVIETX7DS', iid='B000W6O08A', r_ui=5.0, est=4.397760613237492, details={'was_impossible': False}),\n",
       " Prediction(uid='A3A4ZAIBQWKOZS', iid='B006TF37H8', r_ui=5.0, est=4.564052232935691, details={'was_impossible': False}),\n",
       " Prediction(uid='A3OXHLG6DIBRW8', iid='B002HWRJY4', r_ui=5.0, est=4.453547265179576, details={'was_impossible': False}),\n",
       " Prediction(uid='A5JLAU2ARJ0BO', iid='B0001G0FFI', r_ui=5.0, est=3.9181633742423485, details={'was_impossible': False}),\n",
       " Prediction(uid='A6FIAB28IS79', iid='B00AWYN0BU', r_ui=5.0, est=3.998095674098538, details={'was_impossible': False}),\n",
       " Prediction(uid='A3LGT6UZL99IW1', iid='B002U5MKLK', r_ui=5.0, est=4.303926170761923, details={'was_impossible': False}),\n",
       " Prediction(uid='A22CW0ZHY3NJH8', iid='B001OQC0H0', r_ui=4.0, est=4.340939192674282, details={'was_impossible': False}),\n",
       " Prediction(uid='ALDAF4VVLFRHP', iid='B003CVLTCW', r_ui=5.0, est=4.281950388964325, details={'was_impossible': False}),\n",
       " Prediction(uid='A2WLNSZ9U0T1S3', iid='B001U0O5QO', r_ui=5.0, est=4.169210783285548, details={'was_impossible': False}),\n",
       " Prediction(uid='A1CMD08Z49PGKQ', iid='B0094IYXFC', r_ui=5.0, est=4.694924484278572, details={'was_impossible': False}),\n",
       " Prediction(uid='A2NYK9KWFMJV4Y', iid='B00JZC972Q', r_ui=5.0, est=4.627368341630765, details={'was_impossible': False}),\n",
       " Prediction(uid='AGVWTYW0ULXHT', iid='B000JJN9PK', r_ui=4.0, est=4.087775033184216, details={'was_impossible': False}),\n",
       " Prediction(uid='A1CMD08Z49PGKQ', iid='B007WTAJTO', r_ui=5.0, est=4.784703739809739, details={'was_impossible': False}),\n",
       " Prediction(uid='A1XXMNLOLKNO0I', iid='B00008OT2G', r_ui=5.0, est=4.6677936059064695, details={'was_impossible': False}),\n",
       " Prediction(uid='A11KZ906QD08C5', iid='B001DYARHS', r_ui=5.0, est=4.466163233671641, details={'was_impossible': False}),\n",
       " Prediction(uid='A23GFTVIETX7DS', iid='B0036VNPGG', r_ui=4.0, est=4.397760613237492, details={'was_impossible': False}),\n",
       " Prediction(uid='A680RUE1FDO8B', iid='B000RZQZM0', r_ui=5.0, est=4.4336302967511285, details={'was_impossible': False}),\n",
       " Prediction(uid='A3T7V207KRDE2O', iid='B006TF3746', r_ui=3.0, est=4.409120275608143, details={'was_impossible': False}),\n",
       " Prediction(uid='A2WB7LZ595CR50', iid='B001EKABK4', r_ui=1.0, est=4.040914230115081, details={'was_impossible': False}),\n",
       " Prediction(uid='AGVWTYW0ULXHT', iid='B00G4UQ6U8', r_ui=5.0, est=4.087775033184216, details={'was_impossible': False}),\n",
       " Prediction(uid='A2NOW4U7W3F7RI', iid='B00I0Z427E', r_ui=5.0, est=4.511973504835925, details={'was_impossible': False}),\n",
       " Prediction(uid='A17BUUBOU0598B', iid='B009JPBPWO', r_ui=4.0, est=4.022594968147445, details={'was_impossible': False}),\n",
       " Prediction(uid='A12DQZKRKTNF5E', iid='B003N8GVUY', r_ui=5.0, est=4.211261529386976, details={'was_impossible': False}),\n",
       " Prediction(uid='A11KZ906QD08C5', iid='B00004WCG6', r_ui=1.0, est=4.466163233671641, details={'was_impossible': False}),\n",
       " Prediction(uid='A4WEZJOIZIV4U', iid='B00CI3BISU', r_ui=4.0, est=4.398980626653284, details={'was_impossible': False}),\n",
       " Prediction(uid='A3LGT6UZL99IW1', iid='B004DBD4TG', r_ui=5.0, est=4.303926170761923, details={'was_impossible': False}),\n",
       " Prediction(uid='A3CW0ZLUO5X2B1', iid='B0032OX1N4', r_ui=5.0, est=4.237265713632973, details={'was_impossible': False}),\n",
       " Prediction(uid='A1UQBFCERIP7VJ', iid='B00IEFUB02', r_ui=5.0, est=4.510796050779112, details={'was_impossible': False}),\n",
       " Prediction(uid='A22CW0ZHY3NJH8', iid='B00BB6LTI4', r_ui=5.0, est=4.340939192674282, details={'was_impossible': False}),\n",
       " Prediction(uid='A22CW0ZHY3NJH8', iid='B000BKBHJM', r_ui=4.0, est=4.340939192674282, details={'was_impossible': False}),\n",
       " Prediction(uid='A3LGT6UZL99IW1', iid='B005DMBUZY', r_ui=5.0, est=4.303926170761923, details={'was_impossible': False}),\n",
       " Prediction(uid='A6FIAB28IS79', iid='B001SER47O', r_ui=5.0, est=3.998095674098538, details={'was_impossible': False}),\n",
       " Prediction(uid='ARBKYIVNYWK3C', iid='B00267S7XW', r_ui=5.0, est=4.273220500540541, details={'was_impossible': False}),\n",
       " Prediction(uid='A1ODOGXEYECQQ8', iid='B00CMJZAOI', r_ui=5.0, est=4.366202872367871, details={'was_impossible': False}),\n",
       " Prediction(uid='A18S2VGUH9SCV5', iid='B0079TOGDW', r_ui=4.0, est=4.034050823988703, details={'was_impossible': False}),\n",
       " Prediction(uid='A2NYK9KWFMJV4Y', iid='B000E1WDS2', r_ui=3.0, est=4.709517682614188, details={'was_impossible': False}),\n",
       " Prediction(uid='A1ODOGXEYECQQ8', iid='B001GS8FZ2', r_ui=5.0, est=4.366202872367871, details={'was_impossible': False}),\n",
       " Prediction(uid='A17BUUBOU0598B', iid='B0012JNQYK', r_ui=4.0, est=4.022594968147445, details={'was_impossible': False}),\n",
       " Prediction(uid='A3OXHLG6DIBRW8', iid='B008OMQY24', r_ui=5.0, est=4.453547265179576, details={'was_impossible': False}),\n",
       " Prediction(uid='A3CW0ZLUO5X2B1', iid='B001JQ4QCW', r_ui=5.0, est=4.237265713632973, details={'was_impossible': False}),\n",
       " Prediction(uid='A23GFTVIETX7DS', iid='B009T65WXG', r_ui=4.0, est=4.397760613237492, details={'was_impossible': False}),\n",
       " Prediction(uid='AWPODHOB4GFWL', iid='B00004TWM6', r_ui=5.0, est=4.50814803506467, details={'was_impossible': False}),\n",
       " Prediction(uid='A3OXHLG6DIBRW8', iid='B00009VSBE', r_ui=5.0, est=4.453547265179576, details={'was_impossible': False}),\n",
       " Prediction(uid='A2NOW4U7W3F7RI', iid='B001F7AJKI', r_ui=5.0, est=4.511973504835925, details={'was_impossible': False}),\n",
       " Prediction(uid='A23GFTVIETX7DS', iid='B00092QYV8', r_ui=4.0, est=4.397760613237492, details={'was_impossible': False}),\n",
       " Prediction(uid='A3T7V207KRDE2O', iid='B000L47AHG', r_ui=5.0, est=4.409120275608143, details={'was_impossible': False}),\n",
       " Prediction(uid='A4WEZJOIZIV4U', iid='B007RE0EQC', r_ui=5.0, est=4.398980626653284, details={'was_impossible': False}),\n",
       " Prediction(uid='A680RUE1FDO8B', iid='B001AALJ9U', r_ui=3.0, est=4.4336302967511285, details={'was_impossible': False}),\n",
       " Prediction(uid='A3CW0ZLUO5X2B1', iid='B004UHY8SO', r_ui=5.0, est=4.237265713632973, details={'was_impossible': False}),\n",
       " Prediction(uid='A2WLNSZ9U0T1S3', iid='B00EVIBN26', r_ui=2.0, est=4.169210783285548, details={'was_impossible': False}),\n",
       " Prediction(uid='A2AY4YUOX2N1BQ', iid='B00A5323NO', r_ui=5.0, est=4.531279730850296, details={'was_impossible': False}),\n",
       " Prediction(uid='A23GFTVIETX7DS', iid='B005GM1Q1O', r_ui=3.0, est=4.397760613237492, details={'was_impossible': False}),\n",
       " Prediction(uid='ARBKYIVNYWK3C', iid='B0011F19CG', r_ui=3.0, est=4.273220500540541, details={'was_impossible': False}),\n",
       " Prediction(uid='A22CW0ZHY3NJH8', iid='B0002KKIUA', r_ui=5.0, est=4.340939192674282, details={'was_impossible': False}),\n",
       " Prediction(uid='ALDAF4VVLFRHP', iid='B005IQSSJG', r_ui=5.0, est=4.281950388964325, details={'was_impossible': False}),\n",
       " Prediction(uid='A3A4ZAIBQWKOZS', iid='B003XE3X8Q', r_ui=5.0, est=4.564052232935691, details={'was_impossible': False}),\n",
       " Prediction(uid='AWPODHOB4GFWL', iid='B00022TNHM', r_ui=5.0, est=4.50814803506467, details={'was_impossible': False}),\n",
       " Prediction(uid='A5JLAU2ARJ0BO', iid='B00006DY6J', r_ui=4.0, est=3.9181633742423485, details={'was_impossible': False}),\n",
       " Prediction(uid='A11KZ906QD08C5', iid='B0013FDLM0', r_ui=5.0, est=4.466163233671641, details={'was_impossible': False}),\n",
       " Prediction(uid='A23GFTVIETX7DS', iid='B0000AAAPF', r_ui=3.0, est=4.189516451470008, details={'was_impossible': False}),\n",
       " Prediction(uid='A10Y058K7B96C6', iid='B00A5TXSCI', r_ui=5.0, est=4.411607185408106, details={'was_impossible': False}),\n",
       " Prediction(uid='A1XXMNLOLKNO0I', iid='B008VO4S5K', r_ui=5.0, est=4.6677936059064695, details={'was_impossible': False}),\n",
       " Prediction(uid='AWPODHOB4GFWL', iid='B00D1QC50S', r_ui=5.0, est=4.50814803506467, details={'was_impossible': False}),\n",
       " Prediction(uid='A4WEZJOIZIV4U', iid='B00691WMJG', r_ui=4.0, est=4.398980626653284, details={'was_impossible': False}),\n",
       " Prediction(uid='AGVWTYW0ULXHT', iid='B00D65AJ0C', r_ui=4.0, est=4.087775033184216, details={'was_impossible': False}),\n",
       " Prediction(uid='A17BUUBOU0598B', iid='B00113V748', r_ui=4.0, est=4.022594968147445, details={'was_impossible': False}),\n",
       " Prediction(uid='A11KZ906QD08C5', iid='B003ASUEP0', r_ui=5.0, est=4.466163233671641, details={'was_impossible': False}),\n",
       " Prediction(uid='A2AY4YUOX2N1BQ', iid='B000HKDA0U', r_ui=5.0, est=4.531279730850296, details={'was_impossible': False}),\n",
       " Prediction(uid='A3A4ZAIBQWKOZS', iid='B003NYSZUW', r_ui=5.0, est=4.564052232935691, details={'was_impossible': False}),\n",
       " Prediction(uid='A19W47CXJJP1MI', iid='B001FA1O0O', r_ui=5.0, est=4.3886241054992725, details={'was_impossible': False}),\n",
       " Prediction(uid='A2WB7LZ595CR50', iid='B003B3P2BK', r_ui=5.0, est=4.040914230115081, details={'was_impossible': False}),\n",
       " Prediction(uid='ADLVFFE4VBT8', iid='B00HJ4GX10', r_ui=5.0, est=4.496213991518724, details={'was_impossible': False}),\n",
       " Prediction(uid='A22CW0ZHY3NJH8', iid='B00CQJUT9U', r_ui=5.0, est=4.340939192674282, details={'was_impossible': False}),\n",
       " Prediction(uid='A3LGT6UZL99IW1', iid='B000B7CM4E', r_ui=5.0, est=4.303926170761923, details={'was_impossible': False}),\n",
       " Prediction(uid='ADLVFFE4VBT8', iid='B00ECERI32', r_ui=4.0, est=4.496213991518724, details={'was_impossible': False}),\n",
       " Prediction(uid='A3AYSYSLHU26U9', iid='B0093YV4R2', r_ui=5.0, est=4.24130762166472, details={'was_impossible': False}),\n",
       " Prediction(uid='A5JLAU2ARJ0BO', iid='B00006JQQ6', r_ui=5.0, est=3.9181633742423485, details={'was_impossible': False}),\n",
       " Prediction(uid='ALDAF4VVLFRHP', iid='B0032O6S70', r_ui=5.0, est=4.281950388964325, details={'was_impossible': False}),\n",
       " Prediction(uid='A23GFTVIETX7DS', iid='B001TH7GVE', r_ui=5.0, est=4.397760613237492, details={'was_impossible': False}),\n",
       " Prediction(uid='A6FIAB28IS79', iid='B004GV0HS4', r_ui=3.0, est=3.998095674098538, details={'was_impossible': False}),\n",
       " Prediction(uid='A17BUUBOU0598B', iid='B00142V7QY', r_ui=3.0, est=4.022594968147445, details={'was_impossible': False}),\n",
       " Prediction(uid='ADLVFFE4VBT8', iid='B003O8682Y', r_ui=5.0, est=4.496213991518724, details={'was_impossible': False}),\n",
       " Prediction(uid='A2WB7LZ595CR50', iid='B0092ML8QW', r_ui=5.0, est=4.040914230115081, details={'was_impossible': False}),\n",
       " Prediction(uid='AGVWTYW0ULXHT', iid='B001SJVU6K', r_ui=5.0, est=4.087775033184216, details={'was_impossible': False}),\n",
       " Prediction(uid='A1ODOGXEYECQQ8', iid='B00BVRQEKG', r_ui=4.0, est=4.366202872367871, details={'was_impossible': False}),\n",
       " Prediction(uid='A22CW0ZHY3NJH8', iid='B003I4FESI', r_ui=5.0, est=4.340939192674282, details={'was_impossible': False}),\n",
       " Prediction(uid='A2AY4YUOX2N1BQ', iid='B003AI272I', r_ui=5.0, est=4.531279730850296, details={'was_impossible': False}),\n",
       " Prediction(uid='A231WM2Z2JL0U3', iid='B00004Z4ZB', r_ui=3.0, est=4.199108459579307, details={'was_impossible': False}),\n",
       " Prediction(uid='A22CW0ZHY3NJH8', iid='B000O7K4LO', r_ui=2.0, est=4.340939192674282, details={'was_impossible': False}),\n",
       " Prediction(uid='A2NOW4U7W3F7RI', iid='B00FLKW0JI', r_ui=5.0, est=4.511973504835925, details={'was_impossible': False}),\n",
       " Prediction(uid='A680RUE1FDO8B', iid='B005GTNZUM', r_ui=5.0, est=4.4336302967511285, details={'was_impossible': False}),\n",
       " Prediction(uid='A1F9Z42CFF9IAY', iid='B0000AAAPF', r_ui=4.0, est=3.696330650643165, details={'was_impossible': False}),\n",
       " Prediction(uid='AEJAGHLC675A7', iid='B005IGVXJS', r_ui=5.0, est=4.572057756988777, details={'was_impossible': False}),\n",
       " Prediction(uid='A1VQHH85U7PX0', iid='B001M4XCHQ', r_ui=5.0, est=4.253977587500727, details={'was_impossible': False}),\n",
       " Prediction(uid='A2AY4YUOX2N1BQ', iid='B0027YYMQA', r_ui=4.0, est=4.531279730850296, details={'was_impossible': False}),\n",
       " Prediction(uid='AGVWTYW0ULXHT', iid='B006FLENJC', r_ui=4.0, est=4.087775033184216, details={'was_impossible': False}),\n",
       " Prediction(uid='A3CW0ZLUO5X2B1', iid='B001O94GNS', r_ui=5.0, est=4.237265713632973, details={'was_impossible': False}),\n",
       " Prediction(uid='ADLVFFE4VBT8', iid='B000VMU9VC', r_ui=5.0, est=4.496213991518724, details={'was_impossible': False}),\n",
       " Prediction(uid='ALDAF4VVLFRHP', iid='B004CLYEDC', r_ui=5.0, est=4.303219430918713, details={'was_impossible': False}),\n",
       " Prediction(uid='ARBKYIVNYWK3C', iid='B001MWRUZ8', r_ui=4.0, est=4.273220500540541, details={'was_impossible': False}),\n",
       " Prediction(uid='A3AYSYSLHU26U9', iid='B007VL8Y5E', r_ui=5.0, est=4.24130762166472, details={'was_impossible': False}),\n",
       " Prediction(uid='A2NOW4U7W3F7RI', iid='B0040QE998', r_ui=5.0, est=4.511973504835925, details={'was_impossible': False}),\n",
       " Prediction(uid='A1F9Z42CFF9IAY', iid='B000I1YIDQ', r_ui=4.0, est=3.942725084909474, details={'was_impossible': False}),\n",
       " Prediction(uid='A2WLNSZ9U0T1S3', iid='B005X9Y0YU', r_ui=3.0, est=4.169210783285548, details={'was_impossible': False}),\n",
       " Prediction(uid='A4WEZJOIZIV4U', iid='B00EFILVQU', r_ui=5.0, est=4.398980626653284, details={'was_impossible': False}),\n",
       " Prediction(uid='ADLVFFE4VBT8', iid='B0021AFZBQ', r_ui=4.0, est=4.496213991518724, details={'was_impossible': False}),\n",
       " Prediction(uid='A6FIAB28IS79', iid='B001FSJC6E', r_ui=3.0, est=3.998095674098538, details={'was_impossible': False}),\n",
       " Prediction(uid='A3T7V207KRDE2O', iid='B001G9WAF2', r_ui=5.0, est=4.409120275608143, details={'was_impossible': False}),\n",
       " Prediction(uid='A22CW0ZHY3NJH8', iid='B005HSG3TC', r_ui=5.0, est=4.340939192674282, details={'was_impossible': False}),\n",
       " Prediction(uid='A1XXMNLOLKNO0I', iid='B00390JT1O', r_ui=5.0, est=4.6677936059064695, details={'was_impossible': False}),\n",
       " Prediction(uid='A1F9Z42CFF9IAY', iid='B000M6XKEK', r_ui=4.0, est=3.942725084909474, details={'was_impossible': False}),\n",
       " Prediction(uid='A11KZ906QD08C5', iid='B003XATM94', r_ui=5.0, est=4.466163233671641, details={'was_impossible': False}),\n",
       " Prediction(uid='ARBKYIVNYWK3C', iid='B004T9RR6I', r_ui=4.0, est=4.340608827274215, details={'was_impossible': False}),\n",
       " Prediction(uid='A2WLNSZ9U0T1S3', iid='B001TRM4K2', r_ui=5.0, est=4.169210783285548, details={'was_impossible': False}),\n",
       " Prediction(uid='A1XXMNLOLKNO0I', iid='B00F4OOMQ0', r_ui=5.0, est=4.6677936059064695, details={'was_impossible': False}),\n",
       " Prediction(uid='A18S2VGUH9SCV5', iid='B002I3OZ7G', r_ui=4.0, est=4.034050823988703, details={'was_impossible': False}),\n",
       " Prediction(uid='A4WEZJOIZIV4U', iid='B000V9F3AW', r_ui=4.0, est=4.398980626653284, details={'was_impossible': False}),\n",
       " Prediction(uid='A3OXHLG6DIBRW8', iid='B005PUZOYM', r_ui=5.0, est=4.453547265179576, details={'was_impossible': False}),\n",
       " Prediction(uid='ADLVFFE4VBT8', iid='B00CD8ADKO', r_ui=4.0, est=4.525858137585278, details={'was_impossible': False}),\n",
       " Prediction(uid='A22CW0ZHY3NJH8', iid='B0092MD8OW', r_ui=4.0, est=4.340939192674282, details={'was_impossible': False}),\n",
       " Prediction(uid='A25C2M3QF9G7OQ', iid='B00CYX54C0', r_ui=3.0, est=4.468707077647947, details={'was_impossible': False}),\n",
       " Prediction(uid='A2XRMQA6PJ5ZJ8', iid='B008AF383S', r_ui=5.0, est=4.292601820255279, details={'was_impossible': False}),\n",
       " Prediction(uid='A11KZ906QD08C5', iid='B00HPM1FZ0', r_ui=3.0, est=4.466163233671641, details={'was_impossible': False}),\n",
       " Prediction(uid='A2AY4YUOX2N1BQ', iid='B0030U9ET0', r_ui=4.0, est=4.531279730850296, details={'was_impossible': False}),\n",
       " Prediction(uid='A6FIAB28IS79', iid='B00005ALB1', r_ui=3.0, est=3.998095674098538, details={'was_impossible': False}),\n",
       " Prediction(uid='A4WEZJOIZIV4U', iid='B00B7JLZQQ', r_ui=5.0, est=4.398980626653284, details={'was_impossible': False}),\n",
       " Prediction(uid='A2AY4YUOX2N1BQ', iid='B007FGYZFI', r_ui=5.0, est=4.531279730850296, details={'was_impossible': False}),\n",
       " Prediction(uid='AWPODHOB4GFWL', iid='B0014H16V0', r_ui=5.0, est=4.50814803506467, details={'was_impossible': False}),\n",
       " Prediction(uid='AGVWTYW0ULXHT', iid='B000YB862E', r_ui=4.0, est=4.087775033184216, details={'was_impossible': False}),\n",
       " Prediction(uid='A2XRMQA6PJ5ZJ8', iid='B000W66HZY', r_ui=5.0, est=4.292601820255279, details={'was_impossible': False}),\n",
       " Prediction(uid='A3A4ZAIBQWKOZS', iid='B003ES5ZSW', r_ui=5.0, est=4.689410699704518, details={'was_impossible': False}),\n",
       " Prediction(uid='A3OA4DV4L81N1D', iid='B009I32Y6S', r_ui=4.0, est=4.36444986253731, details={'was_impossible': False}),\n",
       " Prediction(uid='A1XXMNLOLKNO0I', iid='B0088PUEPK', r_ui=5.0, est=4.6677936059064695, details={'was_impossible': False}),\n",
       " Prediction(uid='A1F9Z42CFF9IAY', iid='B001IKEX8G', r_ui=5.0, est=3.942725084909474, details={'was_impossible': False}),\n",
       " Prediction(uid='A12DQZKRKTNF5E', iid='B00ETH7ERM', r_ui=4.0, est=4.211261529386976, details={'was_impossible': False}),\n",
       " Prediction(uid='A18S2VGUH9SCV5', iid='B00318CG5U', r_ui=1.0, est=4.034050823988703, details={'was_impossible': False}),\n",
       " Prediction(uid='A10Y058K7B96C6', iid='B00JC5Y6WM', r_ui=4.0, est=4.411607185408106, details={'was_impossible': False}),\n",
       " Prediction(uid='A4WEZJOIZIV4U', iid='B00884WH74', r_ui=5.0, est=4.398980626653284, details={'was_impossible': False}),\n",
       " Prediction(uid='A11KZ906QD08C5', iid='B00065JM94', r_ui=4.0, est=4.466163233671641, details={'was_impossible': False}),\n",
       " Prediction(uid='A3LGT6UZL99IW1', iid='B0085KAGJC', r_ui=1.0, est=4.303926170761923, details={'was_impossible': False}),\n",
       " Prediction(uid='A231WM2Z2JL0U3', iid='B00007LAYN', r_ui=4.0, est=4.199108459579307, details={'was_impossible': False}),\n",
       " Prediction(uid='A3LGT6UZL99IW1', iid='B002BH3Z8E', r_ui=5.0, est=4.303926170761923, details={'was_impossible': False}),\n",
       " Prediction(uid='A1VQHH85U7PX0', iid='B008HK3SSG', r_ui=4.0, est=4.253977587500727, details={'was_impossible': False}),\n",
       " Prediction(uid='A1VQHH85U7PX0', iid='B004R6WWK4', r_ui=5.0, est=4.253977587500727, details={'was_impossible': False}),\n",
       " Prediction(uid='A23GFTVIETX7DS', iid='B002QC6RI4', r_ui=5.0, est=4.397760613237492, details={'was_impossible': False}),\n",
       " Prediction(uid='A3OXHLG6DIBRW8', iid='B003X26LXW', r_ui=4.0, est=4.453547265179576, details={'was_impossible': False}),\n",
       " Prediction(uid='A3OXHLG6DIBRW8', iid='B0012QLV2C', r_ui=5.0, est=4.453547265179576, details={'was_impossible': False}),\n",
       " Prediction(uid='A2XRMQA6PJ5ZJ8', iid='B002Y1U2M4', r_ui=5.0, est=4.292601820255279, details={'was_impossible': False}),\n",
       " Prediction(uid='A680RUE1FDO8B', iid='B000JJSQCG', r_ui=5.0, est=4.4336302967511285, details={'was_impossible': False}),\n",
       " Prediction(uid='A4WEZJOIZIV4U', iid='B000UO6C5S', r_ui=5.0, est=4.398980626653284, details={'was_impossible': False}),\n",
       " Prediction(uid='ADLVFFE4VBT8', iid='B00D5EO27U', r_ui=4.0, est=4.496213991518724, details={'was_impossible': False}),\n",
       " Prediction(uid='A1F9Z42CFF9IAY', iid='B004TJ6JH6', r_ui=3.0, est=3.942725084909474, details={'was_impossible': False}),\n",
       " Prediction(uid='A1VQHH85U7PX0', iid='B000L47AHG', r_ui=5.0, est=4.253977587500727, details={'was_impossible': False}),\n",
       " Prediction(uid='A3CW0ZLUO5X2B1', iid='B0026L7B94', r_ui=2.0, est=4.237265713632973, details={'was_impossible': False}),\n",
       " Prediction(uid='A680RUE1FDO8B', iid='B000BF53RO', r_ui=4.0, est=4.4336302967511285, details={'was_impossible': False}),\n",
       " Prediction(uid='A2AY4YUOX2N1BQ', iid='B00005YV57', r_ui=5.0, est=4.531279730850296, details={'was_impossible': False}),\n",
       " Prediction(uid='ALDAF4VVLFRHP', iid='B00ADG5FLK', r_ui=5.0, est=4.273439024207479, details={'was_impossible': False}),\n",
       " Prediction(uid='A25C2M3QF9G7OQ', iid='B002MAPRYU', r_ui=5.0, est=4.468707077647947, details={'was_impossible': False}),\n",
       " Prediction(uid='A3CW0ZLUO5X2B1', iid='B007RMAS1K', r_ui=5.0, est=4.237265713632973, details={'was_impossible': False}),\n",
       " Prediction(uid='ARBKYIVNYWK3C', iid='B003ZX8B3W', r_ui=4.0, est=4.273220500540541, details={'was_impossible': False}),\n",
       " Prediction(uid='A10Y058K7B96C6', iid='B001N85NMI', r_ui=5.0, est=4.411607185408106, details={'was_impossible': False}),\n",
       " Prediction(uid='AWPODHOB4GFWL', iid='B00A81ICCE', r_ui=5.0, est=4.50814803506467, details={'was_impossible': False}),\n",
       " Prediction(uid='A680RUE1FDO8B', iid='B0067G0YR0', r_ui=5.0, est=4.4336302967511285, details={'was_impossible': False}),\n",
       " Prediction(uid='A680RUE1FDO8B', iid='B0019EHU8G', r_ui=5.0, est=4.4336302967511285, details={'was_impossible': False}),\n",
       " Prediction(uid='A12DQZKRKTNF5E', iid='B00H7FYEPI', r_ui=5.0, est=4.211261529386976, details={'was_impossible': False}),\n",
       " Prediction(uid='ARBKYIVNYWK3C', iid='B00IQ92L4K', r_ui=5.0, est=4.273220500540541, details={'was_impossible': False}),\n",
       " Prediction(uid='A1F9Z42CFF9IAY', iid='B002E9HBGG', r_ui=2.0, est=3.942725084909474, details={'was_impossible': False}),\n",
       " Prediction(uid='A2NOW4U7W3F7RI', iid='B001SJVU6K', r_ui=1.0, est=4.511973504835925, details={'was_impossible': False}),\n",
       " Prediction(uid='A3CW0ZLUO5X2B1', iid='B001DTCPBO', r_ui=4.0, est=4.237265713632973, details={'was_impossible': False}),\n",
       " Prediction(uid='A12DQZKRKTNF5E', iid='B00I4Z3JEM', r_ui=5.0, est=4.211261529386976, details={'was_impossible': False}),\n",
       " Prediction(uid='A3OXHLG6DIBRW8', iid='B000EM35N8', r_ui=5.0, est=4.453547265179576, details={'was_impossible': False}),\n",
       " Prediction(uid='A18S2VGUH9SCV5', iid='B001UJK66I', r_ui=2.0, est=4.034050823988703, details={'was_impossible': False}),\n",
       " Prediction(uid='A1CMD08Z49PGKQ', iid='B0074BW614', r_ui=5.0, est=4.638927739154959, details={'was_impossible': False}),\n",
       " Prediction(uid='A1ODOGXEYECQQ8', iid='B002TOJXNU', r_ui=4.0, est=4.366202872367871, details={'was_impossible': False}),\n",
       " Prediction(uid='A3OXHLG6DIBRW8', iid='B003DKQB02', r_ui=5.0, est=4.453547265179576, details={'was_impossible': False}),\n",
       " Prediction(uid='A2XRMQA6PJ5ZJ8', iid='B00FXYTLIK', r_ui=5.0, est=4.292601820255279, details={'was_impossible': False}),\n",
       " Prediction(uid='A2NOW4U7W3F7RI', iid='B00478O0JI', r_ui=5.0, est=4.511973504835925, details={'was_impossible': False}),\n",
       " Prediction(uid='A3T7V207KRDE2O', iid='B003RRYAXQ', r_ui=5.0, est=4.409120275608143, details={'was_impossible': False}),\n",
       " Prediction(uid='A11KZ906QD08C5', iid='B003FWHTTA', r_ui=4.0, est=4.466163233671641, details={'was_impossible': False}),\n",
       " Prediction(uid='AEJAGHLC675A7', iid='B00CCIKJDG', r_ui=5.0, est=4.572057756988777, details={'was_impossible': False}),\n",
       " Prediction(uid='A2NOW4U7W3F7RI', iid='B00HHRP11C', r_ui=5.0, est=4.6848212492485475, details={'was_impossible': False}),\n",
       " Prediction(uid='A231WM2Z2JL0U3', iid='B00004SA30', r_ui=5.0, est=4.199108459579307, details={'was_impossible': False}),\n",
       " Prediction(uid='ARBKYIVNYWK3C', iid='B007IZNM1O', r_ui=3.0, est=4.273220500540541, details={'was_impossible': False}),\n",
       " Prediction(uid='A10Y058K7B96C6', iid='B001I45T9O', r_ui=5.0, est=4.411607185408106, details={'was_impossible': False}),\n",
       " Prediction(uid='A22CW0ZHY3NJH8', iid='B0026ZPFCK', r_ui=4.0, est=4.340939192674282, details={'was_impossible': False}),\n",
       " Prediction(uid='A680RUE1FDO8B', iid='B000Q6UZBM', r_ui=3.0, est=4.4336302967511285, details={'was_impossible': False}),\n",
       " Prediction(uid='ALDAF4VVLFRHP', iid='B0061HMPWM', r_ui=3.0, est=4.281950388964325, details={'was_impossible': False}),\n",
       " Prediction(uid='A1F9Z42CFF9IAY', iid='B007M52EXM', r_ui=3.0, est=3.942725084909474, details={'was_impossible': False}),\n",
       " Prediction(uid='A3A4ZAIBQWKOZS', iid='B00L2442H0', r_ui=5.0, est=4.605492704985328, details={'was_impossible': False}),\n",
       " Prediction(uid='A3OXHLG6DIBRW8', iid='B003LZB8RU', r_ui=5.0, est=4.453547265179576, details={'was_impossible': False}),\n",
       " Prediction(uid='A231WM2Z2JL0U3', iid='B00006JLWJ', r_ui=5.0, est=4.199108459579307, details={'was_impossible': False}),\n",
       " Prediction(uid='A3A4ZAIBQWKOZS', iid='B0058X0TFA', r_ui=3.0, est=4.564052232935691, details={'was_impossible': False}),\n",
       " Prediction(uid='A1F9Z42CFF9IAY', iid='B00007H08Y', r_ui=4.0, est=3.942725084909474, details={'was_impossible': False}),\n",
       " Prediction(uid='A1UQBFCERIP7VJ', iid='B00FDLI9U4', r_ui=5.0, est=4.510796050779112, details={'was_impossible': False}),\n",
       " Prediction(uid='A680RUE1FDO8B', iid='B007XJG9J2', r_ui=5.0, est=4.4336302967511285, details={'was_impossible': False}),\n",
       " Prediction(uid='AEJAGHLC675A7', iid='B000KLHDZO', r_ui=5.0, est=4.572057756988777, details={'was_impossible': False}),\n",
       " Prediction(uid='A3OXHLG6DIBRW8', iid='B00F0S0DK4', r_ui=5.0, est=4.453547265179576, details={'was_impossible': False}),\n",
       " Prediction(uid='AGVWTYW0ULXHT', iid='B002O3KVSC', r_ui=5.0, est=4.087775033184216, details={'was_impossible': False}),\n",
       " Prediction(uid='A3OXHLG6DIBRW8', iid='B003Y74AX4', r_ui=4.0, est=4.453547265179576, details={'was_impossible': False}),\n",
       " Prediction(uid='A19W47CXJJP1MI', iid='B001OXKPDO', r_ui=3.0, est=4.3886241054992725, details={'was_impossible': False}),\n",
       " Prediction(uid='A3OXHLG6DIBRW8', iid='B000X5ZVS8', r_ui=5.0, est=4.453547265179576, details={'was_impossible': False}),\n",
       " Prediction(uid='AWPODHOB4GFWL', iid='B000BMAL10', r_ui=3.0, est=4.50814803506467, details={'was_impossible': False}),\n",
       " Prediction(uid='AGVWTYW0ULXHT', iid='B001ASU1QO', r_ui=4.0, est=4.087775033184216, details={'was_impossible': False}),\n",
       " Prediction(uid='A2NOW4U7W3F7RI', iid='B00JA4VO9S', r_ui=5.0, est=4.511973504835925, details={'was_impossible': False}),\n",
       " Prediction(uid='A231WM2Z2JL0U3', iid='B0000691IO', r_ui=5.0, est=4.199108459579307, details={'was_impossible': False}),\n",
       " Prediction(uid='A23GFTVIETX7DS', iid='B004U3JM84', r_ui=3.0, est=4.397760613237492, details={'was_impossible': False}),\n",
       " Prediction(uid='ADLVFFE4VBT8', iid='B005KAK2FI', r_ui=5.0, est=4.306029004942199, details={'was_impossible': False}),\n",
       " Prediction(uid='A231WM2Z2JL0U3', iid='B00005AYLL', r_ui=5.0, est=4.199108459579307, details={'was_impossible': False}),\n",
       " Prediction(uid='A2XRMQA6PJ5ZJ8', iid='B0013A1XDE', r_ui=4.0, est=4.292601820255279, details={'was_impossible': False}),\n",
       " Prediction(uid='A680RUE1FDO8B', iid='B000YL5N4I', r_ui=4.0, est=4.4336302967511285, details={'was_impossible': False}),\n",
       " Prediction(uid='A3CW0ZLUO5X2B1', iid='B005VTIMEQ', r_ui=2.0, est=4.237265713632973, details={'was_impossible': False}),\n",
       " Prediction(uid='A3OXHLG6DIBRW8', iid='B000JKUOIY', r_ui=5.0, est=4.453547265179576, details={'was_impossible': False}),\n",
       " Prediction(uid='A1VQHH85U7PX0', iid='B008X9Z7N0', r_ui=3.0, est=4.253977587500727, details={'was_impossible': False}),\n",
       " Prediction(uid='A2WLNSZ9U0T1S3', iid='B001769K3O', r_ui=5.0, est=4.169210783285548, details={'was_impossible': False}),\n",
       " Prediction(uid='A3T7V207KRDE2O', iid='B00483WRZ6', r_ui=4.0, est=4.409120275608143, details={'was_impossible': False}),\n",
       " Prediction(uid='A19W47CXJJP1MI', iid='B004JF9N1O', r_ui=2.0, est=4.3886241054992725, details={'was_impossible': False}),\n",
       " Prediction(uid='A19W47CXJJP1MI', iid='B001TH7GUA', r_ui=5.0, est=4.3886241054992725, details={'was_impossible': False}),\n",
       " Prediction(uid='ALDAF4VVLFRHP', iid='B00B50CEH6', r_ui=4.0, est=4.281950388964325, details={'was_impossible': False}),\n",
       " Prediction(uid='A3OXHLG6DIBRW8', iid='B002R20X9M', r_ui=5.0, est=4.453547265179576, details={'was_impossible': False}),\n",
       " Prediction(uid='A18S2VGUH9SCV5', iid='B003IHUHGE', r_ui=5.0, est=4.034050823988703, details={'was_impossible': False}),\n",
       " Prediction(uid='A11KZ906QD08C5', iid='B00A2L3J1Y', r_ui=5.0, est=4.466163233671641, details={'was_impossible': False})]"
      ]
     },
     "execution_count": 30,
     "metadata": {},
     "output_type": "execute_result"
    }
   ],
   "source": [
    "test_prediction"
   ]
  },
  {
   "cell_type": "code",
   "execution_count": 31,
   "metadata": {},
   "outputs": [],
   "source": [
    "from surprise import accuracy"
   ]
  },
  {
   "cell_type": "code",
   "execution_count": 32,
   "metadata": {},
   "outputs": [
    {
     "name": "stdout",
     "output_type": "stream",
     "text": [
      "RMSE: 0.9273\n"
     ]
    },
    {
     "data": {
      "text/plain": [
       "0.9273454490114382"
      ]
     },
     "execution_count": 32,
     "metadata": {},
     "output_type": "execute_result"
    }
   ],
   "source": [
    "accuracy.rmse(test_prediction)"
   ]
  },
  {
   "cell_type": "markdown",
   "metadata": {},
   "source": [
    "#####  Top - K ( K = 5) recommendations. Recommending 5 new products"
   ]
  },
  {
   "cell_type": "code",
   "execution_count": 33,
   "metadata": {},
   "outputs": [],
   "source": [
    "from collections import defaultdict\n",
    "def get_top_n(predictions, userid,  n=5):\n",
    "    \"\"\"Return the top-N recommendation for each user from a set of predictions.\n",
    "\n",
    "    Args:\n",
    "        predictions(list of Prediction objects): The list of predictions, as\n",
    "            returned by the test method of an algorithm.\n",
    "        n(int): The number of recommendation to output for each user. Default\n",
    "            is 10.\n",
    "\n",
    "    Returns:\n",
    "    A dict where keys are user (raw) ids and values are lists of tuples:\n",
    "        [(raw item id, rating estimation), ...] of size n.\n",
    "    \"\"\"\n",
    "\n",
    "    # First map the predictions to each user.\n",
    "    top_n = defaultdict(list)\n",
    "    for uid, iid, true_r, est, _ in predictions:\n",
    "        if uid == userid:\n",
    "            top_n[uid].append((iid, est))\n",
    "\n",
    "    # Then sort the predictions for each user and retrieve the k highest ones.\n",
    "    for uid, user_ratings in top_n.items():\n",
    "        user_ratings.sort(key=lambda x: x[1], reverse=True)\n",
    "        top_n[uid] = user_ratings[:n]\n",
    "\n",
    "    return top_n"
   ]
  },
  {
   "cell_type": "code",
   "execution_count": 34,
   "metadata": {},
   "outputs": [],
   "source": [
    "top_n = get_top_n(test_prediction, userid = 'A2NOW4U7W3F7RI'  , n=5)"
   ]
  },
  {
   "cell_type": "code",
   "execution_count": 35,
   "metadata": {},
   "outputs": [
    {
     "data": {
      "text/plain": [
       "defaultdict(list,\n",
       "            {'A2NOW4U7W3F7RI': [('B00HHRP11C', 4.6848212492485475),\n",
       "              ('B00I0Z427E', 4.511973504835925),\n",
       "              ('B001F7AJKI', 4.511973504835925),\n",
       "              ('B00FLKW0JI', 4.511973504835925),\n",
       "              ('B0040QE998', 4.511973504835925)]})"
      ]
     },
     "execution_count": 35,
     "metadata": {},
     "output_type": "execute_result"
    }
   ],
   "source": [
    "top_n"
   ]
  },
  {
   "cell_type": "markdown",
   "metadata": {},
   "source": [
    "##### We have successfully recommended top 10 prediction on the basis of popularity. In collabrotive modelling we predicted the estimated ratings and we calulate the RMSE On these prediction.There after we recommended the top five product to all similar users athe basis of predictive ratings. \n",
    "\n",
    "\n",
    "###### As per the recorded RMSE value, we can say user based filtering is a better option.\n",
    "##### Lack of personalization makes the popularity based recommendation model less relevant as compared to user based one.\n",
    "\n",
    "\n"
   ]
  }
 ],
 "metadata": {
  "kernelspec": {
   "display_name": "Python 3",
   "language": "python",
   "name": "python3"
  },
  "language_info": {
   "codemirror_mode": {
    "name": "ipython",
    "version": 3
   },
   "file_extension": ".py",
   "mimetype": "text/x-python",
   "name": "python",
   "nbconvert_exporter": "python",
   "pygments_lexer": "ipython3",
   "version": "3.7.6"
  }
 },
 "nbformat": 4,
 "nbformat_minor": 4
}
