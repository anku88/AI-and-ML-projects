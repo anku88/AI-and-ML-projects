{
 "cells": [
  {
   "cell_type": "markdown",
   "metadata": {},
   "source": [
    "# Ensemble Techniques - Project Parkinson's Disease assignment solutions Residency 3 \n",
    "##### Setting environment and loading neccesary libraries."
   ]
  },
  {
   "cell_type": "code",
   "execution_count": 1,
   "metadata": {},
   "outputs": [],
   "source": [
    "import pandas as pd\n",
    "import numpy as np\n",
    "import seaborn as sns\n",
    "import matplotlib.pyplot as plt\n",
    "%matplotlib inline\n",
    "from pandas_profiling import ProfileReport"
   ]
  },
  {
   "cell_type": "markdown",
   "metadata": {},
   "source": [
    "# Data preparation\n",
    "### Loading Data"
   ]
  },
  {
   "cell_type": "markdown",
   "metadata": {},
   "source": [
    "A sample of 10 observations is given below."
   ]
  },
  {
   "cell_type": "code",
   "execution_count": 2,
   "metadata": {
    "scrolled": true
   },
   "outputs": [
    {
     "data": {
      "text/html": [
       "<div>\n",
       "<style scoped>\n",
       "    .dataframe tbody tr th:only-of-type {\n",
       "        vertical-align: middle;\n",
       "    }\n",
       "\n",
       "    .dataframe tbody tr th {\n",
       "        vertical-align: top;\n",
       "    }\n",
       "\n",
       "    .dataframe thead th {\n",
       "        text-align: right;\n",
       "    }\n",
       "</style>\n",
       "<table border=\"1\" class=\"dataframe\">\n",
       "  <thead>\n",
       "    <tr style=\"text-align: right;\">\n",
       "      <th></th>\n",
       "      <th>MDVP:Fo(Hz)</th>\n",
       "      <th>MDVP:Fhi(Hz)</th>\n",
       "      <th>MDVP:Flo(Hz)</th>\n",
       "      <th>MDVP:Jitter(%)</th>\n",
       "      <th>MDVP:Jitter(Abs)</th>\n",
       "      <th>MDVP:RAP</th>\n",
       "      <th>MDVP:PPQ</th>\n",
       "      <th>Jitter:DDP</th>\n",
       "      <th>MDVP:Shimmer</th>\n",
       "      <th>MDVP:Shimmer(dB)</th>\n",
       "      <th>...</th>\n",
       "      <th>Shimmer:DDA</th>\n",
       "      <th>NHR</th>\n",
       "      <th>HNR</th>\n",
       "      <th>status</th>\n",
       "      <th>RPDE</th>\n",
       "      <th>DFA</th>\n",
       "      <th>spread1</th>\n",
       "      <th>spread2</th>\n",
       "      <th>D2</th>\n",
       "      <th>PPE</th>\n",
       "    </tr>\n",
       "    <tr>\n",
       "      <th>name</th>\n",
       "      <th></th>\n",
       "      <th></th>\n",
       "      <th></th>\n",
       "      <th></th>\n",
       "      <th></th>\n",
       "      <th></th>\n",
       "      <th></th>\n",
       "      <th></th>\n",
       "      <th></th>\n",
       "      <th></th>\n",
       "      <th></th>\n",
       "      <th></th>\n",
       "      <th></th>\n",
       "      <th></th>\n",
       "      <th></th>\n",
       "      <th></th>\n",
       "      <th></th>\n",
       "      <th></th>\n",
       "      <th></th>\n",
       "      <th></th>\n",
       "      <th></th>\n",
       "    </tr>\n",
       "  </thead>\n",
       "  <tbody>\n",
       "    <tr>\n",
       "      <td>phon_R01_S24_5</td>\n",
       "      <td>128.451</td>\n",
       "      <td>150.449</td>\n",
       "      <td>75.632</td>\n",
       "      <td>0.01551</td>\n",
       "      <td>0.00012</td>\n",
       "      <td>0.00905</td>\n",
       "      <td>0.00909</td>\n",
       "      <td>0.02716</td>\n",
       "      <td>0.06170</td>\n",
       "      <td>0.584</td>\n",
       "      <td>...</td>\n",
       "      <td>0.09669</td>\n",
       "      <td>0.11843</td>\n",
       "      <td>15.060</td>\n",
       "      <td>1</td>\n",
       "      <td>0.639808</td>\n",
       "      <td>0.643327</td>\n",
       "      <td>-4.202730</td>\n",
       "      <td>0.310163</td>\n",
       "      <td>2.638279</td>\n",
       "      <td>0.356881</td>\n",
       "    </tr>\n",
       "    <tr>\n",
       "      <td>phon_R01_S32_3</td>\n",
       "      <td>120.289</td>\n",
       "      <td>128.143</td>\n",
       "      <td>100.209</td>\n",
       "      <td>0.00492</td>\n",
       "      <td>0.00004</td>\n",
       "      <td>0.00269</td>\n",
       "      <td>0.00238</td>\n",
       "      <td>0.00808</td>\n",
       "      <td>0.01412</td>\n",
       "      <td>0.125</td>\n",
       "      <td>...</td>\n",
       "      <td>0.02110</td>\n",
       "      <td>0.01610</td>\n",
       "      <td>23.949</td>\n",
       "      <td>1</td>\n",
       "      <td>0.467160</td>\n",
       "      <td>0.724045</td>\n",
       "      <td>-6.135296</td>\n",
       "      <td>0.203630</td>\n",
       "      <td>2.539724</td>\n",
       "      <td>0.169923</td>\n",
       "    </tr>\n",
       "    <tr>\n",
       "      <td>phon_R01_S32_2</td>\n",
       "      <td>120.078</td>\n",
       "      <td>126.632</td>\n",
       "      <td>105.667</td>\n",
       "      <td>0.00270</td>\n",
       "      <td>0.00002</td>\n",
       "      <td>0.00116</td>\n",
       "      <td>0.00135</td>\n",
       "      <td>0.00349</td>\n",
       "      <td>0.01022</td>\n",
       "      <td>0.090</td>\n",
       "      <td>...</td>\n",
       "      <td>0.01428</td>\n",
       "      <td>0.00487</td>\n",
       "      <td>26.369</td>\n",
       "      <td>1</td>\n",
       "      <td>0.491345</td>\n",
       "      <td>0.718839</td>\n",
       "      <td>-5.892061</td>\n",
       "      <td>0.195976</td>\n",
       "      <td>2.108873</td>\n",
       "      <td>0.183572</td>\n",
       "    </tr>\n",
       "    <tr>\n",
       "      <td>phon_R01_S04_6</td>\n",
       "      <td>168.778</td>\n",
       "      <td>232.181</td>\n",
       "      <td>75.603</td>\n",
       "      <td>0.00718</td>\n",
       "      <td>0.00004</td>\n",
       "      <td>0.00284</td>\n",
       "      <td>0.00387</td>\n",
       "      <td>0.00853</td>\n",
       "      <td>0.03327</td>\n",
       "      <td>0.348</td>\n",
       "      <td>...</td>\n",
       "      <td>0.04322</td>\n",
       "      <td>0.02919</td>\n",
       "      <td>20.376</td>\n",
       "      <td>1</td>\n",
       "      <td>0.631099</td>\n",
       "      <td>0.605417</td>\n",
       "      <td>-2.931070</td>\n",
       "      <td>0.434326</td>\n",
       "      <td>3.007463</td>\n",
       "      <td>0.430788</td>\n",
       "    </tr>\n",
       "    <tr>\n",
       "      <td>phon_R01_S22_2</td>\n",
       "      <td>148.272</td>\n",
       "      <td>164.989</td>\n",
       "      <td>142.299</td>\n",
       "      <td>0.00459</td>\n",
       "      <td>0.00003</td>\n",
       "      <td>0.00250</td>\n",
       "      <td>0.00256</td>\n",
       "      <td>0.00750</td>\n",
       "      <td>0.04190</td>\n",
       "      <td>0.383</td>\n",
       "      <td>...</td>\n",
       "      <td>0.07150</td>\n",
       "      <td>0.01914</td>\n",
       "      <td>18.780</td>\n",
       "      <td>1</td>\n",
       "      <td>0.454444</td>\n",
       "      <td>0.734504</td>\n",
       "      <td>-5.952058</td>\n",
       "      <td>0.087840</td>\n",
       "      <td>2.344336</td>\n",
       "      <td>0.186489</td>\n",
       "    </tr>\n",
       "    <tr>\n",
       "      <td>phon_R01_S22_1</td>\n",
       "      <td>151.955</td>\n",
       "      <td>163.335</td>\n",
       "      <td>147.226</td>\n",
       "      <td>0.00419</td>\n",
       "      <td>0.00003</td>\n",
       "      <td>0.00224</td>\n",
       "      <td>0.00227</td>\n",
       "      <td>0.00672</td>\n",
       "      <td>0.07959</td>\n",
       "      <td>0.772</td>\n",
       "      <td>...</td>\n",
       "      <td>0.13262</td>\n",
       "      <td>0.01658</td>\n",
       "      <td>19.664</td>\n",
       "      <td>1</td>\n",
       "      <td>0.501037</td>\n",
       "      <td>0.714360</td>\n",
       "      <td>-6.411497</td>\n",
       "      <td>0.207156</td>\n",
       "      <td>2.344876</td>\n",
       "      <td>0.134120</td>\n",
       "    </tr>\n",
       "    <tr>\n",
       "      <td>phon_R01_S35_4</td>\n",
       "      <td>202.632</td>\n",
       "      <td>565.740</td>\n",
       "      <td>177.258</td>\n",
       "      <td>0.01627</td>\n",
       "      <td>0.00008</td>\n",
       "      <td>0.00919</td>\n",
       "      <td>0.00963</td>\n",
       "      <td>0.02756</td>\n",
       "      <td>0.07170</td>\n",
       "      <td>0.833</td>\n",
       "      <td>...</td>\n",
       "      <td>0.10546</td>\n",
       "      <td>0.07889</td>\n",
       "      <td>14.989</td>\n",
       "      <td>1</td>\n",
       "      <td>0.427627</td>\n",
       "      <td>0.775708</td>\n",
       "      <td>-4.892495</td>\n",
       "      <td>0.262281</td>\n",
       "      <td>2.910213</td>\n",
       "      <td>0.270173</td>\n",
       "    </tr>\n",
       "    <tr>\n",
       "      <td>phon_R01_S17_6</td>\n",
       "      <td>228.969</td>\n",
       "      <td>239.541</td>\n",
       "      <td>113.201</td>\n",
       "      <td>0.00238</td>\n",
       "      <td>0.00001</td>\n",
       "      <td>0.00136</td>\n",
       "      <td>0.00140</td>\n",
       "      <td>0.00408</td>\n",
       "      <td>0.01745</td>\n",
       "      <td>0.154</td>\n",
       "      <td>...</td>\n",
       "      <td>0.02827</td>\n",
       "      <td>0.00420</td>\n",
       "      <td>24.547</td>\n",
       "      <td>0</td>\n",
       "      <td>0.305429</td>\n",
       "      <td>0.681811</td>\n",
       "      <td>-7.314237</td>\n",
       "      <td>0.006274</td>\n",
       "      <td>2.118596</td>\n",
       "      <td>0.091546</td>\n",
       "    </tr>\n",
       "    <tr>\n",
       "      <td>phon_R01_S39_3</td>\n",
       "      <td>115.322</td>\n",
       "      <td>135.738</td>\n",
       "      <td>107.802</td>\n",
       "      <td>0.00619</td>\n",
       "      <td>0.00005</td>\n",
       "      <td>0.00352</td>\n",
       "      <td>0.00329</td>\n",
       "      <td>0.01057</td>\n",
       "      <td>0.03273</td>\n",
       "      <td>0.325</td>\n",
       "      <td>...</td>\n",
       "      <td>0.04933</td>\n",
       "      <td>0.02810</td>\n",
       "      <td>19.388</td>\n",
       "      <td>1</td>\n",
       "      <td>0.577802</td>\n",
       "      <td>0.684373</td>\n",
       "      <td>-5.283009</td>\n",
       "      <td>0.226528</td>\n",
       "      <td>2.442906</td>\n",
       "      <td>0.238281</td>\n",
       "    </tr>\n",
       "    <tr>\n",
       "      <td>phon_R01_S13_5</td>\n",
       "      <td>128.001</td>\n",
       "      <td>138.052</td>\n",
       "      <td>122.080</td>\n",
       "      <td>0.00436</td>\n",
       "      <td>0.00003</td>\n",
       "      <td>0.00137</td>\n",
       "      <td>0.00166</td>\n",
       "      <td>0.00411</td>\n",
       "      <td>0.02297</td>\n",
       "      <td>0.210</td>\n",
       "      <td>...</td>\n",
       "      <td>0.03969</td>\n",
       "      <td>0.00481</td>\n",
       "      <td>24.692</td>\n",
       "      <td>0</td>\n",
       "      <td>0.459766</td>\n",
       "      <td>0.766204</td>\n",
       "      <td>-7.072419</td>\n",
       "      <td>0.220434</td>\n",
       "      <td>1.972297</td>\n",
       "      <td>0.119308</td>\n",
       "    </tr>\n",
       "  </tbody>\n",
       "</table>\n",
       "<p>10 rows × 23 columns</p>\n",
       "</div>"
      ],
      "text/plain": [
       "                MDVP:Fo(Hz)  MDVP:Fhi(Hz)  MDVP:Flo(Hz)  MDVP:Jitter(%)  \\\n",
       "name                                                                      \n",
       "phon_R01_S24_5      128.451       150.449        75.632         0.01551   \n",
       "phon_R01_S32_3      120.289       128.143       100.209         0.00492   \n",
       "phon_R01_S32_2      120.078       126.632       105.667         0.00270   \n",
       "phon_R01_S04_6      168.778       232.181        75.603         0.00718   \n",
       "phon_R01_S22_2      148.272       164.989       142.299         0.00459   \n",
       "phon_R01_S22_1      151.955       163.335       147.226         0.00419   \n",
       "phon_R01_S35_4      202.632       565.740       177.258         0.01627   \n",
       "phon_R01_S17_6      228.969       239.541       113.201         0.00238   \n",
       "phon_R01_S39_3      115.322       135.738       107.802         0.00619   \n",
       "phon_R01_S13_5      128.001       138.052       122.080         0.00436   \n",
       "\n",
       "                MDVP:Jitter(Abs)  MDVP:RAP  MDVP:PPQ  Jitter:DDP  \\\n",
       "name                                                               \n",
       "phon_R01_S24_5           0.00012   0.00905   0.00909     0.02716   \n",
       "phon_R01_S32_3           0.00004   0.00269   0.00238     0.00808   \n",
       "phon_R01_S32_2           0.00002   0.00116   0.00135     0.00349   \n",
       "phon_R01_S04_6           0.00004   0.00284   0.00387     0.00853   \n",
       "phon_R01_S22_2           0.00003   0.00250   0.00256     0.00750   \n",
       "phon_R01_S22_1           0.00003   0.00224   0.00227     0.00672   \n",
       "phon_R01_S35_4           0.00008   0.00919   0.00963     0.02756   \n",
       "phon_R01_S17_6           0.00001   0.00136   0.00140     0.00408   \n",
       "phon_R01_S39_3           0.00005   0.00352   0.00329     0.01057   \n",
       "phon_R01_S13_5           0.00003   0.00137   0.00166     0.00411   \n",
       "\n",
       "                MDVP:Shimmer  MDVP:Shimmer(dB)  ...  Shimmer:DDA      NHR  \\\n",
       "name                                            ...                         \n",
       "phon_R01_S24_5       0.06170             0.584  ...      0.09669  0.11843   \n",
       "phon_R01_S32_3       0.01412             0.125  ...      0.02110  0.01610   \n",
       "phon_R01_S32_2       0.01022             0.090  ...      0.01428  0.00487   \n",
       "phon_R01_S04_6       0.03327             0.348  ...      0.04322  0.02919   \n",
       "phon_R01_S22_2       0.04190             0.383  ...      0.07150  0.01914   \n",
       "phon_R01_S22_1       0.07959             0.772  ...      0.13262  0.01658   \n",
       "phon_R01_S35_4       0.07170             0.833  ...      0.10546  0.07889   \n",
       "phon_R01_S17_6       0.01745             0.154  ...      0.02827  0.00420   \n",
       "phon_R01_S39_3       0.03273             0.325  ...      0.04933  0.02810   \n",
       "phon_R01_S13_5       0.02297             0.210  ...      0.03969  0.00481   \n",
       "\n",
       "                   HNR  status      RPDE       DFA   spread1   spread2  \\\n",
       "name                                                                     \n",
       "phon_R01_S24_5  15.060       1  0.639808  0.643327 -4.202730  0.310163   \n",
       "phon_R01_S32_3  23.949       1  0.467160  0.724045 -6.135296  0.203630   \n",
       "phon_R01_S32_2  26.369       1  0.491345  0.718839 -5.892061  0.195976   \n",
       "phon_R01_S04_6  20.376       1  0.631099  0.605417 -2.931070  0.434326   \n",
       "phon_R01_S22_2  18.780       1  0.454444  0.734504 -5.952058  0.087840   \n",
       "phon_R01_S22_1  19.664       1  0.501037  0.714360 -6.411497  0.207156   \n",
       "phon_R01_S35_4  14.989       1  0.427627  0.775708 -4.892495  0.262281   \n",
       "phon_R01_S17_6  24.547       0  0.305429  0.681811 -7.314237  0.006274   \n",
       "phon_R01_S39_3  19.388       1  0.577802  0.684373 -5.283009  0.226528   \n",
       "phon_R01_S13_5  24.692       0  0.459766  0.766204 -7.072419  0.220434   \n",
       "\n",
       "                      D2       PPE  \n",
       "name                                \n",
       "phon_R01_S24_5  2.638279  0.356881  \n",
       "phon_R01_S32_3  2.539724  0.169923  \n",
       "phon_R01_S32_2  2.108873  0.183572  \n",
       "phon_R01_S04_6  3.007463  0.430788  \n",
       "phon_R01_S22_2  2.344336  0.186489  \n",
       "phon_R01_S22_1  2.344876  0.134120  \n",
       "phon_R01_S35_4  2.910213  0.270173  \n",
       "phon_R01_S17_6  2.118596  0.091546  \n",
       "phon_R01_S39_3  2.442906  0.238281  \n",
       "phon_R01_S13_5  1.972297  0.119308  \n",
       "\n",
       "[10 rows x 23 columns]"
      ]
     },
     "execution_count": 2,
     "metadata": {},
     "output_type": "execute_result"
    }
   ],
   "source": [
    "PSON=pd.read_csv('parkinsons.data',index_col=0)\n",
    "PSON.sample(10)"
   ]
  },
  {
   "cell_type": "markdown",
   "metadata": {},
   "source": [
    "Looking at the profile of Data ."
   ]
  },
  {
   "cell_type": "markdown",
   "metadata": {},
   "source": [
    "Checking for missing values,data types and values like special chraracters."
   ]
  },
  {
   "cell_type": "markdown",
   "metadata": {},
   "source": [
    "Status - Health status of the subject   (one) = Parkinson's ,(zero) = Healthy"
   ]
  },
  {
   "cell_type": "code",
   "execution_count": 3,
   "metadata": {},
   "outputs": [
    {
     "name": "stdout",
     "output_type": "stream",
     "text": [
      "<class 'pandas.core.frame.DataFrame'>\n",
      "Index: 195 entries, phon_R01_S01_1 to phon_R01_S50_6\n",
      "Data columns (total 23 columns):\n",
      "MDVP:Fo(Hz)         195 non-null float64\n",
      "MDVP:Fhi(Hz)        195 non-null float64\n",
      "MDVP:Flo(Hz)        195 non-null float64\n",
      "MDVP:Jitter(%)      195 non-null float64\n",
      "MDVP:Jitter(Abs)    195 non-null float64\n",
      "MDVP:RAP            195 non-null float64\n",
      "MDVP:PPQ            195 non-null float64\n",
      "Jitter:DDP          195 non-null float64\n",
      "MDVP:Shimmer        195 non-null float64\n",
      "MDVP:Shimmer(dB)    195 non-null float64\n",
      "Shimmer:APQ3        195 non-null float64\n",
      "Shimmer:APQ5        195 non-null float64\n",
      "MDVP:APQ            195 non-null float64\n",
      "Shimmer:DDA         195 non-null float64\n",
      "NHR                 195 non-null float64\n",
      "HNR                 195 non-null float64\n",
      "status              195 non-null int64\n",
      "RPDE                195 non-null float64\n",
      "DFA                 195 non-null float64\n",
      "spread1             195 non-null float64\n",
      "spread2             195 non-null float64\n",
      "D2                  195 non-null float64\n",
      "PPE                 195 non-null float64\n",
      "dtypes: float64(22), int64(1)\n",
      "memory usage: 36.6+ KB\n"
     ]
    }
   ],
   "source": [
    "PSON.info()"
   ]
  },
  {
   "cell_type": "markdown",
   "metadata": {},
   "source": [
    "Other than name all the attributes are in desired format(data type).There are no missing values and special characters of any kind in data."
   ]
  },
  {
   "cell_type": "code",
   "execution_count": 4,
   "metadata": {},
   "outputs": [
    {
     "data": {
      "text/html": [
       "<div>\n",
       "<style scoped>\n",
       "    .dataframe tbody tr th:only-of-type {\n",
       "        vertical-align: middle;\n",
       "    }\n",
       "\n",
       "    .dataframe tbody tr th {\n",
       "        vertical-align: top;\n",
       "    }\n",
       "\n",
       "    .dataframe thead th {\n",
       "        text-align: right;\n",
       "    }\n",
       "</style>\n",
       "<table border=\"1\" class=\"dataframe\">\n",
       "  <thead>\n",
       "    <tr style=\"text-align: right;\">\n",
       "      <th></th>\n",
       "      <th>count</th>\n",
       "      <th>mean</th>\n",
       "      <th>std</th>\n",
       "      <th>min</th>\n",
       "      <th>25%</th>\n",
       "      <th>50%</th>\n",
       "      <th>75%</th>\n",
       "      <th>max</th>\n",
       "    </tr>\n",
       "  </thead>\n",
       "  <tbody>\n",
       "    <tr>\n",
       "      <td>MDVP:Fo(Hz)</td>\n",
       "      <td>195.0</td>\n",
       "      <td>154.228641</td>\n",
       "      <td>41.390065</td>\n",
       "      <td>88.333000</td>\n",
       "      <td>117.572000</td>\n",
       "      <td>148.790000</td>\n",
       "      <td>182.769000</td>\n",
       "      <td>260.105000</td>\n",
       "    </tr>\n",
       "    <tr>\n",
       "      <td>MDVP:Fhi(Hz)</td>\n",
       "      <td>195.0</td>\n",
       "      <td>197.104918</td>\n",
       "      <td>91.491548</td>\n",
       "      <td>102.145000</td>\n",
       "      <td>134.862500</td>\n",
       "      <td>175.829000</td>\n",
       "      <td>224.205500</td>\n",
       "      <td>592.030000</td>\n",
       "    </tr>\n",
       "    <tr>\n",
       "      <td>MDVP:Flo(Hz)</td>\n",
       "      <td>195.0</td>\n",
       "      <td>116.324631</td>\n",
       "      <td>43.521413</td>\n",
       "      <td>65.476000</td>\n",
       "      <td>84.291000</td>\n",
       "      <td>104.315000</td>\n",
       "      <td>140.018500</td>\n",
       "      <td>239.170000</td>\n",
       "    </tr>\n",
       "    <tr>\n",
       "      <td>MDVP:Jitter(%)</td>\n",
       "      <td>195.0</td>\n",
       "      <td>0.006220</td>\n",
       "      <td>0.004848</td>\n",
       "      <td>0.001680</td>\n",
       "      <td>0.003460</td>\n",
       "      <td>0.004940</td>\n",
       "      <td>0.007365</td>\n",
       "      <td>0.033160</td>\n",
       "    </tr>\n",
       "    <tr>\n",
       "      <td>MDVP:Jitter(Abs)</td>\n",
       "      <td>195.0</td>\n",
       "      <td>0.000044</td>\n",
       "      <td>0.000035</td>\n",
       "      <td>0.000007</td>\n",
       "      <td>0.000020</td>\n",
       "      <td>0.000030</td>\n",
       "      <td>0.000060</td>\n",
       "      <td>0.000260</td>\n",
       "    </tr>\n",
       "    <tr>\n",
       "      <td>MDVP:RAP</td>\n",
       "      <td>195.0</td>\n",
       "      <td>0.003306</td>\n",
       "      <td>0.002968</td>\n",
       "      <td>0.000680</td>\n",
       "      <td>0.001660</td>\n",
       "      <td>0.002500</td>\n",
       "      <td>0.003835</td>\n",
       "      <td>0.021440</td>\n",
       "    </tr>\n",
       "    <tr>\n",
       "      <td>MDVP:PPQ</td>\n",
       "      <td>195.0</td>\n",
       "      <td>0.003446</td>\n",
       "      <td>0.002759</td>\n",
       "      <td>0.000920</td>\n",
       "      <td>0.001860</td>\n",
       "      <td>0.002690</td>\n",
       "      <td>0.003955</td>\n",
       "      <td>0.019580</td>\n",
       "    </tr>\n",
       "    <tr>\n",
       "      <td>Jitter:DDP</td>\n",
       "      <td>195.0</td>\n",
       "      <td>0.009920</td>\n",
       "      <td>0.008903</td>\n",
       "      <td>0.002040</td>\n",
       "      <td>0.004985</td>\n",
       "      <td>0.007490</td>\n",
       "      <td>0.011505</td>\n",
       "      <td>0.064330</td>\n",
       "    </tr>\n",
       "    <tr>\n",
       "      <td>MDVP:Shimmer</td>\n",
       "      <td>195.0</td>\n",
       "      <td>0.029709</td>\n",
       "      <td>0.018857</td>\n",
       "      <td>0.009540</td>\n",
       "      <td>0.016505</td>\n",
       "      <td>0.022970</td>\n",
       "      <td>0.037885</td>\n",
       "      <td>0.119080</td>\n",
       "    </tr>\n",
       "    <tr>\n",
       "      <td>MDVP:Shimmer(dB)</td>\n",
       "      <td>195.0</td>\n",
       "      <td>0.282251</td>\n",
       "      <td>0.194877</td>\n",
       "      <td>0.085000</td>\n",
       "      <td>0.148500</td>\n",
       "      <td>0.221000</td>\n",
       "      <td>0.350000</td>\n",
       "      <td>1.302000</td>\n",
       "    </tr>\n",
       "    <tr>\n",
       "      <td>Shimmer:APQ3</td>\n",
       "      <td>195.0</td>\n",
       "      <td>0.015664</td>\n",
       "      <td>0.010153</td>\n",
       "      <td>0.004550</td>\n",
       "      <td>0.008245</td>\n",
       "      <td>0.012790</td>\n",
       "      <td>0.020265</td>\n",
       "      <td>0.056470</td>\n",
       "    </tr>\n",
       "    <tr>\n",
       "      <td>Shimmer:APQ5</td>\n",
       "      <td>195.0</td>\n",
       "      <td>0.017878</td>\n",
       "      <td>0.012024</td>\n",
       "      <td>0.005700</td>\n",
       "      <td>0.009580</td>\n",
       "      <td>0.013470</td>\n",
       "      <td>0.022380</td>\n",
       "      <td>0.079400</td>\n",
       "    </tr>\n",
       "    <tr>\n",
       "      <td>MDVP:APQ</td>\n",
       "      <td>195.0</td>\n",
       "      <td>0.024081</td>\n",
       "      <td>0.016947</td>\n",
       "      <td>0.007190</td>\n",
       "      <td>0.013080</td>\n",
       "      <td>0.018260</td>\n",
       "      <td>0.029400</td>\n",
       "      <td>0.137780</td>\n",
       "    </tr>\n",
       "    <tr>\n",
       "      <td>Shimmer:DDA</td>\n",
       "      <td>195.0</td>\n",
       "      <td>0.046993</td>\n",
       "      <td>0.030459</td>\n",
       "      <td>0.013640</td>\n",
       "      <td>0.024735</td>\n",
       "      <td>0.038360</td>\n",
       "      <td>0.060795</td>\n",
       "      <td>0.169420</td>\n",
       "    </tr>\n",
       "    <tr>\n",
       "      <td>NHR</td>\n",
       "      <td>195.0</td>\n",
       "      <td>0.024847</td>\n",
       "      <td>0.040418</td>\n",
       "      <td>0.000650</td>\n",
       "      <td>0.005925</td>\n",
       "      <td>0.011660</td>\n",
       "      <td>0.025640</td>\n",
       "      <td>0.314820</td>\n",
       "    </tr>\n",
       "    <tr>\n",
       "      <td>HNR</td>\n",
       "      <td>195.0</td>\n",
       "      <td>21.885974</td>\n",
       "      <td>4.425764</td>\n",
       "      <td>8.441000</td>\n",
       "      <td>19.198000</td>\n",
       "      <td>22.085000</td>\n",
       "      <td>25.075500</td>\n",
       "      <td>33.047000</td>\n",
       "    </tr>\n",
       "    <tr>\n",
       "      <td>status</td>\n",
       "      <td>195.0</td>\n",
       "      <td>0.753846</td>\n",
       "      <td>0.431878</td>\n",
       "      <td>0.000000</td>\n",
       "      <td>1.000000</td>\n",
       "      <td>1.000000</td>\n",
       "      <td>1.000000</td>\n",
       "      <td>1.000000</td>\n",
       "    </tr>\n",
       "    <tr>\n",
       "      <td>RPDE</td>\n",
       "      <td>195.0</td>\n",
       "      <td>0.498536</td>\n",
       "      <td>0.103942</td>\n",
       "      <td>0.256570</td>\n",
       "      <td>0.421306</td>\n",
       "      <td>0.495954</td>\n",
       "      <td>0.587562</td>\n",
       "      <td>0.685151</td>\n",
       "    </tr>\n",
       "    <tr>\n",
       "      <td>DFA</td>\n",
       "      <td>195.0</td>\n",
       "      <td>0.718099</td>\n",
       "      <td>0.055336</td>\n",
       "      <td>0.574282</td>\n",
       "      <td>0.674758</td>\n",
       "      <td>0.722254</td>\n",
       "      <td>0.761881</td>\n",
       "      <td>0.825288</td>\n",
       "    </tr>\n",
       "    <tr>\n",
       "      <td>spread1</td>\n",
       "      <td>195.0</td>\n",
       "      <td>-5.684397</td>\n",
       "      <td>1.090208</td>\n",
       "      <td>-7.964984</td>\n",
       "      <td>-6.450096</td>\n",
       "      <td>-5.720868</td>\n",
       "      <td>-5.046192</td>\n",
       "      <td>-2.434031</td>\n",
       "    </tr>\n",
       "    <tr>\n",
       "      <td>spread2</td>\n",
       "      <td>195.0</td>\n",
       "      <td>0.226510</td>\n",
       "      <td>0.083406</td>\n",
       "      <td>0.006274</td>\n",
       "      <td>0.174351</td>\n",
       "      <td>0.218885</td>\n",
       "      <td>0.279234</td>\n",
       "      <td>0.450493</td>\n",
       "    </tr>\n",
       "    <tr>\n",
       "      <td>D2</td>\n",
       "      <td>195.0</td>\n",
       "      <td>2.381826</td>\n",
       "      <td>0.382799</td>\n",
       "      <td>1.423287</td>\n",
       "      <td>2.099125</td>\n",
       "      <td>2.361532</td>\n",
       "      <td>2.636456</td>\n",
       "      <td>3.671155</td>\n",
       "    </tr>\n",
       "    <tr>\n",
       "      <td>PPE</td>\n",
       "      <td>195.0</td>\n",
       "      <td>0.206552</td>\n",
       "      <td>0.090119</td>\n",
       "      <td>0.044539</td>\n",
       "      <td>0.137451</td>\n",
       "      <td>0.194052</td>\n",
       "      <td>0.252980</td>\n",
       "      <td>0.527367</td>\n",
       "    </tr>\n",
       "  </tbody>\n",
       "</table>\n",
       "</div>"
      ],
      "text/plain": [
       "                  count        mean        std         min         25%  \\\n",
       "MDVP:Fo(Hz)       195.0  154.228641  41.390065   88.333000  117.572000   \n",
       "MDVP:Fhi(Hz)      195.0  197.104918  91.491548  102.145000  134.862500   \n",
       "MDVP:Flo(Hz)      195.0  116.324631  43.521413   65.476000   84.291000   \n",
       "MDVP:Jitter(%)    195.0    0.006220   0.004848    0.001680    0.003460   \n",
       "MDVP:Jitter(Abs)  195.0    0.000044   0.000035    0.000007    0.000020   \n",
       "MDVP:RAP          195.0    0.003306   0.002968    0.000680    0.001660   \n",
       "MDVP:PPQ          195.0    0.003446   0.002759    0.000920    0.001860   \n",
       "Jitter:DDP        195.0    0.009920   0.008903    0.002040    0.004985   \n",
       "MDVP:Shimmer      195.0    0.029709   0.018857    0.009540    0.016505   \n",
       "MDVP:Shimmer(dB)  195.0    0.282251   0.194877    0.085000    0.148500   \n",
       "Shimmer:APQ3      195.0    0.015664   0.010153    0.004550    0.008245   \n",
       "Shimmer:APQ5      195.0    0.017878   0.012024    0.005700    0.009580   \n",
       "MDVP:APQ          195.0    0.024081   0.016947    0.007190    0.013080   \n",
       "Shimmer:DDA       195.0    0.046993   0.030459    0.013640    0.024735   \n",
       "NHR               195.0    0.024847   0.040418    0.000650    0.005925   \n",
       "HNR               195.0   21.885974   4.425764    8.441000   19.198000   \n",
       "status            195.0    0.753846   0.431878    0.000000    1.000000   \n",
       "RPDE              195.0    0.498536   0.103942    0.256570    0.421306   \n",
       "DFA               195.0    0.718099   0.055336    0.574282    0.674758   \n",
       "spread1           195.0   -5.684397   1.090208   -7.964984   -6.450096   \n",
       "spread2           195.0    0.226510   0.083406    0.006274    0.174351   \n",
       "D2                195.0    2.381826   0.382799    1.423287    2.099125   \n",
       "PPE               195.0    0.206552   0.090119    0.044539    0.137451   \n",
       "\n",
       "                         50%         75%         max  \n",
       "MDVP:Fo(Hz)       148.790000  182.769000  260.105000  \n",
       "MDVP:Fhi(Hz)      175.829000  224.205500  592.030000  \n",
       "MDVP:Flo(Hz)      104.315000  140.018500  239.170000  \n",
       "MDVP:Jitter(%)      0.004940    0.007365    0.033160  \n",
       "MDVP:Jitter(Abs)    0.000030    0.000060    0.000260  \n",
       "MDVP:RAP            0.002500    0.003835    0.021440  \n",
       "MDVP:PPQ            0.002690    0.003955    0.019580  \n",
       "Jitter:DDP          0.007490    0.011505    0.064330  \n",
       "MDVP:Shimmer        0.022970    0.037885    0.119080  \n",
       "MDVP:Shimmer(dB)    0.221000    0.350000    1.302000  \n",
       "Shimmer:APQ3        0.012790    0.020265    0.056470  \n",
       "Shimmer:APQ5        0.013470    0.022380    0.079400  \n",
       "MDVP:APQ            0.018260    0.029400    0.137780  \n",
       "Shimmer:DDA         0.038360    0.060795    0.169420  \n",
       "NHR                 0.011660    0.025640    0.314820  \n",
       "HNR                22.085000   25.075500   33.047000  \n",
       "status              1.000000    1.000000    1.000000  \n",
       "RPDE                0.495954    0.587562    0.685151  \n",
       "DFA                 0.722254    0.761881    0.825288  \n",
       "spread1            -5.720868   -5.046192   -2.434031  \n",
       "spread2             0.218885    0.279234    0.450493  \n",
       "D2                  2.361532    2.636456    3.671155  \n",
       "PPE                 0.194052    0.252980    0.527367  "
      ]
     },
     "execution_count": 4,
     "metadata": {},
     "output_type": "execute_result"
    }
   ],
   "source": [
    "PSON.describe().transpose()"
   ]
  },
  {
   "cell_type": "markdown",
   "metadata": {},
   "source": [
    "# EDA\n",
    "\n",
    "### The visualization is with respect to the target variable 'status':"
   ]
  },
  {
   "cell_type": "code",
   "execution_count": 5,
   "metadata": {},
   "outputs": [
    {
     "data": {
      "text/plain": [
       "<seaborn.axisgrid.FacetGrid at 0x26c4f708908>"
      ]
     },
     "execution_count": 5,
     "metadata": {},
     "output_type": "execute_result"
    },
    {
     "data": {
      "image/png": "[encoded data removed]",
      "text/plain": [
       "<Figure size 360x360 with 1 Axes>"
      ]
     },
     "metadata": {
      "needs_background": "light"
     },
     "output_type": "display_data"
    }
   ],
   "source": [
    "sns.catplot(x='status',kind='count',data=PSON)"
   ]
  },
  {
   "cell_type": "markdown",
   "metadata": {},
   "source": [
    "The barplot clearly shows that most of the observations given in the dataset have a status of 1 i.e most of the people's represented in the dataset have been prone to parkinsons disease. This could also create a bias in the model."
   ]
  },
  {
   "cell_type": "code",
   "execution_count": 6,
   "metadata": {},
   "outputs": [
    {
     "name": "stderr",
     "output_type": "stream",
     "text": [
      "C:\\Users\\anku\\Anaconda3\\lib\\site-packages\\seaborn\\axisgrid.py:311: RuntimeWarning: More than 20 figures have been opened. Figures created through the pyplot interface (`matplotlib.pyplot.figure`) are retained until explicitly closed and may consume too much memory. (To control this warning, see the rcParam `figure.max_open_warning`).\n",
      "  fig, axes = plt.subplots(nrow, ncol, **kwargs)\n",
      "C:\\Users\\anku\\Anaconda3\\lib\\site-packages\\seaborn\\axisgrid.py:311: RuntimeWarning: More than 20 figures have been opened. Figures created through the pyplot interface (`matplotlib.pyplot.figure`) are retained until explicitly closed and may consume too much memory. (To control this warning, see the rcParam `figure.max_open_warning`).\n",
      "  fig, axes = plt.subplots(nrow, ncol, **kwargs)\n"
     ]
    },
    {
     "data": {
      "image/png": "[encoded data removed]",
      "text/plain": [
       "<Figure size 360x360 with 1 Axes>"
      ]
     },
     "metadata": {
      "needs_background": "light"
     },
     "output_type": "display_data"
    },
    {
     "data": {
      "image/png": "[encoded data removed]",
      "text/plain": [
       "<Figure size 360x360 with 1 Axes>"
      ]
     },
     "metadata": {
      "needs_background": "light"
     },
     "output_type": "display_data"
    },
    {
     "data": {
      "image/png": "[encoded data removed]",
      "text/plain": [
       "<Figure size 360x360 with 1 Axes>"
      ]
     },
     "metadata": {
      "needs_background": "light"
     },
     "output_type": "display_data"
    },
    {
     "data": {
      "image/png": "[encoded data removed]",
      "text/plain": [
       "<Figure size 360x360 with 1 Axes>"
      ]
     },
     "metadata": {
      "needs_background": "light"
     },
     "output_type": "display_data"
    },
    {
     "data": {
      "image/png": "[encoded data removed]",
      "text/plain": [
       "<Figure size 360x360 with 1 Axes>"
      ]
     },
     "metadata": {
      "needs_background": "light"
     },
     "output_type": "display_data"
    },
    {
     "data": {
      "image/png": "[encoded data removed]",
      "text/plain": [
       "<Figure size 360x360 with 1 Axes>"
      ]
     },
     "metadata": {
      "needs_background": "light"
     },
     "output_type": "display_data"
    },
    {
     "data": {
      "image/png": "[encoded data removed]",
      "text/plain": [
       "<Figure size 360x360 with 1 Axes>"
      ]
     },
     "metadata": {
      "needs_background": "light"
     },
     "output_type": "display_data"
    },
    {
     "data": {
      "image/png": "[encoded data removed]",
      "text/plain": [
       "<Figure size 360x360 with 1 Axes>"
      ]
     },
     "metadata": {
      "needs_background": "light"
     },
     "output_type": "display_data"
    },
    {
     "data": {
      "image/png": "[encoded data removed]",
      "text/plain": [
       "<Figure size 360x360 with 1 Axes>"
      ]
     },
     "metadata": {
      "needs_background": "light"
     },
     "output_type": "display_data"
    },
    {
     "data": {
      "image/png": "[encoded data removed]",
      "text/plain": [
       "<Figure size 360x360 with 1 Axes>"
      ]
     },
     "metadata": {
      "needs_background": "light"
     },
     "output_type": "display_data"
    },
    {
     "data": {
      "image/png": "[encoded data removed]",
      "text/plain": [
       "<Figure size 360x360 with 1 Axes>"
      ]
     },
     "metadata": {
      "needs_background": "light"
     },
     "output_type": "display_data"
    },
    {
     "data": {
      "image/png": "[encoded data removed]",
      "text/plain": [
       "<Figure size 360x360 with 1 Axes>"
      ]
     },
     "metadata": {
      "needs_background": "light"
     },
     "output_type": "display_data"
    },
    {
     "data": {
      "image/png": "[encoded data removed]",
      "text/plain": [
       "<Figure size 360x360 with 1 Axes>"
      ]
     },
     "metadata": {
      "needs_background": "light"
     },
     "output_type": "display_data"
    },
    {
     "data": {
      "image/png": "[encoded data removed]",
      "text/plain": [
       "<Figure size 360x360 with 1 Axes>"
      ]
     },
     "metadata": {
      "needs_background": "light"
     },
     "output_type": "display_data"
    },
    {
     "data": {
      "image/png": "[encoded data removed]",
      "text/plain": [
       "<Figure size 360x360 with 1 Axes>"
      ]
     },
     "metadata": {
      "needs_background": "light"
     },
     "output_type": "display_data"
    },
    {
     "data": {
      "image/png": "[encoded data removed]",
      "text/plain": [
       "<Figure size 360x360 with 1 Axes>"
      ]
     },
     "metadata": {
      "needs_background": "light"
     },
     "output_type": "display_data"
    },
    {
     "data": {
      "image/png": "[encoded data removed]",
      "text/plain": [
       "<Figure size 360x360 with 1 Axes>"
      ]
     },
     "metadata": {
      "needs_background": "light"
     },
     "output_type": "display_data"
    },
    {
     "data": {
      "image/png": "[encoded data removed]",
      "text/plain": [
       "<Figure size 360x360 with 1 Axes>"
      ]
     },
     "metadata": {
      "needs_background": "light"
     },
     "output_type": "display_data"
    },
    {
     "data": {
      "image/png": "[encoded data removed]",
      "text/plain": [
       "<Figure size 360x360 with 1 Axes>"
      ]
     },
     "metadata": {
      "needs_background": "light"
     },
     "output_type": "display_data"
    },
    {
     "data": {
      "image/png": "[encoded data removed]",
      "text/plain": [
       "<Figure size 360x360 with 1 Axes>"
      ]
     },
     "metadata": {
      "needs_background": "light"
     },
     "output_type": "display_data"
    },
    {
     "data": {
      "image/png": "[encoded data removed]",
      "text/plain": [
       "<Figure size 360x360 with 1 Axes>"
      ]
     },
     "metadata": {
      "needs_background": "light"
     },
     "output_type": "display_data"
    },
    {
     "data": {
      "image/png": "[encoded data removed]",
      "text/plain": [
       "<Figure size 360x360 with 1 Axes>"
      ]
     },
     "metadata": {
      "needs_background": "light"
     },
     "output_type": "display_data"
    }
   ],
   "source": [
    "for i in PSON:\n",
    "    if i != 'status':\n",
    "        sns.catplot(x='status',y=i,kind='box',data=PSON)"
   ]
  },
  {
   "cell_type": "markdown",
   "metadata": {},
   "source": [
    "The boxplot shown below helps in identifying the difference in values with respect to the 'status' of the patient and also shows that there are outliers in the many columns.We will only perform outlier treatment in some of the colums for study case and where it is very high skewness."
   ]
  },
  {
   "cell_type": "markdown",
   "metadata": {},
   "source": [
    "# Univariate Analysis and outlier treatment for some of the columns"
   ]
  },
  {
   "cell_type": "code",
   "execution_count": 7,
   "metadata": {
    "scrolled": true
   },
   "outputs": [
    {
     "data": {
      "text/plain": [
       "MDVP:Fo(Hz)         -0.627898\n",
       "MDVP:Fhi(Hz)         7.627241\n",
       "MDVP:Flo(Hz)         0.654615\n",
       "MDVP:Jitter(%)      12.030939\n",
       "MDVP:Jitter(Abs)    10.869043\n",
       "MDVP:RAP            14.213798\n",
       "MDVP:PPQ            11.963922\n",
       "Jitter:DDP          14.224762\n",
       "MDVP:Shimmer         3.238308\n",
       "MDVP:Shimmer(dB)     5.128193\n",
       "Shimmer:APQ3         2.720152\n",
       "Shimmer:APQ5         3.874210\n",
       "MDVP:APQ            11.163288\n",
       "Shimmer:DDA          2.720661\n",
       "NHR                 21.994974\n",
       "HNR                  0.616036\n",
       "status              -0.595518\n",
       "RPDE                -0.921781\n",
       "DFA                 -0.686152\n",
       "spread1             -0.050199\n",
       "spread2             -0.083023\n",
       "D2                   0.220334\n",
       "PPE                  0.528335\n",
       "dtype: float64"
      ]
     },
     "execution_count": 7,
     "metadata": {},
     "output_type": "execute_result"
    }
   ],
   "source": [
    "PSON.kurtosis(numeric_only  = True)"
   ]
  },
  {
   "cell_type": "markdown",
   "metadata": {},
   "source": [
    "Kurtosis with positive values indicates that those attributes have more data points around the tail"
   ]
  },
  {
   "cell_type": "code",
   "execution_count": 8,
   "metadata": {},
   "outputs": [
    {
     "data": {
      "text/plain": [
       "MDVP:Fo(Hz)         0.591737\n",
       "MDVP:Fhi(Hz)        2.542146\n",
       "MDVP:Flo(Hz)        1.217350\n",
       "MDVP:Jitter(%)      3.084946\n",
       "MDVP:Jitter(Abs)    2.649071\n",
       "MDVP:RAP            3.360708\n",
       "MDVP:PPQ            3.073892\n",
       "Jitter:DDP          3.362058\n",
       "MDVP:Shimmer        1.666480\n",
       "MDVP:Shimmer(dB)    1.999389\n",
       "Shimmer:APQ3        1.580576\n",
       "Shimmer:APQ5        1.798697\n",
       "MDVP:APQ            2.618047\n",
       "Shimmer:DDA         1.580618\n",
       "NHR                 4.220709\n",
       "HNR                -0.514317\n",
       "status             -1.187727\n",
       "RPDE               -0.143402\n",
       "DFA                -0.033214\n",
       "spread1             0.432139\n",
       "spread2             0.144430\n",
       "D2                  0.430384\n",
       "PPE                 0.797491\n",
       "dtype: float64"
      ]
     },
     "execution_count": 8,
     "metadata": {},
     "output_type": "execute_result"
    }
   ],
   "source": [
    "PSON.skew(numeric_only  = True)"
   ]
  },
  {
   "cell_type": "markdown",
   "metadata": {},
   "source": [
    "The features with positive values of skew indicates data is skewed towards right in those features.\n",
    "The negative values of skew indicates data is skewed towards left in those features."
   ]
  },
  {
   "cell_type": "markdown",
   "metadata": {},
   "source": [
    "### Maximum vocal fundamental frequency MDVP:Fhi (Hz)"
   ]
  },
  {
   "cell_type": "code",
   "execution_count": 9,
   "metadata": {},
   "outputs": [
    {
     "name": "stdout",
     "output_type": "stream",
     "text": [
      "The maximum vocal fundamental frequency of a person is 197.10 and 99% of the people have a Fhi of 261.00\n"
     ]
    }
   ],
   "source": [
    "print(\"The maximum vocal fundamental frequency of a person is {:.2f} and 99% of the people have a Fhi of {:.2f}\".format(PSON['MDVP:Fhi(Hz)'].mean(),PSON['MDVP:Fhi(Hz)'].quantile(0.90)))\n",
    "      "
   ]
  },
  {
   "cell_type": "code",
   "execution_count": 10,
   "metadata": {},
   "outputs": [
    {
     "data": {
      "text/plain": [
       "<matplotlib.axes._subplots.AxesSubplot at 0x26c515bea08>"
      ]
     },
     "execution_count": 10,
     "metadata": {},
     "output_type": "execute_result"
    },
    {
     "data": {
      "image/png": "[encoded data removed]",
      "text/plain": [
       "<Figure size 432x288 with 1 Axes>"
      ]
     },
     "metadata": {
      "needs_background": "light"
     },
     "output_type": "display_data"
    }
   ],
   "source": [
    "PSON['MDVP:Fhi(Hz)'].plot(kind='box')"
   ]
  },
  {
   "cell_type": "code",
   "execution_count": 11,
   "metadata": {},
   "outputs": [
    {
     "name": "stdout",
     "output_type": "stream",
     "text": [
      "Skewness :  2.542145997588398\n",
      "Kurtosis :  7.627241211631889\n",
      "AxesSubplot(0.125,0.125;0.775x0.755)\n"
     ]
    },
    {
     "data": {
      "image/png": "[encoded data removed]",
      "text/plain": [
       "<Figure size 432x288 with 1 Axes>"
      ]
     },
     "metadata": {
      "needs_background": "light"
     },
     "output_type": "display_data"
    }
   ],
   "source": [
    "print('Skewness : ',PSON['MDVP:Fhi(Hz)'].skew())\n",
    "print('Kurtosis : ',PSON['MDVP:Fhi(Hz)'].kurtosis())\n",
    "print(PSON['MDVP:Fhi(Hz)'].plot.hist(bins=10))"
   ]
  },
  {
   "cell_type": "markdown",
   "metadata": {},
   "source": [
    "The value is positive hence the data is skewed towards right side\n",
    "\n",
    "The value is postive hence more data points are around the tail"
   ]
  },
  {
   "cell_type": "code",
   "execution_count": 12,
   "metadata": {},
   "outputs": [
    {
     "data": {
      "text/plain": [
       "<matplotlib.axes._subplots.AxesSubplot at 0x26c526df548>"
      ]
     },
     "execution_count": 12,
     "metadata": {},
     "output_type": "execute_result"
    },
    {
     "data": {
      "image/png": "[encoded data removed]",
      "text/plain": [
       "<Figure size 432x288 with 1 Axes>"
      ]
     },
     "metadata": {
      "needs_background": "light"
     },
     "output_type": "display_data"
    }
   ],
   "source": [
    "PSON['MDVP:Fhi(Hz)'].plot.kde()"
   ]
  },
  {
   "cell_type": "markdown",
   "metadata": {},
   "source": [
    "#### outlier treatment"
   ]
  },
  {
   "cell_type": "code",
   "execution_count": 13,
   "metadata": {},
   "outputs": [
    {
     "name": "stdout",
     "output_type": "stream",
     "text": [
      "outliers_above : 313.5485\n",
      "outliers_below : 45.51950000000002\n"
     ]
    }
   ],
   "source": [
    "q3 = PSON['MDVP:Fhi(Hz)'].quantile(0.75)\n",
    "q1 = PSON['MDVP:Fhi(Hz)'].quantile(0.25)\n",
    "t = q3-q1\n",
    "outliers_above = q3+t\n",
    "outliers_below = q1-t\n",
    "print(\"outliers_above : {}\".format(outliers_above))\n",
    "print(\"outliers_below : {}\".format(outliers_below))"
   ]
  },
  {
   "cell_type": "code",
   "execution_count": 14,
   "metadata": {},
   "outputs": [
    {
     "name": "stdout",
     "output_type": "stream",
     "text": [
      "12\n",
      "0\n",
      "name\n",
      "phon_R01_S04_5    349.259\n",
      "phon_R01_S19_2    588.518\n",
      "phon_R01_S24_6    586.567\n",
      "phon_R01_S27_1    492.892\n",
      "phon_R01_S27_2    442.557\n",
      "phon_R01_S27_3    450.247\n",
      "phon_R01_S27_4    442.824\n",
      "phon_R01_S27_6    479.697\n",
      "phon_R01_S35_4    565.740\n",
      "phon_R01_S49_4    592.030\n",
      "phon_R01_S49_5    581.289\n",
      "phon_R01_S50_5    396.961\n",
      "Name: MDVP:Fhi(Hz), dtype: float64\n"
     ]
    }
   ],
   "source": [
    "print(PSON['MDVP:Fhi(Hz)'].loc[PSON['MDVP:Fhi(Hz)']>outliers_above].count())\n",
    "print(PSON['MDVP:Fhi(Hz)'].loc[PSON['MDVP:Fhi(Hz)']<outliers_below].count())\n",
    "print(PSON['MDVP:Fhi(Hz)'].loc[PSON['MDVP:Fhi(Hz)']>outliers_above])"
   ]
  },
  {
   "cell_type": "markdown",
   "metadata": {},
   "source": [
    "Replacing the outlier with medians as median is robust."
   ]
  },
  {
   "cell_type": "code",
   "execution_count": 15,
   "metadata": {},
   "outputs": [
    {
     "name": "stdout",
     "output_type": "stream",
     "text": [
      "name\n",
      "phon_R01_S01_1    157.302\n",
      "phon_R01_S01_2    148.650\n",
      "phon_R01_S01_3    131.111\n",
      "phon_R01_S01_4    137.871\n",
      "phon_R01_S01_5    141.781\n",
      "phon_R01_S01_6    131.162\n",
      "phon_R01_S02_1    137.244\n",
      "phon_R01_S02_2    113.840\n",
      "phon_R01_S02_3    132.068\n",
      "phon_R01_S02_4    120.103\n",
      "phon_R01_S02_5    112.240\n",
      "phon_R01_S02_6    115.871\n",
      "phon_R01_S04_1    159.866\n",
      "phon_R01_S04_2    179.139\n",
      "phon_R01_S04_3    163.305\n",
      "phon_R01_S04_4    217.455\n",
      "phon_R01_S04_5    164.989\n",
      "phon_R01_S04_6    232.181\n",
      "phon_R01_S05_1    175.829\n",
      "phon_R01_S05_2    189.398\n",
      "Name: MDVP:Fhi(Hz), dtype: float64\n"
     ]
    }
   ],
   "source": [
    "median_val = PSON['MDVP:Fhi(Hz)'].loc[PSON['MDVP:Fhi(Hz)']<=outliers_above].median()\n",
    "PSON['MDVP:Fhi(Hz)'] = PSON['MDVP:Fhi(Hz)'].mask(PSON['MDVP:Fhi(Hz)']>outliers_above,median_val)\n",
    "print(PSON['MDVP:Fhi(Hz)'].head(20))"
   ]
  },
  {
   "cell_type": "code",
   "execution_count": 16,
   "metadata": {},
   "outputs": [
    {
     "data": {
      "text/plain": [
       "<matplotlib.axes._subplots.AxesSubplot at 0x26c4f6dacc8>"
      ]
     },
     "execution_count": 16,
     "metadata": {},
     "output_type": "execute_result"
    },
    {
     "data": {
      "image/png": "[encoded data removed]",
      "text/plain": [
       "<Figure size 432x288 with 1 Axes>"
      ]
     },
     "metadata": {
      "needs_background": "light"
     },
     "output_type": "display_data"
    }
   ],
   "source": [
    "PSON['MDVP:Fhi(Hz)'].plot(kind='box')"
   ]
  },
  {
   "cell_type": "code",
   "execution_count": 17,
   "metadata": {},
   "outputs": [
    {
     "data": {
      "text/plain": [
       "<matplotlib.axes._subplots.AxesSubplot at 0x26c527f9c88>"
      ]
     },
     "execution_count": 17,
     "metadata": {},
     "output_type": "execute_result"
    },
    {
     "data": {
      "image/png": "[encoded data removed]",
      "text/plain": [
       "<Figure size 432x288 with 1 Axes>"
      ]
     },
     "metadata": {
      "needs_background": "light"
     },
     "output_type": "display_data"
    }
   ],
   "source": [
    "PSON['MDVP:Fhi(Hz)'].plot.kde()"
   ]
  },
  {
   "cell_type": "code",
   "execution_count": 18,
   "metadata": {},
   "outputs": [
    {
     "name": "stdout",
     "output_type": "stream",
     "text": [
      "Skewness :  0.3465404758393161\n",
      "Kurtosis :  -1.0412839516180208\n"
     ]
    },
    {
     "data": {
      "text/plain": [
       "<matplotlib.axes._subplots.AxesSubplot at 0x26c528820c8>"
      ]
     },
     "execution_count": 18,
     "metadata": {},
     "output_type": "execute_result"
    },
    {
     "data": {
      "image/png": "[encoded data removed]",
      "text/plain": [
       "<Figure size 432x288 with 1 Axes>"
      ]
     },
     "metadata": {
      "needs_background": "light"
     },
     "output_type": "display_data"
    }
   ],
   "source": [
    "print('Skewness : ',PSON['MDVP:Fhi(Hz)'].skew())\n",
    "print('Kurtosis : ',PSON['MDVP:Fhi(Hz)'].kurtosis())\n",
    "PSON['MDVP:Fhi(Hz)'].plot.hist()"
   ]
  },
  {
   "cell_type": "markdown",
   "metadata": {},
   "source": [
    " After outlier treatment kurtosis indicates that less number of data points are around the tail "
   ]
  },
  {
   "cell_type": "markdown",
   "metadata": {},
   "source": [
    "# Minimum vocal fundamental frequency MDVP:Flo (Hz)"
   ]
  },
  {
   "cell_type": "code",
   "execution_count": 19,
   "metadata": {},
   "outputs": [
    {
     "data": {
      "text/plain": [
       "<matplotlib.axes._subplots.AxesSubplot at 0x26c529062c8>"
      ]
     },
     "execution_count": 19,
     "metadata": {},
     "output_type": "execute_result"
    },
    {
     "data": {
      "image/png": "[encoded data removed]",
      "text/plain": [
       "<Figure size 432x288 with 1 Axes>"
      ]
     },
     "metadata": {
      "needs_background": "light"
     },
     "output_type": "display_data"
    }
   ],
   "source": [
    "PSON['MDVP:Flo(Hz)'].plot(kind='box')"
   ]
  },
  {
   "cell_type": "code",
   "execution_count": 20,
   "metadata": {},
   "outputs": [
    {
     "name": "stdout",
     "output_type": "stream",
     "text": [
      "Skewness :  1.217350448627808\n",
      "Kurtosis :  0.6546145211395396\n",
      "AxesSubplot(0.125,0.125;0.775x0.755)\n"
     ]
    },
    {
     "data": {
      "image/png": "[encoded data removed]",
      "text/plain": [
       "<Figure size 432x288 with 1 Axes>"
      ]
     },
     "metadata": {
      "needs_background": "light"
     },
     "output_type": "display_data"
    }
   ],
   "source": [
    "print('Skewness : ',PSON['MDVP:Flo(Hz)'].skew())\n",
    "print('Kurtosis : ',PSON['MDVP:Flo(Hz)'].kurtosis())\n",
    "print(PSON['MDVP:Flo(Hz)'].plot.hist(bins=15))"
   ]
  },
  {
   "cell_type": "markdown",
   "metadata": {},
   "source": [
    "The value is positive hence the data is skewed towards right side"
   ]
  },
  {
   "cell_type": "markdown",
   "metadata": {},
   "source": [
    "The value is postive hence the more data points are around the tail"
   ]
  },
  {
   "cell_type": "code",
   "execution_count": 21,
   "metadata": {},
   "outputs": [
    {
     "data": {
      "text/plain": [
       "<matplotlib.axes._subplots.AxesSubplot at 0x26c52a09508>"
      ]
     },
     "execution_count": 21,
     "metadata": {},
     "output_type": "execute_result"
    },
    {
     "data": {
      "image/png": "[encoded data removed]",
      "text/plain": [
       "<Figure size 432x288 with 1 Axes>"
      ]
     },
     "metadata": {
      "needs_background": "light"
     },
     "output_type": "display_data"
    }
   ],
   "source": [
    "PSON['MDVP:Flo(Hz)'].plot.kde()"
   ]
  },
  {
   "cell_type": "markdown",
   "metadata": {},
   "source": [
    "outlier treatment"
   ]
  },
  {
   "cell_type": "code",
   "execution_count": 22,
   "metadata": {},
   "outputs": [
    {
     "name": "stdout",
     "output_type": "stream",
     "text": [
      "outliers_above : 195.74600000000004\n",
      "outliers_below : 28.563499999999976\n"
     ]
    }
   ],
   "source": [
    "q3 = PSON['MDVP:Flo(Hz)'].quantile(0.75)\n",
    "q1 = PSON['MDVP:Flo(Hz)'].quantile(0.25)\n",
    "t = q3-q1\n",
    "outliers_above = q3+t\n",
    "outliers_below = q1-t\n",
    "print(\"outliers_above : {}\".format(outliers_above))\n",
    "print(\"outliers_below : {}\".format(outliers_below))"
   ]
  },
  {
   "cell_type": "code",
   "execution_count": 23,
   "metadata": {},
   "outputs": [
    {
     "name": "stdout",
     "output_type": "stream",
     "text": [
      "15\n",
      "0\n",
      "name\n",
      "phon_R01_S07_4    197.079\n",
      "phon_R01_S07_5    196.160\n",
      "phon_R01_S10_1    225.227\n",
      "phon_R01_S10_2    232.483\n",
      "phon_R01_S10_3    232.435\n",
      "phon_R01_S10_4    227.911\n",
      "phon_R01_S10_5    231.848\n",
      "phon_R01_S17_3    205.495\n",
      "phon_R01_S17_4    223.634\n",
      "phon_R01_S17_5    221.156\n",
      "phon_R01_S26_3    199.020\n",
      "phon_R01_S42_2    229.256\n",
      "phon_R01_S42_3    237.303\n",
      "phon_R01_S42_5    219.783\n",
      "phon_R01_S42_6    239.170\n",
      "Name: MDVP:Flo(Hz), dtype: float64\n"
     ]
    }
   ],
   "source": [
    "print(PSON['MDVP:Flo(Hz)'].loc[PSON['MDVP:Flo(Hz)']>outliers_above].count())\n",
    "print(PSON['MDVP:Flo(Hz)'].loc[PSON['MDVP:Flo(Hz)']<outliers_below].count())\n",
    "print(PSON['MDVP:Flo(Hz)'].loc[PSON['MDVP:Flo(Hz)']>outliers_above])"
   ]
  },
  {
   "cell_type": "code",
   "execution_count": 24,
   "metadata": {},
   "outputs": [
    {
     "name": "stdout",
     "output_type": "stream",
     "text": [
      "AxesSubplot(0.125,0.125;0.775x0.755)\n"
     ]
    },
    {
     "data": {
      "image/png": "[encoded data removed]",
      "text/plain": [
       "<Figure size 432x288 with 1 Axes>"
      ]
     },
     "metadata": {
      "needs_background": "light"
     },
     "output_type": "display_data"
    }
   ],
   "source": [
    "max_val = PSON['MDVP:Flo(Hz)'].loc[PSON['MDVP:Flo(Hz)']<=outliers_above].max()\n",
    "PSON['MDVP:Flo(Hz)'] = PSON['MDVP:Flo(Hz)'].mask(PSON['MDVP:Flo(Hz)']>outliers_above,max_val)\n",
    "print(PSON['MDVP:Flo(Hz)'].plot(kind='box'))"
   ]
  },
  {
   "cell_type": "code",
   "execution_count": 25,
   "metadata": {},
   "outputs": [
    {
     "name": "stdout",
     "output_type": "stream",
     "text": [
      "Skewness :  0.9105008789129816\n",
      "Kurtosis :  -0.3380621656813876\n",
      "AxesSubplot(0.125,0.125;0.775x0.755)\n"
     ]
    },
    {
     "data": {
      "image/png": "[encoded data removed]",
      "text/plain": [
       "<Figure size 432x288 with 1 Axes>"
      ]
     },
     "metadata": {
      "needs_background": "light"
     },
     "output_type": "display_data"
    }
   ],
   "source": [
    "print('Skewness : ',PSON['MDVP:Flo(Hz)'].skew())\n",
    "print('Kurtosis : ',PSON['MDVP:Flo(Hz)'].kurtosis())\n",
    "print(PSON['MDVP:Flo(Hz)'].plot.hist())"
   ]
  },
  {
   "cell_type": "code",
   "execution_count": 26,
   "metadata": {},
   "outputs": [
    {
     "data": {
      "text/plain": [
       "<matplotlib.axes._subplots.AxesSubplot at 0x26c53b5a488>"
      ]
     },
     "execution_count": 26,
     "metadata": {},
     "output_type": "execute_result"
    },
    {
     "data": {
      "image/png": "[encoded data removed]",
      "text/plain": [
       "<Figure size 432x288 with 1 Axes>"
      ]
     },
     "metadata": {
      "needs_background": "light"
     },
     "output_type": "display_data"
    }
   ],
   "source": [
    "PSON['MDVP:Flo(Hz)'].plot.kde()"
   ]
  },
  {
   "cell_type": "markdown",
   "metadata": {},
   "source": [
    "After outlier treatment kurtosis indicates less number of data points around the tail"
   ]
  },
  {
   "cell_type": "markdown",
   "metadata": {},
   "source": [
    "## Several measures of variation in fundamental frequency\n",
    "#### MDVP:Jitter(%)"
   ]
  },
  {
   "cell_type": "code",
   "execution_count": 27,
   "metadata": {},
   "outputs": [
    {
     "data": {
      "text/plain": [
       "<matplotlib.axes._subplots.AxesSubplot at 0x26c53ba9988>"
      ]
     },
     "execution_count": 27,
     "metadata": {},
     "output_type": "execute_result"
    },
    {
     "data": {
      "image/png": "[encoded data removed]",
      "text/plain": [
       "<Figure size 432x288 with 1 Axes>"
      ]
     },
     "metadata": {
      "needs_background": "light"
     },
     "output_type": "display_data"
    }
   ],
   "source": [
    "PSON['MDVP:Jitter(%)'].plot(kind='box')"
   ]
  },
  {
   "cell_type": "code",
   "execution_count": 28,
   "metadata": {},
   "outputs": [
    {
     "name": "stdout",
     "output_type": "stream",
     "text": [
      "The minimum vocal fundamental frequency of a person is 0.01 and 99% of the people have a Jitter of 0.01\n"
     ]
    }
   ],
   "source": [
    "print(\"The minimum vocal fundamental frequency of a person is {:.2f} and 99% of the people have a Jitter of {:.2f}\".format(PSON['MDVP:Jitter(%)'].mean(),PSON['MDVP:Jitter(%)'].quantile(0.90)))"
   ]
  },
  {
   "cell_type": "code",
   "execution_count": 29,
   "metadata": {},
   "outputs": [
    {
     "name": "stdout",
     "output_type": "stream",
     "text": [
      "Skewness :  3.0849462014441817\n",
      "Kurtosis :  12.030939276179508\n",
      "AxesSubplot(0.125,0.125;0.775x0.755)\n"
     ]
    },
    {
     "data": {
      "image/png": "[encoded data removed]",
      "text/plain": [
       "<Figure size 432x288 with 1 Axes>"
      ]
     },
     "metadata": {
      "needs_background": "light"
     },
     "output_type": "display_data"
    }
   ],
   "source": [
    "print('Skewness : ',PSON['MDVP:Jitter(%)'].skew())\n",
    "print('Kurtosis : ',PSON['MDVP:Jitter(%)'].kurtosis())\n",
    "print(PSON['MDVP:Jitter(%)'].plot.hist())"
   ]
  },
  {
   "cell_type": "markdown",
   "metadata": {},
   "source": [
    "The value is positive hence the data is skewed towards right side"
   ]
  },
  {
   "cell_type": "markdown",
   "metadata": {},
   "source": [
    "The value is positive hence more data points around the tail"
   ]
  },
  {
   "cell_type": "code",
   "execution_count": 30,
   "metadata": {},
   "outputs": [
    {
     "data": {
      "text/plain": [
       "<matplotlib.axes._subplots.AxesSubplot at 0x26c53ca8c48>"
      ]
     },
     "execution_count": 30,
     "metadata": {},
     "output_type": "execute_result"
    },
    {
     "data": {
      "image/png": "[encoded data removed]",
      "text/plain": [
       "<Figure size 432x288 with 1 Axes>"
      ]
     },
     "metadata": {
      "needs_background": "light"
     },
     "output_type": "display_data"
    }
   ],
   "source": [
    "PSON['MDVP:Jitter(%)'].plot.kde()"
   ]
  },
  {
   "cell_type": "markdown",
   "metadata": {},
   "source": [
    "#### Outlier Treatment"
   ]
  },
  {
   "cell_type": "code",
   "execution_count": 31,
   "metadata": {},
   "outputs": [
    {
     "name": "stdout",
     "output_type": "stream",
     "text": [
      "outliers_above : 0.01127\n",
      "outliers_below : -0.0004450000000000001\n"
     ]
    }
   ],
   "source": [
    "q3 = PSON['MDVP:Jitter(%)'].quantile(0.75)\n",
    "q1 = PSON['MDVP:Jitter(%)'].quantile(0.25)\n",
    "t = q3-q1\n",
    "outliers_above = q3+t\n",
    "outliers_below = q1-t\n",
    "print(\"outliers_above : {}\".format(outliers_above))\n",
    "print(\"outliers_below : {}\".format(outliers_below))"
   ]
  },
  {
   "cell_type": "code",
   "execution_count": 32,
   "metadata": {},
   "outputs": [
    {
     "name": "stdout",
     "output_type": "stream",
     "text": [
      "16\n",
      "0\n",
      "name\n",
      "phon_R01_S01_5    0.01284\n",
      "phon_R01_S24_1    0.01280\n",
      "phon_R01_S24_2    0.01378\n",
      "phon_R01_S24_3    0.01936\n",
      "phon_R01_S24_4    0.03316\n",
      "phon_R01_S24_5    0.01551\n",
      "phon_R01_S24_6    0.03011\n",
      "phon_R01_S35_1    0.01568\n",
      "phon_R01_S35_2    0.01466\n",
      "phon_R01_S35_3    0.01719\n",
      "phon_R01_S35_4    0.01627\n",
      "phon_R01_S35_5    0.01872\n",
      "phon_R01_S35_6    0.03107\n",
      "phon_R01_S35_7    0.02714\n",
      "phon_R01_S37_5    0.01813\n",
      "phon_R01_S50_4    0.01360\n",
      "Name: MDVP:Jitter(%), dtype: float64\n"
     ]
    }
   ],
   "source": [
    "print(PSON['MDVP:Jitter(%)'].loc[PSON['MDVP:Jitter(%)']>outliers_above].count())\n",
    "print(PSON['MDVP:Jitter(%)'].loc[PSON['MDVP:Jitter(%)']<outliers_below].count())\n",
    "print(PSON['MDVP:Jitter(%)'].loc[PSON['MDVP:Jitter(%)']>outliers_above])"
   ]
  },
  {
   "cell_type": "code",
   "execution_count": 33,
   "metadata": {},
   "outputs": [
    {
     "name": "stdout",
     "output_type": "stream",
     "text": [
      "AxesSubplot(0.125,0.125;0.775x0.755)\n"
     ]
    },
    {
     "data": {
      "image/png": "[encoded data removed]",
      "text/plain": [
       "<Figure size 432x288 with 1 Axes>"
      ]
     },
     "metadata": {
      "needs_background": "light"
     },
     "output_type": "display_data"
    }
   ],
   "source": [
    "max_val = PSON['MDVP:Jitter(%)'].loc[PSON['MDVP:Jitter(%)']<=outliers_above].max()\n",
    "PSON['MDVP:Jitter(%)'] = PSON['MDVP:Jitter(%)'].mask(PSON['MDVP:Jitter(%)']>outliers_above,max_val)\n",
    "print(PSON['MDVP:Jitter(%)'].plot(kind='box'))"
   ]
  },
  {
   "cell_type": "code",
   "execution_count": 34,
   "metadata": {},
   "outputs": [
    {
     "name": "stdout",
     "output_type": "stream",
     "text": [
      "Skewness :  0.7135316854634219\n",
      "Kurtosis :  -0.45799448113050856\n"
     ]
    },
    {
     "data": {
      "text/plain": [
       "<matplotlib.axes._subplots.AxesSubplot at 0x26c53d97c88>"
      ]
     },
     "execution_count": 34,
     "metadata": {},
     "output_type": "execute_result"
    },
    {
     "data": {
      "image/png": "[encoded data removed]",
      "text/plain": [
       "<Figure size 432x288 with 1 Axes>"
      ]
     },
     "metadata": {
      "needs_background": "light"
     },
     "output_type": "display_data"
    }
   ],
   "source": [
    "print('Skewness : ',PSON['MDVP:Jitter(%)'].skew())\n",
    "print('Kurtosis : ',PSON['MDVP:Jitter(%)'].kurtosis())\n",
    "PSON['MDVP:Jitter(%)'].plot.hist()"
   ]
  },
  {
   "cell_type": "code",
   "execution_count": 35,
   "metadata": {},
   "outputs": [
    {
     "data": {
      "text/plain": [
       "<matplotlib.axes._subplots.AxesSubplot at 0x26c53bb2ec8>"
      ]
     },
     "execution_count": 35,
     "metadata": {},
     "output_type": "execute_result"
    },
    {
     "data": {
      "image/png": "[encoded data removed]",
      "text/plain": [
       "<Figure size 432x288 with 1 Axes>"
      ]
     },
     "metadata": {
      "needs_background": "light"
     },
     "output_type": "display_data"
    }
   ],
   "source": [
    "PSON['MDVP:Jitter(%)'].plot.kde()"
   ]
  },
  {
   "cell_type": "markdown",
   "metadata": {},
   "source": [
    "After outlier treatment kurtosis indicates less number of data points around the tail"
   ]
  },
  {
   "cell_type": "markdown",
   "metadata": {},
   "source": [
    "#### MDVP:Jitter(Abs)"
   ]
  },
  {
   "cell_type": "code",
   "execution_count": 36,
   "metadata": {},
   "outputs": [
    {
     "data": {
      "text/plain": [
       "<matplotlib.axes._subplots.AxesSubplot at 0x26c53b14bc8>"
      ]
     },
     "execution_count": 36,
     "metadata": {},
     "output_type": "execute_result"
    },
    {
     "data": {
      "image/png": "[encoded data removed]",
      "text/plain": [
       "<Figure size 432x288 with 1 Axes>"
      ]
     },
     "metadata": {
      "needs_background": "light"
     },
     "output_type": "display_data"
    }
   ],
   "source": [
    "PSON['MDVP:Jitter(Abs)'].plot(kind='box')"
   ]
  },
  {
   "cell_type": "code",
   "execution_count": 37,
   "metadata": {},
   "outputs": [
    {
     "name": "stdout",
     "output_type": "stream",
     "text": [
      "Skewness :  2.6490714165257274\n",
      "kurtosis :  10.869042517763667\n",
      "AxesSubplot(0.125,0.125;0.775x0.755)\n"
     ]
    },
    {
     "data": {
      "image/png": "[encoded data removed]",
      "text/plain": [
       "<Figure size 432x288 with 1 Axes>"
      ]
     },
     "metadata": {
      "needs_background": "light"
     },
     "output_type": "display_data"
    }
   ],
   "source": [
    "print('Skewness : ',PSON['MDVP:Jitter(Abs)'].skew())\n",
    "print('kurtosis : ',PSON['MDVP:Jitter(Abs)'].kurtosis())\n",
    "print(PSON['MDVP:Jitter(Abs)'].plot.hist())"
   ]
  },
  {
   "cell_type": "markdown",
   "metadata": {},
   "source": [
    "The value is positive hence the data is skewed towards right side"
   ]
  },
  {
   "cell_type": "markdown",
   "metadata": {},
   "source": [
    "The value is positive hence more data points are around the tail"
   ]
  },
  {
   "cell_type": "code",
   "execution_count": 38,
   "metadata": {},
   "outputs": [
    {
     "data": {
      "text/plain": [
       "<matplotlib.axes._subplots.AxesSubplot at 0x26c529b0788>"
      ]
     },
     "execution_count": 38,
     "metadata": {},
     "output_type": "execute_result"
    },
    {
     "data": {
      "image/png": "[encoded data removed]",
      "text/plain": [
       "<Figure size 432x288 with 1 Axes>"
      ]
     },
     "metadata": {
      "needs_background": "light"
     },
     "output_type": "display_data"
    }
   ],
   "source": [
    "PSON['MDVP:Jitter(Abs)'].plot.kde()"
   ]
  },
  {
   "cell_type": "markdown",
   "metadata": {},
   "source": [
    "#### Outlier Treatment"
   ]
  },
  {
   "cell_type": "code",
   "execution_count": 39,
   "metadata": {},
   "outputs": [
    {
     "name": "stdout",
     "output_type": "stream",
     "text": [
      "outliers_above : 9.999999999999999e-05\n",
      "outliers_below : -1.9999999999999995e-05\n"
     ]
    }
   ],
   "source": [
    "q3 = PSON['MDVP:Jitter(Abs)'].quantile(0.75)\n",
    "q1 = PSON['MDVP:Jitter(Abs)'].quantile(0.25)\n",
    "t = q3-q1\n",
    "outliers_above = q3+t\n",
    "outliers_below = q1-t\n",
    "print(\"outliers_above : {}\".format(outliers_above))\n",
    "print(\"outliers_below : {}\".format(outliers_below))"
   ]
  },
  {
   "cell_type": "code",
   "execution_count": 40,
   "metadata": {},
   "outputs": [
    {
     "name": "stdout",
     "output_type": "stream",
     "text": [
      "12\n",
      "0\n"
     ]
    }
   ],
   "source": [
    "print(PSON['MDVP:Jitter(Abs)'].loc[PSON['MDVP:Jitter(Abs)']>outliers_above].count())\n",
    "print(PSON['MDVP:Jitter(Abs)'].loc[PSON['MDVP:Jitter(Abs)']<outliers_below].count())"
   ]
  },
  {
   "cell_type": "code",
   "execution_count": 41,
   "metadata": {},
   "outputs": [
    {
     "name": "stdout",
     "output_type": "stream",
     "text": [
      "AxesSubplot(0.125,0.125;0.775x0.755)\n"
     ]
    },
    {
     "data": {
      "image/png": "[encoded data removed]",
      "text/plain": [
       "<Figure size 432x288 with 1 Axes>"
      ]
     },
     "metadata": {
      "needs_background": "light"
     },
     "output_type": "display_data"
    }
   ],
   "source": [
    "mean_val = PSON['MDVP:Jitter(Abs)'].loc[PSON['MDVP:Jitter(Abs)']<=outliers_above].mean()\n",
    "PSON['MDVP:Jitter(Abs)'] = PSON['MDVP:Jitter(Abs)'].mask(PSON['MDVP:Jitter(Abs)']>outliers_above,mean_val)\n",
    "print(PSON['MDVP:Jitter(Abs)'].plot(kind='box'))"
   ]
  },
  {
   "cell_type": "code",
   "execution_count": 42,
   "metadata": {},
   "outputs": [
    {
     "name": "stdout",
     "output_type": "stream",
     "text": [
      "skewness :  0.7300925097869511\n",
      "Kurtosis :  0.008361144000160525\n"
     ]
    },
    {
     "data": {
      "text/plain": [
       "<matplotlib.axes._subplots.AxesSubplot at 0x26c51136a08>"
      ]
     },
     "execution_count": 42,
     "metadata": {},
     "output_type": "execute_result"
    },
    {
     "data": {
      "image/png": "[encoded data removed]",
      "text/plain": [
       "<Figure size 432x288 with 1 Axes>"
      ]
     },
     "metadata": {
      "needs_background": "light"
     },
     "output_type": "display_data"
    }
   ],
   "source": [
    "print('skewness : ',PSON['MDVP:Jitter(Abs)'].skew())\n",
    "print('Kurtosis : ',PSON['MDVP:Jitter(Abs)'].kurtosis())\n",
    "PSON['MDVP:Jitter(Abs)'].plot.hist()"
   ]
  },
  {
   "cell_type": "code",
   "execution_count": 43,
   "metadata": {},
   "outputs": [
    {
     "data": {
      "text/plain": [
       "<matplotlib.axes._subplots.AxesSubplot at 0x26c51453448>"
      ]
     },
     "execution_count": 43,
     "metadata": {},
     "output_type": "execute_result"
    },
    {
     "data": {
      "image/png": "[encoded data removed]",
      "text/plain": [
       "<Figure size 432x288 with 1 Axes>"
      ]
     },
     "metadata": {
      "needs_background": "light"
     },
     "output_type": "display_data"
    }
   ],
   "source": [
    "PSON['MDVP:Jitter(Abs)'].plot.kde()"
   ]
  },
  {
   "cell_type": "markdown",
   "metadata": {},
   "source": [
    "After outlier treatment kurtosis indicates less number of data points around the tail"
   ]
  },
  {
   "cell_type": "markdown",
   "metadata": {},
   "source": [
    "### MDVP:RAP"
   ]
  },
  {
   "cell_type": "code",
   "execution_count": 44,
   "metadata": {},
   "outputs": [
    {
     "data": {
      "text/plain": [
       "<matplotlib.axes._subplots.AxesSubplot at 0x26c51509508>"
      ]
     },
     "execution_count": 44,
     "metadata": {},
     "output_type": "execute_result"
    },
    {
     "data": {
      "image/png": "[encoded data removed]",
      "text/plain": [
       "<Figure size 432x288 with 1 Axes>"
      ]
     },
     "metadata": {
      "needs_background": "light"
     },
     "output_type": "display_data"
    }
   ],
   "source": [
    "PSON['MDVP:RAP'].plot(kind='box')"
   ]
  },
  {
   "cell_type": "code",
   "execution_count": 45,
   "metadata": {},
   "outputs": [
    {
     "name": "stdout",
     "output_type": "stream",
     "text": [
      "Skewness :  3.360708450480554\n",
      "Kurtosis :  14.213797721522418\n",
      "AxesSubplot(0.125,0.125;0.775x0.755)\n"
     ]
    },
    {
     "data": {
      "image/png": "[encoded data removed]",
      "text/plain": [
       "<Figure size 432x288 with 1 Axes>"
      ]
     },
     "metadata": {
      "needs_background": "light"
     },
     "output_type": "display_data"
    }
   ],
   "source": [
    "print('Skewness : ',PSON['MDVP:RAP'].skew())\n",
    "print('Kurtosis : ',PSON['MDVP:RAP'].kurtosis())\n",
    "print(PSON['MDVP:RAP'].plot.hist())"
   ]
  },
  {
   "cell_type": "markdown",
   "metadata": {},
   "source": [
    "The value is positive hence the data is skewed towards right side"
   ]
  },
  {
   "cell_type": "markdown",
   "metadata": {},
   "source": [
    "The value is positive hence more data points are around the tail"
   ]
  },
  {
   "cell_type": "code",
   "execution_count": 46,
   "metadata": {},
   "outputs": [
    {
     "data": {
      "text/plain": [
       "<matplotlib.axes._subplots.AxesSubplot at 0x26c515b4808>"
      ]
     },
     "execution_count": 46,
     "metadata": {},
     "output_type": "execute_result"
    },
    {
     "data": {
      "image/png": "[encoded data removed]",
      "text/plain": [
       "<Figure size 432x288 with 1 Axes>"
      ]
     },
     "metadata": {
      "needs_background": "light"
     },
     "output_type": "display_data"
    }
   ],
   "source": [
    "PSON['MDVP:RAP'].plot.kde()"
   ]
  },
  {
   "cell_type": "markdown",
   "metadata": {},
   "source": [
    "#### Outlier Treatment"
   ]
  },
  {
   "cell_type": "code",
   "execution_count": 47,
   "metadata": {},
   "outputs": [
    {
     "name": "stdout",
     "output_type": "stream",
     "text": [
      "outliers_above : 0.00601\n",
      "outliers_below : -0.0005149999999999996\n"
     ]
    }
   ],
   "source": [
    "q3 = PSON['MDVP:RAP'].quantile(0.75)\n",
    "q1 = PSON['MDVP:RAP'].quantile(0.25)\n",
    "t = q3-q1\n",
    "outliers_above = q3+t\n",
    "outliers_below = q1-t\n",
    "print(\"outliers_above : {}\".format(outliers_above))\n",
    "print(\"outliers_below : {}\".format(outliers_below))"
   ]
  },
  {
   "cell_type": "code",
   "execution_count": 48,
   "metadata": {},
   "outputs": [
    {
     "name": "stdout",
     "output_type": "stream",
     "text": [
      "18\n",
      "0\n"
     ]
    }
   ],
   "source": [
    "print(PSON['MDVP:RAP'].loc[PSON['MDVP:RAP']>outliers_above].count())\n",
    "print(PSON['MDVP:RAP'].loc[PSON['MDVP:RAP']<outliers_below].count())"
   ]
  },
  {
   "cell_type": "code",
   "execution_count": 49,
   "metadata": {},
   "outputs": [
    {
     "data": {
      "text/plain": [
       "<matplotlib.axes._subplots.AxesSubplot at 0x26c52b06e88>"
      ]
     },
     "execution_count": 49,
     "metadata": {},
     "output_type": "execute_result"
    },
    {
     "data": {
      "image/png": "[encoded data removed]",
      "text/plain": [
       "<Figure size 432x288 with 1 Axes>"
      ]
     },
     "metadata": {
      "needs_background": "light"
     },
     "output_type": "display_data"
    }
   ],
   "source": [
    "max_val = PSON['MDVP:RAP'].loc[PSON['MDVP:RAP']<=outliers_above].max()\n",
    "PSON['MDVP:RAP'] = PSON['MDVP:RAP'].mask(PSON['MDVP:RAP']>outliers_above,max_val)\n",
    "PSON['MDVP:RAP'].plot(kind='box')"
   ]
  },
  {
   "cell_type": "code",
   "execution_count": 50,
   "metadata": {},
   "outputs": [
    {
     "name": "stdout",
     "output_type": "stream",
     "text": [
      "Skewness :  0.7370769342317647\n",
      "Kurtosis :  -0.5062984793572727\n",
      "AxesSubplot(0.125,0.125;0.775x0.755)\n",
      "AxesSubplot(0.125,0.125;0.775x0.755)\n"
     ]
    },
    {
     "data": {
      "image/png": "[encoded data removed]",
      "text/plain": [
       "<Figure size 432x288 with 1 Axes>"
      ]
     },
     "metadata": {
      "needs_background": "light"
     },
     "output_type": "display_data"
    }
   ],
   "source": [
    "print('Skewness : ',PSON['MDVP:RAP'].skew())\n",
    "print('Kurtosis : ',PSON['MDVP:RAP'].kurtosis())\n",
    "print(PSON['MDVP:RAP'].plot.hist())\n",
    "print(PSON['MDVP:RAP'].plot.kde())"
   ]
  },
  {
   "cell_type": "markdown",
   "metadata": {},
   "source": [
    "### MDVP:PPQ"
   ]
  },
  {
   "cell_type": "code",
   "execution_count": 51,
   "metadata": {},
   "outputs": [
    {
     "data": {
      "text/plain": [
       "<matplotlib.axes._subplots.AxesSubplot at 0x26c514b8e48>"
      ]
     },
     "execution_count": 51,
     "metadata": {},
     "output_type": "execute_result"
    },
    {
     "data": {
      "image/png": "[encoded data removed]",
      "text/plain": [
       "<Figure size 432x288 with 1 Axes>"
      ]
     },
     "metadata": {
      "needs_background": "light"
     },
     "output_type": "display_data"
    }
   ],
   "source": [
    "PSON['MDVP:PPQ'].plot(kind='box')"
   ]
  },
  {
   "cell_type": "code",
   "execution_count": 52,
   "metadata": {},
   "outputs": [
    {
     "name": "stdout",
     "output_type": "stream",
     "text": [
      "Skewness :  3.073892457888517\n",
      "Kurtosis :  11.963922120220282\n",
      "AxesSubplot(0.125,0.125;0.775x0.755)\n",
      "AxesSubplot(0.125,0.125;0.775x0.755)\n"
     ]
    },
    {
     "data": {
      "image/png": "[encoded data removed]",
      "text/plain": [
       "<Figure size 432x288 with 1 Axes>"
      ]
     },
     "metadata": {
      "needs_background": "light"
     },
     "output_type": "display_data"
    }
   ],
   "source": [
    "print('Skewness : ',PSON['MDVP:PPQ'].skew())\n",
    "print('Kurtosis : ',PSON['MDVP:PPQ'].kurtosis())\n",
    "print(PSON['MDVP:PPQ'].plot.hist())\n",
    "print(PSON['MDVP:PPQ'].plot.kde())"
   ]
  },
  {
   "cell_type": "markdown",
   "metadata": {},
   "source": [
    "The value is positive hence the data is skewed towards right side"
   ]
  },
  {
   "cell_type": "markdown",
   "metadata": {},
   "source": [
    "The value is positive hence more data points are around the tail"
   ]
  },
  {
   "cell_type": "markdown",
   "metadata": {},
   "source": [
    "#### Outlier Treatment"
   ]
  },
  {
   "cell_type": "code",
   "execution_count": 53,
   "metadata": {},
   "outputs": [
    {
     "name": "stdout",
     "output_type": "stream",
     "text": [
      "outliers_above : 0.00605\n",
      "outliers_below : -0.00023499999999999997\n"
     ]
    }
   ],
   "source": [
    "q3 = PSON['MDVP:PPQ'].quantile(0.75)\n",
    "q1 = PSON['MDVP:PPQ'].quantile(0.25)\n",
    "t = q3-q1\n",
    "outliers_above = q3+t\n",
    "outliers_below = q1-t\n",
    "print(\"outliers_above : {}\".format(outliers_above))\n",
    "print(\"outliers_below : {}\".format(outliers_below))"
   ]
  },
  {
   "cell_type": "code",
   "execution_count": 54,
   "metadata": {},
   "outputs": [
    {
     "name": "stdout",
     "output_type": "stream",
     "text": [
      "19\n",
      "0\n"
     ]
    }
   ],
   "source": [
    "print(PSON['MDVP:PPQ'].loc[PSON['MDVP:PPQ']>outliers_above].count())\n",
    "print(PSON['MDVP:PPQ'].loc[PSON['MDVP:PPQ']<outliers_below].count())"
   ]
  },
  {
   "cell_type": "code",
   "execution_count": 55,
   "metadata": {},
   "outputs": [
    {
     "data": {
      "text/plain": [
       "<matplotlib.axes._subplots.AxesSubplot at 0x26c50e679c8>"
      ]
     },
     "execution_count": 55,
     "metadata": {},
     "output_type": "execute_result"
    },
    {
     "data": {
      "image/png": "[encoded data removed]",
      "text/plain": [
       "<Figure size 432x288 with 1 Axes>"
      ]
     },
     "metadata": {
      "needs_background": "light"
     },
     "output_type": "display_data"
    }
   ],
   "source": [
    "max_val = PSON['MDVP:PPQ'].loc[PSON['MDVP:PPQ']<=outliers_above].max()\n",
    "PSON['MDVP:PPQ'] = PSON['MDVP:PPQ'].mask(PSON['MDVP:PPQ']>outliers_above,max_val)\n",
    "PSON['MDVP:PPQ'].plot(kind='box')"
   ]
  },
  {
   "cell_type": "code",
   "execution_count": 56,
   "metadata": {},
   "outputs": [
    {
     "name": "stdout",
     "output_type": "stream",
     "text": [
      "Skewness :  0.6406137677940903\n",
      "Kurtosis :  -0.6941626966478127\n",
      "AxesSubplot(0.125,0.125;0.775x0.755)\n",
      "AxesSubplot(0.125,0.125;0.775x0.755)\n"
     ]
    },
    {
     "data": {
      "image/png": "[encoded data removed]",
      "text/plain": [
       "<Figure size 432x288 with 1 Axes>"
      ]
     },
     "metadata": {
      "needs_background": "light"
     },
     "output_type": "display_data"
    }
   ],
   "source": [
    "print('Skewness : ',PSON['MDVP:PPQ'].skew())\n",
    "print('Kurtosis : ',PSON['MDVP:PPQ'].kurtosis())\n",
    "print(PSON['MDVP:PPQ'].plot.hist())\n",
    "print(PSON['MDVP:PPQ'].plot.kde())"
   ]
  },
  {
   "cell_type": "markdown",
   "metadata": {},
   "source": [
    "After outlier treatment kurtosis indicates less number of data points around the tail"
   ]
  },
  {
   "cell_type": "markdown",
   "metadata": {},
   "source": [
    "### Jitter:DDP"
   ]
  },
  {
   "cell_type": "code",
   "execution_count": 57,
   "metadata": {},
   "outputs": [
    {
     "data": {
      "text/plain": [
       "<matplotlib.axes._subplots.AxesSubplot at 0x26c51130d88>"
      ]
     },
     "execution_count": 57,
     "metadata": {},
     "output_type": "execute_result"
    },
    {
     "data": {
      "image/png": "[encoded data removed]",
      "text/plain": [
       "<Figure size 432x288 with 1 Axes>"
      ]
     },
     "metadata": {
      "needs_background": "light"
     },
     "output_type": "display_data"
    }
   ],
   "source": [
    "PSON['Jitter:DDP'].plot(kind='box')"
   ]
  },
  {
   "cell_type": "code",
   "execution_count": 58,
   "metadata": {},
   "outputs": [
    {
     "name": "stdout",
     "output_type": "stream",
     "text": [
      "Skewness :  3.3620584478857203\n",
      "Kurtosis :  14.224761911379424\n",
      "AxesSubplot(0.125,0.125;0.775x0.755)\n",
      "AxesSubplot(0.125,0.125;0.775x0.755)\n"
     ]
    },
    {
     "data": {
      "image/png": "[encoded data removed]",
      "text/plain": [
       "<Figure size 432x288 with 1 Axes>"
      ]
     },
     "metadata": {
      "needs_background": "light"
     },
     "output_type": "display_data"
    }
   ],
   "source": [
    "print('Skewness : ',PSON['Jitter:DDP'].skew())\n",
    "print('Kurtosis : ',PSON['Jitter:DDP'].kurtosis())\n",
    "print(PSON['Jitter:DDP'].plot.hist())\n",
    "print(PSON['Jitter:DDP'].plot.kde())"
   ]
  },
  {
   "cell_type": "markdown",
   "metadata": {},
   "source": [
    "The value is positive hence the data is skewed towards right side"
   ]
  },
  {
   "cell_type": "markdown",
   "metadata": {},
   "source": [
    "The value is postive hence more data points are around the tail"
   ]
  },
  {
   "cell_type": "markdown",
   "metadata": {},
   "source": [
    "#### Outlier Treatment"
   ]
  },
  {
   "cell_type": "code",
   "execution_count": 59,
   "metadata": {},
   "outputs": [
    {
     "name": "stdout",
     "output_type": "stream",
     "text": [
      "outliers_above : 0.018025\n",
      "outliers_below : -0.001535\n"
     ]
    }
   ],
   "source": [
    "q3 = PSON['Jitter:DDP'].quantile(0.75)\n",
    "q1 = PSON['Jitter:DDP'].quantile(0.25)\n",
    "t = q3-q1\n",
    "outliers_above = q3+t\n",
    "outliers_below = q1-t\n",
    "print(\"outliers_above : {}\".format(outliers_above))\n",
    "print(\"outliers_below : {}\".format(outliers_below))"
   ]
  },
  {
   "cell_type": "code",
   "execution_count": 60,
   "metadata": {},
   "outputs": [
    {
     "name": "stdout",
     "output_type": "stream",
     "text": [
      "18\n",
      "0\n"
     ]
    }
   ],
   "source": [
    "print(PSON['Jitter:DDP'].loc[PSON['Jitter:DDP']>outliers_above].count())\n",
    "print(PSON['Jitter:DDP'].loc[PSON['Jitter:DDP']<outliers_below].count())"
   ]
  },
  {
   "cell_type": "code",
   "execution_count": 61,
   "metadata": {},
   "outputs": [
    {
     "data": {
      "text/plain": [
       "<matplotlib.axes._subplots.AxesSubplot at 0x26c514df188>"
      ]
     },
     "execution_count": 61,
     "metadata": {},
     "output_type": "execute_result"
    },
    {
     "data": {
      "image/png": "[encoded data removed]",
      "text/plain": [
       "<Figure size 432x288 with 1 Axes>"
      ]
     },
     "metadata": {
      "needs_background": "light"
     },
     "output_type": "display_data"
    }
   ],
   "source": [
    "max_val = PSON['Jitter:DDP'].loc[PSON['Jitter:DDP']<=outliers_above].max()\n",
    "PSON['Jitter:DDP'] = PSON['Jitter:DDP'].mask(PSON['Jitter:DDP']>outliers_above,max_val)\n",
    "PSON['Jitter:DDP'].plot(kind='box')"
   ]
  },
  {
   "cell_type": "code",
   "execution_count": 62,
   "metadata": {},
   "outputs": [
    {
     "name": "stdout",
     "output_type": "stream",
     "text": [
      "Skewness :  0.7360596525004133\n",
      "Kurtosis :  -0.5082945859294927\n",
      "AxesSubplot(0.125,0.125;0.775x0.755)\n",
      "AxesSubplot(0.125,0.125;0.775x0.755)\n"
     ]
    },
    {
     "data": {
      "image/png": "[encoded data removed]",
      "text/plain": [
       "<Figure size 432x288 with 1 Axes>"
      ]
     },
     "metadata": {
      "needs_background": "light"
     },
     "output_type": "display_data"
    }
   ],
   "source": [
    "print('Skewness : ',PSON['Jitter:DDP'].skew())\n",
    "print('Kurtosis : ',PSON['Jitter:DDP'].kurtosis())\n",
    "print(PSON['Jitter:DDP'].plot.hist())\n",
    "print(PSON['Jitter:DDP'].plot.kde())"
   ]
  },
  {
   "cell_type": "markdown",
   "metadata": {},
   "source": [
    "After outlier treatment kurtosis indicates less number of data points around the tail"
   ]
  },
  {
   "cell_type": "markdown",
   "metadata": {},
   "source": [
    "## Three nonlinear measures of fundamental frequency variation\n",
    "### Spread1"
   ]
  },
  {
   "cell_type": "code",
   "execution_count": 63,
   "metadata": {},
   "outputs": [
    {
     "data": {
      "text/plain": [
       "<matplotlib.axes._subplots.AxesSubplot at 0x26c51225588>"
      ]
     },
     "execution_count": 63,
     "metadata": {},
     "output_type": "execute_result"
    },
    {
     "data": {
      "image/png": "[encoded data removed]",
      "text/plain": [
       "<Figure size 432x288 with 1 Axes>"
      ]
     },
     "metadata": {
      "needs_background": "light"
     },
     "output_type": "display_data"
    }
   ],
   "source": [
    "PSON['spread1'].plot(kind='box')"
   ]
  },
  {
   "cell_type": "code",
   "execution_count": 64,
   "metadata": {},
   "outputs": [
    {
     "name": "stdout",
     "output_type": "stream",
     "text": [
      "Skewness :  0.4321389320131796\n",
      "Kurtosis :  -0.05019918161280801\n",
      "AxesSubplot(0.125,0.125;0.775x0.755)\n",
      "AxesSubplot(0.125,0.125;0.775x0.755)\n"
     ]
    },
    {
     "data": {
      "image/png": "[encoded data removed]",
      "text/plain": [
       "<Figure size 432x288 with 1 Axes>"
      ]
     },
     "metadata": {
      "needs_background": "light"
     },
     "output_type": "display_data"
    }
   ],
   "source": [
    "print('Skewness : ',PSON['spread1'].skew())\n",
    "print('Kurtosis : ',PSON['spread1'].kurtosis())\n",
    "print(PSON['spread1'].plot.hist())\n",
    "print(PSON['spread1'].plot.kde())"
   ]
  },
  {
   "cell_type": "markdown",
   "metadata": {},
   "source": [
    "### Spread2"
   ]
  },
  {
   "cell_type": "code",
   "execution_count": 65,
   "metadata": {},
   "outputs": [
    {
     "data": {
      "text/plain": [
       "<matplotlib.axes._subplots.AxesSubplot at 0x26c514edcc8>"
      ]
     },
     "execution_count": 65,
     "metadata": {},
     "output_type": "execute_result"
    },
    {
     "data": {
      "image/png": "[encoded data removed]",
      "text/plain": [
       "<Figure size 432x288 with 1 Axes>"
      ]
     },
     "metadata": {
      "needs_background": "light"
     },
     "output_type": "display_data"
    }
   ],
   "source": [
    "PSON['spread2'].plot(kind='box')"
   ]
  },
  {
   "cell_type": "code",
   "execution_count": 66,
   "metadata": {},
   "outputs": [
    {
     "name": "stdout",
     "output_type": "stream",
     "text": [
      "Skewness :  0.14443048549278412\n",
      "Kurtosis :  -0.08302289327680024\n",
      "AxesSubplot(0.125,0.125;0.775x0.755)\n",
      "AxesSubplot(0.125,0.125;0.775x0.755)\n"
     ]
    },
    {
     "data": {
      "image/png": "[encoded data removed]",
      "text/plain": [
       "<Figure size 432x288 with 1 Axes>"
      ]
     },
     "metadata": {
      "needs_background": "light"
     },
     "output_type": "display_data"
    }
   ],
   "source": [
    "print('Skewness : ',PSON['spread2'].skew())\n",
    "print('Kurtosis : ',PSON['spread2'].kurtosis())\n",
    "print(PSON['spread2'].plot.hist())\n",
    "print(PSON['spread2'].plot.kde())"
   ]
  },
  {
   "cell_type": "markdown",
   "metadata": {},
   "source": [
    "## Bivariate Analysis"
   ]
  },
  {
   "cell_type": "code",
   "execution_count": 67,
   "metadata": {},
   "outputs": [
    {
     "data": {
      "text/html": [
       "<div>\n",
       "<style scoped>\n",
       "    .dataframe tbody tr th:only-of-type {\n",
       "        vertical-align: middle;\n",
       "    }\n",
       "\n",
       "    .dataframe tbody tr th {\n",
       "        vertical-align: top;\n",
       "    }\n",
       "\n",
       "    .dataframe thead th {\n",
       "        text-align: right;\n",
       "    }\n",
       "</style>\n",
       "<table border=\"1\" class=\"dataframe\">\n",
       "  <thead>\n",
       "    <tr style=\"text-align: right;\">\n",
       "      <th></th>\n",
       "      <th>MDVP:Fo(Hz)</th>\n",
       "      <th>MDVP:Fhi(Hz)</th>\n",
       "      <th>MDVP:Flo(Hz)</th>\n",
       "      <th>MDVP:Jitter(%)</th>\n",
       "      <th>MDVP:Jitter(Abs)</th>\n",
       "      <th>MDVP:RAP</th>\n",
       "      <th>MDVP:PPQ</th>\n",
       "      <th>Jitter:DDP</th>\n",
       "      <th>MDVP:Shimmer</th>\n",
       "      <th>MDVP:Shimmer(dB)</th>\n",
       "      <th>...</th>\n",
       "      <th>Shimmer:DDA</th>\n",
       "      <th>NHR</th>\n",
       "      <th>HNR</th>\n",
       "      <th>status</th>\n",
       "      <th>RPDE</th>\n",
       "      <th>DFA</th>\n",
       "      <th>spread1</th>\n",
       "      <th>spread2</th>\n",
       "      <th>D2</th>\n",
       "      <th>PPE</th>\n",
       "    </tr>\n",
       "  </thead>\n",
       "  <tbody>\n",
       "    <tr>\n",
       "      <td>MDVP:Fo(Hz)</td>\n",
       "      <td>1.000000</td>\n",
       "      <td>0.880171</td>\n",
       "      <td>0.561371</td>\n",
       "      <td>-0.250583</td>\n",
       "      <td>-0.547372</td>\n",
       "      <td>-0.172840</td>\n",
       "      <td>-0.273418</td>\n",
       "      <td>-0.172984</td>\n",
       "      <td>-0.098374</td>\n",
       "      <td>-0.073742</td>\n",
       "      <td>...</td>\n",
       "      <td>-0.094732</td>\n",
       "      <td>-0.021981</td>\n",
       "      <td>0.059144</td>\n",
       "      <td>-0.383535</td>\n",
       "      <td>-0.383894</td>\n",
       "      <td>-0.446013</td>\n",
       "      <td>-0.413738</td>\n",
       "      <td>-0.249450</td>\n",
       "      <td>0.177980</td>\n",
       "      <td>-0.372356</td>\n",
       "    </tr>\n",
       "    <tr>\n",
       "      <td>MDVP:Fhi(Hz)</td>\n",
       "      <td>0.880171</td>\n",
       "      <td>1.000000</td>\n",
       "      <td>0.387279</td>\n",
       "      <td>-0.147803</td>\n",
       "      <td>-0.410490</td>\n",
       "      <td>-0.087894</td>\n",
       "      <td>-0.146787</td>\n",
       "      <td>-0.087928</td>\n",
       "      <td>-0.036509</td>\n",
       "      <td>-0.014447</td>\n",
       "      <td>...</td>\n",
       "      <td>-0.035837</td>\n",
       "      <td>0.014067</td>\n",
       "      <td>-0.042683</td>\n",
       "      <td>-0.312048</td>\n",
       "      <td>-0.231007</td>\n",
       "      <td>-0.427178</td>\n",
       "      <td>-0.286953</td>\n",
       "      <td>-0.166172</td>\n",
       "      <td>0.224457</td>\n",
       "      <td>-0.244056</td>\n",
       "    </tr>\n",
       "    <tr>\n",
       "      <td>MDVP:Flo(Hz)</td>\n",
       "      <td>0.561371</td>\n",
       "      <td>0.387279</td>\n",
       "      <td>1.000000</td>\n",
       "      <td>-0.323256</td>\n",
       "      <td>-0.431424</td>\n",
       "      <td>-0.269970</td>\n",
       "      <td>-0.300313</td>\n",
       "      <td>-0.270064</td>\n",
       "      <td>-0.126839</td>\n",
       "      <td>-0.100045</td>\n",
       "      <td>...</td>\n",
       "      <td>-0.137664</td>\n",
       "      <td>-0.098493</td>\n",
       "      <td>0.214699</td>\n",
       "      <td>-0.338143</td>\n",
       "      <td>-0.402776</td>\n",
       "      <td>0.009791</td>\n",
       "      <td>-0.372640</td>\n",
       "      <td>-0.207804</td>\n",
       "      <td>-0.089108</td>\n",
       "      <td>-0.317729</td>\n",
       "    </tr>\n",
       "    <tr>\n",
       "      <td>MDVP:Jitter(%)</td>\n",
       "      <td>-0.250583</td>\n",
       "      <td>-0.147803</td>\n",
       "      <td>-0.323256</td>\n",
       "      <td>1.000000</td>\n",
       "      <td>0.764780</td>\n",
       "      <td>0.974066</td>\n",
       "      <td>0.972213</td>\n",
       "      <td>0.974055</td>\n",
       "      <td>0.680992</td>\n",
       "      <td>0.697224</td>\n",
       "      <td>...</td>\n",
       "      <td>0.660841</td>\n",
       "      <td>0.635809</td>\n",
       "      <td>-0.725859</td>\n",
       "      <td>0.374562</td>\n",
       "      <td>0.425158</td>\n",
       "      <td>0.217313</td>\n",
       "      <td>0.758064</td>\n",
       "      <td>0.423388</td>\n",
       "      <td>0.412113</td>\n",
       "      <td>0.769584</td>\n",
       "    </tr>\n",
       "    <tr>\n",
       "      <td>MDVP:Jitter(Abs)</td>\n",
       "      <td>-0.547372</td>\n",
       "      <td>-0.410490</td>\n",
       "      <td>-0.431424</td>\n",
       "      <td>0.764780</td>\n",
       "      <td>1.000000</td>\n",
       "      <td>0.709219</td>\n",
       "      <td>0.774249</td>\n",
       "      <td>0.709354</td>\n",
       "      <td>0.427913</td>\n",
       "      <td>0.430953</td>\n",
       "      <td>...</td>\n",
       "      <td>0.402661</td>\n",
       "      <td>0.225299</td>\n",
       "      <td>-0.456776</td>\n",
       "      <td>0.395158</td>\n",
       "      <td>0.420964</td>\n",
       "      <td>0.408744</td>\n",
       "      <td>0.660562</td>\n",
       "      <td>0.407151</td>\n",
       "      <td>0.179888</td>\n",
       "      <td>0.659667</td>\n",
       "    </tr>\n",
       "    <tr>\n",
       "      <td>MDVP:RAP</td>\n",
       "      <td>-0.172840</td>\n",
       "      <td>-0.087894</td>\n",
       "      <td>-0.269970</td>\n",
       "      <td>0.974066</td>\n",
       "      <td>0.709219</td>\n",
       "      <td>1.000000</td>\n",
       "      <td>0.949262</td>\n",
       "      <td>0.999999</td>\n",
       "      <td>0.673089</td>\n",
       "      <td>0.686222</td>\n",
       "      <td>...</td>\n",
       "      <td>0.661612</td>\n",
       "      <td>0.633377</td>\n",
       "      <td>-0.733481</td>\n",
       "      <td>0.361767</td>\n",
       "      <td>0.391964</td>\n",
       "      <td>0.182443</td>\n",
       "      <td>0.694319</td>\n",
       "      <td>0.326097</td>\n",
       "      <td>0.413525</td>\n",
       "      <td>0.700520</td>\n",
       "    </tr>\n",
       "    <tr>\n",
       "      <td>MDVP:PPQ</td>\n",
       "      <td>-0.273418</td>\n",
       "      <td>-0.146787</td>\n",
       "      <td>-0.300313</td>\n",
       "      <td>0.972213</td>\n",
       "      <td>0.774249</td>\n",
       "      <td>0.949262</td>\n",
       "      <td>1.000000</td>\n",
       "      <td>0.949279</td>\n",
       "      <td>0.688001</td>\n",
       "      <td>0.699980</td>\n",
       "      <td>...</td>\n",
       "      <td>0.667111</td>\n",
       "      <td>0.596246</td>\n",
       "      <td>-0.738289</td>\n",
       "      <td>0.386393</td>\n",
       "      <td>0.430089</td>\n",
       "      <td>0.300069</td>\n",
       "      <td>0.774455</td>\n",
       "      <td>0.415703</td>\n",
       "      <td>0.374005</td>\n",
       "      <td>0.802770</td>\n",
       "    </tr>\n",
       "    <tr>\n",
       "      <td>Jitter:DDP</td>\n",
       "      <td>-0.172984</td>\n",
       "      <td>-0.087928</td>\n",
       "      <td>-0.270064</td>\n",
       "      <td>0.974055</td>\n",
       "      <td>0.709354</td>\n",
       "      <td>0.999999</td>\n",
       "      <td>0.949279</td>\n",
       "      <td>1.000000</td>\n",
       "      <td>0.673003</td>\n",
       "      <td>0.686114</td>\n",
       "      <td>...</td>\n",
       "      <td>0.661542</td>\n",
       "      <td>0.633190</td>\n",
       "      <td>-0.733476</td>\n",
       "      <td>0.361899</td>\n",
       "      <td>0.391978</td>\n",
       "      <td>0.182481</td>\n",
       "      <td>0.694455</td>\n",
       "      <td>0.326094</td>\n",
       "      <td>0.413472</td>\n",
       "      <td>0.700634</td>\n",
       "    </tr>\n",
       "    <tr>\n",
       "      <td>MDVP:Shimmer</td>\n",
       "      <td>-0.098374</td>\n",
       "      <td>-0.036509</td>\n",
       "      <td>-0.126839</td>\n",
       "      <td>0.680992</td>\n",
       "      <td>0.427913</td>\n",
       "      <td>0.673089</td>\n",
       "      <td>0.688001</td>\n",
       "      <td>0.673003</td>\n",
       "      <td>1.000000</td>\n",
       "      <td>0.987258</td>\n",
       "      <td>...</td>\n",
       "      <td>0.987626</td>\n",
       "      <td>0.722194</td>\n",
       "      <td>-0.835271</td>\n",
       "      <td>0.367430</td>\n",
       "      <td>0.447424</td>\n",
       "      <td>0.159954</td>\n",
       "      <td>0.654734</td>\n",
       "      <td>0.452025</td>\n",
       "      <td>0.507088</td>\n",
       "      <td>0.693771</td>\n",
       "    </tr>\n",
       "    <tr>\n",
       "      <td>MDVP:Shimmer(dB)</td>\n",
       "      <td>-0.073742</td>\n",
       "      <td>-0.014447</td>\n",
       "      <td>-0.100045</td>\n",
       "      <td>0.697224</td>\n",
       "      <td>0.430953</td>\n",
       "      <td>0.686222</td>\n",
       "      <td>0.699980</td>\n",
       "      <td>0.686114</td>\n",
       "      <td>0.987258</td>\n",
       "      <td>1.000000</td>\n",
       "      <td>...</td>\n",
       "      <td>0.963202</td>\n",
       "      <td>0.744477</td>\n",
       "      <td>-0.827805</td>\n",
       "      <td>0.350697</td>\n",
       "      <td>0.410684</td>\n",
       "      <td>0.165157</td>\n",
       "      <td>0.652547</td>\n",
       "      <td>0.454314</td>\n",
       "      <td>0.512233</td>\n",
       "      <td>0.695058</td>\n",
       "    </tr>\n",
       "    <tr>\n",
       "      <td>Shimmer:APQ3</td>\n",
       "      <td>-0.094717</td>\n",
       "      <td>-0.035817</td>\n",
       "      <td>-0.137672</td>\n",
       "      <td>0.660840</td>\n",
       "      <td>0.402657</td>\n",
       "      <td>0.661618</td>\n",
       "      <td>0.667104</td>\n",
       "      <td>0.661547</td>\n",
       "      <td>0.987625</td>\n",
       "      <td>0.963198</td>\n",
       "      <td>...</td>\n",
       "      <td>1.000000</td>\n",
       "      <td>0.716207</td>\n",
       "      <td>-0.827123</td>\n",
       "      <td>0.347617</td>\n",
       "      <td>0.435242</td>\n",
       "      <td>0.151124</td>\n",
       "      <td>0.610967</td>\n",
       "      <td>0.402243</td>\n",
       "      <td>0.467265</td>\n",
       "      <td>0.645377</td>\n",
       "    </tr>\n",
       "    <tr>\n",
       "      <td>Shimmer:APQ5</td>\n",
       "      <td>-0.070682</td>\n",
       "      <td>-0.006673</td>\n",
       "      <td>-0.080627</td>\n",
       "      <td>0.652739</td>\n",
       "      <td>0.421840</td>\n",
       "      <td>0.644152</td>\n",
       "      <td>0.679701</td>\n",
       "      <td>0.644085</td>\n",
       "      <td>0.982835</td>\n",
       "      <td>0.973751</td>\n",
       "      <td>...</td>\n",
       "      <td>0.960072</td>\n",
       "      <td>0.658080</td>\n",
       "      <td>-0.813753</td>\n",
       "      <td>0.351148</td>\n",
       "      <td>0.399903</td>\n",
       "      <td>0.213873</td>\n",
       "      <td>0.646809</td>\n",
       "      <td>0.457195</td>\n",
       "      <td>0.502174</td>\n",
       "      <td>0.702456</td>\n",
       "    </tr>\n",
       "    <tr>\n",
       "      <td>MDVP:APQ</td>\n",
       "      <td>-0.077774</td>\n",
       "      <td>-0.012380</td>\n",
       "      <td>-0.082583</td>\n",
       "      <td>0.644642</td>\n",
       "      <td>0.407897</td>\n",
       "      <td>0.625852</td>\n",
       "      <td>0.646506</td>\n",
       "      <td>0.625766</td>\n",
       "      <td>0.950083</td>\n",
       "      <td>0.960977</td>\n",
       "      <td>...</td>\n",
       "      <td>0.896647</td>\n",
       "      <td>0.694019</td>\n",
       "      <td>-0.800407</td>\n",
       "      <td>0.364316</td>\n",
       "      <td>0.451379</td>\n",
       "      <td>0.157276</td>\n",
       "      <td>0.673158</td>\n",
       "      <td>0.502188</td>\n",
       "      <td>0.536869</td>\n",
       "      <td>0.721694</td>\n",
       "    </tr>\n",
       "    <tr>\n",
       "      <td>Shimmer:DDA</td>\n",
       "      <td>-0.094732</td>\n",
       "      <td>-0.035837</td>\n",
       "      <td>-0.137664</td>\n",
       "      <td>0.660841</td>\n",
       "      <td>0.402661</td>\n",
       "      <td>0.661612</td>\n",
       "      <td>0.667111</td>\n",
       "      <td>0.661542</td>\n",
       "      <td>0.987626</td>\n",
       "      <td>0.963202</td>\n",
       "      <td>...</td>\n",
       "      <td>1.000000</td>\n",
       "      <td>0.716215</td>\n",
       "      <td>-0.827130</td>\n",
       "      <td>0.347608</td>\n",
       "      <td>0.435237</td>\n",
       "      <td>0.151132</td>\n",
       "      <td>0.610971</td>\n",
       "      <td>0.402223</td>\n",
       "      <td>0.467261</td>\n",
       "      <td>0.645389</td>\n",
       "    </tr>\n",
       "    <tr>\n",
       "      <td>NHR</td>\n",
       "      <td>-0.021981</td>\n",
       "      <td>0.014067</td>\n",
       "      <td>-0.098493</td>\n",
       "      <td>0.635809</td>\n",
       "      <td>0.225299</td>\n",
       "      <td>0.633377</td>\n",
       "      <td>0.596246</td>\n",
       "      <td>0.633190</td>\n",
       "      <td>0.722194</td>\n",
       "      <td>0.744477</td>\n",
       "      <td>...</td>\n",
       "      <td>0.716215</td>\n",
       "      <td>1.000000</td>\n",
       "      <td>-0.714072</td>\n",
       "      <td>0.189429</td>\n",
       "      <td>0.370890</td>\n",
       "      <td>-0.131882</td>\n",
       "      <td>0.540865</td>\n",
       "      <td>0.318099</td>\n",
       "      <td>0.470949</td>\n",
       "      <td>0.552591</td>\n",
       "    </tr>\n",
       "    <tr>\n",
       "      <td>HNR</td>\n",
       "      <td>0.059144</td>\n",
       "      <td>-0.042683</td>\n",
       "      <td>0.214699</td>\n",
       "      <td>-0.725859</td>\n",
       "      <td>-0.456776</td>\n",
       "      <td>-0.733481</td>\n",
       "      <td>-0.738289</td>\n",
       "      <td>-0.733476</td>\n",
       "      <td>-0.835271</td>\n",
       "      <td>-0.827805</td>\n",
       "      <td>...</td>\n",
       "      <td>-0.827130</td>\n",
       "      <td>-0.714072</td>\n",
       "      <td>1.000000</td>\n",
       "      <td>-0.361515</td>\n",
       "      <td>-0.598736</td>\n",
       "      <td>-0.008665</td>\n",
       "      <td>-0.673210</td>\n",
       "      <td>-0.431564</td>\n",
       "      <td>-0.601401</td>\n",
       "      <td>-0.692876</td>\n",
       "    </tr>\n",
       "    <tr>\n",
       "      <td>status</td>\n",
       "      <td>-0.383535</td>\n",
       "      <td>-0.312048</td>\n",
       "      <td>-0.338143</td>\n",
       "      <td>0.374562</td>\n",
       "      <td>0.395158</td>\n",
       "      <td>0.361767</td>\n",
       "      <td>0.386393</td>\n",
       "      <td>0.361899</td>\n",
       "      <td>0.367430</td>\n",
       "      <td>0.350697</td>\n",
       "      <td>...</td>\n",
       "      <td>0.347608</td>\n",
       "      <td>0.189429</td>\n",
       "      <td>-0.361515</td>\n",
       "      <td>1.000000</td>\n",
       "      <td>0.308567</td>\n",
       "      <td>0.231739</td>\n",
       "      <td>0.564838</td>\n",
       "      <td>0.454842</td>\n",
       "      <td>0.340232</td>\n",
       "      <td>0.531039</td>\n",
       "    </tr>\n",
       "    <tr>\n",
       "      <td>RPDE</td>\n",
       "      <td>-0.383894</td>\n",
       "      <td>-0.231007</td>\n",
       "      <td>-0.402776</td>\n",
       "      <td>0.425158</td>\n",
       "      <td>0.420964</td>\n",
       "      <td>0.391964</td>\n",
       "      <td>0.430089</td>\n",
       "      <td>0.391978</td>\n",
       "      <td>0.447424</td>\n",
       "      <td>0.410684</td>\n",
       "      <td>...</td>\n",
       "      <td>0.435237</td>\n",
       "      <td>0.370890</td>\n",
       "      <td>-0.598736</td>\n",
       "      <td>0.308567</td>\n",
       "      <td>1.000000</td>\n",
       "      <td>-0.110950</td>\n",
       "      <td>0.591117</td>\n",
       "      <td>0.479905</td>\n",
       "      <td>0.236931</td>\n",
       "      <td>0.545886</td>\n",
       "    </tr>\n",
       "    <tr>\n",
       "      <td>DFA</td>\n",
       "      <td>-0.446013</td>\n",
       "      <td>-0.427178</td>\n",
       "      <td>0.009791</td>\n",
       "      <td>0.217313</td>\n",
       "      <td>0.408744</td>\n",
       "      <td>0.182443</td>\n",
       "      <td>0.300069</td>\n",
       "      <td>0.182481</td>\n",
       "      <td>0.159954</td>\n",
       "      <td>0.165157</td>\n",
       "      <td>...</td>\n",
       "      <td>0.151132</td>\n",
       "      <td>-0.131882</td>\n",
       "      <td>-0.008665</td>\n",
       "      <td>0.231739</td>\n",
       "      <td>-0.110950</td>\n",
       "      <td>1.000000</td>\n",
       "      <td>0.195668</td>\n",
       "      <td>0.166548</td>\n",
       "      <td>-0.165381</td>\n",
       "      <td>0.270445</td>\n",
       "    </tr>\n",
       "    <tr>\n",
       "      <td>spread1</td>\n",
       "      <td>-0.413738</td>\n",
       "      <td>-0.286953</td>\n",
       "      <td>-0.372640</td>\n",
       "      <td>0.758064</td>\n",
       "      <td>0.660562</td>\n",
       "      <td>0.694319</td>\n",
       "      <td>0.774455</td>\n",
       "      <td>0.694455</td>\n",
       "      <td>0.654734</td>\n",
       "      <td>0.652547</td>\n",
       "      <td>...</td>\n",
       "      <td>0.610971</td>\n",
       "      <td>0.540865</td>\n",
       "      <td>-0.673210</td>\n",
       "      <td>0.564838</td>\n",
       "      <td>0.591117</td>\n",
       "      <td>0.195668</td>\n",
       "      <td>1.000000</td>\n",
       "      <td>0.652358</td>\n",
       "      <td>0.495123</td>\n",
       "      <td>0.962435</td>\n",
       "    </tr>\n",
       "    <tr>\n",
       "      <td>spread2</td>\n",
       "      <td>-0.249450</td>\n",
       "      <td>-0.166172</td>\n",
       "      <td>-0.207804</td>\n",
       "      <td>0.423388</td>\n",
       "      <td>0.407151</td>\n",
       "      <td>0.326097</td>\n",
       "      <td>0.415703</td>\n",
       "      <td>0.326094</td>\n",
       "      <td>0.452025</td>\n",
       "      <td>0.454314</td>\n",
       "      <td>...</td>\n",
       "      <td>0.402223</td>\n",
       "      <td>0.318099</td>\n",
       "      <td>-0.431564</td>\n",
       "      <td>0.454842</td>\n",
       "      <td>0.479905</td>\n",
       "      <td>0.166548</td>\n",
       "      <td>0.652358</td>\n",
       "      <td>1.000000</td>\n",
       "      <td>0.523532</td>\n",
       "      <td>0.644711</td>\n",
       "    </tr>\n",
       "    <tr>\n",
       "      <td>D2</td>\n",
       "      <td>0.177980</td>\n",
       "      <td>0.224457</td>\n",
       "      <td>-0.089108</td>\n",
       "      <td>0.412113</td>\n",
       "      <td>0.179888</td>\n",
       "      <td>0.413525</td>\n",
       "      <td>0.374005</td>\n",
       "      <td>0.413472</td>\n",
       "      <td>0.507088</td>\n",
       "      <td>0.512233</td>\n",
       "      <td>...</td>\n",
       "      <td>0.467261</td>\n",
       "      <td>0.470949</td>\n",
       "      <td>-0.601401</td>\n",
       "      <td>0.340232</td>\n",
       "      <td>0.236931</td>\n",
       "      <td>-0.165381</td>\n",
       "      <td>0.495123</td>\n",
       "      <td>0.523532</td>\n",
       "      <td>1.000000</td>\n",
       "      <td>0.480585</td>\n",
       "    </tr>\n",
       "    <tr>\n",
       "      <td>PPE</td>\n",
       "      <td>-0.372356</td>\n",
       "      <td>-0.244056</td>\n",
       "      <td>-0.317729</td>\n",
       "      <td>0.769584</td>\n",
       "      <td>0.659667</td>\n",
       "      <td>0.700520</td>\n",
       "      <td>0.802770</td>\n",
       "      <td>0.700634</td>\n",
       "      <td>0.693771</td>\n",
       "      <td>0.695058</td>\n",
       "      <td>...</td>\n",
       "      <td>0.645389</td>\n",
       "      <td>0.552591</td>\n",
       "      <td>-0.692876</td>\n",
       "      <td>0.531039</td>\n",
       "      <td>0.545886</td>\n",
       "      <td>0.270445</td>\n",
       "      <td>0.962435</td>\n",
       "      <td>0.644711</td>\n",
       "      <td>0.480585</td>\n",
       "      <td>1.000000</td>\n",
       "    </tr>\n",
       "  </tbody>\n",
       "</table>\n",
       "<p>23 rows × 23 columns</p>\n",
       "</div>"
      ],
      "text/plain": [
       "                  MDVP:Fo(Hz)  MDVP:Fhi(Hz)  MDVP:Flo(Hz)  MDVP:Jitter(%)  \\\n",
       "MDVP:Fo(Hz)          1.000000      0.880171      0.561371       -0.250583   \n",
       "MDVP:Fhi(Hz)         0.880171      1.000000      0.387279       -0.147803   \n",
       "MDVP:Flo(Hz)         0.561371      0.387279      1.000000       -0.323256   \n",
       "MDVP:Jitter(%)      -0.250583     -0.147803     -0.323256        1.000000   \n",
       "MDVP:Jitter(Abs)    -0.547372     -0.410490     -0.431424        0.764780   \n",
       "MDVP:RAP            -0.172840     -0.087894     -0.269970        0.974066   \n",
       "MDVP:PPQ            -0.273418     -0.146787     -0.300313        0.972213   \n",
       "Jitter:DDP          -0.172984     -0.087928     -0.270064        0.974055   \n",
       "MDVP:Shimmer        -0.098374     -0.036509     -0.126839        0.680992   \n",
       "MDVP:Shimmer(dB)    -0.073742     -0.014447     -0.100045        0.697224   \n",
       "Shimmer:APQ3        -0.094717     -0.035817     -0.137672        0.660840   \n",
       "Shimmer:APQ5        -0.070682     -0.006673     -0.080627        0.652739   \n",
       "MDVP:APQ            -0.077774     -0.012380     -0.082583        0.644642   \n",
       "Shimmer:DDA         -0.094732     -0.035837     -0.137664        0.660841   \n",
       "NHR                 -0.021981      0.014067     -0.098493        0.635809   \n",
       "HNR                  0.059144     -0.042683      0.214699       -0.725859   \n",
       "status              -0.383535     -0.312048     -0.338143        0.374562   \n",
       "RPDE                -0.383894     -0.231007     -0.402776        0.425158   \n",
       "DFA                 -0.446013     -0.427178      0.009791        0.217313   \n",
       "spread1             -0.413738     -0.286953     -0.372640        0.758064   \n",
       "spread2             -0.249450     -0.166172     -0.207804        0.423388   \n",
       "D2                   0.177980      0.224457     -0.089108        0.412113   \n",
       "PPE                 -0.372356     -0.244056     -0.317729        0.769584   \n",
       "\n",
       "                  MDVP:Jitter(Abs)  MDVP:RAP  MDVP:PPQ  Jitter:DDP  \\\n",
       "MDVP:Fo(Hz)              -0.547372 -0.172840 -0.273418   -0.172984   \n",
       "MDVP:Fhi(Hz)             -0.410490 -0.087894 -0.146787   -0.087928   \n",
       "MDVP:Flo(Hz)             -0.431424 -0.269970 -0.300313   -0.270064   \n",
       "MDVP:Jitter(%)            0.764780  0.974066  0.972213    0.974055   \n",
       "MDVP:Jitter(Abs)          1.000000  0.709219  0.774249    0.709354   \n",
       "MDVP:RAP                  0.709219  1.000000  0.949262    0.999999   \n",
       "MDVP:PPQ                  0.774249  0.949262  1.000000    0.949279   \n",
       "Jitter:DDP                0.709354  0.999999  0.949279    1.000000   \n",
       "MDVP:Shimmer              0.427913  0.673089  0.688001    0.673003   \n",
       "MDVP:Shimmer(dB)          0.430953  0.686222  0.699980    0.686114   \n",
       "Shimmer:APQ3              0.402657  0.661618  0.667104    0.661547   \n",
       "Shimmer:APQ5              0.421840  0.644152  0.679701    0.644085   \n",
       "MDVP:APQ                  0.407897  0.625852  0.646506    0.625766   \n",
       "Shimmer:DDA               0.402661  0.661612  0.667111    0.661542   \n",
       "NHR                       0.225299  0.633377  0.596246    0.633190   \n",
       "HNR                      -0.456776 -0.733481 -0.738289   -0.733476   \n",
       "status                    0.395158  0.361767  0.386393    0.361899   \n",
       "RPDE                      0.420964  0.391964  0.430089    0.391978   \n",
       "DFA                       0.408744  0.182443  0.300069    0.182481   \n",
       "spread1                   0.660562  0.694319  0.774455    0.694455   \n",
       "spread2                   0.407151  0.326097  0.415703    0.326094   \n",
       "D2                        0.179888  0.413525  0.374005    0.413472   \n",
       "PPE                       0.659667  0.700520  0.802770    0.700634   \n",
       "\n",
       "                  MDVP:Shimmer  MDVP:Shimmer(dB)  ...  Shimmer:DDA       NHR  \\\n",
       "MDVP:Fo(Hz)          -0.098374         -0.073742  ...    -0.094732 -0.021981   \n",
       "MDVP:Fhi(Hz)         -0.036509         -0.014447  ...    -0.035837  0.014067   \n",
       "MDVP:Flo(Hz)         -0.126839         -0.100045  ...    -0.137664 -0.098493   \n",
       "MDVP:Jitter(%)        0.680992          0.697224  ...     0.660841  0.635809   \n",
       "MDVP:Jitter(Abs)      0.427913          0.430953  ...     0.402661  0.225299   \n",
       "MDVP:RAP              0.673089          0.686222  ...     0.661612  0.633377   \n",
       "MDVP:PPQ              0.688001          0.699980  ...     0.667111  0.596246   \n",
       "Jitter:DDP            0.673003          0.686114  ...     0.661542  0.633190   \n",
       "MDVP:Shimmer          1.000000          0.987258  ...     0.987626  0.722194   \n",
       "MDVP:Shimmer(dB)      0.987258          1.000000  ...     0.963202  0.744477   \n",
       "Shimmer:APQ3          0.987625          0.963198  ...     1.000000  0.716207   \n",
       "Shimmer:APQ5          0.982835          0.973751  ...     0.960072  0.658080   \n",
       "MDVP:APQ              0.950083          0.960977  ...     0.896647  0.694019   \n",
       "Shimmer:DDA           0.987626          0.963202  ...     1.000000  0.716215   \n",
       "NHR                   0.722194          0.744477  ...     0.716215  1.000000   \n",
       "HNR                  -0.835271         -0.827805  ...    -0.827130 -0.714072   \n",
       "status                0.367430          0.350697  ...     0.347608  0.189429   \n",
       "RPDE                  0.447424          0.410684  ...     0.435237  0.370890   \n",
       "DFA                   0.159954          0.165157  ...     0.151132 -0.131882   \n",
       "spread1               0.654734          0.652547  ...     0.610971  0.540865   \n",
       "spread2               0.452025          0.454314  ...     0.402223  0.318099   \n",
       "D2                    0.507088          0.512233  ...     0.467261  0.470949   \n",
       "PPE                   0.693771          0.695058  ...     0.645389  0.552591   \n",
       "\n",
       "                       HNR    status      RPDE       DFA   spread1   spread2  \\\n",
       "MDVP:Fo(Hz)       0.059144 -0.383535 -0.383894 -0.446013 -0.413738 -0.249450   \n",
       "MDVP:Fhi(Hz)     -0.042683 -0.312048 -0.231007 -0.427178 -0.286953 -0.166172   \n",
       "MDVP:Flo(Hz)      0.214699 -0.338143 -0.402776  0.009791 -0.372640 -0.207804   \n",
       "MDVP:Jitter(%)   -0.725859  0.374562  0.425158  0.217313  0.758064  0.423388   \n",
       "MDVP:Jitter(Abs) -0.456776  0.395158  0.420964  0.408744  0.660562  0.407151   \n",
       "MDVP:RAP         -0.733481  0.361767  0.391964  0.182443  0.694319  0.326097   \n",
       "MDVP:PPQ         -0.738289  0.386393  0.430089  0.300069  0.774455  0.415703   \n",
       "Jitter:DDP       -0.733476  0.361899  0.391978  0.182481  0.694455  0.326094   \n",
       "MDVP:Shimmer     -0.835271  0.367430  0.447424  0.159954  0.654734  0.452025   \n",
       "MDVP:Shimmer(dB) -0.827805  0.350697  0.410684  0.165157  0.652547  0.454314   \n",
       "Shimmer:APQ3     -0.827123  0.347617  0.435242  0.151124  0.610967  0.402243   \n",
       "Shimmer:APQ5     -0.813753  0.351148  0.399903  0.213873  0.646809  0.457195   \n",
       "MDVP:APQ         -0.800407  0.364316  0.451379  0.157276  0.673158  0.502188   \n",
       "Shimmer:DDA      -0.827130  0.347608  0.435237  0.151132  0.610971  0.402223   \n",
       "NHR              -0.714072  0.189429  0.370890 -0.131882  0.540865  0.318099   \n",
       "HNR               1.000000 -0.361515 -0.598736 -0.008665 -0.673210 -0.431564   \n",
       "status           -0.361515  1.000000  0.308567  0.231739  0.564838  0.454842   \n",
       "RPDE             -0.598736  0.308567  1.000000 -0.110950  0.591117  0.479905   \n",
       "DFA              -0.008665  0.231739 -0.110950  1.000000  0.195668  0.166548   \n",
       "spread1          -0.673210  0.564838  0.591117  0.195668  1.000000  0.652358   \n",
       "spread2          -0.431564  0.454842  0.479905  0.166548  0.652358  1.000000   \n",
       "D2               -0.601401  0.340232  0.236931 -0.165381  0.495123  0.523532   \n",
       "PPE              -0.692876  0.531039  0.545886  0.270445  0.962435  0.644711   \n",
       "\n",
       "                        D2       PPE  \n",
       "MDVP:Fo(Hz)       0.177980 -0.372356  \n",
       "MDVP:Fhi(Hz)      0.224457 -0.244056  \n",
       "MDVP:Flo(Hz)     -0.089108 -0.317729  \n",
       "MDVP:Jitter(%)    0.412113  0.769584  \n",
       "MDVP:Jitter(Abs)  0.179888  0.659667  \n",
       "MDVP:RAP          0.413525  0.700520  \n",
       "MDVP:PPQ          0.374005  0.802770  \n",
       "Jitter:DDP        0.413472  0.700634  \n",
       "MDVP:Shimmer      0.507088  0.693771  \n",
       "MDVP:Shimmer(dB)  0.512233  0.695058  \n",
       "Shimmer:APQ3      0.467265  0.645377  \n",
       "Shimmer:APQ5      0.502174  0.702456  \n",
       "MDVP:APQ          0.536869  0.721694  \n",
       "Shimmer:DDA       0.467261  0.645389  \n",
       "NHR               0.470949  0.552591  \n",
       "HNR              -0.601401 -0.692876  \n",
       "status            0.340232  0.531039  \n",
       "RPDE              0.236931  0.545886  \n",
       "DFA              -0.165381  0.270445  \n",
       "spread1           0.495123  0.962435  \n",
       "spread2           0.523532  0.644711  \n",
       "D2                1.000000  0.480585  \n",
       "PPE               0.480585  1.000000  \n",
       "\n",
       "[23 rows x 23 columns]"
      ]
     },
     "execution_count": 67,
     "metadata": {},
     "output_type": "execute_result"
    }
   ],
   "source": [
    "PSON.corr()"
   ]
  },
  {
   "cell_type": "markdown",
   "metadata": {},
   "source": [
    "Since there are more than 19 pairs with very high correlation within themselves,it is suffice to remove in any normal case but here with business point of view ,it is not feasible as domain specific parameters will altered."
   ]
  },
  {
   "cell_type": "markdown",
   "metadata": {},
   "source": [
    "## After outlier Treatment"
   ]
  },
  {
   "cell_type": "code",
   "execution_count": 68,
   "metadata": {},
   "outputs": [
    {
     "data": {
      "text/plain": [
       "MDVP:Fo(Hz)         -0.627898\n",
       "MDVP:Fhi(Hz)        -1.041284\n",
       "MDVP:Flo(Hz)        -0.338062\n",
       "MDVP:Jitter(%)      -0.457994\n",
       "MDVP:Jitter(Abs)     0.008361\n",
       "MDVP:RAP            -0.506298\n",
       "MDVP:PPQ            -0.694163\n",
       "Jitter:DDP          -0.508295\n",
       "MDVP:Shimmer         3.238308\n",
       "MDVP:Shimmer(dB)     5.128193\n",
       "Shimmer:APQ3         2.720152\n",
       "Shimmer:APQ5         3.874210\n",
       "MDVP:APQ            11.163288\n",
       "Shimmer:DDA          2.720661\n",
       "NHR                 21.994974\n",
       "HNR                  0.616036\n",
       "status              -0.595518\n",
       "RPDE                -0.921781\n",
       "DFA                 -0.686152\n",
       "spread1             -0.050199\n",
       "spread2             -0.083023\n",
       "D2                   0.220334\n",
       "PPE                  0.528335\n",
       "dtype: float64"
      ]
     },
     "execution_count": 68,
     "metadata": {},
     "output_type": "execute_result"
    }
   ],
   "source": [
    "PSON.kurtosis(numeric_only  = True)"
   ]
  },
  {
   "cell_type": "code",
   "execution_count": 69,
   "metadata": {},
   "outputs": [
    {
     "data": {
      "text/plain": [
       "MDVP:Fo(Hz)         0.591737\n",
       "MDVP:Fhi(Hz)        0.346540\n",
       "MDVP:Flo(Hz)        0.910501\n",
       "MDVP:Jitter(%)      0.713532\n",
       "MDVP:Jitter(Abs)    0.730093\n",
       "MDVP:RAP            0.737077\n",
       "MDVP:PPQ            0.640614\n",
       "Jitter:DDP          0.736060\n",
       "MDVP:Shimmer        1.666480\n",
       "MDVP:Shimmer(dB)    1.999389\n",
       "Shimmer:APQ3        1.580576\n",
       "Shimmer:APQ5        1.798697\n",
       "MDVP:APQ            2.618047\n",
       "Shimmer:DDA         1.580618\n",
       "NHR                 4.220709\n",
       "HNR                -0.514317\n",
       "status             -1.187727\n",
       "RPDE               -0.143402\n",
       "DFA                -0.033214\n",
       "spread1             0.432139\n",
       "spread2             0.144430\n",
       "D2                  0.430384\n",
       "PPE                 0.797491\n",
       "dtype: float64"
      ]
     },
     "execution_count": 69,
     "metadata": {},
     "output_type": "execute_result"
    }
   ],
   "source": [
    "PSON.skew(numeric_only  = True)"
   ]
  },
  {
   "cell_type": "markdown",
   "metadata": {},
   "source": [
    "### Splitting the dataset into training and test set in the ratio of 70:30 (Training:Test)."
   ]
  },
  {
   "cell_type": "code",
   "execution_count": 70,
   "metadata": {},
   "outputs": [],
   "source": [
    "X = PSON[['MDVP:Fo(Hz)','MDVP:Fhi(Hz)','MDVP:Flo(Hz)','MDVP:Jitter(%)','MDVP:Jitter(Abs)','MDVP:RAP','MDVP:PPQ','Jitter:DDP','MDVP:Shimmer','MDVP:Shimmer(dB)','Shimmer:APQ3','Shimmer:APQ5','MDVP:APQ','Shimmer:DDA','NHR','HNR','RPDE','DFA','spread1','spread2','D2','PPE']]\n",
    "\n",
    "Y = PSON[\"status\"]"
   ]
  },
  {
   "cell_type": "code",
   "execution_count": 71,
   "metadata": {},
   "outputs": [],
   "source": [
    "from sklearn.model_selection import train_test_split"
   ]
  },
  {
   "cell_type": "code",
   "execution_count": 72,
   "metadata": {},
   "outputs": [
    {
     "name": "stdout",
     "output_type": "stream",
     "text": [
      "shape of train and validation or test set after split:\n",
      "(195, 23)\n",
      "Xtrain= (156, 22) Xtest = (39, 22) Ytrain= (156,) Ytest= (39,)\n"
     ]
    }
   ],
   "source": [
    "X_train,X_test,Y_train,Y_test = train_test_split(X,Y,test_size = 0.2,random_state=0)\n",
    "print('shape of train and validation or test set after split:')\n",
    "print(PSON.shape)\n",
    "print('Xtrain=',X_train.shape,'Xtest =',X_test.shape,'Ytrain=',Y_train.shape,'Ytest=',Y_test.shape)"
   ]
  },
  {
   "cell_type": "markdown",
   "metadata": {},
   "source": [
    "# Scaling"
   ]
  },
  {
   "cell_type": "code",
   "execution_count": 73,
   "metadata": {},
   "outputs": [],
   "source": [
    "from sklearn.preprocessing import StandardScaler\n",
    "sc=StandardScaler()"
   ]
  },
  {
   "cell_type": "code",
   "execution_count": 74,
   "metadata": {},
   "outputs": [],
   "source": [
    "sc.fit(X_train)\n",
    "scaledX_train = sc.transform(X_train)\n",
    "scaledX_test = sc.transform(X_test)"
   ]
  },
  {
   "cell_type": "markdown",
   "metadata": {},
   "source": [
    " # Feature engineering (selection)"
   ]
  },
  {
   "cell_type": "code",
   "execution_count": 75,
   "metadata": {},
   "outputs": [],
   "source": [
    "from sklearn.ensemble import ExtraTreesClassifier"
   ]
  },
  {
   "cell_type": "code",
   "execution_count": 76,
   "metadata": {},
   "outputs": [],
   "source": [
    "etc = ExtraTreesClassifier(n_estimators=300)"
   ]
  },
  {
   "cell_type": "code",
   "execution_count": 77,
   "metadata": {},
   "outputs": [
    {
     "data": {
      "text/plain": [
       "ExtraTreesClassifier(bootstrap=False, class_weight=None, criterion='gini',\n",
       "                     max_depth=None, max_features='auto', max_leaf_nodes=None,\n",
       "                     min_impurity_decrease=0.0, min_impurity_split=None,\n",
       "                     min_samples_leaf=1, min_samples_split=2,\n",
       "                     min_weight_fraction_leaf=0.0, n_estimators=300,\n",
       "                     n_jobs=None, oob_score=False, random_state=None, verbose=0,\n",
       "                     warm_start=False)"
      ]
     },
     "execution_count": 77,
     "metadata": {},
     "output_type": "execute_result"
    }
   ],
   "source": [
    "etc.fit(scaledX_train, Y_train)"
   ]
  },
  {
   "cell_type": "code",
   "execution_count": 78,
   "metadata": {},
   "outputs": [
    {
     "name": "stdout",
     "output_type": "stream",
     "text": [
      "[0.09164839 0.0637469  0.05928153 0.02631614 0.0522184  0.03552798\n",
      " 0.03442007 0.03656139 0.02971475 0.03238285 0.02964037 0.03110971\n",
      " 0.03653676 0.03296691 0.02984644 0.03126705 0.04256566 0.04125748\n",
      " 0.08142302 0.06230242 0.04854185 0.07072393]\n"
     ]
    }
   ],
   "source": [
    "print(etc.feature_importances_)\n",
    "indices = np.argsort(etc.feature_importances_)[::-1]"
   ]
  },
  {
   "cell_type": "code",
   "execution_count": 79,
   "metadata": {},
   "outputs": [
    {
     "data": {
      "image/png": "[encoded data removed]",
      "text/plain": [
       "<Figure size 1120x800 with 1 Axes>"
      ]
     },
     "metadata": {},
     "output_type": "display_data"
    }
   ],
   "source": [
    "plt.figure(num=None, figsize=(14, 10), dpi=80, facecolor='w')\n",
    "plt.title(\"Feature importances\")\n",
    "plt.bar(range(X.shape[1]), etc.feature_importances_[indices],\n",
    "       color=\"r\", align=\"center\")\n",
    "plt.xticks(range(X.shape[1]), indices)\n",
    "plt.show()"
   ]
  },
  {
   "cell_type": "markdown",
   "metadata": {},
   "source": [
    "# Prediction\n",
    " ### Simple algorithms"
   ]
  },
  {
   "cell_type": "code",
   "execution_count": 80,
   "metadata": {},
   "outputs": [],
   "source": [
    "from sklearn.metrics import accuracy_score\n",
    "from sklearn.model_selection import GridSearchCV \n",
    "from sklearn.model_selection import cross_val_score"
   ]
  },
  {
   "cell_type": "markdown",
   "metadata": {},
   "source": [
    "### KNN"
   ]
  },
  {
   "cell_type": "code",
   "execution_count": 81,
   "metadata": {},
   "outputs": [],
   "source": [
    "from sklearn.neighbors import KNeighborsClassifier"
   ]
  },
  {
   "cell_type": "code",
   "execution_count": 82,
   "metadata": {},
   "outputs": [
    {
     "data": {
      "text/plain": [
       "KNeighborsClassifier(algorithm='auto', leaf_size=30, metric='minkowski',\n",
       "                     metric_params=None, n_jobs=None, n_neighbors=5, p=2,\n",
       "                     weights='uniform')"
      ]
     },
     "execution_count": 82,
     "metadata": {},
     "output_type": "execute_result"
    }
   ],
   "source": [
    "knn = KNeighborsClassifier()\n",
    "knn.fit(scaledX_train, Y_train)"
   ]
  },
  {
   "cell_type": "code",
   "execution_count": 83,
   "metadata": {},
   "outputs": [
    {
     "name": "stdout",
     "output_type": "stream",
     "text": [
      "KNN with k=5 got 94.87179487179486% accuracy on the test set.\n"
     ]
    }
   ],
   "source": [
    "print(\"KNN with k=5 got {}% accuracy on the test set.\".format(accuracy_score(Y_test, knn.predict(scaledX_test))*100))"
   ]
  },
  {
   "cell_type": "markdown",
   "metadata": {},
   "source": [
    "### KNN Grid search"
   ]
  },
  {
   "cell_type": "code",
   "execution_count": 84,
   "metadata": {},
   "outputs": [],
   "source": [
    "params_dict = {'n_neighbors':[3, 5, 9, 15], 'p':[1, 2, 3], 'algorithm':['auto', 'ball_tree', 'kd_tree', 'brute']}\n",
    "gs = GridSearchCV(knn, param_grid=params_dict, verbose=10, cv=10)"
   ]
  },
  {
   "cell_type": "code",
   "execution_count": 85,
   "metadata": {},
   "outputs": [
    {
     "name": "stdout",
     "output_type": "stream",
     "text": [
      "Fitting 10 folds for each of 48 candidates, totalling 480 fits\n",
      "[CV] algorithm=auto, n_neighbors=3, p=1 ..............................\n",
      "[CV] .. algorithm=auto, n_neighbors=3, p=1, score=1.000, total=   0.0s\n",
      "[CV] algorithm=auto, n_neighbors=3, p=1 ..............................\n",
      "[CV] .. algorithm=auto, n_neighbors=3, p=1, score=0.938, total=   0.0s\n",
      "[CV] algorithm=auto, n_neighbors=3, p=1 ..............................\n",
      "[CV] .. algorithm=auto, n_neighbors=3, p=1, score=0.938, total=   0.0s\n",
      "[CV] algorithm=auto, n_neighbors=3, p=1 ..............................\n",
      "[CV] .. algorithm=auto, n_neighbors=3, p=1, score=0.938, total=   0.0s\n",
      "[CV] algorithm=auto, n_neighbors=3, p=1 ..............................\n",
      "[CV] .. algorithm=auto, n_neighbors=3, p=1, score=1.000, total=   0.0s\n",
      "[CV] algorithm=auto, n_neighbors=3, p=1 ..............................\n",
      "[CV] .. algorithm=auto, n_neighbors=3, p=1, score=0.875, total=   0.0s\n",
      "[CV] algorithm=auto, n_neighbors=3, p=1 ..............................\n",
      "[CV] .. algorithm=auto, n_neighbors=3, p=1, score=1.000, total=   0.0s\n",
      "[CV] algorithm=auto, n_neighbors=3, p=1 ..............................\n",
      "[CV] .. algorithm=auto, n_neighbors=3, p=1, score=0.938, total=   0.0s\n",
      "[CV] algorithm=auto, n_neighbors=3, p=1 ..............................\n",
      "[CV] .. algorithm=auto, n_neighbors=3, p=1, score=0.929, total=   0.0s\n",
      "[CV] algorithm=auto, n_neighbors=3, p=1 ..............................\n",
      "[CV] .. algorithm=auto, n_neighbors=3, p=1, score=1.000, total=   0.0s\n",
      "[CV] algorithm=auto, n_neighbors=3, p=2 ..............................\n",
      "[CV] .. algorithm=auto, n_neighbors=3, p=2, score=0.938, total=   0.0s\n",
      "[CV] algorithm=auto, n_neighbors=3, p=2 ..............................\n",
      "[CV] .. algorithm=auto, n_neighbors=3, p=2, score=1.000, total=   0.0s\n",
      "[CV] algorithm=auto, n_neighbors=3, p=2 ..............................\n",
      "[CV] .. algorithm=auto, n_neighbors=3, p=2, score=0.938, total=   0.0s\n",
      "[CV] algorithm=auto, n_neighbors=3, p=2 ..............................\n",
      "[CV] .. algorithm=auto, n_neighbors=3, p=2, score=0.938, total=   0.0s\n",
      "[CV] algorithm=auto, n_neighbors=3, p=2 ..............................\n",
      "[CV] .. algorithm=auto, n_neighbors=3, p=2, score=1.000, total=   0.0s\n",
      "[CV] algorithm=auto, n_neighbors=3, p=2 ..............................\n",
      "[CV] .. algorithm=auto, n_neighbors=3, p=2, score=0.812, total=   0.0s\n",
      "[CV] algorithm=auto, n_neighbors=3, p=2 ..............................\n",
      "[CV] .. algorithm=auto, n_neighbors=3, p=2, score=1.000, total=   0.0s\n",
      "[CV] algorithm=auto, n_neighbors=3, p=2 ..............................\n",
      "[CV] .. algorithm=auto, n_neighbors=3, p=2, score=0.875, total=   0.0s\n",
      "[CV] algorithm=auto, n_neighbors=3, p=2 ..............................\n",
      "[CV] .. algorithm=auto, n_neighbors=3, p=2, score=0.786, total=   0.0s\n",
      "[CV] algorithm=auto, n_neighbors=3, p=2 ..............................\n",
      "[CV] .. algorithm=auto, n_neighbors=3, p=2, score=1.000, total=   0.0s\n",
      "[CV] algorithm=auto, n_neighbors=3, p=3 ..............................\n",
      "[CV] .. algorithm=auto, n_neighbors=3, p=3, score=0.875, total=   0.0s\n",
      "[CV] algorithm=auto, n_neighbors=3, p=3 ..............................\n",
      "[CV] .. algorithm=auto, n_neighbors=3, p=3, score=0.938, total=   0.0s\n",
      "[CV] algorithm=auto, n_neighbors=3, p=3 ..............................\n",
      "[CV] .. algorithm=auto, n_neighbors=3, p=3, score=0.938, total=   0.0s\n",
      "[CV] algorithm=auto, n_neighbors=3, p=3 ..............................\n",
      "[CV] .. algorithm=auto, n_neighbors=3, p=3, score=0.938, total=   0.0s\n",
      "[CV] algorithm=auto, n_neighbors=3, p=3 ..............................\n",
      "[CV] .. algorithm=auto, n_neighbors=3, p=3, score=0.875, total=   0.0s\n",
      "[CV] algorithm=auto, n_neighbors=3, p=3 ..............................\n",
      "[CV] .. algorithm=auto, n_neighbors=3, p=3, score=0.875, total=   0.0s\n",
      "[CV] algorithm=auto, n_neighbors=3, p=3 ..............................\n",
      "[CV] .. algorithm=auto, n_neighbors=3, p=3, score=1.000, total=   0.0s"
     ]
    },
    {
     "name": "stderr",
     "output_type": "stream",
     "text": [
      "[Parallel(n_jobs=1)]: Using backend SequentialBackend with 1 concurrent workers.\n",
      "[Parallel(n_jobs=1)]: Done   1 out of   1 | elapsed:    0.0s remaining:    0.0s\n",
      "[Parallel(n_jobs=1)]: Done   2 out of   2 | elapsed:    0.0s remaining:    0.0s\n",
      "[Parallel(n_jobs=1)]: Done   3 out of   3 | elapsed:    0.0s remaining:    0.0s\n",
      "[Parallel(n_jobs=1)]: Done   4 out of   4 | elapsed:    0.0s remaining:    0.0s\n",
      "[Parallel(n_jobs=1)]: Done   5 out of   5 | elapsed:    0.0s remaining:    0.0s\n",
      "[Parallel(n_jobs=1)]: Done   6 out of   6 | elapsed:    0.0s remaining:    0.0s\n",
      "[Parallel(n_jobs=1)]: Done   7 out of   7 | elapsed:    0.0s remaining:    0.0s\n",
      "[Parallel(n_jobs=1)]: Done   8 out of   8 | elapsed:    0.0s remaining:    0.0s\n",
      "[Parallel(n_jobs=1)]: Done   9 out of   9 | elapsed:    0.0s remaining:    0.0s\n"
     ]
    },
    {
     "name": "stdout",
     "output_type": "stream",
     "text": [
      "\n",
      "[CV] algorithm=auto, n_neighbors=3, p=3 ..............................\n",
      "[CV] .. algorithm=auto, n_neighbors=3, p=3, score=0.875, total=   0.0s\n",
      "[CV] algorithm=auto, n_neighbors=3, p=3 ..............................\n",
      "[CV] .. algorithm=auto, n_neighbors=3, p=3, score=0.786, total=   0.0s\n",
      "[CV] algorithm=auto, n_neighbors=3, p=3 ..............................\n",
      "[CV] .. algorithm=auto, n_neighbors=3, p=3, score=1.000, total=   0.0s\n",
      "[CV] algorithm=auto, n_neighbors=5, p=1 ..............................\n",
      "[CV] .. algorithm=auto, n_neighbors=5, p=1, score=1.000, total=   0.0s\n",
      "[CV] algorithm=auto, n_neighbors=5, p=1 ..............................\n",
      "[CV] .. algorithm=auto, n_neighbors=5, p=1, score=1.000, total=   0.0s\n",
      "[CV] algorithm=auto, n_neighbors=5, p=1 ..............................\n",
      "[CV] .. algorithm=auto, n_neighbors=5, p=1, score=0.938, total=   0.0s\n",
      "[CV] algorithm=auto, n_neighbors=5, p=1 ..............................\n",
      "[CV] .. algorithm=auto, n_neighbors=5, p=1, score=0.938, total=   0.0s\n",
      "[CV] algorithm=auto, n_neighbors=5, p=1 ..............................\n",
      "[CV] .. algorithm=auto, n_neighbors=5, p=1, score=1.000, total=   0.0s\n",
      "[CV] algorithm=auto, n_neighbors=5, p=1 ..............................\n",
      "[CV] .. algorithm=auto, n_neighbors=5, p=1, score=0.875, total=   0.0s\n",
      "[CV] algorithm=auto, n_neighbors=5, p=1 ..............................\n",
      "[CV] .. algorithm=auto, n_neighbors=5, p=1, score=1.000, total=   0.0s\n",
      "[CV] algorithm=auto, n_neighbors=5, p=1 ..............................\n",
      "[CV] .. algorithm=auto, n_neighbors=5, p=1, score=0.812, total=   0.0s\n",
      "[CV] algorithm=auto, n_neighbors=5, p=1 ..............................\n",
      "[CV] .. algorithm=auto, n_neighbors=5, p=1, score=0.857, total=   0.0s\n",
      "[CV] algorithm=auto, n_neighbors=5, p=1 ..............................\n",
      "[CV] .. algorithm=auto, n_neighbors=5, p=1, score=0.929, total=   0.0s\n",
      "[CV] algorithm=auto, n_neighbors=5, p=2 ..............................\n",
      "[CV] .. algorithm=auto, n_neighbors=5, p=2, score=0.938, total=   0.0s\n",
      "[CV] algorithm=auto, n_neighbors=5, p=2 ..............................\n",
      "[CV] .. algorithm=auto, n_neighbors=5, p=2, score=1.000, total=   0.0s\n",
      "[CV] algorithm=auto, n_neighbors=5, p=2 ..............................\n",
      "[CV] .. algorithm=auto, n_neighbors=5, p=2, score=0.875, total=   0.0s\n",
      "[CV] algorithm=auto, n_neighbors=5, p=2 ..............................\n",
      "[CV] .. algorithm=auto, n_neighbors=5, p=2, score=0.938, total=   0.0s\n",
      "[CV] algorithm=auto, n_neighbors=5, p=2 ..............................\n",
      "[CV] .. algorithm=auto, n_neighbors=5, p=2, score=0.875, total=   0.0s\n",
      "[CV] algorithm=auto, n_neighbors=5, p=2 ..............................\n",
      "[CV] .. algorithm=auto, n_neighbors=5, p=2, score=0.812, total=   0.0s\n",
      "[CV] algorithm=auto, n_neighbors=5, p=2 ..............................\n",
      "[CV] .. algorithm=auto, n_neighbors=5, p=2, score=1.000, total=   0.0s\n",
      "[CV] algorithm=auto, n_neighbors=5, p=2 ..............................\n",
      "[CV] .. algorithm=auto, n_neighbors=5, p=2, score=0.875, total=   0.0s\n",
      "[CV] algorithm=auto, n_neighbors=5, p=2 ..............................\n",
      "[CV] .. algorithm=auto, n_neighbors=5, p=2, score=0.929, total=   0.0s\n",
      "[CV] algorithm=auto, n_neighbors=5, p=2 ..............................\n",
      "[CV] .. algorithm=auto, n_neighbors=5, p=2, score=0.929, total=   0.0s\n",
      "[CV] algorithm=auto, n_neighbors=5, p=3 ..............................\n",
      "[CV] .. algorithm=auto, n_neighbors=5, p=3, score=0.812, total=   0.0s\n",
      "[CV] algorithm=auto, n_neighbors=5, p=3 ..............................\n",
      "[CV] .. algorithm=auto, n_neighbors=5, p=3, score=1.000, total=   0.0s\n",
      "[CV] algorithm=auto, n_neighbors=5, p=3 ..............................\n",
      "[CV] .. algorithm=auto, n_neighbors=5, p=3, score=0.938, total=   0.0s\n",
      "[CV] algorithm=auto, n_neighbors=5, p=3 ..............................\n",
      "[CV] .. algorithm=auto, n_neighbors=5, p=3, score=0.812, total=   0.0s\n",
      "[CV] algorithm=auto, n_neighbors=5, p=3 ..............................\n",
      "[CV] .. algorithm=auto, n_neighbors=5, p=3, score=0.812, total=   0.0s\n",
      "[CV] algorithm=auto, n_neighbors=5, p=3 ..............................\n",
      "[CV] .. algorithm=auto, n_neighbors=5, p=3, score=0.875, total=   0.0s\n",
      "[CV] algorithm=auto, n_neighbors=5, p=3 ..............................\n",
      "[CV] .. algorithm=auto, n_neighbors=5, p=3, score=1.000, total=   0.0s\n",
      "[CV] algorithm=auto, n_neighbors=5, p=3 ..............................\n",
      "[CV] .. algorithm=auto, n_neighbors=5, p=3, score=0.812, total=   0.0s\n",
      "[CV] algorithm=auto, n_neighbors=5, p=3 ..............................\n",
      "[CV] .. algorithm=auto, n_neighbors=5, p=3, score=0.786, total=   0.0s\n",
      "[CV] algorithm=auto, n_neighbors=5, p=3 ..............................\n",
      "[CV] .. algorithm=auto, n_neighbors=5, p=3, score=1.000, total=   0.0s\n",
      "[CV] algorithm=auto, n_neighbors=9, p=1 ..............................\n",
      "[CV] .. algorithm=auto, n_neighbors=9, p=1, score=0.938, total=   0.0s\n",
      "[CV] algorithm=auto, n_neighbors=9, p=1 ..............................\n",
      "[CV] .. algorithm=auto, n_neighbors=9, p=1, score=0.812, total=   0.0s\n",
      "[CV] algorithm=auto, n_neighbors=9, p=1 ..............................\n",
      "[CV] .. algorithm=auto, n_neighbors=9, p=1, score=0.938, total=   0.0s\n",
      "[CV] algorithm=auto, n_neighbors=9, p=1 ..............................\n",
      "[CV] .. algorithm=auto, n_neighbors=9, p=1, score=0.938, total=   0.0s\n",
      "[CV] algorithm=auto, n_neighbors=9, p=1 ..............................\n",
      "[CV] .. algorithm=auto, n_neighbors=9, p=1, score=0.938, total=   0.0s\n",
      "[CV] algorithm=auto, n_neighbors=9, p=1 ..............................\n",
      "[CV] .. algorithm=auto, n_neighbors=9, p=1, score=0.875, total=   0.0s\n",
      "[CV] algorithm=auto, n_neighbors=9, p=1 ..............................\n",
      "[CV] .. algorithm=auto, n_neighbors=9, p=1, score=1.000, total=   0.0s\n",
      "[CV] algorithm=auto, n_neighbors=9, p=1 ..............................\n",
      "[CV] .. algorithm=auto, n_neighbors=9, p=1, score=0.688, total=   0.0s\n",
      "[CV] algorithm=auto, n_neighbors=9, p=1 ..............................\n",
      "[CV] .. algorithm=auto, n_neighbors=9, p=1, score=0.786, total=   0.0s\n",
      "[CV] algorithm=auto, n_neighbors=9, p=1 ..............................\n",
      "[CV] .. algorithm=auto, n_neighbors=9, p=1, score=0.929, total=   0.0s\n",
      "[CV] algorithm=auto, n_neighbors=9, p=2 ..............................\n",
      "[CV] .. algorithm=auto, n_neighbors=9, p=2, score=0.875, total=   0.0s\n",
      "[CV] algorithm=auto, n_neighbors=9, p=2 ..............................\n",
      "[CV] .. algorithm=auto, n_neighbors=9, p=2, score=0.812, total=   0.0s\n",
      "[CV] algorithm=auto, n_neighbors=9, p=2 ..............................\n",
      "[CV] .. algorithm=auto, n_neighbors=9, p=2, score=0.938, total=   0.0s\n",
      "[CV] algorithm=auto, n_neighbors=9, p=2 ..............................\n",
      "[CV] .. algorithm=auto, n_neighbors=9, p=2, score=0.938, total=   0.0s\n",
      "[CV] algorithm=auto, n_neighbors=9, p=2 ..............................\n",
      "[CV] .. algorithm=auto, n_neighbors=9, p=2, score=0.938, total=   0.0s\n",
      "[CV] algorithm=auto, n_neighbors=9, p=2 ..............................\n",
      "[CV] .. algorithm=auto, n_neighbors=9, p=2, score=0.875, total=   0.0s\n",
      "[CV] algorithm=auto, n_neighbors=9, p=2 ..............................\n",
      "[CV] .. algorithm=auto, n_neighbors=9, p=2, score=1.000, total=   0.0s\n",
      "[CV] algorithm=auto, n_neighbors=9, p=2 ..............................\n",
      "[CV] .. algorithm=auto, n_neighbors=9, p=2, score=0.688, total=   0.0s\n",
      "[CV] algorithm=auto, n_neighbors=9, p=2 ..............................\n",
      "[CV] .. algorithm=auto, n_neighbors=9, p=2, score=0.786, total=   0.0s\n",
      "[CV] algorithm=auto, n_neighbors=9, p=2 ..............................\n",
      "[CV] .. algorithm=auto, n_neighbors=9, p=2, score=1.000, total=   0.0s\n",
      "[CV] algorithm=auto, n_neighbors=9, p=3 ..............................\n",
      "[CV] .. algorithm=auto, n_neighbors=9, p=3, score=0.938, total=   0.0s\n",
      "[CV] algorithm=auto, n_neighbors=9, p=3 ..............................\n",
      "[CV] .. algorithm=auto, n_neighbors=9, p=3, score=0.875, total=   0.0s\n",
      "[CV] algorithm=auto, n_neighbors=9, p=3 ..............................\n",
      "[CV] .. algorithm=auto, n_neighbors=9, p=3, score=0.938, total=   0.0s\n",
      "[CV] algorithm=auto, n_neighbors=9, p=3 ..............................\n",
      "[CV] .. algorithm=auto, n_neighbors=9, p=3, score=0.938, total=   0.0s\n",
      "[CV] algorithm=auto, n_neighbors=9, p=3 ..............................\n",
      "[CV] .. algorithm=auto, n_neighbors=9, p=3, score=0.875, total=   0.0s\n",
      "[CV] algorithm=auto, n_neighbors=9, p=3 ..............................\n",
      "[CV] .. algorithm=auto, n_neighbors=9, p=3, score=0.875, total=   0.0s\n",
      "[CV] algorithm=auto, n_neighbors=9, p=3 ..............................\n",
      "[CV] .. algorithm=auto, n_neighbors=9, p=3, score=1.000, total=   0.0s\n",
      "[CV] algorithm=auto, n_neighbors=9, p=3 ..............................\n",
      "[CV] .. algorithm=auto, n_neighbors=9, p=3, score=0.750, total=   0.0s\n",
      "[CV] algorithm=auto, n_neighbors=9, p=3 ..............................\n",
      "[CV] .. algorithm=auto, n_neighbors=9, p=3, score=0.857, total=   0.0s\n",
      "[CV] algorithm=auto, n_neighbors=9, p=3 ..............................\n",
      "[CV] .. algorithm=auto, n_neighbors=9, p=3, score=0.929, total=   0.0s\n",
      "[CV] algorithm=auto, n_neighbors=15, p=1 .............................\n",
      "[CV] . algorithm=auto, n_neighbors=15, p=1, score=0.875, total=   0.0s\n",
      "[CV] algorithm=auto, n_neighbors=15, p=1 .............................\n",
      "[CV] . algorithm=auto, n_neighbors=15, p=1, score=0.875, total=   0.0s\n",
      "[CV] algorithm=auto, n_neighbors=15, p=1 .............................\n",
      "[CV] . algorithm=auto, n_neighbors=15, p=1, score=0.938, total=   0.0s\n",
      "[CV] algorithm=auto, n_neighbors=15, p=1 .............................\n",
      "[CV] . algorithm=auto, n_neighbors=15, p=1, score=0.938, total=   0.0s\n",
      "[CV] algorithm=auto, n_neighbors=15, p=1 .............................\n",
      "[CV] . algorithm=auto, n_neighbors=15, p=1, score=0.812, total=   0.0s\n",
      "[CV] algorithm=auto, n_neighbors=15, p=1 .............................\n",
      "[CV] . algorithm=auto, n_neighbors=15, p=1, score=0.812, total=   0.0s\n",
      "[CV] algorithm=auto, n_neighbors=15, p=1 .............................\n",
      "[CV] . algorithm=auto, n_neighbors=15, p=1, score=1.000, total=   0.0s\n",
      "[CV] algorithm=auto, n_neighbors=15, p=1 .............................\n"
     ]
    },
    {
     "name": "stdout",
     "output_type": "stream",
     "text": [
      "[CV] . algorithm=auto, n_neighbors=15, p=1, score=0.812, total=   0.0s\n",
      "[CV] algorithm=auto, n_neighbors=15, p=1 .............................\n",
      "[CV] . algorithm=auto, n_neighbors=15, p=1, score=0.714, total=   0.0s\n",
      "[CV] algorithm=auto, n_neighbors=15, p=1 .............................\n",
      "[CV] . algorithm=auto, n_neighbors=15, p=1, score=0.857, total=   0.0s\n",
      "[CV] algorithm=auto, n_neighbors=15, p=2 .............................\n",
      "[CV] . algorithm=auto, n_neighbors=15, p=2, score=0.812, total=   0.0s\n",
      "[CV] algorithm=auto, n_neighbors=15, p=2 .............................\n",
      "[CV] . algorithm=auto, n_neighbors=15, p=2, score=0.812, total=   0.0s\n",
      "[CV] algorithm=auto, n_neighbors=15, p=2 .............................\n",
      "[CV] . algorithm=auto, n_neighbors=15, p=2, score=0.938, total=   0.0s\n",
      "[CV] algorithm=auto, n_neighbors=15, p=2 .............................\n",
      "[CV] . algorithm=auto, n_neighbors=15, p=2, score=0.812, total=   0.0s\n",
      "[CV] algorithm=auto, n_neighbors=15, p=2 .............................\n",
      "[CV] . algorithm=auto, n_neighbors=15, p=2, score=0.875, total=   0.0s\n",
      "[CV] algorithm=auto, n_neighbors=15, p=2 .............................\n",
      "[CV] . algorithm=auto, n_neighbors=15, p=2, score=0.812, total=   0.0s\n",
      "[CV] algorithm=auto, n_neighbors=15, p=2 .............................\n",
      "[CV] . algorithm=auto, n_neighbors=15, p=2, score=0.938, total=   0.0s\n",
      "[CV] algorithm=auto, n_neighbors=15, p=2 .............................\n",
      "[CV] . algorithm=auto, n_neighbors=15, p=2, score=0.688, total=   0.0s\n",
      "[CV] algorithm=auto, n_neighbors=15, p=2 .............................\n",
      "[CV] . algorithm=auto, n_neighbors=15, p=2, score=0.857, total=   0.0s\n",
      "[CV] algorithm=auto, n_neighbors=15, p=2 .............................\n",
      "[CV] . algorithm=auto, n_neighbors=15, p=2, score=0.857, total=   0.0s\n",
      "[CV] algorithm=auto, n_neighbors=15, p=3 .............................\n",
      "[CV] . algorithm=auto, n_neighbors=15, p=3, score=0.750, total=   0.0s\n",
      "[CV] algorithm=auto, n_neighbors=15, p=3 .............................\n",
      "[CV] . algorithm=auto, n_neighbors=15, p=3, score=0.812, total=   0.0s\n",
      "[CV] algorithm=auto, n_neighbors=15, p=3 .............................\n",
      "[CV] . algorithm=auto, n_neighbors=15, p=3, score=0.938, total=   0.0s\n",
      "[CV] algorithm=auto, n_neighbors=15, p=3 .............................\n",
      "[CV] . algorithm=auto, n_neighbors=15, p=3, score=0.688, total=   0.0s\n",
      "[CV] algorithm=auto, n_neighbors=15, p=3 .............................\n",
      "[CV] . algorithm=auto, n_neighbors=15, p=3, score=0.812, total=   0.0s\n",
      "[CV] algorithm=auto, n_neighbors=15, p=3 .............................\n",
      "[CV] . algorithm=auto, n_neighbors=15, p=3, score=0.812, total=   0.0s\n",
      "[CV] algorithm=auto, n_neighbors=15, p=3 .............................\n",
      "[CV] . algorithm=auto, n_neighbors=15, p=3, score=0.875, total=   0.0s\n",
      "[CV] algorithm=auto, n_neighbors=15, p=3 .............................\n",
      "[CV] . algorithm=auto, n_neighbors=15, p=3, score=0.688, total=   0.0s\n",
      "[CV] algorithm=auto, n_neighbors=15, p=3 .............................\n",
      "[CV] . algorithm=auto, n_neighbors=15, p=3, score=0.857, total=   0.0s\n",
      "[CV] algorithm=auto, n_neighbors=15, p=3 .............................\n",
      "[CV] . algorithm=auto, n_neighbors=15, p=3, score=0.857, total=   0.0s\n",
      "[CV] algorithm=ball_tree, n_neighbors=3, p=1 .........................\n",
      "[CV]  algorithm=ball_tree, n_neighbors=3, p=1, score=1.000, total=   0.0s\n",
      "[CV] algorithm=ball_tree, n_neighbors=3, p=1 .........................\n",
      "[CV]  algorithm=ball_tree, n_neighbors=3, p=1, score=0.938, total=   0.0s\n",
      "[CV] algorithm=ball_tree, n_neighbors=3, p=1 .........................\n",
      "[CV]  algorithm=ball_tree, n_neighbors=3, p=1, score=0.938, total=   0.0s\n",
      "[CV] algorithm=ball_tree, n_neighbors=3, p=1 .........................\n",
      "[CV]  algorithm=ball_tree, n_neighbors=3, p=1, score=0.938, total=   0.0s\n",
      "[CV] algorithm=ball_tree, n_neighbors=3, p=1 .........................\n",
      "[CV]  algorithm=ball_tree, n_neighbors=3, p=1, score=1.000, total=   0.0s\n",
      "[CV] algorithm=ball_tree, n_neighbors=3, p=1 .........................\n",
      "[CV]  algorithm=ball_tree, n_neighbors=3, p=1, score=0.875, total=   0.0s\n",
      "[CV] algorithm=ball_tree, n_neighbors=3, p=1 .........................\n",
      "[CV]  algorithm=ball_tree, n_neighbors=3, p=1, score=1.000, total=   0.0s\n",
      "[CV] algorithm=ball_tree, n_neighbors=3, p=1 .........................\n",
      "[CV]  algorithm=ball_tree, n_neighbors=3, p=1, score=0.938, total=   0.0s\n",
      "[CV] algorithm=ball_tree, n_neighbors=3, p=1 .........................\n",
      "[CV]  algorithm=ball_tree, n_neighbors=3, p=1, score=0.929, total=   0.0s\n",
      "[CV] algorithm=ball_tree, n_neighbors=3, p=1 .........................\n",
      "[CV]  algorithm=ball_tree, n_neighbors=3, p=1, score=1.000, total=   0.0s\n",
      "[CV] algorithm=ball_tree, n_neighbors=3, p=2 .........................\n",
      "[CV]  algorithm=ball_tree, n_neighbors=3, p=2, score=0.938, total=   0.0s\n",
      "[CV] algorithm=ball_tree, n_neighbors=3, p=2 .........................\n",
      "[CV]  algorithm=ball_tree, n_neighbors=3, p=2, score=1.000, total=   0.0s\n",
      "[CV] algorithm=ball_tree, n_neighbors=3, p=2 .........................\n",
      "[CV]  algorithm=ball_tree, n_neighbors=3, p=2, score=0.938, total=   0.0s\n",
      "[CV] algorithm=ball_tree, n_neighbors=3, p=2 .........................\n",
      "[CV]  algorithm=ball_tree, n_neighbors=3, p=2, score=0.938, total=   0.0s\n",
      "[CV] algorithm=ball_tree, n_neighbors=3, p=2 .........................\n",
      "[CV]  algorithm=ball_tree, n_neighbors=3, p=2, score=1.000, total=   0.0s\n",
      "[CV] algorithm=ball_tree, n_neighbors=3, p=2 .........................\n",
      "[CV]  algorithm=ball_tree, n_neighbors=3, p=2, score=0.812, total=   0.0s\n",
      "[CV] algorithm=ball_tree, n_neighbors=3, p=2 .........................\n",
      "[CV]  algorithm=ball_tree, n_neighbors=3, p=2, score=1.000, total=   0.0s\n",
      "[CV] algorithm=ball_tree, n_neighbors=3, p=2 .........................\n",
      "[CV]  algorithm=ball_tree, n_neighbors=3, p=2, score=0.875, total=   0.0s\n",
      "[CV] algorithm=ball_tree, n_neighbors=3, p=2 .........................\n",
      "[CV]  algorithm=ball_tree, n_neighbors=3, p=2, score=0.786, total=   0.0s\n",
      "[CV] algorithm=ball_tree, n_neighbors=3, p=2 .........................\n",
      "[CV]  algorithm=ball_tree, n_neighbors=3, p=2, score=1.000, total=   0.0s\n",
      "[CV] algorithm=ball_tree, n_neighbors=3, p=3 .........................\n",
      "[CV]  algorithm=ball_tree, n_neighbors=3, p=3, score=0.875, total=   0.0s\n",
      "[CV] algorithm=ball_tree, n_neighbors=3, p=3 .........................\n",
      "[CV]  algorithm=ball_tree, n_neighbors=3, p=3, score=0.938, total=   0.0s\n",
      "[CV] algorithm=ball_tree, n_neighbors=3, p=3 .........................\n",
      "[CV]  algorithm=ball_tree, n_neighbors=3, p=3, score=0.938, total=   0.0s\n",
      "[CV] algorithm=ball_tree, n_neighbors=3, p=3 .........................\n",
      "[CV]  algorithm=ball_tree, n_neighbors=3, p=3, score=0.938, total=   0.0s\n",
      "[CV] algorithm=ball_tree, n_neighbors=3, p=3 .........................\n",
      "[CV]  algorithm=ball_tree, n_neighbors=3, p=3, score=0.875, total=   0.0s\n",
      "[CV] algorithm=ball_tree, n_neighbors=3, p=3 .........................\n",
      "[CV]  algorithm=ball_tree, n_neighbors=3, p=3, score=0.875, total=   0.0s\n",
      "[CV] algorithm=ball_tree, n_neighbors=3, p=3 .........................\n",
      "[CV]  algorithm=ball_tree, n_neighbors=3, p=3, score=1.000, total=   0.0s\n",
      "[CV] algorithm=ball_tree, n_neighbors=3, p=3 .........................\n",
      "[CV]  algorithm=ball_tree, n_neighbors=3, p=3, score=0.875, total=   0.0s\n",
      "[CV] algorithm=ball_tree, n_neighbors=3, p=3 .........................\n",
      "[CV]  algorithm=ball_tree, n_neighbors=3, p=3, score=0.786, total=   0.0s\n",
      "[CV] algorithm=ball_tree, n_neighbors=3, p=3 .........................\n",
      "[CV]  algorithm=ball_tree, n_neighbors=3, p=3, score=1.000, total=   0.0s\n",
      "[CV] algorithm=ball_tree, n_neighbors=5, p=1 .........................\n",
      "[CV]  algorithm=ball_tree, n_neighbors=5, p=1, score=1.000, total=   0.0s\n",
      "[CV] algorithm=ball_tree, n_neighbors=5, p=1 .........................\n",
      "[CV]  algorithm=ball_tree, n_neighbors=5, p=1, score=1.000, total=   0.0s\n",
      "[CV] algorithm=ball_tree, n_neighbors=5, p=1 .........................\n",
      "[CV]  algorithm=ball_tree, n_neighbors=5, p=1, score=0.938, total=   0.0s\n",
      "[CV] algorithm=ball_tree, n_neighbors=5, p=1 .........................\n",
      "[CV]  algorithm=ball_tree, n_neighbors=5, p=1, score=0.938, total=   0.0s\n",
      "[CV] algorithm=ball_tree, n_neighbors=5, p=1 .........................\n",
      "[CV]  algorithm=ball_tree, n_neighbors=5, p=1, score=1.000, total=   0.0s\n",
      "[CV] algorithm=ball_tree, n_neighbors=5, p=1 .........................\n",
      "[CV]  algorithm=ball_tree, n_neighbors=5, p=1, score=0.875, total=   0.0s\n",
      "[CV] algorithm=ball_tree, n_neighbors=5, p=1 .........................\n",
      "[CV]  algorithm=ball_tree, n_neighbors=5, p=1, score=1.000, total=   0.0s\n",
      "[CV] algorithm=ball_tree, n_neighbors=5, p=1 .........................\n",
      "[CV]  algorithm=ball_tree, n_neighbors=5, p=1, score=0.812, total=   0.0s\n",
      "[CV] algorithm=ball_tree, n_neighbors=5, p=1 .........................\n",
      "[CV]  algorithm=ball_tree, n_neighbors=5, p=1, score=0.857, total=   0.0s\n",
      "[CV] algorithm=ball_tree, n_neighbors=5, p=1 .........................\n",
      "[CV]  algorithm=ball_tree, n_neighbors=5, p=1, score=0.929, total=   0.0s\n",
      "[CV] algorithm=ball_tree, n_neighbors=5, p=2 .........................\n"
     ]
    },
    {
     "name": "stdout",
     "output_type": "stream",
     "text": [
      "[CV]  algorithm=ball_tree, n_neighbors=5, p=2, score=0.938, total=   0.0s\n",
      "[CV] algorithm=ball_tree, n_neighbors=5, p=2 .........................\n",
      "[CV]  algorithm=ball_tree, n_neighbors=5, p=2, score=1.000, total=   0.0s\n",
      "[CV] algorithm=ball_tree, n_neighbors=5, p=2 .........................\n",
      "[CV]  algorithm=ball_tree, n_neighbors=5, p=2, score=0.875, total=   0.0s\n",
      "[CV] algorithm=ball_tree, n_neighbors=5, p=2 .........................\n",
      "[CV]  algorithm=ball_tree, n_neighbors=5, p=2, score=0.938, total=   0.0s\n",
      "[CV] algorithm=ball_tree, n_neighbors=5, p=2 .........................\n",
      "[CV]  algorithm=ball_tree, n_neighbors=5, p=2, score=0.875, total=   0.0s\n",
      "[CV] algorithm=ball_tree, n_neighbors=5, p=2 .........................\n",
      "[CV]  algorithm=ball_tree, n_neighbors=5, p=2, score=0.812, total=   0.0s\n",
      "[CV] algorithm=ball_tree, n_neighbors=5, p=2 .........................\n",
      "[CV]  algorithm=ball_tree, n_neighbors=5, p=2, score=1.000, total=   0.0s\n",
      "[CV] algorithm=ball_tree, n_neighbors=5, p=2 .........................\n",
      "[CV]  algorithm=ball_tree, n_neighbors=5, p=2, score=0.875, total=   0.0s\n",
      "[CV] algorithm=ball_tree, n_neighbors=5, p=2 .........................\n",
      "[CV]  algorithm=ball_tree, n_neighbors=5, p=2, score=0.929, total=   0.0s\n",
      "[CV] algorithm=ball_tree, n_neighbors=5, p=2 .........................\n",
      "[CV]  algorithm=ball_tree, n_neighbors=5, p=2, score=0.929, total=   0.0s\n",
      "[CV] algorithm=ball_tree, n_neighbors=5, p=3 .........................\n",
      "[CV]  algorithm=ball_tree, n_neighbors=5, p=3, score=0.812, total=   0.0s\n",
      "[CV] algorithm=ball_tree, n_neighbors=5, p=3 .........................\n",
      "[CV]  algorithm=ball_tree, n_neighbors=5, p=3, score=1.000, total=   0.0s\n",
      "[CV] algorithm=ball_tree, n_neighbors=5, p=3 .........................\n",
      "[CV]  algorithm=ball_tree, n_neighbors=5, p=3, score=0.938, total=   0.0s\n",
      "[CV] algorithm=ball_tree, n_neighbors=5, p=3 .........................\n",
      "[CV]  algorithm=ball_tree, n_neighbors=5, p=3, score=0.812, total=   0.0s\n",
      "[CV] algorithm=ball_tree, n_neighbors=5, p=3 .........................\n",
      "[CV]  algorithm=ball_tree, n_neighbors=5, p=3, score=0.812, total=   0.0s\n",
      "[CV] algorithm=ball_tree, n_neighbors=5, p=3 .........................\n",
      "[CV]  algorithm=ball_tree, n_neighbors=5, p=3, score=0.875, total=   0.0s\n",
      "[CV] algorithm=ball_tree, n_neighbors=5, p=3 .........................\n",
      "[CV]  algorithm=ball_tree, n_neighbors=5, p=3, score=1.000, total=   0.0s\n",
      "[CV] algorithm=ball_tree, n_neighbors=5, p=3 .........................\n",
      "[CV]  algorithm=ball_tree, n_neighbors=5, p=3, score=0.812, total=   0.0s\n",
      "[CV] algorithm=ball_tree, n_neighbors=5, p=3 .........................\n",
      "[CV]  algorithm=ball_tree, n_neighbors=5, p=3, score=0.786, total=   0.0s\n",
      "[CV] algorithm=ball_tree, n_neighbors=5, p=3 .........................\n",
      "[CV]  algorithm=ball_tree, n_neighbors=5, p=3, score=1.000, total=   0.0s\n",
      "[CV] algorithm=ball_tree, n_neighbors=9, p=1 .........................\n",
      "[CV]  algorithm=ball_tree, n_neighbors=9, p=1, score=0.938, total=   0.0s\n",
      "[CV] algorithm=ball_tree, n_neighbors=9, p=1 .........................\n",
      "[CV]  algorithm=ball_tree, n_neighbors=9, p=1, score=0.812, total=   0.0s\n",
      "[CV] algorithm=ball_tree, n_neighbors=9, p=1 .........................\n",
      "[CV]  algorithm=ball_tree, n_neighbors=9, p=1, score=0.938, total=   0.0s\n",
      "[CV] algorithm=ball_tree, n_neighbors=9, p=1 .........................\n",
      "[CV]  algorithm=ball_tree, n_neighbors=9, p=1, score=0.938, total=   0.0s\n",
      "[CV] algorithm=ball_tree, n_neighbors=9, p=1 .........................\n",
      "[CV]  algorithm=ball_tree, n_neighbors=9, p=1, score=0.938, total=   0.0s\n",
      "[CV] algorithm=ball_tree, n_neighbors=9, p=1 .........................\n",
      "[CV]  algorithm=ball_tree, n_neighbors=9, p=1, score=0.875, total=   0.0s\n",
      "[CV] algorithm=ball_tree, n_neighbors=9, p=1 .........................\n",
      "[CV]  algorithm=ball_tree, n_neighbors=9, p=1, score=1.000, total=   0.0s\n",
      "[CV] algorithm=ball_tree, n_neighbors=9, p=1 .........................\n",
      "[CV]  algorithm=ball_tree, n_neighbors=9, p=1, score=0.688, total=   0.0s\n",
      "[CV] algorithm=ball_tree, n_neighbors=9, p=1 .........................\n",
      "[CV]  algorithm=ball_tree, n_neighbors=9, p=1, score=0.786, total=   0.0s\n",
      "[CV] algorithm=ball_tree, n_neighbors=9, p=1 .........................\n",
      "[CV]  algorithm=ball_tree, n_neighbors=9, p=1, score=0.929, total=   0.0s\n",
      "[CV] algorithm=ball_tree, n_neighbors=9, p=2 .........................\n",
      "[CV]  algorithm=ball_tree, n_neighbors=9, p=2, score=0.875, total=   0.0s\n",
      "[CV] algorithm=ball_tree, n_neighbors=9, p=2 .........................\n",
      "[CV]  algorithm=ball_tree, n_neighbors=9, p=2, score=0.812, total=   0.0s\n",
      "[CV] algorithm=ball_tree, n_neighbors=9, p=2 .........................\n",
      "[CV]  algorithm=ball_tree, n_neighbors=9, p=2, score=0.938, total=   0.0s\n",
      "[CV] algorithm=ball_tree, n_neighbors=9, p=2 .........................\n",
      "[CV]  algorithm=ball_tree, n_neighbors=9, p=2, score=0.938, total=   0.0s\n",
      "[CV] algorithm=ball_tree, n_neighbors=9, p=2 .........................\n",
      "[CV]  algorithm=ball_tree, n_neighbors=9, p=2, score=0.938, total=   0.0s\n",
      "[CV] algorithm=ball_tree, n_neighbors=9, p=2 .........................\n",
      "[CV]  algorithm=ball_tree, n_neighbors=9, p=2, score=0.875, total=   0.0s\n",
      "[CV] algorithm=ball_tree, n_neighbors=9, p=2 .........................\n",
      "[CV]  algorithm=ball_tree, n_neighbors=9, p=2, score=1.000, total=   0.0s\n",
      "[CV] algorithm=ball_tree, n_neighbors=9, p=2 .........................\n",
      "[CV]  algorithm=ball_tree, n_neighbors=9, p=2, score=0.688, total=   0.0s\n",
      "[CV] algorithm=ball_tree, n_neighbors=9, p=2 .........................\n",
      "[CV]  algorithm=ball_tree, n_neighbors=9, p=2, score=0.786, total=   0.0s\n",
      "[CV] algorithm=ball_tree, n_neighbors=9, p=2 .........................\n",
      "[CV]  algorithm=ball_tree, n_neighbors=9, p=2, score=1.000, total=   0.0s\n",
      "[CV] algorithm=ball_tree, n_neighbors=9, p=3 .........................\n",
      "[CV]  algorithm=ball_tree, n_neighbors=9, p=3, score=0.938, total=   0.0s\n",
      "[CV] algorithm=ball_tree, n_neighbors=9, p=3 .........................\n",
      "[CV]  algorithm=ball_tree, n_neighbors=9, p=3, score=0.875, total=   0.0s\n",
      "[CV] algorithm=ball_tree, n_neighbors=9, p=3 .........................\n",
      "[CV]  algorithm=ball_tree, n_neighbors=9, p=3, score=0.938, total=   0.0s\n",
      "[CV] algorithm=ball_tree, n_neighbors=9, p=3 .........................\n",
      "[CV]  algorithm=ball_tree, n_neighbors=9, p=3, score=0.938, total=   0.0s\n",
      "[CV] algorithm=ball_tree, n_neighbors=9, p=3 .........................\n",
      "[CV]  algorithm=ball_tree, n_neighbors=9, p=3, score=0.875, total=   0.0s\n",
      "[CV] algorithm=ball_tree, n_neighbors=9, p=3 .........................\n",
      "[CV]  algorithm=ball_tree, n_neighbors=9, p=3, score=0.875, total=   0.0s\n",
      "[CV] algorithm=ball_tree, n_neighbors=9, p=3 .........................\n",
      "[CV]  algorithm=ball_tree, n_neighbors=9, p=3, score=1.000, total=   0.0s\n",
      "[CV] algorithm=ball_tree, n_neighbors=9, p=3 .........................\n",
      "[CV]  algorithm=ball_tree, n_neighbors=9, p=3, score=0.750, total=   0.0s\n",
      "[CV] algorithm=ball_tree, n_neighbors=9, p=3 .........................\n",
      "[CV]  algorithm=ball_tree, n_neighbors=9, p=3, score=0.857, total=   0.0s\n",
      "[CV] algorithm=ball_tree, n_neighbors=9, p=3 .........................\n",
      "[CV]  algorithm=ball_tree, n_neighbors=9, p=3, score=0.929, total=   0.0s\n",
      "[CV] algorithm=ball_tree, n_neighbors=15, p=1 ........................\n",
      "[CV]  algorithm=ball_tree, n_neighbors=15, p=1, score=0.875, total=   0.0s\n",
      "[CV] algorithm=ball_tree, n_neighbors=15, p=1 ........................\n",
      "[CV]  algorithm=ball_tree, n_neighbors=15, p=1, score=0.875, total=   0.0s\n",
      "[CV] algorithm=ball_tree, n_neighbors=15, p=1 ........................\n",
      "[CV]  algorithm=ball_tree, n_neighbors=15, p=1, score=0.938, total=   0.0s\n",
      "[CV] algorithm=ball_tree, n_neighbors=15, p=1 ........................\n",
      "[CV]  algorithm=ball_tree, n_neighbors=15, p=1, score=0.938, total=   0.0s\n",
      "[CV] algorithm=ball_tree, n_neighbors=15, p=1 ........................\n",
      "[CV]  algorithm=ball_tree, n_neighbors=15, p=1, score=0.812, total=   0.0s\n",
      "[CV] algorithm=ball_tree, n_neighbors=15, p=1 ........................\n",
      "[CV]  algorithm=ball_tree, n_neighbors=15, p=1, score=0.812, total=   0.0s\n",
      "[CV] algorithm=ball_tree, n_neighbors=15, p=1 ........................\n",
      "[CV]  algorithm=ball_tree, n_neighbors=15, p=1, score=1.000, total=   0.0s\n",
      "[CV] algorithm=ball_tree, n_neighbors=15, p=1 ........................\n",
      "[CV]  algorithm=ball_tree, n_neighbors=15, p=1, score=0.812, total=   0.0s\n",
      "[CV] algorithm=ball_tree, n_neighbors=15, p=1 ........................\n",
      "[CV]  algorithm=ball_tree, n_neighbors=15, p=1, score=0.714, total=   0.0s\n",
      "[CV] algorithm=ball_tree, n_neighbors=15, p=1 ........................\n",
      "[CV]  algorithm=ball_tree, n_neighbors=15, p=1, score=0.857, total=   0.0s\n",
      "[CV] algorithm=ball_tree, n_neighbors=15, p=2 ........................\n"
     ]
    },
    {
     "name": "stdout",
     "output_type": "stream",
     "text": [
      "[CV]  algorithm=ball_tree, n_neighbors=15, p=2, score=0.812, total=   0.0s\n",
      "[CV] algorithm=ball_tree, n_neighbors=15, p=2 ........................\n",
      "[CV]  algorithm=ball_tree, n_neighbors=15, p=2, score=0.812, total=   0.0s\n",
      "[CV] algorithm=ball_tree, n_neighbors=15, p=2 ........................\n",
      "[CV]  algorithm=ball_tree, n_neighbors=15, p=2, score=0.938, total=   0.0s\n",
      "[CV] algorithm=ball_tree, n_neighbors=15, p=2 ........................\n",
      "[CV]  algorithm=ball_tree, n_neighbors=15, p=2, score=0.812, total=   0.0s\n",
      "[CV] algorithm=ball_tree, n_neighbors=15, p=2 ........................\n",
      "[CV]  algorithm=ball_tree, n_neighbors=15, p=2, score=0.875, total=   0.0s\n",
      "[CV] algorithm=ball_tree, n_neighbors=15, p=2 ........................\n",
      "[CV]  algorithm=ball_tree, n_neighbors=15, p=2, score=0.812, total=   0.0s\n",
      "[CV] algorithm=ball_tree, n_neighbors=15, p=2 ........................\n",
      "[CV]  algorithm=ball_tree, n_neighbors=15, p=2, score=0.938, total=   0.0s\n",
      "[CV] algorithm=ball_tree, n_neighbors=15, p=2 ........................\n",
      "[CV]  algorithm=ball_tree, n_neighbors=15, p=2, score=0.688, total=   0.0s\n",
      "[CV] algorithm=ball_tree, n_neighbors=15, p=2 ........................\n",
      "[CV]  algorithm=ball_tree, n_neighbors=15, p=2, score=0.857, total=   0.0s\n",
      "[CV] algorithm=ball_tree, n_neighbors=15, p=2 ........................\n",
      "[CV]  algorithm=ball_tree, n_neighbors=15, p=2, score=0.857, total=   0.0s\n",
      "[CV] algorithm=ball_tree, n_neighbors=15, p=3 ........................\n",
      "[CV]  algorithm=ball_tree, n_neighbors=15, p=3, score=0.750, total=   0.0s\n",
      "[CV] algorithm=ball_tree, n_neighbors=15, p=3 ........................\n",
      "[CV]  algorithm=ball_tree, n_neighbors=15, p=3, score=0.812, total=   0.0s\n",
      "[CV] algorithm=ball_tree, n_neighbors=15, p=3 ........................\n",
      "[CV]  algorithm=ball_tree, n_neighbors=15, p=3, score=0.938, total=   0.0s\n",
      "[CV] algorithm=ball_tree, n_neighbors=15, p=3 ........................\n",
      "[CV]  algorithm=ball_tree, n_neighbors=15, p=3, score=0.688, total=   0.0s\n",
      "[CV] algorithm=ball_tree, n_neighbors=15, p=3 ........................\n",
      "[CV]  algorithm=ball_tree, n_neighbors=15, p=3, score=0.812, total=   0.0s\n",
      "[CV] algorithm=ball_tree, n_neighbors=15, p=3 ........................\n",
      "[CV]  algorithm=ball_tree, n_neighbors=15, p=3, score=0.812, total=   0.0s\n",
      "[CV] algorithm=ball_tree, n_neighbors=15, p=3 ........................\n",
      "[CV]  algorithm=ball_tree, n_neighbors=15, p=3, score=0.875, total=   0.0s\n",
      "[CV] algorithm=ball_tree, n_neighbors=15, p=3 ........................\n",
      "[CV]  algorithm=ball_tree, n_neighbors=15, p=3, score=0.688, total=   0.0s\n",
      "[CV] algorithm=ball_tree, n_neighbors=15, p=3 ........................\n",
      "[CV]  algorithm=ball_tree, n_neighbors=15, p=3, score=0.857, total=   0.0s\n",
      "[CV] algorithm=ball_tree, n_neighbors=15, p=3 ........................\n",
      "[CV]  algorithm=ball_tree, n_neighbors=15, p=3, score=0.857, total=   0.0s\n",
      "[CV] algorithm=kd_tree, n_neighbors=3, p=1 ...........................\n",
      "[CV]  algorithm=kd_tree, n_neighbors=3, p=1, score=1.000, total=   0.0s\n",
      "[CV] algorithm=kd_tree, n_neighbors=3, p=1 ...........................\n",
      "[CV]  algorithm=kd_tree, n_neighbors=3, p=1, score=0.938, total=   0.0s\n",
      "[CV] algorithm=kd_tree, n_neighbors=3, p=1 ...........................\n",
      "[CV]  algorithm=kd_tree, n_neighbors=3, p=1, score=0.938, total=   0.0s\n",
      "[CV] algorithm=kd_tree, n_neighbors=3, p=1 ...........................\n",
      "[CV]  algorithm=kd_tree, n_neighbors=3, p=1, score=0.938, total=   0.0s\n",
      "[CV] algorithm=kd_tree, n_neighbors=3, p=1 ...........................\n",
      "[CV]  algorithm=kd_tree, n_neighbors=3, p=1, score=1.000, total=   0.0s\n",
      "[CV] algorithm=kd_tree, n_neighbors=3, p=1 ...........................\n",
      "[CV]  algorithm=kd_tree, n_neighbors=3, p=1, score=0.875, total=   0.0s\n",
      "[CV] algorithm=kd_tree, n_neighbors=3, p=1 ...........................\n",
      "[CV]  algorithm=kd_tree, n_neighbors=3, p=1, score=1.000, total=   0.0s\n",
      "[CV] algorithm=kd_tree, n_neighbors=3, p=1 ...........................\n",
      "[CV]  algorithm=kd_tree, n_neighbors=3, p=1, score=0.938, total=   0.0s\n",
      "[CV] algorithm=kd_tree, n_neighbors=3, p=1 ...........................\n",
      "[CV]  algorithm=kd_tree, n_neighbors=3, p=1, score=0.929, total=   0.0s\n",
      "[CV] algorithm=kd_tree, n_neighbors=3, p=1 ...........................\n",
      "[CV]  algorithm=kd_tree, n_neighbors=3, p=1, score=1.000, total=   0.0s\n",
      "[CV] algorithm=kd_tree, n_neighbors=3, p=2 ...........................\n",
      "[CV]  algorithm=kd_tree, n_neighbors=3, p=2, score=0.938, total=   0.0s\n",
      "[CV] algorithm=kd_tree, n_neighbors=3, p=2 ...........................\n",
      "[CV]  algorithm=kd_tree, n_neighbors=3, p=2, score=1.000, total=   0.0s\n",
      "[CV] algorithm=kd_tree, n_neighbors=3, p=2 ...........................\n",
      "[CV]  algorithm=kd_tree, n_neighbors=3, p=2, score=0.938, total=   0.0s\n",
      "[CV] algorithm=kd_tree, n_neighbors=3, p=2 ...........................\n",
      "[CV]  algorithm=kd_tree, n_neighbors=3, p=2, score=0.938, total=   0.0s\n",
      "[CV] algorithm=kd_tree, n_neighbors=3, p=2 ...........................\n",
      "[CV]  algorithm=kd_tree, n_neighbors=3, p=2, score=1.000, total=   0.0s\n",
      "[CV] algorithm=kd_tree, n_neighbors=3, p=2 ...........................\n",
      "[CV]  algorithm=kd_tree, n_neighbors=3, p=2, score=0.812, total=   0.0s\n",
      "[CV] algorithm=kd_tree, n_neighbors=3, p=2 ...........................\n",
      "[CV]  algorithm=kd_tree, n_neighbors=3, p=2, score=1.000, total=   0.0s\n",
      "[CV] algorithm=kd_tree, n_neighbors=3, p=2 ...........................\n",
      "[CV]  algorithm=kd_tree, n_neighbors=3, p=2, score=0.875, total=   0.0s\n",
      "[CV] algorithm=kd_tree, n_neighbors=3, p=2 ...........................\n",
      "[CV]  algorithm=kd_tree, n_neighbors=3, p=2, score=0.786, total=   0.0s\n",
      "[CV] algorithm=kd_tree, n_neighbors=3, p=2 ...........................\n",
      "[CV]  algorithm=kd_tree, n_neighbors=3, p=2, score=1.000, total=   0.0s\n",
      "[CV] algorithm=kd_tree, n_neighbors=3, p=3 ...........................\n",
      "[CV]  algorithm=kd_tree, n_neighbors=3, p=3, score=0.875, total=   0.0s\n",
      "[CV] algorithm=kd_tree, n_neighbors=3, p=3 ...........................\n",
      "[CV]  algorithm=kd_tree, n_neighbors=3, p=3, score=0.938, total=   0.0s\n",
      "[CV] algorithm=kd_tree, n_neighbors=3, p=3 ...........................\n",
      "[CV]  algorithm=kd_tree, n_neighbors=3, p=3, score=0.938, total=   0.0s\n",
      "[CV] algorithm=kd_tree, n_neighbors=3, p=3 ...........................\n",
      "[CV]  algorithm=kd_tree, n_neighbors=3, p=3, score=0.938, total=   0.0s\n",
      "[CV] algorithm=kd_tree, n_neighbors=3, p=3 ...........................\n",
      "[CV]  algorithm=kd_tree, n_neighbors=3, p=3, score=0.875, total=   0.0s\n",
      "[CV] algorithm=kd_tree, n_neighbors=3, p=3 ...........................\n",
      "[CV]  algorithm=kd_tree, n_neighbors=3, p=3, score=0.875, total=   0.0s\n",
      "[CV] algorithm=kd_tree, n_neighbors=3, p=3 ...........................\n",
      "[CV]  algorithm=kd_tree, n_neighbors=3, p=3, score=1.000, total=   0.0s\n",
      "[CV] algorithm=kd_tree, n_neighbors=3, p=3 ...........................\n",
      "[CV]  algorithm=kd_tree, n_neighbors=3, p=3, score=0.875, total=   0.0s\n",
      "[CV] algorithm=kd_tree, n_neighbors=3, p=3 ...........................\n",
      "[CV]  algorithm=kd_tree, n_neighbors=3, p=3, score=0.786, total=   0.0s\n",
      "[CV] algorithm=kd_tree, n_neighbors=3, p=3 ...........................\n",
      "[CV]  algorithm=kd_tree, n_neighbors=3, p=3, score=1.000, total=   0.0s\n",
      "[CV] algorithm=kd_tree, n_neighbors=5, p=1 ...........................\n",
      "[CV]  algorithm=kd_tree, n_neighbors=5, p=1, score=1.000, total=   0.0s\n",
      "[CV] algorithm=kd_tree, n_neighbors=5, p=1 ...........................\n",
      "[CV]  algorithm=kd_tree, n_neighbors=5, p=1, score=1.000, total=   0.0s\n",
      "[CV] algorithm=kd_tree, n_neighbors=5, p=1 ...........................\n",
      "[CV]  algorithm=kd_tree, n_neighbors=5, p=1, score=0.938, total=   0.0s\n",
      "[CV] algorithm=kd_tree, n_neighbors=5, p=1 ...........................\n",
      "[CV]  algorithm=kd_tree, n_neighbors=5, p=1, score=0.938, total=   0.0s\n",
      "[CV] algorithm=kd_tree, n_neighbors=5, p=1 ...........................\n",
      "[CV]  algorithm=kd_tree, n_neighbors=5, p=1, score=1.000, total=   0.0s\n",
      "[CV] algorithm=kd_tree, n_neighbors=5, p=1 ...........................\n",
      "[CV]  algorithm=kd_tree, n_neighbors=5, p=1, score=0.875, total=   0.0s\n",
      "[CV] algorithm=kd_tree, n_neighbors=5, p=1 ...........................\n",
      "[CV]  algorithm=kd_tree, n_neighbors=5, p=1, score=1.000, total=   0.0s\n",
      "[CV] algorithm=kd_tree, n_neighbors=5, p=1 ...........................\n",
      "[CV]  algorithm=kd_tree, n_neighbors=5, p=1, score=0.812, total=   0.0s\n",
      "[CV] algorithm=kd_tree, n_neighbors=5, p=1 ...........................\n",
      "[CV]  algorithm=kd_tree, n_neighbors=5, p=1, score=0.857, total=   0.0s\n",
      "[CV] algorithm=kd_tree, n_neighbors=5, p=1 ...........................\n",
      "[CV]  algorithm=kd_tree, n_neighbors=5, p=1, score=0.929, total=   0.0s\n",
      "[CV] algorithm=kd_tree, n_neighbors=5, p=2 ...........................\n",
      "[CV]  algorithm=kd_tree, n_neighbors=5, p=2, score=0.938, total=   0.0s\n",
      "[CV] algorithm=kd_tree, n_neighbors=5, p=2 ...........................\n",
      "[CV]  algorithm=kd_tree, n_neighbors=5, p=2, score=1.000, total=   0.0s\n",
      "[CV] algorithm=kd_tree, n_neighbors=5, p=2 ...........................\n",
      "[CV]  algorithm=kd_tree, n_neighbors=5, p=2, score=0.875, total=   0.0s\n",
      "[CV] algorithm=kd_tree, n_neighbors=5, p=2 ...........................\n",
      "[CV]  algorithm=kd_tree, n_neighbors=5, p=2, score=0.938, total=   0.0s\n",
      "[CV] algorithm=kd_tree, n_neighbors=5, p=2 ...........................\n",
      "[CV]  algorithm=kd_tree, n_neighbors=5, p=2, score=0.875, total=   0.0s\n",
      "[CV] algorithm=kd_tree, n_neighbors=5, p=2 ...........................\n",
      "[CV]  algorithm=kd_tree, n_neighbors=5, p=2, score=0.812, total=   0.0s\n",
      "[CV] algorithm=kd_tree, n_neighbors=5, p=2 ...........................\n",
      "[CV]  algorithm=kd_tree, n_neighbors=5, p=2, score=1.000, total=   0.0s\n",
      "[CV] algorithm=kd_tree, n_neighbors=5, p=2 ...........................\n",
      "[CV]  algorithm=kd_tree, n_neighbors=5, p=2, score=0.875, total=   0.0s\n",
      "[CV] algorithm=kd_tree, n_neighbors=5, p=2 ...........................\n",
      "[CV]  algorithm=kd_tree, n_neighbors=5, p=2, score=0.929, total=   0.0s\n",
      "[CV] algorithm=kd_tree, n_neighbors=5, p=2 ...........................\n",
      "[CV]  algorithm=kd_tree, n_neighbors=5, p=2, score=0.929, total=   0.0s\n",
      "[CV] algorithm=kd_tree, n_neighbors=5, p=3 ...........................\n",
      "[CV]  algorithm=kd_tree, n_neighbors=5, p=3, score=0.812, total=   0.0s\n",
      "[CV] algorithm=kd_tree, n_neighbors=5, p=3 ...........................\n",
      "[CV]  algorithm=kd_tree, n_neighbors=5, p=3, score=1.000, total=   0.0s\n",
      "[CV] algorithm=kd_tree, n_neighbors=5, p=3 ...........................\n",
      "[CV]  algorithm=kd_tree, n_neighbors=5, p=3, score=0.938, total=   0.0s\n",
      "[CV] algorithm=kd_tree, n_neighbors=5, p=3 ...........................\n"
     ]
    },
    {
     "name": "stdout",
     "output_type": "stream",
     "text": [
      "[CV]  algorithm=kd_tree, n_neighbors=5, p=3, score=0.812, total=   0.0s\n",
      "[CV] algorithm=kd_tree, n_neighbors=5, p=3 ...........................\n",
      "[CV]  algorithm=kd_tree, n_neighbors=5, p=3, score=0.812, total=   0.0s\n",
      "[CV] algorithm=kd_tree, n_neighbors=5, p=3 ...........................\n",
      "[CV]  algorithm=kd_tree, n_neighbors=5, p=3, score=0.875, total=   0.0s\n",
      "[CV] algorithm=kd_tree, n_neighbors=5, p=3 ...........................\n",
      "[CV]  algorithm=kd_tree, n_neighbors=5, p=3, score=1.000, total=   0.0s\n",
      "[CV] algorithm=kd_tree, n_neighbors=5, p=3 ...........................\n",
      "[CV]  algorithm=kd_tree, n_neighbors=5, p=3, score=0.812, total=   0.0s\n",
      "[CV] algorithm=kd_tree, n_neighbors=5, p=3 ...........................\n",
      "[CV]  algorithm=kd_tree, n_neighbors=5, p=3, score=0.786, total=   0.0s\n",
      "[CV] algorithm=kd_tree, n_neighbors=5, p=3 ...........................\n",
      "[CV]  algorithm=kd_tree, n_neighbors=5, p=3, score=1.000, total=   0.0s\n",
      "[CV] algorithm=kd_tree, n_neighbors=9, p=1 ...........................\n",
      "[CV]  algorithm=kd_tree, n_neighbors=9, p=1, score=0.938, total=   0.0s\n",
      "[CV] algorithm=kd_tree, n_neighbors=9, p=1 ...........................\n",
      "[CV]  algorithm=kd_tree, n_neighbors=9, p=1, score=0.812, total=   0.0s\n",
      "[CV] algorithm=kd_tree, n_neighbors=9, p=1 ...........................\n",
      "[CV]  algorithm=kd_tree, n_neighbors=9, p=1, score=0.938, total=   0.0s\n",
      "[CV] algorithm=kd_tree, n_neighbors=9, p=1 ...........................\n",
      "[CV]  algorithm=kd_tree, n_neighbors=9, p=1, score=0.938, total=   0.0s\n",
      "[CV] algorithm=kd_tree, n_neighbors=9, p=1 ...........................\n",
      "[CV]  algorithm=kd_tree, n_neighbors=9, p=1, score=0.938, total=   0.0s\n",
      "[CV] algorithm=kd_tree, n_neighbors=9, p=1 ...........................\n",
      "[CV]  algorithm=kd_tree, n_neighbors=9, p=1, score=0.875, total=   0.0s\n",
      "[CV] algorithm=kd_tree, n_neighbors=9, p=1 ...........................\n",
      "[CV]  algorithm=kd_tree, n_neighbors=9, p=1, score=1.000, total=   0.0s\n",
      "[CV] algorithm=kd_tree, n_neighbors=9, p=1 ...........................\n",
      "[CV]  algorithm=kd_tree, n_neighbors=9, p=1, score=0.688, total=   0.0s\n",
      "[CV] algorithm=kd_tree, n_neighbors=9, p=1 ...........................\n",
      "[CV]  algorithm=kd_tree, n_neighbors=9, p=1, score=0.786, total=   0.0s\n",
      "[CV] algorithm=kd_tree, n_neighbors=9, p=1 ...........................\n",
      "[CV]  algorithm=kd_tree, n_neighbors=9, p=1, score=0.929, total=   0.0s\n",
      "[CV] algorithm=kd_tree, n_neighbors=9, p=2 ...........................\n",
      "[CV]  algorithm=kd_tree, n_neighbors=9, p=2, score=0.875, total=   0.0s\n",
      "[CV] algorithm=kd_tree, n_neighbors=9, p=2 ...........................\n",
      "[CV]  algorithm=kd_tree, n_neighbors=9, p=2, score=0.812, total=   0.0s\n",
      "[CV] algorithm=kd_tree, n_neighbors=9, p=2 ...........................\n",
      "[CV]  algorithm=kd_tree, n_neighbors=9, p=2, score=0.938, total=   0.0s\n",
      "[CV] algorithm=kd_tree, n_neighbors=9, p=2 ...........................\n",
      "[CV]  algorithm=kd_tree, n_neighbors=9, p=2, score=0.938, total=   0.0s\n",
      "[CV] algorithm=kd_tree, n_neighbors=9, p=2 ...........................\n",
      "[CV]  algorithm=kd_tree, n_neighbors=9, p=2, score=0.938, total=   0.0s\n",
      "[CV] algorithm=kd_tree, n_neighbors=9, p=2 ...........................\n",
      "[CV]  algorithm=kd_tree, n_neighbors=9, p=2, score=0.875, total=   0.0s\n",
      "[CV] algorithm=kd_tree, n_neighbors=9, p=2 ...........................\n",
      "[CV]  algorithm=kd_tree, n_neighbors=9, p=2, score=1.000, total=   0.0s\n",
      "[CV] algorithm=kd_tree, n_neighbors=9, p=2 ...........................\n",
      "[CV]  algorithm=kd_tree, n_neighbors=9, p=2, score=0.688, total=   0.0s\n",
      "[CV] algorithm=kd_tree, n_neighbors=9, p=2 ...........................\n",
      "[CV]  algorithm=kd_tree, n_neighbors=9, p=2, score=0.786, total=   0.0s\n",
      "[CV] algorithm=kd_tree, n_neighbors=9, p=2 ...........................\n",
      "[CV]  algorithm=kd_tree, n_neighbors=9, p=2, score=1.000, total=   0.0s\n",
      "[CV] algorithm=kd_tree, n_neighbors=9, p=3 ...........................\n",
      "[CV]  algorithm=kd_tree, n_neighbors=9, p=3, score=0.938, total=   0.0s\n",
      "[CV] algorithm=kd_tree, n_neighbors=9, p=3 ...........................\n",
      "[CV]  algorithm=kd_tree, n_neighbors=9, p=3, score=0.875, total=   0.0s\n",
      "[CV] algorithm=kd_tree, n_neighbors=9, p=3 ...........................\n",
      "[CV]  algorithm=kd_tree, n_neighbors=9, p=3, score=0.938, total=   0.0s\n",
      "[CV] algorithm=kd_tree, n_neighbors=9, p=3 ...........................\n",
      "[CV]  algorithm=kd_tree, n_neighbors=9, p=3, score=0.938, total=   0.0s\n",
      "[CV] algorithm=kd_tree, n_neighbors=9, p=3 ...........................\n",
      "[CV]  algorithm=kd_tree, n_neighbors=9, p=3, score=0.875, total=   0.0s\n",
      "[CV] algorithm=kd_tree, n_neighbors=9, p=3 ...........................\n",
      "[CV]  algorithm=kd_tree, n_neighbors=9, p=3, score=0.875, total=   0.0s\n",
      "[CV] algorithm=kd_tree, n_neighbors=9, p=3 ...........................\n",
      "[CV]  algorithm=kd_tree, n_neighbors=9, p=3, score=1.000, total=   0.0s\n",
      "[CV] algorithm=kd_tree, n_neighbors=9, p=3 ...........................\n",
      "[CV]  algorithm=kd_tree, n_neighbors=9, p=3, score=0.750, total=   0.0s\n",
      "[CV] algorithm=kd_tree, n_neighbors=9, p=3 ...........................\n",
      "[CV]  algorithm=kd_tree, n_neighbors=9, p=3, score=0.857, total=   0.0s\n",
      "[CV] algorithm=kd_tree, n_neighbors=9, p=3 ...........................\n",
      "[CV]  algorithm=kd_tree, n_neighbors=9, p=3, score=0.929, total=   0.0s\n",
      "[CV] algorithm=kd_tree, n_neighbors=15, p=1 ..........................\n",
      "[CV]  algorithm=kd_tree, n_neighbors=15, p=1, score=0.875, total=   0.0s\n",
      "[CV] algorithm=kd_tree, n_neighbors=15, p=1 ..........................\n",
      "[CV]  algorithm=kd_tree, n_neighbors=15, p=1, score=0.875, total=   0.0s\n",
      "[CV] algorithm=kd_tree, n_neighbors=15, p=1 ..........................\n",
      "[CV]  algorithm=kd_tree, n_neighbors=15, p=1, score=0.938, total=   0.0s\n",
      "[CV] algorithm=kd_tree, n_neighbors=15, p=1 ..........................\n",
      "[CV]  algorithm=kd_tree, n_neighbors=15, p=1, score=0.938, total=   0.0s\n",
      "[CV] algorithm=kd_tree, n_neighbors=15, p=1 ..........................\n",
      "[CV]  algorithm=kd_tree, n_neighbors=15, p=1, score=0.812, total=   0.0s\n",
      "[CV] algorithm=kd_tree, n_neighbors=15, p=1 ..........................\n",
      "[CV]  algorithm=kd_tree, n_neighbors=15, p=1, score=0.812, total=   0.0s\n",
      "[CV] algorithm=kd_tree, n_neighbors=15, p=1 ..........................\n",
      "[CV]  algorithm=kd_tree, n_neighbors=15, p=1, score=1.000, total=   0.0s\n",
      "[CV] algorithm=kd_tree, n_neighbors=15, p=1 ..........................\n",
      "[CV]  algorithm=kd_tree, n_neighbors=15, p=1, score=0.812, total=   0.0s\n",
      "[CV] algorithm=kd_tree, n_neighbors=15, p=1 ..........................\n",
      "[CV]  algorithm=kd_tree, n_neighbors=15, p=1, score=0.714, total=   0.0s\n",
      "[CV] algorithm=kd_tree, n_neighbors=15, p=1 ..........................\n",
      "[CV]  algorithm=kd_tree, n_neighbors=15, p=1, score=0.857, total=   0.0s\n",
      "[CV] algorithm=kd_tree, n_neighbors=15, p=2 ..........................\n",
      "[CV]  algorithm=kd_tree, n_neighbors=15, p=2, score=0.812, total=   0.0s\n",
      "[CV] algorithm=kd_tree, n_neighbors=15, p=2 ..........................\n",
      "[CV]  algorithm=kd_tree, n_neighbors=15, p=2, score=0.812, total=   0.0s\n",
      "[CV] algorithm=kd_tree, n_neighbors=15, p=2 ..........................\n",
      "[CV]  algorithm=kd_tree, n_neighbors=15, p=2, score=0.938, total=   0.0s\n",
      "[CV] algorithm=kd_tree, n_neighbors=15, p=2 ..........................\n",
      "[CV]  algorithm=kd_tree, n_neighbors=15, p=2, score=0.812, total=   0.0s\n",
      "[CV] algorithm=kd_tree, n_neighbors=15, p=2 ..........................\n",
      "[CV]  algorithm=kd_tree, n_neighbors=15, p=2, score=0.875, total=   0.0s\n",
      "[CV] algorithm=kd_tree, n_neighbors=15, p=2 ..........................\n",
      "[CV]  algorithm=kd_tree, n_neighbors=15, p=2, score=0.812, total=   0.0s\n",
      "[CV] algorithm=kd_tree, n_neighbors=15, p=2 ..........................\n",
      "[CV]  algorithm=kd_tree, n_neighbors=15, p=2, score=0.938, total=   0.0s\n",
      "[CV] algorithm=kd_tree, n_neighbors=15, p=2 ..........................\n",
      "[CV]  algorithm=kd_tree, n_neighbors=15, p=2, score=0.688, total=   0.0s\n",
      "[CV] algorithm=kd_tree, n_neighbors=15, p=2 ..........................\n",
      "[CV]  algorithm=kd_tree, n_neighbors=15, p=2, score=0.857, total=   0.0s\n",
      "[CV] algorithm=kd_tree, n_neighbors=15, p=2 ..........................\n",
      "[CV]  algorithm=kd_tree, n_neighbors=15, p=2, score=0.857, total=   0.0s\n",
      "[CV] algorithm=kd_tree, n_neighbors=15, p=3 ..........................\n",
      "[CV]  algorithm=kd_tree, n_neighbors=15, p=3, score=0.750, total=   0.0s\n",
      "[CV] algorithm=kd_tree, n_neighbors=15, p=3 ..........................\n",
      "[CV]  algorithm=kd_tree, n_neighbors=15, p=3, score=0.812, total=   0.0s\n",
      "[CV] algorithm=kd_tree, n_neighbors=15, p=3 ..........................\n",
      "[CV]  algorithm=kd_tree, n_neighbors=15, p=3, score=0.938, total=   0.0s\n",
      "[CV] algorithm=kd_tree, n_neighbors=15, p=3 ..........................\n",
      "[CV]  algorithm=kd_tree, n_neighbors=15, p=3, score=0.688, total=   0.0s\n",
      "[CV] algorithm=kd_tree, n_neighbors=15, p=3 ..........................\n",
      "[CV]  algorithm=kd_tree, n_neighbors=15, p=3, score=0.812, total=   0.0s\n",
      "[CV] algorithm=kd_tree, n_neighbors=15, p=3 ..........................\n",
      "[CV]  algorithm=kd_tree, n_neighbors=15, p=3, score=0.812, total=   0.0s\n",
      "[CV] algorithm=kd_tree, n_neighbors=15, p=3 ..........................\n"
     ]
    },
    {
     "name": "stdout",
     "output_type": "stream",
     "text": [
      "[CV]  algorithm=kd_tree, n_neighbors=15, p=3, score=0.875, total=   0.0s\n",
      "[CV] algorithm=kd_tree, n_neighbors=15, p=3 ..........................\n",
      "[CV]  algorithm=kd_tree, n_neighbors=15, p=3, score=0.688, total=   0.0s\n",
      "[CV] algorithm=kd_tree, n_neighbors=15, p=3 ..........................\n",
      "[CV]  algorithm=kd_tree, n_neighbors=15, p=3, score=0.857, total=   0.0s\n",
      "[CV] algorithm=kd_tree, n_neighbors=15, p=3 ..........................\n",
      "[CV]  algorithm=kd_tree, n_neighbors=15, p=3, score=0.857, total=   0.0s\n",
      "[CV] algorithm=brute, n_neighbors=3, p=1 .............................\n",
      "[CV] . algorithm=brute, n_neighbors=3, p=1, score=1.000, total=   0.0s\n",
      "[CV] algorithm=brute, n_neighbors=3, p=1 .............................\n",
      "[CV] . algorithm=brute, n_neighbors=3, p=1, score=0.938, total=   0.0s\n",
      "[CV] algorithm=brute, n_neighbors=3, p=1 .............................\n",
      "[CV] . algorithm=brute, n_neighbors=3, p=1, score=0.938, total=   0.0s\n",
      "[CV] algorithm=brute, n_neighbors=3, p=1 .............................\n",
      "[CV] . algorithm=brute, n_neighbors=3, p=1, score=0.938, total=   0.0s\n",
      "[CV] algorithm=brute, n_neighbors=3, p=1 .............................\n",
      "[CV] . algorithm=brute, n_neighbors=3, p=1, score=1.000, total=   0.0s\n",
      "[CV] algorithm=brute, n_neighbors=3, p=1 .............................\n",
      "[CV] . algorithm=brute, n_neighbors=3, p=1, score=0.875, total=   0.0s\n",
      "[CV] algorithm=brute, n_neighbors=3, p=1 .............................\n",
      "[CV] . algorithm=brute, n_neighbors=3, p=1, score=1.000, total=   0.0s\n",
      "[CV] algorithm=brute, n_neighbors=3, p=1 .............................\n",
      "[CV] . algorithm=brute, n_neighbors=3, p=1, score=0.938, total=   0.0s\n",
      "[CV] algorithm=brute, n_neighbors=3, p=1 .............................\n",
      "[CV] . algorithm=brute, n_neighbors=3, p=1, score=0.929, total=   0.0s\n",
      "[CV] algorithm=brute, n_neighbors=3, p=1 .............................\n",
      "[CV] . algorithm=brute, n_neighbors=3, p=1, score=1.000, total=   0.0s\n",
      "[CV] algorithm=brute, n_neighbors=3, p=2 .............................\n",
      "[CV] . algorithm=brute, n_neighbors=3, p=2, score=0.938, total=   0.0s\n",
      "[CV] algorithm=brute, n_neighbors=3, p=2 .............................\n",
      "[CV] . algorithm=brute, n_neighbors=3, p=2, score=1.000, total=   0.0s\n",
      "[CV] algorithm=brute, n_neighbors=3, p=2 .............................\n",
      "[CV] . algorithm=brute, n_neighbors=3, p=2, score=0.938, total=   0.0s\n",
      "[CV] algorithm=brute, n_neighbors=3, p=2 .............................\n",
      "[CV] . algorithm=brute, n_neighbors=3, p=2, score=0.938, total=   0.0s\n",
      "[CV] algorithm=brute, n_neighbors=3, p=2 .............................\n",
      "[CV] . algorithm=brute, n_neighbors=3, p=2, score=1.000, total=   0.0s\n",
      "[CV] algorithm=brute, n_neighbors=3, p=2 .............................\n",
      "[CV] . algorithm=brute, n_neighbors=3, p=2, score=0.812, total=   0.0s\n",
      "[CV] algorithm=brute, n_neighbors=3, p=2 .............................\n",
      "[CV] . algorithm=brute, n_neighbors=3, p=2, score=1.000, total=   0.0s\n",
      "[CV] algorithm=brute, n_neighbors=3, p=2 .............................\n",
      "[CV] . algorithm=brute, n_neighbors=3, p=2, score=0.875, total=   0.0s\n",
      "[CV] algorithm=brute, n_neighbors=3, p=2 .............................\n",
      "[CV] . algorithm=brute, n_neighbors=3, p=2, score=0.786, total=   0.0s\n",
      "[CV] algorithm=brute, n_neighbors=3, p=2 .............................\n",
      "[CV] . algorithm=brute, n_neighbors=3, p=2, score=1.000, total=   0.0s\n",
      "[CV] algorithm=brute, n_neighbors=3, p=3 .............................\n",
      "[CV] . algorithm=brute, n_neighbors=3, p=3, score=0.875, total=   0.0s\n",
      "[CV] algorithm=brute, n_neighbors=3, p=3 .............................\n",
      "[CV] . algorithm=brute, n_neighbors=3, p=3, score=0.938, total=   0.0s\n",
      "[CV] algorithm=brute, n_neighbors=3, p=3 .............................\n",
      "[CV] . algorithm=brute, n_neighbors=3, p=3, score=0.938, total=   0.0s\n",
      "[CV] algorithm=brute, n_neighbors=3, p=3 .............................\n",
      "[CV] . algorithm=brute, n_neighbors=3, p=3, score=0.938, total=   0.0s\n",
      "[CV] algorithm=brute, n_neighbors=3, p=3 .............................\n",
      "[CV] . algorithm=brute, n_neighbors=3, p=3, score=0.875, total=   0.0s\n",
      "[CV] algorithm=brute, n_neighbors=3, p=3 .............................\n",
      "[CV] . algorithm=brute, n_neighbors=3, p=3, score=0.875, total=   0.0s\n",
      "[CV] algorithm=brute, n_neighbors=3, p=3 .............................\n",
      "[CV] . algorithm=brute, n_neighbors=3, p=3, score=1.000, total=   0.0s\n",
      "[CV] algorithm=brute, n_neighbors=3, p=3 .............................\n",
      "[CV] . algorithm=brute, n_neighbors=3, p=3, score=0.875, total=   0.0s\n",
      "[CV] algorithm=brute, n_neighbors=3, p=3 .............................\n",
      "[CV] . algorithm=brute, n_neighbors=3, p=3, score=0.786, total=   0.0s\n",
      "[CV] algorithm=brute, n_neighbors=3, p=3 .............................\n",
      "[CV] . algorithm=brute, n_neighbors=3, p=3, score=1.000, total=   0.0s\n",
      "[CV] algorithm=brute, n_neighbors=5, p=1 .............................\n",
      "[CV] . algorithm=brute, n_neighbors=5, p=1, score=1.000, total=   0.0s\n",
      "[CV] algorithm=brute, n_neighbors=5, p=1 .............................\n",
      "[CV] . algorithm=brute, n_neighbors=5, p=1, score=1.000, total=   0.0s\n",
      "[CV] algorithm=brute, n_neighbors=5, p=1 .............................\n",
      "[CV] . algorithm=brute, n_neighbors=5, p=1, score=0.938, total=   0.0s\n",
      "[CV] algorithm=brute, n_neighbors=5, p=1 .............................\n",
      "[CV] . algorithm=brute, n_neighbors=5, p=1, score=0.938, total=   0.0s\n",
      "[CV] algorithm=brute, n_neighbors=5, p=1 .............................\n",
      "[CV] . algorithm=brute, n_neighbors=5, p=1, score=1.000, total=   0.0s\n",
      "[CV] algorithm=brute, n_neighbors=5, p=1 .............................\n",
      "[CV] . algorithm=brute, n_neighbors=5, p=1, score=0.875, total=   0.0s\n",
      "[CV] algorithm=brute, n_neighbors=5, p=1 .............................\n",
      "[CV] . algorithm=brute, n_neighbors=5, p=1, score=1.000, total=   0.0s\n",
      "[CV] algorithm=brute, n_neighbors=5, p=1 .............................\n",
      "[CV] . algorithm=brute, n_neighbors=5, p=1, score=0.812, total=   0.0s\n",
      "[CV] algorithm=brute, n_neighbors=5, p=1 .............................\n",
      "[CV] . algorithm=brute, n_neighbors=5, p=1, score=0.857, total=   0.0s\n",
      "[CV] algorithm=brute, n_neighbors=5, p=1 .............................\n",
      "[CV] . algorithm=brute, n_neighbors=5, p=1, score=0.929, total=   0.0s\n",
      "[CV] algorithm=brute, n_neighbors=5, p=2 .............................\n",
      "[CV] . algorithm=brute, n_neighbors=5, p=2, score=0.938, total=   0.0s\n",
      "[CV] algorithm=brute, n_neighbors=5, p=2 .............................\n",
      "[CV] . algorithm=brute, n_neighbors=5, p=2, score=1.000, total=   0.0s\n",
      "[CV] algorithm=brute, n_neighbors=5, p=2 .............................\n",
      "[CV] . algorithm=brute, n_neighbors=5, p=2, score=0.875, total=   0.0s\n",
      "[CV] algorithm=brute, n_neighbors=5, p=2 .............................\n",
      "[CV] . algorithm=brute, n_neighbors=5, p=2, score=0.938, total=   0.0s\n",
      "[CV] algorithm=brute, n_neighbors=5, p=2 .............................\n",
      "[CV] . algorithm=brute, n_neighbors=5, p=2, score=0.875, total=   0.0s\n",
      "[CV] algorithm=brute, n_neighbors=5, p=2 .............................\n",
      "[CV] . algorithm=brute, n_neighbors=5, p=2, score=0.812, total=   0.0s\n",
      "[CV] algorithm=brute, n_neighbors=5, p=2 .............................\n",
      "[CV] . algorithm=brute, n_neighbors=5, p=2, score=1.000, total=   0.0s\n",
      "[CV] algorithm=brute, n_neighbors=5, p=2 .............................\n",
      "[CV] . algorithm=brute, n_neighbors=5, p=2, score=0.875, total=   0.0s\n",
      "[CV] algorithm=brute, n_neighbors=5, p=2 .............................\n",
      "[CV] . algorithm=brute, n_neighbors=5, p=2, score=0.929, total=   0.0s\n",
      "[CV] algorithm=brute, n_neighbors=5, p=2 .............................\n",
      "[CV] . algorithm=brute, n_neighbors=5, p=2, score=0.929, total=   0.0s\n",
      "[CV] algorithm=brute, n_neighbors=5, p=3 .............................\n",
      "[CV] . algorithm=brute, n_neighbors=5, p=3, score=0.812, total=   0.0s\n",
      "[CV] algorithm=brute, n_neighbors=5, p=3 .............................\n",
      "[CV] . algorithm=brute, n_neighbors=5, p=3, score=1.000, total=   0.0s\n",
      "[CV] algorithm=brute, n_neighbors=5, p=3 .............................\n",
      "[CV] . algorithm=brute, n_neighbors=5, p=3, score=0.938, total=   0.0s\n",
      "[CV] algorithm=brute, n_neighbors=5, p=3 .............................\n",
      "[CV] . algorithm=brute, n_neighbors=5, p=3, score=0.812, total=   0.0s\n",
      "[CV] algorithm=brute, n_neighbors=5, p=3 .............................\n",
      "[CV] . algorithm=brute, n_neighbors=5, p=3, score=0.812, total=   0.0s\n",
      "[CV] algorithm=brute, n_neighbors=5, p=3 .............................\n"
     ]
    },
    {
     "name": "stdout",
     "output_type": "stream",
     "text": [
      "[CV] . algorithm=brute, n_neighbors=5, p=3, score=0.875, total=   0.0s\n",
      "[CV] algorithm=brute, n_neighbors=5, p=3 .............................\n",
      "[CV] . algorithm=brute, n_neighbors=5, p=3, score=1.000, total=   0.0s\n",
      "[CV] algorithm=brute, n_neighbors=5, p=3 .............................\n",
      "[CV] . algorithm=brute, n_neighbors=5, p=3, score=0.812, total=   0.0s\n",
      "[CV] algorithm=brute, n_neighbors=5, p=3 .............................\n",
      "[CV] . algorithm=brute, n_neighbors=5, p=3, score=0.786, total=   0.0s\n",
      "[CV] algorithm=brute, n_neighbors=5, p=3 .............................\n",
      "[CV] . algorithm=brute, n_neighbors=5, p=3, score=1.000, total=   0.0s\n",
      "[CV] algorithm=brute, n_neighbors=9, p=1 .............................\n",
      "[CV] . algorithm=brute, n_neighbors=9, p=1, score=0.938, total=   0.0s\n",
      "[CV] algorithm=brute, n_neighbors=9, p=1 .............................\n",
      "[CV] . algorithm=brute, n_neighbors=9, p=1, score=0.812, total=   0.0s\n",
      "[CV] algorithm=brute, n_neighbors=9, p=1 .............................\n",
      "[CV] . algorithm=brute, n_neighbors=9, p=1, score=0.938, total=   0.0s\n",
      "[CV] algorithm=brute, n_neighbors=9, p=1 .............................\n",
      "[CV] . algorithm=brute, n_neighbors=9, p=1, score=0.938, total=   0.0s\n",
      "[CV] algorithm=brute, n_neighbors=9, p=1 .............................\n",
      "[CV] . algorithm=brute, n_neighbors=9, p=1, score=0.938, total=   0.0s\n",
      "[CV] algorithm=brute, n_neighbors=9, p=1 .............................\n",
      "[CV] . algorithm=brute, n_neighbors=9, p=1, score=0.875, total=   0.0s\n",
      "[CV] algorithm=brute, n_neighbors=9, p=1 .............................\n",
      "[CV] . algorithm=brute, n_neighbors=9, p=1, score=1.000, total=   0.0s\n",
      "[CV] algorithm=brute, n_neighbors=9, p=1 .............................\n",
      "[CV] . algorithm=brute, n_neighbors=9, p=1, score=0.688, total=   0.0s\n",
      "[CV] algorithm=brute, n_neighbors=9, p=1 .............................\n",
      "[CV] . algorithm=brute, n_neighbors=9, p=1, score=0.786, total=   0.0s\n",
      "[CV] algorithm=brute, n_neighbors=9, p=1 .............................\n",
      "[CV] . algorithm=brute, n_neighbors=9, p=1, score=0.929, total=   0.0s\n",
      "[CV] algorithm=brute, n_neighbors=9, p=2 .............................\n",
      "[CV] . algorithm=brute, n_neighbors=9, p=2, score=0.875, total=   0.0s\n",
      "[CV] algorithm=brute, n_neighbors=9, p=2 .............................\n",
      "[CV] . algorithm=brute, n_neighbors=9, p=2, score=0.812, total=   0.0s\n",
      "[CV] algorithm=brute, n_neighbors=9, p=2 .............................\n",
      "[CV] . algorithm=brute, n_neighbors=9, p=2, score=0.938, total=   0.0s\n",
      "[CV] algorithm=brute, n_neighbors=9, p=2 .............................\n",
      "[CV] . algorithm=brute, n_neighbors=9, p=2, score=0.938, total=   0.0s\n",
      "[CV] algorithm=brute, n_neighbors=9, p=2 .............................\n",
      "[CV] . algorithm=brute, n_neighbors=9, p=2, score=0.938, total=   0.0s\n",
      "[CV] algorithm=brute, n_neighbors=9, p=2 .............................\n",
      "[CV] . algorithm=brute, n_neighbors=9, p=2, score=0.875, total=   0.0s\n",
      "[CV] algorithm=brute, n_neighbors=9, p=2 .............................\n",
      "[CV] . algorithm=brute, n_neighbors=9, p=2, score=1.000, total=   0.0s\n",
      "[CV] algorithm=brute, n_neighbors=9, p=2 .............................\n",
      "[CV] . algorithm=brute, n_neighbors=9, p=2, score=0.688, total=   0.0s\n",
      "[CV] algorithm=brute, n_neighbors=9, p=2 .............................\n",
      "[CV] . algorithm=brute, n_neighbors=9, p=2, score=0.786, total=   0.0s\n",
      "[CV] algorithm=brute, n_neighbors=9, p=2 .............................\n",
      "[CV] . algorithm=brute, n_neighbors=9, p=2, score=1.000, total=   0.0s\n",
      "[CV] algorithm=brute, n_neighbors=9, p=3 .............................\n",
      "[CV] . algorithm=brute, n_neighbors=9, p=3, score=0.938, total=   0.0s\n",
      "[CV] algorithm=brute, n_neighbors=9, p=3 .............................\n",
      "[CV] . algorithm=brute, n_neighbors=9, p=3, score=0.875, total=   0.0s\n",
      "[CV] algorithm=brute, n_neighbors=9, p=3 .............................\n",
      "[CV] . algorithm=brute, n_neighbors=9, p=3, score=0.938, total=   0.0s\n",
      "[CV] algorithm=brute, n_neighbors=9, p=3 .............................\n",
      "[CV] . algorithm=brute, n_neighbors=9, p=3, score=0.938, total=   0.0s\n",
      "[CV] algorithm=brute, n_neighbors=9, p=3 .............................\n",
      "[CV] . algorithm=brute, n_neighbors=9, p=3, score=0.875, total=   0.0s\n",
      "[CV] algorithm=brute, n_neighbors=9, p=3 .............................\n",
      "[CV] . algorithm=brute, n_neighbors=9, p=3, score=0.875, total=   0.0s\n",
      "[CV] algorithm=brute, n_neighbors=9, p=3 .............................\n",
      "[CV] . algorithm=brute, n_neighbors=9, p=3, score=1.000, total=   0.0s\n",
      "[CV] algorithm=brute, n_neighbors=9, p=3 .............................\n",
      "[CV] . algorithm=brute, n_neighbors=9, p=3, score=0.750, total=   0.0s\n",
      "[CV] algorithm=brute, n_neighbors=9, p=3 .............................\n",
      "[CV] . algorithm=brute, n_neighbors=9, p=3, score=0.857, total=   0.0s\n",
      "[CV] algorithm=brute, n_neighbors=9, p=3 .............................\n",
      "[CV] . algorithm=brute, n_neighbors=9, p=3, score=0.929, total=   0.0s\n",
      "[CV] algorithm=brute, n_neighbors=15, p=1 ............................\n",
      "[CV]  algorithm=brute, n_neighbors=15, p=1, score=0.875, total=   0.0s\n",
      "[CV] algorithm=brute, n_neighbors=15, p=1 ............................\n",
      "[CV]  algorithm=brute, n_neighbors=15, p=1, score=0.875, total=   0.0s\n",
      "[CV] algorithm=brute, n_neighbors=15, p=1 ............................\n",
      "[CV]  algorithm=brute, n_neighbors=15, p=1, score=0.938, total=   0.0s\n",
      "[CV] algorithm=brute, n_neighbors=15, p=1 ............................\n",
      "[CV]  algorithm=brute, n_neighbors=15, p=1, score=0.938, total=   0.0s\n",
      "[CV] algorithm=brute, n_neighbors=15, p=1 ............................\n",
      "[CV]  algorithm=brute, n_neighbors=15, p=1, score=0.812, total=   0.0s\n",
      "[CV] algorithm=brute, n_neighbors=15, p=1 ............................\n",
      "[CV]  algorithm=brute, n_neighbors=15, p=1, score=0.812, total=   0.0s\n",
      "[CV] algorithm=brute, n_neighbors=15, p=1 ............................\n",
      "[CV]  algorithm=brute, n_neighbors=15, p=1, score=1.000, total=   0.0s\n",
      "[CV] algorithm=brute, n_neighbors=15, p=1 ............................\n",
      "[CV]  algorithm=brute, n_neighbors=15, p=1, score=0.812, total=   0.0s\n",
      "[CV] algorithm=brute, n_neighbors=15, p=1 ............................\n",
      "[CV]  algorithm=brute, n_neighbors=15, p=1, score=0.714, total=   0.0s\n",
      "[CV] algorithm=brute, n_neighbors=15, p=1 ............................\n",
      "[CV]  algorithm=brute, n_neighbors=15, p=1, score=0.857, total=   0.0s\n",
      "[CV] algorithm=brute, n_neighbors=15, p=2 ............................\n",
      "[CV]  algorithm=brute, n_neighbors=15, p=2, score=0.812, total=   0.0s\n",
      "[CV] algorithm=brute, n_neighbors=15, p=2 ............................\n",
      "[CV]  algorithm=brute, n_neighbors=15, p=2, score=0.812, total=   0.0s\n",
      "[CV] algorithm=brute, n_neighbors=15, p=2 ............................\n",
      "[CV]  algorithm=brute, n_neighbors=15, p=2, score=0.938, total=   0.0s\n",
      "[CV] algorithm=brute, n_neighbors=15, p=2 ............................\n",
      "[CV]  algorithm=brute, n_neighbors=15, p=2, score=0.812, total=   0.0s\n",
      "[CV] algorithm=brute, n_neighbors=15, p=2 ............................\n",
      "[CV]  algorithm=brute, n_neighbors=15, p=2, score=0.875, total=   0.0s\n",
      "[CV] algorithm=brute, n_neighbors=15, p=2 ............................\n",
      "[CV]  algorithm=brute, n_neighbors=15, p=2, score=0.812, total=   0.0s\n",
      "[CV] algorithm=brute, n_neighbors=15, p=2 ............................\n",
      "[CV]  algorithm=brute, n_neighbors=15, p=2, score=0.938, total=   0.0s\n",
      "[CV] algorithm=brute, n_neighbors=15, p=2 ............................\n",
      "[CV]  algorithm=brute, n_neighbors=15, p=2, score=0.688, total=   0.0s\n",
      "[CV] algorithm=brute, n_neighbors=15, p=2 ............................\n",
      "[CV]  algorithm=brute, n_neighbors=15, p=2, score=0.857, total=   0.0s\n",
      "[CV] algorithm=brute, n_neighbors=15, p=2 ............................\n",
      "[CV]  algorithm=brute, n_neighbors=15, p=2, score=0.857, total=   0.0s\n",
      "[CV] algorithm=brute, n_neighbors=15, p=3 ............................\n",
      "[CV]  algorithm=brute, n_neighbors=15, p=3, score=0.750, total=   0.0s\n",
      "[CV] algorithm=brute, n_neighbors=15, p=3 ............................\n",
      "[CV]  algorithm=brute, n_neighbors=15, p=3, score=0.812, total=   0.0s\n",
      "[CV] algorithm=brute, n_neighbors=15, p=3 ............................\n",
      "[CV]  algorithm=brute, n_neighbors=15, p=3, score=0.938, total=   0.0s\n",
      "[CV] algorithm=brute, n_neighbors=15, p=3 ............................\n",
      "[CV]  algorithm=brute, n_neighbors=15, p=3, score=0.688, total=   0.0s\n",
      "[CV] algorithm=brute, n_neighbors=15, p=3 ............................\n",
      "[CV]  algorithm=brute, n_neighbors=15, p=3, score=0.812, total=   0.0s\n",
      "[CV] algorithm=brute, n_neighbors=15, p=3 ............................\n",
      "[CV]  algorithm=brute, n_neighbors=15, p=3, score=0.812, total=   0.0s\n",
      "[CV] algorithm=brute, n_neighbors=15, p=3 ............................\n",
      "[CV]  algorithm=brute, n_neighbors=15, p=3, score=0.875, total=   0.0s\n",
      "[CV] algorithm=brute, n_neighbors=15, p=3 ............................\n",
      "[CV]  algorithm=brute, n_neighbors=15, p=3, score=0.688, total=   0.0s\n",
      "[CV] algorithm=brute, n_neighbors=15, p=3 ............................\n",
      "[CV]  algorithm=brute, n_neighbors=15, p=3, score=0.857, total=   0.0s\n",
      "[CV] algorithm=brute, n_neighbors=15, p=3 ............................\n",
      "[CV]  algorithm=brute, n_neighbors=15, p=3, score=0.857, total=   0.0s\n"
     ]
    },
    {
     "name": "stderr",
     "output_type": "stream",
     "text": [
      "[Parallel(n_jobs=1)]: Done 480 out of 480 | elapsed:    2.6s finished\n",
      "C:\\Users\\anku\\Anaconda3\\lib\\site-packages\\sklearn\\model_selection\\_search.py:814: DeprecationWarning: The default of the `iid` parameter will change from True to False in version 0.22 and will be removed in 0.24. This will change numeric results when test-set sizes are unequal.\n",
      "  DeprecationWarning)\n"
     ]
    },
    {
     "data": {
      "text/plain": [
       "GridSearchCV(cv=10, error_score='raise-deprecating',\n",
       "             estimator=KNeighborsClassifier(algorithm='auto', leaf_size=30,\n",
       "                                            metric='minkowski',\n",
       "                                            metric_params=None, n_jobs=None,\n",
       "                                            n_neighbors=5, p=2,\n",
       "                                            weights='uniform'),\n",
       "             iid='warn', n_jobs=None,\n",
       "             param_grid={'algorithm': ['auto', 'ball_tree', 'kd_tree', 'brute'],\n",
       "                         'n_neighbors': [3, 5, 9, 15], 'p': [1, 2, 3]},\n",
       "             pre_dispatch='2*n_jobs', refit=True, return_train_score=False,\n",
       "             scoring=None, verbose=10)"
      ]
     },
     "execution_count": 85,
     "metadata": {},
     "output_type": "execute_result"
    }
   ],
   "source": [
    "gs.fit(scaledX_train, Y_train)"
   ]
  },
  {
   "cell_type": "code",
   "execution_count": 86,
   "metadata": {},
   "outputs": [
    {
     "name": "stdout",
     "output_type": "stream",
     "text": [
      "KNeighborsClassifier(algorithm='auto', leaf_size=30, metric='minkowski',\n",
      "                     metric_params=None, n_jobs=None, n_neighbors=3, p=1,\n",
      "                     weights='uniform')\n"
     ]
    }
   ],
   "source": [
    "print(gs.best_estimator_)"
   ]
  },
  {
   "cell_type": "code",
   "execution_count": 87,
   "metadata": {},
   "outputs": [
    {
     "data": {
      "text/plain": [
       "KNeighborsClassifier(algorithm='auto', leaf_size=30, metric='minkowski',\n",
       "                     metric_params=None, n_jobs=1, n_neighbors=3, p=1,\n",
       "                     weights='uniform')"
      ]
     },
     "execution_count": 87,
     "metadata": {},
     "output_type": "execute_result"
    }
   ],
   "source": [
    "new_knn = KNeighborsClassifier(algorithm='auto', leaf_size=30, metric='minkowski',\n",
    "           metric_params=None, n_jobs=1, n_neighbors=3, p=1,\n",
    "           weights='uniform')\n",
    "new_knn.fit(scaledX_train, Y_train)"
   ]
  },
  {
   "cell_type": "code",
   "execution_count": 88,
   "metadata": {},
   "outputs": [
    {
     "name": "stdout",
     "output_type": "stream",
     "text": [
      "KNN - fine tuned, got 92.3076923076923% accuracy on the test set.\n"
     ]
    }
   ],
   "source": [
    "print(\"KNN - fine tuned, got {}% accuracy on the test set.\".format(accuracy_score(Y_test, new_knn.predict(scaledX_test))*100))"
   ]
  },
  {
   "cell_type": "markdown",
   "metadata": {},
   "source": [
    "### Logistic Regression"
   ]
  },
  {
   "cell_type": "code",
   "execution_count": 89,
   "metadata": {},
   "outputs": [],
   "source": [
    "from sklearn.linear_model import LogisticRegression"
   ]
  },
  {
   "cell_type": "code",
   "execution_count": 90,
   "metadata": {},
   "outputs": [
    {
     "name": "stderr",
     "output_type": "stream",
     "text": [
      "C:\\Users\\anku\\Anaconda3\\lib\\site-packages\\sklearn\\linear_model\\logistic.py:432: FutureWarning: Default solver will be changed to 'lbfgs' in 0.22. Specify a solver to silence this warning.\n",
      "  FutureWarning)\n"
     ]
    },
    {
     "data": {
      "text/plain": [
       "LogisticRegression(C=1.0, class_weight=None, dual=False, fit_intercept=True,\n",
       "                   intercept_scaling=1, l1_ratio=None, max_iter=100,\n",
       "                   multi_class='warn', n_jobs=None, penalty='l2',\n",
       "                   random_state=None, solver='warn', tol=0.0001, verbose=0,\n",
       "                   warm_start=False)"
      ]
     },
     "execution_count": 90,
     "metadata": {},
     "output_type": "execute_result"
    }
   ],
   "source": [
    "lr = LogisticRegression()\n",
    "lr.fit(scaledX_train, Y_train)"
   ]
  },
  {
   "cell_type": "code",
   "execution_count": 91,
   "metadata": {},
   "outputs": [
    {
     "name": "stdout",
     "output_type": "stream",
     "text": [
      "Logistic regression - default, got 84.61538461538461% accuracy on the test set.\n"
     ]
    }
   ],
   "source": [
    "print(\"Logistic regression - default, got {}% accuracy on the test set.\".format(accuracy_score(Y_test, lr.predict(scaledX_test))*100))"
   ]
  },
  {
   "cell_type": "code",
   "execution_count": 92,
   "metadata": {},
   "outputs": [
    {
     "name": "stderr",
     "output_type": "stream",
     "text": [
      "C:\\Users\\anku\\Anaconda3\\lib\\site-packages\\sklearn\\linear_model\\logistic.py:432: FutureWarning: Default solver will be changed to 'lbfgs' in 0.22. Specify a solver to silence this warning.\n",
      "  FutureWarning)\n"
     ]
    },
    {
     "data": {
      "text/plain": [
       "LogisticRegression(C=1000, class_weight=None, dual=False, fit_intercept=True,\n",
       "                   intercept_scaling=1, l1_ratio=None, max_iter=100,\n",
       "                   multi_class='warn', n_jobs=None, penalty='l2',\n",
       "                   random_state=None, solver='warn', tol=0.0001, verbose=0,\n",
       "                   warm_start=False)"
      ]
     },
     "execution_count": 92,
     "metadata": {},
     "output_type": "execute_result"
    }
   ],
   "source": [
    "lr_tuned = LogisticRegression(C=1000, penalty='l2')\n",
    "lr_tuned.fit(scaledX_train, Y_train)"
   ]
  },
  {
   "cell_type": "code",
   "execution_count": 93,
   "metadata": {},
   "outputs": [
    {
     "name": "stdout",
     "output_type": "stream",
     "text": [
      "Logistic regression - tuned, got 76.92307692307693% accuracy on the test set.\n"
     ]
    }
   ],
   "source": [
    "print(\"Logistic regression - tuned, got {}% accuracy on the test set.\".format(accuracy_score(Y_test, lr_tuned.predict(scaledX_test))*100))\n"
   ]
  },
  {
   "cell_type": "markdown",
   "metadata": {},
   "source": [
    "# Tree and forest classifiers"
   ]
  },
  {
   "cell_type": "markdown",
   "metadata": {},
   "source": [
    "### Tree Classifier"
   ]
  },
  {
   "cell_type": "markdown",
   "metadata": {},
   "source": [
    "non scaled train and test sample are used for this so xtrain and y train will be used instead of scaledX_train"
   ]
  },
  {
   "cell_type": "code",
   "execution_count": 101,
   "metadata": {},
   "outputs": [],
   "source": [
    "from sklearn.tree import DecisionTreeClassifier\n",
    "from sklearn.metrics import roc_curve, auc\n",
    "from sklearn import metrics "
   ]
  },
  {
   "cell_type": "code",
   "execution_count": 102,
   "metadata": {},
   "outputs": [
    {
     "data": {
      "text/plain": [
       "DecisionTreeClassifier(class_weight=None, criterion='entropy', max_depth=5,\n",
       "                       max_features=None, max_leaf_nodes=None,\n",
       "                       min_impurity_decrease=0.0, min_impurity_split=None,\n",
       "                       min_samples_leaf=1, min_samples_split=2,\n",
       "                       min_weight_fraction_leaf=0.0, presort=False,\n",
       "                       random_state=0, splitter='best')"
      ]
     },
     "execution_count": 102,
     "metadata": {},
     "output_type": "execute_result"
    }
   ],
   "source": [
    "dt_model = DecisionTreeClassifier(criterion = 'entropy' ,random_state=0,max_depth=5)\n",
    "dt_model.fit(X_train, Y_train)"
   ]
  },
  {
   "cell_type": "code",
   "execution_count": 106,
   "metadata": {},
   "outputs": [
    {
     "name": "stdout",
     "output_type": "stream",
     "text": [
      "Decision tree classifier, got 84.61538461538461% accuracy on the test set.\n"
     ]
    }
   ],
   "source": [
    "print(\"Decision tree classifier, got {}% accuracy on the test set.\".format(accuracy_score(Y_test, dt_model.predict(X_test))*100))"
   ]
  },
  {
   "cell_type": "code",
   "execution_count": 108,
   "metadata": {},
   "outputs": [
    {
     "name": "stdout",
     "output_type": "stream",
     "text": [
      "              precision    recall  f1-score   support\n",
      "\n",
      "           0       0.62      1.00      0.77        10\n",
      "           1       1.00      0.79      0.88        29\n",
      "\n",
      "    accuracy                           0.85        39\n",
      "   macro avg       0.81      0.90      0.83        39\n",
      "weighted avg       0.90      0.85      0.86        39\n",
      "\n"
     ]
    }
   ],
   "source": [
    "cr=metrics.classification_report(Y_test,dt_model.predict(X_test))\n",
    "print(cr)"
   ]
  },
  {
   "cell_type": "code",
   "execution_count": 110,
   "metadata": {},
   "outputs": [
    {
     "name": "stdout",
     "output_type": "stream",
     "text": [
      "[[10  0]\n",
      " [ 6 23]]\n"
     ]
    }
   ],
   "source": [
    "from sklearn.metrics import confusion_matrix\n",
    "cm = confusion_matrix(Y_test,dt_model.predict(X_test))\n",
    "print(cm)"
   ]
  },
  {
   "cell_type": "code",
   "execution_count": 111,
   "metadata": {},
   "outputs": [
    {
     "data": {
      "text/plain": [
       "GridSearchCV(cv=3, error_score='raise-deprecating',\n",
       "             estimator=DecisionTreeClassifier(class_weight=None,\n",
       "                                              criterion='entropy', max_depth=5,\n",
       "                                              max_features=None,\n",
       "                                              max_leaf_nodes=None,\n",
       "                                              min_impurity_decrease=0.0,\n",
       "                                              min_impurity_split=None,\n",
       "                                              min_samples_leaf=1,\n",
       "                                              min_samples_split=2,\n",
       "                                              min_weight_fraction_leaf=0.0,\n",
       "                                              presort=False, random_state=0,\n",
       "                                              splitter='best'),\n",
       "             iid='warn', n_jobs=None,\n",
       "             param_grid={'max_depth': array([1, 2, 3, 4, 5, 6, 7, 8, 9]),\n",
       "                         'min_samples_leaf': array([1, 2, 3, 4, 5, 6, 7, 8, 9])},\n",
       "             pre_dispatch='2*n_jobs', refit=True, return_train_score=False,\n",
       "             scoring=None, verbose=0)"
      ]
     },
     "execution_count": 111,
     "metadata": {},
     "output_type": "execute_result"
    }
   ],
   "source": [
    "from sklearn.model_selection import GridSearchCV\n",
    "parameter={'max_depth':np.arange(1,10),'min_samples_leaf':np.arange(1,10)}\n",
    "GS=GridSearchCV(dt_model,parameter,cv=3)\n",
    "GS.fit(X,Y)"
   ]
  },
  {
   "cell_type": "code",
   "execution_count": 112,
   "metadata": {},
   "outputs": [
    {
     "data": {
      "text/plain": [
       "{'max_depth': 7, 'min_samples_leaf': 1}"
      ]
     },
     "execution_count": 112,
     "metadata": {},
     "output_type": "execute_result"
    }
   ],
   "source": [
    "GS.best_params_"
   ]
  },
  {
   "cell_type": "code",
   "execution_count": 113,
   "metadata": {},
   "outputs": [
    {
     "data": {
      "text/plain": [
       "DecisionTreeClassifier(class_weight=None, criterion='entropy', max_depth=4,\n",
       "                       max_features=None, max_leaf_nodes=None,\n",
       "                       min_impurity_decrease=0.0, min_impurity_split=None,\n",
       "                       min_samples_leaf=4, min_samples_split=2,\n",
       "                       min_weight_fraction_leaf=0.0, presort=False,\n",
       "                       random_state=None, splitter='best')"
      ]
     },
     "execution_count": 113,
     "metadata": {},
     "output_type": "execute_result"
    }
   ],
   "source": [
    "dt_model2 = DecisionTreeClassifier(criterion = 'entropy', max_depth = 4, min_samples_leaf=4)\n",
    "dt_model2.fit(X_train,Y_train)"
   ]
  },
  {
   "cell_type": "code",
   "execution_count": 114,
   "metadata": {},
   "outputs": [
    {
     "name": "stdout",
     "output_type": "stream",
     "text": [
      "Decision tree classifier, got 87.17948717948718% accuracy on the test set.\n"
     ]
    }
   ],
   "source": [
    "print(\"Decision tree classifier, got {}% accuracy on the test set.\".format(accuracy_score(Y_test, dt_model2.predict(X_test))*100))"
   ]
  },
  {
   "cell_type": "markdown",
   "metadata": {},
   "source": [
    "### Forest"
   ]
  },
  {
   "cell_type": "code",
   "execution_count": 115,
   "metadata": {},
   "outputs": [],
   "source": [
    "from sklearn.ensemble import RandomForestClassifier"
   ]
  },
  {
   "cell_type": "code",
   "execution_count": 116,
   "metadata": {},
   "outputs": [
    {
     "data": {
      "text/plain": [
       "RandomForestClassifier(bootstrap=True, class_weight=None, criterion='gini',\n",
       "                       max_depth=None, max_features='auto', max_leaf_nodes=None,\n",
       "                       min_impurity_decrease=0.0, min_impurity_split=None,\n",
       "                       min_samples_leaf=1, min_samples_split=2,\n",
       "                       min_weight_fraction_leaf=0.0, n_estimators=350,\n",
       "                       n_jobs=None, oob_score=False, random_state=None,\n",
       "                       verbose=0, warm_start=False)"
      ]
     },
     "execution_count": 116,
     "metadata": {},
     "output_type": "execute_result"
    }
   ],
   "source": [
    "rfc = RandomForestClassifier(n_estimators=350)\n",
    "rfc.fit(X_train, Y_train)"
   ]
  },
  {
   "cell_type": "code",
   "execution_count": 117,
   "metadata": {},
   "outputs": [
    {
     "name": "stdout",
     "output_type": "stream",
     "text": [
      "Random forest classifier, got 94.87179487179486% accuracy on the test set.\n"
     ]
    }
   ],
   "source": [
    "print(\"Random forest classifier, got {}% accuracy on the test set.\".format(accuracy_score(Y_test, rfc.predict(X_test))*100))"
   ]
  },
  {
   "cell_type": "markdown",
   "metadata": {},
   "source": [
    "# Summary"
   ]
  },
  {
   "cell_type": "markdown",
   "metadata": {},
   "source": [
    "In this task as we can see the best overall performance (accuracy) on the test set is given by RandomForest and KNN classifier which is about 93 percent. Right behind it is Decision tree Classifier with accuracy of 89 percent and logistic regression is not a good model for this."
   ]
  },
  {
   "cell_type": "code",
   "execution_count": null,
   "metadata": {},
   "outputs": [],
   "source": []
  }
 ],
 "metadata": {
  "kernelspec": {
   "display_name": "Python 3",
   "language": "python",
   "name": "python3"
  },
  "language_info": {
   "codemirror_mode": {
    "name": "ipython",
    "version": 3
   },
   "file_extension": ".py",
   "mimetype": "text/x-python",
   "name": "python",
   "nbconvert_exporter": "python",
   "pygments_lexer": "ipython3",
   "version": "3.7.4"
  }
 },
 "nbformat": 4,
 "nbformat_minor": 2
}
