{
 "cells": [
  {
   "cell_type": "markdown",
   "metadata": {
    "colab_type": "text",
    "id": "ne9YyMvuH86J"
   },
   "source": [
    "# Bank dataset\n",
    "\n",
    "We have a transaction details of 515 banks which include number of DD taken, Withdrawals, Deposits, Area of the branch and Average Walk-Ins. Profile the banks into segments and come up with recommendations for each segment."
   ]
  },
  {
   "cell_type": "markdown",
   "metadata": {
    "colab_type": "text",
    "id": "l2kJFIqaH86O"
   },
   "source": [
    "# Import libraries and load data"
   ]
  },
  {
   "cell_type": "code",
   "execution_count": 1,
   "metadata": {},
   "outputs": [],
   "source": [
    "import warnings\n",
    "warnings.filterwarnings(action='ignore')"
   ]
  },
  {
   "cell_type": "code",
   "execution_count": 2,
   "metadata": {
    "colab": {},
    "colab_type": "code",
    "id": "-CNfRN3cH86Q"
   },
   "outputs": [],
   "source": [
    "import pandas as pd\n",
    "import numpy as np\n",
    "import matplotlib.pyplot as plt\n",
    "import seaborn as sns"
   ]
  },
  {
   "cell_type": "code",
   "execution_count": 3,
   "metadata": {
    "colab": {},
    "colab_type": "code",
    "id": "Uh9SSdCAH86X"
   },
   "outputs": [
    {
     "data": {
      "text/html": [
       "<div>\n",
       "<style scoped>\n",
       "    .dataframe tbody tr th:only-of-type {\n",
       "        vertical-align: middle;\n",
       "    }\n",
       "\n",
       "    .dataframe tbody tr th {\n",
       "        vertical-align: top;\n",
       "    }\n",
       "\n",
       "    .dataframe thead th {\n",
       "        text-align: right;\n",
       "    }\n",
       "</style>\n",
       "<table border=\"1\" class=\"dataframe\">\n",
       "  <thead>\n",
       "    <tr style=\"text-align: right;\">\n",
       "      <th></th>\n",
       "      <th>Bank</th>\n",
       "      <th>DD</th>\n",
       "      <th>Withdrawals</th>\n",
       "      <th>Deposits</th>\n",
       "      <th>Branch Area in sqft</th>\n",
       "      <th>avg daily walkins</th>\n",
       "    </tr>\n",
       "  </thead>\n",
       "  <tbody>\n",
       "    <tr>\n",
       "      <td>0</td>\n",
       "      <td>1</td>\n",
       "      <td>227</td>\n",
       "      <td>147</td>\n",
       "      <td>111</td>\n",
       "      <td>2460</td>\n",
       "      <td>639</td>\n",
       "    </tr>\n",
       "    <tr>\n",
       "      <td>1</td>\n",
       "      <td>2</td>\n",
       "      <td>123</td>\n",
       "      <td>86</td>\n",
       "      <td>65</td>\n",
       "      <td>3510</td>\n",
       "      <td>436</td>\n",
       "    </tr>\n",
       "    <tr>\n",
       "      <td>2</td>\n",
       "      <td>3</td>\n",
       "      <td>306</td>\n",
       "      <td>149</td>\n",
       "      <td>76</td>\n",
       "      <td>2570</td>\n",
       "      <td>669</td>\n",
       "    </tr>\n",
       "    <tr>\n",
       "      <td>3</td>\n",
       "      <td>4</td>\n",
       "      <td>251</td>\n",
       "      <td>112</td>\n",
       "      <td>129</td>\n",
       "      <td>3650</td>\n",
       "      <td>623</td>\n",
       "    </tr>\n",
       "    <tr>\n",
       "      <td>4</td>\n",
       "      <td>5</td>\n",
       "      <td>174</td>\n",
       "      <td>135</td>\n",
       "      <td>128</td>\n",
       "      <td>3400</td>\n",
       "      <td>579</td>\n",
       "    </tr>\n",
       "  </tbody>\n",
       "</table>\n",
       "</div>"
      ],
      "text/plain": [
       "   Bank   DD  Withdrawals  Deposits  Branch Area in sqft  avg daily walkins\n",
       "0     1  227          147       111                 2460                639\n",
       "1     2  123           86        65                 3510                436\n",
       "2     3  306          149        76                 2570                669\n",
       "3     4  251          112       129                 3650                623\n",
       "4     5  174          135       128                 3400                579"
      ]
     },
     "execution_count": 3,
     "metadata": {},
     "output_type": "execute_result"
    }
   ],
   "source": [
    "df = pd.read_csv(\"bank.csv\")\n",
    "df.head()"
   ]
  },
  {
   "cell_type": "markdown",
   "metadata": {
    "colab_type": "text",
    "id": "6oz-zsF1H86c"
   },
   "source": [
    "# Check the data. Check shape, data type, and info"
   ]
  },
  {
   "cell_type": "code",
   "execution_count": 4,
   "metadata": {
    "colab": {},
    "colab_type": "code",
    "id": "IiwL5lQvKOUA"
   },
   "outputs": [
    {
     "data": {
      "text/plain": [
       "(515, 6)"
      ]
     },
     "execution_count": 4,
     "metadata": {},
     "output_type": "execute_result"
    }
   ],
   "source": [
    "df.shape"
   ]
  },
  {
   "cell_type": "code",
   "execution_count": 5,
   "metadata": {
    "colab": {},
    "colab_type": "code",
    "id": "-sIFhkHkKOW-"
   },
   "outputs": [
    {
     "name": "stdout",
     "output_type": "stream",
     "text": [
      "<class 'pandas.core.frame.DataFrame'>\n",
      "RangeIndex: 515 entries, 0 to 514\n",
      "Data columns (total 6 columns):\n",
      "Bank                   515 non-null int64\n",
      "DD                     515 non-null int64\n",
      "Withdrawals            515 non-null int64\n",
      "Deposits               515 non-null int64\n",
      "Branch Area in sqft    515 non-null int64\n",
      "avg daily walkins      515 non-null int64\n",
      "dtypes: int64(6)\n",
      "memory usage: 24.3 KB\n"
     ]
    }
   ],
   "source": [
    "df.info()"
   ]
  },
  {
   "cell_type": "markdown",
   "metadata": {
    "colab_type": "text",
    "id": "4o5a7sxKH86u"
   },
   "source": [
    "# Checking Summary Statistic"
   ]
  },
  {
   "cell_type": "code",
   "execution_count": 6,
   "metadata": {
    "colab": {},
    "colab_type": "code",
    "id": "P6AeKBuMKcAZ"
   },
   "outputs": [
    {
     "data": {
      "text/html": [
       "<div>\n",
       "<style scoped>\n",
       "    .dataframe tbody tr th:only-of-type {\n",
       "        vertical-align: middle;\n",
       "    }\n",
       "\n",
       "    .dataframe tbody tr th {\n",
       "        vertical-align: top;\n",
       "    }\n",
       "\n",
       "    .dataframe thead th {\n",
       "        text-align: right;\n",
       "    }\n",
       "</style>\n",
       "<table border=\"1\" class=\"dataframe\">\n",
       "  <thead>\n",
       "    <tr style=\"text-align: right;\">\n",
       "      <th></th>\n",
       "      <th>Bank</th>\n",
       "      <th>DD</th>\n",
       "      <th>Withdrawals</th>\n",
       "      <th>Deposits</th>\n",
       "      <th>Branch Area in sqft</th>\n",
       "      <th>avg daily walkins</th>\n",
       "    </tr>\n",
       "  </thead>\n",
       "  <tbody>\n",
       "    <tr>\n",
       "      <td>count</td>\n",
       "      <td>515.000000</td>\n",
       "      <td>515.000000</td>\n",
       "      <td>515.000000</td>\n",
       "      <td>515.000000</td>\n",
       "      <td>515.000000</td>\n",
       "      <td>515.000000</td>\n",
       "    </tr>\n",
       "    <tr>\n",
       "      <td>mean</td>\n",
       "      <td>258.000000</td>\n",
       "      <td>232.252427</td>\n",
       "      <td>150.693204</td>\n",
       "      <td>81.687379</td>\n",
       "      <td>2934.669903</td>\n",
       "      <td>598.603883</td>\n",
       "    </tr>\n",
       "    <tr>\n",
       "      <td>std</td>\n",
       "      <td>148.811962</td>\n",
       "      <td>66.648815</td>\n",
       "      <td>56.897777</td>\n",
       "      <td>28.596912</td>\n",
       "      <td>437.062831</td>\n",
       "      <td>83.487891</td>\n",
       "    </tr>\n",
       "    <tr>\n",
       "      <td>min</td>\n",
       "      <td>1.000000</td>\n",
       "      <td>120.000000</td>\n",
       "      <td>10.000000</td>\n",
       "      <td>33.000000</td>\n",
       "      <td>1200.000000</td>\n",
       "      <td>380.000000</td>\n",
       "    </tr>\n",
       "    <tr>\n",
       "      <td>25%</td>\n",
       "      <td>129.500000</td>\n",
       "      <td>169.500000</td>\n",
       "      <td>103.000000</td>\n",
       "      <td>58.000000</td>\n",
       "      <td>2675.000000</td>\n",
       "      <td>537.500000</td>\n",
       "    </tr>\n",
       "    <tr>\n",
       "      <td>50%</td>\n",
       "      <td>258.000000</td>\n",
       "      <td>237.000000</td>\n",
       "      <td>152.000000</td>\n",
       "      <td>80.000000</td>\n",
       "      <td>2960.000000</td>\n",
       "      <td>601.000000</td>\n",
       "    </tr>\n",
       "    <tr>\n",
       "      <td>75%</td>\n",
       "      <td>386.500000</td>\n",
       "      <td>291.000000</td>\n",
       "      <td>200.000000</td>\n",
       "      <td>105.000000</td>\n",
       "      <td>3300.000000</td>\n",
       "      <td>657.500000</td>\n",
       "    </tr>\n",
       "    <tr>\n",
       "      <td>max</td>\n",
       "      <td>515.000000</td>\n",
       "      <td>350.000000</td>\n",
       "      <td>247.000000</td>\n",
       "      <td>212.000000</td>\n",
       "      <td>3650.000000</td>\n",
       "      <td>838.000000</td>\n",
       "    </tr>\n",
       "  </tbody>\n",
       "</table>\n",
       "</div>"
      ],
      "text/plain": [
       "             Bank          DD  Withdrawals    Deposits  Branch Area in sqft  \\\n",
       "count  515.000000  515.000000   515.000000  515.000000           515.000000   \n",
       "mean   258.000000  232.252427   150.693204   81.687379          2934.669903   \n",
       "std    148.811962   66.648815    56.897777   28.596912           437.062831   \n",
       "min      1.000000  120.000000    10.000000   33.000000          1200.000000   \n",
       "25%    129.500000  169.500000   103.000000   58.000000          2675.000000   \n",
       "50%    258.000000  237.000000   152.000000   80.000000          2960.000000   \n",
       "75%    386.500000  291.000000   200.000000  105.000000          3300.000000   \n",
       "max    515.000000  350.000000   247.000000  212.000000          3650.000000   \n",
       "\n",
       "       avg daily walkins  \n",
       "count         515.000000  \n",
       "mean          598.603883  \n",
       "std            83.487891  \n",
       "min           380.000000  \n",
       "25%           537.500000  \n",
       "50%           601.000000  \n",
       "75%           657.500000  \n",
       "max           838.000000  "
      ]
     },
     "execution_count": 6,
     "metadata": {},
     "output_type": "execute_result"
    }
   ],
   "source": [
    "df.describe()"
   ]
  },
  {
   "cell_type": "markdown",
   "metadata": {
    "colab_type": "text",
    "id": "iATavmNBH860"
   },
   "source": [
    "# Checking for Duplicates"
   ]
  },
  {
   "cell_type": "code",
   "execution_count": 7,
   "metadata": {
    "colab": {},
    "colab_type": "code",
    "id": "K_hiUqA5H862"
   },
   "outputs": [
    {
     "data": {
      "text/plain": [
       "0      False\n",
       "1      False\n",
       "2      False\n",
       "3      False\n",
       "4      False\n",
       "       ...  \n",
       "510    False\n",
       "511    False\n",
       "512    False\n",
       "513    False\n",
       "514    False\n",
       "Length: 515, dtype: bool"
      ]
     },
     "execution_count": 7,
     "metadata": {},
     "output_type": "execute_result"
    }
   ],
   "source": [
    "df.duplicated(subset=None, keep='first')"
   ]
  },
  {
   "cell_type": "code",
   "execution_count": 8,
   "metadata": {},
   "outputs": [
    {
     "name": "stdout",
     "output_type": "stream",
     "text": [
      "Duplicate Rows except first occurrence based on all columns are :\n",
      "Empty DataFrame\n",
      "Columns: [Bank, DD, Withdrawals, Deposits, Branch Area in sqft, avg daily walkins]\n",
      "Index: []\n"
     ]
    }
   ],
   "source": [
    "duplicateRowsDF =df[df.duplicated()]\n",
    "print(\"Duplicate Rows except first occurrence based on all columns are :\")\n",
    "print(duplicateRowsDF)"
   ]
  },
  {
   "cell_type": "markdown",
   "metadata": {},
   "source": [
    "No duplicates have been found"
   ]
  },
  {
   "cell_type": "markdown",
   "metadata": {
    "colab_type": "text",
    "id": "LkN5YAaNH868"
   },
   "source": [
    "# Scaling the data"
   ]
  },
  {
   "cell_type": "code",
   "execution_count": 9,
   "metadata": {
    "colab": {},
    "colab_type": "code",
    "id": "LFDOtt8mH869"
   },
   "outputs": [],
   "source": [
    "# importing the StandardScaler Module\n",
    "from sklearn.preprocessing import StandardScaler\n"
   ]
  },
  {
   "cell_type": "code",
   "execution_count": 10,
   "metadata": {
    "colab": {},
    "colab_type": "code",
    "id": "o2lmCLC_H87C"
   },
   "outputs": [
    {
     "data": {
      "text/plain": [
       "(515, 6)"
      ]
     },
     "execution_count": 10,
     "metadata": {},
     "output_type": "execute_result"
    }
   ],
   "source": [
    "# Creating an object for the StandardScaler function\n",
    "sc = StandardScaler()\n",
    "scaled_df = sc.fit_transform(df)\n",
    "scaled_df.shape"
   ]
  },
  {
   "cell_type": "code",
   "execution_count": 11,
   "metadata": {},
   "outputs": [
    {
     "data": {
      "text/plain": [
       "array([[-1.72869086, -0.07888413, -0.06497257,  1.02602411, -1.08710095,\n",
       "         0.48432644],\n",
       "       [-1.72196444, -1.64081915, -1.13811308, -0.58410514,  1.31763546,\n",
       "        -1.949528  ],\n",
       "       [-1.71523801,  1.10758573, -0.02978763, -0.19907423, -0.83517619,\n",
       "         0.84400936],\n",
       "       ...,\n",
       "       [ 1.71523801,  1.51308809, -1.13811308,  0.92101568, -0.19391314,\n",
       "         0.92793538],\n",
       "       [ 1.72196444, -0.60453534,  0.44520899, -1.66919225, -0.40003341,\n",
       "        -1.12225728],\n",
       "       [ 1.72869086,  1.48305088,  0.62113366,  0.53598477, -0.53744692,\n",
       "         2.01897357]])"
      ]
     },
     "execution_count": 11,
     "metadata": {},
     "output_type": "execute_result"
    }
   ],
   "source": [
    "scaled_df"
   ]
  },
  {
   "cell_type": "markdown",
   "metadata": {
    "colab_type": "text",
    "id": "1e8-9mZtH87S"
   },
   "source": [
    "# Creating Clusters using KMeans"
   ]
  },
  {
   "cell_type": "markdown",
   "metadata": {
    "colab_type": "text",
    "id": "T_v7tb_HH87T"
   },
   "source": [
    "### Build a KMeans model having 2 Clusters"
   ]
  },
  {
   "cell_type": "code",
   "execution_count": 12,
   "metadata": {},
   "outputs": [],
   "source": [
    "from sklearn.cluster import KMeans\n",
    "from scipy.spatial import distance"
   ]
  },
  {
   "cell_type": "code",
   "execution_count": 13,
   "metadata": {
    "colab": {},
    "colab_type": "code",
    "id": "oaSkIC0qH87V"
   },
   "outputs": [],
   "source": [
    "# Create K Means cluster and store the result in the object k_means\n",
    "k_means = KMeans(n_clusters=2,n_init = 15, random_state=10)\n"
   ]
  },
  {
   "cell_type": "code",
   "execution_count": 14,
   "metadata": {
    "colab": {},
    "colab_type": "code",
    "id": "9o7sb5RHH87a"
   },
   "outputs": [
    {
     "data": {
      "text/plain": [
       "KMeans(algorithm='auto', copy_x=True, init='k-means++', max_iter=300,\n",
       "       n_clusters=2, n_init=15, n_jobs=None, precompute_distances='auto',\n",
       "       random_state=10, tol=0.0001, verbose=0)"
      ]
     },
     "execution_count": 14,
     "metadata": {},
     "output_type": "execute_result"
    }
   ],
   "source": [
    "# Fit K means on the scaled_df\n",
    "\n",
    "k_means.fit(scaled_df)"
   ]
  },
  {
   "cell_type": "markdown",
   "metadata": {
    "colab_type": "text",
    "id": "h4Wbu5a1H87g"
   },
   "source": [
    "### Check cluster Output for all the observations"
   ]
  },
  {
   "cell_type": "code",
   "execution_count": 15,
   "metadata": {
    "colab": {},
    "colab_type": "code",
    "id": "uhIFz7UYH87h"
   },
   "outputs": [
    {
     "data": {
      "text/plain": [
       "array([1, 0, 1, 1, 0, 1, 0, 1, 1, 1, 1, 1, 1, 0, 1, 1, 1, 0, 1, 1, 0, 0,\n",
       "       1, 1, 0, 0, 1, 0, 1, 1, 1, 1, 0, 0, 1, 1, 0, 1, 1, 0, 0, 1, 1, 1,\n",
       "       1, 1, 1, 1, 1, 1, 0, 1, 1, 1, 0, 1, 1, 1, 1, 1, 0, 1, 1, 1, 1, 0,\n",
       "       1, 0, 0, 1, 1, 1, 0, 0, 1, 1, 1, 0, 1, 1, 1, 0, 0, 0, 1, 1, 1, 1,\n",
       "       0, 1, 1, 1, 1, 1, 1, 0, 0, 1, 0, 1, 1, 1, 1, 1, 1, 1, 1, 1, 1, 1,\n",
       "       1, 0, 1, 1, 1, 0, 0, 1, 1, 1, 1, 1, 1, 1, 1, 0, 1, 1, 0, 1, 0, 1,\n",
       "       0, 1, 1, 1, 0, 0, 1, 1, 1, 1, 0, 1, 1, 0, 1, 0, 1, 1, 0, 1, 1, 1,\n",
       "       1, 0, 1, 0, 1, 0, 1, 1, 1, 1, 1, 0, 0, 0, 1, 0, 0, 1, 1, 1, 1, 1,\n",
       "       0, 1, 1, 0, 0, 0, 1, 0, 1, 0, 1, 0, 0, 0, 0, 0, 0, 0, 1, 0, 0, 0,\n",
       "       1, 1, 0, 1, 0, 0, 1, 0, 0, 1, 1, 1, 0, 0, 0, 0, 0, 1, 1, 0, 0, 1,\n",
       "       1, 0, 0, 1, 1, 0, 1, 1, 1, 1, 1, 1, 1, 1, 0, 1, 0, 0, 1, 1, 1, 1,\n",
       "       1, 1, 1, 1, 1, 0, 1, 0, 0, 1, 0, 1, 0, 0, 0, 0, 1, 1, 1, 0, 0, 0,\n",
       "       1, 1, 0, 0, 1, 1, 1, 0, 1, 1, 1, 1, 0, 1, 1, 1, 1, 1, 1, 1, 1, 1,\n",
       "       1, 1, 1, 0, 1, 1, 0, 0, 0, 0, 1, 0, 1, 1, 1, 0, 1, 0, 1, 1, 1, 0,\n",
       "       0, 0, 1, 1, 0, 0, 1, 0, 0, 1, 1, 0, 1, 0, 0, 1, 0, 1, 1, 0, 0, 0,\n",
       "       1, 1, 1, 1, 1, 1, 0, 1, 0, 0, 0, 0, 1, 0, 0, 1, 0, 1, 0, 0, 0, 0,\n",
       "       0, 1, 0, 0, 0, 1, 0, 1, 1, 0, 1, 0, 1, 1, 1, 1, 0, 0, 0, 1, 0, 0,\n",
       "       0, 1, 0, 1, 1, 0, 0, 1, 1, 0, 0, 0, 0, 0, 1, 1, 0, 0, 0, 0, 1, 0,\n",
       "       0, 0, 1, 0, 0, 0, 1, 0, 0, 1, 0, 0, 0, 0, 1, 0, 1, 0, 0, 0, 0, 0,\n",
       "       0, 0, 1, 1, 1, 1, 0, 1, 1, 0, 0, 1, 0, 0, 1, 0, 0, 0, 0, 0, 0, 1,\n",
       "       0, 0, 0, 0, 1, 0, 0, 0, 0, 0, 1, 0, 0, 0, 0, 0, 0, 1, 1, 0, 0, 0,\n",
       "       1, 1, 1, 0, 1, 1, 0, 0, 1, 0, 0, 0, 0, 0, 0, 0, 0, 0, 0, 1, 1, 0,\n",
       "       1, 1, 0, 1, 0, 1, 0, 0, 0, 0, 0, 0, 1, 0, 0, 0, 0, 1, 0, 1, 0, 0,\n",
       "       0, 1, 1, 0, 1, 0, 1, 0, 1])"
      ]
     },
     "execution_count": 15,
     "metadata": {},
     "output_type": "execute_result"
    }
   ],
   "source": [
    "# Get the labels\n",
    "k_means.labels_"
   ]
  },
  {
   "cell_type": "code",
   "execution_count": 16,
   "metadata": {},
   "outputs": [],
   "source": [
    "df['labels'] = pd.DataFrame(k_means.labels_ , columns = list(['labels']))"
   ]
  },
  {
   "cell_type": "code",
   "execution_count": 17,
   "metadata": {},
   "outputs": [
    {
     "data": {
      "text/plain": [
       "1    273\n",
       "0    242\n",
       "Name: labels, dtype: int64"
      ]
     },
     "execution_count": 17,
     "metadata": {},
     "output_type": "execute_result"
    }
   ],
   "source": [
    "pd.value_counts(df['labels'])"
   ]
  },
  {
   "cell_type": "markdown",
   "metadata": {
    "colab_type": "text",
    "id": "yjBXWVfxH87p"
   },
   "source": [
    "### Calculate within Cluster Sum of Squares"
   ]
  },
  {
   "cell_type": "code",
   "execution_count": 18,
   "metadata": {
    "colab": {},
    "colab_type": "code",
    "id": "1ItpiR0IKgqh"
   },
   "outputs": [],
   "source": [
    "centroids = k_means.cluster_centers_"
   ]
  },
  {
   "cell_type": "code",
   "execution_count": 19,
   "metadata": {},
   "outputs": [
    {
     "data": {
      "text/plain": [
       "array([[ 0.29337769, -0.39551607, -0.62611412, -0.177089  ,  0.28850102,\n",
       "        -0.81073025],\n",
       "       [-0.26006374,  0.35060398,  0.55501691,  0.15697999, -0.25574083,\n",
       "         0.71866931]])"
      ]
     },
     "execution_count": 19,
     "metadata": {},
     "output_type": "execute_result"
    }
   ],
   "source": [
    "centroids"
   ]
  },
  {
   "cell_type": "code",
   "execution_count": 20,
   "metadata": {},
   "outputs": [],
   "source": [
    "wss = k_means.inertia_"
   ]
  },
  {
   "cell_type": "code",
   "execution_count": 21,
   "metadata": {},
   "outputs": [
    {
     "data": {
      "text/plain": [
       "2447.950426054663"
      ]
     },
     "execution_count": 21,
     "metadata": {},
     "output_type": "execute_result"
    }
   ],
   "source": [
    "wss"
   ]
  },
  {
   "cell_type": "markdown",
   "metadata": {
    "colab_type": "text",
    "id": "W8cmXIIMH87v"
   },
   "source": [
    "### Form clusters with K = 1,3,4,5,6 and compare the WSS ( within cluster sum of squares)"
   ]
  },
  {
   "cell_type": "code",
   "execution_count": 22,
   "metadata": {
    "colab": {},
    "colab_type": "code",
    "id": "wyHczMATKhOL"
   },
   "outputs": [
    {
     "data": {
      "text/html": [
       "<div>\n",
       "<style scoped>\n",
       "    .dataframe tbody tr th:only-of-type {\n",
       "        vertical-align: middle;\n",
       "    }\n",
       "\n",
       "    .dataframe tbody tr th {\n",
       "        vertical-align: top;\n",
       "    }\n",
       "\n",
       "    .dataframe thead th {\n",
       "        text-align: right;\n",
       "    }\n",
       "</style>\n",
       "<table border=\"1\" class=\"dataframe\">\n",
       "  <thead>\n",
       "    <tr style=\"text-align: right;\">\n",
       "      <th></th>\n",
       "      <th>num_clusters</th>\n",
       "      <th>cluster_wss</th>\n",
       "    </tr>\n",
       "  </thead>\n",
       "  <tbody>\n",
       "    <tr>\n",
       "      <td>0</td>\n",
       "      <td>1</td>\n",
       "      <td>3090.000000</td>\n",
       "    </tr>\n",
       "    <tr>\n",
       "      <td>1</td>\n",
       "      <td>2</td>\n",
       "      <td>2447.950426</td>\n",
       "    </tr>\n",
       "    <tr>\n",
       "      <td>2</td>\n",
       "      <td>3</td>\n",
       "      <td>2101.882516</td>\n",
       "    </tr>\n",
       "    <tr>\n",
       "      <td>3</td>\n",
       "      <td>4</td>\n",
       "      <td>1853.171278</td>\n",
       "    </tr>\n",
       "    <tr>\n",
       "      <td>4</td>\n",
       "      <td>5</td>\n",
       "      <td>1702.487060</td>\n",
       "    </tr>\n",
       "    <tr>\n",
       "      <td>5</td>\n",
       "      <td>6</td>\n",
       "      <td>1578.290449</td>\n",
       "    </tr>\n",
       "  </tbody>\n",
       "</table>\n",
       "</div>"
      ],
      "text/plain": [
       "   num_clusters  cluster_wss\n",
       "0             1  3090.000000\n",
       "1             2  2447.950426\n",
       "2             3  2101.882516\n",
       "3             4  1853.171278\n",
       "4             5  1702.487060\n",
       "5             6  1578.290449"
      ]
     },
     "execution_count": 22,
     "metadata": {},
     "output_type": "execute_result"
    }
   ],
   "source": [
    "cluster_range = range( 1, 7)\n",
    "cluster_wss = []\n",
    "for num_clusters in cluster_range:\n",
    "  clusters = KMeans( num_clusters, n_init = 5,random_state=5)\n",
    "  clusters.fit(scaled_df)\n",
    "  labels = clusters.labels_                     # capture the cluster lables\n",
    "  centroids = clusters.cluster_centers_         # capture the centroids\n",
    "  cluster_wss.append( clusters.inertia_ )    # capture the intertia\n",
    "\n",
    "\n",
    "\n",
    "\n",
    "\n",
    "\n",
    "# combine the cluster_range and cluster_errors into a dataframe by combining them\n",
    "clusters_df = pd.DataFrame( { \"num_clusters\":cluster_range, \"cluster_wss\": cluster_wss} )\n",
    "clusters_df"
   ]
  },
  {
   "cell_type": "markdown",
   "metadata": {
    "colab_type": "text",
    "id": "JMhH8huIH88L"
   },
   "source": [
    "### Calculate WSS for other values of K ( can use range of K = 1 to 20) - Elbow Method"
   ]
  },
  {
   "cell_type": "code",
   "execution_count": 23,
   "metadata": {
    "colab": {},
    "colab_type": "code",
    "id": "2CB7hiFZH88M"
   },
   "outputs": [
    {
     "name": "stdout",
     "output_type": "stream",
     "text": [
      "    clusters_K          wss\n",
      "0            1  3090.000000\n",
      "1            2  2447.950426\n",
      "2            3  2101.877363\n",
      "3            4  1852.090259\n",
      "4            5  1702.487060\n",
      "5            6  1569.167236\n",
      "6            7  1468.388277\n",
      "7            8  1384.232273\n",
      "8            9  1321.246655\n",
      "9           10  1247.308139\n",
      "10          11  1197.196802\n",
      "11          12  1130.982403\n",
      "12          13  1094.106651\n",
      "13          14  1048.243661\n",
      "14          15  1019.725481\n",
      "15          16   976.442714\n",
      "16          17   955.771364\n",
      "17          18   934.808701\n",
      "18          19   909.510685\n",
      "19          20   879.409813\n"
     ]
    },
    {
     "data": {
      "image/png": "[encoded data removed]",
      "text/plain": [
       "<Figure size 864x432 with 1 Axes>"
      ]
     },
     "metadata": {
      "needs_background": "light"
     },
     "output_type": "display_data"
    }
   ],
   "source": [
    "wss = []\n",
    "for i in range(1, 21):\n",
    "    kmeans = KMeans(n_clusters=i, init='k-means++', max_iter=300, n_init=10, random_state=5)\n",
    "    kmeans.fit(scaled_df)\n",
    "    wss.append(kmeans.inertia_)\n",
    "clusters_df1_20 = pd.DataFrame( { \"clusters_K\":range(1,21), \"wss\":wss} )\n",
    "print(clusters_df1_20)\n",
    "plt.figure(figsize = (12,6))\n",
    "plt.plot(np.arange(1, 21), wss, marker = 'X')\n",
    "plt.plot(range(1, 21), wss)\n",
    "plt.title('Elbow Method')\n",
    "plt.xlabel('Number of clusters')\n",
    "plt.xticks(np.arange(1, 21)) \n",
    "plt.ylabel('WSS')\n",
    "plt.show()\n"
   ]
  },
  {
   "cell_type": "markdown",
   "metadata": {
    "colab_type": "text",
    "id": "JnECTBNLH88e"
   },
   "source": [
    "## Build a KMeans model with K=3"
   ]
  },
  {
   "cell_type": "code",
   "execution_count": 24,
   "metadata": {},
   "outputs": [
    {
     "name": "stdout",
     "output_type": "stream",
     "text": [
      "Centroid values [[ 0.01582688 -1.09043142 -0.15376279 -0.09118322  0.2138143  -0.98317988]\n",
      " [ 0.23550787  0.82909257 -0.81721344 -0.12085808  0.345138    0.02917213]\n",
      " [-0.22318494  0.27901827  0.8662746   0.19169484 -0.5041573   0.887512  ]]\n",
      "sklearn centroids\n",
      "[[ 0.47703487 -1.17765915 -0.63440232 -0.25017029  0.293352   -1.44307791]\n",
      " [ 0.14538399  0.8095928   0.84269424  0.15927137 -0.91680797  1.26268978]\n",
      " [-0.21969826 -0.3210856   0.90979879 -1.01005483  0.44767247  0.01690751]\n",
      " [-0.72188642  0.94367897 -0.81971114  0.04637757  0.54631025  0.2133061 ]\n",
      " [ 1.05781419  0.61628959 -0.85553407 -0.1675717   0.01206398 -0.21645579]\n",
      " [-0.70252184 -0.86585908  0.42446839  0.91622583 -0.10447382 -0.03311215]]\n"
     ]
    }
   ],
   "source": [
    "\n",
    "# Number of clusters\n",
    "\n",
    "kmeans3 = KMeans(n_clusters=3,random_state=5)\n",
    "\n",
    "# Fitting the input data\n",
    "\n",
    "kmeans3 = kmeans3.fit(scaled_df)\n",
    "\n",
    "# Getting the cluster labels\n",
    "\n",
    "labels3 = kmeans3.predict(scaled_df)\n",
    "\n",
    "# Centroid values\n",
    "\n",
    "centroids3 = kmeans3.cluster_centers_\n",
    "\n",
    "\n",
    "\n",
    "# Comparing with scikit-learn centroids\n",
    "\n",
    "print(\"Centroid values\",centroids3)\n",
    "\n",
    "\n",
    "print(\"sklearn centroids\")\n",
    "\n",
    "print(centroids) # From sci-kit learn"
   ]
  },
  {
   "cell_type": "markdown",
   "metadata": {
    "colab_type": "text",
    "id": "zPP2jEChH88m"
   },
   "source": [
    "### Use silhouette score to evaluate the above model ( 3 clusters)"
   ]
  },
  {
   "cell_type": "code",
   "execution_count": 25,
   "metadata": {
    "colab": {},
    "colab_type": "code",
    "id": "E--MaATcH88n"
   },
   "outputs": [],
   "source": [
    "from sklearn.metrics import silhouette_samples, silhouette_score"
   ]
  },
  {
   "cell_type": "code",
   "execution_count": 26,
   "metadata": {
    "colab": {},
    "colab_type": "code",
    "id": "ug3i1lGmH88s"
   },
   "outputs": [
    {
     "name": "stdout",
     "output_type": "stream",
     "text": [
      "For n_clusters = 3 The average silhouette_score is : 0.17828779200240366\n"
     ]
    }
   ],
   "source": [
    "# Calculating silhouette_score\n",
    "\n",
    "silhouette_avg = silhouette_score(scaled_df,labels3)\n",
    "print(\"For n_clusters = 3\",\"The average silhouette_score is :\", silhouette_avg)\n"
   ]
  },
  {
   "cell_type": "code",
   "execution_count": 27,
   "metadata": {},
   "outputs": [
    {
     "data": {
      "text/plain": [
       "array([ 0.1743723 ,  0.23903591,  0.09517829,  0.11216463,  0.11073093,\n",
       "        0.05811976,  0.22194819,  0.02479218,  0.15692556,  0.168932  ,\n",
       "        0.20040551,  0.09487252,  0.27365186,  0.1158051 ,  0.14255879,\n",
       "        0.11162919,  0.03015237,  0.11882736,  0.01045454,  0.25598546,\n",
       "        0.07546391,  0.16442807,  0.06006707,  0.28712268,  0.12373857,\n",
       "        0.2642465 ,  0.08361605,  0.24654448,  0.03990617,  0.22788102,\n",
       "        0.2992292 ,  0.03162231,  0.03820271,  0.08160963,  0.1199093 ,\n",
       "        0.00354813,  0.18282837,  0.01940462,  0.21344757,  0.13812634,\n",
       "        0.29204899,  0.21454355,  0.22650074,  0.1013621 ,  0.10704182,\n",
       "        0.02657096,  0.10162892,  0.20069813,  0.13686728,  0.19368161,\n",
       "        0.08361516,  0.21369827,  0.10848117,  0.35593077,  0.14065469,\n",
       "        0.33132066,  0.05317718, -0.03731954,  0.18346154,  0.28269346,\n",
       "        0.27900309, -0.04687027,  0.24754124,  0.10103619,  0.04084928,\n",
       "        0.01572225,  0.06553219,  0.09423139,  0.2235789 ,  0.17142516,\n",
       "        0.04177415,  0.11915966,  0.23253058,  0.16775114,  0.0272511 ,\n",
       "        0.27077244,  0.20204825,  0.32703633,  0.13500476,  0.34351012,\n",
       "        0.26713979,  0.20272028,  0.22587623,  0.0756968 ,  0.02543938,\n",
       "        0.09228377,  0.21042687, -0.00309937,  0.29187734,  0.16467834,\n",
       "        0.14509029,  0.26113319,  0.35734645,  0.11735273, -0.00562235,\n",
       "        0.25026693,  0.20737303,  0.25019712,  0.27044628,  0.12549006,\n",
       "        0.04284233,  0.07268537,  0.14080794,  0.02728892,  0.12549355,\n",
       "        0.03277052,  0.09451444,  0.21782481,  0.2632894 ,  0.31429795,\n",
       "        0.04613941,  0.31913319, -0.02306452,  0.20941533,  0.05359672,\n",
       "        0.23709354,  0.30909925,  0.09075005,  0.16607697,  0.20356576,\n",
       "        0.1685676 ,  0.12871645,  0.11928713,  0.18278088, -0.01516394,\n",
       "        0.06158778,  0.2001379 ,  0.06645342,  0.22048471,  0.13985632,\n",
       "        0.14025821,  0.19076913,  0.31307221,  0.24608233,  0.2837188 ,\n",
       "        0.02155067,  0.27080512,  0.27967191,  0.27533846,  0.13646345,\n",
       "        0.08383313,  0.00725365,  0.25496728,  0.31550375,  0.35746097,\n",
       "        0.24632382,  0.23506219,  0.31419395,  0.36172854,  0.20577027,\n",
       "        0.22473933,  0.12160525,  0.30343235,  0.10868228,  0.04352319,\n",
       "        0.0730602 ,  0.14607008,  0.17520082,  0.0748025 ,  0.20962582,\n",
       "        0.09350036,  0.08048724,  0.15723062,  0.27647889,  0.25710037,\n",
       "        0.36440547,  0.29819675,  0.19459648,  0.29751346,  0.22101741,\n",
       "        0.16934292,  0.325003  ,  0.13393194,  0.06711725,  0.10554579,\n",
       "        0.20596415,  0.23338594,  0.22674089,  0.0440497 ,  0.20289471,\n",
       "        0.24853771,  0.13892545,  0.03547679,  0.2664914 ,  0.04964455,\n",
       "        0.30691558,  0.17712641,  0.28412103,  0.29272069,  0.21861103,\n",
       "        0.23255446,  0.20913807, -0.04439921,  0.18777485,  0.03496924,\n",
       "        0.33000241,  0.24277448,  0.11323835,  0.10025298,  0.38091792,\n",
       "        0.27455649,  0.27918104,  0.20384857,  0.25220102,  0.19427054,\n",
       "        0.14178033,  0.30365009,  0.05708223,  0.1154897 ,  0.22130887,\n",
       "        0.14351053,  0.39426411,  0.21837152,  0.33682404,  0.21651522,\n",
       "        0.24906914,  0.16703203,  0.17668836,  0.33487258,  0.22449924,\n",
       "        0.16733863,  0.12319029,  0.27232132,  0.17929647,  0.22397656,\n",
       "        0.22440089,  0.13388014,  0.10821076,  0.15949445,  0.03213549,\n",
       "        0.04648211,  0.02433542,  0.15954699,  0.1266777 ,  0.21422907,\n",
       "        0.227781  ,  0.30353082,  0.15036192,  0.03089636,  0.36569349,\n",
       "        0.02047307,  0.24505714,  0.20524363,  0.08887244,  0.07038626,\n",
       "        0.26644365,  0.17908789,  0.3192597 ,  0.28031331,  0.13281863,\n",
       "        0.24611784,  0.13081318,  0.14441748, -0.04969117,  0.13858606,\n",
       "        0.32658582,  0.32594189,  0.31809311,  0.15470664,  0.17923244,\n",
       "        0.29125668,  0.25691943,  0.39764881,  0.34642938,  0.06595528,\n",
       "        0.13566917,  0.16404994,  0.21428986,  0.07559179,  0.29863763,\n",
       "        0.1539552 ,  0.37774695,  0.16988112,  0.02081105,  0.12341722,\n",
       "        0.17429743,  0.10087168,  0.35320052,  0.31900697,  0.13810372,\n",
       "        0.22602327,  0.30135747,  0.02580949,  0.05109765,  0.03339659,\n",
       "        0.23322605,  0.19480611,  0.12855788,  0.15148445,  0.0957531 ,\n",
       "        0.22512202,  0.25294981,  0.29837088,  0.26984447,  0.21724254,\n",
       "        0.31031922, -0.02726179,  0.29428239,  0.03904311,  0.32030745,\n",
       "        0.31548466,  0.32403661,  0.36018594,  0.14003232,  0.15520971,\n",
       "        0.06652338,  0.3192127 ,  0.38869658,  0.31437189,  0.25887185,\n",
       "        0.22401347,  0.01358762,  0.18624943,  0.15015186,  0.18537834,\n",
       "        0.2704401 ,  0.19573547,  0.18321417,  0.31011165,  0.22540156,\n",
       "        0.23381323,  0.29736486,  0.2305245 ,  0.03411543,  0.12492725,\n",
       "        0.11190707,  0.05449278,  0.32485666,  0.24271735,  0.14245369,\n",
       "        0.12289207,  0.23239768, -0.05235637,  0.22099151,  0.23141879,\n",
       "        0.12748851,  0.25422312,  0.05633379,  0.14178459,  0.18116153,\n",
       "        0.1600806 ,  0.14887133,  0.30437969, -0.02577212,  0.08547636,\n",
       "        0.07209793,  0.21296655,  0.12457935,  0.12521404,  0.14790225,\n",
       "        0.06023755,  0.22214444,  0.25179457,  0.17454417,  0.21188351,\n",
       "        0.1222553 ,  0.33403999,  0.28652772,  0.18804455,  0.24972527,\n",
       "        0.29014651,  0.12198997,  0.2558566 ,  0.26328186, -0.01452648,\n",
       "        0.0839429 ,  0.10571634,  0.10172315,  0.07080945,  0.24854519,\n",
       "        0.27947305,  0.13118588,  0.06495536,  0.26220235,  0.27307531,\n",
       "        0.29590071,  0.29389415,  0.2926139 ,  0.19691632,  0.05219138,\n",
       "        0.16209601,  0.25148854,  0.03448246,  0.28161962,  0.39671241,\n",
       "       -0.00512444,  0.40216236,  0.2264368 ,  0.04158744,  0.15152785,\n",
       "        0.15060201,  0.07226955,  0.24332019,  0.22060807,  0.18629827,\n",
       "        0.12199696,  0.05578513,  0.23032131,  0.1602512 ,  0.02278729,\n",
       "        0.13369487, -0.03851303,  0.30326985,  0.29524986,  0.2237195 ,\n",
       "        0.1126767 ,  0.32507751,  0.18750803,  0.32252742,  0.24791117,\n",
       "        0.06067942,  0.27595946,  0.11729812,  0.32509133,  0.23253692,\n",
       "        0.09822668,  0.34557674,  0.10370466,  0.06493386,  0.20957603,\n",
       "        0.13209105,  0.1846332 ,  0.07014997,  0.06123964,  0.17133431,\n",
       "        0.29688165,  0.1178959 ,  0.27431256,  0.19724037,  0.17052863,\n",
       "        0.27895771,  0.15326146,  0.00329707,  0.3295324 ,  0.28710533,\n",
       "        0.25883453,  0.28712917,  0.11709372,  0.35265273,  0.21947915,\n",
       "        0.08898928,  0.36262193,  0.26686812,  0.25521796,  0.02864638,\n",
       "        0.28464412,  0.29719943,  0.11012894, -0.00650462,  0.22671716,\n",
       "        0.06393533,  0.17662867,  0.38651377,  0.20093075,  0.35881452,\n",
       "        0.33214237,  0.21595078,  0.24007049,  0.27387569,  0.34369985,\n",
       "        0.09766327,  0.24756302,  0.14810557,  0.15449518,  0.05800211,\n",
       "        0.18368351,  0.08066372,  0.14478474,  0.12815871,  0.00466245,\n",
       "        0.12980084,  0.1202626 ,  0.09632146,  0.10742686,  0.12379167,\n",
       "        0.11948977,  0.16556954,  0.16708844,  0.19284269,  0.31595804,\n",
       "        0.38979579,  0.09444091,  0.16289675,  0.30584955,  0.00877754,\n",
       "        0.22066132,  0.15702566,  0.12184514,  0.14976428,  0.04831565,\n",
       "        0.19840234,  0.06180929,  0.36100995,  0.08962641,  0.00576993,\n",
       "        0.10900799,  0.24716495,  0.24483348,  0.13086958,  0.11960123,\n",
       "        0.05611079,  0.20930868,  0.2532699 ,  0.21692716,  0.1362289 ,\n",
       "        0.17000392,  0.20537836,  0.05069523, -0.00803769,  0.33948183,\n",
       "        0.062654  ,  0.14659985,  0.24032004,  0.12696326,  0.10316034])"
      ]
     },
     "execution_count": 27,
     "metadata": {},
     "output_type": "execute_result"
    }
   ],
   "source": [
    "sample_silhouette_values = silhouette_samples(scaled_df,labels3)\n",
    "sample_silhouette_values"
   ]
  },
  {
   "cell_type": "code",
   "execution_count": 28,
   "metadata": {},
   "outputs": [
    {
     "data": {
      "text/plain": [
       "2101.87736268257"
      ]
     },
     "execution_count": 28,
     "metadata": {},
     "output_type": "execute_result"
    }
   ],
   "source": [
    "wcss3 = kmeans3.inertia_\n",
    "wcss3"
   ]
  },
  {
   "cell_type": "markdown",
   "metadata": {
    "colab_type": "text",
    "id": "Y3Mx7S1bH88w"
   },
   "source": [
    "# Build a KMeans model with K=4"
   ]
  },
  {
   "cell_type": "code",
   "execution_count": 29,
   "metadata": {},
   "outputs": [
    {
     "name": "stdout",
     "output_type": "stream",
     "text": [
      "Centroid values [[ 0.06592817  0.83035873 -0.84181255 -0.15663932  0.4148789  -0.00198458]\n",
      " [-0.62892061 -0.75276245  0.73166025  0.26585439  0.008722    0.01569608]\n",
      " [ 0.48032779 -1.05195327 -0.62905105 -0.25062383  0.22592677 -1.33141835]\n",
      " [ 0.20107003  0.81292317  0.75314986  0.11363682 -0.71593306  1.19487361]]\n",
      "sklearn centroids\n",
      "[[ 0.47703487 -1.17765915 -0.63440232 -0.25017029  0.293352   -1.44307791]\n",
      " [ 0.14538399  0.8095928   0.84269424  0.15927137 -0.91680797  1.26268978]\n",
      " [-0.21969826 -0.3210856   0.90979879 -1.01005483  0.44767247  0.01690751]\n",
      " [-0.72188642  0.94367897 -0.81971114  0.04637757  0.54631025  0.2133061 ]\n",
      " [ 1.05781419  0.61628959 -0.85553407 -0.1675717   0.01206398 -0.21645579]\n",
      " [-0.70252184 -0.86585908  0.42446839  0.91622583 -0.10447382 -0.03311215]]\n"
     ]
    }
   ],
   "source": [
    "# Number of clusters\n",
    "\n",
    "kmeans4 = KMeans(n_clusters=4,random_state=5)\n",
    "\n",
    "# Fitting the input data\n",
    "\n",
    "kmeans4 = kmeans4.fit(scaled_df)\n",
    "\n",
    "# Getting the cluster labels\n",
    "\n",
    "labels4 = kmeans4.predict(scaled_df)\n",
    "\n",
    "# Centroid values\n",
    "\n",
    "centroids4 = kmeans4.cluster_centers_\n",
    "\n",
    "\n",
    "\n",
    "# Comparing with scikit-learn centroids\n",
    "\n",
    "print(\"Centroid values\",centroids4)\n",
    "\n",
    "\n",
    "print(\"sklearn centroids\")\n",
    "\n",
    "print(centroids) # From sci-kit learn"
   ]
  },
  {
   "cell_type": "code",
   "execution_count": 30,
   "metadata": {},
   "outputs": [
    {
     "data": {
      "text/plain": [
       "1852.0902591350114"
      ]
     },
     "execution_count": 30,
     "metadata": {},
     "output_type": "execute_result"
    }
   ],
   "source": [
    "wcss4 = kmeans4.inertia_\n",
    "wcss4"
   ]
  },
  {
   "cell_type": "markdown",
   "metadata": {
    "colab_type": "text",
    "id": "ERvm3lxZH881"
   },
   "source": [
    "### Use silhouette score to evaluate the above model ( 4 clusters)"
   ]
  },
  {
   "cell_type": "code",
   "execution_count": 31,
   "metadata": {
    "colab": {},
    "colab_type": "code",
    "id": "eTCjQyeyH883"
   },
   "outputs": [
    {
     "name": "stdout",
     "output_type": "stream",
     "text": [
      "For n_clusters = 4 The average silhouette_score is : 0.18609085040823015\n"
     ]
    }
   ],
   "source": [
    "#from sklearn.metrics import silhouette_samples, silhouette_score\n",
    "silhouette_avg = silhouette_score(scaled_df,labels4)\n",
    "print(\"For n_clusters = 4\",\"The average silhouette_score is :\", silhouette_avg)"
   ]
  },
  {
   "cell_type": "code",
   "execution_count": 32,
   "metadata": {},
   "outputs": [
    {
     "data": {
      "text/plain": [
       "array([ 0.16569406,  0.19797579,  0.09625345,  0.12434703,  0.20633009,\n",
       "        0.2490151 ,  0.03404692,  0.06208646,  0.05427394, -0.0318431 ,\n",
       "        0.06097653,  0.12674877,  0.10893409,  0.15332526,  0.36068033,\n",
       "        0.30059402,  0.23327574,  0.24342028,  0.00647683,  0.40898632,\n",
       "        0.08310703,  0.16117197,  0.12856035,  0.27631631,  0.14572353,\n",
       "        0.33934687,  0.31282055,  0.11048901,  0.16296532,  0.07683166,\n",
       "        0.02675144,  0.1697852 ,  0.16371988,  0.26769538,  0.21660244,\n",
       "        0.10418307,  0.07058414,  0.15604124,  0.13070005,  0.29838932,\n",
       "        0.08128887,  0.0098578 ,  0.40203416, -0.02211201,  0.12246188,\n",
       "        0.36038917,  0.02872954,  0.35448575,  0.28396003,  0.27942361,\n",
       "        0.08484086,  0.06487089,  0.04801132,  0.15864975,  0.05810744,\n",
       "        0.18271624,  0.2630169 ,  0.25653684,  0.13450663,  0.42602529,\n",
       "        0.26923152,  0.29848554,  0.40434159,  0.35241781,  0.23656536,\n",
       "        0.09111951,  0.38727639,  0.06655186,  0.12988333,  0.10242226,\n",
       "        0.25691028,  0.09575422,  0.27910987,  0.17784495,  0.01336203,\n",
       "        0.42411712,  0.3500199 ,  0.06154786,  0.10717125,  0.02146062,\n",
       "        0.21750412,  0.17687846,  0.22167697,  0.2065882 ,  0.11109827,\n",
       "        0.0629203 ,  0.11044525,  0.03079904,  0.07049253,  0.21770346,\n",
       "        0.21911214,  0.10667986,  0.18471274,  0.30418618,  0.31279693,\n",
       "        0.15063019,  0.29585241,  0.09688042,  0.00879954,  0.35422869,\n",
       "        0.26278552,  0.26203274,  0.19477789,  0.12445594,  0.1677423 ,\n",
       "        0.25021326,  0.26138958,  0.30845294,  0.30097395,  0.35495083,\n",
       "        0.37946917,  0.14550999,  0.27180237,  0.07435154,  0.18127469,\n",
       "        0.21037932,  0.38764954,  0.25370639,  0.38851151,  0.12967168,\n",
       "        0.32588248,  0.22022869,  0.05282954,  0.13960159,  0.15536978,\n",
       "        0.07806167,  0.16117528,  0.34119382,  0.31393199,  0.30310163,\n",
       "        0.02066805,  0.27093927,  0.16498086, -0.05418333,  0.17721046,\n",
       "        0.40792359, -0.00153803,  0.13949393,  0.33036183,  0.13830687,\n",
       "        0.11228181,  0.25479353,  0.3153163 ,  0.23405343,  0.01591224,\n",
       "        0.03853287,  0.17359978,  0.24192578,  0.03195552,  0.18665376,\n",
       "        0.26359726,  0.15431551,  0.24828511,  0.08225287,  0.11564168,\n",
       "        0.37691971,  0.26566091,  0.17510558,  0.34521261,  0.31328659,\n",
       "        0.35140143,  0.03598737,  0.29619356,  0.20063804,  0.07738584,\n",
       "        0.29113647,  0.0359832 ,  0.05861033,  0.21700512,  0.26407178,\n",
       "        0.17697894,  0.32321941,  0.23607706,  0.17289478,  0.00453995,\n",
       "       -0.00715711,  0.20491062,  0.07509371,  0.01865728,  0.21833098,\n",
       "        0.33641355,  0.08415942,  0.17093014,  0.01714498,  0.33660385,\n",
       "        0.26993323,  0.00103724,  0.03156342,  0.20906041,  0.12788041,\n",
       "        0.25550758,  0.31668195,  0.12705364,  0.07949108, -0.03527652,\n",
       "        0.04088514,  0.28112571,  0.25796249,  0.12539543,  0.29083834,\n",
       "        0.27638358,  0.24524508,  0.14429695,  0.34846339,  0.14787375,\n",
       "        0.08358085,  0.07375306,  0.19851055,  0.3786977 ,  0.16306817,\n",
       "       -0.01484619,  0.24039808, -0.00620478,  0.27978345,  0.20324724,\n",
       "        0.25577159,  0.13280673,  0.12254172,  0.23322702,  0.05890109,\n",
       "        0.14298021,  0.10090922,  0.1238063 ,  0.14900138,  0.21431812,\n",
       "        0.30688224,  0.10083992,  0.24875046,  0.10191962,  0.35960261,\n",
       "        0.05393885,  0.38187192,  0.2303054 ,  0.19303518,  0.23503383,\n",
       "        0.1349353 ,  0.10392325,  0.30178502,  0.1012566 ,  0.23332875,\n",
       "       -0.0227767 ,  0.29173402,  0.07202192,  0.10705344,  0.07598953,\n",
       "        0.06950422,  0.09390425,  0.33926708,  0.17976122,  0.13960284,\n",
       "        0.12512283,  0.07595622, -0.02978207,  0.00937552,  0.08007032,\n",
       "       -0.00276568,  0.38481522,  0.04152878,  0.2836261 ,  0.08381548,\n",
       "        0.41568303,  0.00277268,  0.06108393,  0.13580445,  0.34173294,\n",
       "        0.21624813,  0.15887929,  0.33380295,  0.0773323 ,  0.2760294 ,\n",
       "        0.14895351,  0.12395389,  0.20577791,  0.10750885,  0.03705835,\n",
       "        0.16655579,  0.33898327,  0.36329838,  0.34312552,  0.32559088,\n",
       "        0.20317968,  0.07678352,  0.08487189,  0.06472049, -0.00945166,\n",
       "        0.32447717,  0.03555163,  0.25468923,  0.21835564,  0.00058008,\n",
       "        0.14500252,  0.37474564,  0.14702409,  0.38745112,  0.15964613,\n",
       "        0.09108597,  0.06726338,  0.11150125,  0.1146609 ,  0.36482804,\n",
       "        0.02875049,  0.10961322,  0.13074191,  0.18381298,  0.09223403,\n",
       "        0.03312857,  0.13644631,  0.05303652,  0.05113245,  0.14086589,\n",
       "        0.34639894,  0.1085226 ,  0.09662854,  0.23548222,  0.09657978,\n",
       "        0.34100548,  0.29654151,  0.22141873,  0.21281645,  0.04062288,\n",
       "        0.01701045,  0.22476631,  0.21289117,  0.05714817, -0.00142129,\n",
       "        0.14891687,  0.34822706, -0.00310873,  0.23747843,  0.12072895,\n",
       "        0.16518786,  0.11670568,  0.01640652,  0.09062536,  0.36049776,\n",
       "        0.04210144,  0.04283307,  0.29222715,  0.25515192,  0.17828197,\n",
       "        0.28310147,  0.20746499,  0.16034417, -0.00468594,  0.19350049,\n",
       "        0.39688467,  0.12730629, -0.03351266,  0.10735317,  0.15150705,\n",
       "        0.12048933,  0.20162899,  0.33213988,  0.28253499, -0.03436321,\n",
       "        0.21911219,  0.21016162,  0.35524443,  0.30909127,  0.31641123,\n",
       "        0.26798098,  0.14636054,  0.38209983,  0.18568825,  0.0819811 ,\n",
       "        0.04154124,  0.03891496,  0.17002927,  0.21480502, -0.00134713,\n",
       "        0.37303885,  0.24342427,  0.06787102,  0.22223987,  0.20957257,\n",
       "        0.39505238,  0.2505597 ,  0.40825397,  0.24542533,  0.10873837,\n",
       "        0.17705895,  0.09897643, -0.04749789,  0.23577189,  0.1353861 ,\n",
       "        0.05443367,  0.23373318,  0.3081473 ,  0.1181663 ,  0.11927633,\n",
       "        0.18025488,  0.06545936,  0.10038489,  0.21322688,  0.34185842,\n",
       "        0.28626207,  0.12088946,  0.17478614,  0.22905358,  0.07212929,\n",
       "        0.02842938,  0.10039331,  0.3335541 ,  0.28218316,  0.03153587,\n",
       "        0.2553559 ,  0.22545709,  0.28700496,  0.28770486,  0.2631778 ,\n",
       "        0.15130171,  0.23580001,  0.09732648,  0.26924577,  0.28524968,\n",
       "        0.13515797,  0.19863421,  0.06587641,  0.26788973,  0.10758528,\n",
       "       -0.01297281,  0.21281847,  0.01279374,  0.17268955,  0.13528093,\n",
       "        0.28746005,  0.12611144,  0.13766307,  0.21820712,  0.10696572,\n",
       "        0.16059905,  0.2442249 ,  0.24895047,  0.35798244,  0.22927128,\n",
       "        0.30797404,  0.20652013,  0.07887986,  0.2976955 ,  0.32248911,\n",
       "        0.08095913,  0.20405278,  0.24561659,  0.24624343,  0.15214322,\n",
       "        0.36910449,  0.33788575,  0.04034485,  0.13771863,  0.2218902 ,\n",
       "        0.18654503,  0.24659087,  0.19881479,  0.27373635,  0.14335158,\n",
       "        0.11975663,  0.2130823 ,  0.23326005,  0.20559826,  0.33887442,\n",
       "        0.14053093,  0.14143919,  0.06942642,  0.06039751,  0.05947314,\n",
       "        0.19270944, -0.01172556, -0.0115526 ,  0.18084276,  0.08415677,\n",
       "        0.02853315,  0.12556243,  0.08445251,  0.18350548,  0.1295512 ,\n",
       "        0.21280029,  0.30260012,  0.2426786 ,  0.11655324,  0.11525746,\n",
       "        0.22899309,  0.19929226,  0.27578435,  0.26179613,  0.02425745,\n",
       "        0.20379875,  0.12836254,  0.06284939,  0.05054235,  0.11654503,\n",
       "        0.11140136,  0.07842499,  0.32928856,  0.05659906,  0.05624617,\n",
       "        0.16025385,  0.33868561,  0.27352374,  0.07455111,  0.02710385,\n",
       "        0.00440814,  0.17549421,  0.20808323,  0.24840873,  0.25587355,\n",
       "        0.18265482,  0.24948224,  0.1931739 ,  0.04611078,  0.31741066,\n",
       "        0.00738635,  0.0731119 ,  0.2226406 ,  0.02517973,  0.23633633])"
      ]
     },
     "execution_count": 32,
     "metadata": {},
     "output_type": "execute_result"
    }
   ],
   "source": [
    "sample_silhouette_values = silhouette_samples(scaled_df,labels)\n",
    "sample_silhouette_values"
   ]
  },
  {
   "cell_type": "code",
   "execution_count": 33,
   "metadata": {},
   "outputs": [
    {
     "data": {
      "text/plain": [
       "1852.0902591350114"
      ]
     },
     "execution_count": 33,
     "metadata": {},
     "output_type": "execute_result"
    }
   ],
   "source": [
    "wcss4 = kmeans4.inertia_\n",
    "wcss4"
   ]
  },
  {
   "cell_type": "markdown",
   "metadata": {
    "colab_type": "text",
    "id": "chyNZMquH89B"
   },
   "source": [
    "Appending Clusters to the original dataset"
   ]
  },
  {
   "cell_type": "markdown",
   "metadata": {
    "colab_type": "text",
    "id": "VZpPTeRjH89J"
   },
   "source": [
    "# Cluster Profiling"
   ]
  },
  {
   "cell_type": "code",
   "execution_count": 34,
   "metadata": {},
   "outputs": [],
   "source": [
    "df['labels'] = pd.DataFrame(kmeans4.labels_ , columns = list(['labels']))"
   ]
  },
  {
   "cell_type": "code",
   "execution_count": 35,
   "metadata": {
    "colab": {},
    "colab_type": "code",
    "id": "TzBQV5ZfH89K"
   },
   "outputs": [
    {
     "data": {
      "text/plain": [
       "0    146\n",
       "1    138\n",
       "2    110\n",
       "3    121\n",
       "Name: labels, dtype: int64"
      ]
     },
     "execution_count": 35,
     "metadata": {},
     "output_type": "execute_result"
    }
   ],
   "source": [
    "pd.value_counts(df['labels']).sort_index()"
   ]
  },
  {
   "cell_type": "code",
   "execution_count": 36,
   "metadata": {
    "colab": {},
    "colab_type": "code",
    "id": "anzKOs0nH89N"
   },
   "outputs": [
    {
     "data": {
      "text/html": [
       "<div>\n",
       "<style scoped>\n",
       "    .dataframe tbody tr th:only-of-type {\n",
       "        vertical-align: middle;\n",
       "    }\n",
       "\n",
       "    .dataframe tbody tr th {\n",
       "        vertical-align: top;\n",
       "    }\n",
       "\n",
       "    .dataframe thead th {\n",
       "        text-align: right;\n",
       "    }\n",
       "</style>\n",
       "<table border=\"1\" class=\"dataframe\">\n",
       "  <thead>\n",
       "    <tr style=\"text-align: right;\">\n",
       "      <th></th>\n",
       "      <th>DD</th>\n",
       "      <th>Withdrawals</th>\n",
       "      <th>Deposits</th>\n",
       "      <th>Branch Area in sqft</th>\n",
       "      <th>avg daily walkins</th>\n",
       "      <th>freq</th>\n",
       "    </tr>\n",
       "    <tr>\n",
       "      <th>labels</th>\n",
       "      <th></th>\n",
       "      <th></th>\n",
       "      <th></th>\n",
       "      <th></th>\n",
       "      <th></th>\n",
       "      <th></th>\n",
       "    </tr>\n",
       "  </thead>\n",
       "  <tbody>\n",
       "    <tr>\n",
       "      <td>0</td>\n",
       "      <td>287.541096</td>\n",
       "      <td>102.842466</td>\n",
       "      <td>77.212329</td>\n",
       "      <td>3115.821918</td>\n",
       "      <td>598.438356</td>\n",
       "      <td>146</td>\n",
       "    </tr>\n",
       "    <tr>\n",
       "      <td>1</td>\n",
       "      <td>182.130435</td>\n",
       "      <td>192.282609</td>\n",
       "      <td>89.282609</td>\n",
       "      <td>2938.478261</td>\n",
       "      <td>599.913043</td>\n",
       "      <td>138</td>\n",
       "    </tr>\n",
       "    <tr>\n",
       "      <td>2</td>\n",
       "      <td>162.209091</td>\n",
       "      <td>114.936364</td>\n",
       "      <td>74.527273</td>\n",
       "      <td>3033.318182</td>\n",
       "      <td>487.554545</td>\n",
       "      <td>110</td>\n",
       "    </tr>\n",
       "    <tr>\n",
       "      <td>3</td>\n",
       "      <td>286.380165</td>\n",
       "      <td>193.504132</td>\n",
       "      <td>84.933884</td>\n",
       "      <td>2622.066116</td>\n",
       "      <td>698.264463</td>\n",
       "      <td>121</td>\n",
       "    </tr>\n",
       "  </tbody>\n",
       "</table>\n",
       "</div>"
      ],
      "text/plain": [
       "                DD  Withdrawals   Deposits  Branch Area in sqft  \\\n",
       "labels                                                            \n",
       "0       287.541096   102.842466  77.212329          3115.821918   \n",
       "1       182.130435   192.282609  89.282609          2938.478261   \n",
       "2       162.209091   114.936364  74.527273          3033.318182   \n",
       "3       286.380165   193.504132  84.933884          2622.066116   \n",
       "\n",
       "        avg daily walkins  freq  \n",
       "labels                           \n",
       "0              598.438356   146  \n",
       "1              599.913043   138  \n",
       "2              487.554545   110  \n",
       "3              698.264463   121  "
      ]
     },
     "execution_count": 36,
     "metadata": {},
     "output_type": "execute_result"
    }
   ],
   "source": [
    "clust_profile=df.drop(['Bank'],axis=1)\n",
    "clust_profile=clust_profile.groupby('labels').mean()\n",
    "clust_profile['freq']=pd.value_counts(df['labels']).sort_index()\n",
    "clust_profile"
   ]
  },
  {
   "cell_type": "markdown",
   "metadata": {
    "colab_type": "text",
    "id": "BxU50Li8H89S"
   },
   "source": [
    "# Mention your insights"
   ]
  },
  {
   "cell_type": "markdown",
   "metadata": {
    "colab": {},
    "colab_type": "code",
    "id": "yR8-JDdNH89U"
   },
   "source": [
    "Cluster 3: Small sized bank with high deposits ,highest walkins ,highest withdrawals, and large DD"
   ]
  },
  {
   "cell_type": "markdown",
   "metadata": {
    "colab": {},
    "colab_type": "code",
    "id": "lkccygPnH89e"
   },
   "source": [
    "Cluster 2: Large size bank with lowest deposits ,lowest walkins, low withdrawals and lowest DD"
   ]
  },
  {
   "cell_type": "markdown",
   "metadata": {},
   "source": [
    "Cluster 1: Medium sized bank with highest deposits,moderate walkins, high withdrawals and lower DD."
   ]
  },
  {
   "cell_type": "markdown",
   "metadata": {},
   "source": [
    "Cluster 0: Large sized bank with low desposits,moderate walkins,lowest withdrawals and highest DD."
   ]
  }
 ],
 "metadata": {
  "colab": {
   "collapsed_sections": [],
   "name": "R4_External_Lab_Question_file.ipynb",
   "provenance": []
  },
  "kernelspec": {
   "display_name": "Python 3",
   "language": "python",
   "name": "python3"
  },
  "language_info": {
   "codemirror_mode": {
    "name": "ipython",
    "version": 3
   },
   "file_extension": ".py",
   "mimetype": "text/x-python",
   "name": "python",
   "nbconvert_exporter": "python",
   "pygments_lexer": "ipython3",
   "version": "3.7.4"
  }
 },
 "nbformat": 4,
 "nbformat_minor": 1
}
