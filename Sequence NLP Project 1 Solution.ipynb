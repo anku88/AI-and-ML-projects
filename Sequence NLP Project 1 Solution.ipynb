{
 "cells": [
  {
   "cell_type": "code",
   "execution_count": 1,
   "metadata": {},
   "outputs": [
    {
     "name": "stderr",
     "output_type": "stream",
     "text": [
      "Using TensorFlow backend.\n"
     ]
    }
   ],
   "source": [
    "import numpy as np\n",
    "import pandas as pd\n",
    "from keras.datasets import imdb\n",
    "import numpy as np\n",
    "from keras.models import Sequential\n",
    "from keras.layers import Dense\n",
    "from keras.layers import LSTM, Flatten, Dropout,TimeDistributed\n",
    "from keras.layers.embeddings import Embedding\n",
    "from keras.preprocessing import sequence\n",
    "import seaborn as sns\n",
    "import matplotlib.pyplot as plt\n",
    "%matplotlib inline\n",
    "from sklearn.metrics import classification_report, confusion_matrix"
   ]
  },
  {
   "cell_type": "markdown",
   "metadata": {},
   "source": [
    "### Q1 : Importing and analysing the data\n",
    "##### Using imdb.load_data() method\n",
    "##### Getting train and test set\n",
    "##### Taking 10000 most frequent words"
   ]
  },
  {
   "cell_type": "code",
   "execution_count": 2,
   "metadata": {},
   "outputs": [],
   "source": [
    "from tensorflow.keras.datasets import imdb"
   ]
  },
  {
   "cell_type": "code",
   "execution_count": 3,
   "metadata": {},
   "outputs": [],
   "source": [
    "(X_train, y_train), (X_test, y_test) = imdb.load_data(num_words = 10000)"
   ]
  },
  {
   "cell_type": "code",
   "execution_count": 4,
   "metadata": {},
   "outputs": [
    {
     "name": "stdout",
     "output_type": "stream",
     "text": [
      "Classes: Y_train\n",
      "[0 1]\n",
      "Classes: Y_test\n",
      "[0 1]\n"
     ]
    }
   ],
   "source": [
    "print(\"Classes: Y_train\")\n",
    "print(np.unique(y_train))\n",
    "print(\"Classes: Y_test\")\n",
    "print(np.unique(y_test))"
   ]
  },
  {
   "cell_type": "code",
   "execution_count": 5,
   "metadata": {},
   "outputs": [
    {
     "name": "stderr",
     "output_type": "stream",
     "text": [
      "C:\\Users\\Asus\\.conda\\envs\\tensorflow\\lib\\site-packages\\seaborn\\_decorators.py:43: FutureWarning: Pass the following variable as a keyword arg: x. From version 0.12, the only valid positional argument will be `data`, and passing other arguments without an explicit keyword will result in an error or misinterpretation.\n",
      "  FutureWarning\n"
     ]
    },
    {
     "data": {
      "text/plain": [
       "<AxesSubplot:ylabel='count'>"
      ]
     },
     "execution_count": 5,
     "metadata": {},
     "output_type": "execute_result"
    },
    {
     "data": {
      "image/png": "[encoded data removed]",
      "text/plain": [
       "<Figure size 432x288 with 1 Axes>"
      ]
     },
     "metadata": {
      "needs_background": "light"
     },
     "output_type": "display_data"
    }
   ],
   "source": [
    "sns.countplot(y_train)"
   ]
  },
  {
   "cell_type": "code",
   "execution_count": 6,
   "metadata": {},
   "outputs": [
    {
     "name": "stderr",
     "output_type": "stream",
     "text": [
      "C:\\Users\\Asus\\.conda\\envs\\tensorflow\\lib\\site-packages\\seaborn\\_decorators.py:43: FutureWarning: Pass the following variable as a keyword arg: x. From version 0.12, the only valid positional argument will be `data`, and passing other arguments without an explicit keyword will result in an error or misinterpretation.\n",
      "  FutureWarning\n"
     ]
    },
    {
     "data": {
      "text/plain": [
       "<AxesSubplot:ylabel='count'>"
      ]
     },
     "execution_count": 6,
     "metadata": {},
     "output_type": "execute_result"
    },
    {
     "data": {
      "image/png": "[encoded data removed]",
      "text/plain": [
       "<Figure size 432x288 with 1 Axes>"
      ]
     },
     "metadata": {
      "needs_background": "light"
     },
     "output_type": "display_data"
    }
   ],
   "source": [
    "sns.countplot(y_test)"
   ]
  },
  {
   "cell_type": "code",
   "execution_count": 7,
   "metadata": {},
   "outputs": [
    {
     "name": "stdout",
     "output_type": "stream",
     "text": [
      "Total number of words in reviews_train: \n",
      "9998\n",
      "Total number of words in reviews_test: \n",
      "9951\n"
     ]
    }
   ],
   "source": [
    "print(\"Total number of words in reviews_train: \")\n",
    "print(len(np.unique(np.hstack(X_train))))\n",
    "print(\"Total number of words in reviews_test: \")\n",
    "print(len(np.unique(np.hstack(X_test))))"
   ]
  },
  {
   "cell_type": "markdown",
   "metadata": {},
   "source": [
    "###### Q2. Performing relevant sequence adding on the data"
   ]
  },
  {
   "cell_type": "code",
   "execution_count": 8,
   "metadata": {},
   "outputs": [],
   "source": [
    "from tensorflow.keras.preprocessing.sequence import pad_sequences"
   ]
  },
  {
   "cell_type": "code",
   "execution_count": 9,
   "metadata": {},
   "outputs": [],
   "source": [
    "X_train = pad_sequences(X_train, maxlen = 300)\n",
    "X_test =  pad_sequences(X_test, maxlen = 300)"
   ]
  },
  {
   "cell_type": "markdown",
   "metadata": {},
   "source": [
    "#### Q3. Perform following data analysis:\n",
    "##### • Print shape of features and labels\n",
    "##### • Print value of any one feature and it's label"
   ]
  },
  {
   "cell_type": "code",
   "execution_count": 10,
   "metadata": {},
   "outputs": [
    {
     "name": "stdout",
     "output_type": "stream",
     "text": [
      "Features: Train_shape (25000, 300) Test_shape (25000, 300)\n"
     ]
    }
   ],
   "source": [
    "print('Features:','Train_shape',X_train.shape,'Test_shape',X_test.shape)"
   ]
  },
  {
   "cell_type": "code",
   "execution_count": 11,
   "metadata": {},
   "outputs": [
    {
     "name": "stdout",
     "output_type": "stream",
     "text": [
      "Labels: Train_shape (25000,) Test_shape (25000,)\n"
     ]
    }
   ],
   "source": [
    "print ('Labels:','Train_shape',y_train.shape,'Test_shape',y_test.shape)"
   ]
  },
  {
   "cell_type": "code",
   "execution_count": 12,
   "metadata": {},
   "outputs": [
    {
     "name": "stdout",
     "output_type": "stream",
     "text": [
      "Feature Value: [   6  346  137   11    4 2768  295   36 7740  725    6 3208  273   11\n",
      "    4 1513   15 1367   35  154    2  103    2  173    7   12   36  515\n",
      " 3547   94 2547 1722    5 3547   36  203   30  502    8  361   12    8\n",
      "  989  143    4 1172 3404   10   10  328 1236    9    6   55  221 2989\n",
      "    5  146  165  179  770   15   50  713   53  108  448   23   12   17\n",
      "  225   38   76 4397   18  183    8   81   19   12   45 1257    8  135\n",
      "   15    2  166    4  118    7   45    2   17  466   45    2    4   22\n",
      "  115  165  764 6075    5 1030    8 2973   73  469  167 2127    2 1568\n",
      "    6   87  841   18    4   22    4  192   15   91    7   12  304  273\n",
      " 1004    4 1375 1172 2768    2   15    4   22  764   55 5773    5   14\n",
      " 4233 7444    4 1375  326    7    4 4760 1786    8  361 1236    8  989\n",
      "   46    7    4 2768   45   55  776    8   79  496   98   45  400  301\n",
      "   15    4 1859    9    4  155   15   66    2   84    5   14   22 1534\n",
      "   15   17    4  167    2   15   75   70  115   66   30  252    7  618\n",
      "   51    9 2161    4 3130    5   14 1525    8 6584   15    2  165  127\n",
      " 1921    8   30  179 2532    4   22    9  906   18    6  176    7 1007\n",
      " 1005    4 1375  114    4  105   26   32   55  221   11   68  205   96\n",
      "    5    4  192   15    4  274  410  220  304   23   94  205  109    9\n",
      "   55   73  224  259 3786   15    4   22  528 1645   34    4  130  528\n",
      "   30  685  345   17    4  277  199  166  281    5 1030    8   30  179\n",
      " 4442  444    2    9    6  371   87  189   22    5   31    7    4  118\n",
      "    7    4 2068  545 1178  829]\n",
      "Label Value: 1\n"
     ]
    }
   ],
   "source": [
    "print('Feature Value:',X_train[10])\n",
    "print('Label Value:',y_train[10])"
   ]
  },
  {
   "cell_type": "markdown",
   "metadata": {},
   "source": [
    "##### Q4. Decoding the feature value to get original sentence."
   ]
  },
  {
   "cell_type": "code",
   "execution_count": 13,
   "metadata": {},
   "outputs": [],
   "source": [
    "word_index_dict = imdb.get_word_index()"
   ]
  },
  {
   "cell_type": "code",
   "execution_count": 14,
   "metadata": {},
   "outputs": [
    {
     "name": "stdout",
     "output_type": "stream",
     "text": [
      "the as you with out themselves powerful lets loves their becomes reaching had journalist of lot from anyone to have after out atmosphere never more room and it so heart shows to years of every never going and help moments or of every chest visual movie except her was several of enough more with is now current film as you of mine potentially unfortunately of you than him that with out themselves her get for was camp of you movie sometimes movie that with scary but and to story wonderful that in seeing in character to of 70s musicians with heart had shadows they of here that with her serious to have does when from why what have critics they is you that isn't one will very to as itself with other and in of seen over landed for anyone of and br show's to whether from than out themselves history he name half some br of and odd was two most of mean for 1 any an boat she he should is thought frog but of script you not while history he heart to real at barrel but when from one bit then have two of script their with her nobody most that with wasn't to with armed acting watch an for with heartfelt film want an "
     ]
    }
   ],
   "source": [
    "for encoding in X_train[0]:\n",
    "  for key, value in word_index_dict.items():\n",
    "    if encoding == value:\n",
    "      print(key, end = \" \")"
   ]
  },
  {
   "cell_type": "code",
   "execution_count": 15,
   "metadata": {},
   "outputs": [
    {
     "data": {
      "text/plain": [
       "1"
      ]
     },
     "execution_count": 15,
     "metadata": {},
     "output_type": "execute_result"
    }
   ],
   "source": [
    "y_train[0]"
   ]
  },
  {
   "cell_type": "markdown",
   "metadata": {},
   "source": [
    "##### Q5. Design, train, tune and test a sequential model. \n",
    "###### Model Architecture "
   ]
  },
  {
   "cell_type": "code",
   "execution_count": 16,
   "metadata": {},
   "outputs": [],
   "source": [
    "from tensorflow.keras.models import Sequential\n",
    "from tensorflow.keras.layers import Embedding, LSTM, Flatten, Dense, TimeDistributed\n",
    "\n",
    "model = Sequential()\n",
    "model.add(Embedding(input_dim = 10000, output_dim = 100, input_length = 300))\n",
    "model.add(LSTM(64, activation = 'relu', return_sequences=True))\n",
    "\n",
    "model.add(TimeDistributed(Dense(100)))\n",
    "\n",
    "model.add(Flatten())\n",
    "model.add(Dense(1024, activation = 'relu'))\n",
    "model.add(Dense(512, activation = 'relu'))\n",
    "model.add(Dense(256, activation = 'relu'))\n",
    "model.add(Dense(1, activation='sigmoid'))"
   ]
  },
  {
   "cell_type": "markdown",
   "metadata": {},
   "source": [
    "##### Model Compilation"
   ]
  },
  {
   "cell_type": "code",
   "execution_count": 17,
   "metadata": {},
   "outputs": [],
   "source": [
    "model.compile(optimizer='adam', loss='binary_crossentropy', metrics=['accuracy'])"
   ]
  },
  {
   "cell_type": "markdown",
   "metadata": {},
   "source": [
    "##### Model summary"
   ]
  },
  {
   "cell_type": "code",
   "execution_count": 18,
   "metadata": {},
   "outputs": [
    {
     "name": "stdout",
     "output_type": "stream",
     "text": [
      "Model: \"sequential\"\n",
      "_________________________________________________________________\n",
      "Layer (type)                 Output Shape              Param #   \n",
      "=================================================================\n",
      "embedding (Embedding)        (None, 300, 100)          1000000   \n",
      "_________________________________________________________________\n",
      "lstm (LSTM)                  (None, 300, 64)           42240     \n",
      "_________________________________________________________________\n",
      "time_distributed (TimeDistri (None, 300, 100)          6500      \n",
      "_________________________________________________________________\n",
      "flatten (Flatten)            (None, 30000)             0         \n",
      "_________________________________________________________________\n",
      "dense_1 (Dense)              (None, 1024)              30721024  \n",
      "_________________________________________________________________\n",
      "dense_2 (Dense)              (None, 512)               524800    \n",
      "_________________________________________________________________\n",
      "dense_3 (Dense)              (None, 256)               131328    \n",
      "_________________________________________________________________\n",
      "dense_4 (Dense)              (None, 1)                 257       \n",
      "=================================================================\n",
      "Total params: 32,426,149\n",
      "Trainable params: 32,426,149\n",
      "Non-trainable params: 0\n",
      "_________________________________________________________________\n"
     ]
    }
   ],
   "source": [
    "model.summary()"
   ]
  },
  {
   "cell_type": "markdown",
   "metadata": {},
   "source": [
    "##### Training the Model"
   ]
  },
  {
   "cell_type": "code",
   "execution_count": 19,
   "metadata": {},
   "outputs": [
    {
     "name": "stdout",
     "output_type": "stream",
     "text": [
      "Train on 25000 samples, validate on 25000 samples\n",
      "Epoch 1/5\n",
      "25000/25000 [==============================] - 261s 10ms/sample - loss: 0.3810 - accuracy: 0.8118 - val_loss: 0.2727 - val_accuracy: 0.8847\n",
      "Epoch 2/5\n",
      "25000/25000 [==============================] - 265s 11ms/sample - loss: 0.1864 - accuracy: 0.9293 - val_loss: 0.3047 - val_accuracy: 0.8733\n",
      "Epoch 3/5\n",
      "25000/25000 [==============================] - 288s 12ms/sample - loss: 0.0967 - accuracy: 0.9642 - val_loss: 0.4785 - val_accuracy: 0.8661\n",
      "Epoch 4/5\n",
      "25000/25000 [==============================] - 681s 27ms/sample - loss: 0.0378 - accuracy: 0.9854 - val_loss: 0.5828 - val_accuracy: 0.8614\n",
      "Epoch 5/5\n",
      "25000/25000 [==============================] - 295s 12ms/sample - loss: 0.0168 - accuracy: 0.9948 - val_loss: 0.7030 - val_accuracy: 0.8598\n"
     ]
    }
   ],
   "source": [
    "history = model.fit(X_train, y_train, validation_data=(X_test, y_test), epochs=5, batch_size=128)"
   ]
  },
  {
   "cell_type": "code",
   "execution_count": 20,
   "metadata": {},
   "outputs": [
    {
     "data": {
      "image/png": "[encoded data removed]",
      "text/plain": [
       "<Figure size 432x288 with 1 Axes>"
      ]
     },
     "metadata": {
      "needs_background": "light"
     },
     "output_type": "display_data"
    },
    {
     "data": {
      "image/png": "[encoded data removed]",
      "text/plain": [
       "<Figure size 432x288 with 1 Axes>"
      ]
     },
     "metadata": {
      "needs_background": "light"
     },
     "output_type": "display_data"
    }
   ],
   "source": [
    "import matplotlib.pyplot as plt\n",
    "\n",
    "plt.plot(history.history['accuracy'])\n",
    "plt.plot(history.history['val_accuracy'])\n",
    "plt.title('model accuracy')\n",
    "plt.ylabel('accuracy')\n",
    "plt.xlabel('epoch')\n",
    "plt.legend(['train', 'test'], loc='upper left')\n",
    "plt.show()\n",
    "# summarize history for loss\n",
    "plt.plot(history.history['loss'])\n",
    "plt.plot(history.history['val_loss'])\n",
    "plt.title('model loss')\n",
    "plt.ylabel('loss')\n",
    "plt.xlabel('epoch')\n",
    "plt.legend(['train', 'test'], loc='upper left')\n",
    "plt.show()"
   ]
  },
  {
   "cell_type": "markdown",
   "metadata": {},
   "source": [
    "##### Evaluating model "
   ]
  },
  {
   "cell_type": "code",
   "execution_count": 21,
   "metadata": {},
   "outputs": [
    {
     "name": "stdout",
     "output_type": "stream",
     "text": [
      "25000/25000 [==============================] - 100s 4ms/sample - loss: 0.7030 - accuracy: 0.8598\n",
      "Loss: 0.7029744073975086, Accuracy:0.8597999811172485\n"
     ]
    }
   ],
   "source": [
    "score = model.evaluate(X_test, y_test)\n",
    "print(\"Loss: {}, Accuracy:{}\".format(score[0], score[1]))"
   ]
  },
  {
   "cell_type": "markdown",
   "metadata": {},
   "source": [
    "##### Prediction and Classification Report"
   ]
  },
  {
   "cell_type": "code",
   "execution_count": 22,
   "metadata": {},
   "outputs": [],
   "source": [
    "y_pred = model.predict(X_test)"
   ]
  },
  {
   "cell_type": "code",
   "execution_count": 23,
   "metadata": {},
   "outputs": [
    {
     "data": {
      "text/plain": [
       "array([[3.6652198e-01],\n",
       "       [1.0000000e+00],\n",
       "       [9.9945408e-01],\n",
       "       [3.2195315e-01],\n",
       "       [9.9999988e-01],\n",
       "       [3.1231269e-02],\n",
       "       [8.8064986e-01],\n",
       "       [3.0179383e-08],\n",
       "       [6.0995036e-01],\n",
       "       [9.9999988e-01]], dtype=float32)"
      ]
     },
     "execution_count": 23,
     "metadata": {},
     "output_type": "execute_result"
    }
   ],
   "source": [
    "y_pred[:10]"
   ]
  },
  {
   "cell_type": "code",
   "execution_count": 24,
   "metadata": {},
   "outputs": [
    {
     "data": {
      "text/plain": [
       "array([[0],\n",
       "       [1],\n",
       "       [1],\n",
       "       [0],\n",
       "       [1]])"
      ]
     },
     "execution_count": 24,
     "metadata": {},
     "output_type": "execute_result"
    }
   ],
   "source": [
    "# Converting probabilities into class\n",
    "y_pred = np.round(y_pred).astype(int)\n",
    "y_pred[:5]"
   ]
  },
  {
   "cell_type": "code",
   "execution_count": 25,
   "metadata": {},
   "outputs": [
    {
     "name": "stdout",
     "output_type": "stream",
     "text": [
      "              precision    recall  f1-score   support\n",
      "\n",
      " Bad Reviews       0.84      0.89      0.86     12500\n",
      "Good Reviews       0.88      0.83      0.86     12500\n",
      "\n",
      "    accuracy                           0.86     25000\n",
      "   macro avg       0.86      0.86      0.86     25000\n",
      "weighted avg       0.86      0.86      0.86     25000\n",
      "\n"
     ]
    }
   ],
   "source": [
    "print(classification_report(y_test, y_pred, target_names = ['Bad Reviews','Good Reviews']))"
   ]
  },
  {
   "cell_type": "code",
   "execution_count": 26,
   "metadata": {},
   "outputs": [
    {
     "name": "stdout",
     "output_type": "stream",
     "text": [
      "[[11084  1416]\n",
      " [ 2089 10411]]\n"
     ]
    }
   ],
   "source": [
    "cm = confusion_matrix(y_test,y_pred)\n",
    "print(cm)"
   ]
  },
  {
   "cell_type": "code",
   "execution_count": 27,
   "metadata": {},
   "outputs": [
    {
     "data": {
      "text/plain": [
       "Text(69.0, 0.5, 'Actual')"
      ]
     },
     "execution_count": 27,
     "metadata": {},
     "output_type": "execute_result"
    },
    {
     "data": {
      "image/png": "[encoded data removed]",
      "text/plain": [
       "<Figure size 720x720 with 2 Axes>"
      ]
     },
     "metadata": {
      "needs_background": "light"
     },
     "output_type": "display_data"
    }
   ],
   "source": [
    "plt.figure(figsize = (10,10))\n",
    "sns.heatmap(cm,cmap= \"turbo\",\n",
    "            linecolor = 'yellow', \n",
    "            linewidth = 1, \n",
    "            annot = True, \n",
    "            fmt='', \n",
    "            xticklabels = ['Bad Reviews','Good Reviews'], \n",
    "            yticklabels = ['Bad Reviews','Good Reviews'])\n",
    "plt.xlabel(\"Predicted\")\n",
    "plt.ylabel(\"Actual\")"
   ]
  },
  {
   "cell_type": "markdown",
   "metadata": {},
   "source": [
    "##### Predicting on one sample "
   ]
  },
  {
   "cell_type": "code",
   "execution_count": 28,
   "metadata": {},
   "outputs": [],
   "source": [
    "index = imdb.get_word_index()\n",
    "reverse_index = dict([(value, key) for (key, value) in index.items()]) \n",
    "decoded = \" \".join( [reverse_index.get(i - 3, \"#\") for i in X_test[0]] )"
   ]
  },
  {
   "cell_type": "code",
   "execution_count": 29,
   "metadata": {},
   "outputs": [
    {
     "name": "stdout",
     "output_type": "stream",
     "text": [
      "Encoded Features: \n",
      "[   0    0    0    0    0    0    0    0    0    0    0    0    0    0\n",
      "    0    0    0    0    0    0    0    0    0    0    0    0    0    0\n",
      "    0    0    0    0    0    0    0    0    0    0    0    0    0    0\n",
      "    0    0    0    0    0    0    0    0    0    0    0    0    0    0\n",
      "    0    0    0    0    0    0    0    0    0    0    0    0    0    0\n",
      "    0    0    0    0    0    0    0    0    0    0    0    0    0    0\n",
      "    0    0    0    0    0    0    0    1 1581   34 7908 5082   23    6\n",
      " 1374 1120    7  107  349    2 1496   11 5116   18  397 3767    7    4\n",
      "  107   84 6763   56   68  456 1402    2   39    4 1374    9   35  204\n",
      "    5   55 4412  212  193   23    4  326   45    6 1109    8 1738    2\n",
      "   15   29  199 1040    5 2684   11   14 1403  212 1528   10   10 2160\n",
      "    2    9    4  452   37    2    4  598  425    5   45 4394  138   59\n",
      "  214  467    4 2391    7 1738    2   19   41 2455 3028    5 6866 1489\n",
      "   90  180   18  101 1403    2 1514 5257    9    4  564  871  322   47\n",
      " 2586   27  274  326    5    9  150  112    2   17    6   87  162 2133\n",
      "   60 3256   23    4 7999  123    8   11    2   29  144   30 2961 1346\n",
      "    2  214    4  326    7    2 1496    8 3767  533    7  134    2 6229\n",
      "   10   10    7  265  285    5  233   70  593   54  564 4124    2 1625\n",
      "   27 1546    2   19    2 1008   18   89    4  114 3209    5   45 1139\n",
      "   32    4   96  143 3760  958    7  919    5 7611  367    4   96   17\n",
      "   73   17    6   52  855    7  836   10   10   18    2    7  328  212\n",
      "   14   31    9 5523    8  591]\n",
      "Deccoded Review: \n",
      "# # # # # # # # # # # # # # # # # # # # # # # # # # # # # # # # # # # # # # # # # # # # # # # # # # # # # # # # # # # # # # # # # # # # # # # # # # # # # # # # # # # # # # # # # # # # inspired by hitchcock's strangers on a train concept of two men # murders in exchange for getting rid of the two people messing up their lives throw # from the train is an original and very inventive comedy take on the idea it's a credit to danny # that he both wrote and starred in this minor comedy gem br br anne # is the mother who # the film's title and it's understandable why she gets under the skin of danny # with her sharp tongue and relentlessly putting him down for any minor # billy crystal is the writer who's wife has stolen his book idea and is now being # as a great new author even appearing on the oprah show to in # he should be enjoying thus # gets the idea of # murders to rid themselves of these # factors br br of course everything and anything can happen when writer carl # lets his imagination # with # ideas for how the plot develops and it's amusing all the way through providing plenty of laughs and chuckles along the way as well as a good deal of suspense br br for # of black comedy this one is guaranteed to please\n",
      "Actual Label: \n",
      "1\n",
      "Predicted Label: \n",
      "[0]\n"
     ]
    }
   ],
   "source": [
    "print(\"Encoded Features: \")\n",
    "print(X_test[10])\n",
    "X_test_sample = \" \".join( [reverse_index.get(i - 3, \"#\") for i in X_test[10]] )\n",
    "print(\"Deccoded Review: \")\n",
    "print(X_test_sample)\n",
    "print(\"Actual Label: \")\n",
    "print(y_test[10])\n",
    "print(\"Predicted Label: \")\n",
    "print(y_pred[10])"
   ]
  },
  {
   "cell_type": "code",
   "execution_count": 30,
   "metadata": {},
   "outputs": [
    {
     "data": {
      "text/plain": [
       "array([[0.3665218]], dtype=float32)"
      ]
     },
     "execution_count": 30,
     "metadata": {},
     "output_type": "execute_result"
    }
   ],
   "source": [
    "model.predict(X_test[0].reshape((1, 300)))"
   ]
  }
 ],
 "metadata": {
  "kernelspec": {
   "display_name": "Python 3",
   "language": "python",
   "name": "python3"
  },
  "language_info": {
   "codemirror_mode": {
    "name": "ipython",
    "version": 3
   },
   "file_extension": ".py",
   "mimetype": "text/x-python",
   "name": "python",
   "nbconvert_exporter": "python",
   "pygments_lexer": "ipython3",
   "version": "3.7.7"
  }
 },
 "nbformat": 4,
 "nbformat_minor": 4
}
