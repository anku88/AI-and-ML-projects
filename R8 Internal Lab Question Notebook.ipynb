{
 "cells": [
  {
   "cell_type": "markdown",
   "metadata": {
    "id": "PHYs6Z84xV8E"
   },
   "source": [
    "<img src=\"http://drive.google.com/uc?export=view&id=1tpOCamr9aWz817atPnyXus8w5gJ3mIts\" width=500px>\n",
    "\n",
    "Proprietary content. © Great Learning. All Rights Reserved. Unauthorized use or distribution prohibited."
   ]
  },
  {
   "cell_type": "markdown",
   "metadata": {
    "id": "5QQxgAmWzSye"
   },
   "source": [
    "# Mobile Phone Review Analysis"
   ]
  },
  {
   "cell_type": "markdown",
   "metadata": {
    "id": "FbwHYUXhxaqD"
   },
   "source": [
    "## Context\n",
    "\n",
    "The product companies can utilize the detailed review comments to gather insights from the end user. Most of the products are sold via e-commerce sites like Flipkart or Amazon where customers can buy a product and give their review about the product on the web site. \n",
    "Product managers can identify the relevant reviews from the website and run a sentiment analysis tool to understand what the sentiments of the customer are. Based on their sentiments, they can identify what users think of the current product. Are they happy? Discontent? \n",
    "They can also come up with a document that lists the features, the team needs to focus on for making the product better. \n",
    "\n",
    "## Objective\n",
    "\n",
    "Given the review data rating label, we will try to get insights about various brands and their ratings using text analytics and build a model to predict the rating and overall sentiment. \n"
   ]
  },
  {
   "cell_type": "markdown",
   "metadata": {
    "id": "CI7usguRzeox"
   },
   "source": [
    "### Package version\n",
    "\n",
    "- tensorflow==2.3.0\n",
    "- scikit-learn==0.22.2.post1\n",
    "- pandas==1.0.5\n",
    "- numpy==1.18.5\n",
    "- matplotlib==3.2.2\n",
    "- google==2.0.3"
   ]
  },
  {
   "cell_type": "markdown",
   "metadata": {
    "id": "aiMdVjHRH7NR"
   },
   "source": [
    "### Data Dictionary \n",
    "\n",
    "product_data.csv - contains product details\n",
    "- 'asin',  - Product ASIN\n",
    "- 'brand', - Product Brand\n",
    "- 'title', - Product Title\n",
    "- 'url',  - Product URL\n",
    "- 'image', - Product Image URL\n",
    "- 'rating',- Product Avg. Rating\n",
    "- 'reviewUrl' - Product Review Page URL\n",
    "- 'totalReviews' - Product Total Reviews\n",
    "- ‘price’ - Product Price ($)\n",
    "- ‘originalPrice’ - Product Original Price ($)\n",
    " \n",
    "reviews.csv  - contains user review details\n",
    " \n",
    "- 'asin' - Product ASIN\n",
    "- 'name' - Reviewer Name\n",
    "- 'rating' - Reviewer Rating (scale 1 to 5)\n",
    "- 'date'  - Review Date\n",
    "- 'verified' - Valid Customer\n",
    "- 'title'  - Review Title\n",
    "- 'body'  - Review Content\n",
    "- 'helpfulVotes  - Helpful Feedbacks\n"
   ]
  },
  {
   "cell_type": "markdown",
   "metadata": {
    "id": "cEn52o8jznJK"
   },
   "source": [
    "## Table of Content\n",
    "\n",
    "1. Import Libraries\n",
    "\n",
    "2. Setting options\n",
    "\n",
    "3. Read Data\n",
    "\n",
    "4. Data Analysis and EDA\n",
    "\n",
    "5. Text preprocessing and Vectorization\n",
    "\n",
    "6. Model building\n",
    "\n",
    "7. Conclusion and Interpretation"
   ]
  },
  {
   "cell_type": "markdown",
   "metadata": {
    "id": "x_Lom6cXzqn7"
   },
   "source": [
    "## 1. Import Libraries"
   ]
  },
  {
   "cell_type": "markdown",
   "metadata": {
    "id": "FZtVstH8zre2"
   },
   "source": [
    "Let us start by mounting the drive"
   ]
  },
  {
   "cell_type": "markdown",
   "metadata": {
    "colab": {
     "base_uri": "https://localhost:8080/",
     "height": 34
    },
    "id": "xv9jxv3-R5Xl",
    "outputId": "fb2b5df7-3220-47e5-8dbe-1f36dc5401e9"
   },
   "source": [
    "from google.colab import drive\n",
    "drive.mount('/content/drive')"
   ]
  },
  {
   "cell_type": "markdown",
   "metadata": {
    "id": "Gv-tZoFjz2WD"
   },
   "source": [
    "Let us check for the version of installed tensorflow."
   ]
  },
  {
   "cell_type": "code",
   "execution_count": 1,
   "metadata": {
    "colab": {
     "base_uri": "https://localhost:8080/",
     "height": 88
    },
    "id": "eiuUVBuDzzn9",
    "outputId": "7e5656db-44e1-4392-a0fe-6442f6ee56c5"
   },
   "outputs": [
    {
     "name": "stdout",
     "output_type": "stream",
     "text": [
      "2.1.0\n"
     ]
    }
   ],
   "source": [
    "# used to supress display of warnings\n",
    "import warnings\n",
    "\n",
    "# os is used to provide a way of using operating system dependent functionality\n",
    "# We use it for setting working folder\n",
    "import os\n",
    "\n",
    "# Pandas is used for data manipulation and analysis\n",
    "import pandas as pd \n",
    "\n",
    "# Numpy is used for large, multi-dimensional arrays and matrices, along with mathematical operators on these arrays\n",
    "import numpy as np\n",
    "\n",
    "# Matplotlib is a data visualization library for 2D plots of arrays, built on NumPy arrays \n",
    "# and designed to work with the broader SciPy stack\n",
    "import matplotlib.pyplot as plt\n",
    "%matplotlib inline\n",
    "from matplotlib import pyplot\n",
    "\n",
    "# Seaborn is based on matplotlib, which aids in drawing attractive and informative statistical graphics.\n",
    "import seaborn as sns\n",
    "import tensorflow \n",
    "print(tensorflow.__version__)"
   ]
  },
  {
   "cell_type": "markdown",
   "metadata": {
    "id": "fze-aokU0ukH"
   },
   "source": [
    "## 2. Setting Options"
   ]
  },
  {
   "cell_type": "code",
   "execution_count": 2,
   "metadata": {
    "id": "T3FALggG0xXa"
   },
   "outputs": [],
   "source": [
    "# suppress display of warnings\n",
    "warnings.filterwarnings('ignore')\n",
    "\n",
    "# display all dataframe columns\n",
    "pd.options.display.max_columns = None\n",
    "\n",
    "# to set the limit to 3 decimals\n",
    "pd.options.display.float_format = '{:.7f}'.format\n",
    "\n",
    "# display all dataframe rows\n",
    "pd.options.display.max_rows = None"
   ]
  },
  {
   "cell_type": "markdown",
   "metadata": {
    "id": "ZT1P1WdK1vfZ"
   },
   "source": [
    "## 3. Read Data"
   ]
  },
  {
   "cell_type": "markdown",
   "metadata": {
    "id": "-UOW6zwww7L1"
   },
   "source": [
    "### 3.1 Read the provided CSVs and check 5 random samples and shape to understand the datasets"
   ]
  },
  {
   "cell_type": "code",
   "execution_count": 3,
   "metadata": {
    "id": "nxT2g284xF1W"
   },
   "outputs": [],
   "source": [
    "df_product = pd.read_csv('product_data.csv')\n",
    "df_reviews = pd.read_csv('reviews.csv')"
   ]
  },
  {
   "cell_type": "code",
   "execution_count": 4,
   "metadata": {},
   "outputs": [
    {
     "name": "stdout",
     "output_type": "stream",
     "text": [
      "<class 'pandas.core.frame.DataFrame'>\n",
      "RangeIndex: 720 entries, 0 to 719\n",
      "Data columns (total 10 columns):\n",
      " #   Column         Non-Null Count  Dtype  \n",
      "---  ------         --------------  -----  \n",
      " 0   asin           720 non-null    object \n",
      " 1   brand          716 non-null    object \n",
      " 2   title          720 non-null    object \n",
      " 3   url            720 non-null    object \n",
      " 4   image          720 non-null    object \n",
      " 5   rating         720 non-null    float64\n",
      " 6   reviewUrl      720 non-null    object \n",
      " 7   totalReviews   720 non-null    int64  \n",
      " 8   price          720 non-null    float64\n",
      " 9   originalPrice  720 non-null    float64\n",
      "dtypes: float64(3), int64(1), object(6)\n",
      "memory usage: 56.4+ KB\n",
      "None\n",
      "<class 'pandas.core.frame.DataFrame'>\n",
      "RangeIndex: 67986 entries, 0 to 67985\n",
      "Data columns (total 8 columns):\n",
      " #   Column        Non-Null Count  Dtype  \n",
      "---  ------        --------------  -----  \n",
      " 0   asin          67986 non-null  object \n",
      " 1   name          67984 non-null  object \n",
      " 2   rating        67986 non-null  int64  \n",
      " 3   date          67986 non-null  object \n",
      " 4   verified      67986 non-null  bool   \n",
      " 5   title         67972 non-null  object \n",
      " 6   body          67965 non-null  object \n",
      " 7   helpfulVotes  27215 non-null  float64\n",
      "dtypes: bool(1), float64(1), int64(1), object(5)\n",
      "memory usage: 3.7+ MB\n",
      "None\n"
     ]
    }
   ],
   "source": [
    "print(df_product.info())\n",
    "print(df_reviews.info())"
   ]
  },
  {
   "cell_type": "code",
   "execution_count": 5,
   "metadata": {},
   "outputs": [
    {
     "data": {
      "text/html": [
       "<div>\n",
       "<style scoped>\n",
       "    .dataframe tbody tr th:only-of-type {\n",
       "        vertical-align: middle;\n",
       "    }\n",
       "\n",
       "    .dataframe tbody tr th {\n",
       "        vertical-align: top;\n",
       "    }\n",
       "\n",
       "    .dataframe thead th {\n",
       "        text-align: right;\n",
       "    }\n",
       "</style>\n",
       "<table border=\"1\" class=\"dataframe\">\n",
       "  <thead>\n",
       "    <tr style=\"text-align: right;\">\n",
       "      <th></th>\n",
       "      <th>asin</th>\n",
       "      <th>brand</th>\n",
       "      <th>title</th>\n",
       "      <th>url</th>\n",
       "      <th>image</th>\n",
       "      <th>rating</th>\n",
       "      <th>reviewUrl</th>\n",
       "      <th>totalReviews</th>\n",
       "      <th>price</th>\n",
       "      <th>originalPrice</th>\n",
       "    </tr>\n",
       "  </thead>\n",
       "  <tbody>\n",
       "    <tr>\n",
       "      <th>457</th>\n",
       "      <td>B07HK4JNV1</td>\n",
       "      <td>Xiaomi</td>\n",
       "      <td>Xiaomi Redmi Note 6 Pro 64GB / 4GB RAM 6.26\" D...</td>\n",
       "      <td>https://www.amazon.com/Xiaomi-Factory-Unlocked...</td>\n",
       "      <td>https://m.media-amazon.com/images/I/517Q3-wHBk...</td>\n",
       "      <td>4.3000000</td>\n",
       "      <td>https://www.amazon.com/product-reviews/B07HK4JNV1</td>\n",
       "      <td>441</td>\n",
       "      <td>179.5000000</td>\n",
       "      <td>0.0000000</td>\n",
       "    </tr>\n",
       "    <tr>\n",
       "      <th>555</th>\n",
       "      <td>B07PW9XW1G</td>\n",
       "      <td>HUAWEI</td>\n",
       "      <td>Huawei E8372h-608 Unlocked 150 Mbps 4G LTE Mod...</td>\n",
       "      <td>https://www.amazon.com/Huawei-E8372h-608-Unloc...</td>\n",
       "      <td>https://m.media-amazon.com/images/I/41+NU2WfaD...</td>\n",
       "      <td>3.4000000</td>\n",
       "      <td>https://www.amazon.com/product-reviews/B07PW9XW1G</td>\n",
       "      <td>3</td>\n",
       "      <td>79.9900000</td>\n",
       "      <td>0.0000000</td>\n",
       "    </tr>\n",
       "    <tr>\n",
       "      <th>666</th>\n",
       "      <td>B07WP6ZLL8</td>\n",
       "      <td>Samsung</td>\n",
       "      <td>Samsung Galaxy Note 10+ N975F/DS 256GB, 6.8' D...</td>\n",
       "      <td>https://www.amazon.com/Samsung-DS-Dynamic-Unlo...</td>\n",
       "      <td>https://m.media-amazon.com/images/I/51tkQz5m9O...</td>\n",
       "      <td>3.6000000</td>\n",
       "      <td>https://www.amazon.com/product-reviews/B07WP6ZLL8</td>\n",
       "      <td>7</td>\n",
       "      <td>848.0000000</td>\n",
       "      <td>0.0000000</td>\n",
       "    </tr>\n",
       "    <tr>\n",
       "      <th>524</th>\n",
       "      <td>B07NLMCDN4</td>\n",
       "      <td>Samsung</td>\n",
       "      <td>Samsung Galaxy Note9 Smartphone 6.4in AT&amp;T And...</td>\n",
       "      <td>https://www.amazon.com/Samsung-Galaxy-Smartpho...</td>\n",
       "      <td>https://m.media-amazon.com/images/I/71sSlZt65F...</td>\n",
       "      <td>1.0000000</td>\n",
       "      <td>https://www.amazon.com/product-reviews/B07NLMCDN4</td>\n",
       "      <td>1</td>\n",
       "      <td>469.0000000</td>\n",
       "      <td>0.0000000</td>\n",
       "    </tr>\n",
       "    <tr>\n",
       "      <th>684</th>\n",
       "      <td>B07XZJG7V9</td>\n",
       "      <td>Samsung</td>\n",
       "      <td>Samsung Galaxy S10 Plus G975U 128GB T-Mobile G...</td>\n",
       "      <td>https://www.amazon.com/Samsung-Galaxy-G975U-T-...</td>\n",
       "      <td>https://m.media-amazon.com/images/I/61mWq3bufp...</td>\n",
       "      <td>5.0000000</td>\n",
       "      <td>https://www.amazon.com/product-reviews/B07XZJG7V9</td>\n",
       "      <td>1</td>\n",
       "      <td>599.9500000</td>\n",
       "      <td>0.0000000</td>\n",
       "    </tr>\n",
       "  </tbody>\n",
       "</table>\n",
       "</div>"
      ],
      "text/plain": [
       "           asin    brand                                              title  \\\n",
       "457  B07HK4JNV1   Xiaomi  Xiaomi Redmi Note 6 Pro 64GB / 4GB RAM 6.26\" D...   \n",
       "555  B07PW9XW1G   HUAWEI  Huawei E8372h-608 Unlocked 150 Mbps 4G LTE Mod...   \n",
       "666  B07WP6ZLL8  Samsung  Samsung Galaxy Note 10+ N975F/DS 256GB, 6.8' D...   \n",
       "524  B07NLMCDN4  Samsung  Samsung Galaxy Note9 Smartphone 6.4in AT&T And...   \n",
       "684  B07XZJG7V9  Samsung  Samsung Galaxy S10 Plus G975U 128GB T-Mobile G...   \n",
       "\n",
       "                                                   url  \\\n",
       "457  https://www.amazon.com/Xiaomi-Factory-Unlocked...   \n",
       "555  https://www.amazon.com/Huawei-E8372h-608-Unloc...   \n",
       "666  https://www.amazon.com/Samsung-DS-Dynamic-Unlo...   \n",
       "524  https://www.amazon.com/Samsung-Galaxy-Smartpho...   \n",
       "684  https://www.amazon.com/Samsung-Galaxy-G975U-T-...   \n",
       "\n",
       "                                                 image    rating  \\\n",
       "457  https://m.media-amazon.com/images/I/517Q3-wHBk... 4.3000000   \n",
       "555  https://m.media-amazon.com/images/I/41+NU2WfaD... 3.4000000   \n",
       "666  https://m.media-amazon.com/images/I/51tkQz5m9O... 3.6000000   \n",
       "524  https://m.media-amazon.com/images/I/71sSlZt65F... 1.0000000   \n",
       "684  https://m.media-amazon.com/images/I/61mWq3bufp... 5.0000000   \n",
       "\n",
       "                                             reviewUrl  totalReviews  \\\n",
       "457  https://www.amazon.com/product-reviews/B07HK4JNV1           441   \n",
       "555  https://www.amazon.com/product-reviews/B07PW9XW1G             3   \n",
       "666  https://www.amazon.com/product-reviews/B07WP6ZLL8             7   \n",
       "524  https://www.amazon.com/product-reviews/B07NLMCDN4             1   \n",
       "684  https://www.amazon.com/product-reviews/B07XZJG7V9             1   \n",
       "\n",
       "          price  originalPrice  \n",
       "457 179.5000000      0.0000000  \n",
       "555  79.9900000      0.0000000  \n",
       "666 848.0000000      0.0000000  \n",
       "524 469.0000000      0.0000000  \n",
       "684 599.9500000      0.0000000  "
      ]
     },
     "execution_count": 5,
     "metadata": {},
     "output_type": "execute_result"
    }
   ],
   "source": [
    "df_product.sample(5)"
   ]
  },
  {
   "cell_type": "code",
   "execution_count": 6,
   "metadata": {},
   "outputs": [
    {
     "data": {
      "text/html": [
       "<div>\n",
       "<style scoped>\n",
       "    .dataframe tbody tr th:only-of-type {\n",
       "        vertical-align: middle;\n",
       "    }\n",
       "\n",
       "    .dataframe tbody tr th {\n",
       "        vertical-align: top;\n",
       "    }\n",
       "\n",
       "    .dataframe thead th {\n",
       "        text-align: right;\n",
       "    }\n",
       "</style>\n",
       "<table border=\"1\" class=\"dataframe\">\n",
       "  <thead>\n",
       "    <tr style=\"text-align: right;\">\n",
       "      <th></th>\n",
       "      <th>asin</th>\n",
       "      <th>name</th>\n",
       "      <th>rating</th>\n",
       "      <th>date</th>\n",
       "      <th>verified</th>\n",
       "      <th>title</th>\n",
       "      <th>body</th>\n",
       "      <th>helpfulVotes</th>\n",
       "    </tr>\n",
       "  </thead>\n",
       "  <tbody>\n",
       "    <tr>\n",
       "      <th>30093</th>\n",
       "      <td>B01NC157KR</td>\n",
       "      <td>Amazon Customer</td>\n",
       "      <td>5</td>\n",
       "      <td>September 15, 2019</td>\n",
       "      <td>True</td>\n",
       "      <td>Much better value than buying a new phone</td>\n",
       "      <td>I had a Note 3 which I loved, but it finally g...</td>\n",
       "      <td>NaN</td>\n",
       "    </tr>\n",
       "    <tr>\n",
       "      <th>21741</th>\n",
       "      <td>B01D1J9BGU</td>\n",
       "      <td>Styx</td>\n",
       "      <td>5</td>\n",
       "      <td>January 22, 2018</td>\n",
       "      <td>True</td>\n",
       "      <td>Broken Seal -- working okay so far</td>\n",
       "      <td>FIt was a gift for my girlfriend. She loves th...</td>\n",
       "      <td>1.0000000</td>\n",
       "    </tr>\n",
       "    <tr>\n",
       "      <th>33594</th>\n",
       "      <td>B06XZRH5ZC</td>\n",
       "      <td>vale</td>\n",
       "      <td>5</td>\n",
       "      <td>October 7, 2017</td>\n",
       "      <td>True</td>\n",
       "      <td>very nice phone. i had it for two weeks now ...</td>\n",
       "      <td>very nice phone. i had it for two weeks now an...</td>\n",
       "      <td>NaN</td>\n",
       "    </tr>\n",
       "    <tr>\n",
       "      <th>35699</th>\n",
       "      <td>B071JP8XDJ</td>\n",
       "      <td>Siearra clum</td>\n",
       "      <td>1</td>\n",
       "      <td>November 27, 2018</td>\n",
       "      <td>True</td>\n",
       "      <td>Phone was not unlocked</td>\n",
       "      <td>Phone was not unlocked</td>\n",
       "      <td>NaN</td>\n",
       "    </tr>\n",
       "    <tr>\n",
       "      <th>24692</th>\n",
       "      <td>B01HTZ4T8C</td>\n",
       "      <td>Danielle Boggs</td>\n",
       "      <td>1</td>\n",
       "      <td>December 14, 2019</td>\n",
       "      <td>True</td>\n",
       "      <td>Not worth it</td>\n",
       "      <td>Went to add a sim card and it wont work</td>\n",
       "      <td>NaN</td>\n",
       "    </tr>\n",
       "  </tbody>\n",
       "</table>\n",
       "</div>"
      ],
      "text/plain": [
       "             asin             name  rating                date  verified  \\\n",
       "30093  B01NC157KR  Amazon Customer       5  September 15, 2019      True   \n",
       "21741  B01D1J9BGU             Styx       5    January 22, 2018      True   \n",
       "33594  B06XZRH5ZC             vale       5     October 7, 2017      True   \n",
       "35699  B071JP8XDJ     Siearra clum       1   November 27, 2018      True   \n",
       "24692  B01HTZ4T8C   Danielle Boggs       1   December 14, 2019      True   \n",
       "\n",
       "                                                 title  \\\n",
       "30093        Much better value than buying a new phone   \n",
       "21741               Broken Seal -- working okay so far   \n",
       "33594  very nice phone. i had it for two weeks now ...   \n",
       "35699                           Phone was not unlocked   \n",
       "24692                                     Not worth it   \n",
       "\n",
       "                                                    body  helpfulVotes  \n",
       "30093  I had a Note 3 which I loved, but it finally g...           NaN  \n",
       "21741  FIt was a gift for my girlfriend. She loves th...     1.0000000  \n",
       "33594  very nice phone. i had it for two weeks now an...           NaN  \n",
       "35699                             Phone was not unlocked           NaN  \n",
       "24692            Went to add a sim card and it wont work           NaN  "
      ]
     },
     "execution_count": 6,
     "metadata": {},
     "output_type": "execute_result"
    }
   ],
   "source": [
    "df_reviews.sample(5)"
   ]
  },
  {
   "cell_type": "markdown",
   "metadata": {
    "id": "rED6DbDBKTjM"
   },
   "source": [
    "## 4.  Data Analysis and EDA"
   ]
  },
  {
   "cell_type": "markdown",
   "metadata": {
    "id": "awlqmp40xMfc"
   },
   "source": [
    "### 4.1 Drop unnecessary columns like 'url', 'image' from the product_data"
   ]
  },
  {
   "cell_type": "code",
   "execution_count": 7,
   "metadata": {},
   "outputs": [
    {
     "name": "stdout",
     "output_type": "stream",
     "text": [
      "Index(['asin', 'brand', 'title', 'url', 'image', 'rating', 'reviewUrl',\n",
      "       'totalReviews', 'price', 'originalPrice'],\n",
      "      dtype='object')\n",
      "Index(['asin', 'name', 'rating', 'date', 'verified', 'title', 'body',\n",
      "       'helpfulVotes'],\n",
      "      dtype='object')\n"
     ]
    }
   ],
   "source": [
    "print(df_product.columns)\n",
    "print(df_reviews.columns)"
   ]
  },
  {
   "cell_type": "code",
   "execution_count": 8,
   "metadata": {
    "id": "VT4d-6TCxZCm"
   },
   "outputs": [],
   "source": [
    "dfprod = df_product.drop(['url', 'image','reviewUrl'], axis = 1)"
   ]
  },
  {
   "cell_type": "code",
   "execution_count": 9,
   "metadata": {},
   "outputs": [
    {
     "data": {
      "text/plain": [
       "Index(['asin', 'brand', 'title', 'rating', 'totalReviews', 'price',\n",
       "       'originalPrice'],\n",
       "      dtype='object')"
      ]
     },
     "execution_count": 9,
     "metadata": {},
     "output_type": "execute_result"
    }
   ],
   "source": [
    "dfprod.columns"
   ]
  },
  {
   "cell_type": "markdown",
   "metadata": {
    "id": "Zk0WW5D5xZK9"
   },
   "source": [
    "### 4.2 Check statistical summary of both datasets. Note:- Include both numerical and object type columns."
   ]
  },
  {
   "cell_type": "code",
   "execution_count": 10,
   "metadata": {
    "id": "ylwcqQpcx_Tl"
   },
   "outputs": [
    {
     "data": {
      "text/html": [
       "<div>\n",
       "<style scoped>\n",
       "    .dataframe tbody tr th:only-of-type {\n",
       "        vertical-align: middle;\n",
       "    }\n",
       "\n",
       "    .dataframe tbody tr th {\n",
       "        vertical-align: top;\n",
       "    }\n",
       "\n",
       "    .dataframe thead th {\n",
       "        text-align: right;\n",
       "    }\n",
       "</style>\n",
       "<table border=\"1\" class=\"dataframe\">\n",
       "  <thead>\n",
       "    <tr style=\"text-align: right;\">\n",
       "      <th></th>\n",
       "      <th>count</th>\n",
       "      <th>unique</th>\n",
       "      <th>top</th>\n",
       "      <th>freq</th>\n",
       "      <th>mean</th>\n",
       "      <th>std</th>\n",
       "      <th>min</th>\n",
       "      <th>25%</th>\n",
       "      <th>50%</th>\n",
       "      <th>75%</th>\n",
       "      <th>max</th>\n",
       "    </tr>\n",
       "  </thead>\n",
       "  <tbody>\n",
       "    <tr>\n",
       "      <th>asin</th>\n",
       "      <td>720</td>\n",
       "      <td>720</td>\n",
       "      <td>B06WP78R6X</td>\n",
       "      <td>1</td>\n",
       "      <td>NaN</td>\n",
       "      <td>NaN</td>\n",
       "      <td>NaN</td>\n",
       "      <td>NaN</td>\n",
       "      <td>NaN</td>\n",
       "      <td>NaN</td>\n",
       "      <td>NaN</td>\n",
       "    </tr>\n",
       "    <tr>\n",
       "      <th>brand</th>\n",
       "      <td>716</td>\n",
       "      <td>10</td>\n",
       "      <td>Samsung</td>\n",
       "      <td>346</td>\n",
       "      <td>NaN</td>\n",
       "      <td>NaN</td>\n",
       "      <td>NaN</td>\n",
       "      <td>NaN</td>\n",
       "      <td>NaN</td>\n",
       "      <td>NaN</td>\n",
       "      <td>NaN</td>\n",
       "    </tr>\n",
       "    <tr>\n",
       "      <th>title</th>\n",
       "      <td>720</td>\n",
       "      <td>718</td>\n",
       "      <td>Apple iPhone 6S, 64GB, Rose Gold - For AT&amp;T / ...</td>\n",
       "      <td>2</td>\n",
       "      <td>NaN</td>\n",
       "      <td>NaN</td>\n",
       "      <td>NaN</td>\n",
       "      <td>NaN</td>\n",
       "      <td>NaN</td>\n",
       "      <td>NaN</td>\n",
       "      <td>NaN</td>\n",
       "    </tr>\n",
       "    <tr>\n",
       "      <th>rating</th>\n",
       "      <td>720.0</td>\n",
       "      <td>NaN</td>\n",
       "      <td>NaN</td>\n",
       "      <td>NaN</td>\n",
       "      <td>3.7137500</td>\n",
       "      <td>0.7160138</td>\n",
       "      <td>1.0</td>\n",
       "      <td>3.3000</td>\n",
       "      <td>3.800</td>\n",
       "      <td>4.100</td>\n",
       "      <td>5.00</td>\n",
       "    </tr>\n",
       "    <tr>\n",
       "      <th>totalReviews</th>\n",
       "      <td>720.0</td>\n",
       "      <td>NaN</td>\n",
       "      <td>NaN</td>\n",
       "      <td>NaN</td>\n",
       "      <td>105.6791667</td>\n",
       "      <td>167.6011014</td>\n",
       "      <td>1.0</td>\n",
       "      <td>7.0000</td>\n",
       "      <td>32.000</td>\n",
       "      <td>122.250</td>\n",
       "      <td>983.00</td>\n",
       "    </tr>\n",
       "    <tr>\n",
       "      <th>price</th>\n",
       "      <td>720.0</td>\n",
       "      <td>NaN</td>\n",
       "      <td>NaN</td>\n",
       "      <td>NaN</td>\n",
       "      <td>234.9489306</td>\n",
       "      <td>200.0084407</td>\n",
       "      <td>0.0</td>\n",
       "      <td>97.5125</td>\n",
       "      <td>188.975</td>\n",
       "      <td>336.725</td>\n",
       "      <td>999.99</td>\n",
       "    </tr>\n",
       "    <tr>\n",
       "      <th>originalPrice</th>\n",
       "      <td>720.0</td>\n",
       "      <td>NaN</td>\n",
       "      <td>NaN</td>\n",
       "      <td>NaN</td>\n",
       "      <td>63.6907778</td>\n",
       "      <td>172.4053696</td>\n",
       "      <td>0.0</td>\n",
       "      <td>0.0000</td>\n",
       "      <td>0.000</td>\n",
       "      <td>0.000</td>\n",
       "      <td>999.99</td>\n",
       "    </tr>\n",
       "  </tbody>\n",
       "</table>\n",
       "</div>"
      ],
      "text/plain": [
       "              count unique                                                top  \\\n",
       "asin            720    720                                         B06WP78R6X   \n",
       "brand           716     10                                            Samsung   \n",
       "title           720    718  Apple iPhone 6S, 64GB, Rose Gold - For AT&T / ...   \n",
       "rating        720.0    NaN                                                NaN   \n",
       "totalReviews  720.0    NaN                                                NaN   \n",
       "price         720.0    NaN                                                NaN   \n",
       "originalPrice 720.0    NaN                                                NaN   \n",
       "\n",
       "              freq        mean         std  min     25%     50%     75%    max  \n",
       "asin             1         NaN         NaN  NaN     NaN     NaN     NaN    NaN  \n",
       "brand          346         NaN         NaN  NaN     NaN     NaN     NaN    NaN  \n",
       "title            2         NaN         NaN  NaN     NaN     NaN     NaN    NaN  \n",
       "rating         NaN   3.7137500   0.7160138  1.0  3.3000   3.800   4.100   5.00  \n",
       "totalReviews   NaN 105.6791667 167.6011014  1.0  7.0000  32.000 122.250 983.00  \n",
       "price          NaN 234.9489306 200.0084407  0.0 97.5125 188.975 336.725 999.99  \n",
       "originalPrice  NaN  63.6907778 172.4053696  0.0  0.0000   0.000   0.000 999.99  "
      ]
     },
     "execution_count": 10,
     "metadata": {},
     "output_type": "execute_result"
    }
   ],
   "source": [
    "dfprod.describe(include='all').T"
   ]
  },
  {
   "cell_type": "code",
   "execution_count": 11,
   "metadata": {},
   "outputs": [
    {
     "name": "stdout",
     "output_type": "stream",
     "text": [
      "Sorted price: [  0.     1.    14.99  24.5   26.43  27.72  27.9   34.99  36.89  46.83\n",
      "  49.9   49.95  49.99  53.92  54.99  58.9   58.99  59.99  61.99  64.57\n",
      "  64.9   64.94  64.99  65.23  69.93  73.5   74.98  74.99  78.9   79.\n",
      "  79.99  83.99  85.    88.    89.    89.9   89.96  89.99  93.99  94.45\n",
      "  94.9   94.99  96.98  97.69  99.    99.58  99.99 100.   100.96 102.\n",
      " 103.98 104.9  104.97 104.99 105.   109.   109.95 109.98 110.   112.98\n",
      " 114.55 114.99 115.   116.7  118.96 119.   119.95 119.99 121.08 121.46\n",
      " 122.99 124.95 128.79 128.9  128.97 129.   129.6  129.95 129.99 132.99\n",
      " 133.28 133.55 133.65 134.   134.98 134.99 135.99 136.27 137.57 138.\n",
      " 138.95 139.   139.48 139.95 139.97 139.99 141.99 143.57 144.71 144.9\n",
      " 145.   147.98 148.49 148.96 148.98 149.   149.5  149.98 149.99 150.\n",
      " 150.96 151.79 151.9  151.99 152.49 152.5  152.95 153.   153.97 153.99\n",
      " 154.49 154.95 154.97 155.99 156.88 158.   158.42 158.88 159.   159.49\n",
      " 159.9  159.99 160.08 162.72 163.   163.99 165.   166.   166.19 167.\n",
      " 167.5  167.99 168.   168.51 169.   169.93 169.95 169.98 169.99 171.98\n",
      " 174.   174.5  174.94 174.95 175.   176.94 179.   179.5  179.87 179.99\n",
      " 180.   182.25 183.95 184.18 185.   186.   186.9  188.   189.95 189.96\n",
      " 189.99 190.   194.   194.97 194.99 195.   197.   198.9  198.99 199.\n",
      " 199.37 199.72 199.95 199.99 201.48 202.95 202.99 203.51 204.16 206.95\n",
      " 207.99 209.   209.67 209.75 209.94 209.99 210.99 211.39 211.63 214.75\n",
      " 214.97 215.   216.   216.89 219.88 219.95 219.97 219.99 220.   221.\n",
      " 229.   229.98 229.99 233.71 234.35 234.95 235.78 238.99 239.98 239.99\n",
      " 240.   242.99 244.45 248.   248.7  249.   249.45 249.95 249.99 255.\n",
      " 255.99 256.82 257.98 258.8  259.98 259.99 261.84 262.49 264.98 264.99\n",
      " 268.   268.99 269.   269.99 270.95 274.   274.95 274.99 275.99 278.99\n",
      " 279.99 284.98 284.99 285.99 286.87 287.32 288.   288.97 289.   289.44\n",
      " 289.47 289.95 289.97 290.   293.99 295.   296.   298.95 298.98 299.\n",
      " 299.5  299.95 299.99 300.55 303.9  304.53 304.99 307.8  307.88 309.95\n",
      " 310.99 311.97 314.5  319.   319.97 319.99 320.   321.99 324.   324.99\n",
      " 327.99 329.   329.95 329.97 329.99 330.95 332.95 333.   333.48 334.9\n",
      " 334.98 334.99 335.97 338.99 339.95 344.91 344.94 344.95 344.99 345.92\n",
      " 347.99 349.8  349.99 350.   351.87 352.8  354.99 362.75 366.73 369.5\n",
      " 370.74 370.99 373.53 374.   374.95 374.99 379.   379.99 380.4  387.\n",
      " 389.28 389.94 389.97 392.   393.55 398.   398.11 399.   399.95 399.98\n",
      " 399.99 407.99 408.95 409.88 409.97 409.99 412.95 414.98 415.   419.95\n",
      " 426.17 428.99 429.   429.97 429.99 439.98 440.99 445.66 446.61 448.95\n",
      " 448.97 449.   449.99 450.11 454.98 456.7  458.95 459.95 459.98 459.99\n",
      " 464.   469.   469.95 474.98 476.   478.97 479.   479.98 486.57 489.99\n",
      " 490.95 495.   499.   499.95 499.98 499.99 503.09 509.99 513.99 519.\n",
      " 519.99 529.99 534.95 538.99 539.99 541.98 549.   568.99 569.   573.77\n",
      " 574.95 574.99 575.   585.28 588.53 594.   594.98 596.99 599.95 599.99\n",
      " 606.3  609.   619.97 619.99 629.   629.99 630.71 643.98 645.   648.\n",
      " 649.99 651.58 659.   659.99 664.99 665.   668.8  668.95 669.99 677.\n",
      " 686.99 693.58 699.99 702.97 709.97 729.29 729.99 739.99 743.48 748.\n",
      " 749.99 781.05 798.   799.99 800.   826.69 837.   848.   866.36 899.99\n",
      " 948.   949.   999.99]\n"
     ]
    }
   ],
   "source": [
    "price = dfprod['price'].unique()\n",
    "list(price)\n",
    "price.sort()\n",
    "print('Sorted price:', price)"
   ]
  },
  {
   "cell_type": "code",
   "execution_count": 12,
   "metadata": {
    "id": "WFaDkvIjyDtG"
   },
   "outputs": [
    {
     "data": {
      "text/html": [
       "<div>\n",
       "<style scoped>\n",
       "    .dataframe tbody tr th:only-of-type {\n",
       "        vertical-align: middle;\n",
       "    }\n",
       "\n",
       "    .dataframe tbody tr th {\n",
       "        vertical-align: top;\n",
       "    }\n",
       "\n",
       "    .dataframe thead th {\n",
       "        text-align: right;\n",
       "    }\n",
       "</style>\n",
       "<table border=\"1\" class=\"dataframe\">\n",
       "  <thead>\n",
       "    <tr style=\"text-align: right;\">\n",
       "      <th></th>\n",
       "      <th>count</th>\n",
       "      <th>unique</th>\n",
       "      <th>top</th>\n",
       "      <th>freq</th>\n",
       "      <th>mean</th>\n",
       "      <th>std</th>\n",
       "      <th>min</th>\n",
       "      <th>25%</th>\n",
       "      <th>50%</th>\n",
       "      <th>75%</th>\n",
       "      <th>max</th>\n",
       "    </tr>\n",
       "  </thead>\n",
       "  <tbody>\n",
       "    <tr>\n",
       "      <th>asin</th>\n",
       "      <td>67986</td>\n",
       "      <td>720</td>\n",
       "      <td>B00F2SKPIM</td>\n",
       "      <td>981</td>\n",
       "      <td>NaN</td>\n",
       "      <td>NaN</td>\n",
       "      <td>NaN</td>\n",
       "      <td>NaN</td>\n",
       "      <td>NaN</td>\n",
       "      <td>NaN</td>\n",
       "      <td>NaN</td>\n",
       "    </tr>\n",
       "    <tr>\n",
       "      <th>name</th>\n",
       "      <td>67984</td>\n",
       "      <td>47323</td>\n",
       "      <td>Amazon Customer</td>\n",
       "      <td>6507</td>\n",
       "      <td>NaN</td>\n",
       "      <td>NaN</td>\n",
       "      <td>NaN</td>\n",
       "      <td>NaN</td>\n",
       "      <td>NaN</td>\n",
       "      <td>NaN</td>\n",
       "      <td>NaN</td>\n",
       "    </tr>\n",
       "    <tr>\n",
       "      <th>rating</th>\n",
       "      <td>67986.0</td>\n",
       "      <td>NaN</td>\n",
       "      <td>NaN</td>\n",
       "      <td>NaN</td>\n",
       "      <td>3.8079163</td>\n",
       "      <td>1.5829058</td>\n",
       "      <td>1.0</td>\n",
       "      <td>3.0</td>\n",
       "      <td>5.0</td>\n",
       "      <td>5.0</td>\n",
       "      <td>5.0</td>\n",
       "    </tr>\n",
       "    <tr>\n",
       "      <th>date</th>\n",
       "      <td>67986</td>\n",
       "      <td>2983</td>\n",
       "      <td>December 11, 2019</td>\n",
       "      <td>234</td>\n",
       "      <td>NaN</td>\n",
       "      <td>NaN</td>\n",
       "      <td>NaN</td>\n",
       "      <td>NaN</td>\n",
       "      <td>NaN</td>\n",
       "      <td>NaN</td>\n",
       "      <td>NaN</td>\n",
       "    </tr>\n",
       "    <tr>\n",
       "      <th>verified</th>\n",
       "      <td>67986</td>\n",
       "      <td>2</td>\n",
       "      <td>True</td>\n",
       "      <td>61225</td>\n",
       "      <td>NaN</td>\n",
       "      <td>NaN</td>\n",
       "      <td>NaN</td>\n",
       "      <td>NaN</td>\n",
       "      <td>NaN</td>\n",
       "      <td>NaN</td>\n",
       "      <td>NaN</td>\n",
       "    </tr>\n",
       "    <tr>\n",
       "      <th>title</th>\n",
       "      <td>67972</td>\n",
       "      <td>41489</td>\n",
       "      <td>Five Stars</td>\n",
       "      <td>6043</td>\n",
       "      <td>NaN</td>\n",
       "      <td>NaN</td>\n",
       "      <td>NaN</td>\n",
       "      <td>NaN</td>\n",
       "      <td>NaN</td>\n",
       "      <td>NaN</td>\n",
       "      <td>NaN</td>\n",
       "    </tr>\n",
       "    <tr>\n",
       "      <th>body</th>\n",
       "      <td>67965</td>\n",
       "      <td>59811</td>\n",
       "      <td>Good</td>\n",
       "      <td>303</td>\n",
       "      <td>NaN</td>\n",
       "      <td>NaN</td>\n",
       "      <td>NaN</td>\n",
       "      <td>NaN</td>\n",
       "      <td>NaN</td>\n",
       "      <td>NaN</td>\n",
       "      <td>NaN</td>\n",
       "    </tr>\n",
       "    <tr>\n",
       "      <th>helpfulVotes</th>\n",
       "      <td>27215.0</td>\n",
       "      <td>NaN</td>\n",
       "      <td>NaN</td>\n",
       "      <td>NaN</td>\n",
       "      <td>8.2296895</td>\n",
       "      <td>31.9548772</td>\n",
       "      <td>1.0</td>\n",
       "      <td>1.0</td>\n",
       "      <td>2.0</td>\n",
       "      <td>5.0</td>\n",
       "      <td>990.0</td>\n",
       "    </tr>\n",
       "  </tbody>\n",
       "</table>\n",
       "</div>"
      ],
      "text/plain": [
       "               count unique                top   freq      mean        std  \\\n",
       "asin           67986    720         B00F2SKPIM    981       NaN        NaN   \n",
       "name           67984  47323    Amazon Customer   6507       NaN        NaN   \n",
       "rating       67986.0    NaN                NaN    NaN 3.8079163  1.5829058   \n",
       "date           67986   2983  December 11, 2019    234       NaN        NaN   \n",
       "verified       67986      2               True  61225       NaN        NaN   \n",
       "title          67972  41489         Five Stars   6043       NaN        NaN   \n",
       "body           67965  59811               Good    303       NaN        NaN   \n",
       "helpfulVotes 27215.0    NaN                NaN    NaN 8.2296895 31.9548772   \n",
       "\n",
       "              min  25%  50%  75%   max  \n",
       "asin          NaN  NaN  NaN  NaN   NaN  \n",
       "name          NaN  NaN  NaN  NaN   NaN  \n",
       "rating        1.0  3.0  5.0  5.0   5.0  \n",
       "date          NaN  NaN  NaN  NaN   NaN  \n",
       "verified      NaN  NaN  NaN  NaN   NaN  \n",
       "title         NaN  NaN  NaN  NaN   NaN  \n",
       "body          NaN  NaN  NaN  NaN   NaN  \n",
       "helpfulVotes  1.0  1.0  2.0  5.0 990.0  "
      ]
     },
     "execution_count": 12,
     "metadata": {},
     "output_type": "execute_result"
    }
   ],
   "source": [
    "df_reviews.describe(include='all').T"
   ]
  },
  {
   "cell_type": "markdown",
   "metadata": {
    "id": "cSdGfadUyEdU"
   },
   "source": [
    "### 4.3 From the above statistical summary, write inferences like count of unique products, top brand, top title, range of rating, price range, etc"
   ]
  },
  {
   "cell_type": "markdown",
   "metadata": {
    "id": "Ddkn_hJmyKNb"
   },
   "source": [
    "###### There are 10 different mobile brands. The most frequently used and reviewed brand is Samsung.The  title with top value  is Apple iPhone 6S, 64GB, Rose Gold - For AT&T / for product data where as title \"Five star\" occurs  6043 times  in reviews data.The range of rating with max value being 5 and min value being 1 is 4 .The highest price of mobile can goes upto 999.99 dollars where as minimum value goes as low as 14.99 dollars.\n",
    "###### Note: Dollar  0 and  1 are not being considered as genuine price tag and will be treated seperately if required."
   ]
  },
  {
   "cell_type": "markdown",
   "metadata": {
    "id": "XMv_hXyxJKZK"
   },
   "source": [
    "### 4.4 Analyze the distribution of ratings and other categorical features like brand, etc"
   ]
  },
  {
   "cell_type": "code",
   "execution_count": 13,
   "metadata": {
    "id": "oEhjSsMcyirD"
   },
   "outputs": [
    {
     "data": {
      "text/plain": [
       "Samsung     346\n",
       "Motorola    105\n",
       "Apple        63\n",
       "Xiaomi       46\n",
       "Nokia        44\n",
       "Google       38\n",
       "HUAWEI       32\n",
       "Sony         27\n",
       "OnePlus      10\n",
       "ASUS          5\n",
       "Name: brand, dtype: int64"
      ]
     },
     "execution_count": 13,
     "metadata": {},
     "output_type": "execute_result"
    }
   ],
   "source": [
    "dfprod['brand'].value_counts()"
   ]
  },
  {
   "cell_type": "code",
   "execution_count": 14,
   "metadata": {},
   "outputs": [
    {
     "data": {
      "text/plain": [
       "<AxesSubplot:>"
      ]
     },
     "execution_count": 14,
     "metadata": {},
     "output_type": "execute_result"
    },
    {
     "data": {
      "image/png": "[encoded data removed]",
      "text/plain": [
       "<Figure size 432x288 with 1 Axes>"
      ]
     },
     "metadata": {
      "needs_background": "light"
     },
     "output_type": "display_data"
    }
   ],
   "source": [
    "dfprod['brand'].value_counts().plot(kind = 'bar')"
   ]
  },
  {
   "cell_type": "markdown",
   "metadata": {
    "id": "jwZBGODgyi1a"
   },
   "source": [
    "### 4.5 Display average rating per brand"
   ]
  },
  {
   "cell_type": "code",
   "execution_count": 15,
   "metadata": {
    "id": "OSBBiAv8yscd"
   },
   "outputs": [
    {
     "data": {
      "text/plain": [
       "<AxesSubplot:xlabel='brand'>"
      ]
     },
     "execution_count": 15,
     "metadata": {},
     "output_type": "execute_result"
    },
    {
     "data": {
      "image/png": "[encoded data removed]",
      "text/plain": [
       "<Figure size 432x288 with 1 Axes>"
      ]
     },
     "metadata": {
      "needs_background": "light"
     },
     "output_type": "display_data"
    }
   ],
   "source": [
    "dfprod.groupby('brand').mean()['rating'].plot(kind ='bar')"
   ]
  },
  {
   "cell_type": "markdown",
   "metadata": {
    "id": "vUXuEwlgyvB0"
   },
   "source": [
    "### 4.6 Display average price per brand"
   ]
  },
  {
   "cell_type": "code",
   "execution_count": 16,
   "metadata": {
    "id": "ACgIwVlyy3Pu"
   },
   "outputs": [
    {
     "data": {
      "text/plain": [
       "<AxesSubplot:xlabel='brand'>"
      ]
     },
     "execution_count": 16,
     "metadata": {},
     "output_type": "execute_result"
    },
    {
     "data": {
      "image/png": "[encoded data removed]",
      "text/plain": [
       "<Figure size 432x288 with 1 Axes>"
      ]
     },
     "metadata": {
      "needs_background": "light"
     },
     "output_type": "display_data"
    }
   ],
   "source": [
    "dfprod.groupby('brand').mean()['price'].plot(kind ='bar')"
   ]
  },
  {
   "cell_type": "markdown",
   "metadata": {
    "id": "U0JfwL74y3a-"
   },
   "source": [
    "### 4.7 Display average 'totalReviews' per brand"
   ]
  },
  {
   "cell_type": "code",
   "execution_count": 17,
   "metadata": {
    "id": "wfzciNxqzBYu"
   },
   "outputs": [
    {
     "data": {
      "text/plain": [
       "<AxesSubplot:xlabel='brand'>"
      ]
     },
     "execution_count": 17,
     "metadata": {},
     "output_type": "execute_result"
    },
    {
     "data": {
      "image/png": "[encoded data removed]",
      "text/plain": [
       "<Figure size 432x288 with 1 Axes>"
      ]
     },
     "metadata": {
      "needs_background": "light"
     },
     "output_type": "display_data"
    }
   ],
   "source": [
    "dfprod.groupby('brand').mean()['totalReviews'].plot(kind = 'bar')"
   ]
  },
  {
   "cell_type": "markdown",
   "metadata": {
    "id": "x_fxI7OAeDUM"
   },
   "source": [
    "### 4.8 Merge two datasets using 'asin' and check the shape of the final dataset"
   ]
  },
  {
   "cell_type": "code",
   "execution_count": 18,
   "metadata": {
    "id": "svpHfWI9zNAP"
   },
   "outputs": [
    {
     "data": {
      "text/plain": [
       "(67986, 14)"
      ]
     },
     "execution_count": 18,
     "metadata": {},
     "output_type": "execute_result"
    }
   ],
   "source": [
    "df= pd.merge(df_reviews,dfprod,how='inner',on ='asin')\n",
    "df.shape"
   ]
  },
  {
   "cell_type": "markdown",
   "metadata": {
    "id": "zdTfwlL7fYpq"
   },
   "source": [
    "### 4.9 Rename important features with appropriate names.\n",
    "Imortant features - \"rating_x\": \"user_rating\", \"title_x\": \"review_title\", \"title_y\": \"item_title\", \"rating_y\": \"overall_rating\""
   ]
  },
  {
   "cell_type": "code",
   "execution_count": 19,
   "metadata": {
    "id": "KI-6FCkZztXM"
   },
   "outputs": [
    {
     "data": {
      "text/plain": [
       "Index(['asin', 'name', 'rating_x', 'date', 'verified', 'title_x', 'body',\n",
       "       'helpfulVotes', 'brand', 'title_y', 'rating_y', 'totalReviews', 'price',\n",
       "       'originalPrice'],\n",
       "      dtype='object')"
      ]
     },
     "execution_count": 19,
     "metadata": {},
     "output_type": "execute_result"
    }
   ],
   "source": [
    "df.columns"
   ]
  },
  {
   "cell_type": "code",
   "execution_count": 20,
   "metadata": {},
   "outputs": [],
   "source": [
    "df.rename(columns ={\"rating_x\": \"user_rating\", \"title_x\": \"review_title\", \"title_y\": \"item_title\", \"rating_y\": \"overall_rating\"},inplace = True) "
   ]
  },
  {
   "cell_type": "code",
   "execution_count": 21,
   "metadata": {},
   "outputs": [
    {
     "data": {
      "text/plain": [
       "Index(['asin', 'name', 'user_rating', 'date', 'verified', 'review_title',\n",
       "       'body', 'helpfulVotes', 'brand', 'item_title', 'overall_rating',\n",
       "       'totalReviews', 'price', 'originalPrice'],\n",
       "      dtype='object')"
      ]
     },
     "execution_count": 21,
     "metadata": {},
     "output_type": "execute_result"
    }
   ],
   "source": [
    "df.columns"
   ]
  },
  {
   "cell_type": "markdown",
   "metadata": {
    "id": "hNHEElHszthc"
   },
   "source": [
    "### 4.10 Select rows having verified reviews and check the shape of the final dataset"
   ]
  },
  {
   "cell_type": "code",
   "execution_count": 22,
   "metadata": {},
   "outputs": [
    {
     "data": {
      "text/plain": [
       "True     61225\n",
       "False     6761\n",
       "Name: verified, dtype: int64"
      ]
     },
     "execution_count": 22,
     "metadata": {},
     "output_type": "execute_result"
    }
   ],
   "source": [
    "df['verified'].value_counts()"
   ]
  },
  {
   "cell_type": "code",
   "execution_count": 23,
   "metadata": {
    "id": "Jyav9_Zoz-rT"
   },
   "outputs": [],
   "source": [
    "dff = df[df['verified']== True]"
   ]
  },
  {
   "cell_type": "code",
   "execution_count": 24,
   "metadata": {},
   "outputs": [
    {
     "data": {
      "text/plain": [
       "(61225, 14)"
      ]
     },
     "execution_count": 24,
     "metadata": {},
     "output_type": "execute_result"
    }
   ],
   "source": [
    "dff.shape"
   ]
  },
  {
   "cell_type": "markdown",
   "metadata": {
    "id": "EpKusPjdz-2q"
   },
   "source": [
    "### 4.11 Check the number of reviews for various brands and report the brand that have highest number of reviews"
   ]
  },
  {
   "cell_type": "code",
   "execution_count": 25,
   "metadata": {
    "id": "5tux6vwr0JDb"
   },
   "outputs": [
    {
     "data": {
      "text/plain": [
       "<AxesSubplot:>"
      ]
     },
     "execution_count": 25,
     "metadata": {},
     "output_type": "execute_result"
    },
    {
     "data": {
      "image/png": "[encoded data removed]",
      "text/plain": [
       "<Figure size 432x288 with 1 Axes>"
      ]
     },
     "metadata": {
      "needs_background": "light"
     },
     "output_type": "display_data"
    }
   ],
   "source": [
    "dff['brand'].value_counts().plot(kind ='bar')"
   ]
  },
  {
   "cell_type": "markdown",
   "metadata": {
    "id": "gPGjMFE-0Q5k"
   },
   "source": [
    "### 4.12 Drop irrelevant columns and keep important features like 'brand','body','price','user_rating','review_title' for further analysis"
   ]
  },
  {
   "cell_type": "code",
   "execution_count": 26,
   "metadata": {
    "id": "J_IvLN6e0e6z"
   },
   "outputs": [
    {
     "data": {
      "text/html": [
       "<div>\n",
       "<style scoped>\n",
       "    .dataframe tbody tr th:only-of-type {\n",
       "        vertical-align: middle;\n",
       "    }\n",
       "\n",
       "    .dataframe tbody tr th {\n",
       "        vertical-align: top;\n",
       "    }\n",
       "\n",
       "    .dataframe thead th {\n",
       "        text-align: right;\n",
       "    }\n",
       "</style>\n",
       "<table border=\"1\" class=\"dataframe\">\n",
       "  <thead>\n",
       "    <tr style=\"text-align: right;\">\n",
       "      <th></th>\n",
       "      <th>brand</th>\n",
       "      <th>body</th>\n",
       "      <th>user_rating</th>\n",
       "      <th>review_title</th>\n",
       "    </tr>\n",
       "  </thead>\n",
       "  <tbody>\n",
       "    <tr>\n",
       "      <th>14</th>\n",
       "      <td>Motorola</td>\n",
       "      <td>DON'T BUY OUT OF SERVICE</td>\n",
       "      <td>1</td>\n",
       "      <td>Stupid phone</td>\n",
       "    </tr>\n",
       "    <tr>\n",
       "      <th>17</th>\n",
       "      <td>Motorola</td>\n",
       "      <td>1 star because the phones locked so I have to ...</td>\n",
       "      <td>1</td>\n",
       "      <td>Phones locked</td>\n",
       "    </tr>\n",
       "    <tr>\n",
       "      <th>18</th>\n",
       "      <td>Motorola</td>\n",
       "      <td>The product has been very good. I had used thi...</td>\n",
       "      <td>5</td>\n",
       "      <td>Excellent product</td>\n",
       "    </tr>\n",
       "    <tr>\n",
       "      <th>21</th>\n",
       "      <td>Motorola</td>\n",
       "      <td>I bought this phone to replace an LG phone tha...</td>\n",
       "      <td>4</td>\n",
       "      <td>Nice, but</td>\n",
       "    </tr>\n",
       "    <tr>\n",
       "      <th>22</th>\n",
       "      <td>Motorola</td>\n",
       "      <td>I purchased this phone for my AT&amp;T phone repla...</td>\n",
       "      <td>1</td>\n",
       "      <td>It seems it doesn't work with the existing AT&amp;...</td>\n",
       "    </tr>\n",
       "  </tbody>\n",
       "</table>\n",
       "</div>"
      ],
      "text/plain": [
       "       brand                                               body  user_rating  \\\n",
       "14  Motorola                           DON'T BUY OUT OF SERVICE            1   \n",
       "17  Motorola  1 star because the phones locked so I have to ...            1   \n",
       "18  Motorola  The product has been very good. I had used thi...            5   \n",
       "21  Motorola  I bought this phone to replace an LG phone tha...            4   \n",
       "22  Motorola  I purchased this phone for my AT&T phone repla...            1   \n",
       "\n",
       "                                         review_title  \n",
       "14                                       Stupid phone  \n",
       "17                                      Phones locked  \n",
       "18                                  Excellent product  \n",
       "21                                          Nice, but  \n",
       "22  It seems it doesn't work with the existing AT&...  "
      ]
     },
     "execution_count": 26,
     "metadata": {},
     "output_type": "execute_result"
    }
   ],
   "source": [
    "dff2 = dff[['brand','body','user_rating','review_title' ]]\n",
    "dff2.head()"
   ]
  },
  {
   "cell_type": "code",
   "execution_count": 27,
   "metadata": {},
   "outputs": [
    {
     "name": "stdout",
     "output_type": "stream",
     "text": [
      "<class 'pandas.core.frame.DataFrame'>\n",
      "Int64Index: 61225 entries, 14 to 67984\n",
      "Data columns (total 4 columns):\n",
      " #   Column        Non-Null Count  Dtype \n",
      "---  ------        --------------  ----- \n",
      " 0   brand         61078 non-null  object\n",
      " 1   body          61207 non-null  object\n",
      " 2   user_rating   61225 non-null  int64 \n",
      " 3   review_title  61211 non-null  object\n",
      "dtypes: int64(1), object(3)\n",
      "memory usage: 2.3+ MB\n"
     ]
    }
   ],
   "source": [
    "dff2.info()"
   ]
  },
  {
   "cell_type": "markdown",
   "metadata": {
    "id": "Gzo_rVT60fDf"
   },
   "source": [
    "### 4.13 Perform univariate analysis. Check distribution of price, user_rating\n",
    "\n",
    "Dropping price because it has junk values and lots of 0 values ,so rather than performing analysis on it, we are dropping the same. "
   ]
  },
  {
   "cell_type": "code",
   "execution_count": 28,
   "metadata": {
    "id": "F3vzILxZ0t0L"
   },
   "outputs": [
    {
     "name": "stdout",
     "output_type": "stream",
     "text": [
      "5    35001\n",
      "1    10910\n",
      "4     7938\n",
      "3     4128\n",
      "2     3248\n",
      "Name: user_rating, dtype: int64\n"
     ]
    },
    {
     "data": {
      "text/plain": [
       "<AxesSubplot:>"
      ]
     },
     "execution_count": 28,
     "metadata": {},
     "output_type": "execute_result"
    },
    {
     "data": {
      "image/png": "[encoded data removed]",
      "text/plain": [
       "<Figure size 432x288 with 1 Axes>"
      ]
     },
     "metadata": {
      "needs_background": "light"
     },
     "output_type": "display_data"
    }
   ],
   "source": [
    "print(dff2['user_rating'].value_counts())\n",
    "dff2['user_rating'].value_counts().plot(kind ='bar')"
   ]
  },
  {
   "cell_type": "markdown",
   "metadata": {
    "id": "x0Y_kE9T0uAf"
   },
   "source": [
    "### 4.14 Create a new column called \"sentiment\". It should have value as 1 (positive) if the user_Rating is greater than 3, value as 0 (neutral) if the user_Rating == 3, and -1 (negative) is the user_Rating is less than 3."
   ]
  },
  {
   "cell_type": "code",
   "execution_count": 29,
   "metadata": {
    "id": "jGon-2xU1Ujb"
   },
   "outputs": [
    {
     "name": "stdout",
     "output_type": "stream",
     "text": [
      " 1    42939\n",
      "-1    14158\n",
      " 0     4128\n",
      "Name: sentiments, dtype: int64\n"
     ]
    },
    {
     "data": {
      "text/html": [
       "<div>\n",
       "<style scoped>\n",
       "    .dataframe tbody tr th:only-of-type {\n",
       "        vertical-align: middle;\n",
       "    }\n",
       "\n",
       "    .dataframe tbody tr th {\n",
       "        vertical-align: top;\n",
       "    }\n",
       "\n",
       "    .dataframe thead th {\n",
       "        text-align: right;\n",
       "    }\n",
       "</style>\n",
       "<table border=\"1\" class=\"dataframe\">\n",
       "  <thead>\n",
       "    <tr style=\"text-align: right;\">\n",
       "      <th></th>\n",
       "      <th>brand</th>\n",
       "      <th>body</th>\n",
       "      <th>user_rating</th>\n",
       "      <th>review_title</th>\n",
       "      <th>sentiments</th>\n",
       "    </tr>\n",
       "  </thead>\n",
       "  <tbody>\n",
       "    <tr>\n",
       "      <th>41364</th>\n",
       "      <td>Samsung</td>\n",
       "      <td>Love this phone.</td>\n",
       "      <td>5</td>\n",
       "      <td>Great phone!!!</td>\n",
       "      <td>1</td>\n",
       "    </tr>\n",
       "    <tr>\n",
       "      <th>31457</th>\n",
       "      <td>Apple</td>\n",
       "      <td>Kids love them</td>\n",
       "      <td>5</td>\n",
       "      <td>Connect to the world</td>\n",
       "      <td>1</td>\n",
       "    </tr>\n",
       "    <tr>\n",
       "      <th>48429</th>\n",
       "      <td>HUAWEI</td>\n",
       "      <td>I really liked this phone. I was using it with...</td>\n",
       "      <td>3</td>\n",
       "      <td>I really liked this phone</td>\n",
       "      <td>0</td>\n",
       "    </tr>\n",
       "    <tr>\n",
       "      <th>37091</th>\n",
       "      <td>Google</td>\n",
       "      <td>On the 91st day of owning this phone, when it ...</td>\n",
       "      <td>1</td>\n",
       "      <td>Buyer beware!</td>\n",
       "      <td>-1</td>\n",
       "    </tr>\n",
       "    <tr>\n",
       "      <th>65852</th>\n",
       "      <td>Motorola</td>\n",
       "      <td>Working great, unlocked,</td>\n",
       "      <td>5</td>\n",
       "      <td>Great product</td>\n",
       "      <td>1</td>\n",
       "    </tr>\n",
       "  </tbody>\n",
       "</table>\n",
       "</div>"
      ],
      "text/plain": [
       "          brand                                               body  \\\n",
       "41364   Samsung                                   Love this phone.   \n",
       "31457     Apple                                     Kids love them   \n",
       "48429    HUAWEI  I really liked this phone. I was using it with...   \n",
       "37091    Google  On the 91st day of owning this phone, when it ...   \n",
       "65852  Motorola                           Working great, unlocked,   \n",
       "\n",
       "       user_rating               review_title  sentiments  \n",
       "41364            5             Great phone!!!           1  \n",
       "31457            5       Connect to the world           1  \n",
       "48429            3  I really liked this phone           0  \n",
       "37091            1              Buyer beware!          -1  \n",
       "65852            5              Great product           1  "
      ]
     },
     "execution_count": 29,
     "metadata": {},
     "output_type": "execute_result"
    }
   ],
   "source": [
    "dff2['sentiments']= dff2['user_rating'].apply(lambda x : 1 if x> 3 else (0 if x == 3 else (-1)))\n",
    "print(dff2['sentiments'].value_counts())\n",
    "dff2.sample(5)"
   ]
  },
  {
   "cell_type": "markdown",
   "metadata": {},
   "source": [
    "if X >3 :\n",
    "    y =1 \n",
    "    elif x == 3:\n",
    "        y=0\n",
    "        else:\n",
    "            y = -1"
   ]
  },
  {
   "cell_type": "markdown",
   "metadata": {
    "id": "K4rxSZWp1VAb"
   },
   "source": [
    "### 4.15 Check frequency distribution of the 'sentiment'"
   ]
  },
  {
   "cell_type": "code",
   "execution_count": 30,
   "metadata": {
    "id": "yt3gH7Iz1dVP"
   },
   "outputs": [
    {
     "data": {
      "text/plain": [
       "<AxesSubplot:>"
      ]
     },
     "execution_count": 30,
     "metadata": {},
     "output_type": "execute_result"
    },
    {
     "data": {
      "image/png": "[encoded data removed]",
      "text/plain": [
       "<Figure size 432x288 with 1 Axes>"
      ]
     },
     "metadata": {
      "needs_background": "light"
     },
     "output_type": "display_data"
    }
   ],
   "source": [
    "dff2['sentiments'].value_counts().plot(kind = 'bar')"
   ]
  },
  {
   "cell_type": "markdown",
   "metadata": {
    "id": "rK0KMghP1ddb"
   },
   "source": [
    "### 4.16 Perform bivariate analysis. Check correlation/crosstab between features and write your inferences."
   ]
  },
  {
   "cell_type": "code",
   "execution_count": 31,
   "metadata": {
    "id": "scAV4fRg1nX0"
   },
   "outputs": [
    {
     "data": {
      "text/html": [
       "<div>\n",
       "<style scoped>\n",
       "    .dataframe tbody tr th:only-of-type {\n",
       "        vertical-align: middle;\n",
       "    }\n",
       "\n",
       "    .dataframe tbody tr th {\n",
       "        vertical-align: top;\n",
       "    }\n",
       "\n",
       "    .dataframe thead th {\n",
       "        text-align: right;\n",
       "    }\n",
       "</style>\n",
       "<table border=\"1\" class=\"dataframe\">\n",
       "  <thead>\n",
       "    <tr style=\"text-align: right;\">\n",
       "      <th>sentiments</th>\n",
       "      <th>-1</th>\n",
       "      <th>0</th>\n",
       "      <th>1</th>\n",
       "    </tr>\n",
       "    <tr>\n",
       "      <th>brand</th>\n",
       "      <th></th>\n",
       "      <th></th>\n",
       "      <th></th>\n",
       "    </tr>\n",
       "  </thead>\n",
       "  <tbody>\n",
       "    <tr>\n",
       "      <th>ASUS</th>\n",
       "      <td>49</td>\n",
       "      <td>20</td>\n",
       "      <td>137</td>\n",
       "    </tr>\n",
       "    <tr>\n",
       "      <th>Apple</th>\n",
       "      <td>1320</td>\n",
       "      <td>307</td>\n",
       "      <td>3249</td>\n",
       "    </tr>\n",
       "    <tr>\n",
       "      <th>Google</th>\n",
       "      <td>804</td>\n",
       "      <td>207</td>\n",
       "      <td>2152</td>\n",
       "    </tr>\n",
       "    <tr>\n",
       "      <th>HUAWEI</th>\n",
       "      <td>261</td>\n",
       "      <td>105</td>\n",
       "      <td>1653</td>\n",
       "    </tr>\n",
       "    <tr>\n",
       "      <th>Motorola</th>\n",
       "      <td>1667</td>\n",
       "      <td>553</td>\n",
       "      <td>5494</td>\n",
       "    </tr>\n",
       "    <tr>\n",
       "      <th>Nokia</th>\n",
       "      <td>1437</td>\n",
       "      <td>467</td>\n",
       "      <td>2974</td>\n",
       "    </tr>\n",
       "    <tr>\n",
       "      <th>OnePlus</th>\n",
       "      <td>34</td>\n",
       "      <td>11</td>\n",
       "      <td>259</td>\n",
       "    </tr>\n",
       "    <tr>\n",
       "      <th>Samsung</th>\n",
       "      <td>7469</td>\n",
       "      <td>2030</td>\n",
       "      <td>21521</td>\n",
       "    </tr>\n",
       "    <tr>\n",
       "      <th>Sony</th>\n",
       "      <td>663</td>\n",
       "      <td>216</td>\n",
       "      <td>1812</td>\n",
       "    </tr>\n",
       "    <tr>\n",
       "      <th>Xiaomi</th>\n",
       "      <td>427</td>\n",
       "      <td>201</td>\n",
       "      <td>3579</td>\n",
       "    </tr>\n",
       "  </tbody>\n",
       "</table>\n",
       "</div>"
      ],
      "text/plain": [
       "sentiments    -1     0      1\n",
       "brand                        \n",
       "ASUS          49    20    137\n",
       "Apple       1320   307   3249\n",
       "Google       804   207   2152\n",
       "HUAWEI       261   105   1653\n",
       "Motorola    1667   553   5494\n",
       "Nokia       1437   467   2974\n",
       "OnePlus       34    11    259\n",
       "Samsung     7469  2030  21521\n",
       "Sony         663   216   1812\n",
       "Xiaomi       427   201   3579"
      ]
     },
     "execution_count": 31,
     "metadata": {},
     "output_type": "execute_result"
    }
   ],
   "source": [
    "pd.crosstab(dff2['sentiments'],dff2['brand']).T"
   ]
  },
  {
   "cell_type": "markdown",
   "metadata": {
    "id": "2Nzj7ZXVLakx"
   },
   "source": [
    "## 5. Text Preprocessing and Vectorization"
   ]
  },
  {
   "cell_type": "markdown",
   "metadata": {
    "id": "ZbC_RPndnlf3"
   },
   "source": [
    "We will analyze the 'body' and 'review_title' to gain more understanding.\n",
    "\n",
    "We will ppeform the below tasks\n",
    "\n",
    "- Convert the text into lowercase\n",
    "- Remove punctuation\n",
    "- Remove stopwords (English, from nltk corpus)\n",
    "- Remove other keywords like \"phone\" and brand name"
   ]
  },
  {
   "cell_type": "markdown",
   "metadata": {
    "id": "XnhMQsxz2DJH"
   },
   "source": [
    "### 5.1 Change the datatype of the 'body' column to 'str' and convert it into lowercase. Print any two samples and check the output."
   ]
  },
  {
   "cell_type": "code",
   "execution_count": 32,
   "metadata": {},
   "outputs": [],
   "source": [
    "dff2['body']= dff2['body'].astype(str).apply(lambda x:x.lower())"
   ]
  },
  {
   "cell_type": "code",
   "execution_count": 33,
   "metadata": {},
   "outputs": [
    {
     "data": {
      "text/html": [
       "<div>\n",
       "<style scoped>\n",
       "    .dataframe tbody tr th:only-of-type {\n",
       "        vertical-align: middle;\n",
       "    }\n",
       "\n",
       "    .dataframe tbody tr th {\n",
       "        vertical-align: top;\n",
       "    }\n",
       "\n",
       "    .dataframe thead th {\n",
       "        text-align: right;\n",
       "    }\n",
       "</style>\n",
       "<table border=\"1\" class=\"dataframe\">\n",
       "  <thead>\n",
       "    <tr style=\"text-align: right;\">\n",
       "      <th></th>\n",
       "      <th>brand</th>\n",
       "      <th>body</th>\n",
       "      <th>user_rating</th>\n",
       "      <th>review_title</th>\n",
       "      <th>sentiments</th>\n",
       "    </tr>\n",
       "  </thead>\n",
       "  <tbody>\n",
       "    <tr>\n",
       "      <th>40897</th>\n",
       "      <td>Samsung</td>\n",
       "      <td>so i received the note 8 and i loved using it ...</td>\n",
       "      <td>2</td>\n",
       "      <td>Had to Return, Defective Unit</td>\n",
       "      <td>-1</td>\n",
       "    </tr>\n",
       "    <tr>\n",
       "      <th>13709</th>\n",
       "      <td>Nokia</td>\n",
       "      <td>good worked but didn't get any of the apps i n...</td>\n",
       "      <td>3</td>\n",
       "      <td>Three Stars</td>\n",
       "      <td>0</td>\n",
       "    </tr>\n",
       "  </tbody>\n",
       "</table>\n",
       "</div>"
      ],
      "text/plain": [
       "         brand                                               body  \\\n",
       "40897  Samsung  so i received the note 8 and i loved using it ...   \n",
       "13709    Nokia  good worked but didn't get any of the apps i n...   \n",
       "\n",
       "       user_rating                   review_title  sentiments  \n",
       "40897            2  Had to Return, Defective Unit          -1  \n",
       "13709            3                    Three Stars           0  "
      ]
     },
     "execution_count": 33,
     "metadata": {},
     "output_type": "execute_result"
    }
   ],
   "source": [
    "dff2.sample(2)"
   ]
  },
  {
   "cell_type": "markdown",
   "metadata": {
    "id": "lsppV0X52VXf"
   },
   "source": [
    "### 5.2 Remove punctuations from the lowercased 'body' column and display at least two samples."
   ]
  },
  {
   "cell_type": "code",
   "execution_count": 34,
   "metadata": {
    "id": "lQXKc8et2onG"
   },
   "outputs": [],
   "source": [
    "dff2['body']= dff2['body'].replace('[^\\w\\s]','',regex = True)"
   ]
  },
  {
   "cell_type": "code",
   "execution_count": 35,
   "metadata": {},
   "outputs": [
    {
     "data": {
      "text/html": [
       "<div>\n",
       "<style scoped>\n",
       "    .dataframe tbody tr th:only-of-type {\n",
       "        vertical-align: middle;\n",
       "    }\n",
       "\n",
       "    .dataframe tbody tr th {\n",
       "        vertical-align: top;\n",
       "    }\n",
       "\n",
       "    .dataframe thead th {\n",
       "        text-align: right;\n",
       "    }\n",
       "</style>\n",
       "<table border=\"1\" class=\"dataframe\">\n",
       "  <thead>\n",
       "    <tr style=\"text-align: right;\">\n",
       "      <th></th>\n",
       "      <th>brand</th>\n",
       "      <th>body</th>\n",
       "      <th>user_rating</th>\n",
       "      <th>review_title</th>\n",
       "      <th>sentiments</th>\n",
       "    </tr>\n",
       "  </thead>\n",
       "  <tbody>\n",
       "    <tr>\n",
       "      <th>47548</th>\n",
       "      <td>Motorola</td>\n",
       "      <td>purchased this because i have the moto g5 whic...</td>\n",
       "      <td>1</td>\n",
       "      <td>Bluetooth car pairing failed Android 9.0 maybe...</td>\n",
       "      <td>-1</td>\n",
       "    </tr>\n",
       "    <tr>\n",
       "      <th>66325</th>\n",
       "      <td>Motorola</td>\n",
       "      <td>works great  easy to use</td>\n",
       "      <td>5</td>\n",
       "      <td>Works great &amp; easy to use</td>\n",
       "      <td>1</td>\n",
       "    </tr>\n",
       "    <tr>\n",
       "      <th>11790</th>\n",
       "      <td>Samsung</td>\n",
       "      <td>im not just another one of those angry 1star i...</td>\n",
       "      <td>1</td>\n",
       "      <td>A word of advice and my story: Please read.</td>\n",
       "      <td>-1</td>\n",
       "    </tr>\n",
       "    <tr>\n",
       "      <th>59170</th>\n",
       "      <td>Samsung</td>\n",
       "      <td>the a30 has done everything i wanted it to do ...</td>\n",
       "      <td>4</td>\n",
       "      <td>Dependable</td>\n",
       "      <td>1</td>\n",
       "    </tr>\n",
       "    <tr>\n",
       "      <th>11404</th>\n",
       "      <td>Nokia</td>\n",
       "      <td>excelente</td>\n",
       "      <td>5</td>\n",
       "      <td>Five Stars</td>\n",
       "      <td>1</td>\n",
       "    </tr>\n",
       "  </tbody>\n",
       "</table>\n",
       "</div>"
      ],
      "text/plain": [
       "          brand                                               body  \\\n",
       "47548  Motorola  purchased this because i have the moto g5 whic...   \n",
       "66325  Motorola                           works great  easy to use   \n",
       "11790   Samsung  im not just another one of those angry 1star i...   \n",
       "59170   Samsung  the a30 has done everything i wanted it to do ...   \n",
       "11404     Nokia                                          excelente   \n",
       "\n",
       "       user_rating                                       review_title  \\\n",
       "47548            1  Bluetooth car pairing failed Android 9.0 maybe...   \n",
       "66325            5                          Works great & easy to use   \n",
       "11790            1        A word of advice and my story: Please read.   \n",
       "59170            4                                         Dependable   \n",
       "11404            5                                         Five Stars   \n",
       "\n",
       "       sentiments  \n",
       "47548          -1  \n",
       "66325           1  \n",
       "11790          -1  \n",
       "59170           1  \n",
       "11404           1  "
      ]
     },
     "execution_count": 35,
     "metadata": {},
     "output_type": "execute_result"
    }
   ],
   "source": [
    "dff2.sample(5)"
   ]
  },
  {
   "cell_type": "markdown",
   "metadata": {
    "id": "8Zk7ja6A2owN"
   },
   "source": [
    "### 5.3 Remove stop words from the above pre-processed 'body' column and display at least two samples."
   ]
  },
  {
   "cell_type": "code",
   "execution_count": 36,
   "metadata": {
    "id": "1d-DhX_e2yQ-"
   },
   "outputs": [],
   "source": [
    "import nltk"
   ]
  },
  {
   "cell_type": "code",
   "execution_count": 37,
   "metadata": {},
   "outputs": [
    {
     "name": "stderr",
     "output_type": "stream",
     "text": [
      "[nltk_data] Downloading package stopwords to\n",
      "[nltk_data]     C:\\Users\\Asus\\AppData\\Roaming\\nltk_data...\n",
      "[nltk_data]   Package stopwords is already up-to-date!\n"
     ]
    },
    {
     "data": {
      "text/plain": [
       "True"
      ]
     },
     "execution_count": 37,
     "metadata": {},
     "output_type": "execute_result"
    }
   ],
   "source": [
    "nltk.download('stopwords')"
   ]
  },
  {
   "cell_type": "code",
   "execution_count": 38,
   "metadata": {},
   "outputs": [],
   "source": [
    "from nltk.corpus import stopwords"
   ]
  },
  {
   "cell_type": "code",
   "execution_count": 39,
   "metadata": {},
   "outputs": [],
   "source": [
    "stop = set (stopwords.words('english'))"
   ]
  },
  {
   "cell_type": "code",
   "execution_count": 40,
   "metadata": {},
   "outputs": [
    {
     "data": {
      "text/plain": [
       "{'a',\n",
       " 'about',\n",
       " 'above',\n",
       " 'after',\n",
       " 'again',\n",
       " 'against',\n",
       " 'ain',\n",
       " 'all',\n",
       " 'am',\n",
       " 'an',\n",
       " 'and',\n",
       " 'any',\n",
       " 'are',\n",
       " 'aren',\n",
       " \"aren't\",\n",
       " 'as',\n",
       " 'at',\n",
       " 'be',\n",
       " 'because',\n",
       " 'been',\n",
       " 'before',\n",
       " 'being',\n",
       " 'below',\n",
       " 'between',\n",
       " 'both',\n",
       " 'but',\n",
       " 'by',\n",
       " 'can',\n",
       " 'couldn',\n",
       " \"couldn't\",\n",
       " 'd',\n",
       " 'did',\n",
       " 'didn',\n",
       " \"didn't\",\n",
       " 'do',\n",
       " 'does',\n",
       " 'doesn',\n",
       " \"doesn't\",\n",
       " 'doing',\n",
       " 'don',\n",
       " \"don't\",\n",
       " 'down',\n",
       " 'during',\n",
       " 'each',\n",
       " 'few',\n",
       " 'for',\n",
       " 'from',\n",
       " 'further',\n",
       " 'had',\n",
       " 'hadn',\n",
       " \"hadn't\",\n",
       " 'has',\n",
       " 'hasn',\n",
       " \"hasn't\",\n",
       " 'have',\n",
       " 'haven',\n",
       " \"haven't\",\n",
       " 'having',\n",
       " 'he',\n",
       " 'her',\n",
       " 'here',\n",
       " 'hers',\n",
       " 'herself',\n",
       " 'him',\n",
       " 'himself',\n",
       " 'his',\n",
       " 'how',\n",
       " 'i',\n",
       " 'if',\n",
       " 'in',\n",
       " 'into',\n",
       " 'is',\n",
       " 'isn',\n",
       " \"isn't\",\n",
       " 'it',\n",
       " \"it's\",\n",
       " 'its',\n",
       " 'itself',\n",
       " 'just',\n",
       " 'll',\n",
       " 'm',\n",
       " 'ma',\n",
       " 'me',\n",
       " 'mightn',\n",
       " \"mightn't\",\n",
       " 'more',\n",
       " 'most',\n",
       " 'mustn',\n",
       " \"mustn't\",\n",
       " 'my',\n",
       " 'myself',\n",
       " 'needn',\n",
       " \"needn't\",\n",
       " 'no',\n",
       " 'nor',\n",
       " 'not',\n",
       " 'now',\n",
       " 'o',\n",
       " 'of',\n",
       " 'off',\n",
       " 'on',\n",
       " 'once',\n",
       " 'only',\n",
       " 'or',\n",
       " 'other',\n",
       " 'our',\n",
       " 'ours',\n",
       " 'ourselves',\n",
       " 'out',\n",
       " 'over',\n",
       " 'own',\n",
       " 're',\n",
       " 's',\n",
       " 'same',\n",
       " 'shan',\n",
       " \"shan't\",\n",
       " 'she',\n",
       " \"she's\",\n",
       " 'should',\n",
       " \"should've\",\n",
       " 'shouldn',\n",
       " \"shouldn't\",\n",
       " 'so',\n",
       " 'some',\n",
       " 'such',\n",
       " 't',\n",
       " 'than',\n",
       " 'that',\n",
       " \"that'll\",\n",
       " 'the',\n",
       " 'their',\n",
       " 'theirs',\n",
       " 'them',\n",
       " 'themselves',\n",
       " 'then',\n",
       " 'there',\n",
       " 'these',\n",
       " 'they',\n",
       " 'this',\n",
       " 'those',\n",
       " 'through',\n",
       " 'to',\n",
       " 'too',\n",
       " 'under',\n",
       " 'until',\n",
       " 'up',\n",
       " 've',\n",
       " 'very',\n",
       " 'was',\n",
       " 'wasn',\n",
       " \"wasn't\",\n",
       " 'we',\n",
       " 'were',\n",
       " 'weren',\n",
       " \"weren't\",\n",
       " 'what',\n",
       " 'when',\n",
       " 'where',\n",
       " 'which',\n",
       " 'while',\n",
       " 'who',\n",
       " 'whom',\n",
       " 'why',\n",
       " 'will',\n",
       " 'with',\n",
       " 'won',\n",
       " \"won't\",\n",
       " 'wouldn',\n",
       " \"wouldn't\",\n",
       " 'y',\n",
       " 'you',\n",
       " \"you'd\",\n",
       " \"you'll\",\n",
       " \"you're\",\n",
       " \"you've\",\n",
       " 'your',\n",
       " 'yours',\n",
       " 'yourself',\n",
       " 'yourselves'}"
      ]
     },
     "execution_count": 40,
     "metadata": {},
     "output_type": "execute_result"
    }
   ],
   "source": [
    "stop"
   ]
  },
  {
   "cell_type": "code",
   "execution_count": 41,
   "metadata": {},
   "outputs": [
    {
     "data": {
      "text/plain": [
       "set"
      ]
     },
     "execution_count": 41,
     "metadata": {},
     "output_type": "execute_result"
    }
   ],
   "source": [
    "type(stop)"
   ]
  },
  {
   "cell_type": "code",
   "execution_count": 42,
   "metadata": {},
   "outputs": [],
   "source": [
    "dff2['body'] = dff2['body'].apply(lambda words : \" \".join(word for word in words.split()if word not in stop))"
   ]
  },
  {
   "cell_type": "code",
   "execution_count": 43,
   "metadata": {},
   "outputs": [],
   "source": [
    "words = 'as advertised daughter loves it great price'"
   ]
  },
  {
   "cell_type": "code",
   "execution_count": 44,
   "metadata": {},
   "outputs": [
    {
     "data": {
      "text/plain": [
       "['as', 'advertised', 'daughter', 'loves', 'it', 'great', 'price']"
      ]
     },
     "execution_count": 44,
     "metadata": {},
     "output_type": "execute_result"
    }
   ],
   "source": [
    "words.split()"
   ]
  },
  {
   "cell_type": "code",
   "execution_count": 45,
   "metadata": {},
   "outputs": [
    {
     "data": {
      "text/plain": [
       "14                                     dont buy service\n",
       "17      1 star phones locked pay additional fees unlock\n",
       "18    product good used cell phone one projects work...\n",
       "21    bought phone replace lg phone didnt like expec...\n",
       "22    purchased phone att phone replacement even tho...\n",
       "Name: body, dtype: object"
      ]
     },
     "execution_count": 45,
     "metadata": {},
     "output_type": "execute_result"
    }
   ],
   "source": [
    "dff2['body'].head()"
   ]
  },
  {
   "cell_type": "markdown",
   "metadata": {
    "id": "TQNvXay42yaQ"
   },
   "source": [
    "### 5.4 Apply lemmatisation on the above preprocessed text and display a few samples"
   ]
  },
  {
   "cell_type": "code",
   "execution_count": 46,
   "metadata": {
    "id": "oQ1VfFaa3DET"
   },
   "outputs": [
    {
     "name": "stderr",
     "output_type": "stream",
     "text": [
      "[nltk_data] Downloading package wordnet to\n",
      "[nltk_data]     C:\\Users\\Asus\\AppData\\Roaming\\nltk_data...\n",
      "[nltk_data]   Package wordnet is already up-to-date!\n"
     ]
    },
    {
     "data": {
      "text/plain": [
       "True"
      ]
     },
     "execution_count": 46,
     "metadata": {},
     "output_type": "execute_result"
    }
   ],
   "source": [
    "nltk.download('wordnet')"
   ]
  },
  {
   "cell_type": "code",
   "execution_count": 47,
   "metadata": {},
   "outputs": [],
   "source": [
    "w_tokenizer = nltk.tokenize.WhitespaceTokenizer()"
   ]
  },
  {
   "cell_type": "code",
   "execution_count": 48,
   "metadata": {},
   "outputs": [],
   "source": [
    "lemmatizer = nltk.stem.WordNetLemmatizer()"
   ]
  },
  {
   "cell_type": "code",
   "execution_count": 49,
   "metadata": {},
   "outputs": [],
   "source": [
    "def lemmatize_text (text):\n",
    "    out_text = [lemmatizer.lemmatize(word) for word in w_tokenizer.tokenize(text)]\n",
    "    return out_text"
   ]
  },
  {
   "cell_type": "code",
   "execution_count": 50,
   "metadata": {},
   "outputs": [],
   "source": [
    "dff2['keywords'] = dff2['body'].apply(lemmatize_text)\n",
    "dff2['keywords'] = [','.join(map(str, l)) for l in dff2['keywords']]\n"
   ]
  },
  {
   "cell_type": "markdown",
   "metadata": {},
   "source": [
    "##### In second line of code for cell 50 we changed the list values in keywords column to string as tf-idf doesnot exceute on lists format. "
   ]
  },
  {
   "cell_type": "code",
   "execution_count": 51,
   "metadata": {},
   "outputs": [
    {
     "data": {
      "text/html": [
       "<div>\n",
       "<style scoped>\n",
       "    .dataframe tbody tr th:only-of-type {\n",
       "        vertical-align: middle;\n",
       "    }\n",
       "\n",
       "    .dataframe tbody tr th {\n",
       "        vertical-align: top;\n",
       "    }\n",
       "\n",
       "    .dataframe thead th {\n",
       "        text-align: right;\n",
       "    }\n",
       "</style>\n",
       "<table border=\"1\" class=\"dataframe\">\n",
       "  <thead>\n",
       "    <tr style=\"text-align: right;\">\n",
       "      <th></th>\n",
       "      <th>brand</th>\n",
       "      <th>body</th>\n",
       "      <th>user_rating</th>\n",
       "      <th>review_title</th>\n",
       "      <th>sentiments</th>\n",
       "      <th>keywords</th>\n",
       "    </tr>\n",
       "  </thead>\n",
       "  <tbody>\n",
       "    <tr>\n",
       "      <th>14</th>\n",
       "      <td>Motorola</td>\n",
       "      <td>dont buy service</td>\n",
       "      <td>1</td>\n",
       "      <td>Stupid phone</td>\n",
       "      <td>-1</td>\n",
       "      <td>dont,buy,service</td>\n",
       "    </tr>\n",
       "    <tr>\n",
       "      <th>17</th>\n",
       "      <td>Motorola</td>\n",
       "      <td>1 star phones locked pay additional fees unlock</td>\n",
       "      <td>1</td>\n",
       "      <td>Phones locked</td>\n",
       "      <td>-1</td>\n",
       "      <td>1,star,phone,locked,pay,additional,fee,unlock</td>\n",
       "    </tr>\n",
       "    <tr>\n",
       "      <th>18</th>\n",
       "      <td>Motorola</td>\n",
       "      <td>product good used cell phone one projects work...</td>\n",
       "      <td>5</td>\n",
       "      <td>Excellent product</td>\n",
       "      <td>1</td>\n",
       "      <td>product,good,used,cell,phone,one,project,worke...</td>\n",
       "    </tr>\n",
       "    <tr>\n",
       "      <th>21</th>\n",
       "      <td>Motorola</td>\n",
       "      <td>bought phone replace lg phone didnt like expec...</td>\n",
       "      <td>4</td>\n",
       "      <td>Nice, but</td>\n",
       "      <td>1</td>\n",
       "      <td>bought,phone,replace,lg,phone,didnt,like,expec...</td>\n",
       "    </tr>\n",
       "    <tr>\n",
       "      <th>22</th>\n",
       "      <td>Motorola</td>\n",
       "      <td>purchased phone att phone replacement even tho...</td>\n",
       "      <td>1</td>\n",
       "      <td>It seems it doesn't work with the existing AT&amp;...</td>\n",
       "      <td>-1</td>\n",
       "      <td>purchased,phone,att,phone,replacement,even,tho...</td>\n",
       "    </tr>\n",
       "  </tbody>\n",
       "</table>\n",
       "</div>"
      ],
      "text/plain": [
       "       brand                                               body  user_rating  \\\n",
       "14  Motorola                                   dont buy service            1   \n",
       "17  Motorola    1 star phones locked pay additional fees unlock            1   \n",
       "18  Motorola  product good used cell phone one projects work...            5   \n",
       "21  Motorola  bought phone replace lg phone didnt like expec...            4   \n",
       "22  Motorola  purchased phone att phone replacement even tho...            1   \n",
       "\n",
       "                                         review_title  sentiments  \\\n",
       "14                                       Stupid phone          -1   \n",
       "17                                      Phones locked          -1   \n",
       "18                                  Excellent product           1   \n",
       "21                                          Nice, but           1   \n",
       "22  It seems it doesn't work with the existing AT&...          -1   \n",
       "\n",
       "                                             keywords  \n",
       "14                                   dont,buy,service  \n",
       "17      1,star,phone,locked,pay,additional,fee,unlock  \n",
       "18  product,good,used,cell,phone,one,project,worke...  \n",
       "21  bought,phone,replace,lg,phone,didnt,like,expec...  \n",
       "22  purchased,phone,att,phone,replacement,even,tho...  "
      ]
     },
     "execution_count": 51,
     "metadata": {},
     "output_type": "execute_result"
    }
   ],
   "source": [
    "dff2.head()"
   ]
  },
  {
   "cell_type": "markdown",
   "metadata": {
    "id": "OzweL_fA3DiN"
   },
   "source": [
    "### 5.5 Write a function to check word frequency of the text"
   ]
  },
  {
   "cell_type": "code",
   "execution_count": 52,
   "metadata": {},
   "outputs": [
    {
     "name": "stdout",
     "output_type": "stream",
     "text": [
      "All frequencies\n",
      "============================================================\n",
      "             Word  Frequency\n",
      "0            good        737\n",
      "1     great phone        409\n",
      "2            love        373\n",
      "3           great        248\n",
      "4      love phone        225\n",
      "5       excellent        221\n",
      "6       excelente        198\n",
      "7      good phone        176\n",
      "8         perfect        169\n",
      "9              ok        144\n",
      "10                       140\n",
      "11           nice        136\n",
      "12    works great        118\n",
      "13     nice phone        109\n",
      "14           like        102\n",
      "15   good product        100\n",
      "16  great product         95\n",
      "17      muy bueno         73\n",
      "18       excelent         65\n",
      "19        awesome         64\n",
      "============================================================\n"
     ]
    }
   ],
   "source": [
    "top_N = 20\n",
    "word_dist = nltk.FreqDist(dff2['body'])\n",
    "print('All frequencies')\n",
    "print('='*60)\n",
    "wf=pd.DataFrame(word_dist.most_common(top_N),columns=['Word','Frequency'])\n",
    "\n",
    "print(wf)\n",
    "print ('='*60)"
   ]
  },
  {
   "cell_type": "markdown",
   "metadata": {},
   "source": [
    "Another way"
   ]
  },
  {
   "cell_type": "code",
   "execution_count": 53,
   "metadata": {
    "id": "MzIAyX3N6lz5"
   },
   "outputs": [],
   "source": [
    "# Python code to find frequency of each word \n",
    "def freq(str): \n",
    "  \n",
    "    # break the string into list of words  \n",
    "    str = str.split()          \n",
    "    str2 = [] \n",
    "  \n",
    "    # loop till string values present in list str \n",
    "    for i in str:              \n",
    "  \n",
    "        # checking for the duplicacy \n",
    "        if i not in str2: \n",
    "  \n",
    "            # insert value in str2 \n",
    "            str2.append(i)  \n",
    "              \n",
    "    for i in range(0, len(str2)): \n",
    "  \n",
    "        # count the frequency of each word(present  \n",
    "        # in str2) in str and print \n",
    "        print('Frequency of', str2[i], 'is :', str.count(str2[i])) "
   ]
  },
  {
   "cell_type": "markdown",
   "metadata": {
    "id": "s0UgcEo_6l8O"
   },
   "source": [
    "### 5.6 Check word frequency of review having top ratings (sentiment = 1) and display output of few samples"
   ]
  },
  {
   "cell_type": "code",
   "execution_count": 54,
   "metadata": {},
   "outputs": [
    {
     "name": "stdout",
     "output_type": "stream",
     "text": [
      "All frequencies\n",
      "============================================================\n",
      "             Word  Frequency\n",
      "0            good        683\n",
      "1     great phone        408\n",
      "2            love        369\n",
      "3           great        247\n",
      "4      love phone        225\n",
      "5       excellent        221\n",
      "6       excelente        198\n",
      "7      good phone        171\n",
      "8         perfect        169\n",
      "9            nice        129\n",
      "10                       125\n",
      "11             ok        120\n",
      "12    works great        118\n",
      "13     nice phone        107\n",
      "14           like        101\n",
      "15   good product         98\n",
      "16  great product         93\n",
      "17      muy bueno         73\n",
      "18       excelent         65\n",
      "19        awesome         63\n",
      "============================================================\n"
     ]
    }
   ],
   "source": [
    "top_N = 20\n",
    "word_dist = nltk.FreqDist(dff2[dff2['sentiments']==1]['body'])\n",
    "print('All frequencies')\n",
    "print('='*60)\n",
    "wf=pd.DataFrame(word_dist.most_common(top_N),columns=['Word','Frequency'])\n",
    "print(wf)\n",
    "print ('='*60)"
   ]
  },
  {
   "cell_type": "code",
   "execution_count": 55,
   "metadata": {
    "id": "BLEEFEmv60mU"
   },
   "outputs": [
    {
     "name": "stdout",
     "output_type": "stream",
     "text": [
      "Frequency of product is : 1\n",
      "Frequency of good is : 1\n",
      "Frequency of used is : 1\n",
      "Frequency of cell is : 1\n",
      "Frequency of phone is : 1\n",
      "Frequency of one is : 1\n",
      "Frequency of projects is : 1\n",
      "Frequency of work... is : 1\n"
     ]
    }
   ],
   "source": [
    "  \n",
    "def main(): \n",
    "    str ='product good used cell phone one projects work...'\n",
    "    freq(str)                     \n",
    "  \n",
    "if __name__==\"__main__\": \n",
    "    main()   "
   ]
  },
  {
   "cell_type": "code",
   "execution_count": 56,
   "metadata": {},
   "outputs": [
    {
     "name": "stdout",
     "output_type": "stream",
     "text": [
      "Frequency of bought is : 1\n",
      "Frequency of phone is : 2\n",
      "Frequency of replace is : 1\n",
      "Frequency of lg is : 1\n",
      "Frequency of didnt is : 1\n",
      "Frequency of like is : 1\n",
      "Frequency of expec... is : 1\n"
     ]
    }
   ],
   "source": [
    "  \n",
    "def main(): \n",
    "    str ='bought phone replace lg phone didnt like expec...'\n",
    "    freq(str)                     \n",
    "  \n",
    "if __name__==\"__main__\": \n",
    "    main()   "
   ]
  },
  {
   "cell_type": "markdown",
   "metadata": {
    "id": "9UbdTGsv60t1"
   },
   "source": [
    "### 5.7 Initialize tf-idf vectorizer and transform the preprocessed body text"
   ]
  },
  {
   "cell_type": "code",
   "execution_count": 57,
   "metadata": {
    "id": "_Jfo6go_69yh"
   },
   "outputs": [],
   "source": [
    "from sklearn.feature_extraction.text import TfidfVectorizer"
   ]
  },
  {
   "cell_type": "code",
   "execution_count": 58,
   "metadata": {},
   "outputs": [],
   "source": [
    "tfidf_vec = TfidfVectorizer()"
   ]
  },
  {
   "cell_type": "markdown",
   "metadata": {
    "id": "5dqPXETLKN0h"
   },
   "source": [
    "### 5.8 Segregate the data into dependent (sentiment) and independent (transformed body using tf-idf) features for building a classifier. "
   ]
  },
  {
   "cell_type": "code",
   "execution_count": 59,
   "metadata": {
    "id": "mpOLAYn07W6F"
   },
   "outputs": [],
   "source": [
    "tfidf_trans = tfidf_vec.fit_transform(dff2['keywords'])"
   ]
  },
  {
   "cell_type": "code",
   "execution_count": 60,
   "metadata": {},
   "outputs": [],
   "source": [
    "y = dff2['sentiments']"
   ]
  },
  {
   "cell_type": "markdown",
   "metadata": {
    "id": "4K03FO0q7XBP"
   },
   "source": [
    "### 5.9 Split the data into Train & Test Sets"
   ]
  },
  {
   "cell_type": "code",
   "execution_count": 61,
   "metadata": {},
   "outputs": [],
   "source": [
    "from sklearn.model_selection import train_test_split"
   ]
  },
  {
   "cell_type": "code",
   "execution_count": 62,
   "metadata": {
    "id": "D548-7cE7dZa"
   },
   "outputs": [],
   "source": [
    "x_train,x_test,y_train,y_test = train_test_split(tfidf_trans,y)"
   ]
  },
  {
   "cell_type": "markdown",
   "metadata": {
    "id": "rhD1a-beKvE7"
   },
   "source": [
    "## 6. Model building"
   ]
  },
  {
   "cell_type": "markdown",
   "metadata": {
    "id": "UPFovmN03exD"
   },
   "source": [
    "### 6.1 Build a random forest classifier to predict the 'sentiment'\n",
    "### 6.2 Predict on test set\n",
    "### 6.3 Check accuracy and confusion matrix"
   ]
  },
  {
   "cell_type": "code",
   "execution_count": 63,
   "metadata": {},
   "outputs": [],
   "source": [
    "from sklearn.ensemble import RandomForestClassifier\n",
    "rf = RandomForestClassifier()"
   ]
  },
  {
   "cell_type": "code",
   "execution_count": 64,
   "metadata": {
    "id": "y0ytdD-_30P9"
   },
   "outputs": [
    {
     "data": {
      "text/plain": [
       "RandomForestClassifier(bootstrap=True, ccp_alpha=0.0, class_weight=None,\n",
       "                       criterion='gini', max_depth=None, max_features='auto',\n",
       "                       max_leaf_nodes=None, max_samples=None,\n",
       "                       min_impurity_decrease=0.0, min_impurity_split=None,\n",
       "                       min_samples_leaf=1, min_samples_split=2,\n",
       "                       min_weight_fraction_leaf=0.0, n_estimators=100,\n",
       "                       n_jobs=None, oob_score=False, random_state=None,\n",
       "                       verbose=0, warm_start=False)"
      ]
     },
     "execution_count": 64,
     "metadata": {},
     "output_type": "execute_result"
    }
   ],
   "source": [
    "rf.fit(x_train,y_train)"
   ]
  },
  {
   "cell_type": "code",
   "execution_count": 65,
   "metadata": {
    "id": "NJ6Ke4hl30Zk"
   },
   "outputs": [],
   "source": [
    "y_predict = rf.predict(x_test)"
   ]
  },
  {
   "cell_type": "code",
   "execution_count": 66,
   "metadata": {},
   "outputs": [
    {
     "data": {
      "text/plain": [
       "array([-1,  1,  1, ...,  1,  1,  1], dtype=int64)"
      ]
     },
     "execution_count": 66,
     "metadata": {},
     "output_type": "execute_result"
    }
   ],
   "source": [
    "y_predict"
   ]
  },
  {
   "cell_type": "code",
   "execution_count": 67,
   "metadata": {},
   "outputs": [],
   "source": [
    "from sklearn.metrics import classification_report\n",
    "from sklearn.metrics import confusion_matrix\n",
    "from sklearn.metrics import accuracy_score"
   ]
  },
  {
   "cell_type": "code",
   "execution_count": 68,
   "metadata": {},
   "outputs": [
    {
     "name": "stdout",
     "output_type": "stream",
     "text": [
      "Accuracy :  0.8505912327693212\n",
      "Confusion Matrix : \n",
      " [[ 2550    12   990]\n",
      " [  310    82   670]\n",
      " [  302     3 10388]]\n",
      "Classification Report: \n",
      "               precision    recall  f1-score   support\n",
      "\n",
      "          -1       0.81      0.72      0.76      3552\n",
      "           0       0.85      0.08      0.14      1062\n",
      "           1       0.86      0.97      0.91     10693\n",
      "\n",
      "    accuracy                           0.85     15307\n",
      "   macro avg       0.84      0.59      0.60     15307\n",
      "weighted avg       0.85      0.85      0.82     15307\n",
      "\n"
     ]
    }
   ],
   "source": [
    "print(\"Accuracy : \", accuracy_score(y_test, y_predict))\n",
    "print(\"Confusion Matrix : \\n\",confusion_matrix(y_test, y_predict))\n",
    "print(\"Classification Report: \\n\",classification_report(y_test, y_predict))"
   ]
  },
  {
   "cell_type": "code",
   "execution_count": 69,
   "metadata": {},
   "outputs": [
    {
     "data": {
      "text/html": [
       "<div>\n",
       "<style scoped>\n",
       "    .dataframe tbody tr th:only-of-type {\n",
       "        vertical-align: middle;\n",
       "    }\n",
       "\n",
       "    .dataframe tbody tr th {\n",
       "        vertical-align: top;\n",
       "    }\n",
       "\n",
       "    .dataframe thead th {\n",
       "        text-align: right;\n",
       "    }\n",
       "</style>\n",
       "<table border=\"1\" class=\"dataframe\">\n",
       "  <thead>\n",
       "    <tr style=\"text-align: right;\">\n",
       "      <th></th>\n",
       "      <th>-1</th>\n",
       "      <th>0</th>\n",
       "      <th>1</th>\n",
       "    </tr>\n",
       "  </thead>\n",
       "  <tbody>\n",
       "    <tr>\n",
       "      <th>-1</th>\n",
       "      <td>2550</td>\n",
       "      <td>12</td>\n",
       "      <td>990</td>\n",
       "    </tr>\n",
       "    <tr>\n",
       "      <th>0</th>\n",
       "      <td>310</td>\n",
       "      <td>82</td>\n",
       "      <td>670</td>\n",
       "    </tr>\n",
       "    <tr>\n",
       "      <th>1</th>\n",
       "      <td>302</td>\n",
       "      <td>3</td>\n",
       "      <td>10388</td>\n",
       "    </tr>\n",
       "  </tbody>\n",
       "</table>\n",
       "</div>"
      ],
      "text/plain": [
       "      -1   0      1\n",
       "-1  2550  12    990\n",
       " 0   310  82    670\n",
       " 1   302   3  10388"
      ]
     },
     "execution_count": 69,
     "metadata": {},
     "output_type": "execute_result"
    }
   ],
   "source": [
    "labels = np.unique(y_test)\n",
    "a =  confusion_matrix(y_test, y_predict, labels=labels)\n",
    "\n",
    "pd.DataFrame(a, index=labels, columns=labels)"
   ]
  },
  {
   "cell_type": "markdown",
   "metadata": {
    "id": "Ey7an7ukLxWB"
   },
   "source": [
    "## 7. Write your conclusion"
   ]
  },
  {
   "cell_type": "markdown",
   "metadata": {},
   "source": [
    "##### There were total of 3552 products that were rated lower than 3 star on sentiment ratings\n",
    "##### There were total of 1062 products which were rated with neutral sentiment ratings of 3 star\n",
    "##### There were total of 10,693 products which were rated higher than 3 start sentiment ratings\n",
    "##### The most commonly used word for higher ratings is 'good ' followed by phrase 'great phone'where as 'awesome ' is the least used word for describing higher ratings.\n",
    "\n",
    "## Perfomance of our classifier\n",
    "\n",
    "\n",
    "\n",
    "#### 2550 ratings less than 3 stars are predicted correctly\n",
    "\n",
    "#### 310 ratings of 3 stars are misclassified as lower star ratings\n",
    "\n",
    "\n",
    "####  302 ratings of more than 3 stars are misclassified as lower star ratings.\n",
    "\n",
    "\n",
    "#### 12 ratings less than 3 star are misclassified as 3 star ratings\n",
    "\n",
    "\n",
    "#### 82 ratings of 3 stars are predicted correctly\n",
    "\n",
    "\n",
    "#### 3 ratings of more than 3 stars are misclassified as 3 star rating\n",
    "\n",
    "\n",
    "#### 990 ratings less than 3 star are misclassified as higher ratings\n",
    "\n",
    "\n",
    "#### 670 3 star ratings are misclassified as higher ratings\n",
    "\n",
    "\n",
    "####  10388 ratings higher than 3 star are predicted correctly.\n",
    "\n",
    "\n"
   ]
  }
 ],
 "metadata": {
  "colab": {
   "collapsed_sections": [
    "x_Lom6cXzqn7",
    "fze-aokU0ukH"
   ],
   "name": "R8 Internal Lab Question Notebook.ipynb",
   "provenance": []
  },
  "kernelspec": {
   "display_name": "Python 3",
   "language": "python",
   "name": "python3"
  },
  "language_info": {
   "codemirror_mode": {
    "name": "ipython",
    "version": 3
   },
   "file_extension": ".py",
   "mimetype": "text/x-python",
   "name": "python",
   "nbconvert_exporter": "python",
   "pygments_lexer": "ipython3",
   "version": "3.7.7"
  }
 },
 "nbformat": 4,
 "nbformat_minor": 1
}
