{
 "cells": [
  {
   "cell_type": "markdown",
   "metadata": {
    "id": "PHYs6Z84xV8E"
   },
   "source": [
    "<img src=\"http://drive.google.com/uc?export=view&id=1tpOCamr9aWz817atPnyXus8w5gJ3mIts\" width=500px>\n",
    "\n",
    "Proprietary content. © Great Learning. All Rights Reserved. Unauthorized use or distribution prohibited."
   ]
  },
  {
   "cell_type": "markdown",
   "metadata": {
    "id": "FbwHYUXhxaqD"
   },
   "source": [
    "## Problem Statement\n",
    "\n"
   ]
  },
  {
   "cell_type": "markdown",
   "metadata": {
    "id": "5QQxgAmWzSye"
   },
   "source": [
    "# Samsung Internal SSD Reviews prediction\n",
    "\n",
    "Rating predictions using reviews written by users can be a useful problem statement in E-commerce domain and can be used for recommending similar products that may interest users. The dataset in this problem statement comprises reviews pertaining to Samsung Internal SSD product specifically SAMSUNG 850 EVO 2.5\" 250GB SATA III 3D NAND Internal Solid State Drive (SSD) MZ-75E250B/AM from the NewEgg Store website.  We will build a Natural Language processing model using Glove embeddings which is trained on reviews given by customers that have used the product and try to predict ratings given a new rating.\n",
    "\n",
    "\n",
    "\n",
    "\n",
    "### Objective:\n",
    "Given the reviews provided by customers, can you train a model that accurately predicts the corresponding rating of a review?"
   ]
  },
  {
   "cell_type": "markdown",
   "metadata": {
    "id": "CI7usguRzeox"
   },
   "source": [
    "### Package version\n",
    "\n",
    "- tensorflow==2.3.0\n",
    "- scikit-learn==0.22.2.post1\n",
    "- pandas==1.0.5\n",
    "- numpy==1.18.5\n",
    "- matplotlib==3.2.2\n",
    "- google==2.0.3"
   ]
  },
  {
   "cell_type": "markdown",
   "metadata": {
    "id": "aiMdVjHRH7NR"
   },
   "source": [
    "### Data Dictionary \n",
    "\n",
    "- review_title : The Title for the customer review\n",
    "\n",
    "- overall_review: The whole customer review details\n",
    "\n",
    "- pros: The customer opinion about the good things in this product\n",
    "\n",
    "- cons: The customer opinion about the bad things in this product\n",
    "\n",
    "- ownership_pariod: How long the customer owned this product\n",
    "\n",
    "- date: When the review was written\n",
    "\n",
    "- rating_stars: The product rating from 1 to 5\n",
    "\n",
    "- year: In which year the review was written\n",
    "\n",
    "- month: In which month the review was written\n",
    "\n",
    "- day: In which day the review was written"
   ]
  },
  {
   "cell_type": "markdown",
   "metadata": {
    "id": "cEn52o8jznJK"
   },
   "source": [
    "## Table of Content\n",
    "\n",
    "1. Import Libraries\n",
    "\n",
    "2. Setting options\n",
    "\n",
    "3. Read Data\n",
    "\n",
    "4. Data Analysis and Preparation\n",
    "\n",
    "5. Model Building\n",
    "\n",
    "6. Conclusion and Interpretation\n",
    "\n",
    "7. Food for thought"
   ]
  },
  {
   "cell_type": "markdown",
   "metadata": {
    "id": "x_Lom6cXzqn7"
   },
   "source": [
    "## 1. Import Libraries"
   ]
  },
  {
   "cell_type": "markdown",
   "metadata": {
    "id": "FZtVstH8zre2"
   },
   "source": [
    "Let us start by mounting the drive"
   ]
  },
  {
   "cell_type": "code",
   "execution_count": 1,
   "metadata": {
    "colab": {
     "base_uri": "https://localhost:8080/"
    },
    "id": "jSsg8JHkIh2k",
    "outputId": "5c0ee3b9-db6f-40e0-aa0f-9629acbc6e78"
   },
   "outputs": [
    {
     "name": "stdout",
     "output_type": "stream",
     "text": [
      "Mounted at /content/drive\n"
     ]
    }
   ],
   "source": [
    "from google.colab import drive\n",
    "drive.mount('/content/drive')"
   ]
  },
  {
   "cell_type": "markdown",
   "metadata": {
    "id": "Gv-tZoFjz2WD"
   },
   "source": [
    "Let us check for the version of installed tensorflow."
   ]
  },
  {
   "cell_type": "code",
   "execution_count": 2,
   "metadata": {
    "colab": {
     "base_uri": "https://localhost:8080/"
    },
    "id": "eiuUVBuDzzn9",
    "outputId": "9237c48d-7b04-4387-f25c-97f41f721136"
   },
   "outputs": [
    {
     "name": "stdout",
     "output_type": "stream",
     "text": [
      "2.5.0\n"
     ]
    }
   ],
   "source": [
    "# used to supress display of warnings\n",
    "import warnings\n",
    "\n",
    "# os is used to provide a way of using operating system dependent functionality\n",
    "# We use it for setting working folder\n",
    "import os\n",
    "\n",
    "# Pandas is used for data manipulation and analysis\n",
    "import pandas as pd \n",
    "\n",
    "# Numpy is used for large, multi-dimensional arrays and matrices, along with mathematical operators on these arrays\n",
    "import numpy as np\n",
    "\n",
    "# Matplotlib is a data visualization library for 2D plots of arrays, built on NumPy arrays \n",
    "# and designed to work with the broader SciPy stack\n",
    "import matplotlib.pyplot as plt\n",
    "%matplotlib inline\n",
    "from matplotlib import pyplot\n",
    "\n",
    "# Seaborn is based on matplotlib, which aids in drawing attractive and informative statistical graphics.\n",
    "import seaborn as sns\n",
    "import tensorflow \n",
    "print(tensorflow.__version__)"
   ]
  },
  {
   "cell_type": "markdown",
   "metadata": {
    "id": "fze-aokU0ukH"
   },
   "source": [
    "## 2. Setting Options"
   ]
  },
  {
   "cell_type": "code",
   "execution_count": 3,
   "metadata": {
    "id": "T3FALggG0xXa"
   },
   "outputs": [],
   "source": [
    "# suppress display of warnings\n",
    "warnings.filterwarnings('ignore')\n",
    "\n",
    "# display all dataframe columns\n",
    "pd.options.display.max_columns = None\n",
    "\n",
    "# to set the limit to 3 decimals\n",
    "pd.options.display.float_format = '{:.7f}'.format\n",
    "\n",
    "# display all dataframe rows\n",
    "pd.options.display.max_rows = None"
   ]
  },
  {
   "cell_type": "markdown",
   "metadata": {
    "id": "ZT1P1WdK1vfZ"
   },
   "source": [
    "## 3. Read Data"
   ]
  },
  {
   "cell_type": "markdown",
   "metadata": {
    "id": "NnnvF56gfwav"
   },
   "source": [
    "### Read the dataset and check top 5 rows"
   ]
  },
  {
   "cell_type": "code",
   "execution_count": 4,
   "metadata": {
    "id": "imj2VbNpf383"
   },
   "outputs": [],
   "source": [
    "df = pd.read_csv('/content/drive/MyDrive/R9 ssd interna lab/ssd_reviews.csv')"
   ]
  },
  {
   "cell_type": "code",
   "execution_count": 5,
   "metadata": {
    "colab": {
     "base_uri": "https://localhost:8080/",
     "height": 430
    },
    "id": "JmpNRxY6vYB4",
    "outputId": "9dba5026-3e36-4fdb-bdc7-2b0f974ae6cd"
   },
   "outputs": [
    {
     "data": {
      "text/html": [
       "<div>\n",
       "<style scoped>\n",
       "    .dataframe tbody tr th:only-of-type {\n",
       "        vertical-align: middle;\n",
       "    }\n",
       "\n",
       "    .dataframe tbody tr th {\n",
       "        vertical-align: top;\n",
       "    }\n",
       "\n",
       "    .dataframe thead th {\n",
       "        text-align: right;\n",
       "    }\n",
       "</style>\n",
       "<table border=\"1\" class=\"dataframe\">\n",
       "  <thead>\n",
       "    <tr style=\"text-align: right;\">\n",
       "      <th></th>\n",
       "      <th>Unnamed: 0</th>\n",
       "      <th>review_title</th>\n",
       "      <th>overall_review</th>\n",
       "      <th>pros</th>\n",
       "      <th>cons</th>\n",
       "      <th>ownership_pariod</th>\n",
       "      <th>date</th>\n",
       "      <th>rating_stars</th>\n",
       "      <th>year</th>\n",
       "      <th>month</th>\n",
       "      <th>day</th>\n",
       "    </tr>\n",
       "  </thead>\n",
       "  <tbody>\n",
       "    <tr>\n",
       "      <th>0</th>\n",
       "      <td>0</td>\n",
       "      <td>solid</td>\n",
       "      <td>buy it you will not regret this purchase</td>\n",
       "      <td>reliable fast silent cool running drive highly...</td>\n",
       "      <td>NaN</td>\n",
       "      <td>years</td>\n",
       "      <td>2019-12-05 12:58:58</td>\n",
       "      <td>5</td>\n",
       "      <td>2019</td>\n",
       "      <td>12</td>\n",
       "      <td>5</td>\n",
       "    </tr>\n",
       "    <tr>\n",
       "      <th>1</th>\n",
       "      <td>1</td>\n",
       "      <td>nice drive for price even cheaper by todays costs</td>\n",
       "      <td>good drive price</td>\n",
       "      <td>been running almost constantly since when i pu...</td>\n",
       "      <td>NaN</td>\n",
       "      <td>years</td>\n",
       "      <td>2019-11-01 08:25:45</td>\n",
       "      <td>5</td>\n",
       "      <td>2019</td>\n",
       "      <td>11</td>\n",
       "      <td>1</td>\n",
       "    </tr>\n",
       "    <tr>\n",
       "      <th>2</th>\n",
       "      <td>2</td>\n",
       "      <td>perfect</td>\n",
       "      <td>used this drive as my boot drive and only data...</td>\n",
       "      <td>good value decently fast good longevity</td>\n",
       "      <td>none so far</td>\n",
       "      <td>years</td>\n",
       "      <td>2019-10-27 17:05:49</td>\n",
       "      <td>5</td>\n",
       "      <td>2019</td>\n",
       "      <td>10</td>\n",
       "      <td>27</td>\n",
       "    </tr>\n",
       "    <tr>\n",
       "      <th>3</th>\n",
       "      <td>3</td>\n",
       "      <td>very snappy</td>\n",
       "      <td>os boots quicker os menus pop up quicker gamin...</td>\n",
       "      <td>noticeable improvement in os performance over ...</td>\n",
       "      <td>samsung magician software causes some games to...</td>\n",
       "      <td>years</td>\n",
       "      <td>2019-10-24 18:29:43</td>\n",
       "      <td>5</td>\n",
       "      <td>2019</td>\n",
       "      <td>10</td>\n",
       "      <td>24</td>\n",
       "    </tr>\n",
       "    <tr>\n",
       "      <th>4</th>\n",
       "      <td>4</td>\n",
       "      <td>worth the hype</td>\n",
       "      <td>this was the sdd that everyone said to get and...</td>\n",
       "      <td>NaN</td>\n",
       "      <td>NaN</td>\n",
       "      <td>years</td>\n",
       "      <td>2019-09-11 19:21:03</td>\n",
       "      <td>5</td>\n",
       "      <td>2019</td>\n",
       "      <td>9</td>\n",
       "      <td>11</td>\n",
       "    </tr>\n",
       "  </tbody>\n",
       "</table>\n",
       "</div>"
      ],
      "text/plain": [
       "   Unnamed: 0                                       review_title  \\\n",
       "0           0                                              solid   \n",
       "1           1  nice drive for price even cheaper by todays costs   \n",
       "2           2                                            perfect   \n",
       "3           3                                        very snappy   \n",
       "4           4                                     worth the hype   \n",
       "\n",
       "                                      overall_review  \\\n",
       "0           buy it you will not regret this purchase   \n",
       "1                                   good drive price   \n",
       "2  used this drive as my boot drive and only data...   \n",
       "3  os boots quicker os menus pop up quicker gamin...   \n",
       "4  this was the sdd that everyone said to get and...   \n",
       "\n",
       "                                                pros  \\\n",
       "0  reliable fast silent cool running drive highly...   \n",
       "1  been running almost constantly since when i pu...   \n",
       "2            good value decently fast good longevity   \n",
       "3  noticeable improvement in os performance over ...   \n",
       "4                                                NaN   \n",
       "\n",
       "                                                cons ownership_pariod  \\\n",
       "0                                                NaN            years   \n",
       "1                                                NaN            years   \n",
       "2                                        none so far            years   \n",
       "3  samsung magician software causes some games to...            years   \n",
       "4                                                NaN            years   \n",
       "\n",
       "                  date  rating_stars  year  month  day  \n",
       "0  2019-12-05 12:58:58             5  2019     12    5  \n",
       "1  2019-11-01 08:25:45             5  2019     11    1  \n",
       "2  2019-10-27 17:05:49             5  2019     10   27  \n",
       "3  2019-10-24 18:29:43             5  2019     10   24  \n",
       "4  2019-09-11 19:21:03             5  2019      9   11  "
      ]
     },
     "execution_count": 5,
     "metadata": {
      "tags": []
     },
     "output_type": "execute_result"
    }
   ],
   "source": [
    "df.head()"
   ]
  },
  {
   "cell_type": "markdown",
   "metadata": {
    "id": "RGluIi5Sf5Rp"
   },
   "source": [
    "### Check info of the dataset and write your findings"
   ]
  },
  {
   "cell_type": "code",
   "execution_count": 6,
   "metadata": {
    "colab": {
     "base_uri": "https://localhost:8080/"
    },
    "id": "Pldlew5Mf9gA",
    "outputId": "69a5f2ec-8429-49ed-c907-631b3585f378"
   },
   "outputs": [
    {
     "name": "stdout",
     "output_type": "stream",
     "text": [
      "<class 'pandas.core.frame.DataFrame'>\n",
      "RangeIndex: 2227 entries, 0 to 2226\n",
      "Data columns (total 11 columns):\n",
      " #   Column            Non-Null Count  Dtype \n",
      "---  ------            --------------  ----- \n",
      " 0   Unnamed: 0        2227 non-null   int64 \n",
      " 1   review_title      2131 non-null   object\n",
      " 2   overall_review    1448 non-null   object\n",
      " 3   pros              2205 non-null   object\n",
      " 4   cons              2216 non-null   object\n",
      " 5   ownership_pariod  2159 non-null   object\n",
      " 6   date              2227 non-null   object\n",
      " 7   rating_stars      2227 non-null   int64 \n",
      " 8   year              2227 non-null   int64 \n",
      " 9   month             2227 non-null   int64 \n",
      " 10  day               2227 non-null   int64 \n",
      "dtypes: int64(5), object(6)\n",
      "memory usage: 191.5+ KB\n"
     ]
    }
   ],
   "source": [
    "df.info()"
   ]
  },
  {
   "cell_type": "code",
   "execution_count": 7,
   "metadata": {
    "colab": {
     "base_uri": "https://localhost:8080/"
    },
    "id": "jigRpLS-vrrr",
    "outputId": "1237be81-1ad1-4b88-bd7a-661070d6fe14"
   },
   "outputs": [
    {
     "data": {
      "text/plain": [
       "(2227, 11)"
      ]
     },
     "execution_count": 7,
     "metadata": {
      "tags": []
     },
     "output_type": "execute_result"
    }
   ],
   "source": [
    "df.shape"
   ]
  },
  {
   "cell_type": "markdown",
   "metadata": {
    "id": "rED6DbDBKTjM"
   },
   "source": [
    "## 4.  Data Analysis and Preparation"
   ]
  },
  {
   "cell_type": "markdown",
   "metadata": {
    "id": "7VSqr0Seiy7g"
   },
   "source": [
    "### 4.1 Checking missing values\n",
    "#### Check for missing values (along with the percentage of null values)"
   ]
  },
  {
   "cell_type": "code",
   "execution_count": 8,
   "metadata": {
    "colab": {
     "base_uri": "https://localhost:8080/"
    },
    "id": "-ZlVy3_uw-jy",
    "outputId": "df050f04-8af3-437e-cacc-d15cd1e1a0fc"
   },
   "outputs": [
    {
     "data": {
      "text/plain": [
       "Unnamed: 0          0.0000000\n",
       "review_title        4.3107319\n",
       "overall_review     34.9797934\n",
       "pros                0.9878761\n",
       "cons                0.4939380\n",
       "ownership_pariod    3.0534351\n",
       "date                0.0000000\n",
       "rating_stars        0.0000000\n",
       "year                0.0000000\n",
       "month               0.0000000\n",
       "day                 0.0000000\n",
       "dtype: float64"
      ]
     },
     "execution_count": 8,
     "metadata": {
      "tags": []
     },
     "output_type": "execute_result"
    }
   ],
   "source": [
    "df.isna().sum()/len(df)* 100"
   ]
  },
  {
   "cell_type": "code",
   "execution_count": 9,
   "metadata": {
    "colab": {
     "base_uri": "https://localhost:8080/"
    },
    "id": "Il4yi7kdmnYQ",
    "outputId": "61492cfc-8eff-4bf8-b882-9c43a9ad7f61"
   },
   "outputs": [
    {
     "data": {
      "text/plain": [
       "Unnamed: 0            0\n",
       "review_title         96\n",
       "overall_review      779\n",
       "pros                 22\n",
       "cons                 11\n",
       "ownership_pariod     68\n",
       "date                  0\n",
       "rating_stars          0\n",
       "year                  0\n",
       "month                 0\n",
       "day                   0\n",
       "dtype: int64"
      ]
     },
     "execution_count": 9,
     "metadata": {
      "tags": []
     },
     "output_type": "execute_result"
    }
   ],
   "source": [
    "df.isnull().sum()"
   ]
  },
  {
   "cell_type": "markdown",
   "metadata": {
    "id": "SB40EGirmVjo"
   },
   "source": [
    "### 4.2 Analyzing the target column (Rating_stars)"
   ]
  },
  {
   "cell_type": "markdown",
   "metadata": {
    "id": "MoRvWVk-is6Y"
   },
   "source": [
    "#### Check the value counts of 'rating_stars' and write your comments"
   ]
  },
  {
   "cell_type": "code",
   "execution_count": 10,
   "metadata": {
    "colab": {
     "base_uri": "https://localhost:8080/"
    },
    "id": "LOVFp6Diiy0n",
    "outputId": "ae9a54b8-42a0-40e5-e38d-b3605c852ea6"
   },
   "outputs": [
    {
     "data": {
      "text/plain": [
       "5    1756\n",
       "4     181\n",
       "1     153\n",
       "3      77\n",
       "2      60\n",
       "Name: rating_stars, dtype: int64"
      ]
     },
     "execution_count": 10,
     "metadata": {
      "tags": []
     },
     "output_type": "execute_result"
    }
   ],
   "source": [
    "df['rating_stars'].value_counts()"
   ]
  },
  {
   "cell_type": "markdown",
   "metadata": {
    "id": "q9T8LahnVHKC"
   },
   "source": [
    "It can be seen that out of 2227 1756 products are 5 star, 181 are 4 star ,153 are 1 star,77 are 3 star and 60 are 2 star products."
   ]
  },
  {
   "cell_type": "code",
   "execution_count": 11,
   "metadata": {
    "colab": {
     "base_uri": "https://localhost:8080/",
     "height": 298
    },
    "id": "Rhr2gnY2lc9h",
    "outputId": "8cec2c68-5b7d-4af6-f702-c4183b825b05"
   },
   "outputs": [
    {
     "data": {
      "text/plain": [
       "<matplotlib.axes._subplots.AxesSubplot at 0x7ff5064d2790>"
      ]
     },
     "execution_count": 11,
     "metadata": {
      "tags": []
     },
     "output_type": "execute_result"
    },
    {
     "data": {
      "image/png": "[encoded data removed]",
      "text/plain": [
       "<Figure size 432x288 with 1 Axes>"
      ]
     },
     "metadata": {
      "needs_background": "light",
      "tags": []
     },
     "output_type": "display_data"
    }
   ],
   "source": [
    "sns.countplot(df.rating_stars)"
   ]
  },
  {
   "cell_type": "markdown",
   "metadata": {
    "id": "ZL_BQlb5mE4O"
   },
   "source": [
    "### 4.3 Let's analyze other features like year, month, and day etc.\n",
    "#### Check value counts of 'year' and write your observations., Comment on the range of years, frequency of ratings in each year."
   ]
  },
  {
   "cell_type": "code",
   "execution_count": 12,
   "metadata": {
    "colab": {
     "base_uri": "https://localhost:8080/"
    },
    "id": "YAtEigKEmM-Z",
    "outputId": "7b731085-13c5-4436-f876-7a38c52cd9eb"
   },
   "outputs": [
    {
     "data": {
      "text/plain": [
       "2015    1006\n",
       "2016     605\n",
       "2017     370\n",
       "2018     187\n",
       "2019      46\n",
       "2014      13\n",
       "Name: year, dtype: int64"
      ]
     },
     "execution_count": 12,
     "metadata": {
      "tags": []
     },
     "output_type": "execute_result"
    }
   ],
   "source": [
    "df['year'].value_counts()"
   ]
  },
  {
   "cell_type": "markdown",
   "metadata": {
    "id": "M-pWwPhRmsAz"
   },
   "source": [
    "#### Check mean rating for each year and write your findings"
   ]
  },
  {
   "cell_type": "code",
   "execution_count": 13,
   "metadata": {
    "colab": {
     "base_uri": "https://localhost:8080/"
    },
    "id": "sqWWhlLemwG8",
    "outputId": "a69f8edf-043a-4875-90ba-2743451de83c"
   },
   "outputs": [
    {
     "data": {
      "text/plain": [
       "year\n",
       "2014   4.9230769\n",
       "2016   4.5900826\n",
       "2017   4.5108108\n",
       "2015   4.4582505\n",
       "2019   4.3478261\n",
       "2018   4.3475936\n",
       "Name: rating_stars, dtype: float64"
      ]
     },
     "execution_count": 13,
     "metadata": {
      "tags": []
     },
     "output_type": "execute_result"
    }
   ],
   "source": [
    "df.groupby('year')['rating_stars'].mean().sort_values(ascending = False)"
   ]
  },
  {
   "cell_type": "markdown",
   "metadata": {
    "id": "enoYYTDunPsT"
   },
   "source": [
    "#### Check value counts of 'month' and write your observations. Comment on the frequency of ratings and discuss if the rating count and mean rating is higher/low on certain months."
   ]
  },
  {
   "cell_type": "code",
   "execution_count": 14,
   "metadata": {
    "colab": {
     "base_uri": "https://localhost:8080/",
     "height": 268
    },
    "id": "T0yhG8s1pTZD",
    "outputId": "58306ddd-84b6-4521-a4a6-0eb4b0eb08d7"
   },
   "outputs": [
    {
     "data": {
      "text/html": [
       "<div>\n",
       "<style scoped>\n",
       "    .dataframe tbody tr th:only-of-type {\n",
       "        vertical-align: middle;\n",
       "    }\n",
       "\n",
       "    .dataframe tbody tr th {\n",
       "        vertical-align: top;\n",
       "    }\n",
       "\n",
       "    .dataframe thead th {\n",
       "        text-align: right;\n",
       "    }\n",
       "</style>\n",
       "<table border=\"1\" class=\"dataframe\">\n",
       "  <thead>\n",
       "    <tr style=\"text-align: right;\">\n",
       "      <th>rating_stars</th>\n",
       "      <th>1</th>\n",
       "      <th>2</th>\n",
       "      <th>3</th>\n",
       "      <th>4</th>\n",
       "      <th>5</th>\n",
       "    </tr>\n",
       "    <tr>\n",
       "      <th>year</th>\n",
       "      <th></th>\n",
       "      <th></th>\n",
       "      <th></th>\n",
       "      <th></th>\n",
       "      <th></th>\n",
       "    </tr>\n",
       "  </thead>\n",
       "  <tbody>\n",
       "    <tr>\n",
       "      <th>2014</th>\n",
       "      <td>0</td>\n",
       "      <td>0</td>\n",
       "      <td>0</td>\n",
       "      <td>1</td>\n",
       "      <td>12</td>\n",
       "    </tr>\n",
       "    <tr>\n",
       "      <th>2015</th>\n",
       "      <td>65</td>\n",
       "      <td>31</td>\n",
       "      <td>45</td>\n",
       "      <td>102</td>\n",
       "      <td>763</td>\n",
       "    </tr>\n",
       "    <tr>\n",
       "      <th>2016</th>\n",
       "      <td>37</td>\n",
       "      <td>10</td>\n",
       "      <td>17</td>\n",
       "      <td>36</td>\n",
       "      <td>505</td>\n",
       "    </tr>\n",
       "    <tr>\n",
       "      <th>2017</th>\n",
       "      <td>25</td>\n",
       "      <td>13</td>\n",
       "      <td>8</td>\n",
       "      <td>26</td>\n",
       "      <td>298</td>\n",
       "    </tr>\n",
       "    <tr>\n",
       "      <th>2018</th>\n",
       "      <td>22</td>\n",
       "      <td>4</td>\n",
       "      <td>5</td>\n",
       "      <td>12</td>\n",
       "      <td>144</td>\n",
       "    </tr>\n",
       "    <tr>\n",
       "      <th>2019</th>\n",
       "      <td>4</td>\n",
       "      <td>2</td>\n",
       "      <td>2</td>\n",
       "      <td>4</td>\n",
       "      <td>34</td>\n",
       "    </tr>\n",
       "  </tbody>\n",
       "</table>\n",
       "</div>"
      ],
      "text/plain": [
       "rating_stars   1   2   3    4    5\n",
       "year                              \n",
       "2014           0   0   0    1   12\n",
       "2015          65  31  45  102  763\n",
       "2016          37  10  17   36  505\n",
       "2017          25  13   8   26  298\n",
       "2018          22   4   5   12  144\n",
       "2019           4   2   2    4   34"
      ]
     },
     "execution_count": 14,
     "metadata": {
      "tags": []
     },
     "output_type": "execute_result"
    }
   ],
   "source": [
    "pd.crosstab(df['year'],df['rating_stars'])"
   ]
  },
  {
   "cell_type": "markdown",
   "metadata": {
    "id": "lWofLqeJpTtI"
   },
   "source": [
    "### 4.4 Combine text features\n",
    "#### Drop all the numerical features ['Unnamed: 0','date', 'year', 'month', 'day', 'ownership_pariod'] and ['rating_stars']"
   ]
  },
  {
   "cell_type": "code",
   "execution_count": 15,
   "metadata": {
    "id": "8VAMgNJkqn0h"
   },
   "outputs": [],
   "source": [
    "NUMERIC_COLUMNS = ['Unnamed: 0','date', 'year', 'month', 'day', 'ownership_pariod']\n",
    "LABELS = ['rating_stars']"
   ]
  },
  {
   "cell_type": "code",
   "execution_count": 16,
   "metadata": {
    "colab": {
     "base_uri": "https://localhost:8080/",
     "height": 112
    },
    "id": "gVN70u5c1TmO",
    "outputId": "1dcb31f4-79d1-478f-c77d-b2a6bda12f19"
   },
   "outputs": [
    {
     "data": {
      "text/html": [
       "<div>\n",
       "<style scoped>\n",
       "    .dataframe tbody tr th:only-of-type {\n",
       "        vertical-align: middle;\n",
       "    }\n",
       "\n",
       "    .dataframe tbody tr th {\n",
       "        vertical-align: top;\n",
       "    }\n",
       "\n",
       "    .dataframe thead th {\n",
       "        text-align: right;\n",
       "    }\n",
       "</style>\n",
       "<table border=\"1\" class=\"dataframe\">\n",
       "  <thead>\n",
       "    <tr style=\"text-align: right;\">\n",
       "      <th></th>\n",
       "      <th>review_title</th>\n",
       "      <th>overall_review</th>\n",
       "      <th>pros</th>\n",
       "      <th>cons</th>\n",
       "    </tr>\n",
       "  </thead>\n",
       "  <tbody>\n",
       "    <tr>\n",
       "      <th>0</th>\n",
       "      <td>solid</td>\n",
       "      <td>buy it you will not regret this purchase</td>\n",
       "      <td>reliable fast silent cool running drive highly...</td>\n",
       "      <td>NaN</td>\n",
       "    </tr>\n",
       "    <tr>\n",
       "      <th>1</th>\n",
       "      <td>nice drive for price even cheaper by todays costs</td>\n",
       "      <td>good drive price</td>\n",
       "      <td>been running almost constantly since when i pu...</td>\n",
       "      <td>NaN</td>\n",
       "    </tr>\n",
       "  </tbody>\n",
       "</table>\n",
       "</div>"
      ],
      "text/plain": [
       "                                        review_title  \\\n",
       "0                                              solid   \n",
       "1  nice drive for price even cheaper by todays costs   \n",
       "\n",
       "                             overall_review  \\\n",
       "0  buy it you will not regret this purchase   \n",
       "1                          good drive price   \n",
       "\n",
       "                                                pros cons  \n",
       "0  reliable fast silent cool running drive highly...  NaN  \n",
       "1  been running almost constantly since when i pu...  NaN  "
      ]
     },
     "execution_count": 16,
     "metadata": {
      "tags": []
     },
     "output_type": "execute_result"
    }
   ],
   "source": [
    "# Drop non-text columns that are in the df\n",
    "to_drop = NUMERIC_COLUMNS + LABELS\n",
    "text_data = df.drop(to_drop, axis=1)\n",
    "text_data.head(2)"
   ]
  },
  {
   "cell_type": "markdown",
   "metadata": {
    "id": "HjRp0SgEqn9Z"
   },
   "source": [
    "#### Replace null values (NaN) with blanks"
   ]
  },
  {
   "cell_type": "code",
   "execution_count": 17,
   "metadata": {
    "colab": {
     "base_uri": "https://localhost:8080/"
    },
    "id": "yirbux6N1pAb",
    "outputId": "1ab659af-c034-499f-bbfd-6904c09954fe"
   },
   "outputs": [
    {
     "data": {
      "text/plain": [
       "review_title       96\n",
       "overall_review    779\n",
       "pros               22\n",
       "cons               11\n",
       "dtype: int64"
      ]
     },
     "execution_count": 17,
     "metadata": {
      "tags": []
     },
     "output_type": "execute_result"
    }
   ],
   "source": [
    "text_data.isna().sum()"
   ]
  },
  {
   "cell_type": "code",
   "execution_count": 18,
   "metadata": {
    "id": "CZr_sR_Tqs1x"
   },
   "outputs": [],
   "source": [
    "# # Replace nans with blanks\n",
    "text_data.fillna(\" \", inplace=True)\n",
    "    \n",
    "  "
   ]
  },
  {
   "cell_type": "markdown",
   "metadata": {
    "id": "ykjSdW1tqs-z"
   },
   "source": [
    "#### Join all text items in a row that have a space in between and Add a new column (with the newly created combined reviews) to the dataframe."
   ]
  },
  {
   "cell_type": "code",
   "execution_count": 19,
   "metadata": {
    "id": "9fJpSb-ZuSTr"
   },
   "outputs": [],
   "source": [
    "# # Join all text items in a row that have a space in between\n",
    "data_transf = text_data.apply(lambda x: \" \".join(x), axis=1) "
   ]
  },
  {
   "cell_type": "code",
   "execution_count": 20,
   "metadata": {
    "id": "hm47tEk2IKWd"
   },
   "outputs": [],
   "source": [
    "data = pd.DataFrame(data_transf, columns=['combined_reviews'])"
   ]
  },
  {
   "cell_type": "code",
   "execution_count": 21,
   "metadata": {
    "id": "SKSjerOqIKcM"
   },
   "outputs": [],
   "source": [
    "data['rating_stars'] = df['rating_stars']"
   ]
  },
  {
   "cell_type": "code",
   "execution_count": 22,
   "metadata": {
    "colab": {
     "base_uri": "https://localhost:8080/",
     "height": 362
    },
    "id": "1HXYmdOEJ56w",
    "outputId": "621fbb4c-92c4-4f32-bdbe-09dc7cdf6d51"
   },
   "outputs": [
    {
     "data": {
      "text/html": [
       "<div>\n",
       "<style scoped>\n",
       "    .dataframe tbody tr th:only-of-type {\n",
       "        vertical-align: middle;\n",
       "    }\n",
       "\n",
       "    .dataframe tbody tr th {\n",
       "        vertical-align: top;\n",
       "    }\n",
       "\n",
       "    .dataframe thead th {\n",
       "        text-align: right;\n",
       "    }\n",
       "</style>\n",
       "<table border=\"1\" class=\"dataframe\">\n",
       "  <thead>\n",
       "    <tr style=\"text-align: right;\">\n",
       "      <th></th>\n",
       "      <th>combined_reviews</th>\n",
       "      <th>rating_stars</th>\n",
       "    </tr>\n",
       "  </thead>\n",
       "  <tbody>\n",
       "    <tr>\n",
       "      <th>285</th>\n",
       "      <td>works as promised   pretty much a standard ssd...</td>\n",
       "      <td>5</td>\n",
       "    </tr>\n",
       "    <tr>\n",
       "      <th>723</th>\n",
       "      <td>works well lives up to the expectations of a s...</td>\n",
       "      <td>4</td>\n",
       "    </tr>\n",
       "    <tr>\n",
       "      <th>2017</th>\n",
       "      <td>10 out of 10 i ve owned several different ssd ...</td>\n",
       "      <td>5</td>\n",
       "    </tr>\n",
       "    <tr>\n",
       "      <th>2055</th>\n",
       "      <td>best choice for a 500gb ssd   very high 4k ran...</td>\n",
       "      <td>5</td>\n",
       "    </tr>\n",
       "    <tr>\n",
       "      <th>1077</th>\n",
       "      <td>if you re looking for 500gb this isn t it i ...</td>\n",
       "      <td>3</td>\n",
       "    </tr>\n",
       "    <tr>\n",
       "      <th>17</th>\n",
       "      <td>bad product i wont buy ever again from them   ...</td>\n",
       "      <td>1</td>\n",
       "    </tr>\n",
       "    <tr>\n",
       "      <th>1349</th>\n",
       "      <td>solid high recommend this drive especially if ...</td>\n",
       "      <td>5</td>\n",
       "    </tr>\n",
       "    <tr>\n",
       "      <th>1303</th>\n",
       "      <td>this is an international order and the pro...</td>\n",
       "      <td>2</td>\n",
       "    </tr>\n",
       "    <tr>\n",
       "      <th>2056</th>\n",
       "      <td>super fast the benchmarks on this guy are off ...</td>\n",
       "      <td>5</td>\n",
       "    </tr>\n",
       "    <tr>\n",
       "      <th>1997</th>\n",
       "      <td>love this   i just bought and built my entire ...</td>\n",
       "      <td>5</td>\n",
       "    </tr>\n",
       "  </tbody>\n",
       "</table>\n",
       "</div>"
      ],
      "text/plain": [
       "                                       combined_reviews  rating_stars\n",
       "285   works as promised   pretty much a standard ssd...             5\n",
       "723   works well lives up to the expectations of a s...             4\n",
       "2017  10 out of 10 i ve owned several different ssd ...             5\n",
       "2055  best choice for a 500gb ssd   very high 4k ran...             5\n",
       "1077    if you re looking for 500gb this isn t it i ...             3\n",
       "17    bad product i wont buy ever again from them   ...             1\n",
       "1349  solid high recommend this drive especially if ...             5\n",
       "1303      this is an international order and the pro...             2\n",
       "2056  super fast the benchmarks on this guy are off ...             5\n",
       "1997  love this   i just bought and built my entire ...             5"
      ]
     },
     "execution_count": 22,
     "metadata": {
      "tags": []
     },
     "output_type": "execute_result"
    }
   ],
   "source": [
    "data.sample(10)"
   ]
  },
  {
   "cell_type": "code",
   "execution_count": 23,
   "metadata": {
    "colab": {
     "base_uri": "https://localhost:8080/",
     "height": 262
    },
    "id": "V3gyF-p5IKg3",
    "outputId": "99a71419-7ebe-42cc-bf8a-40bedcdf24fe"
   },
   "outputs": [
    {
     "data": {
      "image/png": "[encoded data removed]",
      "text/plain": [
       "<Figure size 432x288 with 1 Axes>"
      ]
     },
     "metadata": {
      "needs_background": "light",
      "tags": []
     },
     "output_type": "display_data"
    }
   ],
   "source": [
    "data['rating_stars'].value_counts().plot(kind = 'bar');"
   ]
  },
  {
   "cell_type": "markdown",
   "metadata": {
    "id": "QLnNIq2iJQBn"
   },
   "source": [
    "#### Check if there are any null values and drop NaN values if any"
   ]
  },
  {
   "cell_type": "code",
   "execution_count": 24,
   "metadata": {
    "colab": {
     "base_uri": "https://localhost:8080/"
    },
    "id": "QOf3hTpcszKC",
    "outputId": "c297688e-4310-4ff4-a109-bcd17736149e"
   },
   "outputs": [
    {
     "data": {
      "text/plain": [
       "combined_reviews    0\n",
       "rating_stars        0\n",
       "dtype: int64"
      ]
     },
     "execution_count": 24,
     "metadata": {
      "tags": []
     },
     "output_type": "execute_result"
    }
   ],
   "source": [
    "data.isnull().sum()"
   ]
  },
  {
   "cell_type": "markdown",
   "metadata": {
    "id": "wxx9U_j1Viky"
   },
   "source": [
    "No null values found"
   ]
  },
  {
   "cell_type": "markdown",
   "metadata": {
    "id": "qS5NmyvzHMws"
   },
   "source": [
    "#### Calculate the length of each review and add it to the dataframe"
   ]
  },
  {
   "cell_type": "code",
   "execution_count": 25,
   "metadata": {
    "id": "TdMWM0jBHNzO"
   },
   "outputs": [],
   "source": [
    "data['len'] = data['combined_reviews'].apply(lambda x:len(x.split(\" \")))"
   ]
  },
  {
   "cell_type": "code",
   "execution_count": 26,
   "metadata": {
    "colab": {
     "base_uri": "https://localhost:8080/",
     "height": 205
    },
    "id": "-sJs4QapKOZ5",
    "outputId": "1968b4cd-2904-4e63-a09a-0e5c800f8db9"
   },
   "outputs": [
    {
     "data": {
      "text/html": [
       "<div>\n",
       "<style scoped>\n",
       "    .dataframe tbody tr th:only-of-type {\n",
       "        vertical-align: middle;\n",
       "    }\n",
       "\n",
       "    .dataframe tbody tr th {\n",
       "        vertical-align: top;\n",
       "    }\n",
       "\n",
       "    .dataframe thead th {\n",
       "        text-align: right;\n",
       "    }\n",
       "</style>\n",
       "<table border=\"1\" class=\"dataframe\">\n",
       "  <thead>\n",
       "    <tr style=\"text-align: right;\">\n",
       "      <th></th>\n",
       "      <th>combined_reviews</th>\n",
       "      <th>rating_stars</th>\n",
       "      <th>len</th>\n",
       "    </tr>\n",
       "  </thead>\n",
       "  <tbody>\n",
       "    <tr>\n",
       "      <th>0</th>\n",
       "      <td>solid buy it you will not regret this purchase...</td>\n",
       "      <td>5</td>\n",
       "      <td>19</td>\n",
       "    </tr>\n",
       "    <tr>\n",
       "      <th>1</th>\n",
       "      <td>nice drive for price even cheaper by todays co...</td>\n",
       "      <td>5</td>\n",
       "      <td>42</td>\n",
       "    </tr>\n",
       "    <tr>\n",
       "      <th>2</th>\n",
       "      <td>perfect used this drive as my boot drive and o...</td>\n",
       "      <td>5</td>\n",
       "      <td>65</td>\n",
       "    </tr>\n",
       "    <tr>\n",
       "      <th>3</th>\n",
       "      <td>very snappy os boots quicker os menus pop up q...</td>\n",
       "      <td>5</td>\n",
       "      <td>42</td>\n",
       "    </tr>\n",
       "    <tr>\n",
       "      <th>4</th>\n",
       "      <td>worth the hype this was the sdd that everyone ...</td>\n",
       "      <td>5</td>\n",
       "      <td>32</td>\n",
       "    </tr>\n",
       "  </tbody>\n",
       "</table>\n",
       "</div>"
      ],
      "text/plain": [
       "                                    combined_reviews  rating_stars  len\n",
       "0  solid buy it you will not regret this purchase...             5   19\n",
       "1  nice drive for price even cheaper by todays co...             5   42\n",
       "2  perfect used this drive as my boot drive and o...             5   65\n",
       "3  very snappy os boots quicker os menus pop up q...             5   42\n",
       "4  worth the hype this was the sdd that everyone ...             5   32"
      ]
     },
     "execution_count": 26,
     "metadata": {
      "tags": []
     },
     "output_type": "execute_result"
    }
   ],
   "source": [
    "data.head()"
   ]
  },
  {
   "cell_type": "markdown",
   "metadata": {
    "id": "8FyfpsW4uNN-"
   },
   "source": [
    "#### Check summary stats of the length column"
   ]
  },
  {
   "cell_type": "code",
   "execution_count": 27,
   "metadata": {
    "colab": {
     "base_uri": "https://localhost:8080/"
    },
    "id": "cMEp309bHPSm",
    "outputId": "2381a8cc-98e7-4950-ff46-38d8dfea1afe"
   },
   "outputs": [
    {
     "data": {
      "text/plain": [
       "count   2227.0000000\n",
       "mean      85.2752582\n",
       "std       87.3063671\n",
       "min        6.0000000\n",
       "25%       31.0000000\n",
       "50%       60.0000000\n",
       "75%      109.0000000\n",
       "max     1615.0000000\n",
       "Name: len, dtype: float64"
      ]
     },
     "execution_count": 27,
     "metadata": {
      "tags": []
     },
     "output_type": "execute_result"
    }
   ],
   "source": [
    "data['len'].describe()"
   ]
  },
  {
   "cell_type": "markdown",
   "metadata": {
    "id": "JtFWZfZjJSJY"
   },
   "source": [
    "### 4.5 Analyzing and preparing the text data\n"
   ]
  },
  {
   "cell_type": "markdown",
   "metadata": {
    "id": "FL0mW8oPJVyq"
   },
   "source": [
    "#### Set the max length of each review to 25 since it results in faster training (however, you are free to change this)\n",
    "#### Set max_features to 10000 and embedding size to 50"
   ]
  },
  {
   "cell_type": "code",
   "execution_count": 28,
   "metadata": {
    "id": "T7Ma4u3kSOD3"
   },
   "outputs": [],
   "source": [
    "max_features = 10000\n",
    "maxlen = 25\n",
    "embedding_size = 50"
   ]
  },
  {
   "cell_type": "markdown",
   "metadata": {
    "id": "qph71mXtJyWM"
   },
   "source": [
    "#### Tokenize the cobined text data. You can use the Tokenizer from tensorflow.keras.preprocessing.text. Check the number of samples post tokenization."
   ]
  },
  {
   "cell_type": "code",
   "execution_count": 29,
   "metadata": {
    "colab": {
     "base_uri": "https://localhost:8080/"
    },
    "id": "hvn5Bssu6MoQ",
    "outputId": "e295ba2e-2807-4668-f992-a5d3ef3f6c5c"
   },
   "outputs": [
    {
     "name": "stdout",
     "output_type": "stream",
     "text": [
      "Number of Samples: 2227\n",
      "[232, 93, 6, 19, 54, 22, 829, 10, 248, 162, 16, 830, 550, 145, 7, 264, 126]\n"
     ]
    }
   ],
   "source": [
    "from tensorflow.keras.preprocessing.text import Tokenizer\n",
    "\n",
    "tokenizer = Tokenizer(num_words=max_features)\n",
    "\n",
    "tokenizer.fit_on_texts(list(data['combined_reviews']))\n",
    "\n",
    "X = tokenizer.texts_to_sequences(data['combined_reviews'])\n",
    "\n",
    "print(\"Number of Samples:\", len(X))       \n",
    "print(X[0]) "
   ]
  },
  {
   "cell_type": "markdown",
   "metadata": {
    "id": "HXy2gZrkJ0f_"
   },
   "source": [
    "#### Pad the above tokenized reviews data save it as independent features. Use max_len for the same."
   ]
  },
  {
   "cell_type": "code",
   "execution_count": 30,
   "metadata": {
    "colab": {
     "base_uri": "https://localhost:8080/"
    },
    "id": "mV-KtcR06OAr",
    "outputId": "c9b11f5b-ae6f-48c1-94d2-80938959e01f"
   },
   "outputs": [
    {
     "name": "stdout",
     "output_type": "stream",
     "text": [
      "Number of Labels:  2227\n",
      "5\n"
     ]
    }
   ],
   "source": [
    "from tensorflow.keras.preprocessing.sequence import pad_sequences\n",
    "import numpy as np\n",
    "\n",
    "X = pad_sequences(X, maxlen = maxlen)     \n",
    "y = np.asarray(data['rating_stars'])\n",
    "\n",
    "print(\"Number of Labels: \", len(y))     \n",
    "print(y[0])"
   ]
  },
  {
   "cell_type": "markdown",
   "metadata": {
    "id": "XVT7dRRUHsgR"
   },
   "source": [
    "#### Check the shape of X (padded tokenized review data) and y (rating_stars) data."
   ]
  },
  {
   "cell_type": "code",
   "execution_count": 31,
   "metadata": {
    "colab": {
     "base_uri": "https://localhost:8080/"
    },
    "id": "SXc3DOi9Hz6O",
    "outputId": "bef0a9ad-d045-46fc-a2d2-6d8cdf4f6842"
   },
   "outputs": [
    {
     "data": {
      "text/plain": [
       "(2227, 25)"
      ]
     },
     "execution_count": 31,
     "metadata": {
      "tags": []
     },
     "output_type": "execute_result"
    }
   ],
   "source": [
    "X.shape"
   ]
  },
  {
   "cell_type": "markdown",
   "metadata": {
    "id": "A5GlWwKnJ7ie"
   },
   "source": [
    "#### Check the total number of words in the dictionary (of tekenizer)"
   ]
  },
  {
   "cell_type": "code",
   "execution_count": 32,
   "metadata": {
    "colab": {
     "base_uri": "https://localhost:8080/"
    },
    "id": "oR0W8MdX6V3A",
    "outputId": "7e2f11aa-f673-412d-e8c5-0ca2d4637c7b"
   },
   "outputs": [
    {
     "name": "stdout",
     "output_type": "stream",
     "text": [
      "8839\n"
     ]
    }
   ],
   "source": [
    "num_words = len(tokenizer.word_index) + 1\n",
    "print(num_words)"
   ]
  },
  {
   "cell_type": "markdown",
   "metadata": {
    "id": "RKa3eYLDJ_yO"
   },
   "source": [
    "### 4.6 Compute the glove embeddings. Use the provided txt file for the same."
   ]
  },
  {
   "cell_type": "markdown",
   "metadata": {
    "id": "WNwPD9EmIbMt"
   },
   "source": [
    "#### Read the glove embeddings from the file provided titled ‘glove.6B.50d.txt’. And save it to a dictotionary having word and corresponding embedding vector."
   ]
  },
  {
   "cell_type": "code",
   "execution_count": 34,
   "metadata": {
    "id": "bNd9ZFjuIp3g"
   },
   "outputs": [],
   "source": [
    "EMBEDDING_FILE = '/content/drive/MyDrive/R9 ssd interna lab/glove.6B.50d.txt'\n",
    "embeddings = {}\n",
    "for o in open(EMBEDDING_FILE):\n",
    "    word = o.split(\" \")[0]\n",
    "    # print(word)\n",
    "    embd = o.split(\" \")[1:]\n",
    "    embd = np.asarray(embd, dtype='float32')\n",
    "    # print(embd)\n",
    "    embeddings[word] = embd"
   ]
  },
  {
   "cell_type": "markdown",
   "metadata": {
    "id": "EuolWkfmIqCJ"
   },
   "source": [
    "#### Create a weight matrix for words in the training docs"
   ]
  },
  {
   "cell_type": "code",
   "execution_count": 35,
   "metadata": {
    "id": "BGHZ0nIaI0Ar"
   },
   "outputs": [],
   "source": [
    "embedding_matrix = np.zeros((num_words, 50))\n",
    "\n",
    "for word, i in tokenizer.word_index.items():\n",
    "\tembedding_vector = embeddings.get(word)\n",
    "\tif embedding_vector is not None:\n",
    "\t\tembedding_matrix[i] = embedding_vector"
   ]
  },
  {
   "cell_type": "markdown",
   "metadata": {
    "id": "-DdpiQZ9_Fiq"
   },
   "source": [
    "#### Check length of the embedding"
   ]
  },
  {
   "cell_type": "code",
   "execution_count": 36,
   "metadata": {
    "colab": {
     "base_uri": "https://localhost:8080/"
    },
    "id": "8bcs-LtYILlO",
    "outputId": "597754b9-b733-4823-b40b-1d2f14d8dc55"
   },
   "outputs": [
    {
     "data": {
      "text/plain": [
       "400000"
      ]
     },
     "execution_count": 36,
     "metadata": {
      "tags": []
     },
     "output_type": "execute_result"
    }
   ],
   "source": [
    "len(embeddings.values())"
   ]
  },
  {
   "cell_type": "code",
   "execution_count": 37,
   "metadata": {
    "colab": {
     "base_uri": "https://localhost:8080/"
    },
    "id": "fpbwVifNXdkm",
    "outputId": "7cbaeda0-c591-4ff2-e732-5afdab91856e"
   },
   "outputs": [
    {
     "data": {
      "text/plain": [
       "8839"
      ]
     },
     "execution_count": 37,
     "metadata": {
      "tags": []
     },
     "output_type": "execute_result"
    }
   ],
   "source": [
    "num_words"
   ]
  },
  {
   "cell_type": "markdown",
   "metadata": {
    "id": "xVPf3X5MKGpm"
   },
   "source": [
    "### 4.7 Target Feature:- One hot encode the target variable (rating_stars)"
   ]
  },
  {
   "cell_type": "code",
   "execution_count": 38,
   "metadata": {
    "colab": {
     "base_uri": "https://localhost:8080/"
    },
    "id": "7PVDBmkjJC4n",
    "outputId": "1d8379b3-cd8c-4b2e-93d1-d45f525f2c5d"
   },
   "outputs": [
    {
     "data": {
      "text/plain": [
       "array([5, 5, 5, ..., 5, 5, 5])"
      ]
     },
     "execution_count": 38,
     "metadata": {
      "tags": []
     },
     "output_type": "execute_result"
    }
   ],
   "source": [
    "y"
   ]
  },
  {
   "cell_type": "code",
   "execution_count": 39,
   "metadata": {
    "id": "W05YmzP6XhZ1"
   },
   "outputs": [],
   "source": [
    "from sklearn.preprocessing import OneHotEncoder\n",
    "enc = OneHotEncoder()\n",
    "y_encoded = enc.fit_transform(y.reshape(-1,1))"
   ]
  },
  {
   "cell_type": "code",
   "execution_count": 40,
   "metadata": {
    "colab": {
     "base_uri": "https://localhost:8080/"
    },
    "id": "n27O0k0-Xhc2",
    "outputId": "00f4328d-c8fb-49ba-ff17-94649bd2b6a2"
   },
   "outputs": [
    {
     "data": {
      "text/plain": [
       "array([0., 0., 0., 0., 0., 1.], dtype=float32)"
      ]
     },
     "execution_count": 40,
     "metadata": {
      "tags": []
     },
     "output_type": "execute_result"
    }
   ],
   "source": [
    "from tensorflow.keras.utils import to_categorical\n",
    "y_en = to_categorical(y, num_classes=6)\n",
    "y_en[0]"
   ]
  },
  {
   "cell_type": "markdown",
   "metadata": {
    "id": "5dqPXETLKN0h"
   },
   "source": [
    "### 4.8 Split the data into Train & Test sets"
   ]
  },
  {
   "cell_type": "code",
   "execution_count": 41,
   "metadata": {
    "colab": {
     "base_uri": "https://localhost:8080/"
    },
    "id": "FFJ1oEUmJEEW",
    "outputId": "ef3f880f-5871-4f28-8372-4bd672a0a7f2"
   },
   "outputs": [
    {
     "data": {
      "text/plain": [
       "matrix([[0., 0., 0., 0., 1.],\n",
       "        [0., 0., 0., 0., 1.],\n",
       "        [0., 0., 0., 0., 1.],\n",
       "        ...,\n",
       "        [0., 0., 0., 0., 1.],\n",
       "        [0., 0., 0., 0., 1.],\n",
       "        [0., 0., 0., 0., 1.]])"
      ]
     },
     "execution_count": 41,
     "metadata": {
      "tags": []
     },
     "output_type": "execute_result"
    }
   ],
   "source": [
    "y_encoded = y_encoded.todense()\n",
    "y_encoded"
   ]
  },
  {
   "cell_type": "code",
   "execution_count": 42,
   "metadata": {
    "colab": {
     "base_uri": "https://localhost:8080/"
    },
    "id": "-Uw9F6ZdX05L",
    "outputId": "82b12690-2858-402c-80cf-4d81c6d7ea83"
   },
   "outputs": [
    {
     "data": {
      "text/plain": [
       "array([[   0,    0,    0, ...,    7,  264,  126],\n",
       "       [1541,  209,   77, ...,   14,  612,  931],\n",
       "       [  21,   99,  472, ...,   31,   27,   87],\n",
       "       ...,\n",
       "       [   1,    8,   12, ...,   31,   27,   87],\n",
       "       [ 247,   34,   20, ...,   14,    1,  612],\n",
       "       [   5,  294,   13, ...,   10,  248,   31]], dtype=int32)"
      ]
     },
     "execution_count": 42,
     "metadata": {
      "tags": []
     },
     "output_type": "execute_result"
    }
   ],
   "source": [
    "X"
   ]
  },
  {
   "cell_type": "code",
   "execution_count": 43,
   "metadata": {
    "id": "IKfVeijmX08U"
   },
   "outputs": [],
   "source": [
    "from sklearn.model_selection import train_test_split\n",
    "X_train, X_test, y_train, y_test = train_test_split(X, y_encoded, random_state = 50, stratify=y_encoded, test_size=0.3)"
   ]
  },
  {
   "cell_type": "markdown",
   "metadata": {
    "id": "rhD1a-beKvE7"
   },
   "source": [
    "## 5. Model building"
   ]
  },
  {
   "cell_type": "markdown",
   "metadata": {
    "id": "bRmxklYnKvxk"
   },
   "source": [
    "### 5.1 Construct a neural network architecture using embedding and LSTM layers for building the rating prediction model.\n",
    "- Use the num_words, embedding_size from the above tokenizer and embeddings respectively\n",
    "- Use weights from the above embedding matrix\n",
    "- Use input length as the maxlen\n",
    "- Add LSTM layers"
   ]
  },
  {
   "cell_type": "code",
   "execution_count": 44,
   "metadata": {
    "id": "gSGsebsiNA78"
   },
   "outputs": [],
   "source": [
    "import tensorflow as tf\n",
    "from tensorflow.keras.models import Sequential\n",
    "from tensorflow.keras.layers import Embedding, Bidirectional, LSTM, Dense, Dropout, Flatten\n",
    "from functools import partial\n",
    "\n",
    "model = Sequential()\n",
    "model.add(Embedding(num_words, embedding_size, weights = [embedding_matrix], input_length=maxlen))\n",
    "model.add(LSTM(128, return_sequences = True))\n",
    "model.add(Flatten())\n",
    "model.add(Dense(512, activation='relu'))\n",
    "model.add(Dense(256, activation = 'relu'))\n",
    "model.add(Dense(128, activation = 'relu'))\n",
    "model.add(Dense(64, activation= 'relu'))\n",
    "model.add(Dropout(0.5))\n",
    "model.add(Dense(5, activation=\"softmax\"))"
   ]
  },
  {
   "cell_type": "markdown",
   "metadata": {
    "id": "iN0P-a6X_jAb"
   },
   "source": [
    "### 5.2 Compile the model using appropriate loss, optimizer, and accuracy metric"
   ]
  },
  {
   "cell_type": "code",
   "execution_count": 45,
   "metadata": {
    "id": "8Kyk9kPxNCMb"
   },
   "outputs": [],
   "source": [
    "model.compile(loss='categorical_crossentropy', optimizer='adam', metrics=['accuracy'])"
   ]
  },
  {
   "cell_type": "code",
   "execution_count": 46,
   "metadata": {
    "colab": {
     "base_uri": "https://localhost:8080/"
    },
    "id": "gotOPlWyYvAB",
    "outputId": "42daefcb-4956-4ab2-cbaa-c876dfc55828"
   },
   "outputs": [
    {
     "name": "stdout",
     "output_type": "stream",
     "text": [
      "Model: \"sequential\"\n",
      "_________________________________________________________________\n",
      "Layer (type)                 Output Shape              Param #   \n",
      "=================================================================\n",
      "embedding (Embedding)        (None, 25, 50)            441950    \n",
      "_________________________________________________________________\n",
      "lstm (LSTM)                  (None, 25, 128)           91648     \n",
      "_________________________________________________________________\n",
      "flatten (Flatten)            (None, 3200)              0         \n",
      "_________________________________________________________________\n",
      "dense (Dense)                (None, 512)               1638912   \n",
      "_________________________________________________________________\n",
      "dense_1 (Dense)              (None, 256)               131328    \n",
      "_________________________________________________________________\n",
      "dense_2 (Dense)              (None, 128)               32896     \n",
      "_________________________________________________________________\n",
      "dense_3 (Dense)              (None, 64)                8256      \n",
      "_________________________________________________________________\n",
      "dropout (Dropout)            (None, 64)                0         \n",
      "_________________________________________________________________\n",
      "dense_4 (Dense)              (None, 5)                 325       \n",
      "=================================================================\n",
      "Total params: 2,345,315\n",
      "Trainable params: 2,345,315\n",
      "Non-trainable params: 0\n",
      "_________________________________________________________________\n"
     ]
    }
   ],
   "source": [
    "model.summary()"
   ]
  },
  {
   "cell_type": "markdown",
   "metadata": {
    "id": "tIODqXJK_qrQ"
   },
   "source": [
    "### 5.3 Fit the model"
   ]
  },
  {
   "cell_type": "code",
   "execution_count": 47,
   "metadata": {
    "colab": {
     "base_uri": "https://localhost:8080/"
    },
    "id": "fEX-_bd2NDPW",
    "outputId": "906668e0-8835-4200-d8ab-1128ba04435f"
   },
   "outputs": [
    {
     "name": "stdout",
     "output_type": "stream",
     "text": [
      "Epoch 1/20\n",
      "16/16 [==============================] - 5s 149ms/step - loss: 1.0055 - accuracy: 0.7407 - val_loss: 0.7877 - val_accuracy: 0.7892\n",
      "Epoch 2/20\n",
      "16/16 [==============================] - 2s 114ms/step - loss: 0.7964 - accuracy: 0.7869 - val_loss: 0.7443 - val_accuracy: 0.7892\n",
      "Epoch 3/20\n",
      "16/16 [==============================] - 2s 113ms/step - loss: 0.7321 - accuracy: 0.7882 - val_loss: 0.7125 - val_accuracy: 0.7892\n",
      "Epoch 4/20\n",
      "16/16 [==============================] - 2s 112ms/step - loss: 0.7030 - accuracy: 0.7888 - val_loss: 0.6939 - val_accuracy: 0.7892\n",
      "Epoch 5/20\n",
      "16/16 [==============================] - 2s 114ms/step - loss: 0.6509 - accuracy: 0.7901 - val_loss: 0.7006 - val_accuracy: 0.7892\n",
      "Epoch 6/20\n",
      "16/16 [==============================] - 2s 114ms/step - loss: 0.5926 - accuracy: 0.7978 - val_loss: 0.7220 - val_accuracy: 0.7937\n",
      "Epoch 7/20\n",
      "16/16 [==============================] - 2s 111ms/step - loss: 0.5072 - accuracy: 0.8158 - val_loss: 0.7463 - val_accuracy: 0.7937\n",
      "Epoch 8/20\n",
      "16/16 [==============================] - 2s 113ms/step - loss: 0.4187 - accuracy: 0.8370 - val_loss: 0.7842 - val_accuracy: 0.7877\n",
      "Epoch 9/20\n",
      "16/16 [==============================] - 2s 113ms/step - loss: 0.3287 - accuracy: 0.8716 - val_loss: 1.1192 - val_accuracy: 0.7833\n",
      "Epoch 10/20\n",
      "16/16 [==============================] - 2s 112ms/step - loss: 0.2424 - accuracy: 0.9178 - val_loss: 1.2075 - val_accuracy: 0.7773\n",
      "Epoch 11/20\n",
      "16/16 [==============================] - 2s 113ms/step - loss: 0.1837 - accuracy: 0.9320 - val_loss: 1.2132 - val_accuracy: 0.7698\n",
      "Epoch 12/20\n",
      "16/16 [==============================] - 2s 114ms/step - loss: 0.1277 - accuracy: 0.9512 - val_loss: 1.6197 - val_accuracy: 0.7892\n",
      "Epoch 13/20\n",
      "16/16 [==============================] - 2s 113ms/step - loss: 0.0852 - accuracy: 0.9737 - val_loss: 1.5798 - val_accuracy: 0.7713\n",
      "Epoch 14/20\n",
      "16/16 [==============================] - 2s 112ms/step - loss: 0.0380 - accuracy: 0.9897 - val_loss: 2.1927 - val_accuracy: 0.7952\n",
      "Epoch 15/20\n",
      "16/16 [==============================] - 2s 112ms/step - loss: 0.0396 - accuracy: 0.9884 - val_loss: 1.8879 - val_accuracy: 0.7862\n",
      "Epoch 16/20\n",
      "16/16 [==============================] - 2s 113ms/step - loss: 0.0366 - accuracy: 0.9917 - val_loss: 2.0482 - val_accuracy: 0.7728\n",
      "Epoch 17/20\n",
      "16/16 [==============================] - 2s 114ms/step - loss: 0.0451 - accuracy: 0.9897 - val_loss: 1.9461 - val_accuracy: 0.7907\n",
      "Epoch 18/20\n",
      "16/16 [==============================] - 2s 114ms/step - loss: 0.0339 - accuracy: 0.9910 - val_loss: 1.9721 - val_accuracy: 0.7324\n",
      "Epoch 19/20\n",
      "16/16 [==============================] - 2s 113ms/step - loss: 0.0483 - accuracy: 0.9814 - val_loss: 1.6860 - val_accuracy: 0.7489\n",
      "Epoch 20/20\n",
      "16/16 [==============================] - 2s 112ms/step - loss: 0.0379 - accuracy: 0.9936 - val_loss: 1.6636 - val_accuracy: 0.7549\n"
     ]
    }
   ],
   "source": [
    "batch_size = 100\n",
    "epochs = 20\n",
    "\n",
    "training_history = model.fit(X_train, y_train, batch_size=batch_size, epochs=epochs, validation_data=(X_test, y_test))"
   ]
  },
  {
   "cell_type": "markdown",
   "metadata": {
    "id": "1iakHzMFNDsz"
   },
   "source": [
    "### 5.4 Predict ratings for test data and check accuracy and confusion matrix"
   ]
  },
  {
   "cell_type": "code",
   "execution_count": 48,
   "metadata": {
    "id": "erNFghTpNK-j"
   },
   "outputs": [],
   "source": [
    "predictions = model.predict(X_test.reshape(len(X_test),25))"
   ]
  },
  {
   "cell_type": "code",
   "execution_count": 49,
   "metadata": {
    "id": "glNaXRZqNLBN"
   },
   "outputs": [],
   "source": [
    "y_test_inv = enc.inverse_transform(y_test)"
   ]
  },
  {
   "cell_type": "code",
   "execution_count": 50,
   "metadata": {
    "id": "hw1unosncLFA"
   },
   "outputs": [],
   "source": [
    "y_pred_inv = enc.inverse_transform(np.around(predictions))"
   ]
  },
  {
   "cell_type": "code",
   "execution_count": 51,
   "metadata": {
    "colab": {
     "base_uri": "https://localhost:8080/"
    },
    "id": "86J1_H8GcZaY",
    "outputId": "16eb80f8-9474-44bf-fc13-d9f168a2adab"
   },
   "outputs": [
    {
     "data": {
      "text/plain": [
       "(669, 1)"
      ]
     },
     "execution_count": 51,
     "metadata": {
      "tags": []
     },
     "output_type": "execute_result"
    }
   ],
   "source": [
    "y_test_inv.shape"
   ]
  },
  {
   "cell_type": "code",
   "execution_count": 52,
   "metadata": {
    "colab": {
     "base_uri": "https://localhost:8080/"
    },
    "id": "6AHKLBJCcZeV",
    "outputId": "806bddb9-16c9-4473-929b-6402786dd64a"
   },
   "outputs": [
    {
     "data": {
      "text/plain": [
       "(669, 1)"
      ]
     },
     "execution_count": 52,
     "metadata": {
      "tags": []
     },
     "output_type": "execute_result"
    }
   ],
   "source": [
    "y_pred_inv.shape"
   ]
  },
  {
   "cell_type": "code",
   "execution_count": 53,
   "metadata": {
    "colab": {
     "base_uri": "https://localhost:8080/"
    },
    "id": "62fHjII4cZit",
    "outputId": "a4cfba5c-1cdd-4907-9928-41f007a56a1d"
   },
   "outputs": [
    {
     "data": {
      "text/plain": [
       "array([[ 24,   4,   5,   3,  10],\n",
       "       [  0,   3,   3,   1,  11],\n",
       "       [  3,   0,   6,   6,   8],\n",
       "       [  7,   0,   1,  15,  31],\n",
       "       [ 14,   6,   8,  40, 460]])"
      ]
     },
     "execution_count": 53,
     "metadata": {
      "tags": []
     },
     "output_type": "execute_result"
    }
   ],
   "source": [
    "from sklearn.metrics import confusion_matrix\n",
    "confusion_matrix(y_test_inv, y_pred_inv)"
   ]
  },
  {
   "cell_type": "code",
   "execution_count": 54,
   "metadata": {
    "colab": {
     "base_uri": "https://localhost:8080/"
    },
    "id": "xMOLLbMicZkN",
    "outputId": "2b62dd23-35ef-46ae-87b0-a0d8e159ef75"
   },
   "outputs": [
    {
     "data": {
      "text/plain": [
       "0.7593423019431988"
      ]
     },
     "execution_count": 54,
     "metadata": {
      "tags": []
     },
     "output_type": "execute_result"
    }
   ],
   "source": [
    "from sklearn.metrics import accuracy_score\n",
    "accuracy_score(y_test_inv, y_pred_inv)"
   ]
  },
  {
   "cell_type": "code",
   "execution_count": 55,
   "metadata": {
    "colab": {
     "base_uri": "https://localhost:8080/"
    },
    "id": "Y-pd1ZrncZm4",
    "outputId": "1ad71d5c-369a-4e13-85b4-29c5c82ab446"
   },
   "outputs": [
    {
     "name": "stdout",
     "output_type": "stream",
     "text": [
      "              precision    recall  f1-score   support\n",
      "\n",
      "           1       0.50      0.52      0.51        46\n",
      "           2       0.23      0.17      0.19        18\n",
      "           3       0.26      0.26      0.26        23\n",
      "           4       0.23      0.28      0.25        54\n",
      "           5       0.88      0.87      0.88       528\n",
      "\n",
      "    accuracy                           0.76       669\n",
      "   macro avg       0.42      0.42      0.42       669\n",
      "weighted avg       0.77      0.76      0.76       669\n",
      "\n"
     ]
    }
   ],
   "source": [
    "from sklearn.metrics import classification_report\n",
    "print(classification_report(y_test_inv, y_pred_inv))"
   ]
  },
  {
   "cell_type": "markdown",
   "metadata": {
    "id": "lHyQA-RsNOXT"
   },
   "source": [
    "### 5.5 Display plot of training and validation loss/accuracy wrt to epochs"
   ]
  },
  {
   "cell_type": "code",
   "execution_count": 56,
   "metadata": {
    "colab": {
     "base_uri": "https://localhost:8080/",
     "height": 563
    },
    "id": "gC7Lb0eSNawO",
    "outputId": "47a6a6f3-46e6-43be-ed10-b26d4107b446"
   },
   "outputs": [
    {
     "data": {
      "text/plain": [
       "Text(0.5, 1.0, 'Training and validation loss')"
      ]
     },
     "execution_count": 56,
     "metadata": {
      "tags": []
     },
     "output_type": "execute_result"
    },
    {
     "data": {
      "image/png": "[encoded data removed]",
      "text/plain": [
       "<Figure size 432x288 with 1 Axes>"
      ]
     },
     "metadata": {
      "needs_background": "light",
      "tags": []
     },
     "output_type": "display_data"
    },
    {
     "data": {
      "image/png": "[encoded data removed]",
      "text/plain": [
       "<Figure size 432x288 with 1 Axes>"
      ]
     },
     "metadata": {
      "needs_background": "light",
      "tags": []
     },
     "output_type": "display_data"
    }
   ],
   "source": [
    "import matplotlib.pyplot as plt\n",
    "accuracy      = training_history.history['accuracy']\n",
    "val_accuracy  = training_history.history['val_accuracy']\n",
    "loss     = training_history.history['loss']\n",
    "val_loss = training_history.history['val_loss']\n",
    "\n",
    "epochs   = range(len(accuracy)) # Get number of epochs\n",
    "\n",
    "plt.plot  ( epochs, accuracy, label = 'training accuracy' )\n",
    "plt.plot  ( epochs, val_accuracy, label = 'validation accuracy' )\n",
    "plt.title ('Training and validation accuracy')\n",
    "plt.legend(loc = 'lower right')\n",
    "plt.figure()\n",
    "\n",
    "plt.plot  ( epochs, loss, label = 'training loss' )\n",
    "plt.plot  ( epochs, val_loss, label = 'validation loss' )\n",
    "plt.legend(loc = 'upper right')\n",
    "plt.title ('Training and validation loss'   )"
   ]
  },
  {
   "cell_type": "markdown",
   "metadata": {
    "id": "Ey7an7ukLxWB"
   },
   "source": [
    "## 6. Conclusion and Interpretation"
   ]
  },
  {
   "cell_type": "markdown",
   "metadata": {
    "id": "b_TjepIFiTvq"
   },
   "source": [
    "1.) Our model achieved highest accuracy of 78 percent while fitting and an overall accuracy of about 76% with bias for one class.\n",
    "\n",
    "2.) Our mean precision value weighted average is 77%. \n",
    "3.)Poor class wise precision  with  value of 42% shows that data is not balanced."
   ]
  },
  {
   "cell_type": "markdown",
   "metadata": {
    "id": "9nwOCcvqxVCH"
   },
   "source": [
    "## 7. Food for thought:\n",
    "\n",
    "1.) Change activation function (try leaky_relu or tanh) and see if it helps in improving model performance with the dataset that is highly imbalanced\n",
    "\n",
    "2.) Try with only the overall review feature and see if it leads to improvement in model performace\n",
    "\n",
    "3.) Change the hyperparameters of the model and compare the results "
   ]
  },
  {
   "cell_type": "code",
   "execution_count": null,
   "metadata": {
    "id": "VCylm4X8Nfik"
   },
   "outputs": [],
   "source": []
  }
 ],
 "metadata": {
  "colab": {
   "collapsed_sections": [],
   "name": "R9 Internal Lab Question Notebook.ipynb",
   "provenance": []
  },
  "kernelspec": {
   "display_name": "Python 3",
   "language": "python",
   "name": "python3"
  },
  "language_info": {
   "codemirror_mode": {
    "name": "ipython",
    "version": 3
   },
   "file_extension": ".py",
   "mimetype": "text/x-python",
   "name": "python",
   "nbconvert_exporter": "python",
   "pygments_lexer": "ipython3",
   "version": "3.8.5"
  }
 },
 "nbformat": 4,
 "nbformat_minor": 1
}
