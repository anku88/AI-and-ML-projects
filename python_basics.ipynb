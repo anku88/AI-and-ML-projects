{
  "cells": [
    {
      "cell_type": "markdown",
      "metadata": {
        "id": "view-in-github",
        "colab_type": "text"
      },
      "source": [
        "<a href=\"https://colab.research.google.com/github/anku88/AI-and-ML-projects/blob/main/python_basics.ipynb\" target=\"_parent\"><img src=\"https://colab.research.google.com/assets/colab-badge.svg\" alt=\"Open In Colab\"/></a>"
      ]
    },
    {
      "cell_type": "code",
      "execution_count": 1,
      "metadata": {
        "id": "nOxGD2B3dZSn"
      },
      "outputs": [],
      "source": [
        "import pandas as pd \n",
        "import numpy as np\n",
        "import matplotlib.pyplot as plt"
      ]
    },
    {
      "cell_type": "code",
      "execution_count": 2,
      "metadata": {
        "colab": {
          "base_uri": "https://localhost:8080/",
          "height": 35
        },
        "id": "Lhv4QmV-dZSp",
        "outputId": "48550ace-72ca-490a-cb58-c76d782baa09"
      },
      "outputs": [
        {
          "output_type": "execute_result",
          "data": {
            "text/plain": [
              "'/content'"
            ],
            "application/vnd.google.colaboratory.intrinsic+json": {
              "type": "string"
            }
          },
          "metadata": {},
          "execution_count": 2
        }
      ],
      "source": [
        "pwd"
      ]
    },
    {
      "cell_type": "code",
      "execution_count": 3,
      "metadata": {
        "id": "WUenuPbpdZSq"
      },
      "outputs": [],
      "source": [
        "import warnings\n",
        "warnings.filterwarnings(\"ignore\")"
      ]
    },
    {
      "cell_type": "code",
      "execution_count": 4,
      "metadata": {
        "id": "13oR0tHpdZSr"
      },
      "outputs": [],
      "source": [
        "data = {\"year\": [1956,1958,1985,1987],\"name\":[\"R\",\"S\",\"N\",\"A\",],\n",
        "        \"designation\":[\"Contractor\",\"Lecturer\",\"Software Engineer\",\"AI/ML engineer\"],\"IPA\":[2,5,70,2]}\n",
        "FSI = pd.DataFrame(data, columns = [\"year\",\"designation\",\"name\",\"IPA\"])"
      ]
    },
    {
      "cell_type": "code",
      "execution_count": 5,
      "metadata": {
        "colab": {
          "base_uri": "https://localhost:8080/",
          "height": 175
        },
        "id": "czvVPog-dZSr",
        "outputId": "ae8a489a-1120-4328-ec4a-0805c97a9485"
      },
      "outputs": [
        {
          "output_type": "execute_result",
          "data": {
            "text/plain": [
              "   year        designation name  IPA\n",
              "0  1956         Contractor    R    2\n",
              "1  1958           Lecturer    S    5\n",
              "2  1985  Software Engineer    N   70\n",
              "3  1987     AI/ML engineer    A    2"
            ],
            "text/html": [
              "\n",
              "  <div id=\"df-63426ae5-67fa-4c83-b6d7-678e218ca183\">\n",
              "    <div class=\"colab-df-container\">\n",
              "      <div>\n",
              "<style scoped>\n",
              "    .dataframe tbody tr th:only-of-type {\n",
              "        vertical-align: middle;\n",
              "    }\n",
              "\n",
              "    .dataframe tbody tr th {\n",
              "        vertical-align: top;\n",
              "    }\n",
              "\n",
              "    .dataframe thead th {\n",
              "        text-align: right;\n",
              "    }\n",
              "</style>\n",
              "<table border=\"1\" class=\"dataframe\">\n",
              "  <thead>\n",
              "    <tr style=\"text-align: right;\">\n",
              "      <th></th>\n",
              "      <th>year</th>\n",
              "      <th>designation</th>\n",
              "      <th>name</th>\n",
              "      <th>IPA</th>\n",
              "    </tr>\n",
              "  </thead>\n",
              "  <tbody>\n",
              "    <tr>\n",
              "      <th>0</th>\n",
              "      <td>1956</td>\n",
              "      <td>Contractor</td>\n",
              "      <td>R</td>\n",
              "      <td>2</td>\n",
              "    </tr>\n",
              "    <tr>\n",
              "      <th>1</th>\n",
              "      <td>1958</td>\n",
              "      <td>Lecturer</td>\n",
              "      <td>S</td>\n",
              "      <td>5</td>\n",
              "    </tr>\n",
              "    <tr>\n",
              "      <th>2</th>\n",
              "      <td>1985</td>\n",
              "      <td>Software Engineer</td>\n",
              "      <td>N</td>\n",
              "      <td>70</td>\n",
              "    </tr>\n",
              "    <tr>\n",
              "      <th>3</th>\n",
              "      <td>1987</td>\n",
              "      <td>AI/ML engineer</td>\n",
              "      <td>A</td>\n",
              "      <td>2</td>\n",
              "    </tr>\n",
              "  </tbody>\n",
              "</table>\n",
              "</div>\n",
              "      <button class=\"colab-df-convert\" onclick=\"convertToInteractive('df-63426ae5-67fa-4c83-b6d7-678e218ca183')\"\n",
              "              title=\"Convert this dataframe to an interactive table.\"\n",
              "              style=\"display:none;\">\n",
              "        \n",
              "  <svg xmlns=\"http://www.w3.org/2000/svg\" height=\"24px\"viewBox=\"0 0 24 24\"\n",
              "       width=\"24px\">\n",
              "    <path d=\"M0 0h24v24H0V0z\" fill=\"none\"/>\n",
              "    <path d=\"M18.56 5.44l.94 2.06.94-2.06 2.06-.94-2.06-.94-.94-2.06-.94 2.06-2.06.94zm-11 1L8.5 8.5l.94-2.06 2.06-.94-2.06-.94L8.5 2.5l-.94 2.06-2.06.94zm10 10l.94 2.06.94-2.06 2.06-.94-2.06-.94-.94-2.06-.94 2.06-2.06.94z\"/><path d=\"M17.41 7.96l-1.37-1.37c-.4-.4-.92-.59-1.43-.59-.52 0-1.04.2-1.43.59L10.3 9.45l-7.72 7.72c-.78.78-.78 2.05 0 2.83L4 21.41c.39.39.9.59 1.41.59.51 0 1.02-.2 1.41-.59l7.78-7.78 2.81-2.81c.8-.78.8-2.07 0-2.86zM5.41 20L4 18.59l7.72-7.72 1.47 1.35L5.41 20z\"/>\n",
              "  </svg>\n",
              "      </button>\n",
              "      \n",
              "  <style>\n",
              "    .colab-df-container {\n",
              "      display:flex;\n",
              "      flex-wrap:wrap;\n",
              "      gap: 12px;\n",
              "    }\n",
              "\n",
              "    .colab-df-convert {\n",
              "      background-color: #E8F0FE;\n",
              "      border: none;\n",
              "      border-radius: 50%;\n",
              "      cursor: pointer;\n",
              "      display: none;\n",
              "      fill: #1967D2;\n",
              "      height: 32px;\n",
              "      padding: 0 0 0 0;\n",
              "      width: 32px;\n",
              "    }\n",
              "\n",
              "    .colab-df-convert:hover {\n",
              "      background-color: #E2EBFA;\n",
              "      box-shadow: 0px 1px 2px rgba(60, 64, 67, 0.3), 0px 1px 3px 1px rgba(60, 64, 67, 0.15);\n",
              "      fill: #174EA6;\n",
              "    }\n",
              "\n",
              "    [theme=dark] .colab-df-convert {\n",
              "      background-color: #3B4455;\n",
              "      fill: #D2E3FC;\n",
              "    }\n",
              "\n",
              "    [theme=dark] .colab-df-convert:hover {\n",
              "      background-color: #434B5C;\n",
              "      box-shadow: 0px 1px 3px 1px rgba(0, 0, 0, 0.15);\n",
              "      filter: drop-shadow(0px 1px 2px rgba(0, 0, 0, 0.3));\n",
              "      fill: #FFFFFF;\n",
              "    }\n",
              "  </style>\n",
              "\n",
              "      <script>\n",
              "        const buttonEl =\n",
              "          document.querySelector('#df-63426ae5-67fa-4c83-b6d7-678e218ca183 button.colab-df-convert');\n",
              "        buttonEl.style.display =\n",
              "          google.colab.kernel.accessAllowed ? 'block' : 'none';\n",
              "\n",
              "        async function convertToInteractive(key) {\n",
              "          const element = document.querySelector('#df-63426ae5-67fa-4c83-b6d7-678e218ca183');\n",
              "          const dataTable =\n",
              "            await google.colab.kernel.invokeFunction('convertToInteractive',\n",
              "                                                     [key], {});\n",
              "          if (!dataTable) return;\n",
              "\n",
              "          const docLinkHtml = 'Like what you see? Visit the ' +\n",
              "            '<a target=\"_blank\" href=https://colab.research.google.com/notebooks/data_table.ipynb>data table notebook</a>'\n",
              "            + ' to learn more about interactive tables.';\n",
              "          element.innerHTML = '';\n",
              "          dataTable['output_type'] = 'display_data';\n",
              "          await google.colab.output.renderOutput(dataTable, element);\n",
              "          const docLink = document.createElement('div');\n",
              "          docLink.innerHTML = docLinkHtml;\n",
              "          element.appendChild(docLink);\n",
              "        }\n",
              "      </script>\n",
              "    </div>\n",
              "  </div>\n",
              "  "
            ]
          },
          "metadata": {},
          "execution_count": 5
        }
      ],
      "source": [
        "FSI"
      ]
    },
    {
      "cell_type": "code",
      "execution_count": 6,
      "metadata": {
        "id": "I5qSNghsdZSr"
      },
      "outputs": [],
      "source": [
        "data2 = { 'Team': [1,2,3,4],'Name':['Parangoli', 'Sunkhal','Katli','Kadetar'],'wins': [11,23,34,45],'Losses':[0,34,56,67],'Draw':[12,13,14,14]}\n",
        "cricket = pd.DataFrame(data2, columns=(\"Team\",\"Name\",\"wins\",\"Losses\",\"Draw\"))\n",
        "         "
      ]
    },
    {
      "cell_type": "code",
      "execution_count": 7,
      "metadata": {
        "colab": {
          "base_uri": "https://localhost:8080/",
          "height": 175
        },
        "id": "SKjeVZMbdZSs",
        "outputId": "50c6a7b5-7a30-4cae-a129-d6c4f110d2b5"
      },
      "outputs": [
        {
          "output_type": "execute_result",
          "data": {
            "text/plain": [
              "   Team       Name  wins  Losses  Draw\n",
              "0     1  Parangoli    11       0    12\n",
              "1     2    Sunkhal    23      34    13\n",
              "2     3      Katli    34      56    14\n",
              "3     4    Kadetar    45      67    14"
            ],
            "text/html": [
              "\n",
              "  <div id=\"df-26276a56-3e34-4512-9160-79589d57b851\">\n",
              "    <div class=\"colab-df-container\">\n",
              "      <div>\n",
              "<style scoped>\n",
              "    .dataframe tbody tr th:only-of-type {\n",
              "        vertical-align: middle;\n",
              "    }\n",
              "\n",
              "    .dataframe tbody tr th {\n",
              "        vertical-align: top;\n",
              "    }\n",
              "\n",
              "    .dataframe thead th {\n",
              "        text-align: right;\n",
              "    }\n",
              "</style>\n",
              "<table border=\"1\" class=\"dataframe\">\n",
              "  <thead>\n",
              "    <tr style=\"text-align: right;\">\n",
              "      <th></th>\n",
              "      <th>Team</th>\n",
              "      <th>Name</th>\n",
              "      <th>wins</th>\n",
              "      <th>Losses</th>\n",
              "      <th>Draw</th>\n",
              "    </tr>\n",
              "  </thead>\n",
              "  <tbody>\n",
              "    <tr>\n",
              "      <th>0</th>\n",
              "      <td>1</td>\n",
              "      <td>Parangoli</td>\n",
              "      <td>11</td>\n",
              "      <td>0</td>\n",
              "      <td>12</td>\n",
              "    </tr>\n",
              "    <tr>\n",
              "      <th>1</th>\n",
              "      <td>2</td>\n",
              "      <td>Sunkhal</td>\n",
              "      <td>23</td>\n",
              "      <td>34</td>\n",
              "      <td>13</td>\n",
              "    </tr>\n",
              "    <tr>\n",
              "      <th>2</th>\n",
              "      <td>3</td>\n",
              "      <td>Katli</td>\n",
              "      <td>34</td>\n",
              "      <td>56</td>\n",
              "      <td>14</td>\n",
              "    </tr>\n",
              "    <tr>\n",
              "      <th>3</th>\n",
              "      <td>4</td>\n",
              "      <td>Kadetar</td>\n",
              "      <td>45</td>\n",
              "      <td>67</td>\n",
              "      <td>14</td>\n",
              "    </tr>\n",
              "  </tbody>\n",
              "</table>\n",
              "</div>\n",
              "      <button class=\"colab-df-convert\" onclick=\"convertToInteractive('df-26276a56-3e34-4512-9160-79589d57b851')\"\n",
              "              title=\"Convert this dataframe to an interactive table.\"\n",
              "              style=\"display:none;\">\n",
              "        \n",
              "  <svg xmlns=\"http://www.w3.org/2000/svg\" height=\"24px\"viewBox=\"0 0 24 24\"\n",
              "       width=\"24px\">\n",
              "    <path d=\"M0 0h24v24H0V0z\" fill=\"none\"/>\n",
              "    <path d=\"M18.56 5.44l.94 2.06.94-2.06 2.06-.94-2.06-.94-.94-2.06-.94 2.06-2.06.94zm-11 1L8.5 8.5l.94-2.06 2.06-.94-2.06-.94L8.5 2.5l-.94 2.06-2.06.94zm10 10l.94 2.06.94-2.06 2.06-.94-2.06-.94-.94-2.06-.94 2.06-2.06.94z\"/><path d=\"M17.41 7.96l-1.37-1.37c-.4-.4-.92-.59-1.43-.59-.52 0-1.04.2-1.43.59L10.3 9.45l-7.72 7.72c-.78.78-.78 2.05 0 2.83L4 21.41c.39.39.9.59 1.41.59.51 0 1.02-.2 1.41-.59l7.78-7.78 2.81-2.81c.8-.78.8-2.07 0-2.86zM5.41 20L4 18.59l7.72-7.72 1.47 1.35L5.41 20z\"/>\n",
              "  </svg>\n",
              "      </button>\n",
              "      \n",
              "  <style>\n",
              "    .colab-df-container {\n",
              "      display:flex;\n",
              "      flex-wrap:wrap;\n",
              "      gap: 12px;\n",
              "    }\n",
              "\n",
              "    .colab-df-convert {\n",
              "      background-color: #E8F0FE;\n",
              "      border: none;\n",
              "      border-radius: 50%;\n",
              "      cursor: pointer;\n",
              "      display: none;\n",
              "      fill: #1967D2;\n",
              "      height: 32px;\n",
              "      padding: 0 0 0 0;\n",
              "      width: 32px;\n",
              "    }\n",
              "\n",
              "    .colab-df-convert:hover {\n",
              "      background-color: #E2EBFA;\n",
              "      box-shadow: 0px 1px 2px rgba(60, 64, 67, 0.3), 0px 1px 3px 1px rgba(60, 64, 67, 0.15);\n",
              "      fill: #174EA6;\n",
              "    }\n",
              "\n",
              "    [theme=dark] .colab-df-convert {\n",
              "      background-color: #3B4455;\n",
              "      fill: #D2E3FC;\n",
              "    }\n",
              "\n",
              "    [theme=dark] .colab-df-convert:hover {\n",
              "      background-color: #434B5C;\n",
              "      box-shadow: 0px 1px 3px 1px rgba(0, 0, 0, 0.15);\n",
              "      filter: drop-shadow(0px 1px 2px rgba(0, 0, 0, 0.3));\n",
              "      fill: #FFFFFF;\n",
              "    }\n",
              "  </style>\n",
              "\n",
              "      <script>\n",
              "        const buttonEl =\n",
              "          document.querySelector('#df-26276a56-3e34-4512-9160-79589d57b851 button.colab-df-convert');\n",
              "        buttonEl.style.display =\n",
              "          google.colab.kernel.accessAllowed ? 'block' : 'none';\n",
              "\n",
              "        async function convertToInteractive(key) {\n",
              "          const element = document.querySelector('#df-26276a56-3e34-4512-9160-79589d57b851');\n",
              "          const dataTable =\n",
              "            await google.colab.kernel.invokeFunction('convertToInteractive',\n",
              "                                                     [key], {});\n",
              "          if (!dataTable) return;\n",
              "\n",
              "          const docLinkHtml = 'Like what you see? Visit the ' +\n",
              "            '<a target=\"_blank\" href=https://colab.research.google.com/notebooks/data_table.ipynb>data table notebook</a>'\n",
              "            + ' to learn more about interactive tables.';\n",
              "          element.innerHTML = '';\n",
              "          dataTable['output_type'] = 'display_data';\n",
              "          await google.colab.output.renderOutput(dataTable, element);\n",
              "          const docLink = document.createElement('div');\n",
              "          docLink.innerHTML = docLinkHtml;\n",
              "          element.appendChild(docLink);\n",
              "        }\n",
              "      </script>\n",
              "    </div>\n",
              "  </div>\n",
              "  "
            ]
          },
          "metadata": {},
          "execution_count": 7
        }
      ],
      "source": [
        "cricket"
      ]
    },
    {
      "cell_type": "code",
      "execution_count": 8,
      "metadata": {
        "colab": {
          "base_uri": "https://localhost:8080/",
          "height": 112
        },
        "id": "vcHvdSWsdZSs",
        "outputId": "ce32f77a-3899-4cdc-9834-6633628eb310"
      },
      "outputs": [
        {
          "output_type": "execute_result",
          "data": {
            "text/plain": [
              "   Team     Name  wins  Losses  Draw\n",
              "1     2  Sunkhal    23      34    13\n",
              "2     3    Katli    34      56    14"
            ],
            "text/html": [
              "\n",
              "  <div id=\"df-3dfe2538-5ace-482e-8333-8b7f8b5a3aaf\">\n",
              "    <div class=\"colab-df-container\">\n",
              "      <div>\n",
              "<style scoped>\n",
              "    .dataframe tbody tr th:only-of-type {\n",
              "        vertical-align: middle;\n",
              "    }\n",
              "\n",
              "    .dataframe tbody tr th {\n",
              "        vertical-align: top;\n",
              "    }\n",
              "\n",
              "    .dataframe thead th {\n",
              "        text-align: right;\n",
              "    }\n",
              "</style>\n",
              "<table border=\"1\" class=\"dataframe\">\n",
              "  <thead>\n",
              "    <tr style=\"text-align: right;\">\n",
              "      <th></th>\n",
              "      <th>Team</th>\n",
              "      <th>Name</th>\n",
              "      <th>wins</th>\n",
              "      <th>Losses</th>\n",
              "      <th>Draw</th>\n",
              "    </tr>\n",
              "  </thead>\n",
              "  <tbody>\n",
              "    <tr>\n",
              "      <th>1</th>\n",
              "      <td>2</td>\n",
              "      <td>Sunkhal</td>\n",
              "      <td>23</td>\n",
              "      <td>34</td>\n",
              "      <td>13</td>\n",
              "    </tr>\n",
              "    <tr>\n",
              "      <th>2</th>\n",
              "      <td>3</td>\n",
              "      <td>Katli</td>\n",
              "      <td>34</td>\n",
              "      <td>56</td>\n",
              "      <td>14</td>\n",
              "    </tr>\n",
              "  </tbody>\n",
              "</table>\n",
              "</div>\n",
              "      <button class=\"colab-df-convert\" onclick=\"convertToInteractive('df-3dfe2538-5ace-482e-8333-8b7f8b5a3aaf')\"\n",
              "              title=\"Convert this dataframe to an interactive table.\"\n",
              "              style=\"display:none;\">\n",
              "        \n",
              "  <svg xmlns=\"http://www.w3.org/2000/svg\" height=\"24px\"viewBox=\"0 0 24 24\"\n",
              "       width=\"24px\">\n",
              "    <path d=\"M0 0h24v24H0V0z\" fill=\"none\"/>\n",
              "    <path d=\"M18.56 5.44l.94 2.06.94-2.06 2.06-.94-2.06-.94-.94-2.06-.94 2.06-2.06.94zm-11 1L8.5 8.5l.94-2.06 2.06-.94-2.06-.94L8.5 2.5l-.94 2.06-2.06.94zm10 10l.94 2.06.94-2.06 2.06-.94-2.06-.94-.94-2.06-.94 2.06-2.06.94z\"/><path d=\"M17.41 7.96l-1.37-1.37c-.4-.4-.92-.59-1.43-.59-.52 0-1.04.2-1.43.59L10.3 9.45l-7.72 7.72c-.78.78-.78 2.05 0 2.83L4 21.41c.39.39.9.59 1.41.59.51 0 1.02-.2 1.41-.59l7.78-7.78 2.81-2.81c.8-.78.8-2.07 0-2.86zM5.41 20L4 18.59l7.72-7.72 1.47 1.35L5.41 20z\"/>\n",
              "  </svg>\n",
              "      </button>\n",
              "      \n",
              "  <style>\n",
              "    .colab-df-container {\n",
              "      display:flex;\n",
              "      flex-wrap:wrap;\n",
              "      gap: 12px;\n",
              "    }\n",
              "\n",
              "    .colab-df-convert {\n",
              "      background-color: #E8F0FE;\n",
              "      border: none;\n",
              "      border-radius: 50%;\n",
              "      cursor: pointer;\n",
              "      display: none;\n",
              "      fill: #1967D2;\n",
              "      height: 32px;\n",
              "      padding: 0 0 0 0;\n",
              "      width: 32px;\n",
              "    }\n",
              "\n",
              "    .colab-df-convert:hover {\n",
              "      background-color: #E2EBFA;\n",
              "      box-shadow: 0px 1px 2px rgba(60, 64, 67, 0.3), 0px 1px 3px 1px rgba(60, 64, 67, 0.15);\n",
              "      fill: #174EA6;\n",
              "    }\n",
              "\n",
              "    [theme=dark] .colab-df-convert {\n",
              "      background-color: #3B4455;\n",
              "      fill: #D2E3FC;\n",
              "    }\n",
              "\n",
              "    [theme=dark] .colab-df-convert:hover {\n",
              "      background-color: #434B5C;\n",
              "      box-shadow: 0px 1px 3px 1px rgba(0, 0, 0, 0.15);\n",
              "      filter: drop-shadow(0px 1px 2px rgba(0, 0, 0, 0.3));\n",
              "      fill: #FFFFFF;\n",
              "    }\n",
              "  </style>\n",
              "\n",
              "      <script>\n",
              "        const buttonEl =\n",
              "          document.querySelector('#df-3dfe2538-5ace-482e-8333-8b7f8b5a3aaf button.colab-df-convert');\n",
              "        buttonEl.style.display =\n",
              "          google.colab.kernel.accessAllowed ? 'block' : 'none';\n",
              "\n",
              "        async function convertToInteractive(key) {\n",
              "          const element = document.querySelector('#df-3dfe2538-5ace-482e-8333-8b7f8b5a3aaf');\n",
              "          const dataTable =\n",
              "            await google.colab.kernel.invokeFunction('convertToInteractive',\n",
              "                                                     [key], {});\n",
              "          if (!dataTable) return;\n",
              "\n",
              "          const docLinkHtml = 'Like what you see? Visit the ' +\n",
              "            '<a target=\"_blank\" href=https://colab.research.google.com/notebooks/data_table.ipynb>data table notebook</a>'\n",
              "            + ' to learn more about interactive tables.';\n",
              "          element.innerHTML = '';\n",
              "          dataTable['output_type'] = 'display_data';\n",
              "          await google.colab.output.renderOutput(dataTable, element);\n",
              "          const docLink = document.createElement('div');\n",
              "          docLink.innerHTML = docLinkHtml;\n",
              "          element.appendChild(docLink);\n",
              "        }\n",
              "      </script>\n",
              "    </div>\n",
              "  </div>\n",
              "  "
            ]
          },
          "metadata": {},
          "execution_count": 8
        }
      ],
      "source": [
        "cricket[1:3]"
      ]
    },
    {
      "cell_type": "code",
      "execution_count": 9,
      "metadata": {
        "colab": {
          "base_uri": "https://localhost:8080/"
        },
        "id": "B_XRuep4dZSs",
        "outputId": "6b93aa9b-b14a-4dfa-d774-8dbbf2bb916c"
      },
      "outputs": [
        {
          "output_type": "stream",
          "name": "stdout",
          "text": [
            "what is ur nameas\n",
            "my name is as\n"
          ]
        }
      ],
      "source": [
        "n =input (\"what is ur name\")\n",
        "print(\"my name is\",n)"
      ]
    },
    {
      "cell_type": "code",
      "execution_count": 10,
      "metadata": {
        "colab": {
          "base_uri": "https://localhost:8080/"
        },
        "id": "VJp5GJRkdZSt",
        "outputId": "98286cde-a84b-4346-f1bd-3cc2e9dba509"
      },
      "outputs": [
        {
          "output_type": "stream",
          "name": "stdout",
          "text": [
            "Enter to calculate discount\n",
            " Please type in the MRP of the product100\n",
            "Please type in the discount in % mentioned on the product12\n",
            "The price for your product after discount is : 88.0\n"
          ]
        }
      ],
      "source": [
        "print(\"Enter to calculate discount\")\n",
        "n = input (\" Please type in the MRP of the product\")\n",
        "j = input(\"Please type in the discount in % mentioned on the product\")\n",
        "n = int(n)\n",
        "j = int(j)\n",
        "print(\"The price for your product after discount is :\", n - (j/100)*n)"
      ]
    },
    {
      "cell_type": "code",
      "execution_count": 11,
      "metadata": {
        "colab": {
          "base_uri": "https://localhost:8080/"
        },
        "id": "j_Hyen9OdZSu",
        "outputId": "280544fd-db2a-403b-a97d-6390b2c1aa02"
      },
      "outputs": [
        {
          "output_type": "stream",
          "name": "stdout",
          "text": [
            "what is the number12\n",
            " if u do not change it to int\n",
            "12121212121212121212\n",
            "actual value after changing into int\n",
            "120\n"
          ]
        }
      ],
      "source": [
        "c = input(\"what is the number\")\n",
        "print(' if u do not change it to int')\n",
        "print (c*10)\n",
        "\n",
        "\n",
        "\n",
        "# hence \n",
        "c = int(c)\n",
        "print('actual value after changing into int')\n",
        "print(c*10)"
      ]
    },
    {
      "cell_type": "code",
      "execution_count": 12,
      "metadata": {
        "colab": {
          "base_uri": "https://localhost:8080/"
        },
        "id": "gN4v5xa9dZSu",
        "outputId": "daaba462-c74f-42ec-9d5f-3dbd1a518234"
      },
      "outputs": [
        {
          "output_type": "stream",
          "name": "stdout",
          "text": [
            "Check if no is unity\n",
            "Type in the no.1\n",
            "The no is unity\n",
            "press any key to conitnue and n to stop\n",
            "Check if no is unity\n",
            "Type in the no.-1\n",
            "No is smaller than unity\n",
            "press any key to conitnue and n to stop\n",
            "Check if no is unity\n",
            "Type in the no.2\n",
            "No is greater than unity\n",
            "press any key to conitnue and n to stopn\n",
            "Thanks for using our tool\n"
          ]
        }
      ],
      "source": [
        "while(1):\n",
        "    print(\"Check if no is unity\")\n",
        "    n = input (\"Type in the no.\")\n",
        "    n = int(n)\n",
        "    if n == 1:\n",
        "        print(\"The no is unity\")\n",
        "    if n > 1:\n",
        "        print(\"No is greater than unity\")\n",
        "    if n < 1:\n",
        "        print(\"No is smaller than unity\")\n",
        "    c = input(\"press any key to conitnue and n to stop\")\n",
        "    if c == \"n\":\n",
        "        print(\"Thanks for using our tool\")\n",
        "        break"
      ]
    },
    {
      "cell_type": "code",
      "execution_count": 13,
      "metadata": {
        "colab": {
          "base_uri": "https://localhost:8080/"
        },
        "id": "mSks_1MfdZSv",
        "outputId": "1b00291c-7a15-4de0-96d7-f753e6cbecc4"
      },
      "outputs": [
        {
          "output_type": "stream",
          "name": "stdout",
          "text": [
            "Check your percentage\n",
            "Total Marks1234\n",
            "Marks Obtained1200\n",
            "Percentage scored = 97.24473257698541\n",
            "Press any key to continue,Press n to stopn\n",
            "Thanks for using our tool\n"
          ]
        }
      ],
      "source": [
        "while(1):\n",
        "    print(\"Check your percentage\")\n",
        "    n = input(\"Total Marks\")\n",
        "    j = input (\"Marks Obtained\")\n",
        "    n = int(n)\n",
        "    j = int(j)\n",
        "    print(\"Percentage scored =\", j/n * 100)\n",
        "    k = input(\"Press any key to continue,Press n to stop\")\n",
        "    if k == \"n\":\n",
        "        print(\"Thanks for using our tool\")\n",
        "        break"
      ]
    },
    {
      "cell_type": "code",
      "execution_count": 14,
      "metadata": {
        "colab": {
          "base_uri": "https://localhost:8080/"
        },
        "id": "nUvKNJJYdZSv",
        "outputId": "c35574ca-e373-4bf8-ec5e-acd724fd1ba9"
      },
      "outputs": [
        {
          "output_type": "stream",
          "name": "stdout",
          "text": [
            "Om Namah Shivaay\n",
            "Om Namah Shivaay\n",
            "Om Namah Shivaay\n",
            "Om Namah Shivaay\n",
            "Om Namah Shivaay\n",
            "Om Namah Shivaay\n",
            "Om Namah Shivaay\n",
            "Om Namah Shivaay\n",
            "Om Namah Shivaay\n",
            "Om Namah Shivaay\n",
            "Om Namah Shivaay\n",
            "Om Namah Shivaay\n",
            "Om Namah Shivaay\n",
            "Om Namah Shivaay\n",
            "Om Namah Shivaay\n",
            "Om Namah Shivaay\n",
            "Om Namah Shivaay\n",
            "Om Namah Shivaay\n",
            "Om Namah Shivaay\n",
            "Om Namah Shivaay\n",
            "Om Namah Shivaay\n",
            "Om Namah Shivaay\n",
            "Om Namah Shivaay\n",
            "Om Namah Shivaay\n",
            "Om Namah Shivaay\n",
            "Om Namah Shivaay\n",
            "Om Namah Shivaay\n",
            "Om Namah Shivaay\n",
            "Om Namah Shivaay\n",
            "Om Namah Shivaay\n",
            "Om Namah Shivaay\n",
            "Om Namah Shivaay\n",
            "Om Namah Shivaay\n",
            "Om Namah Shivaay\n",
            "Om Namah Shivaay\n",
            "Om Namah Shivaay\n",
            "Om Namah Shivaay\n",
            "Om Namah Shivaay\n",
            "Om Namah Shivaay\n",
            "Om Namah Shivaay\n",
            "Om Namah Shivaay\n",
            "Om Namah Shivaay\n",
            "Om Namah Shivaay\n",
            "Om Namah Shivaay\n",
            "Om Namah Shivaay\n",
            "Om Namah Shivaay\n",
            "Om Namah Shivaay\n",
            "Om Namah Shivaay\n",
            "Om Namah Shivaay\n",
            "Om Namah Shivaay\n",
            "Om Namah Shivaay\n",
            "Om Namah Shivaay\n",
            "Om Namah Shivaay\n",
            "Om Namah Shivaay\n",
            "Om Namah Shivaay\n",
            "Om Namah Shivaay\n",
            "Om Namah Shivaay\n",
            "Om Namah Shivaay\n",
            "Om Namah Shivaay\n",
            "Om Namah Shivaay\n",
            "Om Namah Shivaay\n",
            "Om Namah Shivaay\n",
            "Om Namah Shivaay\n",
            "Om Namah Shivaay\n",
            "Om Namah Shivaay\n",
            "Om Namah Shivaay\n",
            "Om Namah Shivaay\n",
            "Om Namah Shivaay\n",
            "Om Namah Shivaay\n",
            "Om Namah Shivaay\n",
            "Om Namah Shivaay\n",
            "Om Namah Shivaay\n",
            "Om Namah Shivaay\n",
            "Om Namah Shivaay\n",
            "Om Namah Shivaay\n",
            "Om Namah Shivaay\n",
            "Om Namah Shivaay\n",
            "Om Namah Shivaay\n",
            "Om Namah Shivaay\n",
            "Om Namah Shivaay\n",
            "Om Namah Shivaay\n",
            "Om Namah Shivaay\n",
            "Om Namah Shivaay\n",
            "Om Namah Shivaay\n",
            "Om Namah Shivaay\n",
            "Om Namah Shivaay\n",
            "Om Namah Shivaay\n",
            "Om Namah Shivaay\n",
            "Om Namah Shivaay\n",
            "Om Namah Shivaay\n",
            "Om Namah Shivaay\n",
            "Om Namah Shivaay\n",
            "Om Namah Shivaay\n",
            "Om Namah Shivaay\n",
            "Om Namah Shivaay\n",
            "Om Namah Shivaay\n",
            "Om Namah Shivaay\n",
            "Om Namah Shivaay\n",
            "Om Namah Shivaay\n",
            "Om Namah Shivaay\n",
            "Om Namah Shivaay\n",
            "Om Namah Shivaay\n",
            "Om Namah Shivaay\n",
            "Om Namah Shivaay\n",
            "Om Namah Shivaay\n",
            "Om Namah Shivaay\n",
            "Om Namah Shivaay\n",
            "Om Namah Shivaay\n"
          ]
        }
      ],
      "source": [
        "for i in range(108):\n",
        "    print(\"Om Namah Shivaay\")"
      ]
    },
    {
      "cell_type": "code",
      "execution_count": 15,
      "metadata": {
        "colab": {
          "base_uri": "https://localhost:8080/"
        },
        "id": "xEHQJpCCdZSw",
        "outputId": "a3793614-e08f-462f-8422-bad780e8988f"
      },
      "outputs": [
        {
          "output_type": "stream",
          "name": "stdout",
          "text": [
            "Please enter the number to see its table17\n",
            "17 x 1 = 17\n",
            "17 x 2 = 34\n",
            "17 x 3 = 51\n",
            "17 x 4 = 68\n",
            "17 x 5 = 85\n",
            "17 x 6 = 102\n",
            "17 x 7 = 119\n",
            "17 x 8 = 136\n",
            "17 x 9 = 153\n",
            "17 x 10 = 170\n",
            "press s to stop ,any other key to continue for another numbers\n",
            "Thanks for using our tool\n"
          ]
        }
      ],
      "source": [
        "while(1):\n",
        "    n = input(\"Please enter the number to see its table\")\n",
        "    n = int(n)\n",
        "    for i in range(1,11):\n",
        "        print(n,\"x\",i,\"=\",n*i)\n",
        "    c = input(\"press s to stop ,any other key to continue for another number\")\n",
        "    if c == \"s\":\n",
        "        print(\"Thanks for using our tool\")\n",
        "        break"
      ]
    },
    {
      "cell_type": "code",
      "execution_count": 16,
      "metadata": {
        "colab": {
          "base_uri": "https://localhost:8080/"
        },
        "id": "tlk8utWAdZSw",
        "outputId": "f9a0e8b9-7957-479e-c86f-519e90de2d3e"
      },
      "outputs": [
        {
          "output_type": "stream",
          "name": "stdout",
          "text": [
            "Checking result with B+i\n",
            "0\n",
            "1\n",
            "3\n",
            "6\n",
            "10\n",
            "15\n",
            "21\n",
            "Checking result with B+1\n",
            "1\n",
            "2\n",
            "3\n",
            "4\n",
            "5\n",
            "6\n",
            "7\n"
          ]
        }
      ],
      "source": [
        "print (\"Checking result with B+i\")\n",
        "b = 0 \n",
        "for i in range(7):\n",
        "    b = b+i\n",
        "    print(b)\n",
        "print (\"Checking result with B+1\")\n",
        "b = 0\n",
        "for i in range(7):\n",
        "    b = b+1\n",
        "    print(b)\n",
        "    "
      ]
    },
    {
      "cell_type": "code",
      "execution_count": 17,
      "metadata": {
        "id": "M898jybHdZSw"
      },
      "outputs": [],
      "source": [
        "# remember i here stands for no of iteration but if you use in place of b + 1 like b= b + i \n",
        "#it will iterate as well as act as variable which is equal to same value as no of iteration \n",
        "#for example at iternation no 3 it will provide varibale value of 3 too.\n",
        "\n"
      ]
    },
    {
      "cell_type": "code",
      "execution_count": 18,
      "metadata": {
        "id": "uYrJB1AVdZSx"
      },
      "outputs": [],
      "source": [
        "# sum on n numbers"
      ]
    },
    {
      "cell_type": "code",
      "execution_count": 19,
      "metadata": {
        "colab": {
          "base_uri": "https://localhost:8080/"
        },
        "id": "ZaqfKPDJdZSx",
        "outputId": "f6372d05-c276-49ba-aa69-b18edafdf12f"
      },
      "outputs": [
        {
          "output_type": "stream",
          "name": "stdout",
          "text": [
            "Insert number you want sum up to18\n",
            "calculating sum of first  18 numbers\n",
            " sum of first  18 numbers is 171\n",
            "press s to stop, to continue , any other key to continues\n",
            "Thanks for using this tool , come back for more\n"
          ]
        }
      ],
      "source": [
        "while(1):\n",
        "    k = 0\n",
        "    h = input(\"Insert number you want sum up to\")\n",
        "    print(\"calculating sum of first \",h ,\"numbers\")\n",
        "    h = int(h)\n",
        "    h = h+1\n",
        "    for i in range(h):\n",
        "        k = k+i\n",
        "    print(\" sum of first \",h-1,\"numbers is\",k)\n",
        "    c = input(\"press s to stop, to continue , any other key to continue\")\n",
        "    if c == \"s\":\n",
        "        print(\"Thanks for using this tool , come back for more\")\n",
        "        break"
      ]
    },
    {
      "cell_type": "code",
      "execution_count": 20,
      "metadata": {
        "colab": {
          "base_uri": "https://localhost:8080/"
        },
        "id": "Rd96YoH4dZSx",
        "outputId": "1865e798-9a08-4bfa-a4af-40caf30cd48e"
      },
      "outputs": [
        {
          "output_type": "stream",
          "name": "stdout",
          "text": [
            "1\n",
            "2\n",
            "3\n",
            "4\n",
            "5\n",
            "6\n",
            "7\n",
            "1\n",
            "2\n",
            "3\n",
            "4\n",
            "5\n",
            "6\n",
            "7\n",
            " No change in output is seen now changing x+1 to x+i with same range\n",
            "difference between using x+1 and x+i, +1 will give increment of 1 only, where as +i will add the previous number to new\n",
            "3\n",
            "7\n",
            "12\n",
            "18\n",
            "25\n",
            "33\n",
            "42\n",
            "The change of range affects here unlike in x+1\n",
            "0\n",
            "1\n",
            "3\n",
            "6\n",
            "10\n",
            "15\n",
            "21\n"
          ]
        }
      ],
      "source": [
        "x = 0 \n",
        "for i in range (3,10):\n",
        "    x = x+1\n",
        "    print (x)\n",
        "\n",
        "x = 0\n",
        "for i in range (0,7):\n",
        "    x = x+1\n",
        "    print(x)\n",
        "print(\" No change in output is seen now changing x+1 to x+i with same range\")\n",
        "\n",
        "\n",
        "\n",
        "\n",
        "\n",
        "\n",
        "\n",
        "print ('difference between using x+1 and x+i, +1 will give increment of 1 only, where as +i will add the previous number to new')\n",
        "\n",
        "x = 0 \n",
        "for i in range (3,10):\n",
        "    x = x+i\n",
        "    print (x)\n",
        "       \n",
        "print('The change of range affects here unlike in x+1')\n",
        "x = 0\n",
        "for i in range (0,7):\n",
        "    x = x+i\n",
        "    print(x)"
      ]
    },
    {
      "cell_type": "code",
      "execution_count": 21,
      "metadata": {
        "id": "kqzz55GadZSy"
      },
      "outputs": [],
      "source": [
        "#product of n numbers"
      ]
    },
    {
      "cell_type": "code",
      "execution_count": 22,
      "metadata": {
        "colab": {
          "base_uri": "https://localhost:8080/"
        },
        "id": "FOHXGWxAdZSy",
        "outputId": "3819af38-42af-4312-8cb3-c837a83b0c0c"
      },
      "outputs": [
        {
          "output_type": "stream",
          "name": "stdout",
          "text": [
            "1\n",
            "2\n",
            "6\n",
            "24\n",
            "120\n",
            "720\n",
            "5040\n",
            "40320\n",
            "362880\n",
            "3628800\n"
          ]
        }
      ],
      "source": [
        "k = 1\n",
        "for i in range(1,11):\n",
        "    k = k*i\n",
        "    print(k)"
      ]
    },
    {
      "cell_type": "code",
      "execution_count": 23,
      "metadata": {
        "colab": {
          "base_uri": "https://localhost:8080/"
        },
        "id": "ukziumwkdZSz",
        "outputId": "a9eb75a3-b503-4be6-893b-3d29bf2c7ab6"
      },
      "outputs": [
        {
          "output_type": "stream",
          "name": "stdout",
          "text": [
            "24\n"
          ]
        }
      ],
      "source": [
        "#if u want to print last value only , just remove the indent in last line e.g\n",
        "k = 1\n",
        "for i in range(1,5):\n",
        "    k = k*i\n",
        "print(k)"
      ]
    },
    {
      "cell_type": "code",
      "execution_count": 24,
      "metadata": {
        "colab": {
          "base_uri": "https://localhost:8080/"
        },
        "id": "QCuSVjk1dZSz",
        "outputId": "b6ac580d-940e-4899-dda7-66d2a741cbb4"
      },
      "outputs": [
        {
          "output_type": "stream",
          "name": "stdout",
          "text": [
            "please insert the number u want product upto8\n",
            "8\n",
            "The product of first 8 numbers is 40320\n",
            "press any other no to continue, press n to stopn\n",
            "Thanks for using our tool\n"
          ]
        }
      ],
      "source": [
        "while(1):\n",
        "    k = 1\n",
        "    n = input(\"please insert the number u want product upto\")\n",
        "    print(n)\n",
        "    n = int(n)\n",
        "    n = n+1\n",
        "    for i in range (1,n):\n",
        "        k = k*i\n",
        "    print(\"The product of first\",n-1,\"numbers is\",k)\n",
        "    c = input(\"press any other no to continue, press n to stop\")\n",
        "    if c == \"n\":\n",
        "        print(\"Thanks for using our tool\")\n",
        "        break"
      ]
    },
    {
      "cell_type": "code",
      "execution_count": 25,
      "metadata": {
        "colab": {
          "base_uri": "https://localhost:8080/"
        },
        "id": "4WlMqw_wdZS0",
        "outputId": "612c0e40-304e-42b0-9e77-2e3113ae8df5"
      },
      "outputs": [
        {
          "output_type": "stream",
          "name": "stdout",
          "text": [
            "May god shiva bless you with good health\n",
            "Token no 1 can come in\n",
            "print enter to continue and n to stop\n",
            "Token no 2 can come in\n",
            "print enter to continue and n to stop\n",
            "Token no 3 can come in\n",
            "print enter to continue and n to stopn\n",
            "Thanks, that's the end of the day\n"
          ]
        }
      ],
      "source": [
        "print(\"May god shiva bless you with good health\")\n",
        "n = 1\n",
        "c = \"y\"\n",
        "while c == \"y\":\n",
        "    print(\"Token no\",n,\"can come in\")\n",
        "    k = input(\"print enter to continue and n to stop\")\n",
        "    n = n+1\n",
        "    if k == \"n\":\n",
        "        print(\"Thanks, that's the end of the day\")\n",
        "        break"
      ]
    },
    {
      "cell_type": "code",
      "execution_count": 26,
      "metadata": {
        "id": "5N95ykSidZS1"
      },
      "outputs": [],
      "source": [
        "home = ['hundred',\"love\",\"free\",\"six\"]"
      ]
    },
    {
      "cell_type": "code",
      "execution_count": 27,
      "metadata": {
        "colab": {
          "base_uri": "https://localhost:8080/"
        },
        "id": "Th1X6vccdZS1",
        "outputId": "247744e0-91c3-4988-d0fa-c496f92b7175"
      },
      "outputs": [
        {
          "output_type": "execute_result",
          "data": {
            "text/plain": [
              "['hundred', 'love', 'free', 'six']"
            ]
          },
          "metadata": {},
          "execution_count": 27
        }
      ],
      "source": [
        "home"
      ]
    },
    {
      "cell_type": "code",
      "execution_count": 28,
      "metadata": {
        "colab": {
          "base_uri": "https://localhost:8080/"
        },
        "id": "q0uFSaaudZS1",
        "outputId": "a0e8b2c5-86bc-46aa-db2f-3e2f1d2c357d"
      },
      "outputs": [
        {
          "output_type": "execute_result",
          "data": {
            "text/plain": [
              "list"
            ]
          },
          "metadata": {},
          "execution_count": 28
        }
      ],
      "source": [
        "type(home)"
      ]
    },
    {
      "cell_type": "code",
      "execution_count": 29,
      "metadata": {
        "colab": {
          "base_uri": "https://localhost:8080/"
        },
        "id": "BHcLJz2LdZS1",
        "outputId": "2aec48c0-0878-401d-a011-b5b914674341"
      },
      "outputs": [
        {
          "output_type": "execute_result",
          "data": {
            "text/plain": [
              "['hundred', 'love', 'free']"
            ]
          },
          "metadata": {},
          "execution_count": 29
        }
      ],
      "source": [
        "home[:3]"
      ]
    },
    {
      "cell_type": "code",
      "execution_count": 30,
      "metadata": {
        "colab": {
          "base_uri": "https://localhost:8080/"
        },
        "id": "bURCQI_gdZS1",
        "outputId": "73721ad1-dc1f-4f04-a75d-a93ebd5d7d50"
      },
      "outputs": [
        {
          "output_type": "execute_result",
          "data": {
            "text/plain": [
              "['hundred', 'love']"
            ]
          },
          "metadata": {},
          "execution_count": 30
        }
      ],
      "source": [
        "home[:2]"
      ]
    },
    {
      "cell_type": "code",
      "execution_count": 31,
      "metadata": {
        "colab": {
          "base_uri": "https://localhost:8080/"
        },
        "id": "8TCCHib-dZS2",
        "outputId": "62962247-a972-468b-bcb3-74ec4acdb03a"
      },
      "outputs": [
        {
          "output_type": "execute_result",
          "data": {
            "text/plain": [
              "['hundred']"
            ]
          },
          "metadata": {},
          "execution_count": 31
        }
      ],
      "source": [
        "home[0:1]"
      ]
    },
    {
      "cell_type": "code",
      "execution_count": 32,
      "metadata": {
        "colab": {
          "base_uri": "https://localhost:8080/"
        },
        "id": "JNLc3F1fdZS2",
        "outputId": "4eb1c928-8558-4c47-a589-4589153d6642"
      },
      "outputs": [
        {
          "output_type": "execute_result",
          "data": {
            "text/plain": [
              "['hundred']"
            ]
          },
          "metadata": {},
          "execution_count": 32
        }
      ],
      "source": [
        "home[:1]"
      ]
    },
    {
      "cell_type": "code",
      "execution_count": 33,
      "metadata": {
        "colab": {
          "base_uri": "https://localhost:8080/",
          "height": 35
        },
        "id": "G3Js0sFndZS2",
        "outputId": "7870b88d-2ea6-4ae3-a27c-52b022fb1c7e"
      },
      "outputs": [
        {
          "output_type": "execute_result",
          "data": {
            "text/plain": [
              "'hundred'"
            ],
            "application/vnd.google.colaboratory.intrinsic+json": {
              "type": "string"
            }
          },
          "metadata": {},
          "execution_count": 33
        }
      ],
      "source": [
        "home[0]"
      ]
    },
    {
      "cell_type": "code",
      "execution_count": 34,
      "metadata": {
        "colab": {
          "base_uri": "https://localhost:8080/"
        },
        "id": "8foWJF8ndZS2",
        "outputId": "481c138e-5d3a-47cc-836f-bef4a42f16ca"
      },
      "outputs": [
        {
          "output_type": "stream",
          "name": "stdout",
          "text": [
            "hundred\n",
            "love\n",
            "free\n",
            "six\n"
          ]
        }
      ],
      "source": [
        "for i in home :\n",
        "    print(i)"
      ]
    },
    {
      "cell_type": "code",
      "execution_count": 35,
      "metadata": {
        "id": "9ATCQ0pCdZS2"
      },
      "outputs": [],
      "source": [
        "home.append('dal')"
      ]
    },
    {
      "cell_type": "code",
      "execution_count": 36,
      "metadata": {
        "colab": {
          "base_uri": "https://localhost:8080/"
        },
        "id": "sj0SZVgZdZS3",
        "outputId": "451ae8bf-2b4c-4a9d-a05b-bc57dd4f5eb2"
      },
      "outputs": [
        {
          "output_type": "execute_result",
          "data": {
            "text/plain": [
              "['hundred', 'love', 'free', 'six', 'dal']"
            ]
          },
          "metadata": {},
          "execution_count": 36
        }
      ],
      "source": [
        "home"
      ]
    },
    {
      "cell_type": "code",
      "execution_count": 37,
      "metadata": {
        "id": "-qxxMRX5dZS3"
      },
      "outputs": [],
      "source": [
        "home.insert(11,\"frangrance\")"
      ]
    },
    {
      "cell_type": "code",
      "execution_count": 38,
      "metadata": {
        "colab": {
          "base_uri": "https://localhost:8080/"
        },
        "id": "09TZN_indZS3",
        "outputId": "c92d5ae0-f222-4431-f0f5-7860e92dfcd2"
      },
      "outputs": [
        {
          "output_type": "execute_result",
          "data": {
            "text/plain": [
              "['hundred', 'love', 'free', 'six', 'dal', 'frangrance']"
            ]
          },
          "metadata": {},
          "execution_count": 38
        }
      ],
      "source": [
        "home"
      ]
    },
    {
      "cell_type": "code",
      "execution_count": 39,
      "metadata": {
        "colab": {
          "base_uri": "https://localhost:8080/"
        },
        "id": "HRH5Yb4ZdZS3",
        "outputId": "be9d5c01-b0e9-470a-a70b-ded3fd475c77"
      },
      "outputs": [
        {
          "output_type": "execute_result",
          "data": {
            "text/plain": [
              "list"
            ]
          },
          "metadata": {},
          "execution_count": 39
        }
      ],
      "source": [
        "type(home)"
      ]
    },
    {
      "cell_type": "code",
      "execution_count": 40,
      "metadata": {
        "colab": {
          "base_uri": "https://localhost:8080/"
        },
        "id": "unvZkRT7dZS4",
        "outputId": "453b5aec-25b2-4c1f-8bfc-c9b5b3338e7d"
      },
      "outputs": [
        {
          "output_type": "execute_result",
          "data": {
            "text/plain": [
              "6"
            ]
          },
          "metadata": {},
          "execution_count": 40
        }
      ],
      "source": [
        "len(home)"
      ]
    },
    {
      "cell_type": "code",
      "execution_count": 41,
      "metadata": {
        "colab": {
          "base_uri": "https://localhost:8080/"
        },
        "id": "EyDiv8xOdZS4",
        "outputId": "6cd8369b-9d11-430f-ac68-85279d14e205"
      },
      "outputs": [
        {
          "output_type": "stream",
          "name": "stdout",
          "text": [
            "two ways of iterating the list\n",
            "hundred\n",
            "love\n",
            "free\n",
            "six\n",
            "dal\n",
            "frangrance\n",
            "Second way\n",
            "hundred\n",
            "love\n",
            "free\n",
            "six\n",
            "dal\n",
            "frangrance\n"
          ]
        }
      ],
      "source": [
        "print(\"two ways of iterating the list\")\n",
        "for i in home:\n",
        "    print(i)\n",
        "    \n",
        "print(\"Second way\")\n",
        "\n",
        "for i in range (len(home)):\n",
        "    print(home[i])\n",
        "   "
      ]
    },
    {
      "cell_type": "code",
      "execution_count": 42,
      "metadata": {
        "id": "YMLsZPMIdZS4"
      },
      "outputs": [],
      "source": [
        "num = [34,78,90,34,12,21,14,4,7,90,43,18,15]"
      ]
    },
    {
      "cell_type": "code",
      "execution_count": 43,
      "metadata": {
        "colab": {
          "base_uri": "https://localhost:8080/"
        },
        "id": "G8rdr4CbdZS4",
        "outputId": "f7046db9-d473-4687-b856-95579e14137d"
      },
      "outputs": [
        {
          "output_type": "execute_result",
          "data": {
            "text/plain": [
              "2"
            ]
          },
          "metadata": {},
          "execution_count": 43
        }
      ],
      "source": [
        "num.count(90)"
      ]
    },
    {
      "cell_type": "code",
      "execution_count": 44,
      "metadata": {
        "colab": {
          "base_uri": "https://localhost:8080/"
        },
        "id": "D3B2hQa9dZS4",
        "outputId": "4521078f-930b-4b92-c577-81e363e07368"
      },
      "outputs": [
        {
          "output_type": "stream",
          "name": "stdout",
          "text": [
            "[4, 7, 12, 14, 15, 18, 21, 34, 34, 43, 78, 90, 90]\n"
          ]
        }
      ],
      "source": [
        "num.sort()\n",
        "print(num)"
      ]
    },
    {
      "cell_type": "code",
      "execution_count": 45,
      "metadata": {
        "colab": {
          "base_uri": "https://localhost:8080/"
        },
        "id": "8gnLa7q7dZS5",
        "outputId": "675d31d9-80b0-425d-e343-822c21415ad9"
      },
      "outputs": [
        {
          "output_type": "stream",
          "name": "stdout",
          "text": [
            "[90, 90, 78, 43, 34, 34, 21, 18, 15, 14, 12, 7, 4]\n"
          ]
        }
      ],
      "source": [
        "num.reverse()\n",
        "print(num)"
      ]
    },
    {
      "cell_type": "code",
      "execution_count": 46,
      "metadata": {
        "colab": {
          "base_uri": "https://localhost:8080/"
        },
        "id": "QlzomKhOdZS5",
        "outputId": "419bc545-68bf-425a-97b2-433af3e6dd3a"
      },
      "outputs": [
        {
          "output_type": "stream",
          "name": "stdout",
          "text": [
            "['dal', 'frangrance', 'free', 'hundred', 'love', 'six']\n"
          ]
        }
      ],
      "source": [
        "home.sort()\n",
        "print(home)"
      ]
    },
    {
      "cell_type": "code",
      "execution_count": 47,
      "metadata": {
        "id": "ay32OY0vdZS5"
      },
      "outputs": [],
      "source": [
        "# list[start_index : last_index+1] for slicing"
      ]
    },
    {
      "cell_type": "code",
      "execution_count": 48,
      "metadata": {
        "colab": {
          "base_uri": "https://localhost:8080/"
        },
        "id": "k5ZqZxMydZS5",
        "outputId": "4f5f0e35-d170-4e89-d0f0-79fa78fceffb"
      },
      "outputs": [
        {
          "output_type": "stream",
          "name": "stdout",
          "text": [
            "1 this number is  neither a multiple of 3 nor 5.So none is displayed\n",
            "2 this number is  neither a multiple of 3 nor 5.So none is displayed\n",
            "3 this number is multiple of 3. So fizz is displayed\n",
            "4 this number is  neither a multiple of 3 nor 5.So none is displayed\n",
            "5 this number is multiple of 5.So buzz is displayed\n",
            "6 this number is multiple of 3. So fizz is displayed\n",
            "7 this number is  neither a multiple of 3 nor 5.So none is displayed\n",
            "8 this number is  neither a multiple of 3 nor 5.So none is displayed\n",
            "9 this number is multiple of 3. So fizz is displayed\n",
            "10 this number is multiple of 5.So buzz is displayed\n",
            "11 this number is  neither a multiple of 3 nor 5.So none is displayed\n",
            "12 this number is multiple of 3. So fizz is displayed\n",
            "13 this number is  neither a multiple of 3 nor 5.So none is displayed\n",
            "14 this number is  neither a multiple of 3 nor 5.So none is displayed\n",
            "15 this number is multiple of 3 and 5 .So Fizzbuzz is displayed\n",
            "16 this number is  neither a multiple of 3 nor 5.So none is displayed\n",
            "17 this number is  neither a multiple of 3 nor 5.So none is displayed\n",
            "18 this number is multiple of 3. So fizz is displayed\n",
            "19 this number is  neither a multiple of 3 nor 5.So none is displayed\n",
            "20 this number is multiple of 5.So buzz is displayed\n",
            "21 this number is multiple of 3. So fizz is displayed\n",
            "22 this number is  neither a multiple of 3 nor 5.So none is displayed\n",
            "23 this number is  neither a multiple of 3 nor 5.So none is displayed\n",
            "24 this number is multiple of 3. So fizz is displayed\n",
            "25 this number is multiple of 5.So buzz is displayed\n",
            "26 this number is  neither a multiple of 3 nor 5.So none is displayed\n",
            "27 this number is multiple of 3. So fizz is displayed\n",
            "28 this number is  neither a multiple of 3 nor 5.So none is displayed\n",
            "29 this number is  neither a multiple of 3 nor 5.So none is displayed\n",
            "30 this number is multiple of 3 and 5 .So Fizzbuzz is displayed\n",
            "31 this number is  neither a multiple of 3 nor 5.So none is displayed\n",
            "32 this number is  neither a multiple of 3 nor 5.So none is displayed\n",
            "33 this number is multiple of 3. So fizz is displayed\n",
            "34 this number is  neither a multiple of 3 nor 5.So none is displayed\n",
            "35 this number is multiple of 5.So buzz is displayed\n",
            "36 this number is multiple of 3. So fizz is displayed\n",
            "37 this number is  neither a multiple of 3 nor 5.So none is displayed\n",
            "38 this number is  neither a multiple of 3 nor 5.So none is displayed\n",
            "39 this number is multiple of 3. So fizz is displayed\n",
            "40 this number is multiple of 5.So buzz is displayed\n",
            "41 this number is  neither a multiple of 3 nor 5.So none is displayed\n",
            "42 this number is multiple of 3. So fizz is displayed\n",
            "43 this number is  neither a multiple of 3 nor 5.So none is displayed\n",
            "44 this number is  neither a multiple of 3 nor 5.So none is displayed\n",
            "45 this number is multiple of 3 and 5 .So Fizzbuzz is displayed\n",
            "46 this number is  neither a multiple of 3 nor 5.So none is displayed\n",
            "47 this number is  neither a multiple of 3 nor 5.So none is displayed\n",
            "48 this number is multiple of 3. So fizz is displayed\n",
            "49 this number is  neither a multiple of 3 nor 5.So none is displayed\n",
            "50 this number is multiple of 5.So buzz is displayed\n"
          ]
        }
      ],
      "source": [
        "for i in range (1,51):\n",
        "    if i%3 ==0 and i%5 == 0:\n",
        "        print(i,\"this number is multiple of 3 and 5 .So Fizzbuzz is displayed\")\n",
        "    else:\n",
        "        if i%5 == 0:\n",
        "            print(i,\"this number is multiple of 5.So buzz is displayed\")\n",
        "        else:\n",
        "            if i%3 == 0:\n",
        "                print(i, \"this number is multiple of 3. So fizz is displayed\")\n",
        "            else:\n",
        "                print(i,\"this number is  neither a multiple of 3 nor 5.So none is displayed\")"
      ]
    },
    {
      "cell_type": "code",
      "execution_count": 49,
      "metadata": {
        "id": "MDdhxFfBdZS5"
      },
      "outputs": [],
      "source": [
        "#overestimation - underestimation = 0"
      ]
    },
    {
      "cell_type": "code",
      "execution_count": 50,
      "metadata": {
        "id": "pDfmKtmtdZS6"
      },
      "outputs": [],
      "source": [
        "from scipy import stats"
      ]
    },
    {
      "cell_type": "code",
      "execution_count": 51,
      "metadata": {
        "id": "EU2v-lkhdZS6"
      },
      "outputs": [],
      "source": [
        "import statistics"
      ]
    },
    {
      "cell_type": "code",
      "execution_count": 52,
      "metadata": {
        "id": "f6l_sEbQdZS6"
      },
      "outputs": [],
      "source": [
        "from statistics import mean"
      ]
    },
    {
      "cell_type": "code",
      "execution_count": 53,
      "metadata": {
        "colab": {
          "base_uri": "https://localhost:8080/"
        },
        "id": "tgSrg8KNdZS6",
        "outputId": "db250d1b-21dd-48c1-989f-c8f1b7282533"
      },
      "outputs": [
        {
          "output_type": "execute_result",
          "data": {
            "text/plain": [
              "35.38461538461539"
            ]
          },
          "metadata": {},
          "execution_count": 53
        }
      ],
      "source": [
        "statistics.mean(num)"
      ]
    },
    {
      "cell_type": "code",
      "execution_count": 54,
      "metadata": {
        "colab": {
          "base_uri": "https://localhost:8080/"
        },
        "id": "2JVT-iz0dZS6",
        "outputId": "38d3e7ff-e40a-46b3-cdea-6983ddcb2d07"
      },
      "outputs": [
        {
          "output_type": "execute_result",
          "data": {
            "text/plain": [
              "33.27272727272727"
            ]
          },
          "metadata": {},
          "execution_count": 54
        }
      ],
      "source": [
        "stats.trim_mean(num,0.1)"
      ]
    },
    {
      "cell_type": "code",
      "execution_count": 55,
      "metadata": {
        "colab": {
          "base_uri": "https://localhost:8080/"
        },
        "id": "1NUn70S4dZS7",
        "outputId": "5c796c62-32b3-4a38-90b5-1e24f2da2394"
      },
      "outputs": [
        {
          "output_type": "execute_result",
          "data": {
            "text/plain": [
              "366"
            ]
          },
          "metadata": {},
          "execution_count": 55
        }
      ],
      "source": [
        "90+78+43+34+34+21+18+15+14+12+7"
      ]
    },
    {
      "cell_type": "code",
      "execution_count": 56,
      "metadata": {
        "colab": {
          "base_uri": "https://localhost:8080/"
        },
        "id": "029JuderdZS7",
        "outputId": "07f641ec-9a97-47eb-ec10-db44e6db7643"
      },
      "outputs": [
        {
          "output_type": "execute_result",
          "data": {
            "text/plain": [
              "33.27272727272727"
            ]
          },
          "metadata": {},
          "execution_count": 56
        }
      ],
      "source": [
        "366/11"
      ]
    },
    {
      "cell_type": "code",
      "execution_count": 57,
      "metadata": {
        "id": "8e-o4EYBdZS7"
      },
      "outputs": [],
      "source": [
        "import matplotlib.pyplot as plt"
      ]
    },
    {
      "cell_type": "code",
      "execution_count": 58,
      "metadata": {
        "colab": {
          "base_uri": "https://localhost:8080/",
          "height": 296
        },
        "id": "ZQBsUksxdZS7",
        "outputId": "b41a7030-1929-436e-a833-0919d4262eb8"
      },
      "outputs": [
        {
          "output_type": "execute_result",
          "data": {
            "text/plain": [
              "Text(0.5, 0, 'xaxis')"
            ]
          },
          "metadata": {},
          "execution_count": 58
        },
        {
          "output_type": "display_data",
          "data": {
            "text/plain": [
              "<Figure size 432x288 with 1 Axes>"
            ],
            "image/png": "[encoded data removed]"
          },
          "metadata": {
            "needs_background": "light"
          }
        }
      ],
      "source": [
        "plt.plot([1,2,3,4])\n",
        "plt.ylabel(\"yaxis\")\n",
        "plt.xlabel(\"xaxis\")\n",
        "#python generates x values automatically if no y values are mentioned"
      ]
    },
    {
      "cell_type": "code",
      "execution_count": 59,
      "metadata": {
        "colab": {
          "base_uri": "https://localhost:8080/",
          "height": 296
        },
        "id": "JUWKggBWdZS7",
        "outputId": "d97f86b3-f203-41f1-953a-212ef68b04ec"
      },
      "outputs": [
        {
          "output_type": "execute_result",
          "data": {
            "text/plain": [
              "Text(0.5, 0, 'xaxis')"
            ]
          },
          "metadata": {},
          "execution_count": 59
        },
        {
          "output_type": "display_data",
          "data": {
            "text/plain": [
              "<Figure size 432x288 with 1 Axes>"
            ],
            "image/png": "[encoded data removed]"
          },
          "metadata": {
            "needs_background": "light"
          }
        }
      ],
      "source": [
        "#to pass x values use two lists as shown below\n",
        "\n",
        "plt.plot([1,2,3,4],[5,6,7,8])\n",
        "plt.ylabel(\"yaxis\")\n",
        "plt.xlabel(\"xaxis\")"
      ]
    },
    {
      "cell_type": "code",
      "execution_count": 60,
      "metadata": {
        "colab": {
          "base_uri": "https://localhost:8080/",
          "height": 296
        },
        "id": "jkxWToIwdZS8",
        "outputId": "f1c2a393-66a3-49b5-af96-c5345830142c"
      },
      "outputs": [
        {
          "output_type": "execute_result",
          "data": {
            "text/plain": [
              "Text(0.5, 0, 'xaxis')"
            ]
          },
          "metadata": {},
          "execution_count": 60
        },
        {
          "output_type": "display_data",
          "data": {
            "text/plain": [
              "<Figure size 432x288 with 1 Axes>"
            ],
            "image/png": "[encoded data removed]"
          },
          "metadata": {
            "needs_background": "light"
          }
        }
      ],
      "source": [
        "#to plot in red dots add argument \"ro\"\n",
        "\n",
        "plt.plot([1,2,3,4],[5,6,7,8],'ro')\n",
        "plt.ylabel('yaxis')\n",
        "plt.xlabel('xaxis')\n"
      ]
    },
    {
      "cell_type": "code",
      "execution_count": 61,
      "metadata": {
        "colab": {
          "base_uri": "https://localhost:8080/",
          "height": 296
        },
        "id": "dLhdKnZbdZS8",
        "outputId": "55104b30-1534-42fe-d32e-93192947fb08"
      },
      "outputs": [
        {
          "output_type": "execute_result",
          "data": {
            "text/plain": [
              "Text(0.5, 0, 'xaxis')"
            ]
          },
          "metadata": {},
          "execution_count": 61
        },
        {
          "output_type": "display_data",
          "data": {
            "text/plain": [
              "<Figure size 432x288 with 1 Axes>"
            ],
            "image/png": "[encoded data removed]"
          },
          "metadata": {
            "needs_background": "light"
          }
        }
      ],
      "source": [
        "##to plot in red dashes add argument \"r---\"\n",
        "\n",
        "\n",
        "plt.plot([1,2,3,4],[5,6,7,8],'r--')\n",
        "plt.ylabel('yaxis')\n",
        "plt.xlabel('xaxis')"
      ]
    },
    {
      "cell_type": "code",
      "execution_count": 62,
      "metadata": {
        "colab": {
          "base_uri": "https://localhost:8080/",
          "height": 296
        },
        "id": "eNO0xV7qdZS8",
        "outputId": "de2923b1-3c13-4a6d-efff-cf9c398a3630"
      },
      "outputs": [
        {
          "output_type": "execute_result",
          "data": {
            "text/plain": [
              "Text(0.5, 0, 'xaxis')"
            ]
          },
          "metadata": {},
          "execution_count": 62
        },
        {
          "output_type": "display_data",
          "data": {
            "text/plain": [
              "<Figure size 432x288 with 1 Axes>"
            ],
            "image/png": "[encoded data removed]"
          },
          "metadata": {
            "needs_background": "light"
          }
        }
      ],
      "source": [
        "##to plot in blue squares add argument \"bs\"\n",
        "\n",
        "\n",
        "plt.plot([1,2,3,4],[5,6,7,8],'bs')\n",
        "plt.ylabel('yaxis')\n",
        "plt.xlabel('xaxis')"
      ]
    },
    {
      "cell_type": "code",
      "execution_count": 63,
      "metadata": {
        "colab": {
          "base_uri": "https://localhost:8080/",
          "height": 296
        },
        "id": "hCaEtUiHdZS8",
        "outputId": "60733618-9e60-4469-a367-c645b5373948"
      },
      "outputs": [
        {
          "output_type": "execute_result",
          "data": {
            "text/plain": [
              "Text(0.5, 0, 'xaxis')"
            ]
          },
          "metadata": {},
          "execution_count": 63
        },
        {
          "output_type": "display_data",
          "data": {
            "text/plain": [
              "<Figure size 432x288 with 1 Axes>"
            ],
            "image/png": "[encoded data removed]"
          },
          "metadata": {
            "needs_background": "light"
          }
        }
      ],
      "source": [
        "##to plot in green triangles add argument \"g^\"\n",
        "\n",
        "\n",
        "plt.plot([1,2,3,4],[5,6,7,8],'g^')\n",
        "plt.ylabel('yaxis')\n",
        "plt.xlabel('xaxis')\n",
        "\n",
        "#for very x value there must be some y value other wise , python will take default random values on its own."
      ]
    },
    {
      "cell_type": "code",
      "execution_count": 64,
      "metadata": {
        "colab": {
          "base_uri": "https://localhost:8080/",
          "height": 282
        },
        "id": "9boVsHfndZS9",
        "outputId": "692f2aa2-60df-44e8-c4cc-efa1e9e49ed7"
      },
      "outputs": [
        {
          "output_type": "execute_result",
          "data": {
            "text/plain": [
              "[<matplotlib.lines.Line2D at 0x7f19ba536ad0>]"
            ]
          },
          "metadata": {},
          "execution_count": 64
        },
        {
          "output_type": "display_data",
          "data": {
            "text/plain": [
              "<Figure size 432x288 with 1 Axes>"
            ],
            "image/png": "[encoded data removed]"
          },
          "metadata": {
            "needs_background": "light"
          }
        }
      ],
      "source": [
        "guess = [1000,1010,1786,2000,1500,1500,100,120,150,150,150,170]\n",
        "y=[1,1,1,1,1,1,1,1,1,1,1,1]\n",
        "plt.plot(guess,y,\"g^\")"
      ]
    },
    {
      "cell_type": "code",
      "execution_count": 65,
      "metadata": {
        "colab": {
          "base_uri": "https://localhost:8080/",
          "height": 282
        },
        "id": "O27MadANdZS9",
        "outputId": "e180336e-b14c-42b9-f7ae-eb81e8a5065e"
      },
      "outputs": [
        {
          "output_type": "execute_result",
          "data": {
            "text/plain": [
              "[<matplotlib.lines.Line2D at 0x7f19ba442590>]"
            ]
          },
          "metadata": {},
          "execution_count": 65
        },
        {
          "output_type": "display_data",
          "data": {
            "text/plain": [
              "<Figure size 432x288 with 1 Axes>"
            ],
            "image/png": "[encoded data removed]"
          },
          "metadata": {
            "needs_background": "light"
          }
        }
      ],
      "source": [
        "guess = [1000,1010,1786,2000,1500,1500,100,120,150,150,150,170]\n",
        "#for y we need 13 values but we want to keep value of y for every x same. so we will start with empty list of y\n",
        "#fill it with 13 values by iterating it through the len of x(guess) list.this way we do not need to write 13 values\n",
        "#and can fill all 13 position with constant value.We can appen 5 13 times.\n",
        "y = []\n",
        "for i in range (len(guess)):\n",
        "    y.append(5)\n",
        "plt.plot(guess,y,'r--')"
      ]
    },
    {
      "cell_type": "code",
      "execution_count": 66,
      "metadata": {
        "id": "MZfDyAqzdZS9"
      },
      "outputs": [],
      "source": [
        "guess.sort()"
      ]
    },
    {
      "cell_type": "code",
      "execution_count": 67,
      "metadata": {
        "colab": {
          "base_uri": "https://localhost:8080/"
        },
        "id": "U2e9Dz2TdZS9",
        "outputId": "f6006c10-ec0b-45fa-bc77-9e4b0fd6ab22"
      },
      "outputs": [
        {
          "output_type": "execute_result",
          "data": {
            "text/plain": [
              "[100, 120, 150, 150, 150, 170, 1000, 1010, 1500, 1500, 1786, 2000]"
            ]
          },
          "metadata": {},
          "execution_count": 67
        }
      ],
      "source": [
        "guess"
      ]
    },
    {
      "cell_type": "code",
      "execution_count": 68,
      "metadata": {
        "colab": {
          "base_uri": "https://localhost:8080/"
        },
        "id": "gKzdlXUWdZS9",
        "outputId": "7eb383a9-9c5a-4e34-b9cc-6edf212a6b4e"
      },
      "outputs": [
        {
          "output_type": "execute_result",
          "data": {
            "text/plain": [
              "1"
            ]
          },
          "metadata": {},
          "execution_count": 68
        }
      ],
      "source": [
        "tv = int(0.1*(len(guess)))#find the no of values we need to trim\n",
        "tv"
      ]
    },
    {
      "cell_type": "code",
      "execution_count": 69,
      "metadata": {
        "colab": {
          "base_uri": "https://localhost:8080/"
        },
        "id": "Dtm8oyIsdZS-",
        "outputId": "44fb41e8-2d84-4dd8-de2e-d78c9d48796d"
      },
      "outputs": [
        {
          "output_type": "execute_result",
          "data": {
            "text/plain": [
              "[120, 150, 150, 150, 170, 1000, 1010, 1500, 1500, 1786]"
            ]
          },
          "metadata": {},
          "execution_count": 69
        }
      ],
      "source": [
        "# so we need to trim 1 values from guess as we are trimmi 10 percent.since TV is only one we use slicing by\n",
        "#indexing from 1 up to total values - 1 agaoin at the end\n",
        "\n",
        "guess = guess[tv:len(guess)-tv]\n",
        "guess"
      ]
    },
    {
      "cell_type": "code",
      "execution_count": 70,
      "metadata": {
        "colab": {
          "base_uri": "https://localhost:8080/"
        },
        "id": "mSiWs5ScdZS-",
        "outputId": "19e9f84f-fecf-4479-fee8-d38e08e10e56"
      },
      "outputs": [
        {
          "output_type": "execute_result",
          "data": {
            "text/plain": [
              "[150, 150, 150, 170, 1000, 1010, 1500, 1500, 1786]"
            ]
          },
          "metadata": {},
          "execution_count": 70
        }
      ],
      "source": [
        "guess[1:12]"
      ]
    },
    {
      "cell_type": "code",
      "execution_count": 71,
      "metadata": {
        "colab": {
          "base_uri": "https://localhost:8080/"
        },
        "id": "ZAb66tovdZS-",
        "outputId": "21062edd-60b8-44a7-e908-b8ad5ca98682"
      },
      "outputs": [
        {
          "output_type": "execute_result",
          "data": {
            "text/plain": [
              "585.0"
            ]
          },
          "metadata": {},
          "execution_count": 71
        }
      ],
      "source": [
        "import statistics as st\n",
        "st.median(guess)"
      ]
    },
    {
      "cell_type": "code",
      "execution_count": 72,
      "metadata": {
        "colab": {
          "base_uri": "https://localhost:8080/"
        },
        "id": "hE_HCOUqdZS-",
        "outputId": "4e0a6578-a154-4865-bfb3-b6565f61c1c3"
      },
      "outputs": [
        {
          "output_type": "execute_result",
          "data": {
            "text/plain": [
              "753.6"
            ]
          },
          "metadata": {},
          "execution_count": 72
        }
      ],
      "source": [
        "st.mean(guess)"
      ]
    },
    {
      "cell_type": "code",
      "execution_count": 73,
      "metadata": {
        "colab": {
          "base_uri": "https://localhost:8080/",
          "height": 282
        },
        "id": "cO-SDGxIdZS-",
        "outputId": "a1bd9841-989a-4222-a2d5-8aa9a3e955ac"
      },
      "outputs": [
        {
          "output_type": "execute_result",
          "data": {
            "text/plain": [
              "[<matplotlib.lines.Line2D at 0x7f19ba36c4d0>]"
            ]
          },
          "metadata": {},
          "execution_count": 73
        },
        {
          "output_type": "display_data",
          "data": {
            "text/plain": [
              "<Figure size 432x288 with 1 Axes>"
            ],
            "image/png": "[encoded data removed]"
          },
          "metadata": {
            "needs_background": "light"
          }
        }
      ],
      "source": [
        "Y = []\n",
        "for i in range (len(guess)):\n",
        "    Y.append(5)\n",
        "plt.plot(guess,Y,'r--')\n",
        "plt.plot(st.median(guess),5,'bs')\n",
        "plt.plot(st.mean(guess),5,'g^')"
      ]
    },
    {
      "cell_type": "code",
      "execution_count": 74,
      "metadata": {
        "colab": {
          "base_uri": "https://localhost:8080/"
        },
        "id": "EkY9pw0xdZS_",
        "outputId": "8d70199f-e923-4221-f3b6-7d5e21113264"
      },
      "outputs": [
        {
          "output_type": "execute_result",
          "data": {
            "text/plain": [
              "1"
            ]
          },
          "metadata": {},
          "execution_count": 74
        }
      ],
      "source": [
        "import random\n",
        "random.randint(1,5)"
      ]
    },
    {
      "cell_type": "code",
      "execution_count": 75,
      "metadata": {
        "colab": {
          "base_uri": "https://localhost:8080/"
        },
        "id": "jP3sv-SjdZS_",
        "outputId": "3138ade3-db2f-4e77-f65f-0f894f1cf92f"
      },
      "outputs": [
        {
          "output_type": "execute_result",
          "data": {
            "text/plain": [
              "1"
            ]
          },
          "metadata": {},
          "execution_count": 75
        }
      ],
      "source": [
        "random.randint(1,2)"
      ]
    },
    {
      "cell_type": "code",
      "execution_count": 76,
      "metadata": {
        "colab": {
          "base_uri": "https://localhost:8080/"
        },
        "id": "4O2C9svEdZS_",
        "outputId": "c80b9837-ceed-442f-bb6a-4729743c9889"
      },
      "outputs": [
        {
          "output_type": "execute_result",
          "data": {
            "text/plain": [
              "4"
            ]
          },
          "metadata": {},
          "execution_count": 76
        }
      ],
      "source": [
        "random.randrange(1,9)"
      ]
    },
    {
      "cell_type": "code",
      "execution_count": 77,
      "metadata": {
        "colab": {
          "base_uri": "https://localhost:8080/"
        },
        "id": "o_vjAThkdZTA",
        "outputId": "94435613-a245-45c9-d877-f39d8dc8133a"
      },
      "outputs": [
        {
          "output_type": "execute_result",
          "data": {
            "text/plain": [
              "80"
            ]
          },
          "metadata": {},
          "execution_count": 77
        }
      ],
      "source": [
        "random.randint(-100,100)"
      ]
    },
    {
      "cell_type": "code",
      "execution_count": 78,
      "metadata": {
        "colab": {
          "base_uri": "https://localhost:8080/"
        },
        "id": "HGfCSFqadZTA",
        "outputId": "3bc0774b-985f-4cb6-b456-a6d0664432af"
      },
      "outputs": [
        {
          "output_type": "execute_result",
          "data": {
            "text/plain": [
              "778"
            ]
          },
          "metadata": {},
          "execution_count": 78
        }
      ],
      "source": [
        "random.randrange(1110)"
      ]
    },
    {
      "cell_type": "code",
      "execution_count": 79,
      "metadata": {
        "colab": {
          "base_uri": "https://localhost:8080/"
        },
        "id": "y2AWH4M4dZTA",
        "outputId": "ed8c1598-3ff1-4cfc-bd90-2ca290743cf5"
      },
      "outputs": [
        {
          "output_type": "execute_result",
          "data": {
            "text/plain": [
              "0.6472961291415628"
            ]
          },
          "metadata": {},
          "execution_count": 79
        }
      ],
      "source": [
        "random.random()"
      ]
    },
    {
      "cell_type": "code",
      "execution_count": 80,
      "metadata": {
        "colab": {
          "base_uri": "https://localhost:8080/"
        },
        "id": "ybTpwMZddZTB",
        "outputId": "bd4f8351-8c1e-4116-d3a0-ea6780f76086"
      },
      "outputs": [
        {
          "output_type": "execute_result",
          "data": {
            "text/plain": [
              "17"
            ]
          },
          "metadata": {},
          "execution_count": 80
        }
      ],
      "source": [
        "random.randrange(1,28,2) #only generate odd numbers"
      ]
    },
    {
      "cell_type": "code",
      "execution_count": 81,
      "metadata": {
        "colab": {
          "base_uri": "https://localhost:8080/"
        },
        "id": "w5h3JhsEdZTB",
        "outputId": "c50af2e4-77b8-42bd-dfcd-b930ac0c97a2"
      },
      "outputs": [
        {
          "output_type": "execute_result",
          "data": {
            "text/plain": [
              "16"
            ]
          },
          "metadata": {},
          "execution_count": 81
        }
      ],
      "source": [
        "random.randrange(2,28,2)#only generatre even numbers"
      ]
    },
    {
      "cell_type": "code",
      "execution_count": 82,
      "metadata": {
        "colab": {
          "base_uri": "https://localhost:8080/"
        },
        "id": "511IMxchdZTB",
        "outputId": "d50bb633-a551-4ffd-c420-5f9d9de3f7ba"
      },
      "outputs": [
        {
          "output_type": "execute_result",
          "data": {
            "text/plain": [
              "7"
            ]
          },
          "metadata": {},
          "execution_count": 82
        }
      ],
      "source": [
        "random.choice([1,2,3,4,5,6,6,7,7,7,8,8,9,10])"
      ]
    },
    {
      "cell_type": "code",
      "execution_count": 83,
      "metadata": {
        "id": "xfOFSKUTdZTC"
      },
      "outputs": [],
      "source": [
        "import random"
      ]
    },
    {
      "cell_type": "code",
      "execution_count": 84,
      "metadata": {
        "id": "nizWtOnrdZTC"
      },
      "outputs": [],
      "source": [
        "def pick_words():\n",
        "    words = ['rainbow','computer','science',\"business\",\"statistics\",\"general\",\"english\",\"objective\",\"discretee\",\"public\",\"administration\",\"Aerodynamics\" 'ce','programming','mathematics','player','condition',\n",
        "             'reverse','water','board']\n",
        "    pick = random.choice(words)\n",
        "    return pick"
      ]
    },
    {
      "cell_type": "code",
      "execution_count": 85,
      "metadata": {
        "id": "3d4RLMHLdZTC"
      },
      "outputs": [],
      "source": [
        "def jumble_words(word):\n",
        "    jumbled = \"\".join(random.sample(word,len(word)))\n",
        "    return jumbled"
      ]
    },
    {
      "cell_type": "code",
      "execution_count": 86,
      "metadata": {
        "colab": {
          "base_uri": "https://localhost:8080/"
        },
        "id": "t569M9b5dZTC",
        "outputId": "752644ef-9ef5-4f9d-8711-754e6c5600b8"
      },
      "outputs": [
        {
          "output_type": "stream",
          "name": "stdout",
          "text": [
            "elnrgae\n",
            "general\n",
            "noirmggmrpa\n",
            "programming\n",
            "aAnrdosyeciemc\n",
            "Aerodynamicsce\n",
            "tinnamiatoidsr\n",
            "administration\n",
            "iamirttdinsona\n",
            "administration\n",
            "oeAsccaymeindr\n",
            "Aerodynamicsce\n",
            "neyiaoscArmcde\n",
            "Aerodynamicsce\n",
            "yrleap\n",
            "player\n",
            "eveesrr\n",
            "reverse\n",
            "ammtcsaheit\n",
            "mathematics\n"
          ]
        }
      ],
      "source": [
        "for i in range(10):\n",
        "    y = pick_words()\n",
        "    print(jumble_words(y))\n",
        "    print(y)"
      ]
    },
    {
      "cell_type": "code",
      "execution_count": 87,
      "metadata": {
        "colab": {
          "base_uri": "https://localhost:8080/"
        },
        "id": "D-6FYZp2dZTD",
        "outputId": "39311cf0-1d9b-4b32-bc53-35c7a76c4d2d"
      },
      "outputs": [
        {
          "output_type": "stream",
          "name": "stdout",
          "text": [
            "player number one please state your nameAS\n",
            "player number two please state your nameBS\n",
            "player 1, please guess the word,\n",
            "mctamseatih\n",
            "Please enter the responseksjksda\n",
            "Thats wrong answer,the actual word is mathematics\n",
            "press any key to continue , n to stop\n",
            "player2 , please guess the word\n",
            "tsaoinidtanrmi\n",
            "Please enter the responseksajhdkjsadsadsa\n",
            "Thats wrong answer,the actual word is administration\n",
            "press any key to continue , n to stopn\n",
            "AS ur score is  0\n",
            "BS ur score is 0\n",
            "Thanks for playing.\n"
          ]
        }
      ],
      "source": [
        "import random\n",
        "\n",
        "def select():\n",
        "    words = ['rainbow','computer','science',\"business\",\"statistics\",\"general\",\"english\",\"objective\",\"discretee\",\"public\",\"administration\",\"Aerodynamics\" 'ce','programming','mathematics','player','condition',\n",
        "             'reverse','water','board']\n",
        "    pick = random.choice(words)\n",
        "    return pick\n",
        "def jumble(word):\n",
        "    jumbled = \"\".join(random.sample(word,len(word)))\n",
        "    return jumbled\n",
        "def thanks(p1,p2,ps1,ps2):\n",
        "    print(p1,\"ur score is \",ps1)\n",
        "    print(p2,\"ur score is\",ps2)\n",
        "    print(\"Thanks for playing.\")\n",
        "    \n",
        "def play ():\n",
        "    p1 = input('player number one please state your name')\n",
        "    p2 = input (\"player number two please state your name\")\n",
        "    ps1 = 0\n",
        "    ps2 = 0\n",
        "    turn = 0\n",
        "    while(1):\n",
        "        if turn%2 == 0:\n",
        "            print(\"player 1, please guess the word,\")\n",
        "            picked_word = select()\n",
        "            Q1 = jumble(picked_word)\n",
        "            print (Q1)\n",
        "            ans = input(\"Please enter the response\")\n",
        "            if ans == picked_word:\n",
        "                ps1 = ps1+1\n",
        "                print(\"your score is\",ps1)\n",
        "            else:\n",
        "                print(\"Thats wrong answer,the actual word is\", picked_word)\n",
        "            c = input(\"press any key to continue , n to stop\")\n",
        "            if c == \"n\":\n",
        "                thanks(p1,p2,ps1,ps2)\n",
        "                break\n",
        "        else:\n",
        "            print(\"player2 , please guess the word\")\n",
        "            picked_word = select()\n",
        "            Q1 = jumble(picked_word)\n",
        "            print(Q1)\n",
        "            ans = input(\"Please enter the response\")\n",
        "            if ans == picked_word:\n",
        "                ps2 = ps2+1\n",
        "                print(\"your score is\",ps2)\n",
        "            else:\n",
        "                print(\"Thats wrong answer,the actual word is\", picked_word)\n",
        "            c = input(\"press any key to continue , n to stop\")\n",
        "            if c == \"n\":\n",
        "                thanks(p1,p2,ps1,ps2)\n",
        "                break\n",
        "                \n",
        "                \n",
        "        turn = turn+1\n",
        "play()"
      ]
    },
    {
      "cell_type": "code",
      "source": [],
      "metadata": {
        "id": "No3bt9X6eDdT"
      },
      "execution_count": null,
      "outputs": []
    },
    {
      "cell_type": "code",
      "execution_count": 88,
      "metadata": {
        "colab": {
          "base_uri": "https://localhost:8080/"
        },
        "id": "hneUzc4sdZTD",
        "outputId": "44dd4737-0563-4cbb-958a-b0ca359d88a4"
      },
      "outputs": [
        {
          "output_type": "stream",
          "name": "stdout",
          "text": [
            "Player number 1 ,please enter your nameast\n",
            "Player number 2 ,please enter your namebst\n",
            "ast Please rearrange the word with right spelling \n",
            "tmemacahsit\n",
            ",mdns\n",
            "This is the wrong answer and right combination is mathematics\n",
            "press s to stop , any other key to continues\n",
            "ast ur score is  0\n",
            "bst ur score is 0\n",
            "Thanks for playing.\n"
          ]
        }
      ],
      "source": [
        "import random\n",
        "\n",
        "def choose():\n",
        "    words = ['rainbow','computer','science',\"business\",\"statistics\",\"general\",\"english\",\"objective\",\"discretee\",\"public\",\"administration\",\"Aerodynamics\" 'ce','programming','mathematics','player','condition',\n",
        "             'reverse','water','board']\n",
        "    pick = random.choice(words)\n",
        "    return pick\n",
        "\n",
        "def jumble(word):\n",
        "    jumbled = \"\".join(random.sample(word,len(word)))\n",
        "    return jumbled\n",
        "\n",
        "def thank(p1,p2,ps1,ps2):\n",
        "    print(\"Thanks for playing\")\n",
        "    print(p1,\"ur score is \",ps1)\n",
        "    print(p2,\"ur score is\",ps2)\n",
        "    \n",
        "def play():\n",
        "    p1 = input(\"Player number 1 ,please enter your name\")\n",
        "    p2 = input (\"Player number 2 ,please enter your name\")\n",
        "    ps1 = 0\n",
        "    ps2 = 0\n",
        "    turn = 0\n",
        "    \n",
        "    while(1):\n",
        "        if turn%2 ==0:\n",
        "            print(p1,\"Please rearrange the word with right spelling \")\n",
        "            select = choose()\n",
        "            jumbled = jumble(select)\n",
        "            print(jumbled)\n",
        "            ans = input()\n",
        "            if ans == select:\n",
        "                ps1 = ps1+1\n",
        "                print(p1,\"your score is \",ps1)\n",
        "            else:\n",
        "                print(\"This is the wrong answer and right combination is\",select)\n",
        "            c =input(\"press s to stop , any other key to continue\")\n",
        "            if c == \"s\":\n",
        "                thanks(p1,p2,ps1,ps2)\n",
        "                break\n",
        "        else:\n",
        "            print(p2,\"Please rearrange the word with right spelling \")\n",
        "            select = choose()\n",
        "            jumbled = jumble(select)\n",
        "            print(jumbled)\n",
        "            ans = input()\n",
        "            if ans == select:\n",
        "                ps2 = ps2+1\n",
        "                print(p2,\"your score is \",ps2)\n",
        "            else:\n",
        "                print(\"This is the wrong answer and right combination is\",select)\n",
        "            c =input(\"press s to stop , any other key to continue\")\n",
        "            if c == \"s\":\n",
        "                thanks(p1,p2,ps1,ps2)\n",
        "                break\n",
        "        turn = turn+1\n",
        "play()"
      ]
    },
    {
      "cell_type": "code",
      "execution_count": 89,
      "metadata": {
        "colab": {
          "base_uri": "https://localhost:8080/"
        },
        "id": "lp_t9YvEdZTE",
        "outputId": "77ba9529-2d18-4e98-9761-120cc74386da"
      },
      "outputs": [
        {
          "output_type": "execute_result",
          "data": {
            "text/plain": [
              "5"
            ]
          },
          "metadata": {},
          "execution_count": 89
        }
      ],
      "source": [
        "10//2"
      ]
    },
    {
      "cell_type": "code",
      "execution_count": 90,
      "metadata": {
        "colab": {
          "base_uri": "https://localhost:8080/"
        },
        "id": "csDGOSQJdZTE",
        "outputId": "2ecde11c-acee-4bbc-f018-2dcd08298692"
      },
      "outputs": [
        {
          "output_type": "execute_result",
          "data": {
            "text/plain": [
              "5.0"
            ]
          },
          "metadata": {},
          "execution_count": 90
        }
      ],
      "source": [
        "10/2"
      ]
    },
    {
      "cell_type": "code",
      "execution_count": 91,
      "metadata": {
        "colab": {
          "base_uri": "https://localhost:8080/"
        },
        "id": "pv6GN7p0dZTF",
        "outputId": "ec4043fc-196d-4d27-819c-a56a2787c1b5"
      },
      "outputs": [
        {
          "output_type": "execute_result",
          "data": {
            "text/plain": [
              "5.5"
            ]
          },
          "metadata": {},
          "execution_count": 91
        }
      ],
      "source": [
        "11/2"
      ]
    },
    {
      "cell_type": "code",
      "execution_count": 92,
      "metadata": {
        "colab": {
          "base_uri": "https://localhost:8080/"
        },
        "id": "MU3OzSEDdZTF",
        "outputId": "8be0d47e-866f-4280-835f-e3fb392785d1"
      },
      "outputs": [
        {
          "output_type": "execute_result",
          "data": {
            "text/plain": [
              "5"
            ]
          },
          "metadata": {},
          "execution_count": 92
        }
      ],
      "source": [
        "11//2"
      ]
    },
    {
      "cell_type": "code",
      "execution_count": 93,
      "metadata": {
        "colab": {
          "base_uri": "https://localhost:8080/"
        },
        "id": "DyWWPnCddZTF",
        "outputId": "817bcaf0-af6a-4faf-808b-35f2844a0af9"
      },
      "outputs": [
        {
          "output_type": "execute_result",
          "data": {
            "text/plain": [
              "1"
            ]
          },
          "metadata": {},
          "execution_count": 93
        }
      ],
      "source": [
        "11%2"
      ]
    },
    {
      "cell_type": "code",
      "execution_count": 94,
      "metadata": {
        "colab": {
          "base_uri": "https://localhost:8080/"
        },
        "id": "2CPpsVrOdZTG",
        "outputId": "24bb4d4c-133f-4a63-aae1-dac8b16f5d52"
      },
      "outputs": [
        {
          "output_type": "execute_result",
          "data": {
            "text/plain": [
              "0"
            ]
          },
          "metadata": {},
          "execution_count": 94
        }
      ],
      "source": [
        "9%9"
      ]
    },
    {
      "cell_type": "code",
      "execution_count": 95,
      "metadata": {
        "colab": {
          "base_uri": "https://localhost:8080/"
        },
        "id": "kKL47G_EdZTG",
        "outputId": "4d4a704b-76cd-4809-acd7-c408b18cbe01"
      },
      "outputs": [
        {
          "output_type": "stream",
          "name": "stdout",
          "text": [
            "2\n",
            "3\n",
            "5\n",
            "7\n",
            "11\n",
            "13\n"
          ]
        }
      ],
      "source": [
        "for n in range (1,15):\n",
        "    if n >1 :\n",
        "        for i in range(2,n):\n",
        "            if n%i ==0:\n",
        "                break\n",
        "        else:\n",
        "            print(n)"
      ]
    },
    {
      "cell_type": "code",
      "execution_count": 96,
      "metadata": {
        "colab": {
          "base_uri": "https://localhost:8080/"
        },
        "id": "obgGJB0udZTG",
        "outputId": "d5a47168-78be-4e0f-9c4a-104b7c58a691"
      },
      "outputs": [
        {
          "output_type": "stream",
          "name": "stdout",
          "text": [
            "please enter the number u want factor of34\n",
            "factors of 34 are [1, 2, 17, 34]\n"
          ]
        }
      ],
      "source": [
        "n = input(\"please enter the number u want factor of\")\n",
        "n = int(n)\n",
        "l = []\n",
        "for i in range (1,n+1):\n",
        "    if n%i == 0:\n",
        "        l.append(i)\n",
        "print(\"factors of\",n,\"are\",l)"
      ]
    },
    {
      "cell_type": "code",
      "execution_count": 97,
      "metadata": {
        "colab": {
          "base_uri": "https://localhost:8080/"
        },
        "id": "lU_6A1b5dZTG",
        "outputId": "a68812f7-1bd8-4f0a-cd3b-16b04f0aaef2"
      },
      "outputs": [
        {
          "output_type": "stream",
          "name": "stdout",
          "text": [
            "Please enter the number you want to check19\n",
            "19 is a prime number\n"
          ]
        }
      ],
      "source": [
        "def factor(n) :\n",
        "    y =[]\n",
        "    for i in range(2,n):\n",
        "        if n%i ==0:\n",
        "            y.append(i)\n",
        "    print(n,\"is not a prime number and factors of\",n,\"are\",y)\n",
        "\n",
        "n = input(\"Please enter the number you want to check\")\n",
        "n = int(n)\n",
        "if n > 1 :\n",
        "    for i in range (2,n):\n",
        "        if n % i == 0:\n",
        "            print(factor(n))\n",
        "            break\n",
        "    else:\n",
        "        print(n,\"is a prime number\")\n",
        "else:\n",
        "    print(n,\"is not a prime number but unity\")"
      ]
    },
    {
      "cell_type": "code",
      "execution_count": 98,
      "metadata": {
        "colab": {
          "base_uri": "https://localhost:8080/"
        },
        "id": "ujfUd6aUdZTH",
        "outputId": "c5865925-9d82-4024-c2c5-ab75cf0c0e55"
      },
      "outputs": [
        {
          "output_type": "stream",
          "name": "stdout",
          "text": [
            "Please enter the number you want to check123\n",
            "123 is not a prime number and factors of 123 are [3, 41]\n",
            "None\n",
            "Press any key to continue , press s to stop\n",
            "Please enter the number you want to check177\n",
            "177 is not a prime number and factors of 177 are [3, 59]\n",
            "None\n",
            "Press any key to continue , press s to stop173\n",
            "Please enter the number you want to check173\n",
            "173 is a prime number as it is divisible by  1 and itself\n",
            "Press any key to continue , press s to stops\n",
            "Thanks for using our tool\n"
          ]
        }
      ],
      "source": [
        "def factor(p) :\n",
        "    j =[]\n",
        "    for i in range(2,p):\n",
        "        if p%i ==0:\n",
        "            j.append(i)\n",
        "    print(p,\"is not a prime number and factors of\",p,\"are\",j)\n",
        "    \n",
        "while(1):\n",
        "    p = input(\"Please enter the number you want to check\")\n",
        "    p = int(p)\n",
        "    if p > 1 :\n",
        "        for i in range (2,p):\n",
        "            if p % i == 0:\n",
        "                print(factor(p))\n",
        "                break\n",
        "  \n",
        "        else:\n",
        "            print(p,\"is a prime number as it is divisible by  1 and itself\")\n",
        "    else:\n",
        "        print(p,\"is not a prime number but unity\")\n",
        "    \n",
        "    c = input(\"Press any key to continue , press s to stop\")\n",
        "    if c == \"s\":\n",
        "        print(\"Thanks for using our tool\")\n",
        "        break"
      ]
    },
    {
      "cell_type": "code",
      "execution_count": 99,
      "metadata": {
        "colab": {
          "base_uri": "https://localhost:8080/",
          "height": 183
        },
        "id": "cK4spOnUdZTH",
        "outputId": "f7dd552d-0bd0-45e2-c4d2-5f1fce7ef577"
      },
      "outputs": [
        {
          "output_type": "error",
          "ename": "FileNotFoundError",
          "evalue": "ignored",
          "traceback": [
            "\u001b[0;31m---------------------------------------------------------------------------\u001b[0m",
            "\u001b[0;31mFileNotFoundError\u001b[0m                         Traceback (most recent call last)",
            "\u001b[0;32m<ipython-input-99-370aa02c0fe5>\u001b[0m in \u001b[0;36m<module>\u001b[0;34m\u001b[0m\n\u001b[0;32m----> 1\u001b[0;31m \u001b[0;32mwith\u001b[0m \u001b[0mopen\u001b[0m \u001b[0;34m(\u001b[0m\u001b[0;34m\"dna.txt\"\u001b[0m\u001b[0;34m)\u001b[0m \u001b[0;32mas\u001b[0m \u001b[0mtestfile\u001b[0m\u001b[0;34m:\u001b[0m\u001b[0;34m\u001b[0m\u001b[0;34m\u001b[0m\u001b[0m\n\u001b[0m\u001b[1;32m      2\u001b[0m     \u001b[0mprint\u001b[0m\u001b[0;34m(\u001b[0m\u001b[0mtestfile\u001b[0m\u001b[0;34m.\u001b[0m\u001b[0mread\u001b[0m\u001b[0;34m(\u001b[0m\u001b[0;34m)\u001b[0m\u001b[0;34m)\u001b[0m\u001b[0;34m\u001b[0m\u001b[0;34m\u001b[0m\u001b[0m\n",
            "\u001b[0;31mFileNotFoundError\u001b[0m: [Errno 2] No such file or directory: 'dna.txt'"
          ]
        }
      ],
      "source": [
        "with open (\"dna.txt\") as testfile:\n",
        "    print(testfile.read())"
      ]
    },
    {
      "cell_type": "code",
      "execution_count": null,
      "metadata": {
        "id": "McxnQWKjdZTH"
      },
      "outputs": [],
      "source": [
        "#to edit the same file u need to open it in read and write mode\n",
        "\n",
        "with open (\"dna.txt\",\"r+\") as testfile:\n",
        "    print(testfile.read())\n",
        "    testfile.write(\"10101010\")\n",
        "testfile.close()"
      ]
    },
    {
      "cell_type": "code",
      "execution_count": null,
      "metadata": {
        "id": "lQBzVds1dZTI"
      },
      "outputs": [],
      "source": [
        "with open(\"dna.txt\") as newfile:\n",
        "    print(newfile.read())"
      ]
    },
    {
      "cell_type": "code",
      "execution_count": null,
      "metadata": {
        "id": "wrun3ki6dZTI"
      },
      "outputs": [],
      "source": [
        "random.randint(-100,100)"
      ]
    },
    {
      "cell_type": "code",
      "execution_count": null,
      "metadata": {
        "id": "O98khcc1dZTI"
      },
      "outputs": [],
      "source": [
        "random.randrange(1,5)"
      ]
    },
    {
      "cell_type": "code",
      "execution_count": null,
      "metadata": {
        "id": "eeJfOI-udZTI"
      },
      "outputs": [],
      "source": [
        "random.random()"
      ]
    },
    {
      "cell_type": "code",
      "execution_count": null,
      "metadata": {
        "id": "dgRGlngrdZTI"
      },
      "outputs": [],
      "source": [
        "random.randrange(2,9,2)"
      ]
    },
    {
      "cell_type": "code",
      "execution_count": null,
      "metadata": {
        "id": "qfcnCXBodZTJ"
      },
      "outputs": [],
      "source": [
        "random.choices([\"name\",\"age\",\"height\",\"weight\",\"address\"])"
      ]
    },
    {
      "cell_type": "code",
      "execution_count": null,
      "metadata": {
        "id": "KYSn5fE2dZTJ"
      },
      "outputs": [],
      "source": [
        "y = random.seed()"
      ]
    },
    {
      "cell_type": "code",
      "execution_count": null,
      "metadata": {
        "id": "VRzmtsF4dZTJ"
      },
      "outputs": [],
      "source": [
        "print(y)"
      ]
    },
    {
      "cell_type": "code",
      "execution_count": null,
      "metadata": {
        "id": "hByjblJXdZTJ"
      },
      "outputs": [],
      "source": [
        "def evolve(x):\n",
        "    ind = random.randint(1,len(x)-1)\n",
        "    z= random.randint(1,100)\n",
        "    print(z)\n",
        "    if (z== 1):\n",
        "        if (x[ind]==0):\n",
        "            x[ind]==1\n",
        "        else:\n",
        "            x[ind]==0"
      ]
    },
    {
      "cell_type": "code",
      "execution_count": null,
      "metadata": {
        "id": "y1f1tmVudZTJ"
      },
      "outputs": [],
      "source": [
        "with open (\"dna.txt\") as dnafile:\n",
        "    x = dnafile.read()\n",
        "    x= list(x)\n",
        "    print(x)\n",
        "for i in range (0,10000):\n",
        "    evolve(x)\n",
        "print(x)"
      ]
    },
    {
      "cell_type": "code",
      "execution_count": 100,
      "metadata": {
        "colab": {
          "base_uri": "https://localhost:8080/"
        },
        "id": "rInDj9iNdZTK",
        "outputId": "7c25b570-af21-4a8d-9fb0-80f10d35000b"
      },
      "outputs": [
        {
          "output_type": "stream",
          "name": "stdout",
          "text": [
            "21\n"
          ]
        }
      ],
      "source": [
        "print(x)"
      ]
    },
    {
      "cell_type": "code",
      "execution_count": 101,
      "metadata": {
        "colab": {
          "base_uri": "https://localhost:8080/"
        },
        "id": "tCQQJ6XkdZTK",
        "outputId": "c719fe4b-a221-436f-97a3-4dd82c7a1593"
      },
      "outputs": [
        {
          "output_type": "execute_result",
          "data": {
            "text/plain": [
              "9.5"
            ]
          },
          "metadata": {},
          "execution_count": 101
        }
      ],
      "source": [
        "19/2"
      ]
    },
    {
      "cell_type": "code",
      "execution_count": 102,
      "metadata": {
        "colab": {
          "base_uri": "https://localhost:8080/"
        },
        "id": "ErnSLq3-dZTK",
        "outputId": "17ac0a0f-a997-4048-97a0-969c5aa56c22"
      },
      "outputs": [
        {
          "output_type": "execute_result",
          "data": {
            "text/plain": [
              "9"
            ]
          },
          "metadata": {},
          "execution_count": 102
        }
      ],
      "source": [
        "19//2"
      ]
    },
    {
      "cell_type": "code",
      "execution_count": 103,
      "metadata": {
        "id": "Zmj9sgjOdZTK"
      },
      "outputs": [],
      "source": [
        "import numpy as np"
      ]
    },
    {
      "cell_type": "code",
      "execution_count": 104,
      "metadata": {
        "id": "QLMcN3H7dZTK"
      },
      "outputs": [],
      "source": [
        "def magic_square(n):\n",
        "    magicsquare = []\n",
        "    for i in range(n):\n",
        "        l = []\n",
        "        for j in range(n):\n",
        "            l.append(0)\n",
        "        magicsquare.append(l)\n",
        "        \n",
        "    \n",
        "            "
      ]
    },
    {
      "cell_type": "code",
      "execution_count": 105,
      "metadata": {
        "colab": {
          "base_uri": "https://localhost:8080/"
        },
        "id": "CyiHbALDdZTL",
        "outputId": "5e166d48-fdb8-479c-9a1a-189690dfee80"
      },
      "outputs": [
        {
          "output_type": "stream",
          "name": "stdout",
          "text": [
            "None\n"
          ]
        }
      ],
      "source": [
        "y = print(magic_square(3))\n",
        "y"
      ]
    },
    {
      "cell_type": "code",
      "execution_count": 106,
      "metadata": {
        "id": "wISfZILqdZTL"
      },
      "outputs": [],
      "source": [
        "x = np.zeros((3, 3))"
      ]
    },
    {
      "cell_type": "code",
      "execution_count": 107,
      "metadata": {
        "colab": {
          "base_uri": "https://localhost:8080/"
        },
        "id": "7FBIafesdZTL",
        "outputId": "0aa0029f-5f7b-447a-b604-dc092fdf9c4b"
      },
      "outputs": [
        {
          "output_type": "execute_result",
          "data": {
            "text/plain": [
              "array([[0., 0., 0.],\n",
              "       [0., 0., 0.],\n",
              "       [0., 0., 0.]])"
            ]
          },
          "metadata": {},
          "execution_count": 107
        }
      ],
      "source": [
        "x"
      ]
    },
    {
      "cell_type": "code",
      "execution_count": 108,
      "metadata": {
        "id": "Jnqf7kW-dZTL"
      },
      "outputs": [],
      "source": [
        "def magic_square(n):\n",
        "    magicsquare=[]\n",
        "    for i in range(n):\n",
        "        l = []\n",
        "        for j in range(n):\n",
        "            l.append(0)\n",
        "        magicsquare.append(l)\n",
        "    for i in range(n):\n",
        "        for j in range(n):\n",
        "            print(magicsquare[i][j],end =\"\")\n",
        "        print()"
      ]
    },
    {
      "cell_type": "code",
      "execution_count": 109,
      "metadata": {
        "colab": {
          "base_uri": "https://localhost:8080/"
        },
        "id": "7lN5w1zBdZTL",
        "outputId": "afba89d3-09de-4d09-aa64-a45c59f14149"
      },
      "outputs": [
        {
          "output_type": "stream",
          "name": "stdout",
          "text": [
            "00000\n",
            "00000\n",
            "00000\n",
            "00000\n",
            "00000\n"
          ]
        }
      ],
      "source": [
        "magic_square(5)"
      ]
    },
    {
      "cell_type": "code",
      "execution_count": 110,
      "metadata": {
        "id": "VON_-xetdZTM"
      },
      "outputs": [],
      "source": [
        "magic = [[0 for i in range (3)]for j in range (3)]"
      ]
    },
    {
      "cell_type": "code",
      "execution_count": 111,
      "metadata": {
        "colab": {
          "base_uri": "https://localhost:8080/"
        },
        "id": "BcbSioRXdZTM",
        "outputId": "188605bd-5513-4636-ac0d-3d492144f518"
      },
      "outputs": [
        {
          "output_type": "execute_result",
          "data": {
            "text/plain": [
              "[[0, 0, 0], [0, 0, 0], [0, 0, 0]]"
            ]
          },
          "metadata": {},
          "execution_count": 111
        }
      ],
      "source": [
        "magic"
      ]
    },
    {
      "cell_type": "code",
      "execution_count": 112,
      "metadata": {
        "id": "hbikB7OddZTM"
      },
      "outputs": [],
      "source": [
        "def magic_square(n):\n",
        "    magicsquare=[]\n",
        "    for i in range(n):\n",
        "        l = []\n",
        "        for j in range(n):\n",
        "            l.append(0)\n",
        "        magicsquare.append(l)\n",
        "    i = n//2\n",
        "    j = n-1\n",
        "    \n",
        "    num = n*n\n",
        "    count = 1\n",
        "    \n",
        "    while (count<=num):\n",
        "        if (i==-1 and j==n):\n",
        "            j = n-2\n",
        "            i = 0\n",
        "        else:\n",
        "            if (j == n):\n",
        "                j = 0\n",
        "            if (i<0):\n",
        "                i = n-1\n",
        "        if(magicsquare[i][j]!=0):\n",
        "            j = j-2\n",
        "            i = i+1\n",
        "            continue\n",
        "        else:\n",
        "            magicsquare[i][j]=count\n",
        "            count+=1\n",
        "            \n",
        "        i = i-1\n",
        "        j = j+1\n",
        "        \n",
        "    for i in range(n):\n",
        "        for j in range(n):\n",
        "            print(magicsquare[i][j], end=\" \")\n",
        "        print()\n",
        "    print(\"the sum of each row/column/diagonal is:\",(n*(n**2+1)/2))\n",
        "    \n"
      ]
    },
    {
      "cell_type": "code",
      "execution_count": 113,
      "metadata": {
        "colab": {
          "base_uri": "https://localhost:8080/"
        },
        "id": "EU6VI4ICdZTM",
        "outputId": "b0ff8520-17fb-4932-a38c-c20b8b7be7a6"
      },
      "outputs": [
        {
          "output_type": "stream",
          "name": "stdout",
          "text": [
            "2 7 6 \n",
            "9 5 1 \n",
            "4 3 8 \n",
            "the sum of each row/column/diagonal is: 15.0\n"
          ]
        }
      ],
      "source": [
        "magic_square(3)"
      ]
    },
    {
      "cell_type": "code",
      "execution_count": 114,
      "metadata": {
        "colab": {
          "base_uri": "https://localhost:8080/"
        },
        "id": "sOLt09VSdZTM",
        "outputId": "c70bdafa-e6b6-4b3e-89ba-4c61eafb258d"
      },
      "outputs": [
        {
          "output_type": "stream",
          "name": "stdout",
          "text": [
            "9 3 22 16 15 \n",
            "2 21 20 14 8 \n",
            "25 19 13 7 1 \n",
            "18 12 6 5 24 \n",
            "11 10 4 23 17 \n",
            "the sum of each row/column/diagonal is: 65.0\n"
          ]
        }
      ],
      "source": [
        "magic_square(5)"
      ]
    },
    {
      "cell_type": "code",
      "execution_count": 115,
      "metadata": {
        "colab": {
          "base_uri": "https://localhost:8080/"
        },
        "id": "FJxpD8ZQdZTN",
        "outputId": "c67bb3be-701f-4e52-c28b-76f6d06eb9a9"
      },
      "outputs": [
        {
          "output_type": "stream",
          "name": "stdout",
          "text": [
            "20 12 4 45 37 29 28 \n",
            "11 3 44 36 35 27 19 \n",
            "2 43 42 34 26 18 10 \n",
            "49 41 33 25 17 9 1 \n",
            "40 32 24 16 8 7 48 \n",
            "31 23 15 14 6 47 39 \n",
            "22 21 13 5 46 38 30 \n",
            "the sum of each row/column/diagonal is: 175.0\n"
          ]
        }
      ],
      "source": [
        "magic_square(7)"
      ]
    },
    {
      "cell_type": "code",
      "execution_count": 116,
      "metadata": {
        "colab": {
          "base_uri": "https://localhost:8080/"
        },
        "id": "CqPNRmDAdZTN",
        "outputId": "b1470615-7bbd-4681-92fe-3df17b7dbd18"
      },
      "outputs": [
        {
          "output_type": "stream",
          "name": "stdout",
          "text": [
            "0 \n",
            "0 \n",
            "0 \n",
            "0 \n",
            "0 \n",
            "0 \n",
            "0 \n",
            "0 \n",
            "0 \n"
          ]
        }
      ],
      "source": [
        "#difference by changing indentation.\n",
        "\n",
        "ms = []\n",
        "for i in range(3):\n",
        "    l = []\n",
        "    for j in range(3):\n",
        "        l.append(0)\n",
        "    ms.append(l)\n",
        "for i in range(3):\n",
        "    for j in range(3):\n",
        "        y=print(ms[i][j],end = \" \")\n",
        "        print()"
      ]
    },
    {
      "cell_type": "code",
      "execution_count": 117,
      "metadata": {
        "colab": {
          "base_uri": "https://localhost:8080/"
        },
        "id": "CpVL8xUBdZTN",
        "outputId": "75d58e18-efe0-42eb-b904-1e5b9a78a749"
      },
      "outputs": [
        {
          "output_type": "stream",
          "name": "stdout",
          "text": [
            "0\n",
            "\n",
            "0\n",
            "\n",
            "0\n",
            "\n",
            "0\n",
            "\n",
            "0\n",
            "\n",
            "0\n",
            "\n",
            "0\n",
            "\n",
            "0\n",
            "\n",
            "0\n",
            "\n"
          ]
        }
      ],
      "source": [
        "ms = []\n",
        "for i in range(3):\n",
        "    l = []\n",
        "    for j in range(3):\n",
        "        l.append(0)\n",
        "    ms.append(l)\n",
        "for i in range(3):\n",
        "    for j in range(3):\n",
        "        y=print(ms[i][j])#witout using end =\" \"\n",
        "        print()"
      ]
    },
    {
      "cell_type": "code",
      "execution_count": 118,
      "metadata": {
        "colab": {
          "base_uri": "https://localhost:8080/"
        },
        "id": "0heyv7_3dZTN",
        "outputId": "ac744717-7117-41f4-a0e3-c6b7a3b4b131"
      },
      "outputs": [
        {
          "output_type": "stream",
          "name": "stdout",
          "text": [
            "0\n",
            "0\n",
            "0\n",
            "\n",
            "0\n",
            "0\n",
            "0\n",
            "\n",
            "0\n",
            "0\n",
            "0\n",
            "\n"
          ]
        }
      ],
      "source": [
        "ms = []\n",
        "for i in range(3):\n",
        "    l = []\n",
        "    for j in range(3):\n",
        "        l.append(0)\n",
        "    ms.append(l)\n",
        "for i in range(3):\n",
        "    for j in range(3):\n",
        "        y=print(ms[i][j])#without using end =\" \"\n",
        "    print()#and changing indentation"
      ]
    },
    {
      "cell_type": "code",
      "execution_count": 119,
      "metadata": {
        "colab": {
          "base_uri": "https://localhost:8080/"
        },
        "id": "Azf-HJx_dZTO",
        "outputId": "e5f4a830-8f37-4921-c92b-96d7e714d70d"
      },
      "outputs": [
        {
          "output_type": "stream",
          "name": "stdout",
          "text": [
            "0 0 0 \n",
            "0 0 0 \n",
            "0 0 0 \n"
          ]
        }
      ],
      "source": [
        "ms = []\n",
        "for i in range(3):\n",
        "    l = []\n",
        "    for j in range(3):\n",
        "        l.append(0)\n",
        "    ms.append(l)\n",
        "for i in range(3):\n",
        "    for j in range(3):\n",
        "        y=print(ms[i][j],end = \" \")\n",
        "    print()\n",
        "        "
      ]
    },
    {
      "cell_type": "code",
      "execution_count": 120,
      "metadata": {
        "id": "1h9677sKdZTO"
      },
      "outputs": [],
      "source": [
        "def mgcsqr(n):\n",
        "    ms = []\n",
        "    for i in range(n):\n",
        "        l=[]\n",
        "        for j in range(n):\n",
        "            l.append(0)\n",
        "        ms.append(l)\n",
        "    i = n//2\n",
        "    j = n-1\n",
        "    \n",
        "    num = n*n\n",
        "    count = 1\n",
        "    \n",
        "    while(count<=num):\n",
        "        if(i == -1 and j == n):\n",
        "            i = 0\n",
        "            j= n-2\n",
        "        else:\n",
        "            if i == -1:\n",
        "                i = n-1\n",
        "            if j == n:\n",
        "                j=0\n",
        "        if(ms[i][j] != 0):\n",
        "            j = j-2\n",
        "            i = i+1\n",
        "            continue\n",
        "        else:\n",
        "            ms[i][j]=count\n",
        "            count = count+1\n",
        "        i = i-1\n",
        "        j = j+1\n",
        "    for i in range(n):\n",
        "        for j in range(n):\n",
        "            print(ms[i][j], end=\" \")\n",
        "        print()\n",
        "    print(\"the sum of each row/column/diagonal is:\",(n*(n**2+1)/2))"
      ]
    },
    {
      "cell_type": "code",
      "execution_count": 121,
      "metadata": {
        "colab": {
          "base_uri": "https://localhost:8080/"
        },
        "id": "JPNiDGefdZTO",
        "outputId": "d08fa5c7-3116-4ca8-bf18-2bfc29aa415b"
      },
      "outputs": [
        {
          "output_type": "stream",
          "name": "stdout",
          "text": [
            "35 25 15 5 76 66 56 46 45 \n",
            "24 14 4 75 65 55 54 44 34 \n",
            "13 3 74 64 63 53 43 33 23 \n",
            "2 73 72 62 52 42 32 22 12 \n",
            "81 71 61 51 41 31 21 11 1 \n",
            "70 60 50 40 30 20 10 9 80 \n",
            "59 49 39 29 19 18 8 79 69 \n",
            "48 38 28 27 17 7 78 68 58 \n",
            "37 36 26 16 6 77 67 57 47 \n",
            "the sum of each row/column/diagonal is: 369.0\n"
          ]
        }
      ],
      "source": [
        "mgcsqr(9)"
      ]
    },
    {
      "cell_type": "code",
      "source": [],
      "metadata": {
        "id": "j8kt5ZC8eZnT"
      },
      "execution_count": 121,
      "outputs": []
    }
  ],
  "metadata": {
    "kernelspec": {
      "display_name": "Python 3 (ipykernel)",
      "language": "python",
      "name": "python3"
    },
    "language_info": {
      "codemirror_mode": {
        "name": "ipython",
        "version": 3
      },
      "file_extension": ".py",
      "mimetype": "text/x-python",
      "name": "python",
      "nbconvert_exporter": "python",
      "pygments_lexer": "ipython3",
      "version": "3.9.12"
    },
    "colab": {
      "provenance": [],
      "include_colab_link": true
    }
  },
  "nbformat": 4,
  "nbformat_minor": 0
}